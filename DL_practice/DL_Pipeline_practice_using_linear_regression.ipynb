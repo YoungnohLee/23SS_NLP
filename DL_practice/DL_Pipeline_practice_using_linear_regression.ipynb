{
  "nbformat": 4,
  "nbformat_minor": 0,
  "metadata": {
    "colab": {
      "provenance": [],
      "toc_visible": true
    },
    "kernelspec": {
      "name": "python3",
      "display_name": "Python 3"
    },
    "language_info": {
      "name": "python"
    },
    "widgets": {
      "application/vnd.jupyter.widget-state+json": {
        "f094fdaffc0d4bae93f81e71bc6e49d0": {
          "model_module": "@jupyter-widgets/controls",
          "model_name": "HBoxModel",
          "model_module_version": "1.5.0",
          "state": {
            "_dom_classes": [],
            "_model_module": "@jupyter-widgets/controls",
            "_model_module_version": "1.5.0",
            "_model_name": "HBoxModel",
            "_view_count": null,
            "_view_module": "@jupyter-widgets/controls",
            "_view_module_version": "1.5.0",
            "_view_name": "HBoxView",
            "box_style": "",
            "children": [
              "IPY_MODEL_9a4b8cb3a52243bbba6f517fe5a38ee0",
              "IPY_MODEL_8468bfa96acb45d385489f8ff357394c",
              "IPY_MODEL_cc90f4e312c5447196805b4ea99c31a0"
            ],
            "layout": "IPY_MODEL_d9b727e6861d4d81a559f5aaf9884ad0"
          }
        },
        "9a4b8cb3a52243bbba6f517fe5a38ee0": {
          "model_module": "@jupyter-widgets/controls",
          "model_name": "HTMLModel",
          "model_module_version": "1.5.0",
          "state": {
            "_dom_classes": [],
            "_model_module": "@jupyter-widgets/controls",
            "_model_module_version": "1.5.0",
            "_model_name": "HTMLModel",
            "_view_count": null,
            "_view_module": "@jupyter-widgets/controls",
            "_view_module_version": "1.5.0",
            "_view_name": "HTMLView",
            "description": "",
            "description_tooltip": null,
            "layout": "IPY_MODEL_5667e029599f4f41bbce2a7d98c968cb",
            "placeholder": "​",
            "style": "IPY_MODEL_515b99da01dc481aa7e8609d66333bee",
            "value": "100%"
          }
        },
        "8468bfa96acb45d385489f8ff357394c": {
          "model_module": "@jupyter-widgets/controls",
          "model_name": "FloatProgressModel",
          "model_module_version": "1.5.0",
          "state": {
            "_dom_classes": [],
            "_model_module": "@jupyter-widgets/controls",
            "_model_module_version": "1.5.0",
            "_model_name": "FloatProgressModel",
            "_view_count": null,
            "_view_module": "@jupyter-widgets/controls",
            "_view_module_version": "1.5.0",
            "_view_name": "ProgressView",
            "bar_style": "success",
            "description": "",
            "description_tooltip": null,
            "layout": "IPY_MODEL_26b3cd02c986461285b999096e028147",
            "max": 9912422,
            "min": 0,
            "orientation": "horizontal",
            "style": "IPY_MODEL_52491be4f5034fa4a1ffe2c19fe4e664",
            "value": 9912422
          }
        },
        "cc90f4e312c5447196805b4ea99c31a0": {
          "model_module": "@jupyter-widgets/controls",
          "model_name": "HTMLModel",
          "model_module_version": "1.5.0",
          "state": {
            "_dom_classes": [],
            "_model_module": "@jupyter-widgets/controls",
            "_model_module_version": "1.5.0",
            "_model_name": "HTMLModel",
            "_view_count": null,
            "_view_module": "@jupyter-widgets/controls",
            "_view_module_version": "1.5.0",
            "_view_name": "HTMLView",
            "description": "",
            "description_tooltip": null,
            "layout": "IPY_MODEL_7a15a9f75b684c1bac651193bc13fa99",
            "placeholder": "​",
            "style": "IPY_MODEL_3527680c071c42ae9d09356706ed3711",
            "value": " 9912422/9912422 [00:00&lt;00:00, 36042686.06it/s]"
          }
        },
        "d9b727e6861d4d81a559f5aaf9884ad0": {
          "model_module": "@jupyter-widgets/base",
          "model_name": "LayoutModel",
          "model_module_version": "1.2.0",
          "state": {
            "_model_module": "@jupyter-widgets/base",
            "_model_module_version": "1.2.0",
            "_model_name": "LayoutModel",
            "_view_count": null,
            "_view_module": "@jupyter-widgets/base",
            "_view_module_version": "1.2.0",
            "_view_name": "LayoutView",
            "align_content": null,
            "align_items": null,
            "align_self": null,
            "border": null,
            "bottom": null,
            "display": null,
            "flex": null,
            "flex_flow": null,
            "grid_area": null,
            "grid_auto_columns": null,
            "grid_auto_flow": null,
            "grid_auto_rows": null,
            "grid_column": null,
            "grid_gap": null,
            "grid_row": null,
            "grid_template_areas": null,
            "grid_template_columns": null,
            "grid_template_rows": null,
            "height": null,
            "justify_content": null,
            "justify_items": null,
            "left": null,
            "margin": null,
            "max_height": null,
            "max_width": null,
            "min_height": null,
            "min_width": null,
            "object_fit": null,
            "object_position": null,
            "order": null,
            "overflow": null,
            "overflow_x": null,
            "overflow_y": null,
            "padding": null,
            "right": null,
            "top": null,
            "visibility": null,
            "width": null
          }
        },
        "5667e029599f4f41bbce2a7d98c968cb": {
          "model_module": "@jupyter-widgets/base",
          "model_name": "LayoutModel",
          "model_module_version": "1.2.0",
          "state": {
            "_model_module": "@jupyter-widgets/base",
            "_model_module_version": "1.2.0",
            "_model_name": "LayoutModel",
            "_view_count": null,
            "_view_module": "@jupyter-widgets/base",
            "_view_module_version": "1.2.0",
            "_view_name": "LayoutView",
            "align_content": null,
            "align_items": null,
            "align_self": null,
            "border": null,
            "bottom": null,
            "display": null,
            "flex": null,
            "flex_flow": null,
            "grid_area": null,
            "grid_auto_columns": null,
            "grid_auto_flow": null,
            "grid_auto_rows": null,
            "grid_column": null,
            "grid_gap": null,
            "grid_row": null,
            "grid_template_areas": null,
            "grid_template_columns": null,
            "grid_template_rows": null,
            "height": null,
            "justify_content": null,
            "justify_items": null,
            "left": null,
            "margin": null,
            "max_height": null,
            "max_width": null,
            "min_height": null,
            "min_width": null,
            "object_fit": null,
            "object_position": null,
            "order": null,
            "overflow": null,
            "overflow_x": null,
            "overflow_y": null,
            "padding": null,
            "right": null,
            "top": null,
            "visibility": null,
            "width": null
          }
        },
        "515b99da01dc481aa7e8609d66333bee": {
          "model_module": "@jupyter-widgets/controls",
          "model_name": "DescriptionStyleModel",
          "model_module_version": "1.5.0",
          "state": {
            "_model_module": "@jupyter-widgets/controls",
            "_model_module_version": "1.5.0",
            "_model_name": "DescriptionStyleModel",
            "_view_count": null,
            "_view_module": "@jupyter-widgets/base",
            "_view_module_version": "1.2.0",
            "_view_name": "StyleView",
            "description_width": ""
          }
        },
        "26b3cd02c986461285b999096e028147": {
          "model_module": "@jupyter-widgets/base",
          "model_name": "LayoutModel",
          "model_module_version": "1.2.0",
          "state": {
            "_model_module": "@jupyter-widgets/base",
            "_model_module_version": "1.2.0",
            "_model_name": "LayoutModel",
            "_view_count": null,
            "_view_module": "@jupyter-widgets/base",
            "_view_module_version": "1.2.0",
            "_view_name": "LayoutView",
            "align_content": null,
            "align_items": null,
            "align_self": null,
            "border": null,
            "bottom": null,
            "display": null,
            "flex": null,
            "flex_flow": null,
            "grid_area": null,
            "grid_auto_columns": null,
            "grid_auto_flow": null,
            "grid_auto_rows": null,
            "grid_column": null,
            "grid_gap": null,
            "grid_row": null,
            "grid_template_areas": null,
            "grid_template_columns": null,
            "grid_template_rows": null,
            "height": null,
            "justify_content": null,
            "justify_items": null,
            "left": null,
            "margin": null,
            "max_height": null,
            "max_width": null,
            "min_height": null,
            "min_width": null,
            "object_fit": null,
            "object_position": null,
            "order": null,
            "overflow": null,
            "overflow_x": null,
            "overflow_y": null,
            "padding": null,
            "right": null,
            "top": null,
            "visibility": null,
            "width": null
          }
        },
        "52491be4f5034fa4a1ffe2c19fe4e664": {
          "model_module": "@jupyter-widgets/controls",
          "model_name": "ProgressStyleModel",
          "model_module_version": "1.5.0",
          "state": {
            "_model_module": "@jupyter-widgets/controls",
            "_model_module_version": "1.5.0",
            "_model_name": "ProgressStyleModel",
            "_view_count": null,
            "_view_module": "@jupyter-widgets/base",
            "_view_module_version": "1.2.0",
            "_view_name": "StyleView",
            "bar_color": null,
            "description_width": ""
          }
        },
        "7a15a9f75b684c1bac651193bc13fa99": {
          "model_module": "@jupyter-widgets/base",
          "model_name": "LayoutModel",
          "model_module_version": "1.2.0",
          "state": {
            "_model_module": "@jupyter-widgets/base",
            "_model_module_version": "1.2.0",
            "_model_name": "LayoutModel",
            "_view_count": null,
            "_view_module": "@jupyter-widgets/base",
            "_view_module_version": "1.2.0",
            "_view_name": "LayoutView",
            "align_content": null,
            "align_items": null,
            "align_self": null,
            "border": null,
            "bottom": null,
            "display": null,
            "flex": null,
            "flex_flow": null,
            "grid_area": null,
            "grid_auto_columns": null,
            "grid_auto_flow": null,
            "grid_auto_rows": null,
            "grid_column": null,
            "grid_gap": null,
            "grid_row": null,
            "grid_template_areas": null,
            "grid_template_columns": null,
            "grid_template_rows": null,
            "height": null,
            "justify_content": null,
            "justify_items": null,
            "left": null,
            "margin": null,
            "max_height": null,
            "max_width": null,
            "min_height": null,
            "min_width": null,
            "object_fit": null,
            "object_position": null,
            "order": null,
            "overflow": null,
            "overflow_x": null,
            "overflow_y": null,
            "padding": null,
            "right": null,
            "top": null,
            "visibility": null,
            "width": null
          }
        },
        "3527680c071c42ae9d09356706ed3711": {
          "model_module": "@jupyter-widgets/controls",
          "model_name": "DescriptionStyleModel",
          "model_module_version": "1.5.0",
          "state": {
            "_model_module": "@jupyter-widgets/controls",
            "_model_module_version": "1.5.0",
            "_model_name": "DescriptionStyleModel",
            "_view_count": null,
            "_view_module": "@jupyter-widgets/base",
            "_view_module_version": "1.2.0",
            "_view_name": "StyleView",
            "description_width": ""
          }
        },
        "95dea5b19d2b4dc8a044697ed33b6394": {
          "model_module": "@jupyter-widgets/controls",
          "model_name": "HBoxModel",
          "model_module_version": "1.5.0",
          "state": {
            "_dom_classes": [],
            "_model_module": "@jupyter-widgets/controls",
            "_model_module_version": "1.5.0",
            "_model_name": "HBoxModel",
            "_view_count": null,
            "_view_module": "@jupyter-widgets/controls",
            "_view_module_version": "1.5.0",
            "_view_name": "HBoxView",
            "box_style": "",
            "children": [
              "IPY_MODEL_0b67afce8b9541bba745657fa5950a07",
              "IPY_MODEL_d30f2ff212dc41a0ad902e341d2ff41c",
              "IPY_MODEL_9de7468ab883455891aedab3175223bf"
            ],
            "layout": "IPY_MODEL_784a0dd083ff4c57a4778214f020e4a5"
          }
        },
        "0b67afce8b9541bba745657fa5950a07": {
          "model_module": "@jupyter-widgets/controls",
          "model_name": "HTMLModel",
          "model_module_version": "1.5.0",
          "state": {
            "_dom_classes": [],
            "_model_module": "@jupyter-widgets/controls",
            "_model_module_version": "1.5.0",
            "_model_name": "HTMLModel",
            "_view_count": null,
            "_view_module": "@jupyter-widgets/controls",
            "_view_module_version": "1.5.0",
            "_view_name": "HTMLView",
            "description": "",
            "description_tooltip": null,
            "layout": "IPY_MODEL_6743219d4b71462daf18e83a73007cb2",
            "placeholder": "​",
            "style": "IPY_MODEL_e0bb9aa7fba54f95a0c3adaebf6c07a3",
            "value": "100%"
          }
        },
        "d30f2ff212dc41a0ad902e341d2ff41c": {
          "model_module": "@jupyter-widgets/controls",
          "model_name": "FloatProgressModel",
          "model_module_version": "1.5.0",
          "state": {
            "_dom_classes": [],
            "_model_module": "@jupyter-widgets/controls",
            "_model_module_version": "1.5.0",
            "_model_name": "FloatProgressModel",
            "_view_count": null,
            "_view_module": "@jupyter-widgets/controls",
            "_view_module_version": "1.5.0",
            "_view_name": "ProgressView",
            "bar_style": "success",
            "description": "",
            "description_tooltip": null,
            "layout": "IPY_MODEL_ee53d56b42794e5db49f3bb25aab4aff",
            "max": 28881,
            "min": 0,
            "orientation": "horizontal",
            "style": "IPY_MODEL_aa9e3c895dae46dd9e30f0c238372508",
            "value": 28881
          }
        },
        "9de7468ab883455891aedab3175223bf": {
          "model_module": "@jupyter-widgets/controls",
          "model_name": "HTMLModel",
          "model_module_version": "1.5.0",
          "state": {
            "_dom_classes": [],
            "_model_module": "@jupyter-widgets/controls",
            "_model_module_version": "1.5.0",
            "_model_name": "HTMLModel",
            "_view_count": null,
            "_view_module": "@jupyter-widgets/controls",
            "_view_module_version": "1.5.0",
            "_view_name": "HTMLView",
            "description": "",
            "description_tooltip": null,
            "layout": "IPY_MODEL_cbd7d21d322f49499691e75f771d8372",
            "placeholder": "​",
            "style": "IPY_MODEL_938976b8d7ad4fd1a0a75a0058ef5359",
            "value": " 28881/28881 [00:00&lt;00:00, 1361656.59it/s]"
          }
        },
        "784a0dd083ff4c57a4778214f020e4a5": {
          "model_module": "@jupyter-widgets/base",
          "model_name": "LayoutModel",
          "model_module_version": "1.2.0",
          "state": {
            "_model_module": "@jupyter-widgets/base",
            "_model_module_version": "1.2.0",
            "_model_name": "LayoutModel",
            "_view_count": null,
            "_view_module": "@jupyter-widgets/base",
            "_view_module_version": "1.2.0",
            "_view_name": "LayoutView",
            "align_content": null,
            "align_items": null,
            "align_self": null,
            "border": null,
            "bottom": null,
            "display": null,
            "flex": null,
            "flex_flow": null,
            "grid_area": null,
            "grid_auto_columns": null,
            "grid_auto_flow": null,
            "grid_auto_rows": null,
            "grid_column": null,
            "grid_gap": null,
            "grid_row": null,
            "grid_template_areas": null,
            "grid_template_columns": null,
            "grid_template_rows": null,
            "height": null,
            "justify_content": null,
            "justify_items": null,
            "left": null,
            "margin": null,
            "max_height": null,
            "max_width": null,
            "min_height": null,
            "min_width": null,
            "object_fit": null,
            "object_position": null,
            "order": null,
            "overflow": null,
            "overflow_x": null,
            "overflow_y": null,
            "padding": null,
            "right": null,
            "top": null,
            "visibility": null,
            "width": null
          }
        },
        "6743219d4b71462daf18e83a73007cb2": {
          "model_module": "@jupyter-widgets/base",
          "model_name": "LayoutModel",
          "model_module_version": "1.2.0",
          "state": {
            "_model_module": "@jupyter-widgets/base",
            "_model_module_version": "1.2.0",
            "_model_name": "LayoutModel",
            "_view_count": null,
            "_view_module": "@jupyter-widgets/base",
            "_view_module_version": "1.2.0",
            "_view_name": "LayoutView",
            "align_content": null,
            "align_items": null,
            "align_self": null,
            "border": null,
            "bottom": null,
            "display": null,
            "flex": null,
            "flex_flow": null,
            "grid_area": null,
            "grid_auto_columns": null,
            "grid_auto_flow": null,
            "grid_auto_rows": null,
            "grid_column": null,
            "grid_gap": null,
            "grid_row": null,
            "grid_template_areas": null,
            "grid_template_columns": null,
            "grid_template_rows": null,
            "height": null,
            "justify_content": null,
            "justify_items": null,
            "left": null,
            "margin": null,
            "max_height": null,
            "max_width": null,
            "min_height": null,
            "min_width": null,
            "object_fit": null,
            "object_position": null,
            "order": null,
            "overflow": null,
            "overflow_x": null,
            "overflow_y": null,
            "padding": null,
            "right": null,
            "top": null,
            "visibility": null,
            "width": null
          }
        },
        "e0bb9aa7fba54f95a0c3adaebf6c07a3": {
          "model_module": "@jupyter-widgets/controls",
          "model_name": "DescriptionStyleModel",
          "model_module_version": "1.5.0",
          "state": {
            "_model_module": "@jupyter-widgets/controls",
            "_model_module_version": "1.5.0",
            "_model_name": "DescriptionStyleModel",
            "_view_count": null,
            "_view_module": "@jupyter-widgets/base",
            "_view_module_version": "1.2.0",
            "_view_name": "StyleView",
            "description_width": ""
          }
        },
        "ee53d56b42794e5db49f3bb25aab4aff": {
          "model_module": "@jupyter-widgets/base",
          "model_name": "LayoutModel",
          "model_module_version": "1.2.0",
          "state": {
            "_model_module": "@jupyter-widgets/base",
            "_model_module_version": "1.2.0",
            "_model_name": "LayoutModel",
            "_view_count": null,
            "_view_module": "@jupyter-widgets/base",
            "_view_module_version": "1.2.0",
            "_view_name": "LayoutView",
            "align_content": null,
            "align_items": null,
            "align_self": null,
            "border": null,
            "bottom": null,
            "display": null,
            "flex": null,
            "flex_flow": null,
            "grid_area": null,
            "grid_auto_columns": null,
            "grid_auto_flow": null,
            "grid_auto_rows": null,
            "grid_column": null,
            "grid_gap": null,
            "grid_row": null,
            "grid_template_areas": null,
            "grid_template_columns": null,
            "grid_template_rows": null,
            "height": null,
            "justify_content": null,
            "justify_items": null,
            "left": null,
            "margin": null,
            "max_height": null,
            "max_width": null,
            "min_height": null,
            "min_width": null,
            "object_fit": null,
            "object_position": null,
            "order": null,
            "overflow": null,
            "overflow_x": null,
            "overflow_y": null,
            "padding": null,
            "right": null,
            "top": null,
            "visibility": null,
            "width": null
          }
        },
        "aa9e3c895dae46dd9e30f0c238372508": {
          "model_module": "@jupyter-widgets/controls",
          "model_name": "ProgressStyleModel",
          "model_module_version": "1.5.0",
          "state": {
            "_model_module": "@jupyter-widgets/controls",
            "_model_module_version": "1.5.0",
            "_model_name": "ProgressStyleModel",
            "_view_count": null,
            "_view_module": "@jupyter-widgets/base",
            "_view_module_version": "1.2.0",
            "_view_name": "StyleView",
            "bar_color": null,
            "description_width": ""
          }
        },
        "cbd7d21d322f49499691e75f771d8372": {
          "model_module": "@jupyter-widgets/base",
          "model_name": "LayoutModel",
          "model_module_version": "1.2.0",
          "state": {
            "_model_module": "@jupyter-widgets/base",
            "_model_module_version": "1.2.0",
            "_model_name": "LayoutModel",
            "_view_count": null,
            "_view_module": "@jupyter-widgets/base",
            "_view_module_version": "1.2.0",
            "_view_name": "LayoutView",
            "align_content": null,
            "align_items": null,
            "align_self": null,
            "border": null,
            "bottom": null,
            "display": null,
            "flex": null,
            "flex_flow": null,
            "grid_area": null,
            "grid_auto_columns": null,
            "grid_auto_flow": null,
            "grid_auto_rows": null,
            "grid_column": null,
            "grid_gap": null,
            "grid_row": null,
            "grid_template_areas": null,
            "grid_template_columns": null,
            "grid_template_rows": null,
            "height": null,
            "justify_content": null,
            "justify_items": null,
            "left": null,
            "margin": null,
            "max_height": null,
            "max_width": null,
            "min_height": null,
            "min_width": null,
            "object_fit": null,
            "object_position": null,
            "order": null,
            "overflow": null,
            "overflow_x": null,
            "overflow_y": null,
            "padding": null,
            "right": null,
            "top": null,
            "visibility": null,
            "width": null
          }
        },
        "938976b8d7ad4fd1a0a75a0058ef5359": {
          "model_module": "@jupyter-widgets/controls",
          "model_name": "DescriptionStyleModel",
          "model_module_version": "1.5.0",
          "state": {
            "_model_module": "@jupyter-widgets/controls",
            "_model_module_version": "1.5.0",
            "_model_name": "DescriptionStyleModel",
            "_view_count": null,
            "_view_module": "@jupyter-widgets/base",
            "_view_module_version": "1.2.0",
            "_view_name": "StyleView",
            "description_width": ""
          }
        },
        "48d6638ef4f544b9a8f2d58106e78f02": {
          "model_module": "@jupyter-widgets/controls",
          "model_name": "HBoxModel",
          "model_module_version": "1.5.0",
          "state": {
            "_dom_classes": [],
            "_model_module": "@jupyter-widgets/controls",
            "_model_module_version": "1.5.0",
            "_model_name": "HBoxModel",
            "_view_count": null,
            "_view_module": "@jupyter-widgets/controls",
            "_view_module_version": "1.5.0",
            "_view_name": "HBoxView",
            "box_style": "",
            "children": [
              "IPY_MODEL_42c0fe7a019a4f9a8cd3650ed3dea336",
              "IPY_MODEL_1972144e684543a3b31abd067ffde996",
              "IPY_MODEL_bcb821542d834224ad5c66c1ca256a1a"
            ],
            "layout": "IPY_MODEL_9b92e42edf9a4ec6841dbe3a752f54d0"
          }
        },
        "42c0fe7a019a4f9a8cd3650ed3dea336": {
          "model_module": "@jupyter-widgets/controls",
          "model_name": "HTMLModel",
          "model_module_version": "1.5.0",
          "state": {
            "_dom_classes": [],
            "_model_module": "@jupyter-widgets/controls",
            "_model_module_version": "1.5.0",
            "_model_name": "HTMLModel",
            "_view_count": null,
            "_view_module": "@jupyter-widgets/controls",
            "_view_module_version": "1.5.0",
            "_view_name": "HTMLView",
            "description": "",
            "description_tooltip": null,
            "layout": "IPY_MODEL_6fc1ca13970d46cdbbd988e016cf7135",
            "placeholder": "​",
            "style": "IPY_MODEL_3dcc79bf58a84157b56229846d0a3874",
            "value": "100%"
          }
        },
        "1972144e684543a3b31abd067ffde996": {
          "model_module": "@jupyter-widgets/controls",
          "model_name": "FloatProgressModel",
          "model_module_version": "1.5.0",
          "state": {
            "_dom_classes": [],
            "_model_module": "@jupyter-widgets/controls",
            "_model_module_version": "1.5.0",
            "_model_name": "FloatProgressModel",
            "_view_count": null,
            "_view_module": "@jupyter-widgets/controls",
            "_view_module_version": "1.5.0",
            "_view_name": "ProgressView",
            "bar_style": "success",
            "description": "",
            "description_tooltip": null,
            "layout": "IPY_MODEL_65a6c1b3fdf54ea8bfa0be5242e0042b",
            "max": 1648877,
            "min": 0,
            "orientation": "horizontal",
            "style": "IPY_MODEL_09cbfbe0da5b4fd2833265f3b2b4ae48",
            "value": 1648877
          }
        },
        "bcb821542d834224ad5c66c1ca256a1a": {
          "model_module": "@jupyter-widgets/controls",
          "model_name": "HTMLModel",
          "model_module_version": "1.5.0",
          "state": {
            "_dom_classes": [],
            "_model_module": "@jupyter-widgets/controls",
            "_model_module_version": "1.5.0",
            "_model_name": "HTMLModel",
            "_view_count": null,
            "_view_module": "@jupyter-widgets/controls",
            "_view_module_version": "1.5.0",
            "_view_name": "HTMLView",
            "description": "",
            "description_tooltip": null,
            "layout": "IPY_MODEL_a20eeb7edc6f4b869f2ac7a541832da1",
            "placeholder": "​",
            "style": "IPY_MODEL_1bf05ecb92c344d88bc5acb193e3ceae",
            "value": " 1648877/1648877 [00:00&lt;00:00, 23181318.56it/s]"
          }
        },
        "9b92e42edf9a4ec6841dbe3a752f54d0": {
          "model_module": "@jupyter-widgets/base",
          "model_name": "LayoutModel",
          "model_module_version": "1.2.0",
          "state": {
            "_model_module": "@jupyter-widgets/base",
            "_model_module_version": "1.2.0",
            "_model_name": "LayoutModel",
            "_view_count": null,
            "_view_module": "@jupyter-widgets/base",
            "_view_module_version": "1.2.0",
            "_view_name": "LayoutView",
            "align_content": null,
            "align_items": null,
            "align_self": null,
            "border": null,
            "bottom": null,
            "display": null,
            "flex": null,
            "flex_flow": null,
            "grid_area": null,
            "grid_auto_columns": null,
            "grid_auto_flow": null,
            "grid_auto_rows": null,
            "grid_column": null,
            "grid_gap": null,
            "grid_row": null,
            "grid_template_areas": null,
            "grid_template_columns": null,
            "grid_template_rows": null,
            "height": null,
            "justify_content": null,
            "justify_items": null,
            "left": null,
            "margin": null,
            "max_height": null,
            "max_width": null,
            "min_height": null,
            "min_width": null,
            "object_fit": null,
            "object_position": null,
            "order": null,
            "overflow": null,
            "overflow_x": null,
            "overflow_y": null,
            "padding": null,
            "right": null,
            "top": null,
            "visibility": null,
            "width": null
          }
        },
        "6fc1ca13970d46cdbbd988e016cf7135": {
          "model_module": "@jupyter-widgets/base",
          "model_name": "LayoutModel",
          "model_module_version": "1.2.0",
          "state": {
            "_model_module": "@jupyter-widgets/base",
            "_model_module_version": "1.2.0",
            "_model_name": "LayoutModel",
            "_view_count": null,
            "_view_module": "@jupyter-widgets/base",
            "_view_module_version": "1.2.0",
            "_view_name": "LayoutView",
            "align_content": null,
            "align_items": null,
            "align_self": null,
            "border": null,
            "bottom": null,
            "display": null,
            "flex": null,
            "flex_flow": null,
            "grid_area": null,
            "grid_auto_columns": null,
            "grid_auto_flow": null,
            "grid_auto_rows": null,
            "grid_column": null,
            "grid_gap": null,
            "grid_row": null,
            "grid_template_areas": null,
            "grid_template_columns": null,
            "grid_template_rows": null,
            "height": null,
            "justify_content": null,
            "justify_items": null,
            "left": null,
            "margin": null,
            "max_height": null,
            "max_width": null,
            "min_height": null,
            "min_width": null,
            "object_fit": null,
            "object_position": null,
            "order": null,
            "overflow": null,
            "overflow_x": null,
            "overflow_y": null,
            "padding": null,
            "right": null,
            "top": null,
            "visibility": null,
            "width": null
          }
        },
        "3dcc79bf58a84157b56229846d0a3874": {
          "model_module": "@jupyter-widgets/controls",
          "model_name": "DescriptionStyleModel",
          "model_module_version": "1.5.0",
          "state": {
            "_model_module": "@jupyter-widgets/controls",
            "_model_module_version": "1.5.0",
            "_model_name": "DescriptionStyleModel",
            "_view_count": null,
            "_view_module": "@jupyter-widgets/base",
            "_view_module_version": "1.2.0",
            "_view_name": "StyleView",
            "description_width": ""
          }
        },
        "65a6c1b3fdf54ea8bfa0be5242e0042b": {
          "model_module": "@jupyter-widgets/base",
          "model_name": "LayoutModel",
          "model_module_version": "1.2.0",
          "state": {
            "_model_module": "@jupyter-widgets/base",
            "_model_module_version": "1.2.0",
            "_model_name": "LayoutModel",
            "_view_count": null,
            "_view_module": "@jupyter-widgets/base",
            "_view_module_version": "1.2.0",
            "_view_name": "LayoutView",
            "align_content": null,
            "align_items": null,
            "align_self": null,
            "border": null,
            "bottom": null,
            "display": null,
            "flex": null,
            "flex_flow": null,
            "grid_area": null,
            "grid_auto_columns": null,
            "grid_auto_flow": null,
            "grid_auto_rows": null,
            "grid_column": null,
            "grid_gap": null,
            "grid_row": null,
            "grid_template_areas": null,
            "grid_template_columns": null,
            "grid_template_rows": null,
            "height": null,
            "justify_content": null,
            "justify_items": null,
            "left": null,
            "margin": null,
            "max_height": null,
            "max_width": null,
            "min_height": null,
            "min_width": null,
            "object_fit": null,
            "object_position": null,
            "order": null,
            "overflow": null,
            "overflow_x": null,
            "overflow_y": null,
            "padding": null,
            "right": null,
            "top": null,
            "visibility": null,
            "width": null
          }
        },
        "09cbfbe0da5b4fd2833265f3b2b4ae48": {
          "model_module": "@jupyter-widgets/controls",
          "model_name": "ProgressStyleModel",
          "model_module_version": "1.5.0",
          "state": {
            "_model_module": "@jupyter-widgets/controls",
            "_model_module_version": "1.5.0",
            "_model_name": "ProgressStyleModel",
            "_view_count": null,
            "_view_module": "@jupyter-widgets/base",
            "_view_module_version": "1.2.0",
            "_view_name": "StyleView",
            "bar_color": null,
            "description_width": ""
          }
        },
        "a20eeb7edc6f4b869f2ac7a541832da1": {
          "model_module": "@jupyter-widgets/base",
          "model_name": "LayoutModel",
          "model_module_version": "1.2.0",
          "state": {
            "_model_module": "@jupyter-widgets/base",
            "_model_module_version": "1.2.0",
            "_model_name": "LayoutModel",
            "_view_count": null,
            "_view_module": "@jupyter-widgets/base",
            "_view_module_version": "1.2.0",
            "_view_name": "LayoutView",
            "align_content": null,
            "align_items": null,
            "align_self": null,
            "border": null,
            "bottom": null,
            "display": null,
            "flex": null,
            "flex_flow": null,
            "grid_area": null,
            "grid_auto_columns": null,
            "grid_auto_flow": null,
            "grid_auto_rows": null,
            "grid_column": null,
            "grid_gap": null,
            "grid_row": null,
            "grid_template_areas": null,
            "grid_template_columns": null,
            "grid_template_rows": null,
            "height": null,
            "justify_content": null,
            "justify_items": null,
            "left": null,
            "margin": null,
            "max_height": null,
            "max_width": null,
            "min_height": null,
            "min_width": null,
            "object_fit": null,
            "object_position": null,
            "order": null,
            "overflow": null,
            "overflow_x": null,
            "overflow_y": null,
            "padding": null,
            "right": null,
            "top": null,
            "visibility": null,
            "width": null
          }
        },
        "1bf05ecb92c344d88bc5acb193e3ceae": {
          "model_module": "@jupyter-widgets/controls",
          "model_name": "DescriptionStyleModel",
          "model_module_version": "1.5.0",
          "state": {
            "_model_module": "@jupyter-widgets/controls",
            "_model_module_version": "1.5.0",
            "_model_name": "DescriptionStyleModel",
            "_view_count": null,
            "_view_module": "@jupyter-widgets/base",
            "_view_module_version": "1.2.0",
            "_view_name": "StyleView",
            "description_width": ""
          }
        },
        "d1d2379f08674bd18a496ea471102c3e": {
          "model_module": "@jupyter-widgets/controls",
          "model_name": "HBoxModel",
          "model_module_version": "1.5.0",
          "state": {
            "_dom_classes": [],
            "_model_module": "@jupyter-widgets/controls",
            "_model_module_version": "1.5.0",
            "_model_name": "HBoxModel",
            "_view_count": null,
            "_view_module": "@jupyter-widgets/controls",
            "_view_module_version": "1.5.0",
            "_view_name": "HBoxView",
            "box_style": "",
            "children": [
              "IPY_MODEL_aff8f5fbbc05453d8e6979a7f33d8b71",
              "IPY_MODEL_29822bdd7aaf494b9ef587ba9c6ee562",
              "IPY_MODEL_8b35abed9ac74b749034a3062be99c45"
            ],
            "layout": "IPY_MODEL_4ecbd8b6d9944b5ab9f340a834ca729d"
          }
        },
        "aff8f5fbbc05453d8e6979a7f33d8b71": {
          "model_module": "@jupyter-widgets/controls",
          "model_name": "HTMLModel",
          "model_module_version": "1.5.0",
          "state": {
            "_dom_classes": [],
            "_model_module": "@jupyter-widgets/controls",
            "_model_module_version": "1.5.0",
            "_model_name": "HTMLModel",
            "_view_count": null,
            "_view_module": "@jupyter-widgets/controls",
            "_view_module_version": "1.5.0",
            "_view_name": "HTMLView",
            "description": "",
            "description_tooltip": null,
            "layout": "IPY_MODEL_1e3fa32d39a3467d894ea0357c11e314",
            "placeholder": "​",
            "style": "IPY_MODEL_dd7889e31fb84c638282c30caa287cf7",
            "value": "100%"
          }
        },
        "29822bdd7aaf494b9ef587ba9c6ee562": {
          "model_module": "@jupyter-widgets/controls",
          "model_name": "FloatProgressModel",
          "model_module_version": "1.5.0",
          "state": {
            "_dom_classes": [],
            "_model_module": "@jupyter-widgets/controls",
            "_model_module_version": "1.5.0",
            "_model_name": "FloatProgressModel",
            "_view_count": null,
            "_view_module": "@jupyter-widgets/controls",
            "_view_module_version": "1.5.0",
            "_view_name": "ProgressView",
            "bar_style": "success",
            "description": "",
            "description_tooltip": null,
            "layout": "IPY_MODEL_392ed9039aaa49b99064aaac8b178b1e",
            "max": 4542,
            "min": 0,
            "orientation": "horizontal",
            "style": "IPY_MODEL_24b1835b35a64e72bb5cf8597cd9e5cf",
            "value": 4542
          }
        },
        "8b35abed9ac74b749034a3062be99c45": {
          "model_module": "@jupyter-widgets/controls",
          "model_name": "HTMLModel",
          "model_module_version": "1.5.0",
          "state": {
            "_dom_classes": [],
            "_model_module": "@jupyter-widgets/controls",
            "_model_module_version": "1.5.0",
            "_model_name": "HTMLModel",
            "_view_count": null,
            "_view_module": "@jupyter-widgets/controls",
            "_view_module_version": "1.5.0",
            "_view_name": "HTMLView",
            "description": "",
            "description_tooltip": null,
            "layout": "IPY_MODEL_fac08611dcfe400285e5b6fab5368fcb",
            "placeholder": "​",
            "style": "IPY_MODEL_9535734050724a3c98fd834ac3659a0c",
            "value": " 4542/4542 [00:00&lt;00:00, 200415.85it/s]"
          }
        },
        "4ecbd8b6d9944b5ab9f340a834ca729d": {
          "model_module": "@jupyter-widgets/base",
          "model_name": "LayoutModel",
          "model_module_version": "1.2.0",
          "state": {
            "_model_module": "@jupyter-widgets/base",
            "_model_module_version": "1.2.0",
            "_model_name": "LayoutModel",
            "_view_count": null,
            "_view_module": "@jupyter-widgets/base",
            "_view_module_version": "1.2.0",
            "_view_name": "LayoutView",
            "align_content": null,
            "align_items": null,
            "align_self": null,
            "border": null,
            "bottom": null,
            "display": null,
            "flex": null,
            "flex_flow": null,
            "grid_area": null,
            "grid_auto_columns": null,
            "grid_auto_flow": null,
            "grid_auto_rows": null,
            "grid_column": null,
            "grid_gap": null,
            "grid_row": null,
            "grid_template_areas": null,
            "grid_template_columns": null,
            "grid_template_rows": null,
            "height": null,
            "justify_content": null,
            "justify_items": null,
            "left": null,
            "margin": null,
            "max_height": null,
            "max_width": null,
            "min_height": null,
            "min_width": null,
            "object_fit": null,
            "object_position": null,
            "order": null,
            "overflow": null,
            "overflow_x": null,
            "overflow_y": null,
            "padding": null,
            "right": null,
            "top": null,
            "visibility": null,
            "width": null
          }
        },
        "1e3fa32d39a3467d894ea0357c11e314": {
          "model_module": "@jupyter-widgets/base",
          "model_name": "LayoutModel",
          "model_module_version": "1.2.0",
          "state": {
            "_model_module": "@jupyter-widgets/base",
            "_model_module_version": "1.2.0",
            "_model_name": "LayoutModel",
            "_view_count": null,
            "_view_module": "@jupyter-widgets/base",
            "_view_module_version": "1.2.0",
            "_view_name": "LayoutView",
            "align_content": null,
            "align_items": null,
            "align_self": null,
            "border": null,
            "bottom": null,
            "display": null,
            "flex": null,
            "flex_flow": null,
            "grid_area": null,
            "grid_auto_columns": null,
            "grid_auto_flow": null,
            "grid_auto_rows": null,
            "grid_column": null,
            "grid_gap": null,
            "grid_row": null,
            "grid_template_areas": null,
            "grid_template_columns": null,
            "grid_template_rows": null,
            "height": null,
            "justify_content": null,
            "justify_items": null,
            "left": null,
            "margin": null,
            "max_height": null,
            "max_width": null,
            "min_height": null,
            "min_width": null,
            "object_fit": null,
            "object_position": null,
            "order": null,
            "overflow": null,
            "overflow_x": null,
            "overflow_y": null,
            "padding": null,
            "right": null,
            "top": null,
            "visibility": null,
            "width": null
          }
        },
        "dd7889e31fb84c638282c30caa287cf7": {
          "model_module": "@jupyter-widgets/controls",
          "model_name": "DescriptionStyleModel",
          "model_module_version": "1.5.0",
          "state": {
            "_model_module": "@jupyter-widgets/controls",
            "_model_module_version": "1.5.0",
            "_model_name": "DescriptionStyleModel",
            "_view_count": null,
            "_view_module": "@jupyter-widgets/base",
            "_view_module_version": "1.2.0",
            "_view_name": "StyleView",
            "description_width": ""
          }
        },
        "392ed9039aaa49b99064aaac8b178b1e": {
          "model_module": "@jupyter-widgets/base",
          "model_name": "LayoutModel",
          "model_module_version": "1.2.0",
          "state": {
            "_model_module": "@jupyter-widgets/base",
            "_model_module_version": "1.2.0",
            "_model_name": "LayoutModel",
            "_view_count": null,
            "_view_module": "@jupyter-widgets/base",
            "_view_module_version": "1.2.0",
            "_view_name": "LayoutView",
            "align_content": null,
            "align_items": null,
            "align_self": null,
            "border": null,
            "bottom": null,
            "display": null,
            "flex": null,
            "flex_flow": null,
            "grid_area": null,
            "grid_auto_columns": null,
            "grid_auto_flow": null,
            "grid_auto_rows": null,
            "grid_column": null,
            "grid_gap": null,
            "grid_row": null,
            "grid_template_areas": null,
            "grid_template_columns": null,
            "grid_template_rows": null,
            "height": null,
            "justify_content": null,
            "justify_items": null,
            "left": null,
            "margin": null,
            "max_height": null,
            "max_width": null,
            "min_height": null,
            "min_width": null,
            "object_fit": null,
            "object_position": null,
            "order": null,
            "overflow": null,
            "overflow_x": null,
            "overflow_y": null,
            "padding": null,
            "right": null,
            "top": null,
            "visibility": null,
            "width": null
          }
        },
        "24b1835b35a64e72bb5cf8597cd9e5cf": {
          "model_module": "@jupyter-widgets/controls",
          "model_name": "ProgressStyleModel",
          "model_module_version": "1.5.0",
          "state": {
            "_model_module": "@jupyter-widgets/controls",
            "_model_module_version": "1.5.0",
            "_model_name": "ProgressStyleModel",
            "_view_count": null,
            "_view_module": "@jupyter-widgets/base",
            "_view_module_version": "1.2.0",
            "_view_name": "StyleView",
            "bar_color": null,
            "description_width": ""
          }
        },
        "fac08611dcfe400285e5b6fab5368fcb": {
          "model_module": "@jupyter-widgets/base",
          "model_name": "LayoutModel",
          "model_module_version": "1.2.0",
          "state": {
            "_model_module": "@jupyter-widgets/base",
            "_model_module_version": "1.2.0",
            "_model_name": "LayoutModel",
            "_view_count": null,
            "_view_module": "@jupyter-widgets/base",
            "_view_module_version": "1.2.0",
            "_view_name": "LayoutView",
            "align_content": null,
            "align_items": null,
            "align_self": null,
            "border": null,
            "bottom": null,
            "display": null,
            "flex": null,
            "flex_flow": null,
            "grid_area": null,
            "grid_auto_columns": null,
            "grid_auto_flow": null,
            "grid_auto_rows": null,
            "grid_column": null,
            "grid_gap": null,
            "grid_row": null,
            "grid_template_areas": null,
            "grid_template_columns": null,
            "grid_template_rows": null,
            "height": null,
            "justify_content": null,
            "justify_items": null,
            "left": null,
            "margin": null,
            "max_height": null,
            "max_width": null,
            "min_height": null,
            "min_width": null,
            "object_fit": null,
            "object_position": null,
            "order": null,
            "overflow": null,
            "overflow_x": null,
            "overflow_y": null,
            "padding": null,
            "right": null,
            "top": null,
            "visibility": null,
            "width": null
          }
        },
        "9535734050724a3c98fd834ac3659a0c": {
          "model_module": "@jupyter-widgets/controls",
          "model_name": "DescriptionStyleModel",
          "model_module_version": "1.5.0",
          "state": {
            "_model_module": "@jupyter-widgets/controls",
            "_model_module_version": "1.5.0",
            "_model_name": "DescriptionStyleModel",
            "_view_count": null,
            "_view_module": "@jupyter-widgets/base",
            "_view_module_version": "1.2.0",
            "_view_name": "StyleView",
            "description_width": ""
          }
        }
      }
    }
  },
  "cells": [
    {
      "cell_type": "code",
      "execution_count": 3,
      "metadata": {
        "id": "heHwlZL5nxc7"
      },
      "outputs": [],
      "source": [
        "import torch\n",
        "import torch.nn as nn\n",
        "import numpy as np \n",
        "import matplotlib.pyplot as plt\n",
        "%matplotlib inline"
      ]
    },
    {
      "cell_type": "markdown",
      "source": [
        "# I. 간단한 선형회귀(딥러닝으로)"
      ],
      "metadata": {
        "id": "5iwYYnL2Dnci"
      }
    },
    {
      "cell_type": "markdown",
      "source": [
        "## building toy dataset"
      ],
      "metadata": {
        "id": "jn4-UsFmFbQz"
      }
    },
    {
      "cell_type": "code",
      "source": [
        "x_values = [i for i in range(11)] # 0~10\n",
        "\n",
        "# convert to numpy\n",
        "x_train = np.array(x_values, dtype = np.float32)\n",
        "print('shape of x_train: {}'.format(x_train.shape))\n",
        "\n",
        "# convert to 2-dimensional array\n",
        "x_train = x_train.reshape(-1,1) # -1 means all\n",
        "print(('shape of x_train: {}'.format(x_train.shape)))\n",
        "\n",
        "y_values = [2*i+1 for i in x_values]\n",
        "  # y_values = []\n",
        "  # for i in x_values:\n",
        "  #   result = 2*i+1\n",
        "  #   y_values.append(result)\n",
        "\n",
        "# convert to numpy\n",
        "y_train = np.array(y_values, dtype=np.float32)\n",
        "y_train = y_train.reshape(-1,1)"
      ],
      "metadata": {
        "colab": {
          "base_uri": "https://localhost:8080/"
        },
        "id": "_d6IY2ymFcp7",
        "outputId": "8d5f73f2-f91f-418f-a281-f9b01675f436"
      },
      "execution_count": 7,
      "outputs": [
        {
          "output_type": "stream",
          "name": "stdout",
          "text": [
            "shape of x_train: (11,)\n",
            "shape of x_train: (11, 1)\n"
          ]
        }
      ]
    },
    {
      "cell_type": "markdown",
      "source": [
        "## building class"
      ],
      "metadata": {
        "id": "HcDLy2J7GokF"
      }
    },
    {
      "cell_type": "code",
      "source": [
        "class LinearRegressionModel(nn.Module):\n",
        "  def __init__(self, input_dim, output_dim):\n",
        "    super(LinearRegressionModel, self).__init__() # 해당하는 클래스의 부모클래스를 상속받음.\n",
        "    self.linear = nn.Linear(input_dim, output_dim) # 메소드 생성\n",
        "\n",
        "  def forward(self, x):\n",
        "    out = self.linear(x)\n",
        "    return out"
      ],
      "metadata": {
        "id": "ZeRacFdBDmMM"
      },
      "execution_count": 9,
      "outputs": []
    },
    {
      "cell_type": "markdown",
      "source": [
        "### cf. `nn.Linear()`란"
      ],
      "metadata": {
        "id": "yCaZVXiZHjv9"
      }
    },
    {
      "cell_type": "markdown",
      "source": [
        "input(float32) 에 대해 y=Wx+b 형태의 선형변환을 수행하는 메소드 (affine transformation)\n",
        "\n",
        "y=Wx+b 형태이기 때문에, Weight와 Bias를 통해 변환하고, 역전파에서 해당 가중치들이 바뀌며 학습한다는 것으로 생각할 수 있다.\n",
        "\n",
        "(결국 딥러닝의 본질이, Weight를 update하면서, 수많은 선형변환을 통해 최적의 gradient를 계산하는 과정이기 때문)"
      ],
      "metadata": {
        "id": "8_K2lnfDHpjr"
      }
    },
    {
      "cell_type": "markdown",
      "source": [
        "## LOSS/Optimizer"
      ],
      "metadata": {
        "id": "C_zWDH8bIZJt"
      }
    },
    {
      "cell_type": "code",
      "source": [
        "input_dim = 1\n",
        "output_dim = 1\n",
        "\n",
        "# instantiate Model Class\n",
        "model = LinearRegressionModel(input_dim, output_dim)\n",
        "\n",
        "# MSE LOSS\n",
        "criterion = nn.MSELoss()\n",
        "\n",
        "# Optimizer\n",
        "learning_rate = 0.01\n",
        "optimizer = torch.optim.SGD(model.parameters(), lr=learning_rate)"
      ],
      "metadata": {
        "id": "RxGnUDLiIYeU"
      },
      "execution_count": 10,
      "outputs": []
    },
    {
      "cell_type": "markdown",
      "source": [
        "## Train\n",
        "\n",
        "1 epoch : 모든 x_train을 거친 횟수\n"
      ],
      "metadata": {
        "id": "hzQdRMpQIgUN"
      }
    },
    {
      "cell_type": "code",
      "source": [
        "epochs = 100\n",
        "\n",
        "for epoch in range(epochs):\n",
        "  epoch += 1\n",
        "  # convert numpy array into torch\n",
        "  inputs = torch.from_numpy(x_train).requires_grad_()\n",
        "  labels = torch.from_numpy(y_train)\n",
        "\n",
        "  # make gradients zero (in order to prevent gradient stacking)\n",
        "  optimizer.zero_grad()\n",
        "\n",
        "  # forward pass\n",
        "  outputs = model(inputs)\n",
        "\n",
        "  # LOSS\n",
        "  loss = criterion(outputs,labels)\n",
        "\n",
        "  # getting gradients of parameters\n",
        "  loss.backward()\n",
        "\n",
        "  # update parameters\n",
        "  optimizer.step()\n",
        "  \n",
        "  print('epoch {}, loss{}'.format(epoch , loss.item()))"
      ],
      "metadata": {
        "colab": {
          "base_uri": "https://localhost:8080/"
        },
        "id": "nnSJDU9oI-nt",
        "outputId": "54bf97aa-6377-47d6-f5e0-f4b0a1d4234e"
      },
      "execution_count": 13,
      "outputs": [
        {
          "output_type": "stream",
          "name": "stdout",
          "text": [
            "epoch 1, loss3.54039111698512e-05\n",
            "epoch 2, loss3.500924867694266e-05\n",
            "epoch 3, loss3.4615546610439196e-05\n",
            "epoch 4, loss3.4232285543112084e-05\n",
            "epoch 5, loss3.384977753739804e-05\n",
            "epoch 6, loss3.347042002133094e-05\n",
            "epoch 7, loss3.3098669518949464e-05\n",
            "epoch 8, loss3.27288726111874e-05\n",
            "epoch 9, loss3.2365289371227846e-05\n",
            "epoch 10, loss3.2000440114643425e-05\n",
            "epoch 11, loss3.164265945088118e-05\n",
            "epoch 12, loss3.129204560536891e-05\n",
            "epoch 13, loss3.093955820077099e-05\n",
            "epoch 14, loss3.059503069380298e-05\n",
            "epoch 15, loss3.0253448130679317e-05\n",
            "epoch 16, loss2.991761539306026e-05\n",
            "epoch 17, loss2.9584347430500202e-05\n",
            "epoch 18, loss2.9251496016513556e-05\n",
            "epoch 19, loss2.8925582228112034e-05\n",
            "epoch 20, loss2.8604250474018045e-05\n",
            "epoch 21, loss2.8282434868742712e-05\n",
            "epoch 22, loss2.796609805955086e-05\n",
            "epoch 23, loss2.7654670702759176e-05\n",
            "epoch 24, loss2.734614463406615e-05\n",
            "epoch 25, loss2.7040414352086373e-05\n",
            "epoch 26, loss2.6738696760730818e-05\n",
            "epoch 27, loss2.6439256544108503e-05\n",
            "epoch 28, loss2.6145555239054374e-05\n",
            "epoch 29, loss2.5852006729110144e-05\n",
            "epoch 30, loss2.556322760938201e-05\n",
            "epoch 31, loss2.5278073735535145e-05\n",
            "epoch 32, loss2.4996967113111168e-05\n",
            "epoch 33, loss2.4718026907066815e-05\n",
            "epoch 34, loss2.4440192646579817e-05\n",
            "epoch 35, loss2.416739698674064e-05\n",
            "epoch 36, loss2.3896252969279885e-05\n",
            "epoch 37, loss2.3630533178220503e-05\n",
            "epoch 38, loss2.3367878384306096e-05\n",
            "epoch 39, loss2.3105567379388958e-05\n",
            "epoch 40, loss2.284807851538062e-05\n",
            "epoch 41, loss2.259329630760476e-05\n",
            "epoch 42, loss2.2340642317431048e-05\n",
            "epoch 43, loss2.2090989659773186e-05\n",
            "epoch 44, loss2.1844321963726543e-05\n",
            "epoch 45, loss2.1601510525215417e-05\n",
            "epoch 46, loss2.1360065147746354e-05\n",
            "epoch 47, loss2.112213769578375e-05\n",
            "epoch 48, loss2.08853161893785e-05\n",
            "epoch 49, loss2.065250009763986e-05\n",
            "epoch 50, loss2.0420753571670502e-05\n",
            "epoch 51, loss2.0194302123854868e-05\n",
            "epoch 52, loss1.9965993487858213e-05\n",
            "epoch 53, loss1.97444260265911e-05\n",
            "epoch 54, loss1.9524171875673346e-05\n",
            "epoch 55, loss1.9307301045046188e-05\n",
            "epoch 56, loss1.9092158254352398e-05\n",
            "epoch 57, loss1.8878619812312536e-05\n",
            "epoch 58, loss1.8667939002625644e-05\n",
            "epoch 59, loss1.845782571763266e-05\n",
            "epoch 60, loss1.8251801520818844e-05\n",
            "epoch 61, loss1.8046419427264482e-05\n",
            "epoch 62, loss1.7847534763859585e-05\n",
            "epoch 63, loss1.7647149434196763e-05\n",
            "epoch 64, loss1.74501292349305e-05\n",
            "epoch 65, loss1.7255775674129836e-05\n",
            "epoch 66, loss1.7063553968910128e-05\n",
            "epoch 67, loss1.6872179912752472e-05\n",
            "epoch 68, loss1.6683565263519995e-05\n",
            "epoch 69, loss1.64969424076844e-05\n",
            "epoch 70, loss1.631370651011821e-05\n",
            "epoch 71, loss1.613040512893349e-05\n",
            "epoch 72, loss1.595141293364577e-05\n",
            "epoch 73, loss1.5772613551234826e-05\n",
            "epoch 74, loss1.5596740922774188e-05\n",
            "epoch 75, loss1.5421772332047112e-05\n",
            "epoch 76, loss1.5250374417519197e-05\n",
            "epoch 77, loss1.50794476212468e-05\n",
            "epoch 78, loss1.4912207007000688e-05\n",
            "epoch 79, loss1.4745504813618027e-05\n",
            "epoch 80, loss1.4580787137674633e-05\n",
            "epoch 81, loss1.441775202692952e-05\n",
            "epoch 82, loss1.425654954800848e-05\n",
            "epoch 83, loss1.409774904459482e-05\n",
            "epoch 84, loss1.3939561540610157e-05\n",
            "epoch 85, loss1.3785242117592134e-05\n",
            "epoch 86, loss1.363006595056504e-05\n",
            "epoch 87, loss1.3477765605784953e-05\n",
            "epoch 88, loss1.3326732187124435e-05\n",
            "epoch 89, loss1.3179946108721197e-05\n",
            "epoch 90, loss1.303129829466343e-05\n",
            "epoch 91, loss1.288627117901342e-05\n",
            "epoch 92, loss1.2743256775138434e-05\n",
            "epoch 93, loss1.2601522030308843e-05\n",
            "epoch 94, loss1.2459527169994544e-05\n",
            "epoch 95, loss1.2319633242441341e-05\n",
            "epoch 96, loss1.218373654410243e-05\n",
            "epoch 97, loss1.204635736939963e-05\n",
            "epoch 98, loss1.1912373338418547e-05\n",
            "epoch 99, loss1.1779868145822547e-05\n",
            "epoch 100, loss1.1647664905467536e-05\n"
          ]
        }
      ]
    },
    {
      "cell_type": "markdown",
      "source": [
        "## Prediction"
      ],
      "metadata": {
        "id": "2QcCJt6UKfaZ"
      }
    },
    {
      "cell_type": "code",
      "source": [
        "predicted = model(torch.from_numpy(x_train).requires_grad_()).data.numpy()\n",
        "predicted"
      ],
      "metadata": {
        "colab": {
          "base_uri": "https://localhost:8080/"
        },
        "id": "_F66WnJkKeXr",
        "outputId": "c6c0390f-bc14-4282-98e8-1eca10f6f989"
      },
      "execution_count": 14,
      "outputs": [
        {
          "output_type": "execute_result",
          "data": {
            "text/plain": [
              "array([[ 1.0063486],\n",
              "       [ 3.0054345],\n",
              "       [ 5.0045204],\n",
              "       [ 7.003606 ],\n",
              "       [ 9.002691 ],\n",
              "       [11.001778 ],\n",
              "       [13.000863 ],\n",
              "       [14.999949 ],\n",
              "       [16.999035 ],\n",
              "       [18.99812  ],\n",
              "       [20.997208 ]], dtype=float32)"
            ]
          },
          "metadata": {},
          "execution_count": 14
        }
      ]
    },
    {
      "cell_type": "code",
      "source": [
        "plt.clf() # clear figure\n",
        "plt.plot(x_train, predicted, 'go', label = \"prediction\",alpha=0.8)\n",
        "plt.plot(x_train, y_train, '--', label = \"true\",alpha=0.5)\n",
        "plt.legend(loc='best')\n",
        "plt.show()"
      ],
      "metadata": {
        "colab": {
          "base_uri": "https://localhost:8080/",
          "height": 265
        },
        "id": "JhJVGTj3KzPA",
        "outputId": "2e538f70-d3a4-40c9-b8a3-6860caca35aa"
      },
      "execution_count": 18,
      "outputs": [
        {
          "output_type": "display_data",
          "data": {
            "text/plain": [
              "<Figure size 432x288 with 1 Axes>"
            ],
            "image/png": "[encoded data removed]"
          },
          "metadata": {
            "needs_background": "light"
          }
        }
      ]
    },
    {
      "cell_type": "markdown",
      "source": [
        "## Saving Model"
      ],
      "metadata": {
        "id": "TAF8WLSSLWJL"
      }
    },
    {
      "cell_type": "code",
      "source": [
        "save_model = False\n",
        "if save_model is True:\n",
        "  # saves only parameters\n",
        "  torch.save(model.state_dict(),'awesome_model.pkl')"
      ],
      "metadata": {
        "id": "DFtkOScdLVkh"
      },
      "execution_count": 20,
      "outputs": []
    },
    {
      "cell_type": "code",
      "source": [
        "load_model = False\n",
        "if load_model is True:\n",
        "  model.load_state_dict(torch.load('awesome_model.pkl'))"
      ],
      "metadata": {
        "id": "Pn3BvJz1LrgR"
      },
      "execution_count": 21,
      "outputs": []
    },
    {
      "cell_type": "markdown",
      "source": [
        "# II. 로지스틱 회귀"
      ],
      "metadata": {
        "id": "YqspVg60a_Wj"
      }
    },
    {
      "cell_type": "markdown",
      "source": [
        "## Loading dataset"
      ],
      "metadata": {
        "id": "kQNGIsuJcl6j"
      }
    },
    {
      "cell_type": "code",
      "source": [
        "import torch \n",
        "import torch.nn as nn\n",
        "import torchvision.transforms as transforms\n",
        "import torchvision.datasets as dsets\n",
        "\n",
        "train_dataset = dsets.MNIST(root ='./data',\n",
        "                            train = True,\n",
        "                            transform = transforms.ToTensor(),\n",
        "                            download=True)\n",
        "\n",
        "len(train_dataset)"
      ],
      "metadata": {
        "colab": {
          "base_uri": "https://localhost:8080/",
          "height": 457,
          "referenced_widgets": [
            "f094fdaffc0d4bae93f81e71bc6e49d0",
            "9a4b8cb3a52243bbba6f517fe5a38ee0",
            "8468bfa96acb45d385489f8ff357394c",
            "cc90f4e312c5447196805b4ea99c31a0",
            "d9b727e6861d4d81a559f5aaf9884ad0",
            "5667e029599f4f41bbce2a7d98c968cb",
            "515b99da01dc481aa7e8609d66333bee",
            "26b3cd02c986461285b999096e028147",
            "52491be4f5034fa4a1ffe2c19fe4e664",
            "7a15a9f75b684c1bac651193bc13fa99",
            "3527680c071c42ae9d09356706ed3711",
            "95dea5b19d2b4dc8a044697ed33b6394",
            "0b67afce8b9541bba745657fa5950a07",
            "d30f2ff212dc41a0ad902e341d2ff41c",
            "9de7468ab883455891aedab3175223bf",
            "784a0dd083ff4c57a4778214f020e4a5",
            "6743219d4b71462daf18e83a73007cb2",
            "e0bb9aa7fba54f95a0c3adaebf6c07a3",
            "ee53d56b42794e5db49f3bb25aab4aff",
            "aa9e3c895dae46dd9e30f0c238372508",
            "cbd7d21d322f49499691e75f771d8372",
            "938976b8d7ad4fd1a0a75a0058ef5359",
            "48d6638ef4f544b9a8f2d58106e78f02",
            "42c0fe7a019a4f9a8cd3650ed3dea336",
            "1972144e684543a3b31abd067ffde996",
            "bcb821542d834224ad5c66c1ca256a1a",
            "9b92e42edf9a4ec6841dbe3a752f54d0",
            "6fc1ca13970d46cdbbd988e016cf7135",
            "3dcc79bf58a84157b56229846d0a3874",
            "65a6c1b3fdf54ea8bfa0be5242e0042b",
            "09cbfbe0da5b4fd2833265f3b2b4ae48",
            "a20eeb7edc6f4b869f2ac7a541832da1",
            "1bf05ecb92c344d88bc5acb193e3ceae",
            "d1d2379f08674bd18a496ea471102c3e",
            "aff8f5fbbc05453d8e6979a7f33d8b71",
            "29822bdd7aaf494b9ef587ba9c6ee562",
            "8b35abed9ac74b749034a3062be99c45",
            "4ecbd8b6d9944b5ab9f340a834ca729d",
            "1e3fa32d39a3467d894ea0357c11e314",
            "dd7889e31fb84c638282c30caa287cf7",
            "392ed9039aaa49b99064aaac8b178b1e",
            "24b1835b35a64e72bb5cf8597cd9e5cf",
            "fac08611dcfe400285e5b6fab5368fcb",
            "9535734050724a3c98fd834ac3659a0c"
          ]
        },
        "id": "y3FidLvhbBF3",
        "outputId": "02c07152-3c96-4c76-f361-6341f9e3a7d0"
      },
      "execution_count": 22,
      "outputs": [
        {
          "output_type": "stream",
          "name": "stdout",
          "text": [
            "Downloading http://yann.lecun.com/exdb/mnist/train-images-idx3-ubyte.gz\n",
            "Downloading http://yann.lecun.com/exdb/mnist/train-images-idx3-ubyte.gz to ./data/MNIST/raw/train-images-idx3-ubyte.gz\n"
          ]
        },
        {
          "output_type": "display_data",
          "data": {
            "text/plain": [
              "  0%|          | 0/9912422 [00:00<?, ?it/s]"
            ],
            "application/vnd.jupyter.widget-view+json": {
              "version_major": 2,
              "version_minor": 0,
              "model_id": "f094fdaffc0d4bae93f81e71bc6e49d0"
            }
          },
          "metadata": {}
        },
        {
          "output_type": "stream",
          "name": "stdout",
          "text": [
            "Extracting ./data/MNIST/raw/train-images-idx3-ubyte.gz to ./data/MNIST/raw\n",
            "\n",
            "Downloading http://yann.lecun.com/exdb/mnist/train-labels-idx1-ubyte.gz\n",
            "Downloading http://yann.lecun.com/exdb/mnist/train-labels-idx1-ubyte.gz to ./data/MNIST/raw/train-labels-idx1-ubyte.gz\n"
          ]
        },
        {
          "output_type": "display_data",
          "data": {
            "text/plain": [
              "  0%|          | 0/28881 [00:00<?, ?it/s]"
            ],
            "application/vnd.jupyter.widget-view+json": {
              "version_major": 2,
              "version_minor": 0,
              "model_id": "95dea5b19d2b4dc8a044697ed33b6394"
            }
          },
          "metadata": {}
        },
        {
          "output_type": "stream",
          "name": "stdout",
          "text": [
            "Extracting ./data/MNIST/raw/train-labels-idx1-ubyte.gz to ./data/MNIST/raw\n",
            "\n",
            "Downloading http://yann.lecun.com/exdb/mnist/t10k-images-idx3-ubyte.gz\n",
            "Downloading http://yann.lecun.com/exdb/mnist/t10k-images-idx3-ubyte.gz to ./data/MNIST/raw/t10k-images-idx3-ubyte.gz\n"
          ]
        },
        {
          "output_type": "display_data",
          "data": {
            "text/plain": [
              "  0%|          | 0/1648877 [00:00<?, ?it/s]"
            ],
            "application/vnd.jupyter.widget-view+json": {
              "version_major": 2,
              "version_minor": 0,
              "model_id": "48d6638ef4f544b9a8f2d58106e78f02"
            }
          },
          "metadata": {}
        },
        {
          "output_type": "stream",
          "name": "stdout",
          "text": [
            "Extracting ./data/MNIST/raw/t10k-images-idx3-ubyte.gz to ./data/MNIST/raw\n",
            "\n",
            "Downloading http://yann.lecun.com/exdb/mnist/t10k-labels-idx1-ubyte.gz\n",
            "Downloading http://yann.lecun.com/exdb/mnist/t10k-labels-idx1-ubyte.gz to ./data/MNIST/raw/t10k-labels-idx1-ubyte.gz\n"
          ]
        },
        {
          "output_type": "display_data",
          "data": {
            "text/plain": [
              "  0%|          | 0/4542 [00:00<?, ?it/s]"
            ],
            "application/vnd.jupyter.widget-view+json": {
              "version_major": 2,
              "version_minor": 0,
              "model_id": "d1d2379f08674bd18a496ea471102c3e"
            }
          },
          "metadata": {}
        },
        {
          "output_type": "stream",
          "name": "stdout",
          "text": [
            "Extracting ./data/MNIST/raw/t10k-labels-idx1-ubyte.gz to ./data/MNIST/raw\n",
            "\n"
          ]
        },
        {
          "output_type": "execute_result",
          "data": {
            "text/plain": [
              "60000"
            ]
          },
          "metadata": {},
          "execution_count": 22
        }
      ]
    },
    {
      "cell_type": "code",
      "source": [
        "print(type(train_dataset[0]))\n",
        "print(train_dataset[0][0].size()) # matrix representation of 28x28 bit\n",
        "print(train_dataset[0][1]) #label\n",
        "train_dataset[0][0].numpy().shape # tensor는 size, numpy는 shape\n",
        "show_img = train_dataset[0][0].numpy().reshape(28,28)\n",
        "plt.imshow(show_img, cmap='gray')"
      ],
      "metadata": {
        "colab": {
          "base_uri": "https://localhost:8080/",
          "height": 338
        },
        "id": "xmDrikGWbgWJ",
        "outputId": "d3223218-b846-4cc2-f5c9-a48920136993"
      },
      "execution_count": 39,
      "outputs": [
        {
          "output_type": "stream",
          "name": "stdout",
          "text": [
            "<class 'tuple'>\n",
            "torch.Size([1, 28, 28])\n",
            "5\n"
          ]
        },
        {
          "output_type": "execute_result",
          "data": {
            "text/plain": [
              "<matplotlib.image.AxesImage at 0x7ff6a46658e0>"
            ]
          },
          "metadata": {},
          "execution_count": 39
        },
        {
          "output_type": "display_data",
          "data": {
            "text/plain": [
              "<Figure size 432x288 with 1 Axes>"
            ],
            "image/png": "[encoded data removed]"
          },
          "metadata": {
            "needs_background": "light"
          }
        }
      ]
    },
    {
      "cell_type": "code",
      "source": [
        "# loading test data\n",
        "test_dataset = dsets. MNIST(root='./data', \n",
        "                           train=False, \n",
        "                           transform=transforms.ToTensor())\n",
        "len(test_dataset)"
      ],
      "metadata": {
        "colab": {
          "base_uri": "https://localhost:8080/"
        },
        "id": "3dsbiTQHcn-b",
        "outputId": "624e080f-112a-4bff-fd8f-7a5a5cca5c41"
      },
      "execution_count": 41,
      "outputs": [
        {
          "output_type": "execute_result",
          "data": {
            "text/plain": [
              "10000"
            ]
          },
          "metadata": {},
          "execution_count": 41
        }
      ]
    },
    {
      "cell_type": "markdown",
      "source": [
        "## Make Datasets \"Iterable\"\n",
        "\n",
        "total data : 60000\n",
        "minibatch : 100\n",
        "epoch : 5\n",
        "\n",
        "iteration : total data / mini-batch x 5 = 600 x 5 = 3000\n"
      ],
      "metadata": {
        "id": "cnEShAPIc03d"
      }
    },
    {
      "cell_type": "code",
      "source": [
        "batch_size = 100\n",
        "n_iters = 3000\n",
        "num_epochs = n_iters / (len(train_dataset)/batch_size)\n",
        "num_epochs = int(num_epochs)\n"
      ],
      "metadata": {
        "id": "_d3fAb1Wf2Qr"
      },
      "execution_count": 42,
      "outputs": []
    },
    {
      "cell_type": "code",
      "source": [
        "# create Iterable Object\n",
        "train_loader = torch.utils.data.DataLoader(dataset = train_dataset,\n",
        "                                           batch_size = batch_size,\n",
        "                                           shuffle = True)"
      ],
      "metadata": {
        "id": "UROlfmy0hZ08"
      },
      "execution_count": 43,
      "outputs": []
    },
    {
      "cell_type": "code",
      "source": [
        "test_loader = torch.utils.data.DataLoader(dataset=test_dataset, \n",
        "                                          batch_size=batch_size, \n",
        "                                          shuffle=False)"
      ],
      "metadata": {
        "id": "pWbiq4aehw5M"
      },
      "execution_count": 45,
      "outputs": []
    },
    {
      "cell_type": "code",
      "source": [
        "# check Iterability\n",
        "import collections\n",
        "isinstance(train_loader, collections.Iterable)"
      ],
      "metadata": {
        "colab": {
          "base_uri": "https://localhost:8080/"
        },
        "id": "qtY8SQTphpYL",
        "outputId": "c4968910-eb1a-44dd-e0e3-cd58b0242b2e"
      },
      "execution_count": 46,
      "outputs": [
        {
          "output_type": "execute_result",
          "data": {
            "text/plain": [
              "True"
            ]
          },
          "metadata": {},
          "execution_count": 46
        }
      ]
    },
    {
      "cell_type": "code",
      "source": [
        "img_1 = np.ones((28,28))\n",
        "img_2 = np.ones((28,28))\n",
        "lst = [img_1, img_2]\n",
        "\n",
        "for i in lst:\n",
        "  print(i.shape)"
      ],
      "metadata": {
        "colab": {
          "base_uri": "https://localhost:8080/"
        },
        "id": "fFOFGopPh1zb",
        "outputId": "a89ec64b-0fde-4b9c-91f9-9ba9e0d57f6f"
      },
      "execution_count": 54,
      "outputs": [
        {
          "output_type": "stream",
          "name": "stdout",
          "text": [
            "(28, 28)\n",
            "(28, 28)\n"
          ]
        }
      ]
    },
    {
      "cell_type": "markdown",
      "source": [
        "## building class"
      ],
      "metadata": {
        "id": "Jfim0CEHiHvW"
      }
    },
    {
      "cell_type": "code",
      "source": [
        "class LogisticRegressionModel(nn.Module):\n",
        "  def __init__(self, input_dim, output_dim):\n",
        "    super(LogisticRegressionModel, self).__init__()\n",
        "    self.linear = nn.Linear(input_dim, output_dim)\n",
        "  \n",
        "  def forward(self, x):\n",
        "    out = self.linear(x)\n",
        "    return out"
      ],
      "metadata": {
        "id": "atgy2kPViK4j"
      },
      "execution_count": 55,
      "outputs": []
    },
    {
      "cell_type": "markdown",
      "source": [
        "## LOSS/Optimizer"
      ],
      "metadata": {
        "id": "hyurdH56ifXF"
      }
    },
    {
      "cell_type": "code",
      "source": [
        "# check the size of image\n",
        "train_dataset[0][0].size()"
      ],
      "metadata": {
        "colab": {
          "base_uri": "https://localhost:8080/"
        },
        "id": "GKJC1sWmih07",
        "outputId": "84bae2f3-f520-46a0-fe41-ddee75a87f35"
      },
      "execution_count": 56,
      "outputs": [
        {
          "output_type": "execute_result",
          "data": {
            "text/plain": [
              "torch.Size([1, 28, 28])"
            ]
          },
          "metadata": {},
          "execution_count": 56
        }
      ]
    },
    {
      "cell_type": "code",
      "source": [
        "# Instantiate model class based on input and output dimension\n",
        "input_dim = 28*28\n",
        "output_dim = 10 # 0~9 까지의 10개의 클래스로 분류하는 작업 할것임(목적)\n",
        "model = LogisticRegressionModel(input_dim, output_dim)\n",
        "\n",
        "criterion = nn.CrossEntropyLoss()\n",
        "\n",
        "learning_rate = 0.01\n",
        "optimizer = torch.optim.SGD(model.parameters(), lr=learning_rate)"
      ],
      "metadata": {
        "id": "0C8OUJzDinF8"
      },
      "execution_count": 57,
      "outputs": []
    },
    {
      "cell_type": "code",
      "source": [
        "# type of parameter object\n",
        "print(model.parameters())\n",
        "\n",
        "# length of parameters\n",
        "print(len(list(model.parameters())))\n",
        "\n",
        "# FC 1 Parameters \n",
        "print(list(model.parameters())[0].size())\n",
        "print('28*28*10 = 784 weigths of \"FULLY CONNETCTED LAYER\"')\n",
        "\n",
        "# FC 1 Bias Parameters\n",
        "print(list(model.parameters())[1].size())\n",
        "print('10*1 = 10 biases of \"FULLY CONNETCTED LAYER\"')"
      ],
      "metadata": {
        "colab": {
          "base_uri": "https://localhost:8080/"
        },
        "id": "KazHntx2jyV3",
        "outputId": "07edfbcf-1a60-439d-b2f9-592e4e2096ac"
      },
      "execution_count": 64,
      "outputs": [
        {
          "output_type": "stream",
          "name": "stdout",
          "text": [
            "<generator object Module.parameters at 0x7ff6a4754200>\n",
            "2\n",
            "torch.Size([10, 784])\n",
            "28*28*10 = 784 weigths of \"FULLY CONNETCTED LAYER\"\n",
            "torch.Size([10])\n",
            "10*1 = 10 biases of \"FULLY CONNETCTED LAYER\"\n"
          ]
        }
      ]
    },
    {
      "cell_type": "code",
      "source": [],
      "metadata": {
        "id": "74NWxd_9l1J4"
      },
      "execution_count": null,
      "outputs": []
    },
    {
      "cell_type": "markdown",
      "source": [
        "## Train"
      ],
      "metadata": {
        "id": "5ZbKPydykjKm"
      }
    },
    {
      "cell_type": "markdown",
      "source": [
        "https://tutorials.pytorch.kr/beginner/basics/data_tutorial.html\n",
        "\n",
        "아래의 각 iter는 (각각 batch_size=64 의 feature와 label을 포함하는) train_features 와 train_labels 의 **묶음(batch)을 반환합니다.**\n",
        "\n",
        "    출처: pytorch 공식 문서"
      ],
      "metadata": {
        "id": "MsrrWX-vllvO"
      }
    },
    {
      "cell_type": "markdown",
      "source": [
        "https://gaussian37.github.io/dl-pytorch-snippets/#optimizerstep%EC%9D%84-%ED%86%B5%ED%95%9C-%ED%8C%8C%EB%9D%BC%EB%AF%B8%ED%84%B0-%EC%97%85%EB%8D%B0%EC%9D%B4%ED%8A%B8%EC%99%80-lossbackward%EC%99%80%EC%9D%98-%EA%B4%80%EA%B3%84-1\n",
        "\n",
        "유용한 정보라서 핀 해둠. 꼭 두고두고 읽어보길\n",
        "\n",
        "![image.png](data:image/png;base64,iVBORw0KGgoAAAANSUhEUgAAA7MAAAGRCAYAAAC35eR7AAAgAElEQVR4nOy9f3Ab15Xn+1XsSJZ/yKWE8OBFUlkGMHg2nI1pcl4xiavadGw6VD0ns1momEduWTE5rTJUq8SenZAiWeTMvCGHpIi4MprVrJgyirTlN+CaRbzJD70SY0pjqqsUh1UGRHttyIMFsJqVNEEMjlWWYjtS4sH7oxtAd6Mb3Y3uxg/qfKpQJbH73r59f5y+595zzt2Uy+VyIAiCIAiCIAiCIIgG4jO1LgBBEARBEARBEARBGIWUWYIgCIIgCIIgCKLhIGWWIAiCIAiCIAiCaDhImSUIgiAIgiAIgiAaDlJmCYIgCIIgCIIgiIaDlFmCIAiCIAiCIAii4SBlliAIgiAIgiAIgmg4SJklCIIgCIIgCIIgGg5SZgmCIAiCIAiCIIiGg5RZgiAIgiAIgiAIouEgZZYgCIIgCIIgCIJoOEiZFZOJoI+NIFtR4nUssD5MRCt9uNn0Zqn187WwuXzRIFwVtz2hzhomvEHEAHPji9qHIAjD3MzyZxP9GvpH3DxYML+tqf5Se26tdQF0kYmgjxnFiuaNDKa4GXQ5jWS+hgnvMjoT/Wgpc1c2EkDbEFf8AxtGeqBZ/2OiQbi650R/6MWixjOtZQ0T3h6E8v9lxrAa8sNh09Ni0z7shcE6wjoWWAbJA3EMt9pRKrvzF947JPuj0b5y02J/+2hB7XcTEw3CdcxVIhdj0z4sPV6uT8pkqxo2y1zCLCR/iDqmYvkkvdd4/yL5Zhr5/N+yMa1PfylpQ0PP5+XiIKd1X7V1GimNsTPr9GM2EUeaG0M7erGYiCNd+IXBgsEUF0c6oaDIRoNweX2yn7BSqxNekXVLnruIHt0rtdlIAK5uSMs9D+z1BrCQ0VOCNUyUvIPCT608mQj6vD3AfPH5q3uW0WawHnSTieBoCEBo2Z786xGhny09Lu6bwu/xZbi8la16ZSOBYvtOr1lfbtOo9M2KVggvIckx8OywoZha3JTtJ9q1sonYtA99kXUbn2AUlXfORNCnMFEEgJYBDp5j5WR1M4blfUb+48bQzqVx0fL3sRql+uFX7etzZ5LkT+25Fd9zAZtct+PdmqS/CTAln4T0XmGDQda/FtEDV9m5aL3Lt0rlk/3fP0B5/q9bfxDazZx84xXZ4vyfw1Six8B3mZeLvI5V7lc7RRZoFGXWDK39sgoPg0UKSV1KJACs4cUhYIqTNlTLAIcpjOJFzQ/MOl4/WZoerf1YnQQGj+uZ4JoTJrHjo8AkJ1m5c/hnsMjO4ajVE01hF90zb1RhB+yfTNiUfzQI1+kOpBOi1dFMBBP5uhX6YOdp4xMSh3+GX3yYZCwtsnUo9M35XsDrNr5Cm0khCTc8hiwrLEDefuIFMDaC7IZuPwLgZaTngNquQhO6xjuwpEtWb0Sa0BWKI12Xuy4kf2rP7/G3aSCX/hgP1iT9xsecfFrHwgg/B1TajWsZiPNz0ZF6XKzSQz3LJ7P6A4CSDTxj75qNzCDEhkXz/yZ0jY8BQyMG5ub1z8ZXZs2i+oFrgscLJC9oKYOXkOQ4JC/bVD5N1pFMAJ7dTSVXWh7vxUrqkmVPik374BIU2eFW8Eoc14ElRudKkt2TiUwKSXBYOmuhAp+JoO90R8lHInZ8FEnZrS0DcXSeNqLcNybZCykg1CNMyHSYJ+XTnV3GCuawVM0Jm7z98qZcYgsGYUf1Zmm/m45MBEcTY9hfzkzP+Sg6EzPU9rawjgXWunHV0PInvwNXV/LnVnzPtRXfO1ft5zYKNtePWfmUOYMljkHnI6VzwDyORzrQzi3jdZJvCpiVT+r6Q6g7v9uqx4y3Etbx+kkO7OOyRQynHwfZWuol1kPKrBZONzyKO7nqSqKUZuyfZBDqlpkzRINoGwKm9tXYFyaRMr0aF5vmB2TehEXiuyGYiPNmzRpK7eW0Dr9oE+U8PgqwvcDQnLJpCTfKl9GASVfseBoHxYps3pxHZQbVMhBA0uIdnnz9q5mySq57S80+ta4bI78SKbaE0JuOA8v2InRMpY9U0D5ayNsvdjqFqfHiqqfDHwArGiMbsv3Epkzy8Vli5qRkliUz9bTSHFXX83kkJt2FMggmaGX6TfbsMrDnUY2V7iY8tgcqC2E63ECYUawwLuwy9vYK5Vc3jVN8f836064fLZTrHSiY8ZXrX5bT4PLn+DI6LZY/L30d2LRJ+H19i+jKFjy56U68dO527M5ft9LU96U7scm1lc/bdTvefelO658B4N0/3Vp8vzJ5671PjqT+NgG7/9RYqBn15+qrf/PyySx2yjdt1OWLHnTIT9vlk9ICGa8/sGLTX1uMt9StEXe5GR2bcXk4DDIVujlWi1wj8avFXO8fTueikj+ey/31Hz6be/VX5dI8kLtP8pvORd+clv4/f++fLObel2Xx/uKzxXsEoocfyN0nuTebe/VPHsj99Zsq5ZA874GS/Mqn56/dV/Iesp9C2fNl7V3Mavxdo/xVIHqYf498mfh6l75jxeV7c7pQ5+8vPltaV29Oq9afOtncq4vnVJ+nVOe5XC4XXTT6HKHMh0ufFT38gOTvWv/XSm+W0nKey/21xviSp1MsU0Xto4W8/bK5V/9EQb7IyrJx2u9c7q9lsqhkbPwqK3nXkucJ8lVtXMplDz+meXktvhY9nM9DJofKPb8gU5/NvbqoPN6UZJySLNclV96cVqlrjW+QCaT1LSu/jvfXaj+t+pHIYLVvo2p/Le1fkuuK32alb6N+Glv+KJdL3q765Q9yc08ihye35HI5KPx/S64DW3P33ndnbk64/s7zW4vXY7fn7gVyKPnJ7s///b7bc+8If8/lkMvN3Vm4d+7J/PVbc9+9b2vuuzEd6XO35r57n47nq73f3J3C/Vtz333+zty9z98qylvfT15/kp/e+qm0/vPtbVo+8eNabT6Sy6nMiQrYI9/0yP/y8kVbPpWVn8J79R4uprNDPpnSHxR0ntJ5cTn5pt520rotN/+37/tmJbbvzC5G/gF/9OVH8EdffgSLkX+w+3GlXE5jhRkrmO0UHJULvrTaK7cO/4zg/1lchdiLsDEb/RLfXSPO0oJPQDmf2fle1dQt+8aAIUaympyNBLA31IuDfq2d5WqxhqUQg6n5scLOad7f0PTKVTQIV3eq4Lfg8M8IO8VmTbYuAdhpONUuwKJACUKdiXb3WwbCYEN5cyN+9a/drVZGresGyURwqAJrg0KANWGHomXAWIC1ypG3XxO6QtJxmY3MADITnY3Wfux88Z0d/nFMQWRu5mySyLiWfWNoLwR2K/pi6Yr+Gg0KgfT4QH1FN4c1LIWA0Ok1lKwkl3t+a78gFzgMpjowK5dlmQiOSmRcE7oOyOXkOpIJnX70O1xot8CSRTeZCI5K+oes/FrvD5SvPx31U97nW9gFVe2/POL+1bJvrFiH+cCOCQ5TjDjASIWBRBpe/kjL5PL6cAjjJe2qX/5sQfi1rfju1PXCX575+RZ0vPYZkUnsJ8Af/xbPCP978If/Vrz+8Me4kANyuVvx3fu24rsxIJcDcrnfiO7/BLkc8M7zW5WL8OTv8AyA/8O3FfjDT/Egfo+WP/wE772lJ73gS5sr/t55fmshT2AL/vRvoP5+z/xGKPsn+C/x3+HCD3+vq9aK3IrY/wDu9X2qfFmzfjTKB6Bs/QOwRj7lfSQZVcuftiFILJKqgbb815YvZeWTlvwU6NxXfG+JfLRIPlmiP8jzSxi1PFHGsrlfHWD70TxTwR/ggw+uFP691/8tw3nIj8VZ8c6V3sT4MAh+296WsPqt/Ugn+svcwCucFZFZQ6wCpagEtaAXTj9mE27eVCT/N2YMqwmzwktnyPYSSkN4807qAaRbm/HYZABt02uWhC7nQ9GXHtnk8M8g/UgEfcfX0NWoxx5ElxFiOrAq8cfYCQ8j+EI4eeE92M3AlVIKxa513QhrmBD8pbsuB+FipMdQdaqk4tuntD+0DMSxGgmgbdpds2MpYtM+HHVzmLXrmI66aD/5RKkJHi+Ho2fX0aWoHLnhQVr4Dz/x6BzXsSCWiaCvG9J2zk++MkCSYYSJmBvKPkZKzy9S4hME8AuZbAdmxX9r7QCLZe3yGoJvs0HhG1QOQ9+ny2msMB04LK6LHS60631/JcT1Z7Z+hBgHnar9FyjpX043PNwyLgIWT5w3lvxx+GeQ9gtK7XSgsjK89Fks3/dv+OHD4j9+ivvvu84rkw8DwFZ8c98nouvX0fMkEC5ctw5VpVAvL92JL/7k3/BOWlAOz92CBD6DnrLvx9PRfR3G+T3+9s/vxH/p/Q02xbcg93ODeegqX5Xq3+nHbMIvLJJInTPbJzmkE+VkuE3yTUv+65IvZdAlP2XfGqcbHiwjmQFarIzdYqf+UBa1+uJ9aT0H9Gxm6W3/So5GtY6GOGc2L9gbD53nMzG9WBxX31nVQ/ZCCkBHmTv4qI/Dpp6iP89sJIC2lM6PcGHHhr/X4R/HFMugL8Ip7zYYoGUgjvSA9FnS834BlzCZSRvWyneCX103VsaLgC2+JYoIQpT3q0Tp+WJa1/UgimDNf8jEgps/B02ZdezaJ2sfEQ7/jMK03UrU2q943qSSIrvh2k+D0rMJBeVAcbKhxJmCoqG6ou3tQGcijYsZICnzvVJ9vgbaMhHIK+9LeidH3g4FJYyfiHSJnx0JKO6q1QK1+tNXP2W4nMYK5hQXl9kDlWdrmA0nf8RlGMcUO4cYmgtjpxryJ/HWrQCM7mTayLnbsbsXmMuJIh6/9Rn8M36D3k1AcfbEl9lEr5byzG+QewZ46evXsWkTgCcNKLUmysfXP2CNfCpS2Vy6CvJNSf7Xi3yxBK0zrO0647oJj+1hMHh6DcOt4tguZ7DE9eKgrjlvafvXI7abGQ/2fx+f+9x2fO5z2zHY/327H6cf8dEpOpEHWlH6SQNDlJoHr04ywkqYOMx2v+lVoIsprnKTgWgQfREzUY3XMFGpyW4mgr7uOYkpGl9vYXiGGAvPqBQCAYgiRUrP/K0k8FETPCmDEU4zERxNVXBshBI7XGjXeWvLQPF8MSVTI63ramQjAbiYZXRylQjhJjjy/T4TQV8VznyTP7+0/dYw4R0BxlXeZ4O1nxp8YDt+zEjPJhSZNakGx5OyMjSKJKMQBM/phodL4+LlNOB2A0gheTaNlYKFicbzNXDsdusKcKc3EEb2Qqq6Zlk7XKURRg0FyStff3rrpywlLjzx0iCANrKx5I+Ocy+NyJ+H/g33mi1iXbAFT7bk8M1Y0by5wH23452c1BQ5lwNeK7nRHM/8XDAn/h/XZUG0NLCgfHUrn8yiKf9hTr6Ylp91gNMND+YkJsp6giGKcfgDYEM9It0k7x7UW9NzYa3GdmV2r/9bePOXZ/HmL89WZGJsmh0utIuiEBajr6XhecRIRvLoY/JfBT6dkkiT5kNzl0ZWlkZyU/2d7sCsvzZCMHZcvKIuht/1tWzlT1iJWlTyU2jtR5obU49yXIaWfcbOn4wdX0anVRGsBZM9ibAWwvAr+9gIPiMFn0ej10vh/TeqYFrS2m/LOXLy9stGluEpYyqz0doPJUdV8X68nh0ojhnxTm90WeRWIJgfafV/NozZ0AxWJ1PYK1G0d8LDpLB0OgXP7mb+qLOUaEKm+XwNdrhKz95WSO94pAM4eUZDqePPCy93vIXlOB9Fp6R+17FwTMHFRg2t+tNZP6q0doCt8XEeG0v+NGO/bIxkIyMY9HYUJp2G5M/Dn8L7P3P4kfjImHOb8dP/uRX3P5T/wyf46XGxgR7vZ/vNffWyK3srvue6Dsx9gr+Vm90+8zt0yN/PVnizY7z2Wbyk53Zd5dOu/7qVT6bRkP9m5YtZ+WkDxaN45D+1+b/COdqG4+40YzgRBkTHAC3tMW/1WG/UuZmxBT6Zgq+AOtads2oYSdkEMwPJDQbfP+QT7s3brhsxD7A2pLvjkQ6wOvyAWwbKmB5aibAid9DqfJ1+zD4ehGsamuadsWkflh6PY9iyiVczOlkOe0cieEyYaMWOj2KFDWNW8RmCMGfDKnWudX0DImm/nXj95BwGh+akviHMGFZDflzcoO23MjSHmJ+XlwXfdSeAaBorSKGz4D+0honuORSN5vjAIktMD/rc6h/H/OSk1H2AN6EbDDGY2gfscgOhIQ7svJDPZa3na+D04yDrw97p/DmeKumdfhz0+vBi1K++4h+dw6BXqJcCWvKZgWtI+e/6fIua0BXiAJbhTcgBsJNjaOd0Gr9q1Z/e+lGlGfsngTYmCI9oYpXNrMPhNDpR0ukHt9GQfT8c/hmsiv0amTGshvjvivHvB+9/2eu/Hc+mefPclwY/xj8/uUWiGP7z39yGl37I73q++6efwfJ9m2R+tgDwSYkfajV46eu/x0//+FZceEZJub6OHz6/FV9suRMtoqBU7567FQ8+bIcyfiu+91e/AZ7cUrpDrFg/+sqnWf+2ySc18vNn++VbWflvWr6YlJ8SrJFP6j7FSvN/K6nEzdC6mDhVodbhlGuPvtD92kfX6DvaRinUvpH09mHm+dUI3W2+fkrDoQsIIdjLha7XRDgmQ7F85a6VJX+0hewnPyrmsNo1hSOdDF23Ap3jS/HYLQPkjymptPwbuv2E+xTD9k/nouIjCJSOrCrk/2zu1V8pjXXZe/6J9KgDybiSjTXxUT38s2R5l32+vH6V+o+0jv76TVF/FKMp++vkaALJETE63l+z/crXj6RvqvSRkqMiJEfzKPUVrXKakAMl3MzyR3QcTP7YGMkxM1tyHbgzNyc+YqbkeBzxMTulR89I8pbnMXdn4XnvPL+1cDTO3JPIdczpSJ/bkuvQOPqm5HgfyI++UU9XcgSQnqOB1I7pUakf7fKVq38RjSKfDKIp/3Pl5Is++SShRH7qPOrTtHyyRn8oRa/+YrZ89c+mXC6Xq4LOXMesY2H6DB4b8MORiaBvBDisaE6kL5iTVjQ3dcd5uxzA9WLm+ToDXcFMtGmL6kchAJSVK0mlwVZgS1CexoEPwNKZ6EdL2fGlbxWwfVJpB5BPm1S8ZoyN2X75uq3RimmjEA3CdbqjpK0LUa1rbpbFtyPsiti/IbmZ5c8mjetb8OSmz6Inp+CLelOxBU9uuo5l3Im5qtaFVv3LpuZ1L5/qndrKT8WxLcP4/FivfNOi1vqHeUiZJQiigbFuIkkQ9YZ8AmTb0XNEhdSz/CFltr4xqMwShiH5efNAyixBEARBEARBEATRcNgezZggCIIgCIIgCIIgrIaUWYIgCIIgCIIgCKLhIGWWIAiCIAiCIAiCaDhImSUIgiAIgiAIgiAaDlJmCYIgCIIgCIIgiIaDlFmCIAiCIAiCIAii4SBlliAIgiAIgiAIgmg4SJktsI4F1oeJaIXJo0G42AiylpZJjMny1fv7mc6/zt+PIAiCIAiCIAhLaVhlNjbtg2t6zWAqswphHRMNwuX1FX6G39Fseg1i0z5J/nY8gyAIgiAIgiCIm4dba12AishEcDQEAMuIDTSjxeZn9TGjWFG41D7JYdbfZPoR2UgAbUOcytVeLCb6y79jJoK+7hSmuDi6nACwhgmvDxPzcQy36ihANAhXN7CYiPPPyUTQxxhIr8o6FlgGgyqvFur2IQShHner55KNBNCWCiA90FxBGdYw4e1BSPGajrolCIIgCIIgCKIuaTxlVlAuPfNxzCIIlzeAKW5GUOK0uIQkx8AzbuB5Tj9mE/6SP2cjARwykE05LqY4U4px7PgoMMmJ6qAZw/O9cB2LYH/ID0fZ1OtYODYHdj5eVOqcfszOp3WmL0cTukJxdOm51dZdWsZAHyEIgiAIgiAIohFoKDPj2LQPLkGRHW4F0NqPNNeBJcanz98xk0ISbngsUGoupjh4dpvflTXPGpZCDDofkZWltQMst4zXMxrJM2ewxPWiU74Dq5SeG0WbRWbMLm8QMfk9ZvInCIIgCIIgCOKmoiGU2by/5V6EkU7ITF+dfswm4ljds8wrQuWU2stpRXNh4/AKpGeHJZmZQ1VB3wkPwyF5WSP95TRWGBd2lVxQSM+MYTURL20DLURmzOn8bx7YK1doK82fIAiCIAiCIIibjoYwM24ZiCM9UP4eh38G6VJrYAmx03MAgKORXsz6mxR9VdkDOgoUXUaI6cCqXIHkRtHmHeXzMe1vag15v9Q8ut7PYrIXUmifHJf6prb2YophsBTtR0sd1BNBEARBEARBEI1FQ+zMWgO/mzo1PwYMzSEGQQEu7BZymGL05CP4mB5Q8CWtcGdxl5vByhBTEu1X1RzXAOy80fezHsduN1aEOi8QncOgknlzLSEzZ4IgCIIgCIJoGOp8Z7ZcJNpylEapzUZmEGIDSLc247HJANqm1yqKjhubZjDoDSNtoRIm2VWOBuE65sKq3sBLTjc8WEYyA7RIdop1Brva4UI7l8ZFQPa8S0hyveg0XvmltPYjPc/7zBaRtVFrP9JWPMsMzJj+eicIgiAIgiAIoqbU+c5sM4bFfpai3+okA7BhxWtp+XEr0SDahtxYFJRXh38cU4ke9EXWDZUmGwlgb2IMqxUdEWMXzehkOSydlb2LYAr9mFawK+ej6GTmsCTbicxGZhCS+9Ka3bmUtFdpG+kK4qVENIIFrUBXKmQjAcP9gCAIgiAIgiCI2lPnO7N51jDhnYGnkuNVMhH0dcuOnkETukJhJL0M+qDvSJzYtA97Q71YTNRi524d2TLKWsu+MYAZwcIjQv2I3lm7rE3oOtALV3egWL+ZCA4NAVOc7F3N7lwmUsii2XB6x243MNQDl9rOLTuG1X3A64oX+UBWg4wPgwpXC0cikVkxQRAEQRAEQTQUDaLMVk7suOgoHwn8rq8m0SBc3XPCrqLVO7LrWGAZDHKlV/KBpHgYsPMBeNSycfoxywF9IoXNUACqvBlwIb1N57KKAmQpwoyply/Rr5G52u6qgbNuCYIgCIIgCIJoGBpWmXU80gEWOzXvaxmIS81ZDRK7ACxycZk/qlUYUbTWsVDustOP2YRGOOdy6FIYTVJuZzcahOuYvY8nCIIgCIIgCGLjUOc+s2Vw+jGswzzYLC3+fpsUWaJxWMcCq3GGMUEQBEEQBEEQVaVBdmbL+z2KqZfzXQkFtMyM2XCdRhK+hCQHAEpRnwmCIAiCIAiCqAWbcrlcrtaFIAiCIAiCIAiCIAgjNK6ZMUEQBEEQBEEQBHHTQsosQRAEQRAEQRAE0XCQMksQBEEQBEEQBEE0HKTMEgRBEARBEARBEA0HKbMEQRAEQRAEQRBEw0HKLEEQBEEQBEEQBNFwNMg5sxuXV06cwi/W4vjtjRu1Lopubtu8GV9t9uHpp56oyvMasY7qlWq3HUEQBEEQBEHYBZ0zW0NeOXEKN373e3Q9+SjuumNrrYujm2sffYKF185g82dvtV0patQ6qleq2XYEQRAEQRAEYScbyMx4HQusDxPRWpdDP79YizekknbXHVvR9eSj+MVa3FC6bCQA1/SaoTSNWkf1SqVtZz9mx6/N4z8ahIuNIGs44RomvEHEACATQV9FeVSDWtd/o6evJXzZXV6Nn0HZW3VsGR8Wjb+Kx79F6W9qNkj/JghVLPj+mJKfjfz942kgM+M1THh7EMr/lw0jPdBcheeuY4EdAcZn0IUI+pg0Dib60WJBzr+9caNhlbS77thaFbPfRq6jekWp7WLTPhx1c5j1N9nz0GgQru65wn/Z+TiGW/UkXMcCy2CQyycMYxE92FsQBL1YNDUeZfnL0F9OM8hkmxrMGFZDfjgqeYSs/tsn9bd1NhJA25BSBZmtewNU3H/E8G2dPFCNNq0mTegKxdFV7pZoEK5jKWTRXFH/iU37RGNOBdX+Ke/fDKa4GXQ58+VyVd6vLaXy/qFUP9WRHTcD9vdvohxV+D5tdGTfL+v0lzVMeJfRqfkdNqM/lZ8jFanifECBBlFm+YbAfBzpViBfuX0RCybf4k7GjGFxzzL25iduzBhWQ4+ay/8mouSDXrUFB6KuyUTQ153CFBfnJ7BYw4TXhwldk71LSHJiIcmP/cJk2DTqE6VsJIBDF9aB1nIyRuVDb+jD3ozhRBzD5W7J8AtpFwHjk4VoEK5uYDERL3xoYtM+3fLT4Z9B2q9UnmUkM0CLRjuoK8OArg+gqf5jL5J327Dybh3JhBnlTEf/rhgrxl+eS0hyDDzjxkvRMhBHesB4uvpDaXIsTGZBykplmK2/Wte/zd8n01RaP3oVQXPw3wh3yffXxeoobyaCPmYUK/K/G5JvZvUnXi5aN+eyh4ZQZrORGYTYsNAQANCErvExLDEjWHjEggoWTUKykWXZrsW6ycxvBkTCJJEfYPzfdA1YYkMTOz4KTHKicdqM4fleuI5FsL/h+4bChz4ahOu0u07eax0Lx+bAzsclH+yWgTA8XgauIend7AGd2V5OYwUcVhgfBjXSX0xxhnaC5VjXfypXVtTIK/rZSABtKevyNYqunVM2bKpPhrp95XdnaqLMWzj+Mikk4Uan7vmEvh2L9kkOs7uNFqae0LEzajPV6N/2Ybb+al//9U09188aXhwCprh+2feXwxTL4MWoX8cCobkdT9v1pzqhAZTZdbx+kgN7YEb6Z6cfB9lRLF0GsEEaQ40rp47gQlSwhN/dg4e/7attgeRkzmCJ68ViQjyxbEJXKIykdwavZ/wbYMDE8d7hMD65+wnsDrRju8HUl18dwfsXHNj2nefgbvi6MMIalkIMOjmZItPaAZYz2zdKJ5O6lTEdXExxgNt4uuyFFBCag0tkCt1pXbGMIYzNgyUTwWZ0skCyYFoumFjqynQNE91zsp06I+mNYGH/MaysNApmd071YTx/DWWPGcOqheM1T6XjL3t2GSvg4In2o0XXexqYRDewL5r9iFy5FMdmdfp35WiVn2hszLavG56SdE3weIFB2QKhlfMXnptHf2qAAFDCavqO0iu73AySF6qxc8phkPHBpbTdXwW2P/EcHj40jt2t9bnuiMtprDg4dGsAACAASURBVDAu7Cq5sBMehkPycg3KZJS3wjg3s4IrtS5HjdjlZrAyxGgE2RACqRhBUCBKhbkVfYOfTKYTcaQTHKYYM3lBFkCBn0B5dhvdTcyvxObLFQarI82EVnATZlRljFWbdSywPQix4epMLK3sP5fTNZHfsenyQWok170+9EXWDV3PT4xC3VpBcioYv6YQj0+Fny1WGZWMv3w6Dizbi9AxlSAq3CjahLosCZSSiaDPlrqWBj+aiIoCWsnIRgLF5+flmGa55PkbL6HicwEUgm+Jy1BRgBp7+7f6+LSq/CpEg3CxAT5vNoJsNGj9M1CuffTeV9vvk97yK6Nj/NjVvgXmsFQyrooLNJbNXxSxSn8SdKByfaDGAe4aYGe2PCupSwBsClpTQLAXFwJAETJaO8Byywr+Ery/Y6dm5IBGwIf7D1Vun7jj2+NQkCd1g6JfZBWQmy5avzJZKQomqdwo2ryjANR3CXiTngDShlc7bfJJcT6KTmYUSyW7TWtYCgErkJoal69/wT+RDSM9AEx4S81Oq91+RvpP7DQfG+FopBez/iZFX16ryx+b9mEvwkgnmgv/d00XzXHl17XSq2Gvz6byLkIp6uZwEjNRGwPFVDr+CqZ4A83onPahbdpdajKtVm7Bf7yTi2M2/9xoEC5vUFofOuSHnNg0g0FvGOlQM4ruPMJOcyHeB4OpSTeWMI50Qj4XehSHE/FCmWPTPuyd7hD1PwZLezikQ02l+UPmE67w/rx5fQDpxEwhf2ndzWEv04vFRByz8utyf8CCy0JpP7Krf2uNTyCFoyPAQaH82UjAUPm16g+cGwcTMzg47UPbsTGsJji8zo4ULE7Kp1ezfJA9X619dPWfwstZ/n0SB52MTfuw9Hgcw63SIGxa/UurfsuOHwBACkePuwpjpNL+qU4z9k8yaOsOSnxzY9OCW14FC8Kl363KLb/060/kM4vFyD9gKvgDAMBg//ex1/8tS/Nvd++0NL+GJLOCt18+hU/z/5ebIr8Vxrml4lEst7Q+hy89kR/yWaRmjuDqh/mrPtxzqMeg4tWMYS6FPjaCwwVhUnQ6lwz6UI9g/mXx4ChXB2+Fce69Zuz+/HLBXLtQB5J0cVw4fAoXAIjrQd3MO4vUTBjwOHA1Ggd29+AehPH+BWBr5zjuf0heLnndyuuep5BWKNN7h8P4RPifpO0yK3j75X/B5w8141r+ngrNoGtFcVJnl5lqpTRjOCEzzdGahGciODQETHH1FASoCV0HeuHqDsBTGG/87moxIET+b2r1X5w0saI0Ul9F9fSFXf8hhYsm/YH09x/eXHlqvgNL3XOI+fvRIlnAsaP/Cc8U9YeWgTBY7wwW9s2gy8mvzrfvUfuGaV3XGWW0BON1LlcmspEADmFclx90NhKQKAzZSABtLIpjSaTkgRkzUCoZFY6/YoAWPl3LQByLegO0APyOPxsoKrIA0NqLKYaRLiIZVeIzERyV9B9+LBeUl9Z+pBO9/NhMBZAeUGgLZ5PkeS37xtDOLCM20IyWTARHQ704WFBgZPlD5hN+Up55fhdcrX/zf2Pni32tZd8Y2keEqMNOP2YTfqibcdrdv7XGJwBwwJ7xQl4Of0B0Xav8WvUHgO3glU43A8ANB5rg8XIF88/y6UvN3Hnlr0Mor0b76Ok/NtLyeC9WTl8CcAlLISCENQy3QrSIrN2/ytaP1vgR6NxXHJOS8aGjffXg8M8gvZvfdS/A5hXsCvMrfLf4IFaVspH0J9uV2angD/DBB1cK/zauzIrMySQdibcF9xyo7gCsP+J47+VT2FxQgHjl5+1TeaUnjveWstj2nXFFX80rp8K4ur0HDwdM+uE6/Zgd5801+JWsXkn0tgK2BAnRqgMAF8K4gB48fMgnKIFhpL74HNzOdnzpUDuv8L7xBUVFcPsTz2H7E4JS+6/yZ2dxNfkQdn/nC7j4chj/2vocdn8+jAvvxYGHfEA+f0HxlOKAOyDa+hOU7qIiyyvLN1qfw8P5tjx8BO85pMru+4f59r3fyb/3r99qx/aHoIMqTIadbnigFPVWbzCenfAwc9jrLUYcn/LyJi/FwEO9WEz0GnoDHuWV7cLEugC/cl2eNUwwo/DMx9F1OQgXIwrDr7lyysu4QVkwJSUq8htr7Ud6PgiXKH/9+fB9JDmZ371Rg9+9U1IGJR9fo0exmO4/PIUdu9ZmPDYZQNv0mv3BiqLLCDEdWJWUW/w9EyZX3QxcKSW5qHXdzijBgLZ80LNAsY7XTwJT48WyO/zjmDop7D4BRSUvE0HfiImyVjD++B1j5Z3AVfEuXDl2uNAekipw2cgIBrleLJqxSrqcxgrTgcPi/rPDhXaUWoexj+vsy043PPn0l9NYYTswK77e2gEWOifHij7o8vmazMTR6YZH0YpLCZv7t+b4BAAGnY+I5V4zOlnOFl9D04pFNIi2kx1YzStJutqHp3z/sen7tMOF9kQK2QyQZBj+33Cj4GNqoPyK6Bo/MhcW1e+NSVr7kU70l7mBX5iwHiv0J73tX9vd2wYwM27CY3sYDJ5ew3CraMCpBjaxA3FD9uJgNR6pkyunlvmgRAXlxYf7O30498a7uPJEXjHL4qN3soBT5fNxYQ2X4TNvBuv0YzbhxoR3Bh6ueudN6aqDu5/A7vyOqvNB3HH3Kfzu17Dkg7T1K+3YjhVchA+ff8IBnKoklzjeWwLuOSRaVMi8i4/wBHYVdtF9+INWR1FRzj+/Mx9Uyoe7dgP/ms1CX4B8uyfD/DM6WQ5Hz66jS7yLoziRUEIpyIofXSUmZ+sV7KoZCeASVBfkgjmSp/AhF3+49KycKq+w69350oXmx1QNvo/kfY+0Ireyj1dSuPLPN9d/wE/yRDtvDv84pqw62s0sQrvwfnsoXezTum4r1ZAPFlDx+FvHrn3q5qsO/4yC2qiA049ZDugrWWCr3ZmLYkojAfPKffZCCkBH5RlfTmMFc1jxzpVcqh93EXtIah7ZVmUyEfR1QxqE07L2qcL3yduBzkQaFzNAMu97u6H6l9YZ1nadgW6F/lTP0aKL2K7MDvZ/X2JmXAm8aUcPJh4XmZSN8Mc1mP5Y7HChvWD62oupSUhM4tonw+isd5/Z7feUMSv14f7vPIG3Xz6Cc1H+/2JT1+1PPIeP/3UE7x8ewfuQmyA3EGXrQJkbupU++7n8ahjolPnV/vpf8OmHYtNnAckxDz7cJdqFrcw31y5BytOybwwQh4HPRNAnRMM1UvvZSBCvP9JfV34bvIkiRGeg1i9iH6VS1HdW89fLf9DMmOmuI5tRv2qq/4juLX4r8pHWGfTBRoV2hwvtOm/lzXiF48ymSxXW8td1Hmpfk6NzmvDYHqBtJILHhN34bGQEgxAWIkwGBzQ3/prgyKcRzsk8WKkCWjBJtJAdLrRzy9KI3UIQM30L6kK/8Ip9rovKvWO3GzgpmPxWWkYb/Z+L2NS/DYzP+mYNE8wyOrmZ0r5blfapkPwu/WUA7g4gsYzkWWDF21Esr5nymx4/dYDTDQ9Gi5ZpEnqxmNBejLJVf6ojbFdm9/q/ZYGfbDOGE2E+oprwFzPnFkpQ+Ah1Sf67jgUlX4d64sr7uAJfQZm7ks0C+ELxet7UFYKp7OEwIFJoiwoQb8b6NgwotKqHOstNEviFAtvQqgMFNjvqRMS/Fcb76MHDSqbBDeYDq4jCzkUl5rIXU3NYQq90h66ASTMdo+avArUKnGUHLQMKbgGmUJ+ESk25GbDzAXjUsjHRf2LHxTt2YvI7zjbidMMjPz4ocwZLHINORfPovFmx4LOl+7qOlfNoEK5j5hQXpYBZecp9jx3+GSymfBK/WKsm2FUbf639SJfbxTCrDCshBG8bPL6GrgEhgM2xOQA6XSryR+aJffOiywgBvNn1DhfaubTU5Fd8XQtLjlfTg039W9f45LAksQpROSqsZhTjH5S0QdXap1J2wsOksHQa8DzeD48XWEql0O4W+rfZ8psdPzagdVZ36Y6zlnXMGpY0n2qj/lRHNICZcZ4GMXmqMtu/+BAuRk+J/CTj+HU0i62dygrQdodDussnwYHP3g3cMFIAAyvS2UjASM66MVoHV06FcfVDH+4RK49/8AXc8uFb+CDTju3VFPyZFbwtNy/O81Azti6FcfHUg9jeiLvlYuzYuagmWpPZiqjUJ7E2viml5oqlSD/GRsyT1rFQ7nKF/cd6Bd0IvIn0XtGuZOz4KFbYsDRYUAFhssWGVcqsfl1P24ANV6hAinf4ZhTviGkETLI32nIDUJH8aEJXiANYhjcxB8BOjqGd02kddjmNFaTQWfD/48+HLkzmnX4cZMXRjWXXNWnG/kmgjQnCI1Lis5l1OJxGJ8rl/SDt6d/6xufKkBAwDoLvvaJ7g04/TovJR6OeVVzYM9s+dn+f+GBXgyEGU/uAXW4gNMSBnc+XzWz5TY4fCda0r/oirN0BMCvRn6oXYNAKGkiZrXPyYc4tN+WSR7wN49xhFKPqOtvxpe8Ab788gnPCEs0trc/hS3lFTRbJGHBg23eeE3ZiFaLp7u4Rgg01EFp1AAAfnlKMVCzOY1frW7jw8gjOSe4pV//a9SSJhAwI5tyivH/MRzrOm3kDEEVM9uH+Qz1473DeRJxHGu2YaFwaaYGueC5eVc6XbQjkH3uOd1cRfQPykXELu5KS74PCzrWh6yjcZ2/bXEKSA+DVuE2+y0dYgGxBKBqEi3HhMABJ/+N8CMknkSWB3xhMcWGwzEwhwE3LAIcp8WR/Pgy2u+hjLFUiOb4fi3bWHf4ZrCKANnmkVkORcfMR1/O7VvLJsH39u/z4FMrCuXA0H9hS0apAvfxa9adF+fTKx6uJn1++fTT6TxW+T7vcxcNVHbv5IIvigGFa/Uu7fsuNH71o9c+NSiPNT4BNuVwuV+tCWINdfn+isNxQMyUqRvw0snXf++c/wNxfVeZHXA8YLX/hzDADyr4ldVQmUvHNirxeda18w84Js/b4LWfmWKBSE8bCmXvlMW6ew/uodSb60SJEaz1cIx8ms/Wnd3ekssU8s/K71ulri77xa25Hv1Iz47KIzfttGR96x5++XQj19zSbXg/F4+4asY+aoRr9uxRR37EqS6KG1Hb86LJsMlw2q+YXjf39AzaUMlsrKlNkgZtPma3ZM0iZLaHR+x5BEMRGRz4BJsuIakLKbKND4+fmgcyMTVOFQCIEQRAEQdxU3PS+xjWlGcOJakf/JqyExs/NAymzNeS2zZtx7aNPcNcdW2tdFMNc++gT3LZ5s+3PsaSOHlKJFHyTUq22IwiCIAiCIAg7+UytC3Az89VmHxZeO4NrH31S66IY4tpHn2DhtTP4arNCBF6LadQ6qleq2XYEQRAEQRAEYSfkM1tjXjlxCr9Yi+O3NwwdiFNTbtu8GV9t9uHpp56oyvMasY7qlWq3HUEQBEEQBEHYBSmzBEEQBEEQBEEQRMNBZsYEQRAEQRAEQRBEw0HKLEEQBEEQBEEQBNFwkDJLEARBEARBEARBNBwbR5mNBjERrXUhzLCOBdan8Q5rmPD64Cr5BREz+/hoEC42gqzZfAiCIAiCIAiCIKpAwyizselSJU6u+IWOWaeMxaZ96IusW5QbkI0EpOWfXqsgfQ8wH0c6IfvNA3u91pZXGV7hLlGmSQkmCIIgCIIgCKLK1LkyW1Se9oZKr4a6+WvWK3FrWFJ4XqVkIwG0DbmxKFJAF9FjQAlcx+snObDzcQy3Klxu7Ud6vhcrJ8+U5FeqRAelu7t6lepoEC4vg+SBUmV6dc8y2hQWFxR3kg0q8QRBEARBEARBEErcWusClKcJXaE4uvTcaqGJcWy6ByG2F+wQg4ndKgqkbtbw4hAwxfWjRfTXlgEOUyyDF6N+HflfQpIDcEDjNi6NiwAcoj85/DNI+4X/RINwne7AcKIfw/n/H0shi2ZJGqV3mOieU1WmHf4ZpHcH4eoOojMhfs9mDCfi/LMA8IsTDFzTYaQHmjVehiAIgiAIgiAIQp0635kVEQ1q+4lyo2hTMUHWS2zah72hXiwO9GOYG0Oyu/K8AACZFJJww+OUX2iCxwskL+jZVW7G/kkGIbWyRINwdc+hfbJXojDLyV5Iod29U/J/eN0aimz+HXrRWU7pbu0AixSSmXIZNaHrQC+QSJFZMkEQBEEQBEEQpmgMZTYahKsbEjNd3k9UptAyY1gVrhveTc1E0Of1YW9iDKv53UWnH7OJMNDtg8sbwEJZRU0FpxseRSVvHckE4NndpCsbh38G6UJZZD+hbmb95fLiTZXFz7uY4iTKbfl3mMNSOaU+uoyQotIuRbcCTRAEQRAEQRAEUYaGUGazF1Klu46tvZhiNBQsXQh+ncwoPPNxpEN+maLFm8qmuQ4sMZUEO2rG/klgkJEq3rFpBoMYw35DSrdQlpJff9kdWQBA5gyWOPHuqoIyrbqz3Yzh+V6EupX9k7ORAFzdc2DnNcqRieDQEDC1j0yMCYIgCIIgCIIwR537zPI4drux0j2HmF+kLEXnMMj1YtF0oCa5X6cKTj9mE36tuxQp+JR6fcU/smGkQ1pK3RomvD0w/oq9WJQpuNmzy8DkePFvgnJ7UJw5M4bVEmVeoLUf6UQv7/M6JLvGjGE1MaPtdyssGHRp7N4SBEEQBEEQBEFosSmXy+VqXQhdCH6hRWQKWzQI1zGXujJ2M5OJoI9J46CovmLTPhx1c0XTZFvrjw/8tLSH0zCFJgiCIAiCIAiC0EdD7MwCEHYG+8tfN7yFad3Op24yEfSNAIclSuM6FtgRYHxGZdeSVwYHOY28WaUowcUd0eKubARHQww6OWOKZTYSwCGMlyikJYpxCZeQ5HpxMESKLEEQBEEQBEEQ1tA4ymzJzqwCispcOdRNjLUVtAq5nMYKXLI/8kfveFQT6TiiSPGYnXUssD1ITnKYFfnmxo6PApNc9cx9MzuxP9FPO+YEQRAEQRAEQVhG4yizWjuzus9MrS3ZCymAS+H1jL+oTEaXEQKH9rPr6LJUeS5VgrORAB+xeaCKu6TOprpuE4IgCIIgCIIgGo/GUWYzEfQxo1gpdw8brm+lKRPBoSE3FueBvcfX0DXQDGAdC8dSmOLCSDIjWHhE2dSYP/9WI3/N91/Di0NuLCb0+sUqmWErBIAq+bvUDDsbCaBtiAM7X8GRSQRBEARBEARBEAo0jjJ7OY2VctF26xxeoQOmuBm0OIHF0z642F6wmENyD4dZZxPAdaCP8SFZovTxx+iYVwabMZywxgzbCA7/DNKVBYImCIIgCIIgCIJQpHGU2R0utHOjaPOOlrmJwRSnFkSphkSDaDvZgVXRjmjLQBzpaBATiBf9WZ1+zCYexQIbRCwkDjDVBI8XGOz2aQSrqtP3JwiCIAiCIAiCsJjGOZqHIAiCIAiCIAiCIAQ+U+sCEARBEARBEARBEIRRSJklCIIgCIIgCIIgGg5SZgmCIAiCIAiCIIiGg5RZgiAIgiAIgiAIouEgZZYgCIIgCIIgCIJoOEiZJQiCIAiCIAiCIBqOxjlnliAIgiAIgqgLXjlxCr9Yi+O3N27UuiiWcdvmzfhqsw9PP/VErYtCEIRO6JxZgiAIgiAIQjevnDiFG7/7PbqefBR33bG11sWxjGsffYKF185g82dvJYWWIBqEDWRmvI4F1oeJqI2PyETQx0aQbcj0VaifWhINwmWmbgmT2N2/zOZf7/2/3stnllq3n131u4YJbxAxwLx8N0WN+4/t8rfW7W9T/YrrLRNBX74vVUKV5we/WItvOEUWAO66Yyu6nnwUv1iLG0to6xiog/5b1++H+p8D1nv5GpzGUWYzEfR5fXAVfgEsZKzKnB9I+bylA0o0WakIPemtev5GnxATtWMNE+LxZ7VQjgZFY9uHvsi67qTZSECStvgzM27Vy6b+KyOTTLyfXD6o/9TfNzZt9Jn6Ua//6siibCQA1/Sa/Q+qGPPtV9oHLerbdUbF/VReP0b6Q7nxbYGci02bzVfWfyTvpnN+YEr+KPPbGzc2nCKb5647tpaYTsvlnFWyTV1+6pvjmk2vnI+V8+ubAdn8yGj9mV3IIhrEZzYahKs7hSkujlmn8LdMBH2MD8n5OIZbzWS+jgWWwdIeDulQE/hOGcACN4Mup2ZioRyjWJH/nQ0jPdBc4fN9mDD9XtaQjQTQNsTx/9H9TjaXAwCYMayG/HDUpDRG4dt4EJWW2Wx6kwh93DMfR1rok9lIAG3eNBYT/Wgxm380CFc3sJiIF/LiJ7UcZv1Nmskd/hmk/UplXkYyA7ToGcflaO1HOtHPl/OYS9YGa5jwzsBTTl6UvB/fnq6U3vF0CUmOwZRemVRlLqY4tE/qa6tShL7NlV5h60IG8uVLHjBTFnPtx8s+t2R88MpJQGeea5jw9iCkdZuSTFX7vgEm2rw8nt0G81QbX6w+eZm9kLL129YyEEd6QF7eNC4COmV5E7pCcXRVWgDT8oeITfuwNzGG1cSM0Gb8PK3PgjGg+P0SvivVSA8IMuZkR/H9okG4mCA8FnzfY9M+7FUUPr365g8WyKCS+aMKlX1zePmanOSQzpfFMv2E0EtDKLOx03Non+SkH22nH7PzabiORbDfzAQ/cwZLXC8OhvIDohnD8264jq+hS4+gd/oxm5BKkti0D0uP6/xIKD6/t8L34idNnnFDicqSF5TZSABtKevyNQIvDHuxmJiRKDuWKVO2Y3IyYjq9OWLHR4FJTiKUHf4ZLKZ8OBrpNfkxX8fCsTmw83FJO7YMhOHxMnANSe9mD+jM9nIaK+CwwvgwWEl6y1B6vyZ0hcJIemewsK8+FdTqodS3BQWyRiWqL9bx+klgipPJudZ+rE4G0KbrO9WM4UQcw+VuyUTQxygoWArfN4D/HhzS+Qb6WcNSCMDjRtKUG189eDHqr7vJZH4+U53vFskf02QiOBrqxWJCPB9rxjA3hj5mDjG/DXOQ6DJCTAdWK20bQ+nX8OIQMMWJ3q+1H4usD3unO0wveJQs5gjPnPAu68tAUQYJ3widC1/KCr+U2LQPRy+sA63G5jPZyAxCbLioyObLbIV+QuimAcyM15FM2Jd79uwyVtgO2UShA2yoRzAX0LGiLUYQfJ06P6Cqz+f4iYUhMikk4YZnQ32c1rAUYkomcy0DHKaYOSzVhUn1OhbYjWqWw48/pd2Slsd7sZK6ZC57YTGndLw0o5PlV17TiTjSCQ5TjN5M1zDRzU/g+LRG01tI2ffjkLxcgzIRDcQlJLn66ycXU5zxHVQtossIAQidFsxoJaaxyrv3WvIj1K2RvtpkIjgaYtD5iKjuuFG0eX1wKe4+yc0XDZpRbzT5k1nB24fD0Fvsy6+O4Nxh/vf2qQoNxi+nscK4sEv+d+ej6GRSSFr+3ecXINr3PFqhEmQwvaD4PiabN7bsG0N7ImWPj2cmhaRSneolOodBjGF/HSxUXUxxaHfvLL2ww4X2SubxREU0gDLbhK7xMWBoRKosZCLo654De8D8qodiRwSDKS6OdCIM1kBeisppRc+vQEheTiuaYtiNxCdI4SMr9xmS++uUva6qoDfB4wWSF8z7/qiXX/BHEvtrW+krGg3CxQb4vNkIsvnJm8X+qBJfmDJ5671Pgl0fu4pZxwLbgxAbrrsdGSX0918Og4yGz2WZNtvlZrAyxFTus0kIyJULvYudlbZfM/ZPMgh1y9omGkTbEDC1rxZmovwCo2eHlXnmdxA5TCV6eH/E1n7Ti1HFBS319I7dbqCweG29z2yRdSyMjAKT49LdUGYMq4k40twY2kvS8LvqadFvkVWbMxjHiu9nPbPj2+N4+NA47tlt1xOsXxCITfMuRYcVLJ4KizNl+qXR9NkLKcDrLp1HO93w2KSMZc8uY0XpmboQZIUFc38r2OVmlBf11RZBlHC64cEc9mrEVbAr7sVGoCHMjOH0Y5YD+iQmg7yyWVcmMpkIDg0BU1yzzEa/F52GM+MnP4MG0sdOzwFAwfRTyU/AajPL2LQPexFGOtFc+L9ruuiLI7+ulb4E56PoVPR9XEcywaBzn7ndAa3yAykcHQEOJuKYhWBuPe3mr8t9OUTtlTd/lrSBkk8a58bBxAwOTvvQdmwMqwkOr7MjeD3jR5dTK72av6Hs+akA0omZwvsVyh8NwtU9B4DB1KQbSxhHOiGvT37RYEnB/CZ2eg7tezhzHxTno+hkRrEU7UeLRPnkTQ5XIDU1Lt9/Bd9ANoz0ADDh9ZUoGlU3My77fgw6Ob3915zPrB4zq9pQxmf2QOm1StovG10DWq2Z/Jea7Oo1l6u8/Rz+GaR38wtdRaRuF+VRr2NpEcdwWE92aiaM3CjavKMAjPueZSMjfEyA1iY4xsfQx+iMW1F2fPWis8S8UYG8Tzyg4hdvBSLZZMYtQ7D8Olgip1WwTP7cxIh22KT+5HkXMasepB0bo/y4MpteiZQ1cSckrOP1kxzYA6U+vaFu4ZtdJiZKNjKCQW+4EL/DSiqxNnH4A2C9Pehzi/x385tt83GdckSHKwhRFtuV2cXIP2Aq+AMAwGD/97HX/63KMlLx3bECflVF1IkzKSQBeAzlwq+6etheDI5EsBrKTx61JzvKz89PfvROlgRz3PkOLHULfhySCawdfmh5E+CiItoyEAZb8MXhTVTb96hNJLWuA7x/T4DfIS34xxaDZs2KhazhyZRW+QGAA/aMFyaNvODKX8/3yXUssCPAeOnkS+JzfFKhCMIuftbNAHDDgSZ4vByWLgNwaqUv9Tfklde8ZUDeF0bl/Vr7kU708h/AVADpAWVB3rJvDGAYTOwu1mk2EhD8mM1OhprQdaAXru6AKIgSv7sKUcCp8v23OFlnRWmkH4fK+788gEW+j0kQFjJK+536+4XYMNL1tBhXIYVd3yGVG9gw0gPllUnV8Vro3+rt59jtBoZ64FKZVLazYRxugF36sogVLsPo8LmPBuE6piev/K6IwiStwqB8xQBXQlrR4vWSZoAX3CiWTAAAIABJREFU9fGVrJpfajmUZVPFeY3w8QtaJAup5Ra7ayx/3grj3HtfwLYrp3D1Qwe2dT6Ej5ZO4dO7n8DuQDu2A7zp8Mun8Gk+ze4ePPxtnzSPJfExOeJFnSxSM0dw9UOVtFbg9OMg68NeVrzIsYYJRmgLCx5RWLSuMBCZ2fTq2OC2JpgIryqMBa15Gz8PcoNFj+4AkUrEpn04KlY+8+6Mhvz18zRjOMHxQdUK38A63Gzb4NiuzE4Ff4APPrhS+HfFyqxNOB7pQPvQMmIDzUWhVBI8RntnNDbN8KtFA83oFO9+Vfx8Nw4aGAi8E3oA6dZmPDYZQNv0mv2RChVX6HfCwwimN07+QzrYrRY5Uet6nmYMJ/idtr0A8oJiVl4/RidTmuXnnyXxbxJ8jZYK163DtOlYNMhHJAwJ9SiYaHeWfT8etlzAMqcfswk3b16Z/xszhtWERbsXrf1IzwfhElle6F9BFkUSDJWf9Hq8qEiZVQpgUfoxLIPC+7WLIx9qwrfZoCyYVSny3T+dUWxL0BllUkDvrm9XyOC5jXrRqehV2v7mqbT9dJJZQwwW7DzrMPsrfOcsWhwoKrKy/ub0YzbxKBZYHQF2VMaXHZGWDROdE51UoMAOF9p1mltmIyMY5ID2PRAt7utY7DYtf0xy4RR+1zmOe94bwftL/4J7DvXg2uFlfJBpx3ZnHO+9fAqbO8dx/0MAEMd7h8N4+9Rz+NITDl7RXcpi23fG4XZCUHz/pZD15VeP4Or2Hjwc8CGv2BbSWkjLQByrkYBkIZOdj2PW9DgQ7aYWIiVXM72wGHgyhSyapemjywgxLuyvIE9VMhH0dacwxfVXtuh1skOY43VgwsugD1aOczOuEzoWDFv7kZZ9jPVGWZZTN/KtjqhzM2Od5lEA2HnO4E6qgGCGU4zaxgePKXYW7Y9FwVRVUMZaBjhMsYywclT583Wv+EWDwoSAf77DPy56fo07vDDR5P1SUbpyqHW9AL/65WEZJA/UPgJjsoKod7aSiaCvG9KIi5fTWMEcVrxzJbcbN9e02Qym4p0nvlz5sxi1ZAVb0cqrBdi9s6ZINU2XtI6wseKIG/3lKOkHbBjpgXiNduoqbT+95sG9WBzvraxoAtkLKQAd5e+JBPjjSULWLZKWXwhpQldI55ipaHyp16/c+qJ9MlyBqxBfrrIKj9OP2QHRv1WCXRaV/gCWvFIrGb3lqFz+mOTuJ/AHDwEfvwfc0tqBHcjiPeHSlVPL+OTuJ7D7ofzNPtzf6cO5N97FlSfa8fGZU0Drc7wiW0Ic1y74cM+h/E6sA+6vFNNut/g17HHV0CsbmuDxMkCJsmU2PYSAozMF16Y8lrgRSeB3sz3zRncslcynmzGcCFuo0F5CkpMv/FcGf5qJbHxGg3CdLo0MXb/uP42H7crsYP/3JWbGxlAzowwoKDzrWKiohE3oCnEAy/DKFIysegiDzCtXwPJ5ziHmLz9BMPd8SGzzS0PvW71yJWOHSyFghTL87pZwvt10qcKqdd0WDJS/vlnDBLOMTk7Bh64a5/FGg+i70FHZZE9E+d1OrZ1VrY967Y97Mfd+ZqiWImk9segaWlp1ygLBB5ydj5esgPOLZcZ2nHn4dhnsLvW/5seW21BuxlD+/h3CuEIfWjfVd/iInOpnuhWPR7NPlhiydjCcXml8GVlkWMeCkpuIbvT7LcvldbHu+b7bkgiLzjjVX4LayR8Ntt9TmeKZeR83EMf7h0fwvvjvd3/BmnLpZh0L7Bw8puIx6LGiYTC1z470zdg/CbSNRPBYvu9Fgxa5EQkIZvGY5AzuZhddykotCfLmvRYcj5TZif0J47vFpSibK2suFtrmq3/zYLsyu9f/rbozLS6l8nM8HxuPq/id5FeV17Bk4/Njx/mVrtJJan7HykacbnjkK3qZM1jiGHQqzovyZsUys2rV6yoCmpNPLPkARvaUn8PS2XV0FQRpvQXOKPqXlqx2qqy4GstbxwRM8Ik0N9nTpqVmO2vVYSO8X0hJ6RNRahFQRllE0d9Vzwc+f36nksLeMhDHIio7F1n5nMQ8Oo9IsQN5ADqYC3CmGPwkHySOLROkryo0mTZTLz++1jDhnRH5lVr9fB3feIWzfrORgEKARPEkXmuxXD81kz9X3scV+AoK7ZVsFoBehdSHew71KG44WkIhSGI5ePeAlstBEw/SsqIRFiRV3ZvMpXf4Z7AKsRl1JQt/6s8d5Cr1IdUaNwasN8rhbLJIibyEJAeEvGsYLizC8gGvwLlV5r2EFdS5mXG90wRHjc1dazsB5v1H94pW9GLHR7HChkv9WQHkg4eADauUWX7dgJlkNKjhj1Z5+VeGiit/2ciMymHkpX6o1SA2LQTCUlztFFZcmSA8og9TNrMOh1PPhN7YzkWtkQdqUsLYZF9rtVst6JFVE4Hq+Lxaibqvs/rOeHllUS/CiridG6WGsbn9JEERlerX4PND+QWFou9u7AKwyMUtjmZK6MXhn0Fa8YqRxfL6ZfsXH8LF6Cn8+q12bBd8Zn8dzWJrp2Am/HkH3k/mzYZ5/9pP8wGgnA/ijrtP4f1X49hhddCnPEbMsxvtzF4Ztpi8Zi4huSeMtIWuCUYo75OqHrSwUp/U2HQPkpNhTJ2cwUJGWBiLzmHQG8bqnpnqxLK5SSFlliiDfDLE8RFDWbF/cByL077iip7E51VhZ8/QdfspX34A6MUi58JRr4/fAVE0281HjMxPBouTUamCxfHPMWD6Wz698vE14ucXV1xFH3s2LEQuFrUv50OohkqQeXhlxvjRA+Wodbj8Wj+/keDPI19ilP0Ji6aa1bSoqHX7mX9+i79GfpbEzYGzHV/6DvD2yyM4J2jlt7Q+hy8JPrTbn+jBB8kjuHD4FC7AgW3f6QFezltDOOAOPIfUzBGcE50pdUtrPgAUH0zqk/yFC0dwLiq+TtiOsxnDNfQJrZ5PqvjorWbgkQ70MT4k2V6EQsBiohkOzGBx2gcXWwXXr5sQUmY1acZwTc2raom+yZD6zooeE5HKzKutRHNnSM+xUCoruGXzbu0vRAV1+GcwK0rTIvq3etn0tY+6QK/1ZFuK5hEvQJmFgPLmqgWqvFgixtz7mUFn3cDMYoC+Z9h6zm8hAq4PLtlifPskp3CGshXczN8HazE7Psyl1xlxuhoxCGyiJvLnoR48nFdMvz0umAM7cP8h0eKqsx1fOqQWvcIBd0DmsyROq3S9gA/3H1L3AycIa1A4SjD/LZo+Izn1oWUgjnQ0iL7IunTnd4cL7aKjJVVpYPljN5tyuVyu1oUgiPqEj2Td2bC7lQRBEARhPb1//gPM/ZXRoJ6Nw0Z/P4LYSNDOLEGoQrsuBEEQBEEQBFGvfKbWBSAIgiAIgiAah9s2b8a1jz7RvrEBufbRJ7ht8+ZaF4MgCJ2QMksQBEEQBEHo5qvNPiy8dmbDKbTXPvoEC6+dwVebbYqQTBCE5ZDPLEEQBEEQBGGIV06cwi/W4vjtjRu1Lopl3LZ5M77a7MPTTz1R66IQBKETUmYJgiAIgiAIgiCIhoPMjAmCIAiCIAiCIIiGg5RZgiAIgiAIgiAIouEgZZYgCIIgCIIgCIJoOEiZrReunsfC5CgmfpzG9VqXZSNx/RouJs7j3fOyXyKN7NXCTUieOILBvwwjdqXSB61jgfVhIlqj9NEgXGwE2UofTxAEQRAEQRANxq21LkBdczWNN97MwvFwGzzbzWWVfWcZC//tBF7nOFx0Mnjs0Q483dWBBx1b+Bs+voTYiQje+H0H9n/DBcct5otvC1fOY+VsFo5HGDxosk6qwdV3ZvEn3T9CUuli63P42Y+exYN33MDVFIeFH+/EV3v9aNm+pfTeaBCu7rni/9kw0gPNdhWbIAiCIAiCIAgNbo6d2QyHv+j0wfUfjuANA1tX2TfDeD7Qj1fOrZt6fJY7gr7/8BxeWDgP+Bi03JbCwpEBfKNnHD//58bah736Tycw8Z9HsCCukwrrtxpse+A/4r+eiOBnPxH95qfBPgDg49/q2gXPRgJwdQOLiTjSwm8RPbp3QrORAFzTaxW+wRomvD64FH9BxCrMlSAIgiAIgiAanZtiZ/b6p1fx4RUAH6/j6o3rABR23szkn+EQOroMPPksWGanNPera1g4+iO8+0AvZv/r99C+g7+ajf4IB7qPYOJ4B1qGGTgsLVF1qWn9anF7EzzeJml+588hmQY8PQ9j1x2iCx9neZPk69twj9MFxzYAWMOLQ8AU148W0a0tAxymWAYvRv0Ybq341XTCYIqbQZfT7ucQBEEQBEEQRONwU+zMbtnxFA6feA1nIiP4+g5rFS0AwNVL+MVCBK8nrpVcup6JI3oeaPnGU/iK6NmOL/6f6OrYgotvnsPFj6wvUjWpZf0a5uM0fj43g5Xrzeja87DMnHsNL/ynHnzjqafwfOS8aNfWDU+JItkEjxdIXjC3a08QBEEQBEEQRGXU787s9XW8sfD3iDm/AfZrLiB7CVdv3wnHrZewEp5H0tuNp5md2PLpNSTPLOKVn3B498o2eB55Cmx3BzzbAHx6De/+eAYvcpdwHVtwt6sD7P4OeG4XPedqGis/iWDp3CX8drsPX/vyDrwfz8KztwcPAgDW8e7yHAZPpPD+9S2450ui/K9eQjJzDVdTl3EVwPVfpfDueWDLLXfhnnt3wiHW6z4FFPcsP70BfGqinsqVPxPB0VdX8eFmF772f30DO//pZ1g4m8aH2IJdDz+Fp/0M7smu4ieLJ7B09gzehQ+PPfoUnt73VNEf9moaKwthvHo2hevOZnzVeQkfFsquo37LtM/1yxxe+W/nse1/b8LFX64ieQ2429sB9ukK6lcPH1/Cz4/04/kfr6Plz/4WXf/uLtkNzfizvxtA+85t2ObcIWqrOSxF+9Ei2YFdRzIBeB5vAkEQBEEQBEEQ1ad+lVlcxcWzL+GFj7fhK587gxe6g3ij9Tn8/aEmvDozh2zgKTz9yDXE5vrxH6c5bGtl8OBnU1h44Tm8fmEai3/5FHbhQ6RWF/HTk8KOnmMLHvu2SNm6fgk/nQ7g+YVLcLQy8Pz3I3j+FQBwgW3bKyizQCwyh4utDFpuu4SfvPAclv5pDIuTTwFL43hyhCsW+ZUB7M2nPz6P4S/fhS1OH1ofAF742QnEnnIVzYzf+f/wk+XrcHQ1Y9c2oKIwtGXL/03s/F+reOXHywCAny78iE9zbzO+cvt5hOLb8NUOH+Iz38PgCQe+wjyMlo8v4Sd/N4Cl9HUsTvrhQRoLo90YPAm0fO3L2PZPL2Eich2AoMD9XqN+Py3fPndnz+MnPzqCdwHA24Z2x1X85MgJvH5pGot/2YHrOupXZ0Uhu7aMFw+PIhS9jpZnZ/DDZ5qxTR5k63YHdnkfwIP3irXkZuyfZNDWHURnomhqHJtmMIgxrNpuYkwQBEEQBEEQhBL1q8zeug277nUA/3gZyQvAJQD4XykkL1xF6moTWu51AImf4egRDvf0HMH/M9SBXbdeQyz0LPa+MINX/vhRDH95J745vYpvTq7j50MdOHBW+oir70Tw4sIltPynORw72AbHR+fxykAP/uIfpfftenoGiwMMHIX8I1jZ/xTYzhG89u+u4WrqBP7iP8/h+tPTmNrrFnYOBUVrWzO6DvZiiZ1DX+cv0c7sxJZPL+GNfzyPq46n8Dd9TMWRi8uXfzM8XUdwvu0Env/jAfz84yZ0Tb+E//vfu7AFwPWr17Fl2xZcfS6C1dGdcNwOANcQ+9Gz2PvCCawEnsLd2Qj+7uQNtP9lGMd6HsCWq+cRes6PiXw9bilfv9c12ufP7hSy6RjBzyZ74LnjGmJHn8HeuWW8sb8DXXrqV6uOzi/jlReP4IUTaQAP4OnpcfzZNx4oVWTL4PDPIL07CJfXV/wjG0Y6VGfRjLlRtHlHAQDsfLwKvrwEQRAEQRAEUTvqV5m95S447t0BZFN4N34dFwEgm0Ly/FW8Dwd2OTYh+eYyVq434Zu+bbiaPs/v8P2BD7sQRuydS7j+5QfKBAu6jotvr+FdNGP4cR+vUG5z4StfawP+8ZLovrvwlT9yCSatd2HXAw9jF36Gi7+6BjywkzeXveUctgG4/r+58eADpc90MP2Y/X8fwMLfh/FiZBlXtzyAr/eOYN8+v8SP1hh6y8+z5WsBsE+6CmXbso3/1zanA9nzHBZ+eQ6x/57GxcR5ADvw/gf/iovnfomL2zrwZ48I6ba50L6HwcTZuK7yabcPf2fLl7/M705jMxz37sSWj1O4eOUG4NJXv+pcQ5KbwwsnbuDrz05j/74OtCjZJt+yGdvcDLr+vQM7t6nk3tqPdKK/zLOa0BXSUy82woxhNeRv6GBiBEEQBEEQBKGX+lVmsQV373Rj18dhLBV2Ss/jjbOXcNXxKDyf24zrH1wFsI6fjvTip7LU2z66juufAlvUduD+f/beP6itK0/0/Mw4sRLnGT93kJtp4MUlaXiJnNfB0Fs4naprkph+uMrTPTNykYWtuAdKqcEzrnGqe4yxC+/0LF6wofOmeeWukIqemSTbeE2hfUm3t0wad4xvleNQ1WCcbsseFql4z9BPsUgo440TOePN/nGvpCvpSrr6BcI+nyqqkK7u+XXPPed8v+f7/Z57dwkuLcG6MjatXxvJc6MZM1ph0ITJ9Ejk01owcZtb6rEuRgUr89O7+NvuXfxtt8EbUmG4/Arlf2plU2xhg3OMnWij5Q3l2BjbNu0u8V0C/jnYuBVzWMAzsaG4DDMGhLZ7dw09H4h5Rg8peQW/Sp1FatZT9fJ/ZnzXEpPvDnL+t3a27LRguuPj/Xfc3HymmZe3FRP0j/P+RwuUf8+R5OzcBYacEjN7E+14prqehAk3Q6Xb07xJIeBu5SBHObk5o9sFAoFAIBAIBIJVSwELs1BUYqEMuDQPWGrY4hvn6vRtqLRi/reopV9PrbOV58s0kpqpCNt3UpiSrlmL6TET3JlTdgGfMAFBbgUCGbmv6nLvNjf+W4ClYCQu7tKshxu3IfivQZbmrvH/zAeY+1hm0lSJLZ2M0yn/Q1C0oShOsF+67Oa1N6Yob+jhv7TtwlYU5Ia7je8d8gJrKdpohqUlAneCsFFJ/8s7SywZKh+pn8/t8TQqnCHrijEHvXz47iBjksSe71kwL3k5//YAM827aNhWTNB/jZEhN+ZvN+PMQxHMm61wqAmLK8EPnJ2M74HzuhfLsEky7ZKddp2rtd0yJx3FMJGz4goEAoFAIBAIBKuCghZmTUVllJvhUgBs39lGlWmcq9egqKwUs2k9j1TYMeODsm00NKVjfgpgovzprdgY4L2zl2l4SsJ85xrv/0oGLOmX1YTmKBeF4NwFuv6yjffvJC7DluckrNuaqa9Yy4d9U3iXrfxBbvqmuIoF567tSvTgO/Nc+kAmSCmsMVFmt1Pk+ogPPbf5fqkJggEuX/worp76rKc8xfMJ/t5wZXXbN11uvNfHQb8bU3COsQBKgK97QW7NebkBmBaXUu62uxrtJJJJAZx7db5MaaIMkOiIH8V8uSHF3QKBQCAQCAQCwYNGQQuzFJmxWYEAlFkt2G6b4FqQ8ifK2PAQFNU42LPNzWs/2c+ri3/Hnm1mlrxTTNwo5gevONhiWmDygwtcXVzgqicIAQ/n3xvk1jfLqHpBwra1kX0No7w60ErNu2WYF+fCu5qmh40X0/SYmaIiuCT/mvcrApg+C2LeJlFVtp3D/5ebfVFSmAnTxlJsJTEik3+UGRdpCLNQlKr8gWu8PyLjWYJbvz3DO0VetjxXp/rpmthQYsXMOO+dGua7D9tZ+k0f7aNB4C7c/ZryGgcvP32Gn/+kg6I5iU1+mRPuBcLRjIMp2jfF87Fl276xbWgUzVFIwc+u8ctfnGEJmHx7kLG6p/i+JXG6iQMrqWbGmZVIIBAIBAKBQCAQpElhC7MmM1ueKoOP1mKzWrEtWYA5tlQUKybERZU4ewYx9bTR1dfG+33qbS908IOHgOAc5/uP8PNroQSvMfTaUYbW1fGzrTXYnijj+0cGKdv2K96Tr0GpA9O1k7gu2/nTkrWYvjKxYU0RJq1s80gRRWvWs2HdI5EdvJKtvPSXlfzyjTd49SOASn48tI2qkvWUW57KY/skL39w4SNOv3ZGCZ71wQBdH5ThdG0LB50yP/dX/OzHc+x9rZeWswDF1P65hPddn5K+uYZ9P+0h2N6Gq1sGyqjdWcnk2SVM60wQ9KZo3xTPZ+16ikzrKSqK+Pw+sq6IojUmNkTclJO0b3rCbPkP9nP8sIQ5MEq7Yz9Xb3kZcQ3w2sR6apv+jOC7g7z6Nyb4pza+/5TRY39WA4qg3Y4IECUQCAQCgUAguH/4o6+//vrrlS5ETlhaYMYfgMfKsJUaFETuzHHpwjVM1q1sKYOZDwZo/9EAS019DB+qQy/wbdIizPu4sQRFpRY1Om8a+BUB61J9P8OHDR7Xk6vy31lgZm4JU0nicgeXbsNj6xMH1EpFJs8nNolM23dxnK7GZly3K6mtNCtmxvK1sNnyFmc/J/fXwG//mYP7+xhjFz9zd/L9J6IbcLLHzu5kNsZkcyROFgGkACZ6sbxuSSCsTtFV0YSLZoY1Z+UKBAKBQCAQCASrmftHmM0Ev0y7o5UhbcSk6r/mF//UyrOZmrBmSnCBydELBMq2U1tZbMz/t5DKX8jcu83VX53knfM+bv2r8pXJbKHa+gg319Sw56XKsPIg6J/i0nQRVc9Z0jqLViAQCAQCgUAgECwvD7YwCwT9Pq7+7jIzi7Dh322laqsl7R3ZlWS1l18gEAgEAoFAIBAIMuGBF2YFAoFAIBAIBAKBQLD6+OOVLoBAIBAIBAKBQCAQCATpIoRZgUAgEAgEAoFAIBCsOoQwKxAIBAKBQCAQCASCVYcQZgUCgUAgEAgEAoFAsOoQwqxAIBAIBAKBQCAQCFYdQpgVCAQCgUAgEAgEAsGq4/4SZv1uWpxuAnEXFhhy2rFUpPjrmco468keA+nrls0oSh26JjJOYJXzoNf/ASDh+2uEbPvHKu9fE73ZjS/Z3p/39lvp57PS+Rc6WbZPwfc/geA+J6v5dxWQz/qt+PybiCm6KnqZhOzqvwrG54fyl3QuWWDIKdEuK5+cpzwcrg5dm6KrYpT66QNUJby/mAaXh4ZkWUz0YnndS4BKzBmUb2Y6tlxpMtGLpXEg/DGrtFYlU3RVNOEKfZQ6GXc5MngWgtWFkfc39DtN/3AO4murNJ5Nnt+vyR47u13Jf5NNnvHpSxyT+2koySy99Mn3+5nN842eHxKSNM0s+9d9z8q1T+J3q5nhlOPGMrN4jbGLAczPSWzZmPrnS9dkxn4X4EvgkX9Xw3/8n8owrcl7KQUASz4u/TaAeWsNNgPPalWg2/+yXT8XOvd7/ZYLpR1n9qa5TolZW0WxjOv4VbAzqzTwyE4Z37QH3/QgNLYy5F/pcuUQv5uWRi/HZI+mjoWqZdZoegwQcLem3vn2u2mpaIJTofp7GN85Sk0a+axWDLVP1qiWCSuhdZ3o1bFSSPe5KgvpSP+QOTbdRIt7wdjty/B+VbVF+m7s37ATkDp5JQvhOT59o4JsDjSieX8/s3y+qrIyUfv7pj34TjXDtDdB/882/8JnyTfOL92jTPqDGdydTftM0ZWVJVREURz9TAdx4mWmwNYBS/9yhq4fdTB02UDb3Fvg0tsHeLXjCO0dR3i1x83Vz/NfxnyQXf/KEr/MP9TbsfxlH5fSmOACvx3k1dYDvGPkWa0S4vuf3vo5d3Pf8qxfkpHf+ilzX2TManG7o8ezlGuqbMe/VCRIP6O13hwzsoStNL27ArNeRbmpN+8u44ZU4Quz/guMyM3scxSrX1Ry+JSV9rfT6wgpzYAbB6DCuiI7gZNvH4Huo5rFaSWHTzXjen31m3yYHf3K4rdbSvgbpf5ylDbI7Ohn2DnAiftoQamHkfbJHnWxvxI73dUHsl6EBtz9uJyDmv5RTMPRTjjUYUiptVLvV2ii383gyrR9jsj3+5nt84Xsxvdc5F+4BLkhv8HeHzTz6qFO3vPcTjuF7NqnksNpKxeMItMuhZ6xgZ35QmNNMbU/OsWvhvr421VrBJB9/8q6BPeWuLUILCywdDf3wnTQL/PzjiP8XJ5jBUT17NBdP+du7lue9UsS8lw/QNldVMetkw4rikWIUWEtn+NfgvRPNWcmy/i9zGDFtmzWXrml4M2MAxdHGXO2clL7ZXUdzsYmLGHTo2bqk6aSAzPgpBRjq4D2RjtJLQ11t9ynGHFJ1MvF0b+trsMp93Pe71hGU8KVQHk2theL465UvdjM2G/mgPhrAi0LDDk74Ohymp0uFwucPyvj3Nsf/XWJg33OI4zMA0nrvNzvV4w5ZlYYM5+t7ZY5uTknGeqWIb/vZ7bPN1LGzMb3XORfoNy7zdV3e/ibQ25uZJxIIbeP1tReNZFbqaJkiMlsYUvRWq6aTfA/Vro0aZKT/pU9ptJdHD9TyY8xU2425T6DpTk+HHIT3NyEc4VktkxJuH6WR7kBq1bBGuJ+r18mBGa94BpIQz5S77s4yhgytokDVK1CF8eCF2YBaq1lOt+GJjLFJj45BoXNLHxwqto8+NoyuFHVhtTHLQjKsEkyM9ksFlQ/4FpZZkzqZHyvj5rGgTihOsonKc4XKtYfYTAum4C7lZpD6g9ybSM/nakfs5bk/n6J66/6W8gWTkhHGNO51wjJ23flyXf9s0M1fTkaf6XcKjEzuwDVSYSpfL5fQLzAKSnmzNo0J3qxVDSpH9IZYwz4+ofzMFzg3JL1+5nl882a/Oe/5JN5b3iUD3/vwfulGXvNLvbt3YVtHXBnjrHT/8y78mW8WHn2BQcvO2ooXwfBeZl3/s9rFP37Ym58NM7MbdhQUYfz5TpsRUECFwd5c8rMD5p2RfzjFq8x9PYZlr7TzMvbIOD1Ym7q5B//wxQHD13IoPQr/XzyRZAbH/wz7/z2S1iVAblaAAAgAElEQVSaJ2jdRX2Zl5Gz18C+C2eTRHmK5wPAko+xoUFOX/QSLKnkuyVz3NJmc+82MxeGeec9mauLRdie24WzsQ5bUe5qsir7V3CBS0O/YLLkz3C+YIHAHEvryjA/NMfY4ClmKhp5WSrDlKz97t3m6rv9vCnPEcTEBksdzlfqlHpHGoex99yMXJ7jy412XthWyk1PANvuJrYAsMDV0QHaz3i5GTSx6dua9JfmmPHfZsk7zxIQ/B9erl4D05r1bHqiDENyc7L8/W5OnB7n1loLL/zPf0bZv/yKoYs+bmGifOsuXnZIbAqM897wGUYuXuAqdp7fvouX92ieR6r+R6L1s2IdVbUMiqhU659Yn/jabpmTjmLD11e6foXFFG8egmOyR1XyGZGPQvfJOJ3KrvYrems8+Qg1FUeAaMWxebMVDmk3FzUs43pxVQizuSBjYXOFccUI4M69aSYgW9k33c++Hjs1r3cyPi1z3tkR3pGa7FHNIKeVAWayx46lJzLgTPao/giuYsILd42mJ+Bupcbbim+6P3x/TY81DYFNUTSM6CyKJn8zQO1OObsXwe+mRTqC7ZQHn462KVX9YYDdkmJWcpKY+k30YmkkRjiJ+JcdrjaSfjL0ghdovlPrNha6JNlpB7QCUypFQ1b1N0JsGUPlm+/FIg2EPxvRHOox5s1uZzDr98uIwFl9AN/0gbTLFs1KBUjL8/uZAmPPN3/Kymz7V+DiG7za2selYDFVL2zFuj5I4L/PsxQE1szxfk8LewfnMFdLbOEjXJ1nGJvt5xdtEqbANd57o4+rABU11JqXeK/vDOfnehj+SZ0iWPQNEHxqG//4glLGwGU3r/38Vzz7nxphTRm1bYPUAoEPrmVch2Skbp8k1gXOwSz7jmJm3K5N0uj7e+82c+NuXANz6hdneAcwmU0Ez1zgVomb43UwluT5mO/5GDrSSPtZqHphG0X/8s90uYOE2+PebSYHDvC/9MgUVUtsedjL0Gv7OT/bw/BPdlGeg03E1du/lrhx8Z957U4Rz37jAq819nKpej+/OFjM6f4BAq27ePm5FO3HLbzjw/zyrGrabDbx/EsaYTY4xy97Wnl1SKm/7Xd9vPoOgAVnzW5VmIVJ9wA3qiWqHpnjvdf2M/IvnQx374KRo3yvQ9Nx32ljd+j+t09xeNv65FVMmv/3Kfvv47zzriJo/HLoDeWeJyp5dt01XJ4ivltnx9P/d7SfMfOstJWqO3O89/M2RnxBhrsd2EjR/5KifXcyn39TkXp9GX091f3GWZ76pSaf4188iktIa7Qy3fB9ynOpT7TGS7Tm0K5vJnqxvG5ZkeCteRdmh93/lWO9PwWg/cDfs9vxF2mnETdh+r3MALaUd2Zq8md00ZPv9LUakAzNqJx1ilBjlQArZoqxVciqeZhignlMjnTaqrZBnBX9DO3ppwE3J1zN7JsOtX0xDXubNS9mSAuU4H6DL1TVnk6QJLo2R7Q9AXcru13NDE9nZ8I41BHv7xchRf3V8jtPRZ5V1Z5OajvU3ajqZo5JEiNas4yJUVxSJ+PVxtPPmBIHJ6cdJDMzNjv68TlUofZsjutvpIzzPsUqQGdwUwZAo5pDffS1ssbJ7v3K//sPqAqBUeo1O74Bdys1Fb7odBJoTg2T4P78vZ+pMfp886WszKp/LU4x1NfHpY27+Jmrk+9XREsvS78f5c3BOWzNqnD0rwuM/ae/omWgn6E/24pTnZ1NdR38qrsJ22O3mTzxV+weGOXSK3X8YGsd9eYzjF30ENguYWaBq7JMoOR77NxaRh4MLuNI3T7Kzq6hyNtp999szIxNmNathzU1HHY1c6unlZ8Hm3j9f6/k3b9pw+OZZ6Hck/T5NCy5+fnZu9T+ZJDXm57CtHQN134HXReVHILTv+JEn8ympj7+j0N1lD90m0nXX7P7tX7e+cH21MJQKlZz/3qoiPInzPDBPDOzMAfw373MzC7hXSqm6gkzpGy/Mr7fM873uxd4/1Adey9GZ7H0ezdvDs1R9bcDvL6vBvPn13inrYl/+CD6d+Uv9zPcJmEOp+9m7JVdOOs7+PV/uM2S9wz/8KMBgi/3cGy3Vd2ZTf3skue/FltDH9dqzvDqD9p4/04xDT3/zD/+uQUTEFwKYioysbTfzfiRMszrAG4z+cZfs/u1M4y17mJDIHn/C6G/fk7HsjFTUq0vFPeQ2p2JxpBU1xVWrn4x6I5f+Rz/YvC7ORizHjeCsuFhZVhVGFS1eRjusWNxrq4TRfIuzB7r/SmffbYY/j9dYdb8XB21h0aZbKuMLNrmfYwhM5ZS86I4Rx/OtPApyUH6JVZsjOqYRCQ278qUuIXHxCguqY7xqHw15pf4GHPWxfsjoA4OuiacGZhvljg4OW1VorKFvpM6GZ/O9kVS2rD+aIIFd6r6lwDERHcrsWIL+2MU8/xOKWrXKmq3ylD6K0jW9V8OErWX4stn25tCmMrr+5X4/Q+4WznI0ShzqEwJXByNCWAFZsdRjp2NUaRku1ub6P68vZ+Q3fPNhTIhy/6VhKV/ucB7U/DsoWb+Y0Xs0j/IzY/HmaSSw39eg3kNsKaYqp1/xpaBPj70BHj528ovq7Zto7wIYC3mJ8ow3fFyY/Eupqef4rtSMUMXx5n5TMJ8z8PIB3OUv9CRQ/O6/LVPHLr9L9muezPD2dbzG2WU/4kZ05+Y4E4p5mIzG4ogGPx/+cPvkjyf38/ynU8/4kZRHT9+ThFAKLJQu1Oi66IHuMvMb0cZCxbzfXsRS75ryg7oN+2UM8jk7+cIbnsqK4FwVfevNesxP1EKAS9XPUHF5zbgZebaEjcxU27+oyzbL8iNj6e4SiWHX7Qr9S+y8OwLNfDBnOZ363n2OxbVZHg95U9tpZxfceN/3IanyrAVQXDNZYqA4J9Y2fKU0WdmNH8F0wutOL9nCadtKlL+KyoxE7gmM/TRZSZ/5+PG9DWglJuffcqNy8n6n0Li9bOVfflef6RcX6ibI40SFq+etVqq6ytcv1jyNf8aYoou1QKxIcrqDZLtTCsm3PHK9ao2D+Pu1jStLFeWwjczLtlOvXSE3T11aqNO0dU4oLGbX0bNS0KyOeewknqnzImLCzRoF766A8HyEpj1AnWJfzDvY4wBxiriz5hK31wzD4qHhP6SucP8XB10XCDgcGBOFGxIkAWKwqD9N1Mcrta8O6EohiklmcJ9vwqBsNCdMoBUvhSD2TzfXJQp2/6VmFsL89ykmGefMMcvgO/dZSkQgCIrmzQ+fqaNpViLwBtYInhP/U577uhDSkrBrwCTma3PbaPIfYHz082UBWXO+8uof0FdPOeE/LWPUfLvImSKP9v166+4nfT5fMofPpmDjVsxF4VFEDYUl2HGA//fXYKfLQEL/LKjmV/GJF/0eZDgPbI6U3Z19y8TG8qslN8ZZCS8U3qNSxfnWDJvx/aNtdm13727BJeWYF0Zm9avjeS50YwZrTBpwmR6JPJpLZi4za07XxKEzJUNhvNXKP9TK5vi9BFzjJ1oo+UN5eQO2zZJ0+53CfiT9L8QSdbPBXHuqmqiqkSjJ36NnOp6oddvOdC40im7uVq3pmTy0QLlexKPrWZHP76kGSeWe0I7zCFquwfzbuqdd2G2/cDfR5kZp08xDS4ZnJLSmYl3AE9NNsKm0TKm8JtTgzHpmWcqZnwdDD2nmiL43bQ0DuA85cnv7lephdokl82brXA2hUnpcvjuTfTSMluX/suQcFdOJUX9jeWxnXpUH+T5GAEpF+nHoprY54R8lM8ofjddF7dz2JH6p2ZHK86KJrpe1JgEq+bjRiasZXu/4g4Pl7AcUv7LJpK6+bm66PIDAXcH7XIzwymFieT+pOGxNJsAUpm+nyrZPl+IDxKiS4LxPRf56/HIuiJM3Obmos7CeA2YHjFBcIkv72m+vxdkKaheSykwmNikmoJekj/CFpQJWOqofyq3yrR8tQ8Q8bEyoPyc7LFzwpru3J8hfwRrkz6ff8P6b5hhaYnAnSBsNAFBvryzxBIohx4+BLCeWmcrz5dpnr6pCNt3nqIoS4FwtfevohILZcClecBSwxbfOFenb0OlFfO/Jbv2W7MW02MmuDPHjcW78ITyfG4FAstz3GE6+T8ERRuK4gTzpctuXntjivKGHv5L2y5sRUFuuNv43iEvsJaijUn6X5hcrJ8zJI31haKwUtbpejFFEl/Pc/1KrNjkpohw5uzkmDTAbu0GjtRpaPzSJY3xTw/FRFgb8CkdijGH7vG7aZF87EsrpkQaASpZYCjOzS235F2Y3e34i4z8ZKNJp9EyvD+JsJl3ShyclKFFE8wif8cIafO1Yos9nsR/gRFZov4ogIVa2RdtUjoxiguUhWvWx5uko2Qoy+BlUExa2t+eokFPSZGy/kYo5vmdcPDiAjZvTECcnKQfE5Vv3scYsM/o7cnISflSUGqhVuMLEqGZY/J2g4lUcnh6MMrMNa0Jaxner4i5jkdnMlAPNs9UWZalmW/mO1v5fj9DZPl8jRzNk3R8zzZ/fYqslTxbNMgvh/9vrr7w11Rt1F5dzyaLFXPw13z4cYAfWMowEeTGZZlLwWJ+YDFjJOCtqVg1BR3ooYsFbE6JLd/Iqtg6ZNM+6hgcE6gpjHMQn0sJppcdyhyfO9ZRnOz52L7Fvw/aKXJ9xIee23y/1ATBAJcvfqSeRfpvKK+wY8YHZdtoaMrOpFiP1d6/TEVllJvhUgBs39lGlWmcq9egqKwUs2k9j2TVfibKn96KjQHeO3uZhqckzHeu8f6vZIiMosZTM5HmGbPZ5h/kpm+Kq1hw7tquRFe+M8+lD2SClMIaE2X2ZP1PS7br5wxJe30RMiuOMRtOeT2f9dOz/nHE55Vw/Mrv+BeKiZJ3qg/gS6osnqKroh9bQt/gXI/P8RS+mXGOMKq5z1SQzTr9cDCf5UQxwdzd4eZ5dXd18u0jjDkHOVkC4GCf0x5nwgHN4ftf6YYaqRebRqMT8C9gLjGy0ElPs5M+xTQc7WREaqJFV6Ofqv7GUEyNOzghx5oYZ5t+jDCu7ihG2l9LJn64ual/UlL263iTK32yNCnN6/sVCnSRSKtZyWG5kxkp0SRthHz7/+uR7/dTy0rUL7/5m8q2s+eVGn75Wh8tP1rixy/XUbVhCe9NE1u311BeuYuGp938vG0/jyw2892Hpni7Z5Rg5X4avlMM80YyCZmCnmEJCw2SPesdP30ybZ8VWkjngMeTPp9vUf6vDl5++gw//0kHRXMSm/wyJ9wLhILRmGsc7Nnm5rWf7OfVxb9jzzYzS94pJm4U84NXHGy5d42xCx5u3J5jYjoIgSlG3IPMmK08+4Lm+J97C1w9+2sm2Ur9zqfCpqarpn8lKD9FZmxWIABlVgu22ya4FqT8iTI2PARFqdrPtMDkBxe4urjAVU8QAh7OvzfIrW+WUfWChG1rI/saRnl1oJWad8swL86Fd0VNDxsvvukxM0VFcEn+Ne9XBDB9FsS8TaKqxJS0fkWp8g9c4/0RGc8S3PrtGd4p8rLluTqeLTUBJjaUWDEzznunhvnuw3aWftNH+2gQuAt3v6a8Jnn/W3nSXV8sMPT6ADgHE8yRqa4XIqt3/FttPCDCrAHNfUGnnz9CkcsiZhTRu0dVbTLHNCYczlODOBsjNvhmRz/jtFJTYY8k6hzE1xbyZ9YGaJGVs6iW86zV8K5WxORTaxqdqv7G8thOPUdo1xmkk6efqn0iwnjoDC/nqUFsjf0xptOKxtISNiWNOPRHK1lkpRy5rv8Djzppxyh1IijBGcacg9HB1AT3N2vWU+XsZXh9H//wkwH+4aJqmmZp5hffqaHcXMO+n/aw9PdtvNPdxhDA00387NhfUbURgoH1FJnWU1QU8bl7ZF0RRWtMbAi7+Zko/84u6kvPMFTyZ9TbE0RZfcjEIzyCaTlCHK8G1oDpMROm9UUUmdYSfGw9RRRhMpkoWg+mdSZMxcmfDyjXg+1tuLploIzanZVMnl3CtM4ERZU4ewYx9bTR1dfG+31K1qYXOvjBQxBc9HL6J0d4/06oUOO4useV/lETEWaXfuem/Ud9XKWS4OYBnE+rD3GV9K+E5TeZ2fJUGXy0FpvVim3JAsyxpaJYEZhTtB/BOc73H+Hn4VOBrjH02lGG1tXxs6012J4o4/tHBinb9ivek69BqQPTtZO4Ltv505K1mL4ysWFNUXSZHymiaM16Nqx7JLITXLKVl/6ykl++8QavfgRQyY+HtoWF2cT1S55/cOEjTr92Rgl+9cEAXR+U4XRtU4VZMD/3V/zsx3Psfa2XlrMAxdT+uYT3XdWT0Zyi/+Wd1Ou75OsLHcuftK4LBBH+6Ouvv/56pQuRM/xuWjrguI4Pp6GdUwyG0NYh3+mHjx7Yu/oE5tzwoNf/fmWBoZ4LPN/mwJzk/TWUTlb9Iwf9K85nNkLeFV3Znu+W9flw+X4/k6efjc9sLvJPyb3b3PDOscR6yp8oo0i71rwXJPDf5rm1pojysuKsggKtHFm2j4H+F3VmdiLyEcPBwPMJLt2Gx9YnfnZLC8z4A/BYGbbSNI/kWbrGO92dvMcu/vFQE1v07IMLuX8ZKX/KNDJovztzXLpwDZN1K1vKYOaDAdp/NMBSUx/Dh+rUCMZpFGHex40lKCq1qNGfQxcS1C9X+d9ZYGZuCVNJTL4aUva/hMScW5/x/FuoLFP9Vnz+TYTR+hs7GSCxe4lBl6Q8xti5v4RZgUAgEAgEAsGDjV+m3dHKkDbiUvVf84t/auXZkmXYuVzp/AWCBwghzAoEAoFAIBAI7iuCfh9Xf3eZmUXY8O+2UrXVkvaO7GrOXyB4UBDCrEAgEAgEAoFAIBAIVh1/vNIFEAgEAoFAIBAIBAKBIF2EMCsQCAQCgUAgEAgEglWHEGYFAoFAIBAIBAKBQLDqEMKsQCAQCAQCgUAgEAhWHUKYFQgEAoFAIBAIBALBqkMIswKBQCAQCAQCgUAgWHUIYfZ+YaIXi9NNIPUvM2SBIaedrokMb8+6fFnmn/X9uU0/4HYzuYL5x5H3/iMQCAQCgUAgEOQWIcwKsmayx46lQuevZ2r5CjHRG5V3roXWgLs1h3Vb4PzZI+xezvYRCAQCgUAgEAjuM4QwG8cUXRW9Mbtmyq7Xiuxc+d206AmKFXZa3As5yECtm14eButb1ebBNx39N+yEWjB0f5ygGPUX+yx08LtpafRyTA7lPwiNuRNoA+5Wag5ZGdbWj6bM+8PEAO1I1LqaDJUx4G7NQnieoiubthUIBAKBQCAQCAqUh1a6AKuDYhpcHhpWIusSByenHXFfB9ytHMxJBvp1C7hbqfFaMWeSpN/NCZdEvVxp6P4bXpnabpmTjuJMcmPy7SPQLdNQEvqmksOnmrG87uYVlyOzOoSZ4s1DcEw+QJXm26o2mWNOiTcnHByuNp5aRDDup0oVNFuyqLsxJI7J/Zr2EQgEAoFAIBAIVj9iZ7YgWGDI2cqQ3/gdN7wyts35EoBUAW5PZUb3dklHsJ1aLuFpihGXRP1zMW1RXYdTHuV8Gm2qi9/LDFZscXUpxlYBM7PGdsdDptg1Z+sYnw4JxpUcnpapPyvlcKddIBAIBAKBQCB4MFgFwmy0GWzXhJ4ZsEKUuWrIBDTOTDeBCXEWvpa6+QJhk2VtGXJiqqwIcLbSrBPSJeDux+VszUAYnaKrogkX4Hpdp57yEWpy7dOaUNgswybJzMxnmX6JFRteZuKE4gVmpjGgUFD6124GFRPluJ1iZWfcN+1hn1cSQZgEAoFAIBAIBAKDFLwwO9kj0V6hCgLTMrbXFWEJ0AT9aWXI3ctBjkb8NsNCw3aOR/lyDkQF3pnskRjZKeunTzJBNXK9xtsaSb/iCDVR/o0D7JZ87NO7HhZyJdplmXbJoC/jxCguqY7nYwW4XAiLfjcHD1kZbqsk2t9Sol1OVqZeLBVNcEqp5/jOUWpidxulTsbVdkjHNDcbXI0Gy5+QSl7phnYp+plM9ki008krKeuhCqttqXe5q9r0hF2BQCAQCAQCgUCgR2H7zKq+l8fkkCBQTMPe5ohQUn0A33QzQ06Jdm8rvjadXbKS4ijhoGpPJ7XSKJNtlVT53ZxwNbNvOnRfTPqA2dGPz6EKrWdjEw/5U0YElaq2QZwV/QztiZjZOk9F/C2r9nRS2+ElQCXmsD/sAkPODjhqxDR3gaHXB3Du9cQLPVIn49kIQ343LdIoNifsdroZdzk4PO3hcChfp8SM7j1HGKOZ4WlPuJ5Kuyn3dG0OpaFPuVVi7JCE5ZDe1WaGp6P9VdPBeSokOCcovwHMjn58mxXFSSThQXyuVAJqZKc6PbKrc8bIR6ipOAJo200gEAgEAoFAIChMCluYnfcxJtVxXCvglVqoxRf3U+eLBv07S6zYQvfP+xhz1nFSe726DiejxtJSTVzrowRQjXlrCUCMOXCJFZs8yg3ISOgM71TnWtBQBdl6NVBQfY+dGicphePARR/1soeTukK4sisJQJKd4pDCQPldL5bXLcaF8hIrNkaZ8UNVVBnmmJElbEeNJGKA6gP4pg8k+YGmrmEqNcqAVUC2yhCBQCAQCAQCgWAZKXgz41wQfQ5qZKcsMOvNLuF5H2MMsDvKJzdTc9bUBNyt7J7uZNyAyWq66Vo0giwoJq/DFUeoSeHDaXYciN5NjjnvNf9HwFRS75QZuRgTPCmRKXa2+N20xLVJqgBeit9sUtPvid4sjvpxpxU8TEvA3SoCTwkEAoFAIBAIViWFvTNbaqFWHuW83xERmOZ9jAH7DCWgmJYqPrchAXCKrgpl59W82QpnVZPfTMu4TLtZkz12druaGZ7ObV6K+XQd4zrpVrV5GHe3Gjx+Rm1rFL/YqLQmerE0DlDbLWdY9gUCSYS1qj2dIHUw9JwqjPvdtDQO4DylY4qdLfM+xrDEfDnHjAy2XOelYt5shUNNWBLZKzs7Gd8D53UvKpYC7ZKddp2r4SORchWQSyAQCAQCgUAgWCYKW5gt2U69dIT2t6doaKsk5C8Kzcbu919gRG5mWOvbODGKC6gHVVj2RZv8aq+noroOp9wfLWznGlUQxKkVyHNHlIlvguuGzGRDba0nbFcfwCdbaJEGmHRofUFVAVhnJzvku6kg4TzVmlhYLHFwUoYWjcCWL5/PwKwXZG/0M58YxYVM7cUFGpKcF+tqtCf3n5U69b9PaeIMkGh3dQXPSBYIBAKBQCAQCPJIYQuzFNPgksEpYalQvnF2d1Irx/vM6jLvYwwv9WF/yim6GjXCcImDfU47u3vq1GizMddTokS6rZF6sWkC9gT8C5hL0j0DVutnG2FyFoZlT4w/aAGS1o55iHQErQWGkl0OB9PKI6FIz6dgd5SCxcsxeZAZ7e6wDkkF7IleLK/nq+ACgUAgEAgEAsH9xyrwmY2cw+mb9nB4s48xyUI5oJgMKzt7yhEsMb6Z1QfwnbJqjrzpxyYP4tScG1rVJnNsuinsT8upQZyaJEL+tjWH5MjRNxrfRrOjn/Fub5TfbM3bc+nXcW+z5hiZSD2qHAcKX5AFqD6gHHuk5/epRjymu3n5I/TmiIhf8QGqqg8wTBMWZy9dTomRnUdpKKnksFzHiJTDM3QLBvUsZnEGrkAgEAgEAoGggCjwndlYlJ3TiC+kgWixeiaa0/2aDzq7g9Pao3Y8+NqSlyqxqW4lh6PyCn2nYy5syJS0sKlq8+CbiDnCBiDm2J5Vx0RvnF9xqK5deDgZ2m0tcXByejtDzl4mXVpz6mJsFdCeyszYOVigkYQVn2DwZRyFWyAQCAQCgUAgyDV/9PXXX3+90oVIhhL4KPJZnH8pEAgEAoFAIBAIBIKCF2YFAoFAIBAIBAKBQCCIZRX4zAoEAoFAIBAIBAKBQBCNEGYFAoFAIBAIBAKBQLDqEMKsQCAQCAQCgUAgEAhWHUKYFQgEAoFAIBAIBALBqkMIswKBQCAQCAQCgUAgWHUU/Dmz75w5x4dTHr68e3eliyK4T3lk7Vq+W2nn5V07VrooAoEgS8ScIRBjukAgEDw4FPTRPO+cOcfdr/6Vhu9tZ/1jj650cQT3Kbc//4KhX19g7cMPicWPQLCKEXOGAMSYLhAIBA8SBW1m/OGURyxKBHln/WOP0vC97Xw45Un73skeO10TeSjUA88CQ848t+1ELxanm0BGN+egfFnlvwxkW74VqJ+YMwSQxZie9z6bg3HD76ZlJcetvJJt+Vb6/nyzDOXLqn8JsiJv488UXRW9TEJ2z7eA1ywFLcx+efeuWJQIloX1jz0abZY40Yulwq78xby8AXcrLe6FZS+jYJnwu2kJPfuov1aG/MtZBnXyKbR8ErZPuossZWGml46lZyq9eqiIOUMQIm5MXzYyFThi3wfNe7lMi8jJHvuyzG2Z5DPZk2CsSKtdpujKwTiTP1aqfAsMOZdxfhMUMIWu0NGn4H1mBYJlZ6IXSyMMT3uoQhFea5ww7nJgXumyZUDA3cpBjnLSURz5cqIXS+MAzlMeDlcvb3kme+zsduldaWZ4+gBV2Wag1k0PQ/UtcXBy2hH9nd9NizRqsABTdFU0oVtFoLZbjn4Wqw299mGKrop+bKUG0/C7aZGOQLeMzxXfFgF3K5YKOCb301CSdYkFDzpqfxvTuZSf91Ey/i6EKabB5aEhwxwD7lZqDskJruZobF1Bqto8+Nqivwu4W6nxWg3Oy8q4zCkPvmpQFu0SLW6jzz/5uB5G6sxwrZBt+ZIQNSc2c6zbS3uor0idjLu2Z5d+wTFFV8Uo9VF9XmnPdjJ9PlmQ9/EnQd/MqC/OMSNL2I5mWaRlRgizAkEMk78ZoLZbDg+CZsdRjp2VeHPCseyCX96oPoBv+sCKZK23KAlNPjlBt25pClsxTL59hDHnICeNCFZ+LzOrZfE472NMsnA8y2Qme5pwOQfxGRQ8AxdHGZM6GU8wiZsd/Qx77Zy4uEDDahb8BYWBrgImpOjLMf4LjEcCQEQAACAASURBVMhQn8YtSQVR5yC+F1OnccMrrxJF2QIz02B7Mcty+t0cPATH5EpDPw+4+5UxKjyHF9NwtJMRqYOh54wozSo5PO3hcIoytUg+bkDawlL25UuBcxBfW6WaV2tMX3kQLM2yUxZlRd7HH52+OdGL5TdGFT0a/F5msFK/ypTIBW1mnCvmT3dw+bjy9/G5QrT2zh9K3fvwpmU+4uF62vcUIgG8/R1cv5LOPVOMuCTqn9NOtMU8v1NiZvZBGPBzxERveiZSfi8zkoXyPBVHWSi0ZrQgCLhb2T3dyXibsUXTqqMigwlPy0Qvu13NDLdVRpvnJ9gdBzA/V0etfISDCUwNA+5Wdse9h7nCw/XjoTmhkMa5TMYr4yye6+Ny/xiL+Uk+LeZPJ56LF8/1cfm0J+73+WiXG14Z2+Zc9rEFhjqOgATtHcbNX82OfnzTHoadmi+lTsanPWEB5P4ik51rLWo7dx+loURrni3RrqsTWOD8WRnnizFtWeJgn1NmZj6bsuSCQi+fIDXpm2rnfvyJEJj1gqtJfS8MWBSE7rs4yhgDjKwyM+MHQpgtfekoWw8eZdPmlS7JfcSVwYJZGOUeKzYdoWfMO5eb5GP8cScT+uBG+8+EfBhifYfi7o1J/0baBdTPFyL+wtoy5MK3InBxlLFshaqETPHmITi2J/1FYXjHRD7Cmzr1dDVm4rdlgBIrNgbYncA3NeGzT5PJ3wzAtDe7IE+NAxCa/KoP4Jv2KH+nmhPfV+Lg5LSHfV5Jt1413lZ80/kyMbbz5MGjbD3YhPCuLTCuDDI7YWbTS/aor0u37+DuSK4VD4riMjuhKprJHsWM8birn+GKI9SkMS4E3K3sZjD8/ozvHI2+Xz5CTYUdSwJzxVxQbpUYO6T/Tur68maC/wIjcjYCmmouKsPY2QsE1B03pd1kjkl696imkzrPutxaCIrqQi9ftkT7g3dNaAISxaC4mMTMq3FxGmLvjU0//RLq5guEgydpy5CT+T7344827TcPwTE59F4M4kx9k3qfjNPZjOv1BHUMjUM5WvvligdCmH2QUQT5/VhXmclAQaJquRL7JRnA76al0RsZZPb62B1OTzMg97gZco5SHxIMpkO+nguU74l855M74VBHRBvod9Oi+vvGpw/JBNXI9X5sciT9mcZobePYIYkTVln3eljIbRzQaAVTCV0JtNLkRlic7GlipvsoDSUxE1aSncPQs6g5W6fsjkwPQmP8JOo8pbZTzn1wFLMhX4q/7EwKpxhxAfIo5zMQEiZ77GHf8nD7pPmcqtoS1O2+3I0SJMfD9REPj9Y3Ebe+K6nl2/Vmlt7NoQJ1YhSXVMfzsXNjRos1ZbzYPR3xUatqUwVSQ0qnBc6fjVa4mR2tOLXvZminVu6k1mix0iS0Q5z8Lzv3CWXnB1y/ySC4kd9NS4XEyE45IvDnYFGdM0U1QB4sjHJavhVgskeivSKkqJGxva7ZKQwr31sZcvdykKORvhaeV7dzXNMHh50D7NZYfk32RPpEXPokE1Qj1xUFqpp+xRFqoizLBtgt+dindz0s5Eq0yzLtkkGlT07Hn9j6ZGaJFjJ1P9x2QKcNVELj0PTyx1tJRt59Zofd/5VjvT8FoP3A37Pb8Rf5zjJ9rgxyeSRi1vRo/VGefCb0PWw6qJlc477zcP34IF+ol9dU7+fbO9RlrX+Mj9/6A48frOR26DcbdrC5tZaNKYo0f7qDTx/XpAUoZmh9fPWstnyhcpsp+qFGaPWP8fFb57gHgD26Djrl1k3jE00aoXJHpeth9vg5ZhPmkYCoNEKo9xtos8VzfcxOhIajmDLr1Cv93RcvM36o0gwEN7xy2OckGz+HON/L6maOSQOMAGGfjoleLI2jIPfrLBqKMWsHqBIH+5xHwr6Fk28rQXXC90WlDxHfCjXYRAyhQTDs+1ji4Hj3KDVvT9EQEjCkTo6HhCg1/5F5oETjDzvRi+U3dcaEkokBJSiDzsCYbYCqyR47u2nGeUiia7OHw45+fCHXlYleLK8nuMelBGbwhYVFtd3UqKJJA2aUWLFxhN0V+sJywfi1TYzikjoZ3jnKbu3zTUF4t9o5iG86dI/SPq+s8mBpIeZPd3BzNvQpdoxRxuGlW6HPsWNfzBhkcMyPoL0/Rdqbm9gatYuZqmzxdXy0fj8PX9LMK1F5jfJwqO6J5knUa5e+xeY/hxuhsT2qbLHlgjWPR5dn8dwoX2xuYusz6PNMHUWX+vjkSi0bE/3GMAsMvT6Ac68nvp9mEDQl4O5QFtMx77VZHW8C/lTC7BwzMtjivlethAzsYoZ3VQ/pXS0UH35VcXlqEBr7Gdpj1PoiFOBG4pjsCd+jtK+ioO3KYq6otZalf5PqH7tP267zPsawZFaIJGRUvrRRBLF2AKkzd8n63ZxwSRrf5mIa9jZHzMGrD+CbblZ2272t+Np05saS4qj3sWpPJ7XSKJNtlVT53ZxwNbNvOnRfTPpo3kN3KzVnYxMP7WJG5r+qtkGcFdH903kq8pyr9nRS2+ElQCXmsD/sAkPODjhqpE/ndvyJIk1f8hDKvG5lWJ3Tq9o8DPfYsThXIGBWBuRdmD3W+1M++2wx/H/hCbMerl+vZOtBdWF/ZZDLI4PMP9NE6TOVPDoyyO0rgDp5zl/3wObQ4iCAt3+Qu9X72brDTMjX9LpZuyjwcPN4gKIfHuXJEmUhYmQyXve4mZufBkgYRsA/xscjSrrhhcZbg8yHFi4ltXz7YG1YoI5l/vSgsnB4yR4WLtfWRy/Ylkb+wKaDRylFW2413dDiJa1Fmtpm756DUJtdGeTySICiH0Yv2BK2mX+MT2hi60GlXRbP9TH77hiLrbVsjHseqvCfVvkqqXfKMYFnlIAVtTuznVCUdJx7tYNMMbYKnZ/qaewSUG4N2VUtMDMtUb8n3t93RO9GHW54ZWqt0WHszJutcFYZuIE4H8uwGVR1BgJaeKf6QM4HS0WQVYNe7LHQIhlZ8EwxglZIi6H6AD4XJA+YoQ3GoJjEzew1ttBKHpE0MekLyJHJtKp6O8ecEl0TRsq4wHkUE2A9zFplgQ7LV7/MWTzXx83FHWw+qIxti+f6mNWMrYvnBlna2MTWVrvu/fOntWNQ+nwxMqqOfarAedpDqSoUzp+eYv3BozwJhATb61dC840qMCYpW6SMHVF1nL8OnweSzDfJ5snQT26dY/YtuzJn+Mf4+K1RvH471hKYPx1drvnTHXwalX6Az2YCPPpssnKb+YbNzOx1DzyTvH6pCO8U5Whnwezo52Sy6yWahbZL7+zbSl7pJkppGFIsJg04FFOGaEWdxeAi1GCU3jgyEJDDistKzKesWDrcPG+kjBNexVpId05UxtvklGGTVNPmqDQU4dq2N4djS0buMstYvoRISvR43LR05DDZeR9jUh3HtfUqtVCLL+6netZZupRYsYXun/cx5qyLfv+q63BiMKCkbsCj2OcRYw5cYsUmj2YU6AtyP/5EmKJLOoLtlIeG+V4sklah3pwwKJ2iwI9/n6vaPIy7W6npsRa8tZSIZoydJ1/SfHymkkdHRvnSD5TY+Wa1dvL0cHvWTNEP1YnUf5XP2UF5eNES+3uFR8NCop31m+HTpIsGhY1mM7PqbB/ZpQ3w1S0zD38TFn9/BaqbIsKnqrXWCt6J8XB7Fh6tV8tYsoXHNpyLWcyYNQKm8XKnxH+Vz2+ZeexpNR1VYfDVJ0QN4gnbrKSWJzW/2/j0M9yY+AN3gI1XRlliB5szXESGqHqxmbHGSATBgLuDdrmZYZ0jRFYEnTDvtd2QWLtvFEXYHnPpaPdzqakNoxl4c2oGry7ONNEbKXFwUsaAQFvJ4ahIyxH/LC213YNpRSs1SiphMFdET6ZK1MwWqZWhlEfhFBuPLhwW/CMsV/0yx8MnEwEerY8o6TbuaOKzmZixdXaKeewJLVHuzVxlcUe6ij6FRzVKxdIn7dwcieRV+pLWmiJmbLwyytItO5tSCLKfne5gaTF6t3jd42ZVuNRY/3zzJncxs14dhxPPk6EvNXOGOqd89QnAGJ/O2tl0MFm5InNbMjaazczO3GQRe0ZtC5qAbq58LM70x4tY9CxOzI5+ZSckpNyU8lXGWAxE6c0FsYrL6gMMV9iNLZSrHQaj0CZSFihK3fbfTHG4WpOX/wIjcjP70pfkdQnMeqm1JokVkJDlKd9qJv5IP0U4C8x6gbrME573McYAYzqWVM69mSebiLyNP+q60BYeW7SnOiQ7LUJ1XYs7YULB7OjXUTsUHnkXZtsP/H2UmXEhEm1SBmDmYfW/jU8/w4231MXElSm+2FwXEaY++QP3bmlNbVWiAk3ZWa8RLktfOmrMFPeb32LNpZssArexs/bTiFntIyVw50KAe7N9XI6xqTdmUmvm4Q2wFBK6YwXMfFKyibUE+Pz3ASgxw5UpvsDOpigBPFmbxZurQXZa+jiqD+A71YslZHKTMxMtZRc2esJSBEisBpOY6MWi+tyGTJUjZs+JtLvpkcy0N2dBjjTnjJ7MqXYy9qw+DSUOTk5b6XK6CRjaDYicxRstlIUWrM0MZ7rI8C8kb8u0dlbSQ4kU3Bw2JwI0wn4rGD3bNcnZeWESmUzlsX7Zk1yo2rhjP3c+7eDm8Q5uEuNaApS+tJ8v+/vC80KUOW66fPNbrEFjWRNj6gsRc93FQAA2PMO6ZOndOsfSLVhTvSVKGNxoNjN7PQD+m3y10Q6BAHwT2PCtcHrJ5kkANjzDNzSCrbVVtfAw4o/tv8ldiE5Pj29+izW3VOWlgWRjiexA5KvfpTr+Q7XUSHA17Kahvls1FUeirtdU+BiePsDJjMadBQJJn0V6ViTpoSgu6ZajxpawKWPPoOGdn8TnlEfQVxa04qxoouvFSPwJJSKynDvz6+eOcrIkM6V3XstXaqHW1YTFBco5s0SZpOdLORvOWx7lvN8RefbzPsaAfYYSUOfbCq3FVEQ401qOZfxOZ2vaa5B8jT+KxRNRJvjG0biu6ZnOrxLyLszudvxFAZoWR1g818fNWXuMD6xGg6FqmG9fUUyMH30yxs8wbX8og5RsYu2tKe5c+QN3H6/j8U9Hmfd/i7vq4uIO8Yso45h5ZCMszQ5yWT1gck31cgWJUgTpLyYigvij9QYFfFRzNSLmcYnMqLMmT+ewVr3YHO0rNDFAuwy1O43dHzoDNzJgKWZI7ISQsDwSZfKrvZ6KBNrhnBISBKUMB95UpDI5q+SwQY1oqK3jF3bKgtXWY+eEuzna/DXqcHoNsj3ajE/qZDwPWt/UTPHmIau+cibBWXgJmfcpZ8UmWgQk8EkufAIxliIBvroV/YuIgk1xLfkY7VisFeTG+PitDq6ToUD7yR+4FxIo/WN8POKJEo615rrKrmWK9DbsUP1aY9xhVOXp/O+vwJNNPHz9Kouf/IF7GyvDptZJ58lsKdnEWiO/07ZHOoTeS2cSF4ICQbswjTvXWg02Q8wZoYl2g6OFYQnnqdYsLHcyJ+DuZyaBq0BVmyeNnR/VVSehwjWZsqCSw9ODSgBE9Ztcuy+YMxRkFfJYPp2xvSHq4wJDcb6kOaJkO/XSEdrDJvSKiwsY3MFWd6eHtfP2xCgu1LOcSy3UyjFn+2qvp6K6DqfcHy1s55o8jz/LZvGkY21VKNw/ZsahoEKZCJdR2udBvojSOJuxPmvn8qU+7rKDcu2CRDWRvXFuCxszNm0N7TTGBhlR+DIAjz1tZt3vA3xygfDiYuOTdm6ODOJ9OgMh1B8y+zIYsEmPb36LNbeu8Jm/lo16+Sd6HiFT4INZKAA2blLvVfxv74V2ZmPKNH9a2cEtqOM3Ynd9pU6OOTHo06qaATMHKBOcYgIdEYar9nSCFGsibVxYDmmHW6zRi6WAPybwlBGmdbSl/jlmdg7iWxbzuWxIc8c8RDpKkInedAuVAyo5XOCL+ZVFMd29eWmMxWdCPrOjfLFhB5t1hVFFOXc3UXK6QlryMT/qd5c8rLHVacZKza7xlUFuzmoCKRmdj0pq+Xb9H7g80of3m9H5f/mpmfU7zHD9Cp9chzWPa9JJOk8moWQTazkXNtNWBOPYAFBmHt4Qq0SIZzEQAHUOTIfJWRiWPVFB/fKFoZ3DhIqsUICkBIq+kAVFxwUCjpASKdVucHT6Q4Z+l1tS+RQvH5mYVCf3KdYzT1XIxKJrmUy+l5ViGlwyOKWwCb2zu5Na2aAKY97HGF7qw0E5p+hq1AjDJQ72Oe3s7gkFnIy5nhLVX13qxaZ5XgH/QgbKCX3LuOUcfx5U7h9hNiEx0R9V09zQrubGHXV8MjEYNglbU72DR2djTmdXFwl3Y0yzlPMKm7h+PNrcNyuzsjBmHt7gYWlmB5t3wEae4cZb51hTrfoGPNPEVga5/FYHlzXl2RQOUqKN+ItqEqdeL6nl8c0RM7kQae30ltRSXn2F2XD+BoVj1bc31jTbaJuVbt/Bp29FdpQfrd7Bmok/6JZpTfV+NtHHbWM1Wj6iBJ4FhpxgezEknEYC5NRUHInRzMZPCjgHGe+GGq8q4JY4OHnKFyUsD3fDiVDesaahjcqOYUTTHdIOa/1mQ4Eh0qljM8eQwjsD4XqUVHK4oH0mQyh+pCOSGgU5ZhcgYi5UIH7UAuPEmOp+8VYHlzURi0tfOgqnO2IitddGFGixbg6bmzTBnuKjqa+p3s+305gPvhjp4PKI5t5Q2iW1PL75HDdDY+6GHRRt9vB5+E69+SjBuPxME5sDfcy+1cHH1fv59o5NrL2lBLayAjxp5vKIh0efVPI2NE8mxM6T9XYuh+q1uYnN1aMx51+rwZ00SoR4jASJ0qfKkXsrG31S7RymQrWOaWzFpmvuHzHXLTzz/PuV+1HAzBDtDmNaAYFiFC4TvVgkC8oyTqMskO24YpUAcW5fEsfkQZxSf/jUiao2mWNaYfnUIM7GiOVItIJJVtYlGqsis6OfcVqpqdCMLc5B/cjKyeq4txlLY8gKK1KP5Rt/Hlz+6Ouvv/56pQuRiOb/9acM/G+F4Gcbc0TBaid8/I1mkeMf4+O3rvBYvuuoFwVZ7wikFcBof1N8VI9y0lHMZI+dkRcz9zFSQsXXFajv4EqST/8tFUN+m4kCQOXA/CtZ/kb8USG/vj6p2icbn9k81a9w5gxB+iiKABIpNjOIoJ92f8iBL7eRndmUwkDC9yPb+A3Jx1VDZSf7I9MSk3rcz9RnNlf5ryz5Kp/mWBk1mvHxuHdAEToTmYsbJxLXojDbeAXJWywJxce4fvoAVf5Ezzf0u9SRzQvmeEENQpg1wPzpDm4Se57fKkZHeFR2cs15FygXz/UxO/NM1IIkfExEPnyP02BZ+lvsImWZAg8IBA8ChTJnCDIkkWIzQ2Wr6A8CQS7ITpCNVUDkTxkieFB5AMyMMyccvXHDDjanOO5gVfFME5uux5oZZ+lDa5DQMRdRZsb5CqJViKQbZEcgEAgeFELmz5qzdQHmL5xjbf3R+8MySiBYdRg5yzcx4SjdAkGeKGhh9pG1a7n9+Resf2xlQvgYPkZnFbJyddNE+iwgbn/+BY+sNRRPUyAQFCgrPWcIsmfjjv1xis3Sl9KfM8SYLhAIBA8Gf7zSBUjGdyvtDP36Arc//yL1jwWCDLn9+RcM/foC3628j3bfBYIHEDFnCECM6QKBQPAgUdA+swDvnDnHh1Mevryb8PADgSArHlm7lu9W2nl5146VLopAIMgSMWcIxJguEAgEDw4FL8wKBAKBQCAQCAQCgUAQS0GbGQsEAoFAIBAIBAKBQKBHQQeAWg0IkzZBvhEmc4L7CTFmFgZiXBEIBALB/YAwM86Cd86c4+5X/0rD97aL6JmCvBEKZrL24YfEwlOwqhFjZuEgxhWBQCAQ3A/cR2bGCww57XRNLN/9H055xKJMkHfWP/YoDd/bzodT6Z/zNtmTzTuRgoleLE43gYxuzvZ9zTb/bO/PQfmzYvnHuzgyaD8xZhYO2YwrqQi4W7H0TKX41RRdFXYsmr8W90KOSrDAkLOVIX+OkltVTNFVkbrukz3RbR/6y9mY5nfTEpt+yj5hDGP9KxHG2id/+QtSIdp3JSmQ8SNNHhwz44leLI0D4Y/OUx4OV2eX5Jd374pFmWBZWP/Yo9Fmmdr+LHUy7nJgVi8F3K0c5CgnHcXLXk5AWcRIRxiLuyBxTO6noSRVAgsMOSXaZf2ruXh3BQaZ6MXyuiWqf2WDGDMLi7hxxSCTPXZ2u0KfmhmePkBV2qlUcnjaw+E07wq4W6k5pA4OzkF8bZVR5Rp58f4dH6LbXUsazyA0PjsH8U1XxlxUFQwxc0pGlDg4Oe1I756YdVqI2m7Z+Hymk4bh+xPkD2LeySXR/djoukCQLatq/EiTVSHMRk1ecRh4CH43LY1ejske9YVRGrxLDE6C1chEL5ZGGJ72UIX6fjjJ3eCR7YSut4jxu2mRRg0WYI4ZOZsJboquin5sGd6fbLxJa1GVIbGCwrFuL+2a8qR6BonLLxYNguyZ7LGzm8hCRhl/3IbGn+RzeSzx/TXgbqXmbB3j0/2Y1bJYeqIF2tVEusJ3VZsHX1vMl343LZLPcJ6Bi6PKQlS3zSo5PD0IFf2c9zsyGysSKjMjJBxHqw/gmz4Q9dVkj50T6eSvk4ZRArPeOAVJuAyzC1Cd/difWKDQksFYHdXumSqY8o2qqK7QCEJ+Ny2SnZlVuB7Xe3+VMY6CnGtXxfiRIatCmL3hlbNaRE6+fQS6ZU3DVnL4VDOW1928sszaA4EgWyZ/M0BttxyeqMyOoxw7K/HmhCM3k4HuYkAVEEszS3LybUWTd7LABveEJByslyl7zcQecLemNf6ZHf344jZElEXEzDyQxjMIzHqhok6MkQIFv5sTrmaGNRr50Phz0L09ZR/V75tGWeD8WRnn3v5wf6xqG8RZ0c/QnsJbOC4XyuKylZMGf3/DKwOtKX4lpz1WhEm4IztFV0UTLqmT4xms5eIUIc5UdcgtY4ckLIc0X2SYv65AEUVmY3W43dMUTpaViQHa6WRcO7eWODh5ynffrMezG+OWn4IbPzLkPvKZTcQUIy6J+udiBs/qOpzyKOcLwKdm/nQHl48rfx+fy9gDcFWi1L0Pb1rPwcP1tO8pRAJ4+zu4fiWde/T6czHP75SYmc2Vv1k8AXc/Lmdrxjudu6djJjDBquCGV6bWWrbSxYhi8Vwfl0/n3s8znHb/GIt5ST1NrgwmLIteGyye68v7/KEsfOpidnyKadjbzJh3Lr203K06Ple9TCa6wX+BEbmZ+iiFXSX1TnXh9EAyxZuH4Nie2LFVpl3S91Ot2tNJraspgU9iROB8JReK0Si/2VHqpz34kgksE71xfSK0i2l29OOb9uCb9jDeLcXdqt+fYv6yiLFQ2y0nzV+QGkU5ao1//tV1OGUfN1aiUKuMgLs1h7EFCnz8SIP7X5j1e5nBii1uEV6GTSqMSbD0paNsPXiUTZtXuiT3EUkWgqsfvf5M2otJ4yQa8FIT1qbLR3hTJzCAq1FvkaG8m+HBtEACDDx4LDAzvdJlEMRxZZDZCTObXrJHfb1xRx1rJ/rSVI6lR0LlRqmF2mmvYUFhsseumgt7wgKCb9qD7xTsThZ8RLJQrvN1rhR5UQJRz1TiAHpRQlqovEpQtWRjVWz62aEsHGe6j+ooGSWOyWqbxioRSxycnPYwTJPO+NoEp1IInMmIDfrUAcdDz1a2cCKFYBk2843pFycdxVFtp2eqrhV2E/6tmp0/KWMrqMSk7p8p0e33WfwuCi8zWW5QFPz7m6RdlLJqy5DvAHYFOH5kwaowM84nrkY7WvcF594VK8oDSelLR8n5mP2g4mrConbm2u7cJTvZ08RMt8zhEh1TL6kzwV2qbwydqn+bGhggxpdH3/+zmAaXhwZNOjN7V58/zYqR0OdZ4tjRNNLxX2BEhjF5gEnHAapCWteoJBM9f0F+8HB9xMOj9Xrjpp0nf7iDj98aZP6ZpuUfV9WdldSLmClGXOA8pbPgqT7AsNPOiYsLNKRhiqo1AXW+aPi2aCZ6qTlkZXi6PxKL4FAovUjfr+3uxHZWEdJiy//8UQ++kkh6lsZe6kPj3URvlL9vdPppovpHkoX7VWpz1wxIFvQpk4BQGrTmmwF3KzXexL/NR4ChXJkZrySJ+6f+PDvZY+eEVe1jqvnyvmmPYpI60YtF6sU2HT03JHs/zJutcNZLgMroaxOjuKQ6xrN5Riv9/kb5LOv0uaTtp+BqlHCe8uBzxV6PDYqpGe8y8TUu1PEjC1aFMFtuleIHkjDZObpHOoL6MmdcyjxyZZDLIxGTskfrj/LkM6HvYdNBzcIl7jsP148P8oV6eU31fr69Q32F/WN8/NYfePxgJbdDv9mwg82ttWxMUaT50x18+rgmLUAxm+3jq2e15QuV20zRD/djDb3c/jE+fusc9wCwR9dBp9y6aXyiSSNU7qh0PcweP8dswjwSEJVGCPV+A222eK6P2YmQzjmmzDr1Sj+2q6LBrNIMlDe8ctjPU4lmnBuUYC/NOA9JdG32cFjrDzLRi+X1BPe4VLOs8ECpRi5Vj3MZd23PUQlXlrAybAWi9yXKP1EQE6P3hwgFehimiRPuZk46YqLPJnj+y8X86Q5uKi93ZEwEQuPQ0i31o86YFv2Oxt4fn8ej9UdZf93AmBf7fm9uYmtoBzXtsQPY8K2o8iyeG+WLzU1s1SkrACW1PL65g0/PBSjdscy9McGuaTyV1Dtht56P3EQvu10Sx+QEC6w4gVmxHgj5lE/22BnJqPALDL0eG4ugFWdYcaf0/VfcrdQc8rFv+oDOu16MWbt4rW7mmCQxMnGAqmolfefeyAI6On2jhBblkiagpTGMBR6Kx+hiOd/pG0NZx43slPFNq31IN8CQYvnTDobHSm3cglTCdHbMMSNbqc+5v2Gy/qm4CkT5rar+8fvUdgzFngmvtUOKJ83ckPz9UPNEoqbHGmlzv5uWxgGcFigLcwAAIABJREFUp+KFS+MUwPsb5bMcH+wyefupfdU5GOmj1c0ckzrUtV5EwZ/daRWFO35ky6oQZs1xC+g0jooosWJjNG7xH4qYaktnp2JF8HD9eiVbDzYpH68McnlE1bw/U8mjI4PcvgKoi5v56x7YHBLaAnj7B7lbvZ+tO8yEfE2vm7ULNw83jwco+uFRnixRFmKfXKllY6LFksq6x83c/DRAQj28f4yPR5R0rSVqud8aZD4kUJbU8u2DteEFXizzpweVRdtL9rBwufb/Z+/tQtvI8rz/76w3pt0hCd5Ejog7oJW8Iqtu2o51YbobFA2RBzfsxSwKDjFs57FHw7ihwTfjl+Rx9mLj8etcrKEhhjEJ2WHlv43F0xcDbcZu2hF0h8DIlsO01ghbCNLOKC67TWLSCe4N/l9UlVRVqlep9Jb8PhCIJdWpU1Wnzvm9nzahUsjg2cJj1PUPoR7CfnPtrgWxev+MLsVcDIPNL5YA/p6tBbG6wOD4VaEirHLPUst4gg6c72fvy97SJJJfLGOv24varOfBCcKG+sfmiIk9F5xA97G5uY3pqqV9TcAndnR59FQAj2IBciXbOdy9rNURCmGBSl7FsDiCAujE/IyOiygwpd6uId/zKx/PhZaHm9BsDaLBOYi5j8qoyE4yiF13D85ftojnRLAKH345hPNWgH/HHi29i1qf4J2MWFDX36Nq3NqaHcT2ng+2fnYO2WM05jwAW7NRHOsfwjkAvGK7vqZzvuXDh/l+rQWxel/YOoMfNhjUfCAOL5ZSf86F7fvfYc9ndO7T5qzDw6UziAUp5ptFLDu7dQujzX0xPAh1o8V5Q/JNZ9qzkoX1Ato8Nzjhkv/we2yEgYZP860yy8oDbUPCdt5BgwfZBu6snGElTqHByR//PTbCnWgTTWKsUq9f+WYFUczEkFB955twPT6V9WmhPSmK7adC6BoExnTIbBabA7iWiTASocdgmLqHBUgKTFn9GBtZRMtXUVx38+uSvLdW7fyBmRJtdVcwhOMTXN5qpgqtuDAQK2M0XBTfA9n5QPX9YJWyhnEX7E7+M+OKVTbl/v7qu3/iFI5TaHCGsWBaIaXynj/ypSKU2fyQE/5hTlhDUXDh3GXBn41NqFlYxMsUAKsLp90WJNdjQKMLQAz7SQuOX+U9Ad/hOXw4m7bQS3/PUpNWEl04ZgN2GXWBDQBqLRYkd9n/Z7y0DH56asGR08DeX9cAd0dG+WxsxfH7kyLFW5kY9pNATRvXR+u7OHpiCc9F/bIIFEz9/dYk9R2eP7Xg6HtcO5zB4KcnEE0oivfM6sU5we9q32vEo8hj/Aigdm0Rz+CDLU+PSfPFTixfySgXTGgQA+FOzE+btdhy1juhxdrqx+0wdCi0TbgumvDk94z1jgTRJne4oJKyKMRJjsiE7isSs4O50PdozylHPYph5yLa4p05nrsS2MFcIBNazlZ/d2SFRJUUW0fGQyox6tX6OgRKnAX/0GDBs7QSGsOTCIOaNnVF9ofZQTzbE3tNteY8AKi/3CFoRX5ekp87gM37SuHDPOJzKXL6DKqecnOOxk+NYvmoFd5ri1jpaxKMg0yVYUNtGa76yRa6GxCE/q2Ms8VGHpRLCoKMMS5wEVztjnxhvUuITMA+3pqem1kvYbfu6uv6tkcq0dYuOrfVsfinUJB6vXls62MaqU1s6I5yMIjS+AQANOHXI0D/Nzto9wNffwmMDvFjijUaTWcZlZFTuHXZKkYFe3/NvX+58XrPH6+JMrsDRiVRuvmTm4BH4FkwJayheAjD6VgsOML9r/a9Rjy6G8UWXKhfi+KFrTWjTD15jFdPhaG2HCIh3oVjAuVSdw7r6TOour+NPQD7cKF6NxNW+5YV+PEeg1fJSaxKEuj1hdRacOQE8IxXuqUKZiGx1qEaDJ7/lQGsFmAtihdwoU6kgKvdM0mII/d7U3H3IjEzATsfJmXqxKFivbP6cTvuwHAgBEZPZAS3MKRzQNLwCm4n5nMIW9EmU0BqQPZ7D0ZnhhSL1ah6B9L3eqdgKQlnHR5BLr8HoyOOrDSLwEwYDTm1zudGKR+/Ms7lOguNCO5ePBjpRotzogz3L2Tni3SEg1yaAD/npbZxAAuOqimET5fw7ClQ5X5XrAxqzHkAslJCAKDqpPAvpblDR+mk1DYOgPTcr4i1DtVY4wye2s0awurHZwEXLomEoUF2vGgolGaEqVn8U3iAbrQ4uTnVtPB+ds5YEBm9WQEUOutosEKeI73/N4BM2LNihJj5aAmn2kYEdhu2XPuqJOyKvfDqa5ausSIXHmy9gDZItolKhdB/LYzAjAFji9EIQDPZSmAZdtObVR2fHJaPWoHBe2BsCQxA6uwpxj7lUQwHNtH2sdHjKuH9rYx93ks9f+RKmSuz8l4dQDoxehCY6VYW7gReJV64LXV4oF72liaxnXRJcmAF8fic13J/jQ0xrjnXIW5AZw6sYax1qH4axY9rj3FwshUndxexlTqDgxNn8DaAHyHJzzWEBW/VAs+SQayOsZ9UuYUhxoWEFYxfRDKKuLq3RMzW7CTrfeVCE5XCqPOmYBZkznqn9v20Pgsevx+uUoGnhnFJvogMyrnyHLIFiIQFpFRQquRYYuu83GLR7pf2ZwdzSserKuNsSNd1q8LxqRA+j8srCOW7f57QYxnD+l1BmgC4sGLOo8oqehqc8MH2S+DRXUlKhsacx6ZWxET5t1uzg9hVOI1h9PQdSCvsxwo0Xzb3xTAvDBPUqVAqemMMKg6FGYec1/caX+yM244MQEDX8Zx3ekYYIs0WusJFQLR7glXue4NMS95vgXdH3z6QhcMMYVfLc6ecs1qoMFYxBfMMo1B7e2uNTw7OGNByBRJnj0KEowGMePTOhrJzTtUp9/c3//tnKmU8f+RKmSuzOoVSAGrCHYC8K+nlDe8tyEW55IUlcLmkAs8sYIHjAxdW70/iAD6cFXoQufA7Yb6YcXhPo7SQEctLBjj6ngVv/5XBk3vAq9om1AKoPefC9kIQm+/loISmlrGbNFCwSY7TZ1D1dA0/pLyolTu/0vPgQ4H78zAA1NZxx7L5t694z6ykT1uzrAfXeAGoSoDb1sWRXytetWp7JS5AVLbko4xb/bhdEG+5cYTFl+SKM/HsLS3ixYlGnBa859WWTJG7RxFGEI3iwjFbENvpPHYFrF683/YYqwuT2DwtnsOU5jwWQRjwWhDbSalnVgnOgJeORmEVY3EBKAuOnGCyUh6yePIYrwRrRiEo2zDBPMjy+gZuYtQT1hmBwXqBNj7eAdxcwZzxDoEwzRXYkYZIQ6+wLUHglRQpdqkQPp8GAGkouADFaudCOjGfo/KnW2kpoHG6HMensciEcFrZMMfxojU+edhxOhCGZD9nPsKRKwTJf5faAWM9ZboRKpe9gMv9/c33/gmRq1tgiDKeP3KlzJXZNwFJ9UsuNJf3atb6WvEkEkyHCle5fahJSjYS5JTWA2lYHFw419+B9TFxuK+WcKgPC46ciOHZhg82H1CLRjy6u4QqdyvXpw6cRxCrdwexKugPr6BKq3Zujw1im/+eq8jJfpbBkKfX6sVZ9xqS6fPrVI653F5paLbee1Z/wYfduxmPco3bh6rIY9k+Vbl7UIdJ7Ou7ogrjFNqHbmJBOnlzsAt7J+bjZWClLASCEOtKiACpOARRG+LoE64uwMIgVhfYv4+7LXgmcI/WXx4CZgdF77js+93YARszieTdQTzk5h7VOc/qxUnbErb5OeeED8dtMTzXeUn1lzuwP8Zflwt1V33Y/UL4Czb/N3l/GXuNyor41noMVQ2t5kfjvAGIBe4ohp2ZIpEZZYRVNMTvdhOux4MYdmYiSbwjYcwHPPg8yQnI6VB9XtgOYj7QkWP1ZTl2MDfIVkx9gEHFlAAj1c5zptDtVyCFVrClyvKy8w4y4dw6xqcQuSJJggjHTBA0274FWu9HcSjp+ytR8pY9LgwIQ4s17p/+a+xGwNlhsrEDKKv5IxcOXxuYw9lf/fPh7/5SvOP/z42JXE9mMt8d/s/ofx5u/K3U/TCJv319uDb634ffZ31WhGuM/vfhyq2vD3+QfibtTwnQO962539z2DnPHB4eHh5GxvJ5JzT4y/jhP/5q/nBb9Ufse/WP/yT+x/dPje3532Qdl/VP8/z59l8J9fmC77ue68yN4s93WeRw/8pnzqxUvjv8n9H/e/g/UYWv5eZODQrxTLbnf3P4j2Or+n6c13soJjPfMYezv/rN4Wwe60Vk7J/1X0Mx+ct49nz6K26uFPSXnYNk7oHM8XL/cp67Ct3+ocHxlcXq4e/k7ouQv80fdmpeQ37jqzzJ/70xg/yeL0vZvr+lptznjxz52eHh4WGpFepKpfPff487//HbUneDDceDYD/DSkdm/9zMdhp5hB7rYG9pEsmNRlHocXqLjkLkHhugXMYbQeQKjWETkNtfHAAf5QODkTf0TDik4XPl6H0giILA7z+qkdpTztD7+0ZDYcYVTLrK8QkfbN2viSILAI0dqFuXhhnnmUOrk1pfB37YkIQZF6qIFkEQhFH48OfZGOoFBsy9pUUcuHvwft4pJG8o5bAtC0GUBLbw4/VSdyMf6P19oyFlNg/eqq7G/vMXOHa0NCV8dG+jU4GU7toscHQPleTMauw/f4G3qnXVMiWIsqXUc+brQq2vJ8u4JveZFjSvEARBEJXO35W6A5XMh00uzP35Hvafv9D+MUHkyP7zF5j78z182PQaed+JNxKaM8sHmlcIgiCI1wHKmc2TP/5pCd9GY3h5cFDqrhCvKW9VV+PDJhf+7V98pe4KQeQNzZnlAc0rBEEQxOsAKbMEQRAEQRAEQRBExUFhxgRBEARBEARBEETFQcosQRAEQRAEQRAEUXGQMksQBEEQBEEQBEFUHBWjzK6MuzAcUflBZAL2QAhM0XpkNjuYC2hcowAmFMJKCc+fRcXff4IgCIIgCIIgKomKUWaLzcq4C12hHdPaY0LdsDtdmX/j0Txa28HXX97ApbzaIAiCIAiCIAiCqFz+vtQdMML0FRem1X7guWnSmaJYmAYwYk5rTKgbLdccmI9PoZn7bGXcBXvgJh5M+2Ex2mDkDgbggXe6A8MXY7ju1nH+zW4k+ppy6H0Uw84Ohfveifl4b/qaCIIgCIIgCIIgikVFKbOBGRXFLTIB+y1zzrMy3oHpQCcC1zwYtmkri+pE8YdrwGhYrPQ194UxGvDgDxG/ofbFinEUw04XukbCuO0/lU8nNfBgNDyFdmsBT0EQBEEQBEEQBGEACjOWsDLuwqXpTsz39eJ6+CY2ruSRRwoAqU1swIGGLEXwFBqcwEZSXyjzyjgbntzyZSsepL2hTbgeD6PtSw/sTnPDogmCIAiCIAiCIMqZivLMaoYZB4LGQ3Z5UiF0eW5g2XMTD+Jc6K/Vj9txB4adLthz9U5aHWjAIjZSQLPo2B1sxIGGi1oe1R3MBTwYcAaRiMuFCZ9C+3QM7cgzdJkgCIIgCIIgCKKCqBhltrkvhkRf5m8m1I1+DJkQXpvJCQ3MxHA7K+S3CdfjMVxPhdDlcWHAY1RZbMKvR4AWzwQaBPmlK+MeDOAmHmiGGGeUVS2a+2JI6O4XQRAEQRAEQRBE5VLmyqxa8SEA8MB+Te5zI4WJOGVV62dWP27H/bpalGLxTyFhm4Dd6cp8GAgiMa1VkEnr+pUoUWGm8A20OG8A0MhvJgiCIAiCIAiCyJMyV2Z1KpqVgLsXiXivyg9YD6yYCrt+w15rgiAIgiAIgiCI3ChzZZaHyxsNa/wsEDS4/UwJPJ+pELoGgTGR0reDucAgMKSUk8te/8anWtWc7Tlu9RPCXP0Fo0cBEIR723I6nCAIgiAIgiAIIicqRJnVkTcamYD91iYYNBnKZ1XyfK6Mu/C5owBb3mwlsAy75MPvsREGGsw9UxqLzQFc64BdSWsP3MSDT4CvZb98Bw2eMAY8LgzIfOvltwXKp+IzQRAEQRAEQRCEQSpEmX19YJKbQHgTX6f8GS9sZBHTCMP7zQ7aVZRnzWrOnpvyn2uGOAOA0rY++gtQEQRBEARBEARBFIuKUWbZ/V81fpTP1jzFIBVC/zUH5meAS/8VRXtfE4AdzN3axGg4iA3PIOY+Ut7+R7WoUmQC9luF6jhBEARBEARBEER5USHKLLsnayVXyGVC3Wi5BoyGp9BsBea/csEe6EQAd7DxcRi3raeAcCu6PC5sVPB1ysPlPIMKRBEEQRAEQRAEYQ4VosyeQoMTGNAKs4UHo2Flz2bJiEyg5ctWPIhnFLnmvhgSkQkMQ7C3rdWP2/ELmAtMYGVaWGBK5/WXrWeazQkGEngElGkfCYIgCIIgCIKoJH52eHh4WOpOEARBEARBEARBEIQR/q7UHSAIgiAIgiAIgiAIo5AySxAEQRAEQRAEQVQcpMwSBEEQBEEQBEEQFQcpswRBEARBEARBEETFQcosQRAEQRAEQRAEUXGQMksQBEEQBEEQBEFUHGW/z+wf/7SEb6MxvDw4KHVXKp63qqvxYZML//YvvlJ3pSygsUUUGnrnCMI8aM4maE4VQ+8EUWgq4Z0r631m//inJRz89L9o/8UFHDtaU+ruVDz7z19g7s/3UH3k78t6UBYDGltEMaB3jiDMgeZsAqA5VQi9E0QxqIR3rqzDjL+NxuglNZFjR2vQ/osL+DYaM6nFKIad3ZhLAcAO5gIuDEdybWsHcwG+rcJDY4soBvLvXBTDThfsGv+6Qjsl67cuIhOwj0fzOD6U9b4zoe5Mm3m1L5yb3sTjdZDv8yvy+WnOJgBlOYYJdWvOqXbnBFZK1G99GJOD6J0gikFeukMqhK5ACIz53RJR1mHGLw8O6CU1mWNHa4yFo0QmYL9yR/KhB6PhKbRb9TXBhLrRci3M/dWJ+Xgvmrm/VsZdWLgYw3W3Rh9u2fFg2g+L/p6rQmOLKBbZ71wTrsdjuK5yDBPqRsvm9wBO5XDGHcwFPBgIa/wsEESiryn781QIXZ4bWE5/kHln2X51yx9nECa5iIGvHGjPuS32Ojc+1Zg/CoB4TgO8I2Hc9ufyrIpNFMPORbQJ5uBs9I0f5WuOYtjZgWkAWWtFKoSuQWAsh7mc5myCR06OsfinkPCrHRXFsHMKGymgWafsIkJWFpKiLButjLtwaTrzd+b9YfvVYECm4qF3gigW2e+ceJ0IzAjXYT3rjLmUtTJLlAHuXiTivYIPWEFlYwuAzolXe5EhCMI8vsdG2JjBSYTVj9vxwr+wjzbD8DqG8mzFg4Z6Y0dIhUpxczc1jWYr4y5cit/Eg/hU+ncr4y7YxxWMAyJUFEUd59ZCpGR7bmLUeQMD/LUGgkj06W9LLJzInEfW2MKuD5iJIeEGZxjpBnIdiwRRJjDJTWUDoA6a+2KG3j+CKF/YdWzh4zAS07xBxoVhlTWj0JAySxgjsohpz008KNGAJYjKR6/nKx9FL4wBjwsDqu2X0psYxcI0gJF82vgeG2GgwdAxO9iIqytqqqRC+Hy6E/NxsdLZ3BfGaGAQcyktpe0U2qdjaJdpt2swh/7IIHyuK+M3sizmBUW6Plj9GBtZRMt/RfPwwBOEDnR5Tjsxn49RZboDdiVDGN9+Eb1RBFESUvewEO7EZ9O8/NCE6zOdsN8K4dcmRlAagZRZXcSwPhbEixM+2Lq9qDV49N7SJJIRBjVtQzjXWJAOFokdzN26A+/HYcFgFQvNgU/FR8h7Qd7UCZ/B5tQkfvpA3zjgxw0AwNaB85ddhe0eIUD+WW3NDmL/XL7vcZ6eU13k0r4wPFSGQBAPHPn3DACY0BR7nmt3sOKXzAVCgTHQqtFGGN5vdtDuPyUjzHowak53xXjsOJv14Sk0OMO4JDIgGDj/VgLLztaSCAFmsvKVdH0ALB+1wvvlJhg0FeX6tmYHsZ1k/1/l7sH7vvK4q3tLk0juthZmHl8LYnUBqOvvgMFAhcL05f4ZeVlJ5ru9pUk8Qkfezylfz6kucmhfmpIgxoPRcHf+/cqTN1nWyE0+NybLlTVq76sCzDeLWA5047bwQ3crAuFFPAJImS0ZqWU8vPsYJ8thIShjmNAgBnATD0TeHF5o5vLXJMdkhdZw+a/ZwqAK9XZ4wzfQ4ryh+rOcvS1lSq2vB7U+XggqdW+KSekXiq3ZSTyr7cB5yfnrL/jw8O4kNk/3wJGzIvoOGjzanlMzwk6NoSeX14TTpELovwaMhmP4+TfdaAmExNfJC4yRCdi/Umokij9cCyMwchMb1wYx99EU2kUpEWweWkEIJ2QW7CgWpoUGBGPnX/nqDryOTlO7mS/TV1zKhg0oRw402GS8/bL3rDDUXx5CPVil9o2aNsud1DIeLjA4frVDJDTX+lrxZGwS65b85nuLzQFc0/KcFl9O0JXLW6zOKPDmyhqFpPRyTCHxOt6R+XQz95z0PCFlVhcunOvPPeSPnygqGdbDmh1eZwzWsxv4NGasjSLl8BEEAGAtiO2kC3X9MtZpqxfvtz3G6hfL2MshSoNFIdTUNPJVliVh0KZ6O6IY9twARsKs0uefwgN0o8WZwHy8V7eRa2W8A9OBIBL+JsCWgL1YeZlWPz4LuHApICxIt4O5ANefnM7PKsJt4XIpIFWI8XkHl5yc19xz09SWiUqAweYXS4BbzgjowrmrPjy8G8RWYx4Ohaz6HuaSt7IsihwpdGQOoZfXQT4vH4RyRyfainjmgiuz86H/h9GJ3wMABnp/i0v+fy3AWbgwYP5PUThwDOtjURy7ega7d5fwSvS9+LjtsUFsAwAsOH6VnXTVwi/Y8JhGVEeW8AIu1LUB2wsxwe+E7WfaFB6fbptHdA7WsvPsqcx3aW9yE/b5c+QYBq1GOkQmEEQinp9Am/bsuiVV0C6a0NGCwI6dI24GzyIMqtwdOLoRxLOnwmepNvZkvgcgrD0oHgMu88LE1oJYXW+C7eRiun1pyJ343MJrylgUj63zIXuS8bsWxOpCpkx7JkRHzz1THtfCEEEsDGJ1AVl9V7tnW7OD2D3Zg7MIpn8jDh/Sel4MNu/HUNM2pPwcGltx/P4knqx5UWvE4ppVJVgnhj202cqIrqrh6d8KCzvIFDfSGQacDav0bUhydS3+KSRsE+gK7WBMVxsedh6Z5vrj7kUiHEKXx4UBTcX7FBqcwICS11HHvW7ui+FBqFscKZKHwp9WzIsm2AoUS0PPTx8byR3ALVDMtxJY5lNLTMwNzhXpuisNL1T/XjJ35TBnC+c41bZl1nOtvkt/V+XuwcndSeyelIZbS71GknnRoKyRJcucOCPu0NoinsEHm1IosdWLk7ZB7C4xqDcYbqxa0E0Fwx5aqbJspDJ3KoSuK8B8PMamVGQVRhMqAQVKj8gLpfHBjqPnDcLxJf1MRY7VI2sooRAeKw7nVzu3unwOSOQRDlYWkbsvmblAjxyjTrbcmOljPvKZ4B6pva86WJYWAExtYiNtpGGrGReTgiuzoxO/xw8/7KX/b74yy2BzKogDdw/OC16c5GwdagWDdvsuUNc/hHru+0dL76LWx3lcVcKMtcIvXkXWcORqD458MYnt+z7Yrp7Bo7tRbMGF+rRHN4b1sewHK7YIcUq3QFlOhzp2Z17Kh0vClyGG7TEGx68O4ZyVHfyGBWxVovjDl62iqp1i3kGDx4EGPUJYKoT+a2HA0wqhsL0y7sKCwiFFW6RUieHZbgfOt0WxuhDET21DqFsfxO5fGcAKjbEnPzZ/4pteCyIZsaCuvwf14MbY1DLeNssgkQwiiQ6c73dxYzyIzfe4CS+1jCfowPl+gYIo8Ta+WBhk+37Zwk7O92IAb6RZb8L5/o70dawuCK3qavfMojqu2RBBlfAcHffsVWQSSRt73XtLk0jeX8ZeI/v91qzweciQ+g7Pn7pwUvUdsuAfGixIrseARgO5RYWOMNBSlqf1KHBRLEx34rN4ZpFq7gsi4FzESl8T6znVFQYsh4rHz92L224AmEJCpYWVcQ8GnDKKo4F7K0x9yHWrIe3QwXfQ4NHRUGSCi3gpZnEkTrGUPj8TjC3NFzuxfOseGH9GwGeSm4Cn1VhqSaGQzB/s3CVIG0gt45Hwewl7S0HB3JUDySB2uTlVOm/uLS0CvxzCeYHBj5VThEY85b5l+jgpmSMt2N5loBbkvTUbxbH+IZwDwAvS62tiI6CirCF3T+9L2l+PoaqhVXVdqz/nwvb977DnM7b+FbpKsJYcopT+JJRDmG8WgZGhTG0ArjBa/zc7aPcD4nStElt7ZFAeH+xa+GxD8NxS3+H5UwuOvmfhjtWSY9VkDRVOn0HV08f4EVAcL+rnVpfPMxFaHWmZ5FltR1pBZ/u9yL0T7Pe8MUZTjtFgazaIF7zinVrGw7tLqG4TK9s5y2c63lctLB+1wnuNlQnSY3orgWU48FmJog0qP8x4bRHPnrpQl34xLHD80oeHaYWS/ez41Y70//+hwYJnGpO7bmytcFiBTQA1H3hRi2U8yqGZrdkgIPIGxbAvCnW0wPGBC6uSyb4mPcBdOGYDdhmTrgsA0ITr0+pejvbpXsH/FTZU5oSkhpkYPvvKhZZxhy7hsTxK2Vtw/IILeBIFTvhwuhH4cZ37SmvsaVijt9bFHsBaXyueRBbxQ8qLWjMmhBM+2PgFwfoujp5Ywk9PwG6pZPXinOActe814lFEsjDYMkU5WEFjG3twoRYunLssOE9jE2oWFvEyxbWtds90jmsldN0zwXXLXderDZVzPXmMVyfO4G2NftRaLEhu8PejTKjEcHwlBSoQRKKvl93eRUBzX0yi7MoXrfKOhHE7XqCcWSGye2Dr3DcyFULXlU2MhqfKoxieyvhZGXfhc4eO6tfuVgTCHegPXWB/yxkxAzNKBtFiwkZdVLkFymBjh8jQxhLD/hoAJQE0KZQtDCKYU9l5M5g+V61PmEsqlVNieBJhUNOmrsi+XJrEdsQi8hbXWixpQzwfufK+j8FPTy04cpr9vP4gqXs3AAAgAElEQVRyh6AVeVlCXtaAdiQLGLzcA6rPaYwAHcpJKSgPOaS0qI0P6Rq899c1vOLkYt3rvaKsoYK1DtV4zP5f4KX9cZdB1UmL/nMrsLXORlmK9AbJmp95J8zUK2LYTwI1bWLZ7blUts9JPtMReaYH6wW0eW7g0ngrJ8tHMXzlDrwj4ZKtZQVXZgd6fysKMy4IOoTPLPbKSBBdC2IbkmIzqW0cICYIfeYQhQO4cExwDF/4ohCoV+TjkckD4fJE0lZKdwzz4y7YA6w1X/e5c/CeFIVcxh4AfoF/IQhBYbHgiCkdk+cgPSFKw+UAQGwJrTkn+LtRPD6zw2909lvXuFZC3z2rang3815bvXi/P/Nd/eUevJyaRHJsCUnIhN8wDAAdfclL8NKoGsxRmq1zmtAW6BAsUpkw2Ovg7dHmwM4pbCGo29bs7+xOqOaVCY8Xh+iyocj2L3MtoLUDJmXg506H8XMI5kUz8+YsNgeWr3hgvwZun1lxIafATFC7kVQIXZ4EPsup4nwTrseDGHZyfUD5Feartqg8LT4nnp9jJOG0tb4e/Lg7mJ6/8quWbMGRE8hE6nAemFfCn9j477ZxAAuOnlZrL4ZnEQC2VrEccPoMqu5vYw/APlyo3s2klrylEJYIAFUnhX8pyRp6ZgQGPz3V/hWrnKwJjKLG0CejlGYnBctHrYCHK1RnRboIHpsn/32Re5MDquPDhWO2YDpa7YcN4Pgv+RB1feu9mqyhjAVHTjB4mQK21oGaWnY9Brh3PPVdHrIG8PZJCxDhDVcMfthgxLJFwWDnhWd85JfE081TEPlMN6fQPh0GAh7Ynewnpd3qrwjK7CX/vxYoT1aAVKh88li8IMhRW1ceiixiWF+AfLEZM3Mo80Q7rI6rZryFzEIkzRPh4HPO/hDxFzVBvCDkMvYEFHu7Jl6Q25qdZL3G/XxoEBtqr4e9pUlB+A2gGKajSH7jOr97ZoGjmyvmllrGw7uDWEemPdbjqqMZnR5cefRUDe5GizQnxSBq4XFqCga7Z2pmkSrMdhdR/OGasrJq4QtDKe5PuoOvvwwrKIOZhfYPEb9oj1V5I0JYUtRF/3YZK1/dAaYhDreKLIq3DBLB96Eza140hawiOH60i7xKxaicqj2+S8mByMPBGsggVNwEguHW7CCSUwAECm1GkYthfWwSD5GrQiv0jsawfpctkHReGFbMpzZZ61Ct2Z4LdVxeqyiM01qH6qdR/Lj2GAcnW3FydxFbqTM44Oev1DIeLsRE86q5laAlSrsSnMJ+LEfjjq6qwc6p/KqtqoXiq+XbW/24PZOAXZgXWykFoHSMj3SI+HvAczTirOi6CiXHWvBWLYP9JzH8tHcGpz94jCdrDI7sZSIO8jl3rcWCpFAZPqGS820qFrxVCzxLBrHKFZGoki2cJk/+8pleCl3I0hiVH2bMhepkCgfIhBIJSS3jUYTJuPABbqFYUg8tKghsTiXkXP5caMH2bAz1lbrnl9WP23H5ryz+KVwHsGIo567M0Bp7p8+g6ulaOvxma5b1hLIFoLi8y4U8KzjyFlONveH2loJsSLRwfKcNOmylyVcwMM4EitzWbBAv9Fr+dI1rbjLPykk16Z6l+yIjIOr0uO4xDFDblKNBTFItWAGlrU+0YRWmjZEwEnE5ZXgHcwEX7HK5pwCKskilNrEBoEHrd3Gl/Um/x0YYwKfZhyhjRMnSofRFJnApfhPzI4u4NB4VhFttYnTmJhauCDwx6WM2gZkwEu5yqVysj+aLnWjIw7BSHnChgJFFbPn4/DFpqoiYt09agD3l9o6cAA6kH+uekxfx4kQjTgvGR9przMkpac8s5/3a1qyizlcGzt7q5iUDHH3Pgrf/yuDJPeCVaP4SKABrQWwnpZ5ZJSRzNaf4iL1f7G+ywiSl5GUghMw+03J0Yj5HBZL1/DowH4+J99cUnt/ZraykFrjasjZ8NJbOAksiNMYHVxTx0RcWVH/QI4iMMkeO5T2NsoZsZhtoeBe1p4FH9xaBp7xBJJ9zZ8Jx8zGcy8sxGWSvK7WM3WSeBgBF+UzP+1qZVL4yCxfO9XdgfWwSqxHuI1uHpMALg2d3B7HK/ZU9QF041+bKhBZJqoZlQjE5S4neTaUloRkv7g5iVVQpOci2LQqb5AexBY7uHmxOTaatM0B5bQJPaIw9qxdn3WtIcmOvyt2DOkxin/tpra8HwCSSwjCYdFhbnmMPAJ4upcNppRbK+gs+7N7NWP5q3D5URfR5ZtkcmWC67Sq3DzXJNX190jmu6y93YH9MbJl832fRuGdaZFcIrHL34H3hXMAtvupVNdmQo5oPcl2cv8dGuICWeU5R1ERRUSwCXAGUFoUtdTIhxEphwk24PtMJ+5VumdxUQcXjAoW3Crcqa4afTZ0Y70Rg+g4wE0O7G2jnPDEbQi+421+2HktV3L0V0m/JO55k52bl+YNdj/l5MXuHARfq+OgVudSMLFlDA4G3RTxvuXDabUEyLQu4cNxtwTOB+6v+8hAwOyiY0xWEe2Go9HoHzl+24MiJGJ5t+GDzAbVoxKO7S6hyt6Z/f9K2hG1eRjrhw3FbDM91XpJ4rnah7qoPu19IfnPOhe0FgRFBBj1FotRgkpsFiiJhebQZBuDQ+FVYHJ1WEWjIGrrGB28osojC0fWu97ny9kkLtiNrOH7Vy67de0t4dsKH03rOrSqfc/m10pQmgzuGKMkxqnCVvaXh0XrvmZZ8pud9rUgOy5j/c2PChFa+O/yf0f883PibCU29JphzX6Uwh7O/+ufD3/3F2FGRMf4Y5nD2V785nJV7Tn8ZP/zHf/pn7X9jq7rPW5h7UEZE//tw5dbXhz+Uuh+VSPS/D1dG//vwe7XvDd5b8Xhj3xXtMT1+GMn9Kg4jY8ptG31Pebbnf5N5z/4ybuidk+Vv84edeb3Lq4e/M/H6xO2qzEcy/dueH5f5PXM4+6tcnqPK+fNi9fB3/LhSfH7y9zT7Xw79+9v8Yeev5g+3Vc8vz2s/Z7/WbB9u3Pq/h2uL2/Jf/+3rwzW1OVeGrPGgU07onGdyvgrF+eqf/vnwH/lxbRjhu64iB8lQTu/ED4v/ebjy/31X6m6YBDte/yea/ZniGDYLuXfhb18frpWBHqN/vAnWGeGcX0BeA88sUR6oVDNWobmPzxs7hfZpheqjJQ/PId4ouAqnsuFJqWU8XGBw/GpHHjn3xck1KUQVTotfsHWOO7vasGHyrsBcqPzMJlxXqoascN0Wf6/MMxVWfDfp/HnRhOtxwf68ss+vgDmvVj9u8/nJZowfokLgK/0LtodLw+YLV+dbYbUYckJBKsYL33UVOaicSS3jUQQ4frVCU+KykClalvoOz59qFJAzA5m6K3t/XcMrYcG2skewzgjn/AJCyixBEIQEvuqxeK9FYOseK3QZyzciCIJ4w+HDnyV5v3tLiziQpnsQlYGgAnfNa7UuSlMPWYpSsJM3povCjMunGGy5UtbK7FvV1dh//gLHjtbk0YoL52QrBb+Z7D9/gbeqtesivu6YM7bKGN3l7Ql5BFWPBdRfNl6Uid45gsif137OfhOQWZdqfT2Go1xoTmUp+Tth9eL9fm9pzl1oSihDFXKbzVwp93fu70rdATU+bHJh7s/3sP/8hfaPCU32n7/A3J/v4cMmUu5pbBHFgN45gjAHmrMJgOZUIfROEMWgEt65nx0eHh6WuhNq/PFPS/g2GsPLg6wC+IRB3qquxodNLvzbv/hK3ZWygMYWUWjonSMI86A5m6A5VQy9E0ShqYR3ruyVWYIgCIIgCIIgCIKQUtZhxgRBEARBEARBEAQhR1kXgCIIoryhECfzqIRQHoIgCIIgiHKCwowJgsiJP/5pCQc//S/af3GBKoyaAF9kofrI35NCSxAEQRAEoYPXKMx4B3MBF4YjOR4emYA9EAJTqvNrkXf/Kp0C31/CMN9GY6TImsixozVo/8UFfBuN5XD0DuYC3ZhL5XZuJtQN+3g0t4M1iWLYmXvfikFhr1+L/O/P6/38Sn1+oNTvV37Hl8P9IwiCKBxvRJjxyrgLl6ZlvggEkehr0m4gMgH7lTvy33lu4sG0H5acexfFsLMDct3T3b/XAsl9yPu+EkJWxl343BHGbf8p09p8eXBAiqzJHDtakxWyzYS60XItzP4hmRNWxl1YuBjDdbd220yoGy2b3abOKfLjagdzAQ82PtXXL8X5WYQHo+EptFsNdlBx7tbfnuj+K9KJ+XgvmnX2wTti5F1k7+dAOJdji4W4j0IK3t/IBOy37DmvF9Lxl+lvFMPOKTSojZNUCF2eG1jO+iLH8UoQBEEYpgKUWeVFUq/C09wXQ6JP/NnKuAufA2AAzeOZ5GYBFcsmXI/HcF16zlA3Wjbzb11NEC4bOIGgYSaGBCf8MqFutDgTygJi2RLFsHMRbaJ+c2MYpKATxmBC3Wj5shUP4lOwgJ237ONl+h7niNz8LIZTjrcAGFUO3L1IxHvFn6VC6PIk0KCzLYt/Cgm/Vv8GsZECmuXalOuDbthrX/g4jMQ0qxCujLvQFTJfQczZ4MUp64GZGBIyRomVcRfsTjllP/+13Qy0x58KVj9uxyWDIxVCl2dR3/HcWPwsx3VOzRAUmNFnTCIIgqh0KkCZPYX26RjaJZ+yyp4jt8UuFcLn0x60hZvKVLHYwddfhhH4dCrvlnhBzCzluBCs/NcNYCQsWngt/inMb7rweaizDL0QRpEfwwShTmYe4Oep5r4gAs4pzH1i3OvzaDMMr2PI9F5WFjuYG2TnG/OMZN9jIww0mNaegMgd1ggmmAOb+4JocN7Bir88DH0rX90BAkFFxam5L4zRuAcLkV40i36jMC+mQugaLExfiwG/nhXLK1uennqCIIjiUQHKrBxR/OEaMBrOxTsRxTDnBSzbEKDIHQyEOzGvGXr3OrCDjTjQcDF7MW6+2Inlr74HQAu1OqxnCENvalhbDOtjQbw44YOt24tag0fvLU0iGWFQ0zaEc40F6WBupO5hIdyJz0TzQBPaAmEsGPZSKr9nbxIr4560cpgVPhzozqNlR5anV1d4sucmHkw7lPv71R14Pw5LjK5NaAt04JJTEj6dV/9ZGmzGx0fzxU7gSgeGFcLdV8Y9xtazrQSWna0FNzSrPx8PRsPG7ycT6sal+E086Huz3zOCIIhiUpHKLBOawnSgGwnDgrsgL/NWCL+WhjGFb6DFeQOAOETHYnMA1zpgl1uMzQ6HSoXQxYVsZVndFfqX9/lEOT8quV8KiIQClfuh93ci4ptgkI8HXRzKFpgJAlekYcAq/dO8PzLtG0T5vnAhy2E7Puf7kON4O+vwYPmaB/Zrar8y/uyLQmoZD+8+xsn+DtSXui/FxmPHWZmPN5I7gNuIwMx6D/GpSf0SoDSuAjrPpTtnNk+ncuY8N/CHiB/XBeHDeUWupDaxIfOctMOTeZQK+ygbIM46PEAgk/+cf+TNDjbiHjR8ksOh7l4k4q0Ydrpgl/s+EEQirt/wvPLVHXgdnfrPX2+HV7A2KiH1YGo/nyiG9fdCML7C6A9dIG8pQRBEkag8ZTYVQv81B+bjTZArnqQoQAnzetx8TuYN8QKnpCgIc57yLDahiqCPsopqQfKILmAsHku3uTLuwqXxVlZIks3nERfFSBeViU+lj28Zd7DHpwufeDA64sAChpCISxf4U2hwAgsywrm8V8IYK+MeDDiDSEw3IZO72ok2QGf/VO4P134mn03SPrQVeNX7BwC4g0ueTszHY7gt/V6qaHtcGAAgp5TqF6wrERfO9eeu6dT6elBbYTvhCBXIwEUdB0QWxUY8ucI1OXr2ssMcuRzXvNowE26dSCtVUVbxMms+1eFJFCvsZVgcKHUPC+EwGnLJSwYAvIMGDxCQFP1i83DfMdBOFAvTHrSFpWMhjAF+fpPWfpDLWzWCqEBXLs+GG1+em3gQ98PCjX/7tTJ8zgRBEK8hlaXMcoUVGgLApUAID6b9guJJCgJUWmhjFQJewGeFe/aYYVt2AabiwivlHoyGixz+bD0lEsKaP7kJr2cRK31NaLb68VlAnLcq9opnh3uLcvrcvUjEO1kFb7MbCYXQq+ZPbgIe7jkICkBdmu7EfJZyaQAuNzrTv1No/7QzU3BET//U7k8qhM+nO/FZuo+S9iHJWf5S2rjG/ePGQWAmo5g2f3IT3kHOW50W4so9zJgLA+b/FIUDx7A+FsWxq2ewe3cJr0Tfi4/bHhvENgDAguNXe+CwZkKEAQC2Dpy/7EqfdW9pEo/QiOrIEl7Ahbo2YHshJvidsP1Mm8Lj023ziM7BYHNqEs+eynyX9iY3YZ8/Ry5h0OEEHkFYpI711vHK38q4Cws6mln56g68I0G0fdnBeiXdYgWg8Dn1KspIwRDPq5lIHq7oXmQC9vGoYl/0eYx57qQjd8TGSEEBJ36eSIXQ5XFhQ/S7UtyfDMw3i1gGsCwXsVTE/ilHXRVIMUyF0HUFGdkgFUKXpxtIn0tw3fBgVHRwJionIChemM4FToXQNRjCz6fLwYpY2vFFEARRSCpHmeUU2TZukWkbd6ElAE3LOvNNAm3hGG7LLoLsogMAKNX+pRKPccmxOtCARPrP5oudWL51D4yftTiLClOlNrEBB9pE9/YdNHjCWZVHAxdVFk+rH7fjDnGYWtrKnQdbCSx7WjEm7F+9HV7B9enqn6ivgvuzlcByoBW3hd+7WxGA3kqWeu6fBw3C2FqrAw3hRYmCo4TKtk+qmBluzGBzKogDdw/O+yzgFcDkbB1q00phDNt3gbr+IdRz3z9aehe1Ps7jqhJmzHtV95YmkdzNPvuryBqOXO3BkS8msX3fB9vVM3h0N4otuFCf9ujGsD6W/czEHltO6RYoy1uzk3hW24Hz3a70dT1c6sH7Pkv6mO0xBsevDuGclVWcn6x5Uas3L9d6AW2eG5LCOVyxoU8NGHnSRpcmNH90E12eCawUPZxcWRnRFwKPHIRw+Urxady96TnXYnMAEmU+ryq3PKl7WMBNjAm9zlY/xkYW0fJVFNfd/PXI3R/lqJVHm2FgOixOfck5Z5ab12fCaLjl4Ywd0t9k909W2Q+7ZOYb8bNVjDyKTKAlHXWljTFjg/z5mW8WgZGhzLvAPZv+b3bQ7mf7zl43ZzCU8POhmHK6k9WP23z//FMyq04xIS8xQRCvLxWhzLKhmhBNxs19MczrUGgt/l5xtUTZfQc7MT8jd7Ty1gHS/BzvSDAdWmoIvds21NvhdeZYvVmDbKEgEyYLdydGMYivU360gxPMeEFkK4Fl3MGytBAJ9OfLZdAQPEuI0v1hkpsAWnNv2NT7J0cZ3NO1RTx76kJdWsGzwPFLHx6mFUr2s+NXO9L//4cGC57t6tk0Swe2VjisrJ5S84EXtVjGoxya2ZoNAm1DAmU6hv2kC3X9vHJrgeMDF1bvf4c9X8b7WtPGe3tdOGYDdhkj13UKP//Yg4ErE+kc75VxLpxRt+ErU/CuGeCE9W60cJEt5VDNPSsEnqtmO2Zi/7T22M37XS4QYmMiTxQL02KDUz6edSY0yBbFcp+CZUi/scMUZZ8nFULXlU2Mhqd0G1lMPX9OnIKFk0c0x1fOezxHMRd6Bz/PpXvp90i5wBhBEMTrQNkrs5l9FrMFm+a+GB6EuhUsyVIEe30KciABpBVc74g0P9PIlio7mMsKI9WPrsqXAePFhdTh7olTWKCDLTqU4RR+/jHQ/80OGjZvANIc1mLsBxiZQFey1bixoN4Ob3iRVcR5i/RWAssAPtPVgPr9sdgcwJd5Fqgqyn6KXAj+pyXad/DEGbxt9Ji9bezBZbgycUFYC2IbHTgv9KimtnGAmCD0mePEGcEfLhwTHFN/echwASuLfwoP0I0WJ6c0GxovO5gLcLmiMtte6Yls0YO8VzX/gk3lAhPqRj+GcsvptV5AGzzigkCpEPqvhRGY0bH1mrsTo6Lj2We6YdbWQqkQ+q8Bo2FuHORs7FCJAtHyqAuik3L3HCobntXysS0ftQKeQcx9xBnKufvB5ux+n2tn9GN1oAE3sitTp+nEaLgT+Eb+W9WohvRcoVRgjCAI4vWg7JVZrcI1Fv+UPs8Tt83FvFzoqrsXibAdXR61vfvEhY+yEYQs54BmgZ7IBOy38q3sK4G/J9MCQYMrFCNUHNkF34NLkOSwulsRCE+JlUVDKAsgIgJBJPreMW4s4MI0B/4rivY+rgDUrTsAdFbK1Lo/9XZ4pTmNMvdPkbzvX4Xw9DF+BDKK6ZPHbG6sGrV15aHIIob1BQg8sEJcqCtCheWci3dF7rCGGBlForkvZkrYY+m9YwaYVqhIz2PC1jbZsOtCw7gLdif/mZHaCKfQPh0GAhmFxbRiWVw9Cek2dYaNHRqpMivjLtidcqkLvAIsrmdhGOH5ZZ6v8vnBhgLPJGAX5sXmGo6b0/jSFz3DKHz+ehf2IwiC0EfZK7OmYcgj94awlcAyNtGWApq5gk7DV2SUPasfnwVuYBmtEmGgCb8eAVo8E2gQhryldmCx6hG2jHm+jSMQBDlBMjByE96wTjFe6/5wBbIy1Y0V7p8i+d4/Idl5ymVBYxNqFoLYXWJQz+fM3o+hyt0jrwSmlvEowqCmTaA8WutQjSXsrwEo6j6wbL6vOLyY79O7OHpiCduzMdRfllN0ywBBTmg5opXzqLTVSs7KnIqHsNAFsPJT+o3Mk/phthJom4mhXWaMGDF2sMXFwopRH819YYzGPZLcbwCRTWAmjIShLaZMPD+P3lQfLUo4vgiCIN5k3hxl1t2L+YALlwIy2+pwFmqYFbpVNkhDv7iCIfyi6+5FYmZCYpUOIuCZwkZagcsgVyQpKwwSfPunxOcPuzgLfLELz0gEwcgE7B47xgDt/um4P819YYwKleWZIAJXMmHaYoE9zAroglBR9ftn4Bo/7YT9Cl98pZz2i3XhXH8H1scmscoXWbN1cMWgeBg8uzuIVe6vmrYhnGuUtNHmwurCIFYXgEzlYUk1YQSxOoasqsaKrAWxupCJpnhxdxCrokrJQbbt9HnZvrDeWAsc3T3YnJpkz8lR5RYWgCLUqCiv7muIxd1rioLcfLETy1fE1eiFrIx7MBDuxLzUcOH2m5LPn/P5CQDyNUkIgiAqiTdHmQUnPEUmYHdKBV09YU5sldlMmX4FipIDqRcdIUxyVum4JJcrFcLn8ZsYUxA8lUOdyqAAkQjWcxqY4XOmzbg/Ml6TuHCrHW2BXf3+SfPqmnBdrtqnqneBrYo6cEWu0qgYxUqjeaG1D2z2tjhZNEpyVrnjHN3K7db6etKhypnfefF+v1qbkuNV959VOb9VcB6i5FhsDuBabmHGFpsDy1e0qy0Xdq/cMsbdi0S8VVyNXkhAWHOgUOfvxFzABbtCzmz2/uHmks/4KjWPNtmbVpaRPQRBEDr42eHh4WGpO0GUKenKz5Vb1l8aylgYZe3NpPPff487//HbPFtht8U5oqXMvkGYc18JgiAIgiBef94ozyxhELNyiUoIhTISBEEQBEEQxOsJKbMEQeTEW9XV2H/+AseO1uTRigvnZCsFv5nsP3+Bt6qrS90NgiAIgiCIiuDvSt0BgiAqkw+bXJj78z3sP39R6q68Fuw/f4G5P9/Dh02k3BMEQRAEQeiBcmYJgsiZP/5pCd9GY3h5cFDqrlQ8b1VX48MmF/7tX1SrThEEQRAEQRAcpMwSBEEQBEEQBEEQFQeFGRMEQRAEQRAEQRAVBxWAIgiiZFCYsnkUO0yZnh0BUHg8QbxO0LxOVOKcTmHGBEGUhD/+aQkHP/0v2n9xIc+KyASQKSBVfeTvC74I0bMjeIo57giCKBw0rxNAZc7pr0+YcWQC9kAITKmOxw7mAi4MR3JuQJ28+wcgFUJXzm2Yc30r4y50hXYK0H6ex5txfwvZfrn3L4f7/200RoumiRw7WoP2X1zAt9GYwSOjGHZ2Yy6l/wh6dgRP7uOusDChbtjHo6XuxmuH6L6asa7JPqMohp0u2DX+ycsS5lDq8VOK89O8TgD5zemlem9eH2W2KBROYWVC3eKJ2tBgYPvFHyvuXxTDzgmsGGinYAp5jqyMKy1meq9Lvg1zrlNBEUiF0GWgf4VDRSgwNMYk7ZgwWb08OKBF02SOHa0pSngYPTtCSPa4K+BakgqhyyTlJmvdzWFtef0QyxNmrBei56LLqN6E6/EYEir/Hox4sLz5fW6XaBaRiRzHj9w9Lv2Yo3md4FGSJcSytDEjeCEp/5zZVAhdnhtY5v70jtxEw7UbmOa/99zEg2k/LIoNRDHs7Mj8XkggiERfk7n9zYGVcRcuxW/iQXwqfR0r4y7YA1rXBrCTogcLH4eRmD4FfhEZnonhurvgXTfIDjbiQMPFU4aPCWRdTxTDzilspIBmq3YrzX0xJPoMdreIMKFutFwLZz7QHNd6YYWC63Ln29TbBvsOYSaGhBvgx1xXKIzbfiPPkigJkjkU8GA0PIV2He8NQZQdVj9ux/1ZH6+Mu/C57kbYOWwA4nU3DacwY6QM5rhUCF2DwJjO9WBl3IVLnMDjzan/p9A+HUO74BMm1I2WLzfBQK+8JL/ulB2pELo8CXwW70WzoQOF4yeWw/jJvsfG+y2c0xUoExmXeB3gxrwziEScG1OpELo8LmyUgb5R/sosIBHsoxi+1ol53ZOPwqQamYD9Fjs561cYvsdG2IOGId0H6CCKhWkPRsPihaq5L4iAcwpfp/zqQmfqHhbCnfhsmp8wm3B9phP2WyH82rAyVIjrExC5g4EwAGcU191N7DO4ckf0k8CnRhoMY8DjwoDi8dzLF4Yq3pEwbtuMnNdcWOGjE/PxqfSYXhl3ocWZMDDOjbCDr78MI/DplK5fM6EpTAeCnCILAKfQPnQTC55BzH1ESlFZw71jgZkYbrsFn5XJAkQQ5sCuo21hnYpb6h4WwtnrbhqrH7dnErDfugfGb4ZRsXjwhltjyr0amfXCAhQu1SG8qpsAACAASURBVEVyTn1rd6GEFQ1KPX4UDDoicpJxCUKByB3WeCM0jqTHeS76hrlQmLERUpvYgAMNZgrvim2+gwZPGBtbgo/CN9AiCZFlvlnEcqBVrPC4WxEIJ/DItL6YQRTDV+4gMBNEYLqD7b+7VxA2FMaox2ibHoyG1Y5nrZ9qoUqJeKzElnfemCFWWpv7whj13MFCIcL0uEnp11JFRmZ8pQWZixLrrtWPzwKS8VmxxLA+NojVqWXs5XD03tIkVscGsb5mesfyZuWrO/COhMVKq7sXD0Y8mP6qCHktqWU8HBvE6tggVseCKJ/hEsP62CQ2CxIixY6n8hgPDDanlPoidw9iWC+r56QP1uDWnW1Ym+6QD4ezXkCbJ4yBQYVw11QIXVfuwPvxBVIEIncwEO5Em3AO4e+rxBgNQDEM3FgIOGtYz6zvBVy7PXacNXpMzuNHXy5wuaV6Sdma5ef0QTxcKo55Qw97S5NYnS1M7v7e0mTOMoLZbM0q33e5e7C3NJn3c2KSm4DTkT0f5qpvmExleGbLha0ElgF8ZmabVgcasCgTLivjJVUIPfU63pFpeFN3CG6aQlwfANbK2sF595qAeBDDThe6ihnClRWWY8S7r0W2h5g/h+a95AwIbVnP6RQanMBCcgdwm3iPIhOwX9nEaLg3e1KSHV/K3vqzDg82zO5fIUgt4+HdxzjZ34H6UvelqCiH9VtsDuDLIljtrV683+9NPwOiXGCwORXEgbsH50Rzjwun3YtITi3j7W4vanNun52/Bq645FN8eExIp2BTNByYj8uEUyqGWXJhnlzOYzadmI/HDK8PTKgb/V8Cy+EwEAjigWOKTR8R9UPsdcwOBRamRnkwOtOadR5hKHFhQ0l5I7TkXvDnjEzAfktySJbXkL3eDZuRdYI15suvqwLyHT9bCSw7W3M4nh0/Pw91o8V5Q65jGA3HZKKW9IdfM0nDnSoa9ZeHUA9WqdotdWeIDGtBJCMW1PWL57RaXyuejE1i3TKEc42FOHEO+obJvAHKrEq4SiBoaBJb+Yq1Qn4e6sRt/6nsPEcYDZMFgCa0BcK4NBjCz9OTskD5y3lwCBeCTrTpOKIg18eFOXpHwkj4BaHQ8TDmAh7Yv8xnMdIKM+ZIhdDlWURbOIbb/P2MTMDunBArtOEb6YUpO0dXDZkcRC4XRxPrBbR55IwZO9iIe9D2iXmKIisAmZsvyRbgKHNlVhMXzvXnHq5W6+tBbVlWrz+Fn3/skTWIMMlNeD/uJK/TG8reUhDP4IPNlz0Can09+HF3EI+W3kWtzPd6KXydAn5tz8Mw6e5FIt5raq+W0YoH8SF8HfCgBUEk4t0Ydi5ipa8JzVk1Lrj6A+AVWnbtz9QnYBXbZc/NdPsr4y587ggjERccX4j6BZwBGCPhTIpCLvDhiYbayDOnVCcrX90B4vacjXoWmwPwtIplGG7t14xwkxrYC2GUkPOkEa8pMawvxFDTNiRjtHfh3FUfHt4NYqsxN6O+ogE8sohpTyselDjdrODK7Hzo/2F04vcAgIHe3+KS/18LdzJZZYQPV9EhwKsqM1w46EwrFq7cwYq/F83+KSTSBkjO+phDt5v7YnggtfAZmNiyFIrUJjbSClYUw85FHa0U5vqY+k4FYUHvYqVm4Rc+V5X+bSWwHOjOKLIA4O7EqMeDhUgvmvnnbFrRJQVkx9cptE93sxWn0wJZRuAR9TlHZTttlAgIEvdNQj4qwGzY0McX/J8nfLClvUYxrI9FcezqGezeXcIr0ffi47bHBrENALDg+NUeOKxs+E0ywoXf2Dpw/nLGorm3NIlHaER1ZAkv4EJdG7C9EBP8Tth+pk3h8em2eUTnYLA5NYlnT2W+S3uTm7DPn0N03fqw+Kfw2bgLw5HMeGGLubTiwbRQ+BUYhopaNETt2Wp/L73HNW0GLc9PlvEwa9xwrAWxupAJ18puW6vvHCnuHCd8sP0SeCQXJbAWxOr9M+njxdclHltbs4PYPdmDswimfyPum6RfAMT1SWN4EgGOX1UeS/UXfNi9u4gtX3lGM/CeSe8IrxSWD2xoKbtu8fNjg4fzXEBa44KvP8CtuVmKXxN+PeLB9Jfcn6kQPp/uxGdxheNNuQLeM6zkXTTYFufZtQhrZAiUcxF6CxtJyWntjmJhGgBu4A8Rv/x6Ot0B+zRgetG8yATsV4D5eAy3uY9ki37qPX9kAvZbdtGxTHITQLZXvxhozcvq3+ucV1XYmh3EdlKubcmaK9O23jWFP0dN2xCOrbNz8vsi4x97rp8+4I+XXJeh9V7SbwBVJ8X92VtaxAtbB84rrX9WL07aBrG7xKA+FyOluxOj8KBl3JGRD7hw+sCMTBG0IlNwZXZ04vf44Ye99P8Lqszmq4yoHM/n5CTcTfj5SDdaxqOmCnwWkeJo4LiPWuG9xlt9ObYSWIYDnxmYeAt1fRarXkGDVW7lyNvCX2+Hd3oKc59kFgMmNMha9FVj4ExGcXw14XocGHa6cIn9IUaFXmTN41WITKBlsxuJuEaxJ3cvErL3QpC7LfEcf/1lGA2fFlqQzIRDnvdZwE/qydk61KaVwhi27wJ1/UOo575nvUqcx1UlzJj3qu4tTSIpEy/1KrKGI1d7cOSLSWzf98F29Qwe3Y1iCy7Upz26MayPZRuMxB5bTukWKMtbs5N4VtuB892u9HU9XBIuiDFsjzE4fnUI56zsQvhkzYtag2FCzX0xYNwF+xX2b3kFoBQVjrWf7das8HsJqWU8ilhQ19+To8LF4NnCY5lxYwEQw/p6E873d7A/XQtidUFo1Wafh2LfBH18eHcJ1W0ZgeYJ1vAyBcn7JD7mCTpwvp9td29pEskvlrEnELpeRSaRtHXgfL+L/f7+MvYavahVuKc/Cdtfi+LFiUacVnvW1ndx9MQS9tcAGBlvRVBGmFC3wDOpjMU/hazYmKIqS0CDjfWe8rA1LrrTCgwAUarRWZmICctHrfDyyuxWAsseO8YUjjcjzI8JTQk8w9lYbA54oc+IuTLOhksHgIwXnKvOLIuewkZmEVnEtOcmHnyaQItSARupYU9h/MiFGi87BfnEkvGz8lV26LZs0c88DYvFMTZLSIe6cvPyWhCrC5PYPM0Z5DTmbdU5Xw/JIHbdPTh/2ZI1b+8tLQK/HMJ5K4CsOZ9XZLXXlK3ZQWzv+WDr54yPjAXbuwygMkNszUZxrH8I5wDw68f6mliJV1rvxbKCXHg3gx82GNR8IJcykaH+nAvb97/Dni+XFBJWRm8Yd8Hu5D8zw+BlDm9AmLEJRCZEOTkW/xBGi701iZKyYb2ANs8NXBpv5SY91hLqHQnrt9IW5fr0VSfU9jgqtBMIIqGgDMPqx+0w0CUKSTYzZ9YM2NDrhoAHG5+aqFS4e1mhRI8QJyuwsaGqA19xFah50lW0TeqnEmuLePbUhbr0wmaB45c+PEwrlOxnx692pP//Dw0WPNNYWHRja4XDCmwCqPnAi1os51ToYGs2CIjCf2LYT7oEuS0WOD5wYVWy0NS08R45F47ZgF0mt+tq7ovhgaMbLZvdpd9qhEfXswVebagtvjHjClcamXGTPpcL5y4LftrYhJqFxbQSure0iBcn5MN00zDLeLggVGTZ8xw5wf1XYGR5m2GA2ib2Gq1eUR5r7XuNeBR5jB+BzD044YONU/hF368tKoYP8+wJz6Vyb96qBZ4bHW9FUEYs/ilWGZSphp+FVBkoprKUA482w4BD+XsmuQmE78goTx6MmtQHi39KPafT3ZsJO1Y0ggq2HAwD/Z5uzJXVdmACj7EbmHe60B+6oD03lvn4EfJoM2xwG0QzYLB5P4Yqt0AZbOxA3fogdv/KANaMoVZt3laf8zWwdWQMwo1NqFkIps9V6+sQtCmVFWJ4EmFQ06auyP4wO4hne2KPbq3FkjaG85Ez7/sY/PTUgiOn2c/rL3cIWpFfz2XX+9R32BXJCnKIz6XI6TOoeipZSwxSrttcFlyZHej9rSjM2DBWBxrCHZnJO3ATo547uCS1ehnOVeXgwzOUjhe40TOKzym0Twex4RTmuuSHXH6qHNnK3im0T4eBgCdtLTG0t1yRrk87rFhHGLNgmxHpAspu5KyioBZ0EVIoVOG5Kbagl5zcFHiLvxsBZweGL/Jjbwdzg2wuVVGMASfO4G2jx+xtYw+uPArYmMhaENuQhP+ktnGAmCD0mePEGcEfLhwTHMMX3Xit0Hi29Zd78HJqEsmxJSQhCfmyevF+22OsLgxidQE5haMJqbVYkBRMQMJQNRYLjnD/+3GXAWrrVM/1IrIE6TNklUQG+0+APeYxqm3AyxTwNoCqk+kAwayQMkAsyFQ1vJs5t9WL9/v1XWO67zp4+6S2t0EZdh/whkIrMDlHYxWpfxIsNgdrGVPgrMOjXYegaGkAwkJUKmT1R7AHK/dseGPyxkwM13VNYvrOnds+upzHWLDdXHNfEA1OD4ZtxrYrU5bb1CNdmi924tKVCbQJ1uOV8Q7WU2zKeNzB2U9iuF4i40G1ReWN1Ji3Ved8w7DGw3RkSkqQVsLDb8uY2sYBLDiqphA+XcKzp0CV+13x3H/6DKrub2MPwD5cqN7NpIi8xT8DSdoKIA0VVljv9VTcT23jAEivT4pY61CtFRmUM1EMBzbR9rHZ7eqj4MrsJf+/5hlaLFf9zZ+tFEUmFI7XqIoXCCIx3aR4/Mp/3UCDrLeQ7ZdZ8GHGTIj1nkgrH258qjbJ5l4soVjXZway24xwNPfFMA9XunhVFjlvjq5FPpvDKyzYYWl+sAejIyrm+oLThOtcBWo790muQkROSC2JTx6LFyM5NBSN4hHD+gIUrKou1BWwwrKo4mmaMJeDlcE7chMNBeqDJprP1gJHN1ecK7WMh3cHsQ6BcNOYMRJszQ4iOQUgR4VW6LHcW5rEdlL4fMSh5G+ftECrjCefS7UtqQz89kkLdpkYftgAjv3yDPb/yuDHXQbV5yzcdUyy3lUuhM3sStB6+g6wSm9GwSZMod4O77QkLSiyiGk4MG+VL7LCfLOIZS73UTatqGDoWNtk9jJdGecKXAnXB6sft+MODAdCYHTV2tM+NysrGS9AmPYYTwsV8CZcD99El8eFYV31KAQKe3wq25iSCqHL48KC0jrp7kUizG5hJCoANW2WkeIULCX0gh+IPI4MXu4BECpuqvO2xpxvCKHHMob1u0uAIIRZlF5krUO1VnPpugeSysDWOlQ/jeLHtcc4ONmKk7uL2EqdwQFvrE0t4yFXnOmc4LpNqwStp+9AWmE/ZnBs6HO2sc6SsyE9NXrM5w0IM86vKl5zn/Hy/JVEMa9PXrgWo1wtmd1mRC0EKy9UwqUKhwFFODKhvkWBLiQRDVJUvRz5KO15wIUJZYoWyIQxCUkt41GEQU2bQHm01qEaOeT/5Q2bvwi56oJcTuL2bAz1l9XzXHJFfzhQFMPXSrAAGX22Ggv22yctyNoEUFh8SVXJ5UPMBM9C4DXemg3ihcAzW/teIx7dleY8ZZP2MohyvAFgGz/VNsFhBda/WMQ+JCFiaWMMg80vlvAKOsfI6TOoerqGH1Je1Fo5xfipuAAU64HWilxgBVBewS5bBEXxZClqMTMdZKUF7WDuliAtiCuykg55TYXQfy0MeLhCPlY/Pgu4cCkgKfaT2jFQn6KwNPfFxDnBaZpwfboJSIV0tKIvLck7YrQKfRQbCOLBtEz1YiPRW1yazXxcYb20+nF7JgH7rXtg/Cq/MRotppEupPguFLq4ZRoudDciKB6XlU4iRnbe5lGY84XFl9TmXzYdRFwfIO015mSFtGcWLhyzBbEtqU+Q3SfesyzIA+Z4yQBH37Pg7b8yeHIPeCVK5xDM8WtBbCezizjJn08sv7CGVumxFhw5weCnJ1D3uD55jFc5RLoZqelTql2H3wBlligPWGXU2JY3QviqjfKhQKyi3Il5jaIgbzblliesBxfO9XdgfWwSq/xG8rYOSXEIBs/uDmKV+yt7gXPhXJsrE9aUrg4rDecMYnUMWVWNFZGEDb24O4hVUaXkINt2+rxsX1hvnwWO7h5sTk2y5+SocksrIlY20sqQbFg1fw+0nm12Vd4qdw/eb5Rvm723RryyyuOm1teKJ5FgOtStyu1DTXItc6jVi/evAg/vCp6trMJsgaO7A+tjQayOcddtsSC5sAS0sYL4sdogtpOutLWcrSQcTI+LGrcPVRGdnlmrF2fda0hy11Xl7kEdJrEv/A1nRFAtJpb6Ds+funCyqMafHCiakG4WWmlBmRQf+zWA3Wf2JiDYy7W5L4b5cZdIcWHbgIyyw7ZT1EgaUzCwC4UhmtBuRr4fb5SQGBXScOlb3pGwuWOzLHJ2JfNykp2/+bWr1tcDYBJJye4BvIFSfd5Wn/N1kczMneI52YXTbguS6fXYheNuC54J3KP1l4eA2cH0vA8oKMyNHbAxk0jeHcRD7rqPnIjh2YYPNh9Qi0Y8uruEKjdvhPLipG0J2/x6c8KH47YYnuu6IIn8YuuAzb0oqd3BGhEyhQDl2VqPoaqhtUyi1szlZ4eHh4el7oQpyJQmL+rxusKB1Y/VskICyGHxZrfmaYv3opmrIjiW0zXmc30sejyz2pZ0+XulvVgXNgdHk1KPT11VPPMRHoyPj85//z3u/EcOefQi2PDPI5Jtcd5kjN9X4/mD5jw7olTsLU0iudGo6K3OFDHRP9uIx4TeNS2POUdPAShFA14R+vcmkMu6JJRDIhOwf9Uqs+brfT6FM9Bmp3wp/CaHnFmzzm82NK9XMqwhAEreapVdHZTIZTyUYtwCr5MySxBERUHKbGEohkBCQk+lw0YlPG/IVli1FF0laEwQRGVD73CFsxbE6gJkanFoKLoKVNJ4+LtSd4AgCIIgiGLChj9XR4LYFFXLjOFJxIK6PKpCEwRBECWgsQM2N4PtWXHx1r2lRRy4e/KoCl3+UM4sQRAl4a3qauw/f4FjR2u0f6yIC+dU9197s9h//gJvVeuqa5gX5jw7orTIvTu5vU/FGncEQRQOmtcrn1pfT5YhUu4zLSptTifPLEEQJeHDJhfm/nwP+89faP+Y0GT/+QvM/fkePmwqvHJPz47gKea4IwiicNC8TgCVOadTzixBECXjj39awrfRGF4eHJS6KxXPW9XV+LDJhX/7F19RzkfPjgCKP+4IgigcNK8TlTinkzJLEARBEARBEARBVBwUZkwQBEEQBEEQBEFUHFQAiiAIgiCINw4KqTSPSgxNJAji9YDCjAmCIAiCeKP445+WcPDT/6L9FxeoeqsJ8EVjqo/8/+2dX2hbV57HvzOzEyZbOkN2rSCaFoIkRNHA1JUezEzgxiXx4sA+LCh4sGFTbG5BgUBe1o5j7H1YG//dl0AghgqbdsGmxoJ9WIiZpES50Bn8IMcdWFGELQKpB03kUqal26EwZB/ulXT//9OVJSXfDwRiSffcc889/35/z99RoCWEnChd52ZczWUQiSc0/+YLQZR8jC2xibIKK4iIOVTbdX8nmq7fS4q6XSo5jMVXsOe3rEoOYy9pG+8tJwzjzvCvk/t/N9BU/2l1+3XA+2np+HrJ5/+m6YT1aR/zpnOPvzn79/tFCrIB8vprpzH0Txfx+/2i8491VHMZRJb3W1CrYMpv7vp9zMcz2Ko4/7I7af75Wvv+293+7b5/87R6fAZB17kZh9KrKKe9XbO3nMDVrP5TAYvSKobCTlfvYz4+AsPlACBuoDzR67IWunI8XXsS9Xt5MX3/wix2s2mEXJVwjC1RwKSk/Klp133Mxx9gsDSOZFAV7jiOcVACxM0iplJ+y9D1U0/t38VUchgTZpDXf15/fqf+s4/5+CpihrnK6nOvyH374Lr+3TZX/t5yAnejEtbSPa7rUBtf2n7W/vFlvn7gJZtfO3t9quYy6LstQdwsoqyfgworiMQT6F9w299k/vrDDxRkA+b1106bumxrx5DbvZdb9H1sFNtu54vCCiLD64aP3fYly7nBSx1s6+JcjnUd1ATd5j4orCByL9Kh675uj6fCsS+YvTc/82fb3r9ura/kMDYNLHXke7Kma4TZ2mJmjfXLSk4UUZ5QfyK/PHf0YqpUxJRZfQ5dFqFMtqgvxPLAGct5W3xbV7+TxNvmVPPefW6wDO+/sILIcBnPAJeDtQdD2SKGPN/ZmSCer+NRBLqYaiNazWXQFy97X/Dbjkfh6qiMvF5wr+QwJnjpf93GPnayABbc/FaeC3euSChne1Czvs03pTgxlm+2SXGrUDGuH4qwDqAK53dov3a52fTaCIRqfCuIOn19Osaj+5K1Mi01jvImELn3GNV0d23AXn6U8RffQLmkrG2VHMaEBA6CGOMma4us3Mi4E95S4yiXxjUf1ca2G8zmhtr87p7aHDWK7VJROxe4UNSY1sGk/IMjAB6FWTtBqTnldvB4U6CqUIRIcbOIssmzyl5pNvO0SR/yRie8/yhi7VR0BEDXCLOWFlmlI/YvzPnQOhk3OuJ1d9c9ui9BvO5OIK7mVpEVN1Qa5R4Mzc1iR5jG1oVWaMu81a+Tqb33IIXzvU/X0b8gdYQQ1Yrn6zT2Pp4BFiTNwhdKr2L7MIG7udEANsykNUiYFBKYVH3iZn7cWx5BVhyFeFvA/HmHDU/lMXakUdzI1vpAL6Y2RxG5l8MHgWiGzRVR8niL+iu/ksPdrIBBqdfV9c8OJc9WQy3mAqG+Tn4VJJ2/Pn2JAwmAU9+TXmYFUZdSWMckZrGrVtKG01jbLAcyxs3WFqTGsbuQQd/H+xhqQjlsUEKJGXfXffYAeTGDNdf3mZbbqGTSFqlxlKUIxlo2Fp1pbu5qUH16CMQHOm587n26DogblutUckLCYknATmEcSdVvnA1sUBSMUdufdPr77xa6LmYW0MXNfjqAcqloO9iM8X41Lbe80SmXiiiXJCwKLiugTNAf6Du/NIM+QxyvsnBf0k2q4TRuiJKsLQmawjompVEMdpDWrGOobUQvqPpL7b2ZuYNaxWl1ePxAsPQgFgeyw35iZmUX5dh54/hMXhpF/vDLk3iADmQdVzVzUXsxvtsRZCFgUfI2P8qa/FFsT4xjSprFwbB9nKW88RvQKpZSAxAVwaQ17OPD28DiNT8b3X3MCzOIbb4sG4s2rU+u108A6MUHCwKyVn2prtAe7QgFpXeK+GJpGk9W8/jax9VfP7yDJ0vT+OLzwCvWNLIAY6I0CnCMm60tofNRoHToHMOuWL7U/2qWyFB6VZn7ithdcLs5tJpbZMWgce8gj7/+KxethbzwRQwKEnY+O3ZZh86lP/pmS8s36wtOJC+NAtkRy3Vqb1kw3U83+od+bVStm47Kmg54/5VDHAgRvFX7+6iMvNmY7XC6wjKr14D0L0gol3rq30Xi2u+0gq1dvJ8Py2xhBZHhQyxK48aXberm9SUOJAGxOWNRb0UFHDw9BlIBWqYqOYwpLhOGhV2aQV98BoBLF5HCCiL3DtEvSbKr5PUy+obXDc+pcUUxuMrq4+E2DLfRvN+WxlIeY2ta1uRqNqK1e5q6BxmtIrI7S2sn5TqGmEvvsThu29fud86uLD4pHaIKdxYuc0z617C5G7Dp8zm2r3P/9UftPrLbsj1GC6mMgMWAamOcD7yEYqDRTwWVhjmcxlopKiuDbMJAzDc4hzioAMkWCIyyJTKDsueyVe6+ZlYlr/NrR3DC65Pn9VNG9mBRFIuGb03c8zqJSh5//OhP+MdbIzjX7rp0FMGM8eyn+5hKaYVHt1bA6tNDy/Ae75ZZeX44WJAwZXim1sWsuo6ZNBnjJ4cstOXjXwJohSfWMQ5KAmLXfFyaGke5NGAxt0DuHyUrxac+TAbKWpgBNO9btYYHHE7W7PuvfvYAeQw0/n56iP7oqHHv6dIzoV10hTBrl/TJT0KoBmoXNMWv3ObX8uSGQCcl2TIV0OBW+f6bbqT8CIpSFDdKq7ixnEDfvVnsliQ8EqfxqJLGUFgZSGgM9r3lBCLLjcG6t6we6IpggFEMKsXL7n4ZlEur9ev7lqMtiB1VNqLiBsrNuMxUcribHcWN0km5xl7EUqmoVRwsD8jtowjfNzTClzaY37Z96wkHBCwuRLGDubqSKDhkq+6OyaZ479N19F+RmnMzW1bisbK9MPQvV89n075w7r8ng9lGSO7PftyA3ePGzbgh4ImbRawZ5h1FGaTEyU26noPU9w6wvSs53LodxXapF2axqJbtp46rStVivme0ytN2JzVTa9cDIsj1qfn104W7dVeSwNu3/EsaZy7fxJkOPQkndD4K3DdRWBYeICsMYLfJfVTy2iz6hRHMX1LteQorSj9rbg+h3ls6hgEpG394dsntwXtXBEzet4n3rjzGjiRgcM663KBcgVtG5TF2JADSA+xN9AaveKo8xo4kIeYjLljmTcQEQNQlQnQ0XFQeYwezWFK3fTiNpYUHOjd3K2VGu9+/rGSAJOHDQhpTKUXpALk+ayV5AHRDGFyHC7MuE18Y8JFJzo7apliw8GtvgmDcLmrtJLs3BKr9U1wAq1EBQBQh9CAWl7BzBCC8j52soFk0khMbEOOr2Lq2iiHoBb8eDF0fVVnCFZccq+sDeY6GZc00E6bXshTLblKjtWqhcBPu0fQ3efFWFoRwGjdEbdyp1urk0L6pcZRLo3L7HGZQntBPhsGMv+S1WUDQxk9WcxnZHbUZ4VlxGW88n65/OT4f7NvXoLjQ918XnIugX2WxqyPMYslDMeaoF0hnZVxryncpYIQbC6Meg8BUOcRB/d5uLNcuqeQwJjxATASuijnsZtOquls8X32ca61/8kZXvmb+vP3zvxUVkL8tIHLb7Fsfa5WZEuuojLy5XaEpAlmffK+fHbL+o4gvljbwfe3PX1zG+Uw/ztS/28fr77+Brz56iL9pvtde93xpGs8BACH8/P2biIZlF+GnBcUZ9vwI3v1ton7Xrx/ewTO8g1OFh/geCZwdBJ7vFFW/U5ffXPCa4wAAEfpJREFUKFN9fb3sGpp7VHG4egff/MXku7o1uRff1u6heW6XpEaxCEGroFZ5jzW9l9J4f9QYxXZp9YQs9c3vvULpOSzeF8wTItZd6KUOD2uwtzzK4SQb2MZIS/JkyNZFIG8Zh906y2iztPX9K8L4rgTcms6hOgfsYBaL8RlFuG3BPVtEhwuz1hulai6DW5hzMShky9DkcMJ0UXSXdhvObkypcdNMaLLGRzLJJCZrQGLXmxzUOotBKzFsbEy1q6rnRRl5cUCbCCE1ABHK5rRyiANEMWh1fRCDt7CudQHRcy6CfpfxAdXcNCYloP8KVJvzADfbbghHEUPDFTp5aRT5ehZPXWIVD+1riJkDEJglxGzDEYRi6KiMvDCAJfXznYugH8ZMkubPZ1ZXVfseOfRfV+VZC3Gdgd38OIrtFm+gQhcG0H9bp60/KiOPKG4EeW9FkB1UhPPB5QT6RDhaUquflTEoFbFmWhfZswcAYBMXrPEeauXxFL7inE5iffK7fnaCJbaKw9UN/JC6iXcvh1ATAJ9+chZn6kJhEc8/As7emsM55ftnD3+JM5cVi6uNm3HNqvr1wzt4+pXx7n8rfI6fvn8TP/3vO3j+h8s4//4bePbRPo6QwLm6RbeIL5aMc5LWYqsI3Sph+eiTO/jmzAjezSTqz/XHhzfxq8uh+jXPl6r4+ftzeDssC85//rwfZ97x0n7yGIktJxCJ1z4LWunu3E9C6VWTVUGxHN8eQcRs7+boaaHPAm5XP7uQDcVDsJLDWDyhzdshzGK3ZC/02yvLVLRUiLM/+qWmVE+GNxCLB53MqJbtXELsnmAhhBnrZ+qeK5mtg9q21Xg+hi9iEAJu5S425IhKDrc8eQa06/3LxpnY9SJCYeBGPIE+QZaJhi7MYkxYwV4XnTbR4cJsMLiL91NtTNSkxlEuyR2/4cpidTajebnvXREwqY/rqGfx9PIkJrhNC+5BaAuK6tNDQOWLb+CojDzWkY8bz3kLzF0yNW7i+qginMbahOr/JfOfyS5yUWyXMtiJu8jSGiDGSVdlCU6NYhGK2zcUl5davQJrX5vjTTSF2i2WnbAxNceqfR37byD0YqoWjxNOY60N2aD8x0MHYDkLX8SgMKNy7d7H/HCw2cbN3FuTE0VsuxBoQ+lxbSZkq7MANwOqrE/qcU6eOYn1qZn1s/H75uYfn3z+AN/8JYGzdQEvhOi/XMYf6wKl/NnP3x+p//8fYiF885WbQ5tccH4A0TBwCOD0r/txBnlfSZOOPtkABudUwnQR3z5N4OytmnAbQvTXCTz5w//i68sN6+vpwZq1N4HXzwNfVf09V8tyLijUw2ks3r/l9y73T+bCsLymobCCiCo0xakulvhUfBpC7U7qnND6feyy9R5jS1THEfdiajOKiLCCWECCUj0bcKoHoTn3QlgwfbIHQ1kJENXCpM/46BN+/412k/9OXptFf7aMG+keAGksLWTQp3gwdQNdIsxaLWY6bYTtYuZu4+UvcYf94hxKZyDGR7SLec1d1eutLHCVJlwMKnmNwrkI+m2+toyXUXNicWYuN0Qm9alnaFUmyGRpA/PxBMYWJKy1dJybnNFnsAT34L0rwK3PjhE7nAH0MaiBtK+Lc3aVZGG+kjkVVjD2dMC7q/a5CPqlB/X4bQCKAA/ccFWAffu66r8ecJWowTCHyZYz8wRQwVpOvZ/TZ62gcF+WajOgWG6CjP+q5jLouz9g6gWQnChiN5dx6U5Vi5c20ZSrXMH89ZNjVCu+LmxwYQ5rYX9tdhLrkz1Owm2L5x8nfvEG/t7rNV8/x9dIeHPJbRWfb+A5RvCu2qJaeY4fUFS5Piv84g3VHwm8rrrm3G/nWpDAah/z4iEGrwResCf8zc3u8C3cdgC2Vr/63sL6ZIe9ZWXOVM/nqXGUN1cQia80Hw5Qt4I2kg6qhbBAQhoc37vT/ORkmW8Hx3iGDHaztflSsdJuakNptg8zeFRJ4732VdQ1XSLMBrGYOVmGnGPOsjpXvIZ1y+kcvF5MKQJQzc0y6IB9x0RYrVjsw1HEpFWtMFEPVgeACPr1Z/8VHiALyIJLagCi/vqW4aIPmZzVWM1lNAmuZHoxVZKwJa5jL91Cy51iHdnOqu6tbj+F0IUBQBBwFboY1BNtXzO8WFTexNZ9j8UrVr3JeqKFY2zdWwfg0kLl1L7nHPqvJ+yyqtfKNhujLvrtiWDhuRJg2a14Rqd5MZRedectUOsrtmcBrmMvbZ0JW402hlqAuJlBzE09LAj5FGRlWr8+Ac2sn23mL3/C/wENwfTPf5JjY+04c7YzBFkU8cUOVBZYNQmcbWGGZVcKdsVL461cAKE6WQt34Ro22VidrHSOCXD091bd69mhBKCzM8Fa0VSC1UoOd0sWynTFY6MplHwGsU2ty3rtDHs3YSQAHEP15KM97eLw3exzWpfN2h89SKrm92puWlbq654/OSHHnjsecdUBdIkw635T3EoLX2MjqhV8q7lVeZE2SRHfoHPdLP3Ti0FRwtXpHN5TJo29j2eQFzeUGDM5QZHehbAhbPTigwWgT+dyUq0cN7k5Cw6rWBt5Az4OYB87rbr5URl5HGKwfnyBvv0UwmncEGeQh+68zgDb163mWjv+vAgpfs5QM1r1xIVZ9Evmb8yAU/uGnfoveWXwZPGv4a3/bxk+s/cmMgsfkPGTAKn161Mz66e/+ScA3unF6Z0NfPWwinO1mNk/FPGT1E1zIbCSx7NCFacHVcJj+CxO4SG+/RyAp3jTZpHjfbXuxbU6/RKv/eIhnn9SxLnfmgm6zeNFEApks2xjQWt5NlbVvTX3quRwNwsAxiy+7o5UMbmVMo6crjckHVQ4sczHLQ6bqR6VMbhZxJCJAJqcKFrs24zsfSp71VgpmZMTEhZLAnYK40ia/kY+3swuZtjsmLtOev/W+9zuoUuEWZmOPLuv7uYgAdOC5liaV4F67Flt4OgWlOSEhEW1sLG5AXG4oYUNpVexiwz64qoFVdxQMs/qN3OSrP3ssGx0/nF4vpo7Tt3FVMCitAFRWDU9n88syZHr9pUSyFpugl1YFduGTmAorCAiRJRMwQ7P56J9nfoveUVIjWNbTOCqaJK8SXUsR7BuuS+jAlSHq/WznfNPAm/fGsEXS3fwpJbk6/yIkgyqRhXffDSNJ8pfpwfn8PY7ujIGE3iyM40nO0Aj87AumzA28GQJhqzGlny+gSc7DW+J7z+axhNNpuQNuez6feW6yNbYEKKZmzhcvSPfU+EnKXUCKNIcDXf9XUyjT+dW22zMZqvjkDudUGo8EG+e5KVR5Iet86DsLQuYlEaxHbBgzvcfLF0izNpnJG7QWlO+1k1KQD8SiChHvgyFAdSsRGKbzxsMitR43e0glF6tZ3VNTmgzU9oPKhPrhO4AamsN7su+mXPxfGYJKvTxF4o7z5LFO2i+fTtj/DkjW04bRz4E0b7O/dcdLtuwxd4ldrjLihj0sSfdQ3KiiHJhBZG4XtAYdc7WS5pYP9s9/zidA2s8FsfAO7qYVeW6aMa63DOXb9ZdlRu/68evbtmVqbve9vxZm/uHVffpAmyzEtewcTNuGp2bcb8AROKSrDhO9wCoKZUzHeZuSuQ9wIDueCcVoj7MzAyrvBY1Wn8ywKvOj168ePGi3ZUghPignlm13UJk+9C72nSm9ZgQ0mmM/vt/Yv0//q3JUuRjcX7qJMy+QgTTroQQ4p4uscwSQgy4PZbpJYauNoQQQgghry4UZgkhhBDySvGzU6fw7Xff4/XXTjdRSgJvm2YKfjX59rvv8bNTp9pdDULIK8aP210BQgghhJCT5De9CWz97jG+/e77dlflpeDb777H1u8e4ze9FO4JIScLY2YJIYQQ8srxX//zEL/fL+KvP/zQ7qp0PT87dQq/6U3gX//ZNusUIYQEDoVZQgghhBBCCCFdB92MCSGEEEIIIYR0HRRmCSGEEEIIIYR0HRRmCSGEEEIIIYR0HRRmXXOMLTGB+YLPywsriIg5VNt1/5aXz+vb2z8IIYQQQgh5teiSc2aPsSUKmJScfjeK7dI4kn5uUVhBZHi9/mf/goS1dI/HQuR6HlwvYirltQL7mI+PIFv7U9xAeaLXayHWNPF81VwGfbfNGr+J9vaKrv7ipvs2tqy/MIvdbBqhgKpICCGEEEIIOTm6RJj9EgeSgEVpFUPhFhRfWEFkGNguFeuC2d5yAmM5rwKtXM/YnNcKyIIsNosop4CaUOz9/hY0+Xyh9CrKad2HlRzGhAc4qABJh3diLQwDrgTiSg5jw4dYlIrK+9/HfDyBeZcCrVn9q7kM+u47X1v/7WHGp3JBp6TQcILKAEIIIYQQQl4yukSYbSXH2Lq3DnGzqBEqkhMbiMUFRG5rfy1etymqcogDRDHoUeCu5laRFTcUQRYAejA0N4sdYRpbF5oV4AN8PjVHZeQhIS8kMOlw/bNDyaelW2bv4xlgQVK1Qy+mNkcRuZfDB74sq/v48DawKJ2UVbaFihhCCCGEEEJeURgzW3mMHWkUgwYLXy8GRdkdt1wqolySsCjYF1X97AHyWMeOp7jJYzy6L0G8pLP6hdO4IUo4OPJSlgkBPl+DfcwPywKyfK3X672wj52sgMELOkE4NQBReoBHFa/lHWNLHMHBwhyFS0IIIYQQQroYCrOBsY8Pb0sQxVFk71kk8pFm0BdPIBJXJwpSXJPPGX/+VlTAwdPj1lXZF7IwmBU3fMQF+0CxdscMguebiAlehf19zMfl2Ov87WlseRaECSGEEEIIIZ1Cl7gZy4LLpM6l1YgPd87wRQwKM9gpjCOpEc72sZMF8tC64lq54dZdhSd6MbicQN9y1Bhj6SPhUP7wSwBNxM0G9Hy1a+bjI8pzAvPxhCEW1LWbckBkh7V1sLy/kkCqf0FCOd2jxPwmMMkkUIQQQgghhHQlXSLM9mAoW8RQq8q+PorIcAaxuiAsWx8bCZlqnwk4MClBTnAUxXZJFl6TE0VsLycQEZsXlPqjbzZxNRDE86mzSYuqa6ZKRUzB+fq3ogLyt43xuTLNJUFqZDW2uH8lhzFhBnmMahJgIZzGWimNai6DW7mLWNMnuGoH0gz64jMAvGVrJoQQQggh5FWkS4TZFpMaR3lzBRGV5detMLG3nMDVrFEgS04UsZvLmFtoNajcZTUWZTmWNnY9gGzGTTxfzRp7sCChnLWrSw9icZgKs5pswoUVRO5F3Av54ShiMMua7DZz9EUslYqW9wqlV7Gm/H8oW3RTo9ZBKzEhhBBCCCGu6XBh1u5YEzt8uBunxlEujXu8zzHeulZEecL821B6FWXHMnrw3hUBk5/uYyqlEnqVxE03vD+8Ob6eDwB6MVUqQrZ8JhzP+hUv+amc/f0HRQl3PzvGkDobcuEBssIAdp3ecbhHEQ6dzgBu4ozgQg5b5y56vEimmsvgFuawdt7X5YQQQgghhLyydLgw26tzZW1QFwKCOIdVYW85gbtRqyNkzCyPPQjVhKlKDmNCGTd8uMyG0hmI8RHMX1K5zE7Lx9EEeQap9+fTfm/v6m3npuzEMao2yZiS12YB9TFFlRzGlGzKJ2HFDJ2PArdHELFSLIiz2L0GPDL90j7eu35kkacM2IQQQgghhJAOF2Y7i+RE0b9wmRpH2dLK2oup0gbm4wlElE+aOZfVL009nymNWFs9tdhQGQHiZgYxq2LCaaxJkBM2KR/5jSnVJ4zSY5pAypVV2yrrdCvjvQkhhBBCCHl1oTDbMVhboTsFOT7Y/jdaYdCLIHeMLbuvlYRNzWItBDdjWSaEEEIIIYScNBRmiUuOcVBilt32oFi4wQRRhBBCCCGE1KAwq8L+CBkFq4yz4ShimMHV+LrtPdrhPlyjqedTYmonHdx0oZy123m4q/9Jn5Prji9xIAFAGc8ACrOEEEIIIYQA+NGLFy9etLsShBBCCCGEEEKIF37c7goQQgghhBBCCCFeoTBLCCGEEEIIIaTroDBLCCGEEEIIIaTroDBLCCGEEEIIIaTroDBLCCGEEEIIIaTroDBLCCGEEEIIIaTroDBLCCGEEEIIIaTroDBLCCGEEEIIIaTroDBLCCGEEEIIIaTroDBLCCGEEEIIIaTroDBLCCGEEEIIIaTroDBLCCGEEEIIIaTroDBLCCGEEEIIIaTr+H/KQrfBhL+gHwAAAABJRU5ErkJggg==)"
      ],
      "metadata": {
        "id": "6W1E4w2YpnTJ"
      }
    },
    {
      "cell_type": "code",
      "source": [
        "iter = 0\n",
        "for epoch in range(num_epochs):\n",
        "  for i, (images, labels) in enumerate(train_loader):\n",
        "    # Load image as variable\n",
        "    images = images.view(-1, 28* 28).requires_grad_() # 1*28*28 이라서 -1해줌으로서 알아서 하라는 뜻. 굳이 저렇게 안해도 됨.\n",
        "    labels = labels\n",
        "\n",
        "    # initiate gradients to zero\n",
        "    optimizer.zero_grad()\n",
        "\n",
        "    # forward pass\n",
        "    outputs = model(images)\n",
        "\n",
        "    # LOSS\n",
        "    loss = criterion(outputs, labels)\n",
        "\n",
        "    # 모델의 변수가 각각 가지고 있는 \"gradient를 계산\"(by 역전파)\n",
        "    loss.backward()\n",
        "\n",
        "    # update parameters\n",
        "    optimizer.step()\n",
        "\n",
        "    iter +=1\n",
        "\n",
        "    # 위에서 구한 gradients로 밑에 test data의 성능을 iteration별로 확인하자!\n",
        "\n",
        "    if iter%500 ==0: # checkpoint. check accuracy between train and test set\n",
        "      # calculate accuracy\n",
        "      correct = 0\n",
        "      total = 0\n",
        "      for images, labels in test_loader:\n",
        "        # load images to torch variable\n",
        "        images = images.view(-1,28*28).requires_grad_()\n",
        "\n",
        "        # forward pass only to get logits/output\n",
        "        outputs = model(images)\n",
        "\n",
        "        # get predictions from the maximum value\n",
        "        _, predicted = torch.max(outputs.data,1) # max로 구하는데, 그럼 로지스틱으로 구한 것중에서 가장 확률이 큰 feature를 답을 예측한다. 뭐 이런 컨셉인건가? 좀 나이브 하지 않아?\n",
        "\n",
        "        # total number of labels\n",
        "        total += labels.size(0) # size(shape)에서 0번째 값을 반환해준다.\n",
        "\n",
        "        # total correct predictions\n",
        "        correct += (predicted == labels).sum() # 이거 iter%500 마다 돌아가도록 설계한거임. \n",
        "      \n",
        "      accuracy = 100*correct/total\n",
        "\n",
        "      print('Iteration:{}, Loss: {}, Accuracy:{}'.format(iter, loss.item(), accuracy))"
      ],
      "metadata": {
        "colab": {
          "base_uri": "https://localhost:8080/"
        },
        "id": "fGRs3OUWkkk8",
        "outputId": "d5216db4-308f-4c11-db99-69d66a7d486c"
      },
      "execution_count": 108,
      "outputs": [
        {
          "output_type": "stream",
          "name": "stdout",
          "text": [
            "Iteration:500, Loss: 0.38686442375183105, Accuracy:87.9800033569336\n",
            "Iteration:1000, Loss: 0.44327816367149353, Accuracy:88.47000122070312\n",
            "Iteration:1500, Loss: 0.42054611444473267, Accuracy:88.87999725341797\n",
            "Iteration:2000, Loss: 0.5263960361480713, Accuracy:89.13999938964844\n",
            "Iteration:2500, Loss: 0.35255441069602966, Accuracy:89.44000244140625\n",
            "Iteration:3000, Loss: 0.3473564386367798, Accuracy:89.69999694824219\n"
          ]
        }
      ]
    },
    {
      "cell_type": "markdown",
      "source": [
        "밑에는 참고될만한 내용들(코드 반환값들, 신택스)"
      ],
      "metadata": {
        "id": "SaTNVIQjvZG8"
      }
    },
    {
      "cell_type": "code",
      "source": [
        "list(enumerate(train_loader))[0]"
      ],
      "metadata": {
        "colab": {
          "base_uri": "https://localhost:8080/"
        },
        "id": "hw9hlCGZsrEi",
        "outputId": "80d4c394-f897-4e02-ffc6-eb1261cbb1d5"
      },
      "execution_count": 85,
      "outputs": [
        {
          "output_type": "execute_result",
          "data": {
            "text/plain": [
              "(0, [tensor([[[[0., 0., 0.,  ..., 0., 0., 0.],\n",
              "            [0., 0., 0.,  ..., 0., 0., 0.],\n",
              "            [0., 0., 0.,  ..., 0., 0., 0.],\n",
              "            ...,\n",
              "            [0., 0., 0.,  ..., 0., 0., 0.],\n",
              "            [0., 0., 0.,  ..., 0., 0., 0.],\n",
              "            [0., 0., 0.,  ..., 0., 0., 0.]]],\n",
              "  \n",
              "  \n",
              "          [[[0., 0., 0.,  ..., 0., 0., 0.],\n",
              "            [0., 0., 0.,  ..., 0., 0., 0.],\n",
              "            [0., 0., 0.,  ..., 0., 0., 0.],\n",
              "            ...,\n",
              "            [0., 0., 0.,  ..., 0., 0., 0.],\n",
              "            [0., 0., 0.,  ..., 0., 0., 0.],\n",
              "            [0., 0., 0.,  ..., 0., 0., 0.]]],\n",
              "  \n",
              "  \n",
              "          [[[0., 0., 0.,  ..., 0., 0., 0.],\n",
              "            [0., 0., 0.,  ..., 0., 0., 0.],\n",
              "            [0., 0., 0.,  ..., 0., 0., 0.],\n",
              "            ...,\n",
              "            [0., 0., 0.,  ..., 0., 0., 0.],\n",
              "            [0., 0., 0.,  ..., 0., 0., 0.],\n",
              "            [0., 0., 0.,  ..., 0., 0., 0.]]],\n",
              "  \n",
              "  \n",
              "          ...,\n",
              "  \n",
              "  \n",
              "          [[[0., 0., 0.,  ..., 0., 0., 0.],\n",
              "            [0., 0., 0.,  ..., 0., 0., 0.],\n",
              "            [0., 0., 0.,  ..., 0., 0., 0.],\n",
              "            ...,\n",
              "            [0., 0., 0.,  ..., 0., 0., 0.],\n",
              "            [0., 0., 0.,  ..., 0., 0., 0.],\n",
              "            [0., 0., 0.,  ..., 0., 0., 0.]]],\n",
              "  \n",
              "  \n",
              "          [[[0., 0., 0.,  ..., 0., 0., 0.],\n",
              "            [0., 0., 0.,  ..., 0., 0., 0.],\n",
              "            [0., 0., 0.,  ..., 0., 0., 0.],\n",
              "            ...,\n",
              "            [0., 0., 0.,  ..., 0., 0., 0.],\n",
              "            [0., 0., 0.,  ..., 0., 0., 0.],\n",
              "            [0., 0., 0.,  ..., 0., 0., 0.]]],\n",
              "  \n",
              "  \n",
              "          [[[0., 0., 0.,  ..., 0., 0., 0.],\n",
              "            [0., 0., 0.,  ..., 0., 0., 0.],\n",
              "            [0., 0., 0.,  ..., 0., 0., 0.],\n",
              "            ...,\n",
              "            [0., 0., 0.,  ..., 0., 0., 0.],\n",
              "            [0., 0., 0.,  ..., 0., 0., 0.],\n",
              "            [0., 0., 0.,  ..., 0., 0., 0.]]]]),\n",
              "  tensor([9, 4, 2, 4, 2, 0, 6, 9, 5, 0, 5, 8, 5, 1, 8, 7, 8, 1, 7, 9, 2, 9, 3, 8,\n",
              "          9, 5, 8, 5, 2, 8, 0, 5, 0, 7, 5, 5, 3, 1, 5, 2, 6, 3, 5, 1, 6, 4, 5, 3,\n",
              "          8, 0, 3, 7, 1, 9, 5, 9, 8, 1, 3, 3, 3, 4, 6, 2, 7, 1, 7, 1, 8, 7, 5, 5,\n",
              "          7, 7, 2, 8, 4, 5, 0, 4, 6, 4, 6, 7, 8, 0, 7, 1, 2, 1, 6, 8, 8, 8, 0, 9,\n",
              "          1, 2, 1, 5])])"
            ]
          },
          "metadata": {},
          "execution_count": 85
        }
      ]
    },
    {
      "cell_type": "markdown",
      "source": [
        "⭐이걸 보면 알수 있는게, mini-batch별로 학습을 진행한다는 게 드러난 거임.\n",
        "\n",
        "train_loader를 Dataloader를 통해 불러왔다고 했는데, 이러면 feature랑 label데이터가 같이 묶음으로 나온다고 했음. 위에 보이는게 그 예시임."
      ],
      "metadata": {
        "id": "8aTf9B7OtPDs"
      }
    },
    {
      "cell_type": "code",
      "source": [
        "train_dataset[0][0].view(-1,28,28).size()"
      ],
      "metadata": {
        "colab": {
          "base_uri": "https://localhost:8080/"
        },
        "id": "svji4OXSmChW",
        "outputId": "50d67c05-cf9e-46c0-f7fa-68b77d947838"
      },
      "execution_count": 73,
      "outputs": [
        {
          "output_type": "execute_result",
          "data": {
            "text/plain": [
              "torch.Size([1, 28, 28])"
            ]
          },
          "metadata": {},
          "execution_count": 73
        }
      ]
    },
    {
      "cell_type": "code",
      "source": [
        "labels.size(0)"
      ],
      "metadata": {
        "colab": {
          "base_uri": "https://localhost:8080/"
        },
        "id": "7KCWuCFSrkfw",
        "outputId": "da580ea9-49af-4de0-c143-4a58d939fe6b"
      },
      "execution_count": 77,
      "outputs": [
        {
          "output_type": "execute_result",
          "data": {
            "text/plain": [
              "11"
            ]
          },
          "metadata": {},
          "execution_count": 77
        }
      ]
    },
    {
      "cell_type": "code",
      "source": [
        "a=torch.randn(10)\n",
        "b=torch.randn(10)\n",
        "(a==b).sum()"
      ],
      "metadata": {
        "colab": {
          "base_uri": "https://localhost:8080/"
        },
        "id": "fZ10lMtzuNmT",
        "outputId": "c74931b8-0ec1-4ffd-a1f0-9c6675b45f7a"
      },
      "execution_count": 103,
      "outputs": [
        {
          "output_type": "execute_result",
          "data": {
            "text/plain": [
              "tensor(0)"
            ]
          },
          "metadata": {},
          "execution_count": 103
        }
      ]
    },
    {
      "cell_type": "markdown",
      "source": [
        "## Prediction"
      ],
      "metadata": {
        "id": "f-wy9bqhvxHr"
      }
    },
    {
      "cell_type": "code",
      "source": [
        "iter_test = 0\n",
        "for images, labels in test_loader:\n",
        "  iter_test += 1\n",
        "  images = images.view(-1, 28*28).requires_grad_()\n",
        "  outputs = model(images)\n",
        "  _, predicted = torch.max(outputs.data, 1) # unpack 2, got 2.\n",
        "  if iter_test == 1:\n",
        "    print('OUTPUTS')\n",
        "    print(outputs.size()) # 100 mini-batch, 10 class output, so 100x10 size tensor is a result\n",
        "    print(outputs[0,:])\n",
        "    print('PREDICTED SIZE:{}'.format(predicted.size()))\n",
        "    \n"
      ],
      "metadata": {
        "colab": {
          "base_uri": "https://localhost:8080/"
        },
        "id": "gu6qUqVFv2sx",
        "outputId": "d3c78b3a-87ce-4c81-bf9b-b0d1edfcd9aa"
      },
      "execution_count": 127,
      "outputs": [
        {
          "output_type": "stream",
          "name": "stdout",
          "text": [
            "OUTPUTS\n",
            "torch.Size([100, 10])\n",
            "tensor([-0.2585, -4.1576, -0.4738,  1.1292, -0.9281, -0.9141, -3.3143,  7.2356,\n",
            "        -0.3801,  2.2358], grad_fn=<SliceBackward0>)\n",
            "PREDICTED SIZE:torch.Size([100])\n"
          ]
        }
      ]
    },
    {
      "cell_type": "code",
      "source": [
        "correct = 0\n",
        "total = 0\n",
        "iter_test = 0\n",
        "for images, labels in test_loader:\n",
        "  iter_test += 1\n",
        "  images = images.view(-1,28*28).requires_grad_()\n",
        "  outputs = model(images)\n",
        "  _, predicted = torch.max(outputs.data,1)\n",
        "\n",
        "  # total number of size\n",
        "  total += labels.size(0)\n",
        "\n",
        "  # total correct predictions\n",
        "  correct += (predicted == labels).sum()\n",
        "\n",
        "accuracy = 100*(correct.item()/total)\n",
        "print(accuracy)"
      ],
      "metadata": {
        "colab": {
          "base_uri": "https://localhost:8080/"
        },
        "id": "dUMl4X0Zy7SU",
        "outputId": "c6a6151d-7464-4079-9b2e-0a0cfa1d68f0"
      },
      "execution_count": 129,
      "outputs": [
        {
          "output_type": "stream",
          "name": "stdout",
          "text": [
            "89.7\n"
          ]
        }
      ]
    },
    {
      "cell_type": "markdown",
      "source": [
        "## Saving Model"
      ],
      "metadata": {
        "id": "18VOSxxEz3Xu"
      }
    },
    {
      "cell_type": "code",
      "source": [
        "save_model = False\n",
        "if save_model is True:\n",
        "  torch.save(model.state_dict(), 'awesome_model2.pkl')"
      ],
      "metadata": {
        "id": "2L_Wj-Gvz5QL"
      },
      "execution_count": 130,
      "outputs": []
    }
  ]
}
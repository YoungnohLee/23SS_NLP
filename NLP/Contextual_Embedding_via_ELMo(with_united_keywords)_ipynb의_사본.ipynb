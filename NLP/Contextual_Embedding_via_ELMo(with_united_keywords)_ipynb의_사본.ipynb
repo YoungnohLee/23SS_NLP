{
  "nbformat": 4,
  "nbformat_minor": 0,
  "metadata": {
    "colab": {
      "provenance": [],
      "machine_shape": "hm"
    },
    "kernelspec": {
      "name": "python3",
      "display_name": "Python 3"
    },
    "language_info": {
      "name": "python"
    },
    "accelerator": "GPU",
    "gpuClass": "premium"
  },
  "cells": [
    {
      "cell_type": "markdown",
      "source": [
        "# GPU \n"
      ],
      "metadata": {
        "id": "VWSoAiahIeAs"
      }
    },
    {
      "cell_type": "code",
      "source": [
        "gpu_info = !nvidia-smi\n",
        "gpu_info = '\\n'.join(gpu_info)\n",
        "if gpu_info.find('failed') >= 0:\n",
        "  print('Not connected to a GPU')\n",
        "else:\n",
        "  print(gpu_info)"
      ],
      "metadata": {
        "colab": {
          "base_uri": "https://localhost:8080/"
        },
        "id": "yfjOqlciIgSi",
        "outputId": "f29dfd83-2836-44ea-bb77-0294fa85fb26"
      },
      "execution_count": 1,
      "outputs": [
        {
          "output_type": "stream",
          "name": "stdout",
          "text": [
            "Mon Feb 27 18:38:22 2023       \n",
            "+-----------------------------------------------------------------------------+\n",
            "| NVIDIA-SMI 525.85.12    Driver Version: 525.85.12    CUDA Version: 12.0     |\n",
            "|-------------------------------+----------------------+----------------------+\n",
            "| GPU  Name        Persistence-M| Bus-Id        Disp.A | Volatile Uncorr. ECC |\n",
            "| Fan  Temp  Perf  Pwr:Usage/Cap|         Memory-Usage | GPU-Util  Compute M. |\n",
            "|                               |                      |               MIG M. |\n",
            "|===============================+======================+======================|\n",
            "|   0  NVIDIA A100-SXM...  Off  | 00000000:00:04.0 Off |                    0 |\n",
            "| N/A   36C    P0    47W / 400W |      0MiB / 40960MiB |      0%      Default |\n",
            "|                               |                      |             Disabled |\n",
            "+-------------------------------+----------------------+----------------------+\n",
            "                                                                               \n",
            "+-----------------------------------------------------------------------------+\n",
            "| Processes:                                                                  |\n",
            "|  GPU   GI   CI        PID   Type   Process name                  GPU Memory |\n",
            "|        ID   ID                                                   Usage      |\n",
            "|=============================================================================|\n",
            "|  No running processes found                                                 |\n",
            "+-----------------------------------------------------------------------------+\n"
          ]
        }
      ]
    },
    {
      "cell_type": "code",
      "source": [
        "from psutil import virtual_memory\n",
        "ram_gb = virtual_memory().total / 1e9\n",
        "print('Your runtime has {:.1f} gigabytes of available RAM\\n'.format(ram_gb))\n",
        "\n",
        "if ram_gb < 20:\n",
        "  print('Not using a high-RAM runtime')\n",
        "else:\n",
        "  print('You are using a high-RAM runtime!')"
      ],
      "metadata": {
        "colab": {
          "base_uri": "https://localhost:8080/"
        },
        "id": "7QXY48_SIxBy",
        "outputId": "192006f6-3118-4c2d-c7ae-b7d4d5fae469"
      },
      "execution_count": 2,
      "outputs": [
        {
          "output_type": "stream",
          "name": "stdout",
          "text": [
            "Your runtime has 89.6 gigabytes of available RAM\n",
            "\n",
            "You are using a high-RAM runtime!\n"
          ]
        }
      ]
    },
    {
      "cell_type": "code",
      "source": [
        "from google.colab import drive\n",
        "drive.mount('/content/drive')"
      ],
      "metadata": {
        "colab": {
          "base_uri": "https://localhost:8080/"
        },
        "id": "N9JnRZRiqCPl",
        "outputId": "a8a3ea72-6f4e-477f-eda8-6ad4f59d0cca"
      },
      "execution_count": 3,
      "outputs": [
        {
          "output_type": "stream",
          "name": "stdout",
          "text": [
            "Mounted at /content/drive\n"
          ]
        }
      ]
    },
    {
      "cell_type": "markdown",
      "source": [
        "# keybert"
      ],
      "metadata": {
        "id": "uHPTi_48qOzg"
      }
    },
    {
      "cell_type": "code",
      "execution_count": 4,
      "metadata": {
        "id": "HcEy5WHmrn8B",
        "colab": {
          "base_uri": "https://localhost:8080/",
          "height": 423
        },
        "outputId": "8a884755-b4d4-4fec-fa87-70af44aed5cb"
      },
      "outputs": [
        {
          "output_type": "execute_result",
          "data": {
            "text/plain": [
              "     Unnamed: 0  Unnamed: 0.1  \\\n",
              "0             0             0   \n",
              "1             1             1   \n",
              "2             2             2   \n",
              "3             3             3   \n",
              "4             4             4   \n",
              "..          ...           ...   \n",
              "139         139           139   \n",
              "140         140           140   \n",
              "141         141           141   \n",
              "142         142           142   \n",
              "143         143           143   \n",
              "\n",
              "                                                review  \\\n",
              "0    skin get strawberry jelly candies. nostalgic p...   \n",
              "1    first sprayed boozy warm apple pie lasted seco...   \n",
              "2    way masculine cant seem sell bottle... anyone ...   \n",
              "3    dry smoky sweet woods. feel like time ive smel...   \n",
              "4    would love smell someone else unfortunately go...   \n",
              "..                                                 ...   \n",
              "139  love original interlude better version. rounde...   \n",
              "140  softly spiced plum slightly powdery florals. s...   \n",
              "141  bit masculine considered unisex true sense fra...   \n",
              "142  sweet dont detect note separately. try future....   \n",
              "143  creamy jasmine floral scent expect name vanill...   \n",
              "\n",
              "                       name                     brand  \\\n",
              "0        Baccarat Rouge 540  Maison Francis Kurkdjian   \n",
              "1             Angels' Share                 By Kilian   \n",
              "2           Tobacco Vanille                  Tom Ford   \n",
              "3          By the Fireplace    Maison Martin Margiela   \n",
              "4               Lost Cherry                  Tom Ford   \n",
              "..                      ...                       ...   \n",
              "139    Interlude Black Iris                   Amouage   \n",
              "140        Feminité du Bois              Serge Lutens   \n",
              "141                 Halfeti              Penhaligon's   \n",
              "142         Fève Délicieuse                      Dior   \n",
              "143  Utopia Vanilla Coco 21         Kayali Fragrances   \n",
              "\n",
              "                                               keyword  \n",
              "0    ['vanilla', 'sugarsweet', 'strawberry', 'cream...  \n",
              "1    ['cinnamony', 'buttercream', 'vanilla', 'apple...  \n",
              "2    ['hazelnut_kitty', 'vanilla', 'honeyberry', 'c...  \n",
              "3    ['vanilla', 'tea', 'marshmellows', 'peppercorn...  \n",
              "4    ['perfume', 'cinnamon', 'roses', 'vanilla', 'f...  \n",
              "..                                                 ...  \n",
              "139  ['lipsticky', 'intoxicating', 'wealthy', 'gucc...  \n",
              "140  ['perfumey', 'vanilla', 'cinnamon', 'beeswax',...  \n",
              "141  ['grapefruit', 'perfume', 'vanilla', 'tea', 'c...  \n",
              "142  ['caramely', 'vanilla', 'lipstick', 'tea', 'ci...  \n",
              "143  ['vanilla', 'butteriness', 'tea', 'coconutines...  \n",
              "\n",
              "[144 rows x 6 columns]"
            ],
            "text/html": [
              "\n",
              "  <div id=\"df-d2b920aa-73bd-4c17-8a3c-acf373bba1b4\">\n",
              "    <div class=\"colab-df-container\">\n",
              "      <div>\n",
              "<style scoped>\n",
              "    .dataframe tbody tr th:only-of-type {\n",
              "        vertical-align: middle;\n",
              "    }\n",
              "\n",
              "    .dataframe tbody tr th {\n",
              "        vertical-align: top;\n",
              "    }\n",
              "\n",
              "    .dataframe thead th {\n",
              "        text-align: right;\n",
              "    }\n",
              "</style>\n",
              "<table border=\"1\" class=\"dataframe\">\n",
              "  <thead>\n",
              "    <tr style=\"text-align: right;\">\n",
              "      <th></th>\n",
              "      <th>Unnamed: 0</th>\n",
              "      <th>Unnamed: 0.1</th>\n",
              "      <th>review</th>\n",
              "      <th>name</th>\n",
              "      <th>brand</th>\n",
              "      <th>keyword</th>\n",
              "    </tr>\n",
              "  </thead>\n",
              "  <tbody>\n",
              "    <tr>\n",
              "      <th>0</th>\n",
              "      <td>0</td>\n",
              "      <td>0</td>\n",
              "      <td>skin get strawberry jelly candies. nostalgic p...</td>\n",
              "      <td>Baccarat Rouge 540</td>\n",
              "      <td>Maison Francis Kurkdjian</td>\n",
              "      <td>['vanilla', 'sugarsweet', 'strawberry', 'cream...</td>\n",
              "    </tr>\n",
              "    <tr>\n",
              "      <th>1</th>\n",
              "      <td>1</td>\n",
              "      <td>1</td>\n",
              "      <td>first sprayed boozy warm apple pie lasted seco...</td>\n",
              "      <td>Angels' Share</td>\n",
              "      <td>By Kilian</td>\n",
              "      <td>['cinnamony', 'buttercream', 'vanilla', 'apple...</td>\n",
              "    </tr>\n",
              "    <tr>\n",
              "      <th>2</th>\n",
              "      <td>2</td>\n",
              "      <td>2</td>\n",
              "      <td>way masculine cant seem sell bottle... anyone ...</td>\n",
              "      <td>Tobacco Vanille</td>\n",
              "      <td>Tom Ford</td>\n",
              "      <td>['hazelnut_kitty', 'vanilla', 'honeyberry', 'c...</td>\n",
              "    </tr>\n",
              "    <tr>\n",
              "      <th>3</th>\n",
              "      <td>3</td>\n",
              "      <td>3</td>\n",
              "      <td>dry smoky sweet woods. feel like time ive smel...</td>\n",
              "      <td>By the Fireplace</td>\n",
              "      <td>Maison Martin Margiela</td>\n",
              "      <td>['vanilla', 'tea', 'marshmellows', 'peppercorn...</td>\n",
              "    </tr>\n",
              "    <tr>\n",
              "      <th>4</th>\n",
              "      <td>4</td>\n",
              "      <td>4</td>\n",
              "      <td>would love smell someone else unfortunately go...</td>\n",
              "      <td>Lost Cherry</td>\n",
              "      <td>Tom Ford</td>\n",
              "      <td>['perfume', 'cinnamon', 'roses', 'vanilla', 'f...</td>\n",
              "    </tr>\n",
              "    <tr>\n",
              "      <th>...</th>\n",
              "      <td>...</td>\n",
              "      <td>...</td>\n",
              "      <td>...</td>\n",
              "      <td>...</td>\n",
              "      <td>...</td>\n",
              "      <td>...</td>\n",
              "    </tr>\n",
              "    <tr>\n",
              "      <th>139</th>\n",
              "      <td>139</td>\n",
              "      <td>139</td>\n",
              "      <td>love original interlude better version. rounde...</td>\n",
              "      <td>Interlude Black Iris</td>\n",
              "      <td>Amouage</td>\n",
              "      <td>['lipsticky', 'intoxicating', 'wealthy', 'gucc...</td>\n",
              "    </tr>\n",
              "    <tr>\n",
              "      <th>140</th>\n",
              "      <td>140</td>\n",
              "      <td>140</td>\n",
              "      <td>softly spiced plum slightly powdery florals. s...</td>\n",
              "      <td>Feminité du Bois</td>\n",
              "      <td>Serge Lutens</td>\n",
              "      <td>['perfumey', 'vanilla', 'cinnamon', 'beeswax',...</td>\n",
              "    </tr>\n",
              "    <tr>\n",
              "      <th>141</th>\n",
              "      <td>141</td>\n",
              "      <td>141</td>\n",
              "      <td>bit masculine considered unisex true sense fra...</td>\n",
              "      <td>Halfeti</td>\n",
              "      <td>Penhaligon's</td>\n",
              "      <td>['grapefruit', 'perfume', 'vanilla', 'tea', 'c...</td>\n",
              "    </tr>\n",
              "    <tr>\n",
              "      <th>142</th>\n",
              "      <td>142</td>\n",
              "      <td>142</td>\n",
              "      <td>sweet dont detect note separately. try future....</td>\n",
              "      <td>Fève Délicieuse</td>\n",
              "      <td>Dior</td>\n",
              "      <td>['caramely', 'vanilla', 'lipstick', 'tea', 'ci...</td>\n",
              "    </tr>\n",
              "    <tr>\n",
              "      <th>143</th>\n",
              "      <td>143</td>\n",
              "      <td>143</td>\n",
              "      <td>creamy jasmine floral scent expect name vanill...</td>\n",
              "      <td>Utopia Vanilla Coco 21</td>\n",
              "      <td>Kayali Fragrances</td>\n",
              "      <td>['vanilla', 'butteriness', 'tea', 'coconutines...</td>\n",
              "    </tr>\n",
              "  </tbody>\n",
              "</table>\n",
              "<p>144 rows × 6 columns</p>\n",
              "</div>\n",
              "      <button class=\"colab-df-convert\" onclick=\"convertToInteractive('df-d2b920aa-73bd-4c17-8a3c-acf373bba1b4')\"\n",
              "              title=\"Convert this dataframe to an interactive table.\"\n",
              "              style=\"display:none;\">\n",
              "        \n",
              "  <svg xmlns=\"http://www.w3.org/2000/svg\" height=\"24px\"viewBox=\"0 0 24 24\"\n",
              "       width=\"24px\">\n",
              "    <path d=\"M0 0h24v24H0V0z\" fill=\"none\"/>\n",
              "    <path d=\"M18.56 5.44l.94 2.06.94-2.06 2.06-.94-2.06-.94-.94-2.06-.94 2.06-2.06.94zm-11 1L8.5 8.5l.94-2.06 2.06-.94-2.06-.94L8.5 2.5l-.94 2.06-2.06.94zm10 10l.94 2.06.94-2.06 2.06-.94-2.06-.94-.94-2.06-.94 2.06-2.06.94z\"/><path d=\"M17.41 7.96l-1.37-1.37c-.4-.4-.92-.59-1.43-.59-.52 0-1.04.2-1.43.59L10.3 9.45l-7.72 7.72c-.78.78-.78 2.05 0 2.83L4 21.41c.39.39.9.59 1.41.59.51 0 1.02-.2 1.41-.59l7.78-7.78 2.81-2.81c.8-.78.8-2.07 0-2.86zM5.41 20L4 18.59l7.72-7.72 1.47 1.35L5.41 20z\"/>\n",
              "  </svg>\n",
              "      </button>\n",
              "      \n",
              "  <style>\n",
              "    .colab-df-container {\n",
              "      display:flex;\n",
              "      flex-wrap:wrap;\n",
              "      gap: 12px;\n",
              "    }\n",
              "\n",
              "    .colab-df-convert {\n",
              "      background-color: #E8F0FE;\n",
              "      border: none;\n",
              "      border-radius: 50%;\n",
              "      cursor: pointer;\n",
              "      display: none;\n",
              "      fill: #1967D2;\n",
              "      height: 32px;\n",
              "      padding: 0 0 0 0;\n",
              "      width: 32px;\n",
              "    }\n",
              "\n",
              "    .colab-df-convert:hover {\n",
              "      background-color: #E2EBFA;\n",
              "      box-shadow: 0px 1px 2px rgba(60, 64, 67, 0.3), 0px 1px 3px 1px rgba(60, 64, 67, 0.15);\n",
              "      fill: #174EA6;\n",
              "    }\n",
              "\n",
              "    [theme=dark] .colab-df-convert {\n",
              "      background-color: #3B4455;\n",
              "      fill: #D2E3FC;\n",
              "    }\n",
              "\n",
              "    [theme=dark] .colab-df-convert:hover {\n",
              "      background-color: #434B5C;\n",
              "      box-shadow: 0px 1px 3px 1px rgba(0, 0, 0, 0.15);\n",
              "      filter: drop-shadow(0px 1px 2px rgba(0, 0, 0, 0.3));\n",
              "      fill: #FFFFFF;\n",
              "    }\n",
              "  </style>\n",
              "\n",
              "      <script>\n",
              "        const buttonEl =\n",
              "          document.querySelector('#df-d2b920aa-73bd-4c17-8a3c-acf373bba1b4 button.colab-df-convert');\n",
              "        buttonEl.style.display =\n",
              "          google.colab.kernel.accessAllowed ? 'block' : 'none';\n",
              "\n",
              "        async function convertToInteractive(key) {\n",
              "          const element = document.querySelector('#df-d2b920aa-73bd-4c17-8a3c-acf373bba1b4');\n",
              "          const dataTable =\n",
              "            await google.colab.kernel.invokeFunction('convertToInteractive',\n",
              "                                                     [key], {});\n",
              "          if (!dataTable) return;\n",
              "\n",
              "          const docLinkHtml = 'Like what you see? Visit the ' +\n",
              "            '<a target=\"_blank\" href=https://colab.research.google.com/notebooks/data_table.ipynb>data table notebook</a>'\n",
              "            + ' to learn more about interactive tables.';\n",
              "          element.innerHTML = '';\n",
              "          dataTable['output_type'] = 'display_data';\n",
              "          await google.colab.output.renderOutput(dataTable, element);\n",
              "          const docLink = document.createElement('div');\n",
              "          docLink.innerHTML = docLinkHtml;\n",
              "          element.appendChild(docLink);\n",
              "        }\n",
              "      </script>\n",
              "    </div>\n",
              "  </div>\n",
              "  "
            ]
          },
          "metadata": {},
          "execution_count": 4
        }
      ],
      "source": [
        "import pandas as pd\n",
        "\n",
        "df = pd.read_csv('/content/drive/MyDrive/review.csv')\n",
        "df"
      ]
    },
    {
      "cell_type": "markdown",
      "source": [
        "## keyword 컬럼이 ['vanilla', 어쩌구, ...]로 나오는데 []가 str으로 인식이 됨"
      ],
      "metadata": {
        "id": "Sv_4eOoHTfmq"
      }
    },
    {
      "cell_type": "code",
      "source": [
        "df['keyword'][1]"
      ],
      "metadata": {
        "colab": {
          "base_uri": "https://localhost:8080/",
          "height": 35
        },
        "id": "wxj34vKZDMDI",
        "outputId": "bc8a6624-dcc6-4b25-f1e8-bf4569bde625"
      },
      "execution_count": 5,
      "outputs": [
        {
          "output_type": "execute_result",
          "data": {
            "text/plain": [
              "\"['cinnamony', 'buttercream', 'vanilla', 'apples', 'fruity', 'cognac', 'tea', 'marshmallow', 'starbucks', 'toothpaste', 'prettiest', 'intoxicated']\""
            ],
            "application/vnd.google.colaboratory.intrinsic+json": {
              "type": "string"
            }
          },
          "metadata": {},
          "execution_count": 5
        }
      ]
    },
    {
      "cell_type": "code",
      "source": [
        "df['keyword'][1][2]"
      ],
      "metadata": {
        "colab": {
          "base_uri": "https://localhost:8080/",
          "height": 35
        },
        "id": "9OrcYvNTEHdZ",
        "outputId": "56329356-4d7a-40f4-8b46-742352c199bc"
      },
      "execution_count": 6,
      "outputs": [
        {
          "output_type": "execute_result",
          "data": {
            "text/plain": [
              "'c'"
            ],
            "application/vnd.google.colaboratory.intrinsic+json": {
              "type": "string"
            }
          },
          "metadata": {},
          "execution_count": 6
        }
      ]
    },
    {
      "cell_type": "code",
      "source": [
        "from nltk.stem import WordNetLemmatizer\n",
        "wordnet_lemmatizer = WordNetLemmatizer()\n",
        "\n",
        "import re"
      ],
      "metadata": {
        "id": "CTThyunjFn9p"
      },
      "execution_count": 7,
      "outputs": []
    },
    {
      "cell_type": "code",
      "source": [
        "df['keyword'][0] = str(df['keyword'][0])[1:-1].split(',')\n",
        "df['keyword'][0]"
      ],
      "metadata": {
        "colab": {
          "base_uri": "https://localhost:8080/"
        },
        "id": "qIgyDCe1gAGI",
        "outputId": "d7836a89-ff5b-44eb-ae4b-1ff362d66e8f"
      },
      "execution_count": 8,
      "outputs": [
        {
          "output_type": "stream",
          "name": "stderr",
          "text": [
            "<ipython-input-8-aa8188dc7f78>:1: SettingWithCopyWarning: \n",
            "A value is trying to be set on a copy of a slice from a DataFrame\n",
            "\n",
            "See the caveats in the documentation: https://pandas.pydata.org/pandas-docs/stable/user_guide/indexing.html#returning-a-view-versus-a-copy\n",
            "  df['keyword'][0] = str(df['keyword'][0])[1:-1].split(',')\n"
          ]
        },
        {
          "output_type": "execute_result",
          "data": {
            "text/plain": [
              "[\"'vanilla'\",\n",
              " \" 'sugarsweet'\",\n",
              " \" 'strawberry'\",\n",
              " \" 'creamier'\",\n",
              " \" 'strawberries'\",\n",
              " \" 'lemonade'\",\n",
              " \" 'hazelnut'\",\n",
              " \" 'popcorn'\",\n",
              " \" 'tea'\",\n",
              " \" 'britney'\",\n",
              " \" 'intoxicating'\",\n",
              " \" 'gastronomy'\"]"
            ]
          },
          "metadata": {},
          "execution_count": 8
        }
      ]
    },
    {
      "cell_type": "code",
      "source": [
        "for i in range(0, len(df['keyword'][0])):\n",
        "  df['keyword'][0][i] = re.sub('[^a-zA-z,]', '', df['keyword'][0][i])\n",
        "print(df['keyword'][0])"
      ],
      "metadata": {
        "colab": {
          "base_uri": "https://localhost:8080/"
        },
        "id": "KIcuOVaPgHpr",
        "outputId": "5054a6fd-4d56-42c1-ebf2-c975066fbaab"
      },
      "execution_count": 9,
      "outputs": [
        {
          "output_type": "stream",
          "name": "stdout",
          "text": [
            "['vanilla', 'sugarsweet', 'strawberry', 'creamier', 'strawberries', 'lemonade', 'hazelnut', 'popcorn', 'tea', 'britney', 'intoxicating', 'gastronomy']\n"
          ]
        }
      ]
    },
    {
      "cell_type": "code",
      "source": [
        "df['keyword'][0][0]"
      ],
      "metadata": {
        "colab": {
          "base_uri": "https://localhost:8080/",
          "height": 35
        },
        "id": "T4A8702Og4PO",
        "outputId": "ee4cf92b-591d-42dd-a028-52262ee68a38"
      },
      "execution_count": 10,
      "outputs": [
        {
          "output_type": "execute_result",
          "data": {
            "text/plain": [
              "'vanilla'"
            ],
            "application/vnd.google.colaboratory.intrinsic+json": {
              "type": "string"
            }
          },
          "metadata": {},
          "execution_count": 10
        }
      ]
    },
    {
      "cell_type": "code",
      "source": [
        "pip install wordnet"
      ],
      "metadata": {
        "colab": {
          "base_uri": "https://localhost:8080/"
        },
        "id": "A9gXblbT2f6a",
        "outputId": "90c1c307-e84d-48be-9974-287286dd318b"
      },
      "execution_count": 11,
      "outputs": [
        {
          "output_type": "stream",
          "name": "stdout",
          "text": [
            "Looking in indexes: https://pypi.org/simple, https://us-python.pkg.dev/colab-wheels/public/simple/\n",
            "Collecting wordnet\n",
            "  Downloading wordnet-0.0.1b2.tar.gz (8.8 kB)\n",
            "  Preparing metadata (setup.py) ... \u001b[?25l\u001b[?25hdone\n",
            "Collecting colorama==0.3.9\n",
            "  Downloading colorama-0.3.9-py2.py3-none-any.whl (20 kB)\n",
            "Building wheels for collected packages: wordnet\n",
            "  Building wheel for wordnet (setup.py) ... \u001b[?25l\u001b[?25hdone\n",
            "  Created wheel for wordnet: filename=wordnet-0.0.1b2-py3-none-any.whl size=10519 sha256=3360a8a1b1d0e7d6bad456e00ea38837875bf07f1d87a603a43eccabf0c56554\n",
            "  Stored in directory: /root/.cache/pip/wheels/c3/6b/0d/1364db2ed13d53eba854f1b31dcfb4cc56adc191e11147ed64\n",
            "Successfully built wordnet\n",
            "Installing collected packages: colorama, wordnet\n",
            "Successfully installed colorama-0.3.9 wordnet-0.0.1b2\n"
          ]
        }
      ]
    },
    {
      "cell_type": "code",
      "source": [
        "import nltk\n",
        "nltk.download('wordnet')\n",
        "nltk.download('omw-1.4')\n",
        "  "
      ],
      "metadata": {
        "colab": {
          "base_uri": "https://localhost:8080/"
        },
        "id": "ThErGCb42jYZ",
        "outputId": "0bdc4ad0-649a-4b45-b3ed-c6db781fc3b8"
      },
      "execution_count": 12,
      "outputs": [
        {
          "output_type": "stream",
          "name": "stderr",
          "text": [
            "[nltk_data] Downloading package wordnet to /root/nltk_data...\n",
            "[nltk_data] Downloading package omw-1.4 to /root/nltk_data...\n"
          ]
        },
        {
          "output_type": "execute_result",
          "data": {
            "text/plain": [
              "True"
            ]
          },
          "metadata": {},
          "execution_count": 12
        }
      ]
    },
    {
      "cell_type": "code",
      "source": [
        "for i in range(0, len(df)):\n",
        "  df['keyword'][i] = str(df['keyword'][i])[1:-1].split(',')\n",
        "  for j in range(0, len(df['keyword'][i])):\n",
        "    df['keyword'][i][j] = re.sub('[^a-zA-z,]', '', df['keyword'][i][j])\n",
        "  temp = [wordnet_lemmatizer.lemmatize(w) for w in df['keyword'][i]]\n",
        "  df['keyword'][i]=temp"
      ],
      "metadata": {
        "colab": {
          "base_uri": "https://localhost:8080/"
        },
        "id": "2vdBgAVsfY7B",
        "outputId": "7bd45eb3-7036-440f-ff7c-edcfe89d8327"
      },
      "execution_count": 13,
      "outputs": [
        {
          "output_type": "stream",
          "name": "stderr",
          "text": [
            "<ipython-input-13-0aef4b97c58b>:2: SettingWithCopyWarning: \n",
            "A value is trying to be set on a copy of a slice from a DataFrame\n",
            "\n",
            "See the caveats in the documentation: https://pandas.pydata.org/pandas-docs/stable/user_guide/indexing.html#returning-a-view-versus-a-copy\n",
            "  df['keyword'][i] = str(df['keyword'][i])[1:-1].split(',')\n",
            "<ipython-input-13-0aef4b97c58b>:6: SettingWithCopyWarning: \n",
            "A value is trying to be set on a copy of a slice from a DataFrame\n",
            "\n",
            "See the caveats in the documentation: https://pandas.pydata.org/pandas-docs/stable/user_guide/indexing.html#returning-a-view-versus-a-copy\n",
            "  df['keyword'][i]=temp\n"
          ]
        }
      ]
    },
    {
      "cell_type": "code",
      "source": [
        "df"
      ],
      "metadata": {
        "colab": {
          "base_uri": "https://localhost:8080/",
          "height": 423
        },
        "id": "ohrQ5pFzhfs-",
        "outputId": "f7fd2a8a-dfda-459e-b20b-6dc4c4f3a992"
      },
      "execution_count": 14,
      "outputs": [
        {
          "output_type": "execute_result",
          "data": {
            "text/plain": [
              "     Unnamed: 0  Unnamed: 0.1  \\\n",
              "0             0             0   \n",
              "1             1             1   \n",
              "2             2             2   \n",
              "3             3             3   \n",
              "4             4             4   \n",
              "..          ...           ...   \n",
              "139         139           139   \n",
              "140         140           140   \n",
              "141         141           141   \n",
              "142         142           142   \n",
              "143         143           143   \n",
              "\n",
              "                                                review  \\\n",
              "0    skin get strawberry jelly candies. nostalgic p...   \n",
              "1    first sprayed boozy warm apple pie lasted seco...   \n",
              "2    way masculine cant seem sell bottle... anyone ...   \n",
              "3    dry smoky sweet woods. feel like time ive smel...   \n",
              "4    would love smell someone else unfortunately go...   \n",
              "..                                                 ...   \n",
              "139  love original interlude better version. rounde...   \n",
              "140  softly spiced plum slightly powdery florals. s...   \n",
              "141  bit masculine considered unisex true sense fra...   \n",
              "142  sweet dont detect note separately. try future....   \n",
              "143  creamy jasmine floral scent expect name vanill...   \n",
              "\n",
              "                       name                     brand  \\\n",
              "0        Baccarat Rouge 540  Maison Francis Kurkdjian   \n",
              "1             Angels' Share                 By Kilian   \n",
              "2           Tobacco Vanille                  Tom Ford   \n",
              "3          By the Fireplace    Maison Martin Margiela   \n",
              "4               Lost Cherry                  Tom Ford   \n",
              "..                      ...                       ...   \n",
              "139    Interlude Black Iris                   Amouage   \n",
              "140        Feminité du Bois              Serge Lutens   \n",
              "141                 Halfeti              Penhaligon's   \n",
              "142         Fève Délicieuse                      Dior   \n",
              "143  Utopia Vanilla Coco 21         Kayali Fragrances   \n",
              "\n",
              "                                               keyword  \n",
              "0    [vanilla, sugarsweet, strawberry, creamier, st...  \n",
              "1    [cinnamony, buttercream, vanilla, apple, fruit...  \n",
              "2    [hazelnut_kitty, vanilla, honeyberry, cinnamon...  \n",
              "3    [vanilla, tea, marshmellows, peppercorn, junip...  \n",
              "4    [perfume, cinnamon, rose, vanilla, fruity, tea...  \n",
              "..                                                 ...  \n",
              "139  [lipsticky, intoxicating, wealthy, gucci, frie...  \n",
              "140  [perfumey, vanilla, cinnamon, beeswax, teacup,...  \n",
              "141  [grapefruit, perfume, vanilla, tea, cinnamony,...  \n",
              "142  [caramely, vanilla, lipstick, tea, citrus, but...  \n",
              "143  [vanilla, butteriness, tea, coconutiness, cupc...  \n",
              "\n",
              "[144 rows x 6 columns]"
            ],
            "text/html": [
              "\n",
              "  <div id=\"df-bc45817b-4074-4b09-ac5c-a3e31ea1c8c1\">\n",
              "    <div class=\"colab-df-container\">\n",
              "      <div>\n",
              "<style scoped>\n",
              "    .dataframe tbody tr th:only-of-type {\n",
              "        vertical-align: middle;\n",
              "    }\n",
              "\n",
              "    .dataframe tbody tr th {\n",
              "        vertical-align: top;\n",
              "    }\n",
              "\n",
              "    .dataframe thead th {\n",
              "        text-align: right;\n",
              "    }\n",
              "</style>\n",
              "<table border=\"1\" class=\"dataframe\">\n",
              "  <thead>\n",
              "    <tr style=\"text-align: right;\">\n",
              "      <th></th>\n",
              "      <th>Unnamed: 0</th>\n",
              "      <th>Unnamed: 0.1</th>\n",
              "      <th>review</th>\n",
              "      <th>name</th>\n",
              "      <th>brand</th>\n",
              "      <th>keyword</th>\n",
              "    </tr>\n",
              "  </thead>\n",
              "  <tbody>\n",
              "    <tr>\n",
              "      <th>0</th>\n",
              "      <td>0</td>\n",
              "      <td>0</td>\n",
              "      <td>skin get strawberry jelly candies. nostalgic p...</td>\n",
              "      <td>Baccarat Rouge 540</td>\n",
              "      <td>Maison Francis Kurkdjian</td>\n",
              "      <td>[vanilla, sugarsweet, strawberry, creamier, st...</td>\n",
              "    </tr>\n",
              "    <tr>\n",
              "      <th>1</th>\n",
              "      <td>1</td>\n",
              "      <td>1</td>\n",
              "      <td>first sprayed boozy warm apple pie lasted seco...</td>\n",
              "      <td>Angels' Share</td>\n",
              "      <td>By Kilian</td>\n",
              "      <td>[cinnamony, buttercream, vanilla, apple, fruit...</td>\n",
              "    </tr>\n",
              "    <tr>\n",
              "      <th>2</th>\n",
              "      <td>2</td>\n",
              "      <td>2</td>\n",
              "      <td>way masculine cant seem sell bottle... anyone ...</td>\n",
              "      <td>Tobacco Vanille</td>\n",
              "      <td>Tom Ford</td>\n",
              "      <td>[hazelnut_kitty, vanilla, honeyberry, cinnamon...</td>\n",
              "    </tr>\n",
              "    <tr>\n",
              "      <th>3</th>\n",
              "      <td>3</td>\n",
              "      <td>3</td>\n",
              "      <td>dry smoky sweet woods. feel like time ive smel...</td>\n",
              "      <td>By the Fireplace</td>\n",
              "      <td>Maison Martin Margiela</td>\n",
              "      <td>[vanilla, tea, marshmellows, peppercorn, junip...</td>\n",
              "    </tr>\n",
              "    <tr>\n",
              "      <th>4</th>\n",
              "      <td>4</td>\n",
              "      <td>4</td>\n",
              "      <td>would love smell someone else unfortunately go...</td>\n",
              "      <td>Lost Cherry</td>\n",
              "      <td>Tom Ford</td>\n",
              "      <td>[perfume, cinnamon, rose, vanilla, fruity, tea...</td>\n",
              "    </tr>\n",
              "    <tr>\n",
              "      <th>...</th>\n",
              "      <td>...</td>\n",
              "      <td>...</td>\n",
              "      <td>...</td>\n",
              "      <td>...</td>\n",
              "      <td>...</td>\n",
              "      <td>...</td>\n",
              "    </tr>\n",
              "    <tr>\n",
              "      <th>139</th>\n",
              "      <td>139</td>\n",
              "      <td>139</td>\n",
              "      <td>love original interlude better version. rounde...</td>\n",
              "      <td>Interlude Black Iris</td>\n",
              "      <td>Amouage</td>\n",
              "      <td>[lipsticky, intoxicating, wealthy, gucci, frie...</td>\n",
              "    </tr>\n",
              "    <tr>\n",
              "      <th>140</th>\n",
              "      <td>140</td>\n",
              "      <td>140</td>\n",
              "      <td>softly spiced plum slightly powdery florals. s...</td>\n",
              "      <td>Feminité du Bois</td>\n",
              "      <td>Serge Lutens</td>\n",
              "      <td>[perfumey, vanilla, cinnamon, beeswax, teacup,...</td>\n",
              "    </tr>\n",
              "    <tr>\n",
              "      <th>141</th>\n",
              "      <td>141</td>\n",
              "      <td>141</td>\n",
              "      <td>bit masculine considered unisex true sense fra...</td>\n",
              "      <td>Halfeti</td>\n",
              "      <td>Penhaligon's</td>\n",
              "      <td>[grapefruit, perfume, vanilla, tea, cinnamony,...</td>\n",
              "    </tr>\n",
              "    <tr>\n",
              "      <th>142</th>\n",
              "      <td>142</td>\n",
              "      <td>142</td>\n",
              "      <td>sweet dont detect note separately. try future....</td>\n",
              "      <td>Fève Délicieuse</td>\n",
              "      <td>Dior</td>\n",
              "      <td>[caramely, vanilla, lipstick, tea, citrus, but...</td>\n",
              "    </tr>\n",
              "    <tr>\n",
              "      <th>143</th>\n",
              "      <td>143</td>\n",
              "      <td>143</td>\n",
              "      <td>creamy jasmine floral scent expect name vanill...</td>\n",
              "      <td>Utopia Vanilla Coco 21</td>\n",
              "      <td>Kayali Fragrances</td>\n",
              "      <td>[vanilla, butteriness, tea, coconutiness, cupc...</td>\n",
              "    </tr>\n",
              "  </tbody>\n",
              "</table>\n",
              "<p>144 rows × 6 columns</p>\n",
              "</div>\n",
              "      <button class=\"colab-df-convert\" onclick=\"convertToInteractive('df-bc45817b-4074-4b09-ac5c-a3e31ea1c8c1')\"\n",
              "              title=\"Convert this dataframe to an interactive table.\"\n",
              "              style=\"display:none;\">\n",
              "        \n",
              "  <svg xmlns=\"http://www.w3.org/2000/svg\" height=\"24px\"viewBox=\"0 0 24 24\"\n",
              "       width=\"24px\">\n",
              "    <path d=\"M0 0h24v24H0V0z\" fill=\"none\"/>\n",
              "    <path d=\"M18.56 5.44l.94 2.06.94-2.06 2.06-.94-2.06-.94-.94-2.06-.94 2.06-2.06.94zm-11 1L8.5 8.5l.94-2.06 2.06-.94-2.06-.94L8.5 2.5l-.94 2.06-2.06.94zm10 10l.94 2.06.94-2.06 2.06-.94-2.06-.94-.94-2.06-.94 2.06-2.06.94z\"/><path d=\"M17.41 7.96l-1.37-1.37c-.4-.4-.92-.59-1.43-.59-.52 0-1.04.2-1.43.59L10.3 9.45l-7.72 7.72c-.78.78-.78 2.05 0 2.83L4 21.41c.39.39.9.59 1.41.59.51 0 1.02-.2 1.41-.59l7.78-7.78 2.81-2.81c.8-.78.8-2.07 0-2.86zM5.41 20L4 18.59l7.72-7.72 1.47 1.35L5.41 20z\"/>\n",
              "  </svg>\n",
              "      </button>\n",
              "      \n",
              "  <style>\n",
              "    .colab-df-container {\n",
              "      display:flex;\n",
              "      flex-wrap:wrap;\n",
              "      gap: 12px;\n",
              "    }\n",
              "\n",
              "    .colab-df-convert {\n",
              "      background-color: #E8F0FE;\n",
              "      border: none;\n",
              "      border-radius: 50%;\n",
              "      cursor: pointer;\n",
              "      display: none;\n",
              "      fill: #1967D2;\n",
              "      height: 32px;\n",
              "      padding: 0 0 0 0;\n",
              "      width: 32px;\n",
              "    }\n",
              "\n",
              "    .colab-df-convert:hover {\n",
              "      background-color: #E2EBFA;\n",
              "      box-shadow: 0px 1px 2px rgba(60, 64, 67, 0.3), 0px 1px 3px 1px rgba(60, 64, 67, 0.15);\n",
              "      fill: #174EA6;\n",
              "    }\n",
              "\n",
              "    [theme=dark] .colab-df-convert {\n",
              "      background-color: #3B4455;\n",
              "      fill: #D2E3FC;\n",
              "    }\n",
              "\n",
              "    [theme=dark] .colab-df-convert:hover {\n",
              "      background-color: #434B5C;\n",
              "      box-shadow: 0px 1px 3px 1px rgba(0, 0, 0, 0.15);\n",
              "      filter: drop-shadow(0px 1px 2px rgba(0, 0, 0, 0.3));\n",
              "      fill: #FFFFFF;\n",
              "    }\n",
              "  </style>\n",
              "\n",
              "      <script>\n",
              "        const buttonEl =\n",
              "          document.querySelector('#df-bc45817b-4074-4b09-ac5c-a3e31ea1c8c1 button.colab-df-convert');\n",
              "        buttonEl.style.display =\n",
              "          google.colab.kernel.accessAllowed ? 'block' : 'none';\n",
              "\n",
              "        async function convertToInteractive(key) {\n",
              "          const element = document.querySelector('#df-bc45817b-4074-4b09-ac5c-a3e31ea1c8c1');\n",
              "          const dataTable =\n",
              "            await google.colab.kernel.invokeFunction('convertToInteractive',\n",
              "                                                     [key], {});\n",
              "          if (!dataTable) return;\n",
              "\n",
              "          const docLinkHtml = 'Like what you see? Visit the ' +\n",
              "            '<a target=\"_blank\" href=https://colab.research.google.com/notebooks/data_table.ipynb>data table notebook</a>'\n",
              "            + ' to learn more about interactive tables.';\n",
              "          element.innerHTML = '';\n",
              "          dataTable['output_type'] = 'display_data';\n",
              "          await google.colab.output.renderOutput(dataTable, element);\n",
              "          const docLink = document.createElement('div');\n",
              "          docLink.innerHTML = docLinkHtml;\n",
              "          element.appendChild(docLink);\n",
              "        }\n",
              "      </script>\n",
              "    </div>\n",
              "  </div>\n",
              "  "
            ]
          },
          "metadata": {},
          "execution_count": 14
        }
      ]
    },
    {
      "cell_type": "code",
      "source": [
        "df['keyword'][140]"
      ],
      "metadata": {
        "colab": {
          "base_uri": "https://localhost:8080/"
        },
        "id": "kfhE57mShiRr",
        "outputId": "1d132c1e-ad92-4b73-af1e-19157d4ed478"
      },
      "execution_count": 15,
      "outputs": [
        {
          "output_type": "execute_result",
          "data": {
            "text/plain": [
              "['perfumey',\n",
              " 'vanilla',\n",
              " 'cinnamon',\n",
              " 'beeswax',\n",
              " 'teacup',\n",
              " 'syrupy',\n",
              " 'lilac',\n",
              " 'citrus',\n",
              " 'buttery',\n",
              " 'cognac',\n",
              " 'lollipop',\n",
              " 'loveliest',\n",
              " 'cedarwood',\n",
              " 'christmas']"
            ]
          },
          "metadata": {},
          "execution_count": 15
        }
      ]
    },
    {
      "cell_type": "code",
      "source": [
        "keyword_keybert = df\n",
        "keyword_keybert"
      ],
      "metadata": {
        "colab": {
          "base_uri": "https://localhost:8080/",
          "height": 423
        },
        "id": "fxFTW4hzsukq",
        "outputId": "8efa09c9-c538-4431-83f3-09eb16d179f0"
      },
      "execution_count": 16,
      "outputs": [
        {
          "output_type": "execute_result",
          "data": {
            "text/plain": [
              "     Unnamed: 0  Unnamed: 0.1  \\\n",
              "0             0             0   \n",
              "1             1             1   \n",
              "2             2             2   \n",
              "3             3             3   \n",
              "4             4             4   \n",
              "..          ...           ...   \n",
              "139         139           139   \n",
              "140         140           140   \n",
              "141         141           141   \n",
              "142         142           142   \n",
              "143         143           143   \n",
              "\n",
              "                                                review  \\\n",
              "0    skin get strawberry jelly candies. nostalgic p...   \n",
              "1    first sprayed boozy warm apple pie lasted seco...   \n",
              "2    way masculine cant seem sell bottle... anyone ...   \n",
              "3    dry smoky sweet woods. feel like time ive smel...   \n",
              "4    would love smell someone else unfortunately go...   \n",
              "..                                                 ...   \n",
              "139  love original interlude better version. rounde...   \n",
              "140  softly spiced plum slightly powdery florals. s...   \n",
              "141  bit masculine considered unisex true sense fra...   \n",
              "142  sweet dont detect note separately. try future....   \n",
              "143  creamy jasmine floral scent expect name vanill...   \n",
              "\n",
              "                       name                     brand  \\\n",
              "0        Baccarat Rouge 540  Maison Francis Kurkdjian   \n",
              "1             Angels' Share                 By Kilian   \n",
              "2           Tobacco Vanille                  Tom Ford   \n",
              "3          By the Fireplace    Maison Martin Margiela   \n",
              "4               Lost Cherry                  Tom Ford   \n",
              "..                      ...                       ...   \n",
              "139    Interlude Black Iris                   Amouage   \n",
              "140        Feminité du Bois              Serge Lutens   \n",
              "141                 Halfeti              Penhaligon's   \n",
              "142         Fève Délicieuse                      Dior   \n",
              "143  Utopia Vanilla Coco 21         Kayali Fragrances   \n",
              "\n",
              "                                               keyword  \n",
              "0    [vanilla, sugarsweet, strawberry, creamier, st...  \n",
              "1    [cinnamony, buttercream, vanilla, apple, fruit...  \n",
              "2    [hazelnut_kitty, vanilla, honeyberry, cinnamon...  \n",
              "3    [vanilla, tea, marshmellows, peppercorn, junip...  \n",
              "4    [perfume, cinnamon, rose, vanilla, fruity, tea...  \n",
              "..                                                 ...  \n",
              "139  [lipsticky, intoxicating, wealthy, gucci, frie...  \n",
              "140  [perfumey, vanilla, cinnamon, beeswax, teacup,...  \n",
              "141  [grapefruit, perfume, vanilla, tea, cinnamony,...  \n",
              "142  [caramely, vanilla, lipstick, tea, citrus, but...  \n",
              "143  [vanilla, butteriness, tea, coconutiness, cupc...  \n",
              "\n",
              "[144 rows x 6 columns]"
            ],
            "text/html": [
              "\n",
              "  <div id=\"df-0704c505-dbd6-4be9-92cd-be250b94ddbc\">\n",
              "    <div class=\"colab-df-container\">\n",
              "      <div>\n",
              "<style scoped>\n",
              "    .dataframe tbody tr th:only-of-type {\n",
              "        vertical-align: middle;\n",
              "    }\n",
              "\n",
              "    .dataframe tbody tr th {\n",
              "        vertical-align: top;\n",
              "    }\n",
              "\n",
              "    .dataframe thead th {\n",
              "        text-align: right;\n",
              "    }\n",
              "</style>\n",
              "<table border=\"1\" class=\"dataframe\">\n",
              "  <thead>\n",
              "    <tr style=\"text-align: right;\">\n",
              "      <th></th>\n",
              "      <th>Unnamed: 0</th>\n",
              "      <th>Unnamed: 0.1</th>\n",
              "      <th>review</th>\n",
              "      <th>name</th>\n",
              "      <th>brand</th>\n",
              "      <th>keyword</th>\n",
              "    </tr>\n",
              "  </thead>\n",
              "  <tbody>\n",
              "    <tr>\n",
              "      <th>0</th>\n",
              "      <td>0</td>\n",
              "      <td>0</td>\n",
              "      <td>skin get strawberry jelly candies. nostalgic p...</td>\n",
              "      <td>Baccarat Rouge 540</td>\n",
              "      <td>Maison Francis Kurkdjian</td>\n",
              "      <td>[vanilla, sugarsweet, strawberry, creamier, st...</td>\n",
              "    </tr>\n",
              "    <tr>\n",
              "      <th>1</th>\n",
              "      <td>1</td>\n",
              "      <td>1</td>\n",
              "      <td>first sprayed boozy warm apple pie lasted seco...</td>\n",
              "      <td>Angels' Share</td>\n",
              "      <td>By Kilian</td>\n",
              "      <td>[cinnamony, buttercream, vanilla, apple, fruit...</td>\n",
              "    </tr>\n",
              "    <tr>\n",
              "      <th>2</th>\n",
              "      <td>2</td>\n",
              "      <td>2</td>\n",
              "      <td>way masculine cant seem sell bottle... anyone ...</td>\n",
              "      <td>Tobacco Vanille</td>\n",
              "      <td>Tom Ford</td>\n",
              "      <td>[hazelnut_kitty, vanilla, honeyberry, cinnamon...</td>\n",
              "    </tr>\n",
              "    <tr>\n",
              "      <th>3</th>\n",
              "      <td>3</td>\n",
              "      <td>3</td>\n",
              "      <td>dry smoky sweet woods. feel like time ive smel...</td>\n",
              "      <td>By the Fireplace</td>\n",
              "      <td>Maison Martin Margiela</td>\n",
              "      <td>[vanilla, tea, marshmellows, peppercorn, junip...</td>\n",
              "    </tr>\n",
              "    <tr>\n",
              "      <th>4</th>\n",
              "      <td>4</td>\n",
              "      <td>4</td>\n",
              "      <td>would love smell someone else unfortunately go...</td>\n",
              "      <td>Lost Cherry</td>\n",
              "      <td>Tom Ford</td>\n",
              "      <td>[perfume, cinnamon, rose, vanilla, fruity, tea...</td>\n",
              "    </tr>\n",
              "    <tr>\n",
              "      <th>...</th>\n",
              "      <td>...</td>\n",
              "      <td>...</td>\n",
              "      <td>...</td>\n",
              "      <td>...</td>\n",
              "      <td>...</td>\n",
              "      <td>...</td>\n",
              "    </tr>\n",
              "    <tr>\n",
              "      <th>139</th>\n",
              "      <td>139</td>\n",
              "      <td>139</td>\n",
              "      <td>love original interlude better version. rounde...</td>\n",
              "      <td>Interlude Black Iris</td>\n",
              "      <td>Amouage</td>\n",
              "      <td>[lipsticky, intoxicating, wealthy, gucci, frie...</td>\n",
              "    </tr>\n",
              "    <tr>\n",
              "      <th>140</th>\n",
              "      <td>140</td>\n",
              "      <td>140</td>\n",
              "      <td>softly spiced plum slightly powdery florals. s...</td>\n",
              "      <td>Feminité du Bois</td>\n",
              "      <td>Serge Lutens</td>\n",
              "      <td>[perfumey, vanilla, cinnamon, beeswax, teacup,...</td>\n",
              "    </tr>\n",
              "    <tr>\n",
              "      <th>141</th>\n",
              "      <td>141</td>\n",
              "      <td>141</td>\n",
              "      <td>bit masculine considered unisex true sense fra...</td>\n",
              "      <td>Halfeti</td>\n",
              "      <td>Penhaligon's</td>\n",
              "      <td>[grapefruit, perfume, vanilla, tea, cinnamony,...</td>\n",
              "    </tr>\n",
              "    <tr>\n",
              "      <th>142</th>\n",
              "      <td>142</td>\n",
              "      <td>142</td>\n",
              "      <td>sweet dont detect note separately. try future....</td>\n",
              "      <td>Fève Délicieuse</td>\n",
              "      <td>Dior</td>\n",
              "      <td>[caramely, vanilla, lipstick, tea, citrus, but...</td>\n",
              "    </tr>\n",
              "    <tr>\n",
              "      <th>143</th>\n",
              "      <td>143</td>\n",
              "      <td>143</td>\n",
              "      <td>creamy jasmine floral scent expect name vanill...</td>\n",
              "      <td>Utopia Vanilla Coco 21</td>\n",
              "      <td>Kayali Fragrances</td>\n",
              "      <td>[vanilla, butteriness, tea, coconutiness, cupc...</td>\n",
              "    </tr>\n",
              "  </tbody>\n",
              "</table>\n",
              "<p>144 rows × 6 columns</p>\n",
              "</div>\n",
              "      <button class=\"colab-df-convert\" onclick=\"convertToInteractive('df-0704c505-dbd6-4be9-92cd-be250b94ddbc')\"\n",
              "              title=\"Convert this dataframe to an interactive table.\"\n",
              "              style=\"display:none;\">\n",
              "        \n",
              "  <svg xmlns=\"http://www.w3.org/2000/svg\" height=\"24px\"viewBox=\"0 0 24 24\"\n",
              "       width=\"24px\">\n",
              "    <path d=\"M0 0h24v24H0V0z\" fill=\"none\"/>\n",
              "    <path d=\"M18.56 5.44l.94 2.06.94-2.06 2.06-.94-2.06-.94-.94-2.06-.94 2.06-2.06.94zm-11 1L8.5 8.5l.94-2.06 2.06-.94-2.06-.94L8.5 2.5l-.94 2.06-2.06.94zm10 10l.94 2.06.94-2.06 2.06-.94-2.06-.94-.94-2.06-.94 2.06-2.06.94z\"/><path d=\"M17.41 7.96l-1.37-1.37c-.4-.4-.92-.59-1.43-.59-.52 0-1.04.2-1.43.59L10.3 9.45l-7.72 7.72c-.78.78-.78 2.05 0 2.83L4 21.41c.39.39.9.59 1.41.59.51 0 1.02-.2 1.41-.59l7.78-7.78 2.81-2.81c.8-.78.8-2.07 0-2.86zM5.41 20L4 18.59l7.72-7.72 1.47 1.35L5.41 20z\"/>\n",
              "  </svg>\n",
              "      </button>\n",
              "      \n",
              "  <style>\n",
              "    .colab-df-container {\n",
              "      display:flex;\n",
              "      flex-wrap:wrap;\n",
              "      gap: 12px;\n",
              "    }\n",
              "\n",
              "    .colab-df-convert {\n",
              "      background-color: #E8F0FE;\n",
              "      border: none;\n",
              "      border-radius: 50%;\n",
              "      cursor: pointer;\n",
              "      display: none;\n",
              "      fill: #1967D2;\n",
              "      height: 32px;\n",
              "      padding: 0 0 0 0;\n",
              "      width: 32px;\n",
              "    }\n",
              "\n",
              "    .colab-df-convert:hover {\n",
              "      background-color: #E2EBFA;\n",
              "      box-shadow: 0px 1px 2px rgba(60, 64, 67, 0.3), 0px 1px 3px 1px rgba(60, 64, 67, 0.15);\n",
              "      fill: #174EA6;\n",
              "    }\n",
              "\n",
              "    [theme=dark] .colab-df-convert {\n",
              "      background-color: #3B4455;\n",
              "      fill: #D2E3FC;\n",
              "    }\n",
              "\n",
              "    [theme=dark] .colab-df-convert:hover {\n",
              "      background-color: #434B5C;\n",
              "      box-shadow: 0px 1px 3px 1px rgba(0, 0, 0, 0.15);\n",
              "      filter: drop-shadow(0px 1px 2px rgba(0, 0, 0, 0.3));\n",
              "      fill: #FFFFFF;\n",
              "    }\n",
              "  </style>\n",
              "\n",
              "      <script>\n",
              "        const buttonEl =\n",
              "          document.querySelector('#df-0704c505-dbd6-4be9-92cd-be250b94ddbc button.colab-df-convert');\n",
              "        buttonEl.style.display =\n",
              "          google.colab.kernel.accessAllowed ? 'block' : 'none';\n",
              "\n",
              "        async function convertToInteractive(key) {\n",
              "          const element = document.querySelector('#df-0704c505-dbd6-4be9-92cd-be250b94ddbc');\n",
              "          const dataTable =\n",
              "            await google.colab.kernel.invokeFunction('convertToInteractive',\n",
              "                                                     [key], {});\n",
              "          if (!dataTable) return;\n",
              "\n",
              "          const docLinkHtml = 'Like what you see? Visit the ' +\n",
              "            '<a target=\"_blank\" href=https://colab.research.google.com/notebooks/data_table.ipynb>data table notebook</a>'\n",
              "            + ' to learn more about interactive tables.';\n",
              "          element.innerHTML = '';\n",
              "          dataTable['output_type'] = 'display_data';\n",
              "          await google.colab.output.renderOutput(dataTable, element);\n",
              "          const docLink = document.createElement('div');\n",
              "          docLink.innerHTML = docLinkHtml;\n",
              "          element.appendChild(docLink);\n",
              "        }\n",
              "      </script>\n",
              "    </div>\n",
              "  </div>\n",
              "  "
            ]
          },
          "metadata": {},
          "execution_count": 16
        }
      ]
    },
    {
      "cell_type": "markdown",
      "source": [
        "## 최종 데이터프레임"
      ],
      "metadata": {
        "id": "URGX2K5AuOj3"
      }
    },
    {
      "cell_type": "code",
      "source": [
        "keyword_keybert = keyword_keybert.drop(['Unnamed: 0', 'Unnamed: 0.1', 'review'], axis=1)\n",
        "keyword_keybert"
      ],
      "metadata": {
        "colab": {
          "base_uri": "https://localhost:8080/",
          "height": 423
        },
        "id": "Bexrhru1uLK_",
        "outputId": "2382872d-a613-4eea-f5cf-8048c25f39d0"
      },
      "execution_count": 17,
      "outputs": [
        {
          "output_type": "execute_result",
          "data": {
            "text/plain": [
              "                       name                     brand  \\\n",
              "0        Baccarat Rouge 540  Maison Francis Kurkdjian   \n",
              "1             Angels' Share                 By Kilian   \n",
              "2           Tobacco Vanille                  Tom Ford   \n",
              "3          By the Fireplace    Maison Martin Margiela   \n",
              "4               Lost Cherry                  Tom Ford   \n",
              "..                      ...                       ...   \n",
              "139    Interlude Black Iris                   Amouage   \n",
              "140        Feminité du Bois              Serge Lutens   \n",
              "141                 Halfeti              Penhaligon's   \n",
              "142         Fève Délicieuse                      Dior   \n",
              "143  Utopia Vanilla Coco 21         Kayali Fragrances   \n",
              "\n",
              "                                               keyword  \n",
              "0    [vanilla, sugarsweet, strawberry, creamier, st...  \n",
              "1    [cinnamony, buttercream, vanilla, apple, fruit...  \n",
              "2    [hazelnut_kitty, vanilla, honeyberry, cinnamon...  \n",
              "3    [vanilla, tea, marshmellows, peppercorn, junip...  \n",
              "4    [perfume, cinnamon, rose, vanilla, fruity, tea...  \n",
              "..                                                 ...  \n",
              "139  [lipsticky, intoxicating, wealthy, gucci, frie...  \n",
              "140  [perfumey, vanilla, cinnamon, beeswax, teacup,...  \n",
              "141  [grapefruit, perfume, vanilla, tea, cinnamony,...  \n",
              "142  [caramely, vanilla, lipstick, tea, citrus, but...  \n",
              "143  [vanilla, butteriness, tea, coconutiness, cupc...  \n",
              "\n",
              "[144 rows x 3 columns]"
            ],
            "text/html": [
              "\n",
              "  <div id=\"df-f8c470a8-7206-45aa-bb5a-9b9b689d3932\">\n",
              "    <div class=\"colab-df-container\">\n",
              "      <div>\n",
              "<style scoped>\n",
              "    .dataframe tbody tr th:only-of-type {\n",
              "        vertical-align: middle;\n",
              "    }\n",
              "\n",
              "    .dataframe tbody tr th {\n",
              "        vertical-align: top;\n",
              "    }\n",
              "\n",
              "    .dataframe thead th {\n",
              "        text-align: right;\n",
              "    }\n",
              "</style>\n",
              "<table border=\"1\" class=\"dataframe\">\n",
              "  <thead>\n",
              "    <tr style=\"text-align: right;\">\n",
              "      <th></th>\n",
              "      <th>name</th>\n",
              "      <th>brand</th>\n",
              "      <th>keyword</th>\n",
              "    </tr>\n",
              "  </thead>\n",
              "  <tbody>\n",
              "    <tr>\n",
              "      <th>0</th>\n",
              "      <td>Baccarat Rouge 540</td>\n",
              "      <td>Maison Francis Kurkdjian</td>\n",
              "      <td>[vanilla, sugarsweet, strawberry, creamier, st...</td>\n",
              "    </tr>\n",
              "    <tr>\n",
              "      <th>1</th>\n",
              "      <td>Angels' Share</td>\n",
              "      <td>By Kilian</td>\n",
              "      <td>[cinnamony, buttercream, vanilla, apple, fruit...</td>\n",
              "    </tr>\n",
              "    <tr>\n",
              "      <th>2</th>\n",
              "      <td>Tobacco Vanille</td>\n",
              "      <td>Tom Ford</td>\n",
              "      <td>[hazelnut_kitty, vanilla, honeyberry, cinnamon...</td>\n",
              "    </tr>\n",
              "    <tr>\n",
              "      <th>3</th>\n",
              "      <td>By the Fireplace</td>\n",
              "      <td>Maison Martin Margiela</td>\n",
              "      <td>[vanilla, tea, marshmellows, peppercorn, junip...</td>\n",
              "    </tr>\n",
              "    <tr>\n",
              "      <th>4</th>\n",
              "      <td>Lost Cherry</td>\n",
              "      <td>Tom Ford</td>\n",
              "      <td>[perfume, cinnamon, rose, vanilla, fruity, tea...</td>\n",
              "    </tr>\n",
              "    <tr>\n",
              "      <th>...</th>\n",
              "      <td>...</td>\n",
              "      <td>...</td>\n",
              "      <td>...</td>\n",
              "    </tr>\n",
              "    <tr>\n",
              "      <th>139</th>\n",
              "      <td>Interlude Black Iris</td>\n",
              "      <td>Amouage</td>\n",
              "      <td>[lipsticky, intoxicating, wealthy, gucci, frie...</td>\n",
              "    </tr>\n",
              "    <tr>\n",
              "      <th>140</th>\n",
              "      <td>Feminité du Bois</td>\n",
              "      <td>Serge Lutens</td>\n",
              "      <td>[perfumey, vanilla, cinnamon, beeswax, teacup,...</td>\n",
              "    </tr>\n",
              "    <tr>\n",
              "      <th>141</th>\n",
              "      <td>Halfeti</td>\n",
              "      <td>Penhaligon's</td>\n",
              "      <td>[grapefruit, perfume, vanilla, tea, cinnamony,...</td>\n",
              "    </tr>\n",
              "    <tr>\n",
              "      <th>142</th>\n",
              "      <td>Fève Délicieuse</td>\n",
              "      <td>Dior</td>\n",
              "      <td>[caramely, vanilla, lipstick, tea, citrus, but...</td>\n",
              "    </tr>\n",
              "    <tr>\n",
              "      <th>143</th>\n",
              "      <td>Utopia Vanilla Coco 21</td>\n",
              "      <td>Kayali Fragrances</td>\n",
              "      <td>[vanilla, butteriness, tea, coconutiness, cupc...</td>\n",
              "    </tr>\n",
              "  </tbody>\n",
              "</table>\n",
              "<p>144 rows × 3 columns</p>\n",
              "</div>\n",
              "      <button class=\"colab-df-convert\" onclick=\"convertToInteractive('df-f8c470a8-7206-45aa-bb5a-9b9b689d3932')\"\n",
              "              title=\"Convert this dataframe to an interactive table.\"\n",
              "              style=\"display:none;\">\n",
              "        \n",
              "  <svg xmlns=\"http://www.w3.org/2000/svg\" height=\"24px\"viewBox=\"0 0 24 24\"\n",
              "       width=\"24px\">\n",
              "    <path d=\"M0 0h24v24H0V0z\" fill=\"none\"/>\n",
              "    <path d=\"M18.56 5.44l.94 2.06.94-2.06 2.06-.94-2.06-.94-.94-2.06-.94 2.06-2.06.94zm-11 1L8.5 8.5l.94-2.06 2.06-.94-2.06-.94L8.5 2.5l-.94 2.06-2.06.94zm10 10l.94 2.06.94-2.06 2.06-.94-2.06-.94-.94-2.06-.94 2.06-2.06.94z\"/><path d=\"M17.41 7.96l-1.37-1.37c-.4-.4-.92-.59-1.43-.59-.52 0-1.04.2-1.43.59L10.3 9.45l-7.72 7.72c-.78.78-.78 2.05 0 2.83L4 21.41c.39.39.9.59 1.41.59.51 0 1.02-.2 1.41-.59l7.78-7.78 2.81-2.81c.8-.78.8-2.07 0-2.86zM5.41 20L4 18.59l7.72-7.72 1.47 1.35L5.41 20z\"/>\n",
              "  </svg>\n",
              "      </button>\n",
              "      \n",
              "  <style>\n",
              "    .colab-df-container {\n",
              "      display:flex;\n",
              "      flex-wrap:wrap;\n",
              "      gap: 12px;\n",
              "    }\n",
              "\n",
              "    .colab-df-convert {\n",
              "      background-color: #E8F0FE;\n",
              "      border: none;\n",
              "      border-radius: 50%;\n",
              "      cursor: pointer;\n",
              "      display: none;\n",
              "      fill: #1967D2;\n",
              "      height: 32px;\n",
              "      padding: 0 0 0 0;\n",
              "      width: 32px;\n",
              "    }\n",
              "\n",
              "    .colab-df-convert:hover {\n",
              "      background-color: #E2EBFA;\n",
              "      box-shadow: 0px 1px 2px rgba(60, 64, 67, 0.3), 0px 1px 3px 1px rgba(60, 64, 67, 0.15);\n",
              "      fill: #174EA6;\n",
              "    }\n",
              "\n",
              "    [theme=dark] .colab-df-convert {\n",
              "      background-color: #3B4455;\n",
              "      fill: #D2E3FC;\n",
              "    }\n",
              "\n",
              "    [theme=dark] .colab-df-convert:hover {\n",
              "      background-color: #434B5C;\n",
              "      box-shadow: 0px 1px 3px 1px rgba(0, 0, 0, 0.15);\n",
              "      filter: drop-shadow(0px 1px 2px rgba(0, 0, 0, 0.3));\n",
              "      fill: #FFFFFF;\n",
              "    }\n",
              "  </style>\n",
              "\n",
              "      <script>\n",
              "        const buttonEl =\n",
              "          document.querySelector('#df-f8c470a8-7206-45aa-bb5a-9b9b689d3932 button.colab-df-convert');\n",
              "        buttonEl.style.display =\n",
              "          google.colab.kernel.accessAllowed ? 'block' : 'none';\n",
              "\n",
              "        async function convertToInteractive(key) {\n",
              "          const element = document.querySelector('#df-f8c470a8-7206-45aa-bb5a-9b9b689d3932');\n",
              "          const dataTable =\n",
              "            await google.colab.kernel.invokeFunction('convertToInteractive',\n",
              "                                                     [key], {});\n",
              "          if (!dataTable) return;\n",
              "\n",
              "          const docLinkHtml = 'Like what you see? Visit the ' +\n",
              "            '<a target=\"_blank\" href=https://colab.research.google.com/notebooks/data_table.ipynb>data table notebook</a>'\n",
              "            + ' to learn more about interactive tables.';\n",
              "          element.innerHTML = '';\n",
              "          dataTable['output_type'] = 'display_data';\n",
              "          await google.colab.output.renderOutput(dataTable, element);\n",
              "          const docLink = document.createElement('div');\n",
              "          docLink.innerHTML = docLinkHtml;\n",
              "          element.appendChild(docLink);\n",
              "        }\n",
              "      </script>\n",
              "    </div>\n",
              "  </div>\n",
              "  "
            ]
          },
          "metadata": {},
          "execution_count": 17
        }
      ]
    },
    {
      "cell_type": "markdown",
      "source": [
        "# ner"
      ],
      "metadata": {
        "id": "7BdVH5RZtB4L"
      }
    },
    {
      "cell_type": "code",
      "source": [
        "df1 = pd.read_csv('/content/drive/MyDrive/keyword_by_NER.csv')\n",
        "df1 = df1.transpose()\n",
        "df1 = df1.drop(['Unnamed: 0'])\n",
        "df1"
      ],
      "metadata": {
        "colab": {
          "base_uri": "https://localhost:8080/",
          "height": 423
        },
        "id": "m4wYrRb6sx-b",
        "outputId": "ec31b443-7bdb-40be-91ee-c55bf3ce6c0c"
      },
      "execution_count": 18,
      "outputs": [
        {
          "output_type": "execute_result",
          "data": {
            "text/plain": [
              "                         0                         1        2         3   \\\n",
              "0        Baccarat Rouge 540  Maison Francis Kurkdjian    sweet  feminine   \n",
              "1             Angels' Share                 By Kilian    sweet    cognac   \n",
              "2           Tobacco Vanille                  Tom Ford  tobacco   vanilla   \n",
              "3          By the Fireplace    Maison Martin Margiela  vanilla     sweet   \n",
              "4               Lost Cherry                  Tom Ford   cherry     sweet   \n",
              "..                      ...                       ...      ...       ...   \n",
              "139    Interlude Black Iris                   Amouage  incense      dark   \n",
              "140        Feminité du Bois              Serge Lutens    cedar     woody   \n",
              "141                 Halfeti              Penhaligon's    woody     spicy   \n",
              "142         Fève Délicieuse                      Dior    sweet   vanilla   \n",
              "143  Utopia Vanilla Coco 21         Kayali Fragrances  vanilla     sweet   \n",
              "\n",
              "          4          5         6             7          8          9   \\\n",
              "0      woody     unisex      warm     sweetness      cloud     floral   \n",
              "1       warm    vanilla     spicy        unisex      woody    praline   \n",
              "2      sweet      spicy      warm      tobacco.   vanilla.  sweetness   \n",
              "3      smoky      woody      warm          wood  sweetness       cozy   \n",
              "4    cherry.     bitter   vanilla          warm  sweetness   feminine   \n",
              "..       ...        ...       ...           ...        ...        ...   \n",
              "139    sweet  sweetness   vanilla         smoky  masculine       wood   \n",
              "140    sweet      spicy  feminine          wood       warm    powdery   \n",
              "141   unisex  masculine   vanilla         sweet    halfeti    complex   \n",
              "142    tonka     cherry   powdery          warm     powder      spicy   \n",
              "143   summer     creamy   jasmine  white floral     floral   tuberose   \n",
              "\n",
              "             10          11  \n",
              "0     masculine       light  \n",
              "1     masculine   sweetness  \n",
              "2        unisex     vanille  \n",
              "3      vanilla.   masculine  \n",
              "4          dark   patchouli  \n",
              "..          ...         ...  \n",
              "139     complex  mysterious  \n",
              "140        soft      unisex  \n",
              "141        wood       fresh  \n",
              "142  tonka bean    lavender  \n",
              "143       white        warm  \n",
              "\n",
              "[144 rows x 12 columns]"
            ],
            "text/html": [
              "\n",
              "  <div id=\"df-88c0216d-cfe4-44f8-8163-69252eea79a2\">\n",
              "    <div class=\"colab-df-container\">\n",
              "      <div>\n",
              "<style scoped>\n",
              "    .dataframe tbody tr th:only-of-type {\n",
              "        vertical-align: middle;\n",
              "    }\n",
              "\n",
              "    .dataframe tbody tr th {\n",
              "        vertical-align: top;\n",
              "    }\n",
              "\n",
              "    .dataframe thead th {\n",
              "        text-align: right;\n",
              "    }\n",
              "</style>\n",
              "<table border=\"1\" class=\"dataframe\">\n",
              "  <thead>\n",
              "    <tr style=\"text-align: right;\">\n",
              "      <th></th>\n",
              "      <th>0</th>\n",
              "      <th>1</th>\n",
              "      <th>2</th>\n",
              "      <th>3</th>\n",
              "      <th>4</th>\n",
              "      <th>5</th>\n",
              "      <th>6</th>\n",
              "      <th>7</th>\n",
              "      <th>8</th>\n",
              "      <th>9</th>\n",
              "      <th>10</th>\n",
              "      <th>11</th>\n",
              "    </tr>\n",
              "  </thead>\n",
              "  <tbody>\n",
              "    <tr>\n",
              "      <th>0</th>\n",
              "      <td>Baccarat Rouge 540</td>\n",
              "      <td>Maison Francis Kurkdjian</td>\n",
              "      <td>sweet</td>\n",
              "      <td>feminine</td>\n",
              "      <td>woody</td>\n",
              "      <td>unisex</td>\n",
              "      <td>warm</td>\n",
              "      <td>sweetness</td>\n",
              "      <td>cloud</td>\n",
              "      <td>floral</td>\n",
              "      <td>masculine</td>\n",
              "      <td>light</td>\n",
              "    </tr>\n",
              "    <tr>\n",
              "      <th>1</th>\n",
              "      <td>Angels' Share</td>\n",
              "      <td>By Kilian</td>\n",
              "      <td>sweet</td>\n",
              "      <td>cognac</td>\n",
              "      <td>warm</td>\n",
              "      <td>vanilla</td>\n",
              "      <td>spicy</td>\n",
              "      <td>unisex</td>\n",
              "      <td>woody</td>\n",
              "      <td>praline</td>\n",
              "      <td>masculine</td>\n",
              "      <td>sweetness</td>\n",
              "    </tr>\n",
              "    <tr>\n",
              "      <th>2</th>\n",
              "      <td>Tobacco Vanille</td>\n",
              "      <td>Tom Ford</td>\n",
              "      <td>tobacco</td>\n",
              "      <td>vanilla</td>\n",
              "      <td>sweet</td>\n",
              "      <td>spicy</td>\n",
              "      <td>warm</td>\n",
              "      <td>tobacco.</td>\n",
              "      <td>vanilla.</td>\n",
              "      <td>sweetness</td>\n",
              "      <td>unisex</td>\n",
              "      <td>vanille</td>\n",
              "    </tr>\n",
              "    <tr>\n",
              "      <th>3</th>\n",
              "      <td>By the Fireplace</td>\n",
              "      <td>Maison Martin Margiela</td>\n",
              "      <td>vanilla</td>\n",
              "      <td>sweet</td>\n",
              "      <td>smoky</td>\n",
              "      <td>woody</td>\n",
              "      <td>warm</td>\n",
              "      <td>wood</td>\n",
              "      <td>sweetness</td>\n",
              "      <td>cozy</td>\n",
              "      <td>vanilla.</td>\n",
              "      <td>masculine</td>\n",
              "    </tr>\n",
              "    <tr>\n",
              "      <th>4</th>\n",
              "      <td>Lost Cherry</td>\n",
              "      <td>Tom Ford</td>\n",
              "      <td>cherry</td>\n",
              "      <td>sweet</td>\n",
              "      <td>cherry.</td>\n",
              "      <td>bitter</td>\n",
              "      <td>vanilla</td>\n",
              "      <td>warm</td>\n",
              "      <td>sweetness</td>\n",
              "      <td>feminine</td>\n",
              "      <td>dark</td>\n",
              "      <td>patchouli</td>\n",
              "    </tr>\n",
              "    <tr>\n",
              "      <th>...</th>\n",
              "      <td>...</td>\n",
              "      <td>...</td>\n",
              "      <td>...</td>\n",
              "      <td>...</td>\n",
              "      <td>...</td>\n",
              "      <td>...</td>\n",
              "      <td>...</td>\n",
              "      <td>...</td>\n",
              "      <td>...</td>\n",
              "      <td>...</td>\n",
              "      <td>...</td>\n",
              "      <td>...</td>\n",
              "    </tr>\n",
              "    <tr>\n",
              "      <th>139</th>\n",
              "      <td>Interlude Black Iris</td>\n",
              "      <td>Amouage</td>\n",
              "      <td>incense</td>\n",
              "      <td>dark</td>\n",
              "      <td>sweet</td>\n",
              "      <td>sweetness</td>\n",
              "      <td>vanilla</td>\n",
              "      <td>smoky</td>\n",
              "      <td>masculine</td>\n",
              "      <td>wood</td>\n",
              "      <td>complex</td>\n",
              "      <td>mysterious</td>\n",
              "    </tr>\n",
              "    <tr>\n",
              "      <th>140</th>\n",
              "      <td>Feminité du Bois</td>\n",
              "      <td>Serge Lutens</td>\n",
              "      <td>cedar</td>\n",
              "      <td>woody</td>\n",
              "      <td>sweet</td>\n",
              "      <td>spicy</td>\n",
              "      <td>feminine</td>\n",
              "      <td>wood</td>\n",
              "      <td>warm</td>\n",
              "      <td>powdery</td>\n",
              "      <td>soft</td>\n",
              "      <td>unisex</td>\n",
              "    </tr>\n",
              "    <tr>\n",
              "      <th>141</th>\n",
              "      <td>Halfeti</td>\n",
              "      <td>Penhaligon's</td>\n",
              "      <td>woody</td>\n",
              "      <td>spicy</td>\n",
              "      <td>unisex</td>\n",
              "      <td>masculine</td>\n",
              "      <td>vanilla</td>\n",
              "      <td>sweet</td>\n",
              "      <td>halfeti</td>\n",
              "      <td>complex</td>\n",
              "      <td>wood</td>\n",
              "      <td>fresh</td>\n",
              "    </tr>\n",
              "    <tr>\n",
              "      <th>142</th>\n",
              "      <td>Fève Délicieuse</td>\n",
              "      <td>Dior</td>\n",
              "      <td>sweet</td>\n",
              "      <td>vanilla</td>\n",
              "      <td>tonka</td>\n",
              "      <td>cherry</td>\n",
              "      <td>powdery</td>\n",
              "      <td>warm</td>\n",
              "      <td>powder</td>\n",
              "      <td>spicy</td>\n",
              "      <td>tonka bean</td>\n",
              "      <td>lavender</td>\n",
              "    </tr>\n",
              "    <tr>\n",
              "      <th>143</th>\n",
              "      <td>Utopia Vanilla Coco 21</td>\n",
              "      <td>Kayali Fragrances</td>\n",
              "      <td>vanilla</td>\n",
              "      <td>sweet</td>\n",
              "      <td>summer</td>\n",
              "      <td>creamy</td>\n",
              "      <td>jasmine</td>\n",
              "      <td>white floral</td>\n",
              "      <td>floral</td>\n",
              "      <td>tuberose</td>\n",
              "      <td>white</td>\n",
              "      <td>warm</td>\n",
              "    </tr>\n",
              "  </tbody>\n",
              "</table>\n",
              "<p>144 rows × 12 columns</p>\n",
              "</div>\n",
              "      <button class=\"colab-df-convert\" onclick=\"convertToInteractive('df-88c0216d-cfe4-44f8-8163-69252eea79a2')\"\n",
              "              title=\"Convert this dataframe to an interactive table.\"\n",
              "              style=\"display:none;\">\n",
              "        \n",
              "  <svg xmlns=\"http://www.w3.org/2000/svg\" height=\"24px\"viewBox=\"0 0 24 24\"\n",
              "       width=\"24px\">\n",
              "    <path d=\"M0 0h24v24H0V0z\" fill=\"none\"/>\n",
              "    <path d=\"M18.56 5.44l.94 2.06.94-2.06 2.06-.94-2.06-.94-.94-2.06-.94 2.06-2.06.94zm-11 1L8.5 8.5l.94-2.06 2.06-.94-2.06-.94L8.5 2.5l-.94 2.06-2.06.94zm10 10l.94 2.06.94-2.06 2.06-.94-2.06-.94-.94-2.06-.94 2.06-2.06.94z\"/><path d=\"M17.41 7.96l-1.37-1.37c-.4-.4-.92-.59-1.43-.59-.52 0-1.04.2-1.43.59L10.3 9.45l-7.72 7.72c-.78.78-.78 2.05 0 2.83L4 21.41c.39.39.9.59 1.41.59.51 0 1.02-.2 1.41-.59l7.78-7.78 2.81-2.81c.8-.78.8-2.07 0-2.86zM5.41 20L4 18.59l7.72-7.72 1.47 1.35L5.41 20z\"/>\n",
              "  </svg>\n",
              "      </button>\n",
              "      \n",
              "  <style>\n",
              "    .colab-df-container {\n",
              "      display:flex;\n",
              "      flex-wrap:wrap;\n",
              "      gap: 12px;\n",
              "    }\n",
              "\n",
              "    .colab-df-convert {\n",
              "      background-color: #E8F0FE;\n",
              "      border: none;\n",
              "      border-radius: 50%;\n",
              "      cursor: pointer;\n",
              "      display: none;\n",
              "      fill: #1967D2;\n",
              "      height: 32px;\n",
              "      padding: 0 0 0 0;\n",
              "      width: 32px;\n",
              "    }\n",
              "\n",
              "    .colab-df-convert:hover {\n",
              "      background-color: #E2EBFA;\n",
              "      box-shadow: 0px 1px 2px rgba(60, 64, 67, 0.3), 0px 1px 3px 1px rgba(60, 64, 67, 0.15);\n",
              "      fill: #174EA6;\n",
              "    }\n",
              "\n",
              "    [theme=dark] .colab-df-convert {\n",
              "      background-color: #3B4455;\n",
              "      fill: #D2E3FC;\n",
              "    }\n",
              "\n",
              "    [theme=dark] .colab-df-convert:hover {\n",
              "      background-color: #434B5C;\n",
              "      box-shadow: 0px 1px 3px 1px rgba(0, 0, 0, 0.15);\n",
              "      filter: drop-shadow(0px 1px 2px rgba(0, 0, 0, 0.3));\n",
              "      fill: #FFFFFF;\n",
              "    }\n",
              "  </style>\n",
              "\n",
              "      <script>\n",
              "        const buttonEl =\n",
              "          document.querySelector('#df-88c0216d-cfe4-44f8-8163-69252eea79a2 button.colab-df-convert');\n",
              "        buttonEl.style.display =\n",
              "          google.colab.kernel.accessAllowed ? 'block' : 'none';\n",
              "\n",
              "        async function convertToInteractive(key) {\n",
              "          const element = document.querySelector('#df-88c0216d-cfe4-44f8-8163-69252eea79a2');\n",
              "          const dataTable =\n",
              "            await google.colab.kernel.invokeFunction('convertToInteractive',\n",
              "                                                     [key], {});\n",
              "          if (!dataTable) return;\n",
              "\n",
              "          const docLinkHtml = 'Like what you see? Visit the ' +\n",
              "            '<a target=\"_blank\" href=https://colab.research.google.com/notebooks/data_table.ipynb>data table notebook</a>'\n",
              "            + ' to learn more about interactive tables.';\n",
              "          element.innerHTML = '';\n",
              "          dataTable['output_type'] = 'display_data';\n",
              "          await google.colab.output.renderOutput(dataTable, element);\n",
              "          const docLink = document.createElement('div');\n",
              "          docLink.innerHTML = docLinkHtml;\n",
              "          element.appendChild(docLink);\n",
              "        }\n",
              "      </script>\n",
              "    </div>\n",
              "  </div>\n",
              "  "
            ]
          },
          "metadata": {},
          "execution_count": 18
        }
      ]
    },
    {
      "cell_type": "code",
      "source": [
        "df1['keyword'] = ''\n",
        "for i in range(0,144):\n",
        "  keyword = []\n",
        "  for j in range(0,10):\n",
        "    keyword.append(df1[j+2][i])\n",
        "    df1['keyword'][i] = keyword\n",
        "df1 = df1.drop([2,3,4,5,6,7,8,9,10,11],axis=1)\n",
        "df1.columns = ['name', 'brand', 'keyword']\n",
        "df1"
      ],
      "metadata": {
        "colab": {
          "base_uri": "https://localhost:8080/",
          "height": 423
        },
        "id": "MP_KSkCawspE",
        "outputId": "058d4e2b-6889-463d-9177-f5b9d4b261b6"
      },
      "execution_count": 19,
      "outputs": [
        {
          "output_type": "execute_result",
          "data": {
            "text/plain": [
              "                       name                     brand  \\\n",
              "0        Baccarat Rouge 540  Maison Francis Kurkdjian   \n",
              "1             Angels' Share                 By Kilian   \n",
              "2           Tobacco Vanille                  Tom Ford   \n",
              "3          By the Fireplace    Maison Martin Margiela   \n",
              "4               Lost Cherry                  Tom Ford   \n",
              "..                      ...                       ...   \n",
              "139    Interlude Black Iris                   Amouage   \n",
              "140        Feminité du Bois              Serge Lutens   \n",
              "141                 Halfeti              Penhaligon's   \n",
              "142         Fève Délicieuse                      Dior   \n",
              "143  Utopia Vanilla Coco 21         Kayali Fragrances   \n",
              "\n",
              "                                               keyword  \n",
              "0    [sweet, feminine, woody, unisex, warm, sweetne...  \n",
              "1    [sweet, cognac, warm, vanilla, spicy, unisex, ...  \n",
              "2    [tobacco, vanilla, sweet, spicy, warm, tobacco...  \n",
              "3    [vanilla, sweet, smoky, woody, warm, wood, swe...  \n",
              "4    [cherry, sweet, cherry., bitter, vanilla, warm...  \n",
              "..                                                 ...  \n",
              "139  [incense, dark, sweet, sweetness, vanilla, smo...  \n",
              "140  [cedar, woody, sweet, spicy, feminine, wood, w...  \n",
              "141  [woody, spicy, unisex, masculine, vanilla, swe...  \n",
              "142  [sweet, vanilla, tonka, cherry, powdery, warm,...  \n",
              "143  [vanilla, sweet, summer, creamy, jasmine, whit...  \n",
              "\n",
              "[144 rows x 3 columns]"
            ],
            "text/html": [
              "\n",
              "  <div id=\"df-48499009-89bf-41fe-9ae4-742658cf9054\">\n",
              "    <div class=\"colab-df-container\">\n",
              "      <div>\n",
              "<style scoped>\n",
              "    .dataframe tbody tr th:only-of-type {\n",
              "        vertical-align: middle;\n",
              "    }\n",
              "\n",
              "    .dataframe tbody tr th {\n",
              "        vertical-align: top;\n",
              "    }\n",
              "\n",
              "    .dataframe thead th {\n",
              "        text-align: right;\n",
              "    }\n",
              "</style>\n",
              "<table border=\"1\" class=\"dataframe\">\n",
              "  <thead>\n",
              "    <tr style=\"text-align: right;\">\n",
              "      <th></th>\n",
              "      <th>name</th>\n",
              "      <th>brand</th>\n",
              "      <th>keyword</th>\n",
              "    </tr>\n",
              "  </thead>\n",
              "  <tbody>\n",
              "    <tr>\n",
              "      <th>0</th>\n",
              "      <td>Baccarat Rouge 540</td>\n",
              "      <td>Maison Francis Kurkdjian</td>\n",
              "      <td>[sweet, feminine, woody, unisex, warm, sweetne...</td>\n",
              "    </tr>\n",
              "    <tr>\n",
              "      <th>1</th>\n",
              "      <td>Angels' Share</td>\n",
              "      <td>By Kilian</td>\n",
              "      <td>[sweet, cognac, warm, vanilla, spicy, unisex, ...</td>\n",
              "    </tr>\n",
              "    <tr>\n",
              "      <th>2</th>\n",
              "      <td>Tobacco Vanille</td>\n",
              "      <td>Tom Ford</td>\n",
              "      <td>[tobacco, vanilla, sweet, spicy, warm, tobacco...</td>\n",
              "    </tr>\n",
              "    <tr>\n",
              "      <th>3</th>\n",
              "      <td>By the Fireplace</td>\n",
              "      <td>Maison Martin Margiela</td>\n",
              "      <td>[vanilla, sweet, smoky, woody, warm, wood, swe...</td>\n",
              "    </tr>\n",
              "    <tr>\n",
              "      <th>4</th>\n",
              "      <td>Lost Cherry</td>\n",
              "      <td>Tom Ford</td>\n",
              "      <td>[cherry, sweet, cherry., bitter, vanilla, warm...</td>\n",
              "    </tr>\n",
              "    <tr>\n",
              "      <th>...</th>\n",
              "      <td>...</td>\n",
              "      <td>...</td>\n",
              "      <td>...</td>\n",
              "    </tr>\n",
              "    <tr>\n",
              "      <th>139</th>\n",
              "      <td>Interlude Black Iris</td>\n",
              "      <td>Amouage</td>\n",
              "      <td>[incense, dark, sweet, sweetness, vanilla, smo...</td>\n",
              "    </tr>\n",
              "    <tr>\n",
              "      <th>140</th>\n",
              "      <td>Feminité du Bois</td>\n",
              "      <td>Serge Lutens</td>\n",
              "      <td>[cedar, woody, sweet, spicy, feminine, wood, w...</td>\n",
              "    </tr>\n",
              "    <tr>\n",
              "      <th>141</th>\n",
              "      <td>Halfeti</td>\n",
              "      <td>Penhaligon's</td>\n",
              "      <td>[woody, spicy, unisex, masculine, vanilla, swe...</td>\n",
              "    </tr>\n",
              "    <tr>\n",
              "      <th>142</th>\n",
              "      <td>Fève Délicieuse</td>\n",
              "      <td>Dior</td>\n",
              "      <td>[sweet, vanilla, tonka, cherry, powdery, warm,...</td>\n",
              "    </tr>\n",
              "    <tr>\n",
              "      <th>143</th>\n",
              "      <td>Utopia Vanilla Coco 21</td>\n",
              "      <td>Kayali Fragrances</td>\n",
              "      <td>[vanilla, sweet, summer, creamy, jasmine, whit...</td>\n",
              "    </tr>\n",
              "  </tbody>\n",
              "</table>\n",
              "<p>144 rows × 3 columns</p>\n",
              "</div>\n",
              "      <button class=\"colab-df-convert\" onclick=\"convertToInteractive('df-48499009-89bf-41fe-9ae4-742658cf9054')\"\n",
              "              title=\"Convert this dataframe to an interactive table.\"\n",
              "              style=\"display:none;\">\n",
              "        \n",
              "  <svg xmlns=\"http://www.w3.org/2000/svg\" height=\"24px\"viewBox=\"0 0 24 24\"\n",
              "       width=\"24px\">\n",
              "    <path d=\"M0 0h24v24H0V0z\" fill=\"none\"/>\n",
              "    <path d=\"M18.56 5.44l.94 2.06.94-2.06 2.06-.94-2.06-.94-.94-2.06-.94 2.06-2.06.94zm-11 1L8.5 8.5l.94-2.06 2.06-.94-2.06-.94L8.5 2.5l-.94 2.06-2.06.94zm10 10l.94 2.06.94-2.06 2.06-.94-2.06-.94-.94-2.06-.94 2.06-2.06.94z\"/><path d=\"M17.41 7.96l-1.37-1.37c-.4-.4-.92-.59-1.43-.59-.52 0-1.04.2-1.43.59L10.3 9.45l-7.72 7.72c-.78.78-.78 2.05 0 2.83L4 21.41c.39.39.9.59 1.41.59.51 0 1.02-.2 1.41-.59l7.78-7.78 2.81-2.81c.8-.78.8-2.07 0-2.86zM5.41 20L4 18.59l7.72-7.72 1.47 1.35L5.41 20z\"/>\n",
              "  </svg>\n",
              "      </button>\n",
              "      \n",
              "  <style>\n",
              "    .colab-df-container {\n",
              "      display:flex;\n",
              "      flex-wrap:wrap;\n",
              "      gap: 12px;\n",
              "    }\n",
              "\n",
              "    .colab-df-convert {\n",
              "      background-color: #E8F0FE;\n",
              "      border: none;\n",
              "      border-radius: 50%;\n",
              "      cursor: pointer;\n",
              "      display: none;\n",
              "      fill: #1967D2;\n",
              "      height: 32px;\n",
              "      padding: 0 0 0 0;\n",
              "      width: 32px;\n",
              "    }\n",
              "\n",
              "    .colab-df-convert:hover {\n",
              "      background-color: #E2EBFA;\n",
              "      box-shadow: 0px 1px 2px rgba(60, 64, 67, 0.3), 0px 1px 3px 1px rgba(60, 64, 67, 0.15);\n",
              "      fill: #174EA6;\n",
              "    }\n",
              "\n",
              "    [theme=dark] .colab-df-convert {\n",
              "      background-color: #3B4455;\n",
              "      fill: #D2E3FC;\n",
              "    }\n",
              "\n",
              "    [theme=dark] .colab-df-convert:hover {\n",
              "      background-color: #434B5C;\n",
              "      box-shadow: 0px 1px 3px 1px rgba(0, 0, 0, 0.15);\n",
              "      filter: drop-shadow(0px 1px 2px rgba(0, 0, 0, 0.3));\n",
              "      fill: #FFFFFF;\n",
              "    }\n",
              "  </style>\n",
              "\n",
              "      <script>\n",
              "        const buttonEl =\n",
              "          document.querySelector('#df-48499009-89bf-41fe-9ae4-742658cf9054 button.colab-df-convert');\n",
              "        buttonEl.style.display =\n",
              "          google.colab.kernel.accessAllowed ? 'block' : 'none';\n",
              "\n",
              "        async function convertToInteractive(key) {\n",
              "          const element = document.querySelector('#df-48499009-89bf-41fe-9ae4-742658cf9054');\n",
              "          const dataTable =\n",
              "            await google.colab.kernel.invokeFunction('convertToInteractive',\n",
              "                                                     [key], {});\n",
              "          if (!dataTable) return;\n",
              "\n",
              "          const docLinkHtml = 'Like what you see? Visit the ' +\n",
              "            '<a target=\"_blank\" href=https://colab.research.google.com/notebooks/data_table.ipynb>data table notebook</a>'\n",
              "            + ' to learn more about interactive tables.';\n",
              "          element.innerHTML = '';\n",
              "          dataTable['output_type'] = 'display_data';\n",
              "          await google.colab.output.renderOutput(dataTable, element);\n",
              "          const docLink = document.createElement('div');\n",
              "          docLink.innerHTML = docLinkHtml;\n",
              "          element.appendChild(docLink);\n",
              "        }\n",
              "      </script>\n",
              "    </div>\n",
              "  </div>\n",
              "  "
            ]
          },
          "metadata": {},
          "execution_count": 19
        }
      ]
    },
    {
      "cell_type": "code",
      "source": [
        "for i in range(0, len(df1)):\n",
        "  for j in range(0, len(df1['keyword'][i])):\n",
        "    df1['keyword'][i][j] = re.sub('[^a-zA-z,]', '', df1['keyword'][i][j])\n",
        "  temp = [wordnet_lemmatizer.lemmatize(w) for w in df1['keyword'][i]]\n",
        "  df1['keyword'][i]=temp\n",
        "df1"
      ],
      "metadata": {
        "colab": {
          "base_uri": "https://localhost:8080/",
          "height": 423
        },
        "id": "jQoeGO2l2ePV",
        "outputId": "01ce4d8e-80c0-47e9-e50c-95059cbbd7cb"
      },
      "execution_count": 20,
      "outputs": [
        {
          "output_type": "execute_result",
          "data": {
            "text/plain": [
              "                       name                     brand  \\\n",
              "0        Baccarat Rouge 540  Maison Francis Kurkdjian   \n",
              "1             Angels' Share                 By Kilian   \n",
              "2           Tobacco Vanille                  Tom Ford   \n",
              "3          By the Fireplace    Maison Martin Margiela   \n",
              "4               Lost Cherry                  Tom Ford   \n",
              "..                      ...                       ...   \n",
              "139    Interlude Black Iris                   Amouage   \n",
              "140        Feminité du Bois              Serge Lutens   \n",
              "141                 Halfeti              Penhaligon's   \n",
              "142         Fève Délicieuse                      Dior   \n",
              "143  Utopia Vanilla Coco 21         Kayali Fragrances   \n",
              "\n",
              "                                               keyword  \n",
              "0    [sweet, feminine, woody, unisex, warm, sweetne...  \n",
              "1    [sweet, cognac, warm, vanilla, spicy, unisex, ...  \n",
              "2    [tobacco, vanilla, sweet, spicy, warm, tobacco...  \n",
              "3    [vanilla, sweet, smoky, woody, warm, wood, swe...  \n",
              "4    [cherry, sweet, cherry, bitter, vanilla, warm,...  \n",
              "..                                                 ...  \n",
              "139  [incense, dark, sweet, sweetness, vanilla, smo...  \n",
              "140  [cedar, woody, sweet, spicy, feminine, wood, w...  \n",
              "141  [woody, spicy, unisex, masculine, vanilla, swe...  \n",
              "142  [sweet, vanilla, tonka, cherry, powdery, warm,...  \n",
              "143  [vanilla, sweet, summer, creamy, jasmine, whit...  \n",
              "\n",
              "[144 rows x 3 columns]"
            ],
            "text/html": [
              "\n",
              "  <div id=\"df-18916e57-7281-4443-8bf1-a2f936cf61c7\">\n",
              "    <div class=\"colab-df-container\">\n",
              "      <div>\n",
              "<style scoped>\n",
              "    .dataframe tbody tr th:only-of-type {\n",
              "        vertical-align: middle;\n",
              "    }\n",
              "\n",
              "    .dataframe tbody tr th {\n",
              "        vertical-align: top;\n",
              "    }\n",
              "\n",
              "    .dataframe thead th {\n",
              "        text-align: right;\n",
              "    }\n",
              "</style>\n",
              "<table border=\"1\" class=\"dataframe\">\n",
              "  <thead>\n",
              "    <tr style=\"text-align: right;\">\n",
              "      <th></th>\n",
              "      <th>name</th>\n",
              "      <th>brand</th>\n",
              "      <th>keyword</th>\n",
              "    </tr>\n",
              "  </thead>\n",
              "  <tbody>\n",
              "    <tr>\n",
              "      <th>0</th>\n",
              "      <td>Baccarat Rouge 540</td>\n",
              "      <td>Maison Francis Kurkdjian</td>\n",
              "      <td>[sweet, feminine, woody, unisex, warm, sweetne...</td>\n",
              "    </tr>\n",
              "    <tr>\n",
              "      <th>1</th>\n",
              "      <td>Angels' Share</td>\n",
              "      <td>By Kilian</td>\n",
              "      <td>[sweet, cognac, warm, vanilla, spicy, unisex, ...</td>\n",
              "    </tr>\n",
              "    <tr>\n",
              "      <th>2</th>\n",
              "      <td>Tobacco Vanille</td>\n",
              "      <td>Tom Ford</td>\n",
              "      <td>[tobacco, vanilla, sweet, spicy, warm, tobacco...</td>\n",
              "    </tr>\n",
              "    <tr>\n",
              "      <th>3</th>\n",
              "      <td>By the Fireplace</td>\n",
              "      <td>Maison Martin Margiela</td>\n",
              "      <td>[vanilla, sweet, smoky, woody, warm, wood, swe...</td>\n",
              "    </tr>\n",
              "    <tr>\n",
              "      <th>4</th>\n",
              "      <td>Lost Cherry</td>\n",
              "      <td>Tom Ford</td>\n",
              "      <td>[cherry, sweet, cherry, bitter, vanilla, warm,...</td>\n",
              "    </tr>\n",
              "    <tr>\n",
              "      <th>...</th>\n",
              "      <td>...</td>\n",
              "      <td>...</td>\n",
              "      <td>...</td>\n",
              "    </tr>\n",
              "    <tr>\n",
              "      <th>139</th>\n",
              "      <td>Interlude Black Iris</td>\n",
              "      <td>Amouage</td>\n",
              "      <td>[incense, dark, sweet, sweetness, vanilla, smo...</td>\n",
              "    </tr>\n",
              "    <tr>\n",
              "      <th>140</th>\n",
              "      <td>Feminité du Bois</td>\n",
              "      <td>Serge Lutens</td>\n",
              "      <td>[cedar, woody, sweet, spicy, feminine, wood, w...</td>\n",
              "    </tr>\n",
              "    <tr>\n",
              "      <th>141</th>\n",
              "      <td>Halfeti</td>\n",
              "      <td>Penhaligon's</td>\n",
              "      <td>[woody, spicy, unisex, masculine, vanilla, swe...</td>\n",
              "    </tr>\n",
              "    <tr>\n",
              "      <th>142</th>\n",
              "      <td>Fève Délicieuse</td>\n",
              "      <td>Dior</td>\n",
              "      <td>[sweet, vanilla, tonka, cherry, powdery, warm,...</td>\n",
              "    </tr>\n",
              "    <tr>\n",
              "      <th>143</th>\n",
              "      <td>Utopia Vanilla Coco 21</td>\n",
              "      <td>Kayali Fragrances</td>\n",
              "      <td>[vanilla, sweet, summer, creamy, jasmine, whit...</td>\n",
              "    </tr>\n",
              "  </tbody>\n",
              "</table>\n",
              "<p>144 rows × 3 columns</p>\n",
              "</div>\n",
              "      <button class=\"colab-df-convert\" onclick=\"convertToInteractive('df-18916e57-7281-4443-8bf1-a2f936cf61c7')\"\n",
              "              title=\"Convert this dataframe to an interactive table.\"\n",
              "              style=\"display:none;\">\n",
              "        \n",
              "  <svg xmlns=\"http://www.w3.org/2000/svg\" height=\"24px\"viewBox=\"0 0 24 24\"\n",
              "       width=\"24px\">\n",
              "    <path d=\"M0 0h24v24H0V0z\" fill=\"none\"/>\n",
              "    <path d=\"M18.56 5.44l.94 2.06.94-2.06 2.06-.94-2.06-.94-.94-2.06-.94 2.06-2.06.94zm-11 1L8.5 8.5l.94-2.06 2.06-.94-2.06-.94L8.5 2.5l-.94 2.06-2.06.94zm10 10l.94 2.06.94-2.06 2.06-.94-2.06-.94-.94-2.06-.94 2.06-2.06.94z\"/><path d=\"M17.41 7.96l-1.37-1.37c-.4-.4-.92-.59-1.43-.59-.52 0-1.04.2-1.43.59L10.3 9.45l-7.72 7.72c-.78.78-.78 2.05 0 2.83L4 21.41c.39.39.9.59 1.41.59.51 0 1.02-.2 1.41-.59l7.78-7.78 2.81-2.81c.8-.78.8-2.07 0-2.86zM5.41 20L4 18.59l7.72-7.72 1.47 1.35L5.41 20z\"/>\n",
              "  </svg>\n",
              "      </button>\n",
              "      \n",
              "  <style>\n",
              "    .colab-df-container {\n",
              "      display:flex;\n",
              "      flex-wrap:wrap;\n",
              "      gap: 12px;\n",
              "    }\n",
              "\n",
              "    .colab-df-convert {\n",
              "      background-color: #E8F0FE;\n",
              "      border: none;\n",
              "      border-radius: 50%;\n",
              "      cursor: pointer;\n",
              "      display: none;\n",
              "      fill: #1967D2;\n",
              "      height: 32px;\n",
              "      padding: 0 0 0 0;\n",
              "      width: 32px;\n",
              "    }\n",
              "\n",
              "    .colab-df-convert:hover {\n",
              "      background-color: #E2EBFA;\n",
              "      box-shadow: 0px 1px 2px rgba(60, 64, 67, 0.3), 0px 1px 3px 1px rgba(60, 64, 67, 0.15);\n",
              "      fill: #174EA6;\n",
              "    }\n",
              "\n",
              "    [theme=dark] .colab-df-convert {\n",
              "      background-color: #3B4455;\n",
              "      fill: #D2E3FC;\n",
              "    }\n",
              "\n",
              "    [theme=dark] .colab-df-convert:hover {\n",
              "      background-color: #434B5C;\n",
              "      box-shadow: 0px 1px 3px 1px rgba(0, 0, 0, 0.15);\n",
              "      filter: drop-shadow(0px 1px 2px rgba(0, 0, 0, 0.3));\n",
              "      fill: #FFFFFF;\n",
              "    }\n",
              "  </style>\n",
              "\n",
              "      <script>\n",
              "        const buttonEl =\n",
              "          document.querySelector('#df-18916e57-7281-4443-8bf1-a2f936cf61c7 button.colab-df-convert');\n",
              "        buttonEl.style.display =\n",
              "          google.colab.kernel.accessAllowed ? 'block' : 'none';\n",
              "\n",
              "        async function convertToInteractive(key) {\n",
              "          const element = document.querySelector('#df-18916e57-7281-4443-8bf1-a2f936cf61c7');\n",
              "          const dataTable =\n",
              "            await google.colab.kernel.invokeFunction('convertToInteractive',\n",
              "                                                     [key], {});\n",
              "          if (!dataTable) return;\n",
              "\n",
              "          const docLinkHtml = 'Like what you see? Visit the ' +\n",
              "            '<a target=\"_blank\" href=https://colab.research.google.com/notebooks/data_table.ipynb>data table notebook</a>'\n",
              "            + ' to learn more about interactive tables.';\n",
              "          element.innerHTML = '';\n",
              "          dataTable['output_type'] = 'display_data';\n",
              "          await google.colab.output.renderOutput(dataTable, element);\n",
              "          const docLink = document.createElement('div');\n",
              "          docLink.innerHTML = docLinkHtml;\n",
              "          element.appendChild(docLink);\n",
              "        }\n",
              "      </script>\n",
              "    </div>\n",
              "  </div>\n",
              "  "
            ]
          },
          "metadata": {},
          "execution_count": 20
        }
      ]
    },
    {
      "cell_type": "code",
      "source": [
        "keyword_ner = df1\n",
        "keyword_ner"
      ],
      "metadata": {
        "colab": {
          "base_uri": "https://localhost:8080/",
          "height": 423
        },
        "id": "Wys04sqewcdI",
        "outputId": "ad68eb57-e538-459e-c480-6bf752ee697f"
      },
      "execution_count": 21,
      "outputs": [
        {
          "output_type": "execute_result",
          "data": {
            "text/plain": [
              "                       name                     brand  \\\n",
              "0        Baccarat Rouge 540  Maison Francis Kurkdjian   \n",
              "1             Angels' Share                 By Kilian   \n",
              "2           Tobacco Vanille                  Tom Ford   \n",
              "3          By the Fireplace    Maison Martin Margiela   \n",
              "4               Lost Cherry                  Tom Ford   \n",
              "..                      ...                       ...   \n",
              "139    Interlude Black Iris                   Amouage   \n",
              "140        Feminité du Bois              Serge Lutens   \n",
              "141                 Halfeti              Penhaligon's   \n",
              "142         Fève Délicieuse                      Dior   \n",
              "143  Utopia Vanilla Coco 21         Kayali Fragrances   \n",
              "\n",
              "                                               keyword  \n",
              "0    [sweet, feminine, woody, unisex, warm, sweetne...  \n",
              "1    [sweet, cognac, warm, vanilla, spicy, unisex, ...  \n",
              "2    [tobacco, vanilla, sweet, spicy, warm, tobacco...  \n",
              "3    [vanilla, sweet, smoky, woody, warm, wood, swe...  \n",
              "4    [cherry, sweet, cherry, bitter, vanilla, warm,...  \n",
              "..                                                 ...  \n",
              "139  [incense, dark, sweet, sweetness, vanilla, smo...  \n",
              "140  [cedar, woody, sweet, spicy, feminine, wood, w...  \n",
              "141  [woody, spicy, unisex, masculine, vanilla, swe...  \n",
              "142  [sweet, vanilla, tonka, cherry, powdery, warm,...  \n",
              "143  [vanilla, sweet, summer, creamy, jasmine, whit...  \n",
              "\n",
              "[144 rows x 3 columns]"
            ],
            "text/html": [
              "\n",
              "  <div id=\"df-381641f2-e48b-4b58-a49a-8f44e05b6a3a\">\n",
              "    <div class=\"colab-df-container\">\n",
              "      <div>\n",
              "<style scoped>\n",
              "    .dataframe tbody tr th:only-of-type {\n",
              "        vertical-align: middle;\n",
              "    }\n",
              "\n",
              "    .dataframe tbody tr th {\n",
              "        vertical-align: top;\n",
              "    }\n",
              "\n",
              "    .dataframe thead th {\n",
              "        text-align: right;\n",
              "    }\n",
              "</style>\n",
              "<table border=\"1\" class=\"dataframe\">\n",
              "  <thead>\n",
              "    <tr style=\"text-align: right;\">\n",
              "      <th></th>\n",
              "      <th>name</th>\n",
              "      <th>brand</th>\n",
              "      <th>keyword</th>\n",
              "    </tr>\n",
              "  </thead>\n",
              "  <tbody>\n",
              "    <tr>\n",
              "      <th>0</th>\n",
              "      <td>Baccarat Rouge 540</td>\n",
              "      <td>Maison Francis Kurkdjian</td>\n",
              "      <td>[sweet, feminine, woody, unisex, warm, sweetne...</td>\n",
              "    </tr>\n",
              "    <tr>\n",
              "      <th>1</th>\n",
              "      <td>Angels' Share</td>\n",
              "      <td>By Kilian</td>\n",
              "      <td>[sweet, cognac, warm, vanilla, spicy, unisex, ...</td>\n",
              "    </tr>\n",
              "    <tr>\n",
              "      <th>2</th>\n",
              "      <td>Tobacco Vanille</td>\n",
              "      <td>Tom Ford</td>\n",
              "      <td>[tobacco, vanilla, sweet, spicy, warm, tobacco...</td>\n",
              "    </tr>\n",
              "    <tr>\n",
              "      <th>3</th>\n",
              "      <td>By the Fireplace</td>\n",
              "      <td>Maison Martin Margiela</td>\n",
              "      <td>[vanilla, sweet, smoky, woody, warm, wood, swe...</td>\n",
              "    </tr>\n",
              "    <tr>\n",
              "      <th>4</th>\n",
              "      <td>Lost Cherry</td>\n",
              "      <td>Tom Ford</td>\n",
              "      <td>[cherry, sweet, cherry, bitter, vanilla, warm,...</td>\n",
              "    </tr>\n",
              "    <tr>\n",
              "      <th>...</th>\n",
              "      <td>...</td>\n",
              "      <td>...</td>\n",
              "      <td>...</td>\n",
              "    </tr>\n",
              "    <tr>\n",
              "      <th>139</th>\n",
              "      <td>Interlude Black Iris</td>\n",
              "      <td>Amouage</td>\n",
              "      <td>[incense, dark, sweet, sweetness, vanilla, smo...</td>\n",
              "    </tr>\n",
              "    <tr>\n",
              "      <th>140</th>\n",
              "      <td>Feminité du Bois</td>\n",
              "      <td>Serge Lutens</td>\n",
              "      <td>[cedar, woody, sweet, spicy, feminine, wood, w...</td>\n",
              "    </tr>\n",
              "    <tr>\n",
              "      <th>141</th>\n",
              "      <td>Halfeti</td>\n",
              "      <td>Penhaligon's</td>\n",
              "      <td>[woody, spicy, unisex, masculine, vanilla, swe...</td>\n",
              "    </tr>\n",
              "    <tr>\n",
              "      <th>142</th>\n",
              "      <td>Fève Délicieuse</td>\n",
              "      <td>Dior</td>\n",
              "      <td>[sweet, vanilla, tonka, cherry, powdery, warm,...</td>\n",
              "    </tr>\n",
              "    <tr>\n",
              "      <th>143</th>\n",
              "      <td>Utopia Vanilla Coco 21</td>\n",
              "      <td>Kayali Fragrances</td>\n",
              "      <td>[vanilla, sweet, summer, creamy, jasmine, whit...</td>\n",
              "    </tr>\n",
              "  </tbody>\n",
              "</table>\n",
              "<p>144 rows × 3 columns</p>\n",
              "</div>\n",
              "      <button class=\"colab-df-convert\" onclick=\"convertToInteractive('df-381641f2-e48b-4b58-a49a-8f44e05b6a3a')\"\n",
              "              title=\"Convert this dataframe to an interactive table.\"\n",
              "              style=\"display:none;\">\n",
              "        \n",
              "  <svg xmlns=\"http://www.w3.org/2000/svg\" height=\"24px\"viewBox=\"0 0 24 24\"\n",
              "       width=\"24px\">\n",
              "    <path d=\"M0 0h24v24H0V0z\" fill=\"none\"/>\n",
              "    <path d=\"M18.56 5.44l.94 2.06.94-2.06 2.06-.94-2.06-.94-.94-2.06-.94 2.06-2.06.94zm-11 1L8.5 8.5l.94-2.06 2.06-.94-2.06-.94L8.5 2.5l-.94 2.06-2.06.94zm10 10l.94 2.06.94-2.06 2.06-.94-2.06-.94-.94-2.06-.94 2.06-2.06.94z\"/><path d=\"M17.41 7.96l-1.37-1.37c-.4-.4-.92-.59-1.43-.59-.52 0-1.04.2-1.43.59L10.3 9.45l-7.72 7.72c-.78.78-.78 2.05 0 2.83L4 21.41c.39.39.9.59 1.41.59.51 0 1.02-.2 1.41-.59l7.78-7.78 2.81-2.81c.8-.78.8-2.07 0-2.86zM5.41 20L4 18.59l7.72-7.72 1.47 1.35L5.41 20z\"/>\n",
              "  </svg>\n",
              "      </button>\n",
              "      \n",
              "  <style>\n",
              "    .colab-df-container {\n",
              "      display:flex;\n",
              "      flex-wrap:wrap;\n",
              "      gap: 12px;\n",
              "    }\n",
              "\n",
              "    .colab-df-convert {\n",
              "      background-color: #E8F0FE;\n",
              "      border: none;\n",
              "      border-radius: 50%;\n",
              "      cursor: pointer;\n",
              "      display: none;\n",
              "      fill: #1967D2;\n",
              "      height: 32px;\n",
              "      padding: 0 0 0 0;\n",
              "      width: 32px;\n",
              "    }\n",
              "\n",
              "    .colab-df-convert:hover {\n",
              "      background-color: #E2EBFA;\n",
              "      box-shadow: 0px 1px 2px rgba(60, 64, 67, 0.3), 0px 1px 3px 1px rgba(60, 64, 67, 0.15);\n",
              "      fill: #174EA6;\n",
              "    }\n",
              "\n",
              "    [theme=dark] .colab-df-convert {\n",
              "      background-color: #3B4455;\n",
              "      fill: #D2E3FC;\n",
              "    }\n",
              "\n",
              "    [theme=dark] .colab-df-convert:hover {\n",
              "      background-color: #434B5C;\n",
              "      box-shadow: 0px 1px 3px 1px rgba(0, 0, 0, 0.15);\n",
              "      filter: drop-shadow(0px 1px 2px rgba(0, 0, 0, 0.3));\n",
              "      fill: #FFFFFF;\n",
              "    }\n",
              "  </style>\n",
              "\n",
              "      <script>\n",
              "        const buttonEl =\n",
              "          document.querySelector('#df-381641f2-e48b-4b58-a49a-8f44e05b6a3a button.colab-df-convert');\n",
              "        buttonEl.style.display =\n",
              "          google.colab.kernel.accessAllowed ? 'block' : 'none';\n",
              "\n",
              "        async function convertToInteractive(key) {\n",
              "          const element = document.querySelector('#df-381641f2-e48b-4b58-a49a-8f44e05b6a3a');\n",
              "          const dataTable =\n",
              "            await google.colab.kernel.invokeFunction('convertToInteractive',\n",
              "                                                     [key], {});\n",
              "          if (!dataTable) return;\n",
              "\n",
              "          const docLinkHtml = 'Like what you see? Visit the ' +\n",
              "            '<a target=\"_blank\" href=https://colab.research.google.com/notebooks/data_table.ipynb>data table notebook</a>'\n",
              "            + ' to learn more about interactive tables.';\n",
              "          element.innerHTML = '';\n",
              "          dataTable['output_type'] = 'display_data';\n",
              "          await google.colab.output.renderOutput(dataTable, element);\n",
              "          const docLink = document.createElement('div');\n",
              "          docLink.innerHTML = docLinkHtml;\n",
              "          element.appendChild(docLink);\n",
              "        }\n",
              "      </script>\n",
              "    </div>\n",
              "  </div>\n",
              "  "
            ]
          },
          "metadata": {},
          "execution_count": 21
        }
      ]
    },
    {
      "cell_type": "markdown",
      "source": [
        "# keybert + ner"
      ],
      "metadata": {
        "id": "HbmsvR5_yH8P"
      }
    },
    {
      "cell_type": "code",
      "source": [
        "keyword_keybert"
      ],
      "metadata": {
        "colab": {
          "base_uri": "https://localhost:8080/",
          "height": 423
        },
        "id": "02jtEYhxvS1o",
        "outputId": "d25d51b7-219a-4b40-f356-1142c33555fb"
      },
      "execution_count": 22,
      "outputs": [
        {
          "output_type": "execute_result",
          "data": {
            "text/plain": [
              "                       name                     brand  \\\n",
              "0        Baccarat Rouge 540  Maison Francis Kurkdjian   \n",
              "1             Angels' Share                 By Kilian   \n",
              "2           Tobacco Vanille                  Tom Ford   \n",
              "3          By the Fireplace    Maison Martin Margiela   \n",
              "4               Lost Cherry                  Tom Ford   \n",
              "..                      ...                       ...   \n",
              "139    Interlude Black Iris                   Amouage   \n",
              "140        Feminité du Bois              Serge Lutens   \n",
              "141                 Halfeti              Penhaligon's   \n",
              "142         Fève Délicieuse                      Dior   \n",
              "143  Utopia Vanilla Coco 21         Kayali Fragrances   \n",
              "\n",
              "                                               keyword  \n",
              "0    [vanilla, sugarsweet, strawberry, creamier, st...  \n",
              "1    [cinnamony, buttercream, vanilla, apple, fruit...  \n",
              "2    [hazelnut_kitty, vanilla, honeyberry, cinnamon...  \n",
              "3    [vanilla, tea, marshmellows, peppercorn, junip...  \n",
              "4    [perfume, cinnamon, rose, vanilla, fruity, tea...  \n",
              "..                                                 ...  \n",
              "139  [lipsticky, intoxicating, wealthy, gucci, frie...  \n",
              "140  [perfumey, vanilla, cinnamon, beeswax, teacup,...  \n",
              "141  [grapefruit, perfume, vanilla, tea, cinnamony,...  \n",
              "142  [caramely, vanilla, lipstick, tea, citrus, but...  \n",
              "143  [vanilla, butteriness, tea, coconutiness, cupc...  \n",
              "\n",
              "[144 rows x 3 columns]"
            ],
            "text/html": [
              "\n",
              "  <div id=\"df-f0ce5165-f56a-4f49-8e7f-11903d95f008\">\n",
              "    <div class=\"colab-df-container\">\n",
              "      <div>\n",
              "<style scoped>\n",
              "    .dataframe tbody tr th:only-of-type {\n",
              "        vertical-align: middle;\n",
              "    }\n",
              "\n",
              "    .dataframe tbody tr th {\n",
              "        vertical-align: top;\n",
              "    }\n",
              "\n",
              "    .dataframe thead th {\n",
              "        text-align: right;\n",
              "    }\n",
              "</style>\n",
              "<table border=\"1\" class=\"dataframe\">\n",
              "  <thead>\n",
              "    <tr style=\"text-align: right;\">\n",
              "      <th></th>\n",
              "      <th>name</th>\n",
              "      <th>brand</th>\n",
              "      <th>keyword</th>\n",
              "    </tr>\n",
              "  </thead>\n",
              "  <tbody>\n",
              "    <tr>\n",
              "      <th>0</th>\n",
              "      <td>Baccarat Rouge 540</td>\n",
              "      <td>Maison Francis Kurkdjian</td>\n",
              "      <td>[vanilla, sugarsweet, strawberry, creamier, st...</td>\n",
              "    </tr>\n",
              "    <tr>\n",
              "      <th>1</th>\n",
              "      <td>Angels' Share</td>\n",
              "      <td>By Kilian</td>\n",
              "      <td>[cinnamony, buttercream, vanilla, apple, fruit...</td>\n",
              "    </tr>\n",
              "    <tr>\n",
              "      <th>2</th>\n",
              "      <td>Tobacco Vanille</td>\n",
              "      <td>Tom Ford</td>\n",
              "      <td>[hazelnut_kitty, vanilla, honeyberry, cinnamon...</td>\n",
              "    </tr>\n",
              "    <tr>\n",
              "      <th>3</th>\n",
              "      <td>By the Fireplace</td>\n",
              "      <td>Maison Martin Margiela</td>\n",
              "      <td>[vanilla, tea, marshmellows, peppercorn, junip...</td>\n",
              "    </tr>\n",
              "    <tr>\n",
              "      <th>4</th>\n",
              "      <td>Lost Cherry</td>\n",
              "      <td>Tom Ford</td>\n",
              "      <td>[perfume, cinnamon, rose, vanilla, fruity, tea...</td>\n",
              "    </tr>\n",
              "    <tr>\n",
              "      <th>...</th>\n",
              "      <td>...</td>\n",
              "      <td>...</td>\n",
              "      <td>...</td>\n",
              "    </tr>\n",
              "    <tr>\n",
              "      <th>139</th>\n",
              "      <td>Interlude Black Iris</td>\n",
              "      <td>Amouage</td>\n",
              "      <td>[lipsticky, intoxicating, wealthy, gucci, frie...</td>\n",
              "    </tr>\n",
              "    <tr>\n",
              "      <th>140</th>\n",
              "      <td>Feminité du Bois</td>\n",
              "      <td>Serge Lutens</td>\n",
              "      <td>[perfumey, vanilla, cinnamon, beeswax, teacup,...</td>\n",
              "    </tr>\n",
              "    <tr>\n",
              "      <th>141</th>\n",
              "      <td>Halfeti</td>\n",
              "      <td>Penhaligon's</td>\n",
              "      <td>[grapefruit, perfume, vanilla, tea, cinnamony,...</td>\n",
              "    </tr>\n",
              "    <tr>\n",
              "      <th>142</th>\n",
              "      <td>Fève Délicieuse</td>\n",
              "      <td>Dior</td>\n",
              "      <td>[caramely, vanilla, lipstick, tea, citrus, but...</td>\n",
              "    </tr>\n",
              "    <tr>\n",
              "      <th>143</th>\n",
              "      <td>Utopia Vanilla Coco 21</td>\n",
              "      <td>Kayali Fragrances</td>\n",
              "      <td>[vanilla, butteriness, tea, coconutiness, cupc...</td>\n",
              "    </tr>\n",
              "  </tbody>\n",
              "</table>\n",
              "<p>144 rows × 3 columns</p>\n",
              "</div>\n",
              "      <button class=\"colab-df-convert\" onclick=\"convertToInteractive('df-f0ce5165-f56a-4f49-8e7f-11903d95f008')\"\n",
              "              title=\"Convert this dataframe to an interactive table.\"\n",
              "              style=\"display:none;\">\n",
              "        \n",
              "  <svg xmlns=\"http://www.w3.org/2000/svg\" height=\"24px\"viewBox=\"0 0 24 24\"\n",
              "       width=\"24px\">\n",
              "    <path d=\"M0 0h24v24H0V0z\" fill=\"none\"/>\n",
              "    <path d=\"M18.56 5.44l.94 2.06.94-2.06 2.06-.94-2.06-.94-.94-2.06-.94 2.06-2.06.94zm-11 1L8.5 8.5l.94-2.06 2.06-.94-2.06-.94L8.5 2.5l-.94 2.06-2.06.94zm10 10l.94 2.06.94-2.06 2.06-.94-2.06-.94-.94-2.06-.94 2.06-2.06.94z\"/><path d=\"M17.41 7.96l-1.37-1.37c-.4-.4-.92-.59-1.43-.59-.52 0-1.04.2-1.43.59L10.3 9.45l-7.72 7.72c-.78.78-.78 2.05 0 2.83L4 21.41c.39.39.9.59 1.41.59.51 0 1.02-.2 1.41-.59l7.78-7.78 2.81-2.81c.8-.78.8-2.07 0-2.86zM5.41 20L4 18.59l7.72-7.72 1.47 1.35L5.41 20z\"/>\n",
              "  </svg>\n",
              "      </button>\n",
              "      \n",
              "  <style>\n",
              "    .colab-df-container {\n",
              "      display:flex;\n",
              "      flex-wrap:wrap;\n",
              "      gap: 12px;\n",
              "    }\n",
              "\n",
              "    .colab-df-convert {\n",
              "      background-color: #E8F0FE;\n",
              "      border: none;\n",
              "      border-radius: 50%;\n",
              "      cursor: pointer;\n",
              "      display: none;\n",
              "      fill: #1967D2;\n",
              "      height: 32px;\n",
              "      padding: 0 0 0 0;\n",
              "      width: 32px;\n",
              "    }\n",
              "\n",
              "    .colab-df-convert:hover {\n",
              "      background-color: #E2EBFA;\n",
              "      box-shadow: 0px 1px 2px rgba(60, 64, 67, 0.3), 0px 1px 3px 1px rgba(60, 64, 67, 0.15);\n",
              "      fill: #174EA6;\n",
              "    }\n",
              "\n",
              "    [theme=dark] .colab-df-convert {\n",
              "      background-color: #3B4455;\n",
              "      fill: #D2E3FC;\n",
              "    }\n",
              "\n",
              "    [theme=dark] .colab-df-convert:hover {\n",
              "      background-color: #434B5C;\n",
              "      box-shadow: 0px 1px 3px 1px rgba(0, 0, 0, 0.15);\n",
              "      filter: drop-shadow(0px 1px 2px rgba(0, 0, 0, 0.3));\n",
              "      fill: #FFFFFF;\n",
              "    }\n",
              "  </style>\n",
              "\n",
              "      <script>\n",
              "        const buttonEl =\n",
              "          document.querySelector('#df-f0ce5165-f56a-4f49-8e7f-11903d95f008 button.colab-df-convert');\n",
              "        buttonEl.style.display =\n",
              "          google.colab.kernel.accessAllowed ? 'block' : 'none';\n",
              "\n",
              "        async function convertToInteractive(key) {\n",
              "          const element = document.querySelector('#df-f0ce5165-f56a-4f49-8e7f-11903d95f008');\n",
              "          const dataTable =\n",
              "            await google.colab.kernel.invokeFunction('convertToInteractive',\n",
              "                                                     [key], {});\n",
              "          if (!dataTable) return;\n",
              "\n",
              "          const docLinkHtml = 'Like what you see? Visit the ' +\n",
              "            '<a target=\"_blank\" href=https://colab.research.google.com/notebooks/data_table.ipynb>data table notebook</a>'\n",
              "            + ' to learn more about interactive tables.';\n",
              "          element.innerHTML = '';\n",
              "          dataTable['output_type'] = 'display_data';\n",
              "          await google.colab.output.renderOutput(dataTable, element);\n",
              "          const docLink = document.createElement('div');\n",
              "          docLink.innerHTML = docLinkHtml;\n",
              "          element.appendChild(docLink);\n",
              "        }\n",
              "      </script>\n",
              "    </div>\n",
              "  </div>\n",
              "  "
            ]
          },
          "metadata": {},
          "execution_count": 22
        }
      ]
    },
    {
      "cell_type": "code",
      "source": [
        "keyword_ner"
      ],
      "metadata": {
        "colab": {
          "base_uri": "https://localhost:8080/",
          "height": 423
        },
        "id": "i5OT4p-uwqwc",
        "outputId": "a1282ef6-aa34-464c-d81e-e86c6dda272d"
      },
      "execution_count": 23,
      "outputs": [
        {
          "output_type": "execute_result",
          "data": {
            "text/plain": [
              "                       name                     brand  \\\n",
              "0        Baccarat Rouge 540  Maison Francis Kurkdjian   \n",
              "1             Angels' Share                 By Kilian   \n",
              "2           Tobacco Vanille                  Tom Ford   \n",
              "3          By the Fireplace    Maison Martin Margiela   \n",
              "4               Lost Cherry                  Tom Ford   \n",
              "..                      ...                       ...   \n",
              "139    Interlude Black Iris                   Amouage   \n",
              "140        Feminité du Bois              Serge Lutens   \n",
              "141                 Halfeti              Penhaligon's   \n",
              "142         Fève Délicieuse                      Dior   \n",
              "143  Utopia Vanilla Coco 21         Kayali Fragrances   \n",
              "\n",
              "                                               keyword  \n",
              "0    [sweet, feminine, woody, unisex, warm, sweetne...  \n",
              "1    [sweet, cognac, warm, vanilla, spicy, unisex, ...  \n",
              "2    [tobacco, vanilla, sweet, spicy, warm, tobacco...  \n",
              "3    [vanilla, sweet, smoky, woody, warm, wood, swe...  \n",
              "4    [cherry, sweet, cherry, bitter, vanilla, warm,...  \n",
              "..                                                 ...  \n",
              "139  [incense, dark, sweet, sweetness, vanilla, smo...  \n",
              "140  [cedar, woody, sweet, spicy, feminine, wood, w...  \n",
              "141  [woody, spicy, unisex, masculine, vanilla, swe...  \n",
              "142  [sweet, vanilla, tonka, cherry, powdery, warm,...  \n",
              "143  [vanilla, sweet, summer, creamy, jasmine, whit...  \n",
              "\n",
              "[144 rows x 3 columns]"
            ],
            "text/html": [
              "\n",
              "  <div id=\"df-4b8f1e43-89aa-4061-a218-815369faf7a6\">\n",
              "    <div class=\"colab-df-container\">\n",
              "      <div>\n",
              "<style scoped>\n",
              "    .dataframe tbody tr th:only-of-type {\n",
              "        vertical-align: middle;\n",
              "    }\n",
              "\n",
              "    .dataframe tbody tr th {\n",
              "        vertical-align: top;\n",
              "    }\n",
              "\n",
              "    .dataframe thead th {\n",
              "        text-align: right;\n",
              "    }\n",
              "</style>\n",
              "<table border=\"1\" class=\"dataframe\">\n",
              "  <thead>\n",
              "    <tr style=\"text-align: right;\">\n",
              "      <th></th>\n",
              "      <th>name</th>\n",
              "      <th>brand</th>\n",
              "      <th>keyword</th>\n",
              "    </tr>\n",
              "  </thead>\n",
              "  <tbody>\n",
              "    <tr>\n",
              "      <th>0</th>\n",
              "      <td>Baccarat Rouge 540</td>\n",
              "      <td>Maison Francis Kurkdjian</td>\n",
              "      <td>[sweet, feminine, woody, unisex, warm, sweetne...</td>\n",
              "    </tr>\n",
              "    <tr>\n",
              "      <th>1</th>\n",
              "      <td>Angels' Share</td>\n",
              "      <td>By Kilian</td>\n",
              "      <td>[sweet, cognac, warm, vanilla, spicy, unisex, ...</td>\n",
              "    </tr>\n",
              "    <tr>\n",
              "      <th>2</th>\n",
              "      <td>Tobacco Vanille</td>\n",
              "      <td>Tom Ford</td>\n",
              "      <td>[tobacco, vanilla, sweet, spicy, warm, tobacco...</td>\n",
              "    </tr>\n",
              "    <tr>\n",
              "      <th>3</th>\n",
              "      <td>By the Fireplace</td>\n",
              "      <td>Maison Martin Margiela</td>\n",
              "      <td>[vanilla, sweet, smoky, woody, warm, wood, swe...</td>\n",
              "    </tr>\n",
              "    <tr>\n",
              "      <th>4</th>\n",
              "      <td>Lost Cherry</td>\n",
              "      <td>Tom Ford</td>\n",
              "      <td>[cherry, sweet, cherry, bitter, vanilla, warm,...</td>\n",
              "    </tr>\n",
              "    <tr>\n",
              "      <th>...</th>\n",
              "      <td>...</td>\n",
              "      <td>...</td>\n",
              "      <td>...</td>\n",
              "    </tr>\n",
              "    <tr>\n",
              "      <th>139</th>\n",
              "      <td>Interlude Black Iris</td>\n",
              "      <td>Amouage</td>\n",
              "      <td>[incense, dark, sweet, sweetness, vanilla, smo...</td>\n",
              "    </tr>\n",
              "    <tr>\n",
              "      <th>140</th>\n",
              "      <td>Feminité du Bois</td>\n",
              "      <td>Serge Lutens</td>\n",
              "      <td>[cedar, woody, sweet, spicy, feminine, wood, w...</td>\n",
              "    </tr>\n",
              "    <tr>\n",
              "      <th>141</th>\n",
              "      <td>Halfeti</td>\n",
              "      <td>Penhaligon's</td>\n",
              "      <td>[woody, spicy, unisex, masculine, vanilla, swe...</td>\n",
              "    </tr>\n",
              "    <tr>\n",
              "      <th>142</th>\n",
              "      <td>Fève Délicieuse</td>\n",
              "      <td>Dior</td>\n",
              "      <td>[sweet, vanilla, tonka, cherry, powdery, warm,...</td>\n",
              "    </tr>\n",
              "    <tr>\n",
              "      <th>143</th>\n",
              "      <td>Utopia Vanilla Coco 21</td>\n",
              "      <td>Kayali Fragrances</td>\n",
              "      <td>[vanilla, sweet, summer, creamy, jasmine, whit...</td>\n",
              "    </tr>\n",
              "  </tbody>\n",
              "</table>\n",
              "<p>144 rows × 3 columns</p>\n",
              "</div>\n",
              "      <button class=\"colab-df-convert\" onclick=\"convertToInteractive('df-4b8f1e43-89aa-4061-a218-815369faf7a6')\"\n",
              "              title=\"Convert this dataframe to an interactive table.\"\n",
              "              style=\"display:none;\">\n",
              "        \n",
              "  <svg xmlns=\"http://www.w3.org/2000/svg\" height=\"24px\"viewBox=\"0 0 24 24\"\n",
              "       width=\"24px\">\n",
              "    <path d=\"M0 0h24v24H0V0z\" fill=\"none\"/>\n",
              "    <path d=\"M18.56 5.44l.94 2.06.94-2.06 2.06-.94-2.06-.94-.94-2.06-.94 2.06-2.06.94zm-11 1L8.5 8.5l.94-2.06 2.06-.94-2.06-.94L8.5 2.5l-.94 2.06-2.06.94zm10 10l.94 2.06.94-2.06 2.06-.94-2.06-.94-.94-2.06-.94 2.06-2.06.94z\"/><path d=\"M17.41 7.96l-1.37-1.37c-.4-.4-.92-.59-1.43-.59-.52 0-1.04.2-1.43.59L10.3 9.45l-7.72 7.72c-.78.78-.78 2.05 0 2.83L4 21.41c.39.39.9.59 1.41.59.51 0 1.02-.2 1.41-.59l7.78-7.78 2.81-2.81c.8-.78.8-2.07 0-2.86zM5.41 20L4 18.59l7.72-7.72 1.47 1.35L5.41 20z\"/>\n",
              "  </svg>\n",
              "      </button>\n",
              "      \n",
              "  <style>\n",
              "    .colab-df-container {\n",
              "      display:flex;\n",
              "      flex-wrap:wrap;\n",
              "      gap: 12px;\n",
              "    }\n",
              "\n",
              "    .colab-df-convert {\n",
              "      background-color: #E8F0FE;\n",
              "      border: none;\n",
              "      border-radius: 50%;\n",
              "      cursor: pointer;\n",
              "      display: none;\n",
              "      fill: #1967D2;\n",
              "      height: 32px;\n",
              "      padding: 0 0 0 0;\n",
              "      width: 32px;\n",
              "    }\n",
              "\n",
              "    .colab-df-convert:hover {\n",
              "      background-color: #E2EBFA;\n",
              "      box-shadow: 0px 1px 2px rgba(60, 64, 67, 0.3), 0px 1px 3px 1px rgba(60, 64, 67, 0.15);\n",
              "      fill: #174EA6;\n",
              "    }\n",
              "\n",
              "    [theme=dark] .colab-df-convert {\n",
              "      background-color: #3B4455;\n",
              "      fill: #D2E3FC;\n",
              "    }\n",
              "\n",
              "    [theme=dark] .colab-df-convert:hover {\n",
              "      background-color: #434B5C;\n",
              "      box-shadow: 0px 1px 3px 1px rgba(0, 0, 0, 0.15);\n",
              "      filter: drop-shadow(0px 1px 2px rgba(0, 0, 0, 0.3));\n",
              "      fill: #FFFFFF;\n",
              "    }\n",
              "  </style>\n",
              "\n",
              "      <script>\n",
              "        const buttonEl =\n",
              "          document.querySelector('#df-4b8f1e43-89aa-4061-a218-815369faf7a6 button.colab-df-convert');\n",
              "        buttonEl.style.display =\n",
              "          google.colab.kernel.accessAllowed ? 'block' : 'none';\n",
              "\n",
              "        async function convertToInteractive(key) {\n",
              "          const element = document.querySelector('#df-4b8f1e43-89aa-4061-a218-815369faf7a6');\n",
              "          const dataTable =\n",
              "            await google.colab.kernel.invokeFunction('convertToInteractive',\n",
              "                                                     [key], {});\n",
              "          if (!dataTable) return;\n",
              "\n",
              "          const docLinkHtml = 'Like what you see? Visit the ' +\n",
              "            '<a target=\"_blank\" href=https://colab.research.google.com/notebooks/data_table.ipynb>data table notebook</a>'\n",
              "            + ' to learn more about interactive tables.';\n",
              "          element.innerHTML = '';\n",
              "          dataTable['output_type'] = 'display_data';\n",
              "          await google.colab.output.renderOutput(dataTable, element);\n",
              "          const docLink = document.createElement('div');\n",
              "          docLink.innerHTML = docLinkHtml;\n",
              "          element.appendChild(docLink);\n",
              "        }\n",
              "      </script>\n",
              "    </div>\n",
              "  </div>\n",
              "  "
            ]
          },
          "metadata": {},
          "execution_count": 23
        }
      ]
    },
    {
      "cell_type": "code",
      "source": [
        "total = [keyword_keybert['keyword'][0][0]] + [keyword_ner['keyword'][0][0]] + [keyword_keybert['keyword'][0][1]] + [keyword_ner['keyword'][0][1]] + [keyword_keybert['keyword'][0][2]] + [keyword_ner['keyword'][0][2]] \n",
        "total"
      ],
      "metadata": {
        "colab": {
          "base_uri": "https://localhost:8080/"
        },
        "id": "kzQVOd9DFsUC",
        "outputId": "27e79547-06f3-4592-b272-094c7d823c83"
      },
      "execution_count": 24,
      "outputs": [
        {
          "output_type": "execute_result",
          "data": {
            "text/plain": [
              "['vanilla', 'sweet', 'sugarsweet', 'feminine', 'strawberry', 'woody']"
            ]
          },
          "metadata": {},
          "execution_count": 24
        }
      ]
    },
    {
      "cell_type": "markdown",
      "source": [
        "밑에는 내가(영노) 새로 추가한 코드.\n",
        "\n",
        "keybert의 keyword개수가 최소 2개 이상으로 일정하지 않기 때문에, keyBERT 키워드가 5개 이상인 것들만, top 10 important keyword(keyBERT weight, frequency)를 keyBERT, NER이 번갈아가면서 나오도록 리스트를 만들어준다음에 데이터프레임으로 합침.\n",
        "\n",
        "5개 미만인 것들은 keyBERT 최소 2개를 넣고, 나머지를 다 NER추출 키워드로 대체"
      ],
      "metadata": {
        "id": "s7or3qp5Ig3W"
      }
    },
    {
      "cell_type": "code",
      "source": [
        "keyword_keybert['keyword'][116] = keyword_ner['keyword'][116]\n",
        "keyword_keybert['keyword'][51] = keyword_ner['keyword'][51]\n",
        "keyword_keybert['keyword'][9] = keyword_ner['keyword'][9]\n"
      ],
      "metadata": {
        "id": "jOEqIgnaGk5j"
      },
      "execution_count": 25,
      "outputs": []
    },
    {
      "cell_type": "code",
      "source": [
        "last_new = keyword_ner\n",
        "last_new['total_keyword'] = \"\"\n",
        "total10 = []\n",
        "for i in range(0,144):\n",
        "  if len(keyword_keybert['keyword'][i])>4:\n",
        "    total10 = [keyword_keybert['keyword'][i][0]] + [keyword_ner['keyword'][i][0]] + [keyword_keybert['keyword'][i][1]] + [keyword_ner['keyword'][i][1]] +  [keyword_keybert['keyword'][i][2]] + [keyword_ner['keyword'][i][2]] + [keyword_keybert['keyword'][i][3]] + [keyword_ner['keyword'][i][3]]+ [keyword_keybert['keyword'][i][4]] + [keyword_ner['keyword'][i][4]]\n",
        "  else :\n",
        "    total10 = [keyword_keybert['keyword'][i][0]] + [keyword_ner['keyword'][i][0]] + [keyword_keybert['keyword'][i][1]] + [keyword_ner['keyword'][i][1]] +  [keyword_ner['keyword'][i][2]] + [keyword_ner['keyword'][i][3]] +[keyword_ner['keyword'][i][4]] + [keyword_ner['keyword'][i][5]] + [keyword_ner['keyword'][i][6]] + [keyword_ner['keyword'][i][7]]\n",
        "  last_new['total_keyword'][i] = total10\n",
        "keyword_new = last_new.drop(['keyword'],axis=1)\n",
        "keyword_new.columns = ['name','brand','keyword']\n",
        "keyword_new\n",
        "keyword = keyword_new"
      ],
      "metadata": {
        "id": "wSgrS5eYDsFk"
      },
      "execution_count": 26,
      "outputs": []
    },
    {
      "cell_type": "markdown",
      "source": [
        "# ELMo를 사용하여 임베딩"
      ],
      "metadata": {
        "id": "HcD0B9FFtbKM"
      }
    },
    {
      "cell_type": "code",
      "source": [
        "pip install allennlp-models==v2.0.1"
      ],
      "metadata": {
        "colab": {
          "base_uri": "https://localhost:8080/"
        },
        "id": "kVD8_qMZF9z0",
        "outputId": "46679428-a88b-4117-e3d0-dd766d478aa5"
      },
      "execution_count": 27,
      "outputs": [
        {
          "output_type": "stream",
          "name": "stdout",
          "text": [
            "Looking in indexes: https://pypi.org/simple, https://us-python.pkg.dev/colab-wheels/public/simple/\n",
            "Collecting allennlp-models==v2.0.1\n",
            "  Downloading allennlp_models-2.0.1-py3-none-any.whl (402 kB)\n",
            "\u001b[2K     \u001b[90m━━━━━━━━━━━━━━━━━━━━━━━━━━━━━━━━━━━━━━\u001b[0m \u001b[32m402.8/402.8 KB\u001b[0m \u001b[31m24.9 MB/s\u001b[0m eta \u001b[36m0:00:00\u001b[0m\n",
            "\u001b[?25hCollecting allennlp<2.1,>=2.0.1\n",
            "  Downloading allennlp-2.0.1-py3-none-any.whl (580 kB)\n",
            "\u001b[2K     \u001b[90m━━━━━━━━━━━━━━━━━━━━━━━━━━━━━━━━━━━━━━\u001b[0m \u001b[32m580.1/580.1 KB\u001b[0m \u001b[31m52.8 MB/s\u001b[0m eta \u001b[36m0:00:00\u001b[0m\n",
            "\u001b[?25hCollecting word2number>=1.1\n",
            "  Downloading word2number-1.1.zip (9.7 kB)\n",
            "  Preparing metadata (setup.py) ... \u001b[?25l\u001b[?25hdone\n",
            "Requirement already satisfied: nltk in /usr/local/lib/python3.8/dist-packages (from allennlp-models==v2.0.1) (3.7)\n",
            "Collecting ftfy\n",
            "  Downloading ftfy-6.1.1-py3-none-any.whl (53 kB)\n",
            "\u001b[2K     \u001b[90m━━━━━━━━━━━━━━━━━━━━━━━━━━━━━━━━━━━━━━━━\u001b[0m \u001b[32m53.1/53.1 KB\u001b[0m \u001b[31m7.0 MB/s\u001b[0m eta \u001b[36m0:00:00\u001b[0m\n",
            "\u001b[?25hCollecting torch<1.8.0,>=1.7.0\n",
            "  Downloading torch-1.7.1-cp38-cp38-manylinux1_x86_64.whl (776.8 MB)\n",
            "\u001b[2K     \u001b[90m━━━━━━━━━━━━━━━━━━━━━━━━━━━━━━━━━━━━━━━\u001b[0m \u001b[32m776.8/776.8 MB\u001b[0m \u001b[31m2.1 MB/s\u001b[0m eta \u001b[36m0:00:00\u001b[0m\n",
            "\u001b[?25hCollecting conllu==4.3\n",
            "  Downloading conllu-4.3-py2.py3-none-any.whl (14 kB)\n",
            "Collecting py-rouge==1.1\n",
            "  Downloading py_rouge-1.1-py3-none-any.whl (56 kB)\n",
            "\u001b[2K     \u001b[90m━━━━━━━━━━━━━━━━━━━━━━━━━━━━━━━━━━━━━━━━\u001b[0m \u001b[32m56.8/56.8 KB\u001b[0m \u001b[31m5.7 MB/s\u001b[0m eta \u001b[36m0:00:00\u001b[0m\n",
            "\u001b[?25hCollecting boto3<2.0,>=1.14\n",
            "  Downloading boto3-1.26.79-py3-none-any.whl (132 kB)\n",
            "\u001b[2K     \u001b[90m━━━━━━━━━━━━━━━━━━━━━━━━━━━━━━━━━━━━━━\u001b[0m \u001b[32m132.7/132.7 KB\u001b[0m \u001b[31m17.7 MB/s\u001b[0m eta \u001b[36m0:00:00\u001b[0m\n",
            "\u001b[?25hRequirement already satisfied: lmdb in /usr/local/lib/python3.8/dist-packages (from allennlp<2.1,>=2.0.1->allennlp-models==v2.0.1) (0.99)\n",
            "Requirement already satisfied: h5py in /usr/local/lib/python3.8/dist-packages (from allennlp<2.1,>=2.0.1->allennlp-models==v2.0.1) (3.1.0)\n",
            "Requirement already satisfied: numpy in /usr/local/lib/python3.8/dist-packages (from allennlp<2.1,>=2.0.1->allennlp-models==v2.0.1) (1.22.4)\n",
            "Collecting jsonnet>=0.10.0\n",
            "  Downloading jsonnet-0.19.1.tar.gz (593 kB)\n",
            "\u001b[2K     \u001b[90m━━━━━━━━━━━━━━━━━━━━━━━━━━━━━━━━━━━━━━\u001b[0m \u001b[32m593.6/593.6 KB\u001b[0m \u001b[31m48.3 MB/s\u001b[0m eta \u001b[36m0:00:00\u001b[0m\n",
            "\u001b[?25h  Preparing metadata (setup.py) ... \u001b[?25l\u001b[?25hdone\n",
            "Collecting transformers<4.3,>=4.1\n",
            "  Downloading transformers-4.2.2-py3-none-any.whl (1.8 MB)\n",
            "\u001b[2K     \u001b[90m━━━━━━━━━━━━━━━━━━━━━━━━━━━━━━━━━━━━━━━━\u001b[0m \u001b[32m1.8/1.8 MB\u001b[0m \u001b[31m81.6 MB/s\u001b[0m eta \u001b[36m0:00:00\u001b[0m\n",
            "\u001b[?25hRequirement already satisfied: scipy in /usr/local/lib/python3.8/dist-packages (from allennlp<2.1,>=2.0.1->allennlp-models==v2.0.1) (1.7.3)\n",
            "Collecting jsonpickle\n",
            "  Downloading jsonpickle-3.0.1-py2.py3-none-any.whl (40 kB)\n",
            "\u001b[2K     \u001b[90m━━━━━━━━━━━━━━━━━━━━━━━━━━━━━━━━━━━━━━━━\u001b[0m \u001b[32m40.5/40.5 KB\u001b[0m \u001b[31m5.0 MB/s\u001b[0m eta \u001b[36m0:00:00\u001b[0m\n",
            "\u001b[?25hRequirement already satisfied: pytest in /usr/local/lib/python3.8/dist-packages (from allennlp<2.1,>=2.0.1->allennlp-models==v2.0.1) (3.6.4)\n",
            "Collecting overrides==3.1.0\n",
            "  Downloading overrides-3.1.0.tar.gz (11 kB)\n",
            "  Preparing metadata (setup.py) ... \u001b[?25l\u001b[?25hdone\n",
            "Collecting torchvision<0.9.0,>=0.8.1\n",
            "  Downloading torchvision-0.8.2-cp38-cp38-manylinux1_x86_64.whl (12.8 MB)\n",
            "\u001b[2K     \u001b[90m━━━━━━━━━━━━━━━━━━━━━━━━━━━━━━━━━━━━━━━━\u001b[0m \u001b[32m12.8/12.8 MB\u001b[0m \u001b[31m94.5 MB/s\u001b[0m eta \u001b[36m0:00:00\u001b[0m\n",
            "\u001b[?25hCollecting sentencepiece\n",
            "  Downloading sentencepiece-0.1.97-cp38-cp38-manylinux_2_17_x86_64.manylinux2014_x86_64.whl (1.3 MB)\n",
            "\u001b[2K     \u001b[90m━━━━━━━━━━━━━━━━━━━━━━━━━━━━━━━━━━━━━━━━\u001b[0m \u001b[32m1.3/1.3 MB\u001b[0m \u001b[31m71.6 MB/s\u001b[0m eta \u001b[36m0:00:00\u001b[0m\n",
            "\u001b[?25hCollecting tensorboardX>=1.2\n",
            "  Downloading tensorboardX-2.6-py2.py3-none-any.whl (114 kB)\n",
            "\u001b[2K     \u001b[90m━━━━━━━━━━━━━━━━━━━━━━━━━━━━━━━━━━━━━━\u001b[0m \u001b[32m114.5/114.5 KB\u001b[0m \u001b[31m13.2 MB/s\u001b[0m eta \u001b[36m0:00:00\u001b[0m\n",
            "\u001b[?25hRequirement already satisfied: tqdm>=4.19 in /usr/local/lib/python3.8/dist-packages (from allennlp<2.1,>=2.0.1->allennlp-models==v2.0.1) (4.64.1)\n",
            "Collecting filelock<3.1,>=3.0\n",
            "  Downloading filelock-3.0.12-py3-none-any.whl (7.6 kB)\n",
            "Requirement already satisfied: more-itertools in /usr/local/lib/python3.8/dist-packages (from allennlp<2.1,>=2.0.1->allennlp-models==v2.0.1) (9.0.0)\n",
            "Collecting spacy<2.4,>=2.1.0\n",
            "  Downloading spacy-2.3.9-cp38-cp38-manylinux_2_17_x86_64.manylinux2014_x86_64.whl (5.0 MB)\n",
            "\u001b[2K     \u001b[90m━━━━━━━━━━━━━━━━━━━━━━━━━━━━━━━━━━━━━━━━\u001b[0m \u001b[32m5.0/5.0 MB\u001b[0m \u001b[31m102.7 MB/s\u001b[0m eta \u001b[36m0:00:00\u001b[0m\n",
            "\u001b[?25hRequirement already satisfied: scikit-learn in /usr/local/lib/python3.8/dist-packages (from allennlp<2.1,>=2.0.1->allennlp-models==v2.0.1) (1.0.2)\n",
            "Requirement already satisfied: requests>=2.18 in /usr/local/lib/python3.8/dist-packages (from allennlp<2.1,>=2.0.1->allennlp-models==v2.0.1) (2.25.1)\n",
            "Requirement already satisfied: typing-extensions in /usr/local/lib/python3.8/dist-packages (from torch<1.8.0,>=1.7.0->allennlp-models==v2.0.1) (4.5.0)\n",
            "Requirement already satisfied: wcwidth>=0.2.5 in /usr/local/lib/python3.8/dist-packages (from ftfy->allennlp-models==v2.0.1) (0.2.6)\n",
            "Requirement already satisfied: joblib in /usr/local/lib/python3.8/dist-packages (from nltk->allennlp-models==v2.0.1) (1.2.0)\n",
            "Requirement already satisfied: click in /usr/local/lib/python3.8/dist-packages (from nltk->allennlp-models==v2.0.1) (7.1.2)\n",
            "Requirement already satisfied: regex>=2021.8.3 in /usr/local/lib/python3.8/dist-packages (from nltk->allennlp-models==v2.0.1) (2022.6.2)\n",
            "Collecting botocore<1.30.0,>=1.29.79\n",
            "  Downloading botocore-1.29.79-py3-none-any.whl (10.4 MB)\n",
            "\u001b[2K     \u001b[90m━━━━━━━━━━━━━━━━━━━━━━━━━━━━━━━━━━━━━━━\u001b[0m \u001b[32m10.4/10.4 MB\u001b[0m \u001b[31m113.2 MB/s\u001b[0m eta \u001b[36m0:00:00\u001b[0m\n",
            "\u001b[?25hCollecting s3transfer<0.7.0,>=0.6.0\n",
            "  Downloading s3transfer-0.6.0-py3-none-any.whl (79 kB)\n",
            "\u001b[2K     \u001b[90m━━━━━━━━━━━━━━━━━━━━━━━━━━━━━━━━━━━━━━━━\u001b[0m \u001b[32m79.6/79.6 KB\u001b[0m \u001b[31m11.0 MB/s\u001b[0m eta \u001b[36m0:00:00\u001b[0m\n",
            "\u001b[?25hCollecting jmespath<2.0.0,>=0.7.1\n",
            "  Downloading jmespath-1.0.1-py3-none-any.whl (20 kB)\n",
            "Requirement already satisfied: certifi>=2017.4.17 in /usr/local/lib/python3.8/dist-packages (from requests>=2.18->allennlp<2.1,>=2.0.1->allennlp-models==v2.0.1) (2022.12.7)\n",
            "Requirement already satisfied: chardet<5,>=3.0.2 in /usr/local/lib/python3.8/dist-packages (from requests>=2.18->allennlp<2.1,>=2.0.1->allennlp-models==v2.0.1) (4.0.0)\n",
            "Requirement already satisfied: urllib3<1.27,>=1.21.1 in /usr/local/lib/python3.8/dist-packages (from requests>=2.18->allennlp<2.1,>=2.0.1->allennlp-models==v2.0.1) (1.24.3)\n",
            "Requirement already satisfied: idna<3,>=2.5 in /usr/local/lib/python3.8/dist-packages (from requests>=2.18->allennlp<2.1,>=2.0.1->allennlp-models==v2.0.1) (2.10)\n",
            "Requirement already satisfied: setuptools in /usr/local/lib/python3.8/dist-packages (from spacy<2.4,>=2.1.0->allennlp<2.1,>=2.0.1->allennlp-models==v2.0.1) (57.4.0)\n",
            "Collecting plac<1.2.0,>=0.9.6\n",
            "  Downloading plac-1.1.3-py2.py3-none-any.whl (20 kB)\n",
            "Requirement already satisfied: wasabi<1.1.0,>=0.4.0 in /usr/local/lib/python3.8/dist-packages (from spacy<2.4,>=2.1.0->allennlp<2.1,>=2.0.1->allennlp-models==v2.0.1) (0.10.1)\n",
            "Collecting srsly<1.1.0,>=1.0.2\n",
            "  Downloading srsly-1.0.6-cp38-cp38-manylinux_2_17_x86_64.manylinux2014_x86_64.whl (211 kB)\n",
            "\u001b[2K     \u001b[90m━━━━━━━━━━━━━━━━━━━━━━━━━━━━━━━━━━━━━━\u001b[0m \u001b[32m211.1/211.1 KB\u001b[0m \u001b[31m25.8 MB/s\u001b[0m eta \u001b[36m0:00:00\u001b[0m\n",
            "\u001b[?25hCollecting catalogue<1.1.0,>=0.0.7\n",
            "  Downloading catalogue-1.0.2-py2.py3-none-any.whl (16 kB)\n",
            "Requirement already satisfied: blis<0.8.0,>=0.4.0 in /usr/local/lib/python3.8/dist-packages (from spacy<2.4,>=2.1.0->allennlp<2.1,>=2.0.1->allennlp-models==v2.0.1) (0.7.9)\n",
            "Collecting thinc<7.5.0,>=7.4.1\n",
            "  Downloading thinc-7.4.6-cp38-cp38-manylinux_2_17_x86_64.manylinux2014_x86_64.whl (1.1 MB)\n",
            "\u001b[2K     \u001b[90m━━━━━━━━━━━━━━━━━━━━━━━━━━━━━━━━━━━━━━━━\u001b[0m \u001b[32m1.1/1.1 MB\u001b[0m \u001b[31m68.0 MB/s\u001b[0m eta \u001b[36m0:00:00\u001b[0m\n",
            "\u001b[?25hRequirement already satisfied: murmurhash<1.1.0,>=0.28.0 in /usr/local/lib/python3.8/dist-packages (from spacy<2.4,>=2.1.0->allennlp<2.1,>=2.0.1->allennlp-models==v2.0.1) (1.0.9)\n",
            "Requirement already satisfied: preshed<3.1.0,>=3.0.2 in /usr/local/lib/python3.8/dist-packages (from spacy<2.4,>=2.1.0->allennlp<2.1,>=2.0.1->allennlp-models==v2.0.1) (3.0.8)\n",
            "Requirement already satisfied: cymem<2.1.0,>=2.0.2 in /usr/local/lib/python3.8/dist-packages (from spacy<2.4,>=2.1.0->allennlp<2.1,>=2.0.1->allennlp-models==v2.0.1) (2.0.7)\n",
            "Requirement already satisfied: packaging in /usr/local/lib/python3.8/dist-packages (from tensorboardX>=1.2->allennlp<2.1,>=2.0.1->allennlp-models==v2.0.1) (23.0)\n",
            "Requirement already satisfied: protobuf<4,>=3.8.0 in /usr/local/lib/python3.8/dist-packages (from tensorboardX>=1.2->allennlp<2.1,>=2.0.1->allennlp-models==v2.0.1) (3.19.6)\n",
            "Requirement already satisfied: pillow>=4.1.1 in /usr/local/lib/python3.8/dist-packages (from torchvision<0.9.0,>=0.8.1->allennlp<2.1,>=2.0.1->allennlp-models==v2.0.1) (8.4.0)\n",
            "Collecting sacremoses\n",
            "  Downloading sacremoses-0.0.53.tar.gz (880 kB)\n",
            "\u001b[2K     \u001b[90m━━━━━━━━━━━━━━━━━━━━━━━━━━━━━━━━━━━━━━\u001b[0m \u001b[32m880.6/880.6 KB\u001b[0m \u001b[31m50.4 MB/s\u001b[0m eta \u001b[36m0:00:00\u001b[0m\n",
            "\u001b[?25h  Preparing metadata (setup.py) ... \u001b[?25l\u001b[?25hdone\n",
            "Collecting tokenizers==0.9.4\n",
            "  Downloading tokenizers-0.9.4-cp38-cp38-manylinux2010_x86_64.whl (2.9 MB)\n",
            "\u001b[2K     \u001b[90m━━━━━━━━━━━━━━━━━━━━━━━━━━━━━━━━━━━━━━━━\u001b[0m \u001b[32m2.9/2.9 MB\u001b[0m \u001b[31m87.6 MB/s\u001b[0m eta \u001b[36m0:00:00\u001b[0m\n",
            "\u001b[?25hRequirement already satisfied: attrs>=17.4.0 in /usr/local/lib/python3.8/dist-packages (from pytest->allennlp<2.1,>=2.0.1->allennlp-models==v2.0.1) (22.2.0)\n",
            "Requirement already satisfied: atomicwrites>=1.0 in /usr/local/lib/python3.8/dist-packages (from pytest->allennlp<2.1,>=2.0.1->allennlp-models==v2.0.1) (1.4.1)\n",
            "Requirement already satisfied: six>=1.10.0 in /usr/local/lib/python3.8/dist-packages (from pytest->allennlp<2.1,>=2.0.1->allennlp-models==v2.0.1) (1.15.0)\n",
            "Requirement already satisfied: pluggy<0.8,>=0.5 in /usr/local/lib/python3.8/dist-packages (from pytest->allennlp<2.1,>=2.0.1->allennlp-models==v2.0.1) (0.7.1)\n",
            "Requirement already satisfied: py>=1.5.0 in /usr/local/lib/python3.8/dist-packages (from pytest->allennlp<2.1,>=2.0.1->allennlp-models==v2.0.1) (1.11.0)\n",
            "Requirement already satisfied: threadpoolctl>=2.0.0 in /usr/local/lib/python3.8/dist-packages (from scikit-learn->allennlp<2.1,>=2.0.1->allennlp-models==v2.0.1) (3.1.0)\n",
            "Requirement already satisfied: python-dateutil<3.0.0,>=2.1 in /usr/local/lib/python3.8/dist-packages (from botocore<1.30.0,>=1.29.79->boto3<2.0,>=1.14->allennlp<2.1,>=2.0.1->allennlp-models==v2.0.1) (2.8.2)\n",
            "Collecting urllib3<1.27,>=1.21.1\n",
            "  Downloading urllib3-1.26.14-py2.py3-none-any.whl (140 kB)\n",
            "\u001b[2K     \u001b[90m━━━━━━━━━━━━━━━━━━━━━━━━━━━━━━━━━━━━━━\u001b[0m \u001b[32m140.6/140.6 KB\u001b[0m \u001b[31m18.5 MB/s\u001b[0m eta \u001b[36m0:00:00\u001b[0m\n",
            "\u001b[?25hBuilding wheels for collected packages: overrides, word2number, jsonnet, sacremoses\n",
            "  Building wheel for overrides (setup.py) ... \u001b[?25l\u001b[?25hdone\n",
            "  Created wheel for overrides: filename=overrides-3.1.0-py3-none-any.whl size=10187 sha256=402f207af0c5cc23492e87679ef83d2ce1c50ffa6999dfe4366f0373de09c052\n",
            "  Stored in directory: /root/.cache/pip/wheels/6a/4f/72/28857f75625b263e2e3f5ab2fc4416c0a85960ac6485007eaa\n",
            "  Building wheel for word2number (setup.py) ... \u001b[?25l\u001b[?25hdone\n",
            "  Created wheel for word2number: filename=word2number-1.1-py3-none-any.whl size=5582 sha256=2d68b10c7ecc29bf56508520ab3b08f2bd42a4835a1ee13e9be3a2d5fe025fcc\n",
            "  Stored in directory: /root/.cache/pip/wheels/cb/f3/5a/d88198fdeb46781ddd7e7f2653061af83e7adb2a076d8886d6\n",
            "  Building wheel for jsonnet (setup.py) ... \u001b[?25l\u001b[?25hdone\n",
            "  Created wheel for jsonnet: filename=jsonnet-0.19.1-cp38-cp38-linux_x86_64.whl size=6332928 sha256=523edf5c10a304110c57942a4624603effae495abb001125511b879357b1a7ed\n",
            "  Stored in directory: /root/.cache/pip/wheels/64/ec/56/de861aae102c449ade2378772abbf9eb7e9acfe9a80f3e6036\n",
            "  Building wheel for sacremoses (setup.py) ... \u001b[?25l\u001b[?25hdone\n",
            "  Created wheel for sacremoses: filename=sacremoses-0.0.53-py3-none-any.whl size=895260 sha256=4bb9c367cc7150851caddb9b5370d4efaf2dd2040671ebfdc2fd1cad13fe1b35\n",
            "  Stored in directory: /root/.cache/pip/wheels/82/ab/9b/c15899bf659ba74f623ac776e861cf2eb8608c1825ddec66a4\n",
            "Successfully built overrides word2number jsonnet sacremoses\n",
            "Installing collected packages: word2number, tokenizers, sentencepiece, py-rouge, plac, overrides, jsonnet, filelock, conllu, urllib3, torch, tensorboardX, srsly, sacremoses, jsonpickle, jmespath, ftfy, catalogue, torchvision, thinc, botocore, transformers, spacy, s3transfer, boto3, allennlp, allennlp-models\n",
            "  Attempting uninstall: filelock\n",
            "    Found existing installation: filelock 3.9.0\n",
            "    Uninstalling filelock-3.9.0:\n",
            "      Successfully uninstalled filelock-3.9.0\n",
            "  Attempting uninstall: urllib3\n",
            "    Found existing installation: urllib3 1.24.3\n",
            "    Uninstalling urllib3-1.24.3:\n",
            "      Successfully uninstalled urllib3-1.24.3\n",
            "  Attempting uninstall: torch\n",
            "    Found existing installation: torch 1.13.1+cu116\n",
            "    Uninstalling torch-1.13.1+cu116:\n",
            "      Successfully uninstalled torch-1.13.1+cu116\n",
            "  Attempting uninstall: srsly\n",
            "    Found existing installation: srsly 2.4.5\n",
            "    Uninstalling srsly-2.4.5:\n",
            "      Successfully uninstalled srsly-2.4.5\n",
            "  Attempting uninstall: catalogue\n",
            "    Found existing installation: catalogue 2.0.8\n",
            "    Uninstalling catalogue-2.0.8:\n",
            "      Successfully uninstalled catalogue-2.0.8\n",
            "  Attempting uninstall: torchvision\n",
            "    Found existing installation: torchvision 0.14.1+cu116\n",
            "    Uninstalling torchvision-0.14.1+cu116:\n",
            "      Successfully uninstalled torchvision-0.14.1+cu116\n",
            "  Attempting uninstall: thinc\n",
            "    Found existing installation: thinc 8.1.7\n",
            "    Uninstalling thinc-8.1.7:\n",
            "      Successfully uninstalled thinc-8.1.7\n",
            "  Attempting uninstall: spacy\n",
            "    Found existing installation: spacy 3.4.4\n",
            "    Uninstalling spacy-3.4.4:\n",
            "      Successfully uninstalled spacy-3.4.4\n",
            "\u001b[31mERROR: pip's dependency resolver does not currently take into account all the packages that are installed. This behaviour is the source of the following dependency conflicts.\n",
            "torchtext 0.14.1 requires torch==1.13.1, but you have torch 1.7.1 which is incompatible.\n",
            "torchaudio 0.13.1+cu116 requires torch==1.13.1, but you have torch 1.7.1 which is incompatible.\n",
            "en-core-web-sm 3.4.1 requires spacy<3.5.0,>=3.4.0, but you have spacy 2.3.9 which is incompatible.\n",
            "confection 0.0.4 requires srsly<3.0.0,>=2.4.0, but you have srsly 1.0.6 which is incompatible.\u001b[0m\u001b[31m\n",
            "\u001b[0mSuccessfully installed allennlp-2.0.1 allennlp-models-2.0.1 boto3-1.26.79 botocore-1.29.79 catalogue-1.0.2 conllu-4.3 filelock-3.0.12 ftfy-6.1.1 jmespath-1.0.1 jsonnet-0.19.1 jsonpickle-3.0.1 overrides-3.1.0 plac-1.1.3 py-rouge-1.1 s3transfer-0.6.0 sacremoses-0.0.53 sentencepiece-0.1.97 spacy-2.3.9 srsly-1.0.6 tensorboardX-2.6 thinc-7.4.6 tokenizers-0.9.4 torch-1.7.1 torchvision-0.8.2 transformers-4.2.2 urllib3-1.26.14 word2number-1.1\n"
          ]
        }
      ]
    },
    {
      "cell_type": "code",
      "source": [
        "import pandas as pd\n",
        "from sklearn.manifold import TSNE\n",
        "from allennlp.modules.elmo import Elmo,batch_to_ids\n",
        "import spacy\n",
        "import seaborn as sns\n",
        "import re\n",
        "import gc"
      ],
      "metadata": {
        "id": "J70mEMZsGqWT"
      },
      "execution_count": 28,
      "outputs": []
    },
    {
      "cell_type": "code",
      "source": [
        "data = pd.read_csv('/content/drive/MyDrive/23SS_NLP/perfume_info.csv')"
      ],
      "metadata": {
        "id": "mY1aPlLtIJwE"
      },
      "execution_count": 29,
      "outputs": []
    },
    {
      "cell_type": "code",
      "source": [
        "data.review[1]"
      ],
      "metadata": {
        "colab": {
          "base_uri": "https://localhost:8080/",
          "height": 91
        },
        "id": "jLUyHUsKISXz",
        "outputId": "5f71d6cf-75b5-4515-e6c0-b4930d0c026b"
      },
      "execution_count": 30,
      "outputs": [
        {
          "output_type": "execute_result",
          "data": {
            "text/plain": [
              "'first sprayed boozy warm apple pie lasted second. afterwards cognac immediately took spotlight came strong really strong. im someone drink alcohol might dont feel really type way scent something make understand appeal many enticing. cognac note strongest minute fragrance deepens complex scent. there hint spicy cinnamon give warm comforting aspect there also oak wood give well rounded woody earthy aspect. underneath could sense creaminess tonka bean one absolute favorite note sandalwood. pralin vanilla gave lovely sweet scent make gourmand perfume. definitely nice warm mature boozy scent. everybody wont added collection im really glad chance test loving kilian project delicious truly want keep close you. entirely appropriate certain place depending body chemistry .anyway furthermore make wearable signature scent. skin scent. cognac cinnamon apple pie boozy sure sweet oriental floral plastic powder tobacco coffee citrus drowning jasmine fennel . thing smell like cola dr. pepper lip smacker nose reviewer beneath me. cinnamon raise spiritual vibration one unisex boozy scent usually arent cup tea. maybe might tends lean towards masculine seeing much hype online decided give try. first spray cognac come strong. thought would regret spraying tend associate boozy note like cognac strong difficult scrub off. however smoothly transition freshly made cinnamon beverage one would consume holiday season. could barely smell tonka bean woody note thats okay strength praline vanilla note make it. fragrance lasted hour skin. totally would buy fall winter season travel spray form like dabble different fragrances. torn fragrance. nice although bit surprised high average rating many reviews. kind effect tom ford tobacco vanille. heavy cloying nose really like perfume wear opposed way around nose. think nose also changed years. used adore flowerbomb recently smelled similarly heavy cloying me. absolutely recognize matter taste quality. think high quality product cognac cinnamon good think might try spraying tiny amount definitely beast mode. car dipped napkin water try rub away nothing obviously awesome love it. think totally unisex sweet long lasting high sillage cooler weather better night. smell lot like killian apple brandy sans apple. killian brand dna apparent. smell quite synthetic sweet bit like angle food cake. despite marketed unisex definitely lean feminine. highlighted note oak cognac tonka easy pick rest blend together. doesnt smell cheap doesnt live price tag either. performs well cooler weather long isnt cold degree celsius . overall fun wear occasion run dont walk means. tested upon walking tested least perfume know coffee job anymore bam completely different sensory experience taken back first whiff sens activated perfume tickled something untouched. never smelled anything like yet smell took back childhood could perfume ive never smelled warm hug undeniably top tier gourmand. masterfully blended note sneak like waiting finish first hug bam second hug third hug sense taste activated fourth. really smell second drooling unisex leaning ever slightly male. however would refreshing change excessive floral perfume would usually get lovely lady red. pricey yes. worth depends ask. perfume blind buy worthy know body chemistry react perfume. conclusion want spray want drink could sweat mean glass cognac right instant love me. first tested sephora bought bottle day. first wore got much sweetness. ive continued wear tend smell woody note throughout day. experience seems decent projection silage first applied wear close skin soon after. im able smell nearly whole day. price wish bit stronger. bottle seems go quick. costco really great deal fragrance right hesitant buy price. nearly good one doubt it. angel share fall warm sweet spicy category put toe toe heavy hitter like layton spicebomb extreme. angel share boozy go smooth big chaser cinnamon apples. surprised soft perceive one though. like strictly enforces one drink maximum policy. still delicious gourmand ish treat. vanilla really shape fragrance quickly enlists note accord service. dark vanilla either approachable inviting edible. got wood ground aforementioned cinnamon booze deepen character. overall really kind simple. lay beauty much like cocktail clearly draw inspiration from. angel share delicious scent. describe boozy cinnamon concoction wrapped woody tonka vanilla goodness. give scent effect baked good apple pie cinnamon sprinkled it. yum. smell aroma cognac really really enjoy scent. sandalwood give thick creamy texture dry down. perfect scent wintry cold weather. longevity sillage excellent scent keep radiating skin clothing washed off. monstrous. bonus tip smell like mouthwatering snack pair fenty skin butta drop shimmering whipped oil body cream. cinnamon cream everything. thank later firm love me. love love love vanilla based perfume lover. luxurious slightly smokey alcoholic scent first. dry warm subtle sweet like soft cotton candy. bottle fragrance masterpiece. side project strong wish especially hour wear. anyhow replacing favourite perfume tom ford vanille fatale. could wear day maybe night would top something smokier fiercer spicy up. people comparing angel share oajan pdm absolutely copy. two different fragrance serf purpose. start oajan feel cognac much better little bit spicier overall much mysterious scent perfect winter night. angel share hand definition gourmand scent basically apple pie sprinkled cinnamon freshly taken oven everybody already saying . lightly feel cognac inside aroma definitely doesnt pungence alcohol oajan little bit bad way . want smell like desert specifically caramelized apple dipped cognac cinnamon top way go. personally find frag feminine oajan definitely masculine. basically pair different twins. angel share gourmand scent day oajan booze type scent night. opening spray favorite part strong hit expensive cognac woodsy pleasantly medicinal quality. turned doughy way sweet skin like weak version cacharels loulou. bad smell mean already loulou dont need fragrance turn nearly identical skin. fiance took delicate dessert like yet almost bitter quality. liked bit better although fragrance skews feminine. like love. price im sure full bottle worth it. gourmand lover angel share gourmand fragrance really enjoy. love first sniff. think unless overspray possibly dislike it. easy wear feel approachable much approachable apple pie also multi dimensional complex without pretentious. first experienced angel share sephora tester botte empty still smelled divine bought three sample vial see wearable finally pulled trigger saw sale costco price cant beat way kudos branding team packaging name unique clever found term used cognac whiskey making describe loss aging substance due evaporation. never thought id want smell like apple pie absolutely love sexy cozy. unlike scent collection. sweet entirely unisex. project well without knocking anyone out. use three spray thats enough apple pie cloud ive worn cold warm evening remained sexy. draw compliment inquiries. uplifting scent cause smile hugging. still smell wrist clothing hour later. planning acquiring full bottle last sample bottle run dry wont lie fully expecting kind hoping wouldnt like this. im fan sweet smell especially fruity smells. took surprise. love boozy smell angel share carry cognac note boldly carry rest smell way balance sweet note beautiful mature way. oh boy apple pie smell. perfect american apple pie latticed pastry burnt sugar top. smell make feel home maintains sex appeal make feel youre sat armchair bar fire drink hand. great smell. opportunity try one dont miss out. read review saw review online ordered it. ordering went perfume shop test it. lasted hours. ordered full bottle. peak retuning perfume. went back shop smelled it. sure return it. morning inner voice told open open . listened inner voice opened perfume. simply magic bottle. one loved perfume one cherished one. smell fantastic sexy rich expensive. get cognac opening move apple pie cinnamon. drydown pure magic tonka absolute. conclusion tester perfume shop spoiled know. watched review youtube youtuber mentioned good perfomance. even told bad experience tester. later came back channel told right. fragrance longevity hours. projection hour batch perfume purchased batch. blind buy yes like gourmands. fragrance love first sniff. unfortunately found sniff sniff long like eating much desert start feel bit sick want sniff something else. wearing sort like trapped apple pie hahaha. said really gorgeous fragrance would love smell someone else gourmand girlie myself. also dislike fireplace reason. anyone else love hate relationship fragrance love cognac note find bit cloying wear try nasamotto baraonda. whiskey note world sweetness come ambroxan rose. ok tried didnt like skin. felt cloying manly. anyhow also would never buy kilian used rapper french montana model promo ad angel share supposedly sexually assaulted woman different occasion report woman kilian support brand fragrance....left sour taste even gift someone scent vanity. sexual assault ok anyone. sat warmth fireplace velvet chaise lounge indulging boozy spicy warm apple pie topped vanilla ice cream. finish finest praline also laced alcohol. feeling perfume evokes. pure essence coziness luxury. sillage incredible spray clothes guarantee smell month later. problem never feel special enough wear much treat cognac kissed love spell want feel like living court louis xvi girl marie antoinette lounging satin popping bon bons stealing elicit cognac soaked kiss secret lover look beaut. omnipresent cognac note warmed addictive complexity tonka bean cinnamon oak sandalwood. praline vanilla come fair share round real masterpiece fragrance. indulgent intoxicating. first niche perfume loved enough buy full bottle beginning . smelt first time vacation lady niche perfume counter sprayed paper strip chucked bag forgot it. every time opened bag would get whiff boozy cinnamon apple pie obsessed smell end day returned mall next day picked without thinking twice. worn maybe time past year doesnt feel like casual smell precious id use special occasions. opened niche buying obsession sure though.... loved opening super reminiscent apple pie skin close turned spicy masculine leaning. would get waft air tolerable sweet boozy. punchy first two hour stage became intoxicating scent. spice fade sweetness come forward mix booziness way smell addicting. also bottle absolutely gorgeous probably prettiest bottle own. smelling bottle first spray smelled like apple pie sweet cozy. love gourmand scent opening me. however minute apple pie scent disappears almost completely left smoky tobacco note especially skin last skin clothes long either want full bottle love opening smelling bottle know worth considering dry longevity. expecting smell really boozy first mostly got apple cinnamon like apple pie spice blends. little sweet enjoyed spicy aspect. hour later hangover set booze touch latex. whenever smelled like past said done something regret. realize fragrance line liquor themed bag. seem high quality though overly synthetic cloying see popular. got sample kilian first spray fell love scent. smelled like apple pie cinnamon boozy. today used whole sample different experience. opening still like apple pie quickly turn tonka bean bomb. reminds myrrh tonka jo malone. smell exactly drydown disappointing little. think prefer boucheron ambre dalexandrie amber vanilla drydown. dont get wrong angel share lovely fragrance pull skin much tonka biggest fan tonka. top favorite fragrance maybe even top ... im huge warm spicy gourmand collector fit well. im honestly little surprised many people consider unisex masculine dont find really be. find feminine still love guy wholl wear feminine scent woman since love would love smell men too. last really long time woke morning still faintly able smell day before. usually like people near smell whole room. smell throughout day put never nauseates give headache. really perfect gourmand definitely sweet cinnamon apple pie smell mixed kinda lotion boozy smell. find warm spicy scent different many one collection dont really another scent replicates this. definitely unique memorable. thought scent month end pulling trigger actually buying couldnt get mind. found smelling every time went mall intentionally. bottle also unique look nice displayed never worry knocking sturdy base. think price equal get definitely smell complex beautiful. want love ala undecided. get waft sweet boozy loooove that. put wrist nose far spicy me. skin hold cinnamon note dear life end smelling bit like jar christmas potpourri me. necessarily bad thing sure something personally want smell like. going give another shot desperately want love bottle die shallow know eh . update hour later turned nauseatingly pure black licorice skin excited try fragrance truthfully find nauseatingly sweet overwhelmingly smell like cinnamon. gourmand lover expecting perfume smell like boozy apple pie. really smell overpowering cinnamon maybe hint booziness really really concentrate . give credit due one distinctive fragrance smelled could easily pick lineup. one detecting tobacco know kind smelling hallucination maybe like cognac party alcohol smoke cigarettes. something smoky kind incense something hookah. hour strong feeling clothes smoky like party. need run shower. dont understand excitement. fragrance substance compared hermessence ambre narguile. hermessens completely different mood clean without smoke transparent clear transparent. said like appreciate got doughy note ive noticed lot candle start gourmand trend dont love wish didnt rest exquisite. bready note going around wild u gourmand lover ask dessert give u bread sheesh. smell like bread dough cinnamon gourmand want cookie dough. odd def get fried dough im already fried need smell donut vibe pie crust mentioned specifically donut candle straight glutinous smelling taste make feel glamorous wont buying bottle cozy yes though. also vaguely reminded tom ford noir por femme adore recommend kulfi like wearing walking bread aisle bakery. much like fall gourmand candle yes also dangerously alcoholic scented like wouldnt wanna spray car get pulled over. sometimes really like despite dough hunt perfect cinnamon smell like food dessert savory sweet price need perfect. wore perfume th december must say really helped set festive mood christmas loove one amazing perfume. sophisticated time easy fell love it. packaging also beautiful. first sceptic one perfume somehow managed get skin. wish boozy though. love boozy fragrance expecting little booziness tried especially reading review many people characterized boozy . little bit. get sweet fruity liquor rather cognac. definitely sweet apple cinnamon pie side still love also smell killian dna it. tried love killian im saying theyre similar share dna. personal opinion though last thing price... definitely great perfume still little overpriced. angel share gorgeous fragrance first foremost stick long. envy project amplifies lasts. lucky yous apply spray walk directly family member within foot smell it. literally walk say smell neck. get compliment anyone angel share shy reach one. finally hit food gourmand scent reminds french toast love much. think batter made rich whole milk hot cream vanilla bean steeping maple sugar hefty shake cinnamon shot golden oak barrel aged cognac. dip thick slice sourdough bread soak elixir put right pan slightly browned butter. warm cinnamon mingles mild tang toasted sourdough bread caramelized maple sugar br l e side hit flamb cognac. nose angel share. exquisite warm rich opulent unquestionably gourmand. cognac front centre throughout manages smell cheap like lot boozy fragrances. mixed sweet vanilla praline warm spiciness cinnamon smell like boozy dessert. beautiful gourmand make sure like youre thinking buying this. angel share would go perfectly cold night dressed nice restaurant upscale bar. price id like cap glass though. one pleasant surprise would never tried based note branding got free sample sephora order hooked. initially sprayed sample card left sideboard living room every time walked loved decided try ended buying full bottle later week. one well blended enough hard time picking individual note definitely get prominent warm oak note. give impression sweet whiskey barrel smell me. husband said initial spray smell like pear thought kind weird. sure get oak cognac prominently vanilla praline acting subtle tempering sharp bitterness oak have. certainly isnt anything like praline say ariana grande perfume. dont get cinammon sandalwood all. tend get impression oiliness something like generic hand cream tonka usually here. little creaminess. milkiness smoothness. performance longevity excellent me. pleasant cloud day last clothes days. perfect cold would say inoffensive enough worn sparingly. generally spritz aimed chest spritz air hair youre type go ham spritzing would probably become cloying overwhelming quickly. would say unisex possibly slightly feminine leaning sweetness certainly isnt sweet unisex fragrance like fireplace nose solid unisex me. hot tip laying around layered naomi goodsirs bois dascese phenomenal. imagine good smokey perfume would layer beautifully dry pure smokiness bois dascese really blended perfectly. finally got around one radar. skeptical blind buying since people like complain cloying is. extremely happy add collection. people say apple pie right. start apple pie dry slight apple pie mostly cinammon roll. type person really good cloying fragrance get migraines. seem cloying sweet bad way. overspray yea might headache inducing spray perfectly fine. wasnt meant something spray times. anything spray yea yourself. scent amazing. one best fragrance ive ever smelled. skyrocketed favorite fall winter scent easily ive smelled plenty popular ones. would call masterpiece. satisfied purchase see popular. warm gooey bakery style cinnamon roll emphasis booooozy. blind bought since known crowd pleaser. smell lot spicier skin test strip almost returned really grew indeed earned compliment everyone touted to. holiday exclusive scent me. picture wearing much outside nov dec nice confidence booster holiday party gatherings. first got loved yes still like thing feel wished could tweak example like making little darker maybe little oaky. got last winter used half bottle time still really appreciate scent sometimes find little cloying projection good longevity hour safe blind buy hmmm like spicy boozy gourmand yes looking something depth may disappointed. also partner absolutely hate wear say make smell alcoholic. like hate best try travel sample buying full bottle okay...i know fragrance super hyped recently write may super unpopular telling truth. liked first sniff bought store. also sprayed shirt. boozy powdery def smell like apple pie. sound amazing right well time got home entire car people complained headache entire ride home. much immediately take shirt got home make go away. one scent smell good first smell much one thing want go away. fragrance one every single person around complained it. never happened before. wanted like one much major me. think people make like hyped reality boozy something. hard pass. autumn_moon said right first impression underwhelming going skin scent. oh no..no no...it last aaaall day project aaall day sooo sweet best f way possible. christmas time period heck there like time. ive wearing last week feel like cookie. brandy apple pie. lovely stunning absolutely gorgeous. im love fellow chinese folk associate smell traditional chinese cough medicine la dry bit sickly sweet medicinal note skin definitely me. attest sillage though dabbed atomizer onto back hand even spritz scent everywhere. unfortunately unable comment longevity washing right smell strong. thankfully got sample may try paper later really curious find complex cosy note reviewer getting. first fifteen minute wear hardly present. thought might turn performer perhaps barely skin scent meant enjoyment only. but... wait iiiiittttttt... boom sudden thing started projecting like crazy. conservative spritz manufacturer sample intensity perfume went quietly sitting dark curtain drawn someone turned bat signal aimed directly face. whoa. angel share sillage monster walk hallway still smell walk way back rest world im guessing. didnt wear public still smell scent trail double back step pretty safe bet would noticeable people too. hoping heavy dose cinnamon apple pie others described however mostly pull sweet. fragrance give prominent recognizable cinnamon note dont belong fragrance family as. get overwhelming dose sugar similar sugar syrup hint apple pie spice sliver actual apple maybe dash liqueur thrown in. hour wear definitely detect praline vibe beautiful well done appealing dont get wrong... wasnt exactly expecting read description perfume. dont get woody aspect oak sandalwood wear it. all. oh well must way interacts skin guess. dont love definitely dont hate respect incredible sillage projection experienced. someone else could amazing simply didnt get complexity hoping wore it. angel share... me. delicious opening strong hit cognac cinnamon. like smell comforting homey perfect night out. cognac strong get almost medicinal first hour dry smell beautiful warm yummy vanilla praline. one spray go long way overall love scent enough buy full bottle. looking warm spicy sweet definitely give try angel share lovely fragrance well composed smell high quality. biggest issue fragrance lack density potency overall performance relative price volume. lot designer fragrance market give liquor run money aspect perfumery. currently angel share apple brandy rock kilian probably purchase fragrance house due much better value quality offering obtained fragrance house niche designer. angel share definitely unisex. angel share easily worn anytime year season due soft fleeting scent characteristic. angel share truly nice enough fragrance own. truly afford retail discounted price fragrance. first bit disappointed scent skin lean little masculine woody lot review lead believe. cinnamon strongest note almost smell like woody elevated cinnamon toast crunch cereal apple juice. say though really grew course day. kept getting whiff thinking oooooh remembering me. get feeling keep growing probably end shelling full size truly unisex masterpiece. woodsy smoky boozy touch vanillic... love layering sensual amber lotion. cast slightly feminine light without affecting scent itself. lovely hear word unisex exactly be. something smell good anybody body chemistry aside. love skin think smelled man would obsessed. even hefty price tag definitely think full bottle worthy. definitely occasion scent every day could definitely every day scent fall winter months. perfect scent wear date really nice dimly lit steakhouse speakeasy. thats vibe get it. lovely like fragrance lot bottle stunning. could afford buy bottle right sampling absolutely would. get sweet boozy apple pie everyone talk about. truly lovely perfect cold weather. im surprised enjoy cinnamon much do. fragrance definitely worth hype. im going treasure sample maybe next fall ill get travel spray sephora vib sale. difficult time kilian fragrance forbidden game close love gorgeous juicy peach nectar opening cheap shampoo dry ruin thought wouldnt exception. received free sample order sephora admit im kind digging it. smell like home office mafia he one one meeting consigliere watch much mob stuff lol . honeyed cigar smoke wafting around potpourri made imported dried fruit hint cognac remnant glass slight feminine touch indicating wife stopped earlier meeting say hello. totally style im pleasantly surprised doesnt smell harshly boozy feared... blind bought bottle finding good deal online risky stilll expensive ive read multiple review saying safe blind buy... feeling ill absolutely love this. cant wait receive next week. edit received today wearing little bit hour now. different expected sure feel cognac note strong. like cinnamon infused cognac. right sprayed thought maybe strong cognac note would fade minute still smell strongly. nice love it. try soon feel like might learn love one. smell described people watch youtube. decadent sweet gourmandy boozy complex delicious sephora sample expect people finding little more. think masterpiece fragrance. something think could wear lot though. absolutely love every part it. expensive sure smell like too. get sample came back say stuff intoxicating ly addictive wear everyday damn dont smell bottle time. good got real compliment too. get sample wanted like this. others made sound delicious get killian fragrances. punchy rather obnoxious exception. perfume lover fan beast mode loud sillage last day blah blah blah... well crafted perfume need shout. carry dignity float skin like silk pajamas. angel share loud. best note oak still washed off. wanting try while. somehow ended free sample sephora excited. decided try tonight went boyfriend company party. fit well atmosphere let tell expectation blown away. heaven quite literally. understand alot comment right sense. immediately picked gormand sweetness smelled like southern apple fritter wore boozy intoxicating scent. price tag whole bottle definitely much sample definitely well loved. smell like holiday season lot cinnamon apple pie oak table. booziness unbearable fact barely get booziness. like aroma fill room apple cooked well marinated load cinnamon drowned brown sugar syrup mute brightness apple. shot cognac added simmering stove evaporating leaving essence. simply sweet vanilla cinnamon roll swirl touch apple booze really standout blended well. feel warm angel share actual gourmand cozy delicious long lasting hour projecting specific term wear comparison thoo date delight think smell different opening. thoo smell incensed middle eastern spicier smokier drier woody le sweet touch date join closer angel share dry down. gallagher fragrance ro da smell similar actually get booze unlike angel share. cinnamon prominent kayali invite comparable one like cinnamon infused unsweetened big red gum lean medicinal. completely different take. like love. bought secondhand good price otherwise probably wouldnt bought it. find pretty obnoxious smelling time heavy cinnamon woody notes. also give little minty touch . time really warm cozy. conclusion fragrance split personality disorder love killians rolling love black phantom intoxicated waaay more. opening leaf one nostalgic drooling reason perceive absolutely delicious homemade cherry jam. brings back memory child would glass ice water spooning straight jam jar. start feel cognac oak barrel. almost see gentle saint bernard bottle gin around neck next hour angel share take u sweet varieties. seems chewing gum vibe come dangerously close candy floss area infinite sweetness perfume manages retain finesse rarely perceive gourmand perfumes. sillage longevity price value overall actually smell booze one might suitable work perfume lol . really smell like apple pie booze sweet thought would . dry reminds love fest burning cherry way smell tiny bit oud. bit like amber invite only. ok . love got princess angel share recently first time smelling kilian scents. expected honest nice enough keep layering scents. edit today smell like sweet cherry almond like lot yesterday dry hour smell like burberry fancy love way . . another edit . ok become fave recently trued oakcha dupe . . fave im still new fragrance game think favorite gourmand ive tried far. smell like cinnamon roll drenched brandy sauce. wore halloween party got bunch compliment it. last decently long time good projection nothing crazy. sweet fragrance get youd sort thing like this. personally think absolutely lovely. downside imo price well territory high end niche brand like xerjoff frederic malle. even though slightly prefer smell one something like oajan parfums de marly far better value. perfume expensive someone breathes lung lose dollar bank account thing right better free parking space perfume sweet rock sprayer get caries teeth first degree diabetes perfectly balanced upper class fragrance golden chain grows around neck drake add instagram. never take bath life stick life like father first belt hit pure perfection sooooo price... taken prescription oh wow stunning. gourmand lover like near perfection bottle. cinnamon cognac start reasonably strong middle dry note divine smooth. last day fade closer intimate scent near end. overall colder season scent tbh love scent much might see hold summer night. reason dont pick much apple pie like others do. lightly drizzled cinnamon bun soaked vanilla cognac pralines. comforting timeless. year old woman pull slightly feminine chemistry. however truly unisex anyone could pull love scent category. wish wasnt expensive might purchasing mini size time lol performance projection . could smell showering trace clothes three day after. easily last hour anymore spray get overpowering cloying. open cognac dried fruit raisin date apple pie. slight burnt sugar quality guess people associate baking cinnamon paired apples. somehow similar bacc rouge . dislike gourmand perfume often sickly britney fantasy hi hello well balanced sophisticated wood amber note . tried knew straight away needed usually hold month buy sample. well liked compliment getter. begin review... much like already turned onto scent testing brooklyn fragrance lover alexandria took well year finally pull trigger it... im gonna lie wish bought sooner. seems community find feminine fragrance think totally unisex. think like cinnamon slight apple pie scent right alley. say isnt fault formula unfortunately think fragrance start little sweet give hour becomes something truly magical. mid one realistic cinnamon ive ever smelled backed sweetness assume praline add chocolatey backbone stay pretty linear dies. ive seen people saying dy pretty quick ive getting around hour perfect me. get hand whether full bottle sample... worth investment. give light fantano scale adore scent. thing beast me. long projection range. leaf enticing smell trail last forever. boozy woody sweet seductive. ideal winter fall seasons. opinion outstanding masterpiece. opulent glutton. warm apple caramelised brown sugar load cinnamon greet open package. warm apple pie oven. toasted burned aroma mean nice manner. get apple cognac dried fruit grape raisins. beautiful scent one really sweet boozy quite cloying annoying. couldnt wear something smell bit weird see hyped people love it. ill take pdm oajan one million prive day this. unfortunately. edit wrong wearing again..... understand im happy gave another chance boozy super sweet im used think one better scent fall winter time. highly recommended fragrance wouldnt take pdm oajan one million prive best style. something happened one time cant wear it... originally smelled sephora felt like amazing cinnamon apple pie fragrance. purchased full size regretfully travel size . wore instantly got inexplainable headache. maybe already slight headache made worse one two fragrance given headache one bubble bath margiela replica line . havent returned think late meet anyone want might give them. sad still entirely full. think might boozy quality make stringent nose right now. im disappointed rather circumstance lead able wear well done fragrance every aspect. like rd review perfume already. something happened yesterday wore whole day. first time felt pulling masculine me. really love perfume already gone half bottle yesterday thought maybe much . try couple weeks. maybe hormone acting wild lol update sold it. whole year loving could stand anymore. definitely pull masculine cannot unsmell anymore im sad used praise fragrance. cabin mountains. fresh cold crisp air cinnamon scented pinecones. walking quaint main street pine overhead orange crunchy leaf underfoot catching whiff chunky scarf. fireplace old fashioned hot toddy cocktail cinnamon stick clove whiskey gal . get apple pie reference however stay woody spicy me. overly sweet. oakiness cinnamon tamper balance sweet. scratch itch l de lolita. love cinnamon forward frags one lovely. wore cold day office. afraid heating office would make stuffy case all. stay woody spicy actually freshens day wear on. could see sprayed hot stuffy overcrowded space could become much. usually hit arm spray call good day. definitely suited fall winter. would make lovely holiday scent. evokes small town charm pinecones. almost perfect. reason like dont love opening. sometimes little bit synthetic harsh crystallized honey note sometimes dont notice much. good thing though opening doesnt last long scent evolves beautiful cognac caramel vanilla cinnamon concoction. scent . longevity . sillage . uniqueness quality value versatility . unisex girlfriend love it. suitable fall winter. loathe sugary caramel mess. complete disappointment. thank angel got sample. many company release fume sweet make teeth ache oudhy make head ache. please bring back oakmoss better yet bring back variety. mention fact scot expected top note whisky brandy. cognac nothing term angel share. fyi angel share romantic term annual rate whisky lost cask maturation due evaporation. liquid would evaporate heaven dubbed angel share. scientific point view however volume liquid turn gas leaf barrel. info wikapedia. worth hype. everything. warm lightly spiced apple cinnamon cocktail. dry creamy lightly woody. sweet whole time. project beautifully get lot compliments. downside find actually doesnt wash clothes kind wear skin. worth money. wasted money dupe id suggest go real thing. worth money like apple cinnamon honest though perfectly blended doesnt smell heavy cinnamon heavy apple. creamy beautiful. covered whipped cream. sweet fragrance either hit miss me. wanted try high list recommendation across form bodycare perfume social media. heard lot perfume described boozy one deserves descriptor tried. although found kilian fragrance like find perfume usually perform well term longevity sillage problem there. ultimately reason like perfume cognac note strong me. well crafted think sample already taste. sweet loud long lasting something sweet. huge fan sweetness gourmands. like apple cinnamon aspect would love try something else provides one even coldest sub zero f day using tiniest amount could last two hour needing layer something wash off. wouldnt want enclosed space around someone else wearing it. somehow fragrance manages sparkle like gorgeous bottle. boozy cinnamon fizz greets first spray sour reminiscent apple cider cognac presume though liquor connoisseur . like guerlain shalimar angel share reach toward ethereal realm discreetly delicious understated manner reek old money. also benefit sprayed directly onto neck opposed wrist close inhalation come across heady alcoholic. luxurious fragrance doubting that. blend subtle sexy spicy cinnamon mingling sweet velvety vanilla mysterious baked apple note truly something special reminiscent christmas would make great evening fragrance autumn winter. take insipid medicinal sweetness baccarat rouge amplify layer cheap smelling vanillin iso e super drown cognac funsies gargle cinnamon challenge. angel share. dont dare try wash skin bc somehow remnant get even worse. go without saying delicious want eat wear it. also craving sweet wear husband love need spray lot want last fl even winter there humidity. tend save one cold days. dont understand hype around fragrance. almost bought full bottle decided get sample first. smell repulsive cant imagine smelling whole day. warm sweet spicy feel like cola. well fragrance look like rich scent one hardly stay hours. tested store mmmm witchcraft boozy rich sweet spicy bliss. even huge gourmand person lot caramel make sick instance delicious. yet know dry smell long lasting planning get travel spray update post that. smell exactly like slow cooked stewed apple. kind get spiced apple pie apple cider scent nothing else. incredibly overpowering. first liked soon became scent kind make feel sick. sickly sweet gourmand. honestly cannot see hype about. clone good old escada collection. cola tobacco. dont wear gourmand perfume would invest bouquet ideale instead one smell refined also much stronger. first smell like cola second smell fade away almost nothing smell good. want drink it. almost like spray enough it. last long though. bought dupe oil diffuser also want house car smell like it. masterpiece perfume. fragrance smell yummy intoxicating cant wait get hand bottle. smell kind like walking luxurious hotel smelling drink bar dressed spicy vanilla apple fragrance imagine together. havent tested longevity yet feeling wont problem it. fan sweet stuff. thing like spice extreme sweet dry like it. thing like stronger fan. kinda reminds stronger bacarat rouge. praline give bacarat vibe think. performance pretty good. like sweet boozy stuff go it. sweet apple pie lot cinnamon left wooden table youve opened bottle cognac left near pie. woodsy note combined hot apple pie cognac youre smelling gorgeous aroma love best fragrance past year imo. everything love fragrance love three type scent smokey cinnamon boozy. two three. last day skin man wearing lady flock love this. fb. im using going restaurant evening . rich using often might tired it. perfect smell everyday use. opinion angel share pdm oajan soma halcyon.all close kilian pip two overall composition.just lovely. love first sniff say. say tin say uk boozy oaky sweet vanilla... sexy perfectly done. almost get tiniest bit citrus top. skin often eats fragrance particularly top heavy one im looking creed one sits stay got good hour sprays. added straight want list. smell like hot buttered rum wood note background . personally masculine taste. decant im working probably last rest winter need full bottle fall. absolutely stunning completely unisex imo. get cinnamon toast crunch cereal good way sure noticed receive compliment wear fragrance reminds christmas. nice warm. second year ive using christmas holidays. wore angel share year europe attending christmas fairs. fit magical place magical time year. know angel share killian magical really beautiful fragrance projection fragrance amazing radiates far skin even still. smell like sweet apple cognac cinnamon. smooth gourmand like. compliment endless one. think perfect fall winter night out. lovely warm spicy boozy apple pie scent. good lasting power. gourmand good cold weather holidays. would consider buying likely considering price live hot climate would heavy year. sexiest fragrance ever woman guy pull good expected something whiskey amber reality sound like apple pie cinnamon. soft pleasant scent price find something else. plus almost disappeared two hour skin. base note sound like diluted addictive vibration initio. best fragrance review always come husband. smell like brown sugar bourbon pie. top notch. wearing angel share. like really like good world. fragrance spectacular. opening delicious smell like warm soft sweet apple pie winter evening fireplace. performance longevity amazing lasting hour projection pretty strong. overall . nice plum vibe wouldve even better without strong smokiness middle. delicious initial spray literally showered sephora could barely detect skin min. dilute tester sephora make stretch weak considering cold skin hold fragrance especially gourmand weak performance probably sign reformulation estee lauder. right cinnamon boozy scent also feel rather light. smelled store thought low silage dont know accurate assessment. stronger cinnamon boozy perfume rose note find far superior. v.s.o.p. mack n gnosh. gourmand lover thought sure would love scent lean far masculine. get apple everyone talking about. smell like boozy pecan almond pie. warm bit spicy. quite nice november december festive kind scent. deliciously boozy winter spiced cocktail warm cozy lounge. perfect fall winter fragrance. never smelled anything better ever. control spritz. partner love love myself. note best friend hate wear think awful... so... pretty divisive dont overdo truly perfect delectable fragrance imho. cloying nauseating seems im minority. one good still sold everywhere finally found one way love much go kilian reason barely smell kid say smell like marshmallow year old son loooves still think safe blind buy nothing lol oh beauty. boozy sexy warm sweet. smelling air first trail someone else smell absolutely beautiful mysterious definitely feel cognac note mixed vanilla. close basically warm apple pie cognac find comforting maybe worth price tag. projection moderate good longevity good. similar ep divine vanille sweet sexy boozy. buy amazing fragrance stay all. ugh price last forever thank god got travel spray. used lotion cerave tried alone nothing last. glad buy full bottle oh well next hyped fragrance. recommended bad lovely caramel moss inside freshly built wood sauna slightly dusty. reminds something like uncle wearing argyle green golf outfit would wear. definitely unisex . ive owned year figured id chime one thought stuff incredible longevity become cloyingly sweet point. le better. received say wow. one best fragrance possibly best. owned lattafa clone first nearly good. amazing elegant gourmand fragrance great performance. downside bottle ml. find tiny bit masculine leaning contrary votes. amazing fragrance open cognac sweteness tonka present .... mild cinnamon go thru life time scent .... gorgeous scent fantastic exquisite gourmet apple strudel made love warm soft juicy soothing gourmand. cinnamontastic one best ever made night occassions. black tie dress code killian neck unstoppable. brutal performance sillage longevity. compliment getter every time. definitely nice overpriced unisex fragrance. lack something me. open ups nicely boozy dry soft powdery cinamony applepie warm scent hint cognac. everyday soft offensive scent colder months. try summer tho well. smell like warm delicate slightly sweet musky baby powder. feminine. imagine wearer paired fluffy dressing gown relaxing evening shower want feel cozy. im much gourment perfume like get whiff apple strudle sort nice spray dark scent usually like bit boring mean smell good game changer review fire desire paris corner since fragrantica doesnt database yet similar original. sweet boozy great performance. bit le strong original still hour performance. taste cant deny great fragrance. blind bought clone bad buy. closer original khamrah. sweet boozy gourmand beautiful scent vanilla cinnamon musk. . overpriced tho. worth . codehotaru comment smell like chinese medicine pure herb. personally find unpleasant. husband beautiful cinnamon cognac. lucky love scent using bottle. initial spray get burst cognac. dry cognac cinnamon. intoxicating scent whenever think cognac think heavy thick syrup. dont get fragrance. absolutely divine cant stop smelling throughout day. last hour skin even longer clothes. intoxicating. weird affect make happy like tipsy without drunk. sprayed lasted hour would always want sniff whenever sniffed always felt sexy. smell like vanilla mixed toothpaste. nauseatingly sweet. almost smell like apple pie fade fast becomes spicy alcoholic sugar bomb. woman jazz club sure. bit synthetic smelling skin. prefer hermessence ambre narguile foodie warm spicy vanilla smell. give hermes go like one. scent phenomenal. cant stop smelling it. literally created angels. cognac vanilla cinnamon apple pie. typical recognizable killians vanilla top. fragrance similar dna killians black phantom . think perfect beginning killians fragrance collection. interested killian start fragrance. delicious scent spray get warm apple pie lot cinnamon cognac note amazing. sweet spicy boozy get little bit woodiness dry down. great gourmand definitely see popular. apple cinnamon brandy listed honey fragrance honey fragrance. obsessed fragrance packaging. full size perfume bottle meant resemble cognac glass paying homage hennessy family kilian hail from. smell like sparkling apple cider warm apple pie. longevity incredible still smell clothes day later overwhelming scent give headache. good. balance sweetness right. distance angel share reminds warm freshly baked apple pie wafting gently. close medicinal let breathe really wanted like this. one note cognac almost medicinal smelling. got headache wearing this. like oak it. really think overhyped price pretty bottle. one greatest perfume own. ask one would wear impress people around def angel share. sweet boozy spicy. alcohol note much. quite pricey worth hype. really safe blind buy. cold season perfume honestly would wear year long. anyone looking lattafa khamrah clone incredible fragrance please believe hype. aesthetically similar smell almost nothing like. get khamrah hoping get angel share cheap youre going disappointed. khamrah good fragrance right smell like angel share. doesnt. cinnamon sugar booze smell like imagine retired leprechaun smell like like linear opinion like heavenly winter incredibly snuggle provoking really nothing say others havent covered simply one beautiful fragrance ever come across. strong boozy cinnamon hug envelope initially close proximity watch dry stunning soft warm caramel gourmand. simply stunning fragrance wear holiday..kilian angel share great blend cognac incredible absolute banger gourmand fragrance rating would scent . projection . longetivity . bottle . kilian angel share something special highly recommend early christmas present arrived mail yesterday. decant decided buy full bottle. mouth literally water smell wish edible. cinnamon cognac smell blend well. perfect scent skin. sticky sweet apple pie dash brandy plenty warm cinnamon. cozy surprisingly lacking depth. expecting deep woodiness make complex gourmand. edit another comment said bready like corner shop apple danish want fresh slice warm apple pie. like this. reminds naxos good naxos. warm autumnal going winter. feel cosy warm. rather expensive good sillage long lasting. nice price treat xerjoff naxos. smell like kitchen christmas. wow. okay. umm first fragrance ever smelled thought okay could worth it. sprayed test paper sephora thoroughly spray sweater. delicious thing ever smelled. first got spicy apple pastry woody fooled smell like christmas candle. imagine heavy heaping cinnamon sugar crumble crisped perfection. gooey apple filling oozing perfectly browned crust. dont know made apple strudel sexy man woman fragrance get devoured least offer like mixing vanilla ragba get fragrance time le cost think really dont like kilian except one. sugary chic anything crazy price pas going sample sprayed sent reminds smell early s. pre teen someone family wore something smelled similar this. simply apple pie im love compared kilian perfume performance immortal. say second favorite perfume brand. course .one love . one black phantom apple pie. specifically crust apple pie crust crispy sprinkled cinnamon. angel share deserves attention get go ahead pull trigger overpriced mainstream sweet boozy smell. pleasant nothing special justify high price. abdulrahman woman wear this. anything angel share way feminine masculine even though marketed unisex. abdulrahman depends woman. love every single note wear lot. warm apple strudel yumminess. cant imagine woman wearing think smell masculine smell familiar me. exactly cinnamon roll similar. like brown sugar apple pie strudel. fresh baked syrupy dessert apple fresh oven. turn sweet spice. umm yeaaaaa got tipsy first sniff perfume cognac mess honey felt like true alcoholic wearing perfume hard diabetes bottle. gross. cloyingly sweet rich heavy. reminds apple cider pie candle syrupy sweet food like mixed sweet tobacco note jazz club g pour homme. love gourmand youll like this. smell like opening delicious jar sweet gherkin pickles. get boozy note got apple first settled cinnamony pickle scent mind love. thankfully last long. layer gallagher fragrance ro dae good start super spicy note cognac. settle turn delicious warm apple pie scent. cinnamon praline note really strong gorgeous way. definitely perfect colder months. im man afraid would girly quite good man woman. smell bit punchy first dry perfect sexy romantic type scent. definately see wearing date night. im sure quite seductive. strong perfect gourmand yet classy. initial spray heaven earth sweet pralin vanilla dry tom ford like spicy cinnamon clove kinda scent cool scent made constantly want smell hand amazing perfume kilian wanted try fragrance long let tell definitely life hype perfume smell like apple cinnamon. woody note cognac. also smell tonka bean give almond vanilla sort smell. definitely try fragrance perfect men woman great fall winter favorite fragrance fun night boozy apple pie cinnamon smokey sandalwood. lean masculine opinion. cup tea unfortunately. smell like clover honey hint spice smell cognac smell like southern fried apple me. possibly better comparison apple pie. nothing say said already say absolute bottled heaven whatever reason last skin going clone. otherwise say worth mercari ebay price probably worth retail price. wow cant believe get high rating smelled like apartment elderly alcoholic slowly escalating hoarding problem me. there minty scent make smell like person tried cover thing cleaning bit. goated scent imo. absolutely top notch. unisex. smell bit different skin verse wife. like like her. bought full size bottle travel size. use special occasions. performs excellent too. great sillage longevity. love cold weather. special stuff sure killian. took get nose this. really really liked bummed weak lasting power. hour completely gone. refuse pay fragrance last. nauseating. guess dont like cinnamon note im keen praline either. perhaps gourmand arent thing. far rich. caramel buttercream icing combined melted milk chocolate. cloying almost medicinal viscous sweetness spicy boozy notes. sample gave instant headache twice brought coughing fit. leaf wanting something fresh aromatic. truly enjoy fragrance launched thought must better sliced bread eventually saw getting little bored bought bottle myself. still darling weirdly enough love linear wear. cinnamon cognac super pronounced dont mind wish could get tonka. still great one okay another favourite took cake first time smelled it. literally good cant put words. boozy cinnamon smell like apple pie good. ultimate winter autumn fragrance. wish affordable honestly ill probably still buying over. good. absolutely love scent however lasting power simply equal price point. purchase again. purchased fragrance first released four month later sold unknown reasons. today received tester suddenly love again. purchase full bottle except time also nice ml decant bottle. cant wait wear winter. far dry im getting le male le parfum vibes. epicness paid brand new sealed bottle dont think expensive. day everyone offering pay thing attainable. looking buy department store sephora kilian directly yes pay lot. skipped starbucks coffies goodness perfume girl. reminiscent warm apple pie. feel dominant confident wearing scent. strong long lasting oversprayer recommend couple spray strong. definitely fall winter scent. far strongest perfume ever owned. choke people one spray. hate say almost wish would tone little make wearable wonderful scent id need mature lot wear properly. superbly strong wood cognac scent note cinnamon. smell really warm strong definitely colder seasons. store display one didnt enough spray didnt try skin sadly. see people love gourmand really really love this. boozy warm praline really come through. ive shifted enjoying gourmand used there something almost...dusty im biggest fan of. moment warmth comfort make want try later see something need come back really enjoy. boozy mouthwatering delicious apple pie opening reminds high end gift shop local apple farm. also got apple pie vibe first min little unsure. dry sandalwood oak help balance apple pie sweetness. said uber sweet gourmand through. arent huge fan gourmand scent would probably try buy. smitten. cinnamon spice vanilla nice pretty pretty bottle. cognac praline smell together love smell great overspray one cloying angel share spicier boozier baccarat rouge.i love every time wear really feel touched angel warm pleasant. nobody say smell cherry two word apple pie all. love lol winter bottle imagine fresh warm donut sprinkled cinnamon sugar glass cognac open fire conjures mind smell this. dry divine bottle pretty too. love love fall apple pie goodness. deep dry little strange though chemistry. kind reminds skin patchouli hate note patchouli. must one base note lingering perhaps oak praline. definitely keep using travel spray decide full bottle worthy not. got curiously sprayed hub .it now. smell amazing oak sandalwood really stand out. unique fragrance ever incredibly satisfying boozy gourmand. dont know whats love it. hype real every bit good say wish better projection. however amazing lasting power. oh. my. word. amazing. sweet cognac. sweet vanilla. sweet juicy boozy goodness. amazing. well done. sexy profound. really think easily mix multitude scents. wow. perfect perfect. tad sweet masterpiece. going back sniffing palm arm again. paring goosecreek warm donut sugar lotion everything youre gourmand lover get lotion wear it. get sale like keep look shame see fragrance enthusiast particularly enjoy sweet fragrance complain fragrance sweet. point. expect understand bad review seeing. gorgeous frag. yes sweet spicy cinnamon give sophisticated stylish personality. fun twinkles. overspray get project find quite delicate. well done. magic wand would add wood smoke. quite distinguished classy perfume. good quality good performance good boosy sweet cinnamony dont know cant love maybe transparent first cognac cinnamon. much cinnamon make spicy. strong silence notes. clothes smell night much liquor. old fashioned get hype this. outstanding scent best kilian brand far. love cognac note super smooth overpowering also provides balance scent subdues sweeter notes. definitely made special occasion night etc. ughh sad one. wanted love badly smell anything good minutes. took whiff smelled like red hot candy left glass water overnight. pas'"
            ],
            "application/vnd.google.colaboratory.intrinsic+json": {
              "type": "string"
            }
          },
          "metadata": {},
          "execution_count": 30
        }
      ]
    },
    {
      "cell_type": "markdown",
      "source": [
        "## 전처리(정규표현식)"
      ],
      "metadata": {
        "id": "ZbSXeEcJJSOm"
      }
    },
    {
      "cell_type": "code",
      "source": [
        "import re\n",
        "\n",
        "for i in range(len(data)):\n",
        "  example_df =  data['review'].iloc[i]\n",
        "  letters_only = re.sub(\"^[a-zA-Z ]\",\"\",example_df)\n",
        "  letters_only = re.sub(r\"[^\\w\\s]\",\"\",letters_only)\n",
        "  data['review'].iloc[i] = letters_only "
      ],
      "metadata": {
        "colab": {
          "base_uri": "https://localhost:8080/"
        },
        "id": "qMkFTwEYI49V",
        "outputId": "b3c04539-f8d5-4a85-cfb5-27c02d5a3362"
      },
      "execution_count": 31,
      "outputs": [
        {
          "output_type": "stream",
          "name": "stderr",
          "text": [
            "/usr/local/lib/python3.8/dist-packages/pandas/core/indexing.py:1732: SettingWithCopyWarning: \n",
            "A value is trying to be set on a copy of a slice from a DataFrame\n",
            "\n",
            "See the caveats in the documentation: https://pandas.pydata.org/pandas-docs/stable/user_guide/indexing.html#returning-a-view-versus-a-copy\n",
            "  self._setitem_single_block(indexer, value, name)\n"
          ]
        }
      ]
    },
    {
      "cell_type": "code",
      "source": [
        "review_concat = []\n",
        "for i in range(0,144):\n",
        "  review_concat.append(data.review[i])"
      ],
      "metadata": {
        "id": "vJxOf6MpKs5V"
      },
      "execution_count": 32,
      "outputs": []
    },
    {
      "cell_type": "code",
      "source": [
        "review_concat = \" \".join(review_concat) # 향수 상관없이 모든 리뷰 합친 문자열 데이터"
      ],
      "metadata": {
        "id": "e5-1Au9kLNrH"
      },
      "execution_count": 33,
      "outputs": []
    },
    {
      "cell_type": "code",
      "source": [
        "review_concat[:200]"
      ],
      "metadata": {
        "colab": {
          "base_uri": "https://localhost:8080/",
          "height": 35
        },
        "id": "3EGzAkjiOo1I",
        "outputId": "2348e223-3f08-4809-e188-ba458ff714ec"
      },
      "execution_count": 34,
      "outputs": [
        {
          "output_type": "execute_result",
          "data": {
            "text/plain": [
              "'kin get strawberry jelly candies nostalgic pretty know smelt though popular still really like decide feel this love fresh yet warm sweet something singe nostril forget hype forget cloud comparison for'"
            ],
            "application/vnd.google.colaboratory.intrinsic+json": {
              "type": "string"
            }
          },
          "metadata": {},
          "execution_count": 34
        }
      ]
    },
    {
      "cell_type": "markdown",
      "source": [
        "## ELMo Embedding (JohnSnow LABS)"
      ],
      "metadata": {
        "id": "3y7aCz0cdHLE"
      }
    },
    {
      "cell_type": "code",
      "source": [
        "pip install nlu"
      ],
      "metadata": {
        "colab": {
          "base_uri": "https://localhost:8080/",
          "height": 423
        },
        "id": "JBYiucWLLtGW",
        "outputId": "15ccb23f-f0af-418f-d275-ea2d5ad8c822"
      },
      "execution_count": 35,
      "outputs": [
        {
          "output_type": "stream",
          "name": "stdout",
          "text": [
            "Looking in indexes: https://pypi.org/simple, https://us-python.pkg.dev/colab-wheels/public/simple/\n",
            "Collecting nlu\n",
            "  Downloading nlu-4.0.0-py3-none-any.whl (570 kB)\n",
            "\u001b[2K     \u001b[90m━━━━━━━━━━━━━━━━━━━━━━━━━━━━━━━━━━━━━━\u001b[0m \u001b[32m570.5/570.5 KB\u001b[0m \u001b[31m34.9 MB/s\u001b[0m eta \u001b[36m0:00:00\u001b[0m\n",
            "\u001b[?25hCollecting spark-nlp<4.1.0,>=4.0.0\n",
            "  Downloading spark_nlp-4.0.2-py2.py3-none-any.whl (532 kB)\n",
            "\u001b[2K     \u001b[90m━━━━━━━━━━━━━━━━━━━━━━━━━━━━━━━━━━━━━━\u001b[0m \u001b[32m532.6/532.6 KB\u001b[0m \u001b[31m49.4 MB/s\u001b[0m eta \u001b[36m0:00:00\u001b[0m\n",
            "\u001b[?25hRequirement already satisfied: pandas>=1.3.5 in /usr/local/lib/python3.8/dist-packages (from nlu) (1.3.5)\n",
            "Requirement already satisfied: pyarrow>=0.16.0 in /usr/local/lib/python3.8/dist-packages (from nlu) (9.0.0)\n",
            "Requirement already satisfied: numpy in /usr/local/lib/python3.8/dist-packages (from nlu) (1.22.4)\n",
            "Collecting dataclasses\n",
            "  Downloading dataclasses-0.6-py3-none-any.whl (14 kB)\n",
            "Requirement already satisfied: pytz>=2017.3 in /usr/local/lib/python3.8/dist-packages (from pandas>=1.3.5->nlu) (2022.7.1)\n",
            "Requirement already satisfied: python-dateutil>=2.7.3 in /usr/local/lib/python3.8/dist-packages (from pandas>=1.3.5->nlu) (2.8.2)\n",
            "Requirement already satisfied: six>=1.5 in /usr/local/lib/python3.8/dist-packages (from python-dateutil>=2.7.3->pandas>=1.3.5->nlu) (1.15.0)\n",
            "Installing collected packages: spark-nlp, dataclasses, nlu\n",
            "Successfully installed dataclasses-0.6 nlu-4.0.0 spark-nlp-4.0.2\n"
          ]
        },
        {
          "output_type": "display_data",
          "data": {
            "application/vnd.colab-display-data+json": {
              "pip_warning": {
                "packages": [
                  "dataclasses"
                ]
              }
            }
          },
          "metadata": {}
        }
      ]
    },
    {
      "cell_type": "code",
      "source": [
        "pip install pyspark==3.0.1"
      ],
      "metadata": {
        "colab": {
          "base_uri": "https://localhost:8080/"
        },
        "id": "Wa6slHWHMGzm",
        "outputId": "fdcaf64a-a598-4a13-bd6e-5975b37c2a48"
      },
      "execution_count": 36,
      "outputs": [
        {
          "output_type": "stream",
          "name": "stdout",
          "text": [
            "Looking in indexes: https://pypi.org/simple, https://us-python.pkg.dev/colab-wheels/public/simple/\n",
            "Collecting pyspark==3.0.1\n",
            "  Downloading pyspark-3.0.1.tar.gz (204.2 MB)\n",
            "\u001b[2K     \u001b[90m━━━━━━━━━━━━━━━━━━━━━━━━━━━━━━━━━━━━━━━\u001b[0m \u001b[32m204.2/204.2 MB\u001b[0m \u001b[31m8.7 MB/s\u001b[0m eta \u001b[36m0:00:00\u001b[0m\n",
            "\u001b[?25h  Preparing metadata (setup.py) ... \u001b[?25l\u001b[?25hdone\n",
            "Collecting py4j==0.10.9\n",
            "  Downloading py4j-0.10.9-py2.py3-none-any.whl (198 kB)\n",
            "\u001b[2K     \u001b[90m━━━━━━━━━━━━━━━━━━━━━━━━━━━━━━━━━━━━━━\u001b[0m \u001b[32m198.6/198.6 KB\u001b[0m \u001b[31m24.1 MB/s\u001b[0m eta \u001b[36m0:00:00\u001b[0m\n",
            "\u001b[?25hBuilding wheels for collected packages: pyspark\n",
            "  Building wheel for pyspark (setup.py) ... \u001b[?25l\u001b[?25hdone\n",
            "  Created wheel for pyspark: filename=pyspark-3.0.1-py2.py3-none-any.whl size=204612244 sha256=765b524574fcc7d124d3bf15c5a0dd355d8a7435c314f15671a4e249eefddbc1\n",
            "  Stored in directory: /root/.cache/pip/wheels/ea/21/84/970b03913d0d6a96ef51c34c878add0de9e4ecbb7c764ea21f\n",
            "Successfully built pyspark\n",
            "Installing collected packages: py4j, pyspark\n",
            "Successfully installed py4j-0.10.9 pyspark-3.0.1\n"
          ]
        }
      ]
    },
    {
      "cell_type": "code",
      "source": [
        "import nlu"
      ],
      "metadata": {
        "id": "b9BPY_85MXFX"
      },
      "execution_count": 37,
      "outputs": []
    },
    {
      "cell_type": "code",
      "source": [
        "review_data = data[['review']]"
      ],
      "metadata": {
        "id": "vobfQLCJRUMW"
      },
      "execution_count": 38,
      "outputs": []
    },
    {
      "cell_type": "code",
      "source": [
        "embeddings_df = nlu.load('elmo').predict(review_data,output_level='token')"
      ],
      "metadata": {
        "colab": {
          "base_uri": "https://localhost:8080/"
        },
        "id": "oPK3n21-HUO0",
        "outputId": "e6f76512-e8d5-48b1-d8d8-4fc86e5a16fb"
      },
      "execution_count": 39,
      "outputs": [
        {
          "output_type": "stream",
          "name": "stdout",
          "text": [
            "elmo download started this may take some time.\n",
            "Approximate size to download 334.1 MB\n",
            "[OK!]\n",
            "sentence_detector_dl download started this may take some time.\n",
            "Approximate size to download 354.6 KB\n",
            "[OK!]\n"
          ]
        }
      ]
    },
    {
      "cell_type": "code",
      "source": [
        "embeddings_df"
      ],
      "metadata": {
        "id": "pcic9FhKcQjr"
      },
      "execution_count": null,
      "outputs": []
    },
    {
      "cell_type": "code",
      "source": [
        "embeddings_df['index'] = embeddings_df.index"
      ],
      "metadata": {
        "id": "apnVBylj4jdI"
      },
      "execution_count": 41,
      "outputs": []
    },
    {
      "cell_type": "code",
      "source": [
        "embeddings_df.reset_index(drop=True,inplace=True)"
      ],
      "metadata": {
        "id": "cHVws7zz4XL4"
      },
      "execution_count": 42,
      "outputs": []
    },
    {
      "cell_type": "markdown",
      "source": [
        "## ELMo by tensorflow **2.0**"
      ],
      "metadata": {
        "id": "RtWKJsG2RlRv"
      }
    },
    {
      "cell_type": "code",
      "source": [
        "# pip install tensorflow"
      ],
      "metadata": {
        "id": "WQMX_TAvR95U"
      },
      "execution_count": 43,
      "outputs": []
    },
    {
      "cell_type": "code",
      "source": [
        "# import tensorflow as tf"
      ],
      "metadata": {
        "id": "AYVS7ogjSXXY"
      },
      "execution_count": 44,
      "outputs": []
    },
    {
      "cell_type": "code",
      "source": [
        "# review_data['review'][0]"
      ],
      "metadata": {
        "id": "Vqfb-DS7Ta1n"
      },
      "execution_count": 45,
      "outputs": []
    },
    {
      "cell_type": "code",
      "source": [
        "# review_dict = {}\n",
        "# for i in range(0,144):\n",
        "#   review_dict[i] = review_data['review'][i]"
      ],
      "metadata": {
        "id": "U4myVXr0SvLW"
      },
      "execution_count": 46,
      "outputs": []
    },
    {
      "cell_type": "code",
      "source": [
        "# review_list = []\n",
        "# for i in range(0,144):\n",
        "#   local = review_data['review'][i]\n",
        "#   review_list += [local]"
      ],
      "metadata": {
        "id": "_ehDjhAhUJoH"
      },
      "execution_count": 47,
      "outputs": []
    },
    {
      "cell_type": "code",
      "source": [
        "# len(review_list) #good"
      ],
      "metadata": {
        "id": "xNumYhWqUz34"
      },
      "execution_count": 48,
      "outputs": []
    },
    {
      "cell_type": "code",
      "source": [
        "# import tensorflow_hub as hub\n",
        "# import tensorflow.compat.v1 as tf\n",
        "# tf.disable_eager_execution()\n",
        "\n",
        "# elmo = hub.Module(\"https://tfhub.dev/google/elmo/3\", trainable=True)\n",
        "\n",
        "# embeddings = elmo(\n",
        "#     review_list,\n",
        "#     signature = \"default\",\n",
        "#     as_dict = True)[\"elmo\"]\n"
      ],
      "metadata": {
        "id": "DTMbQITO907e"
      },
      "execution_count": 49,
      "outputs": []
    },
    {
      "cell_type": "code",
      "source": [
        "# embeddings"
      ],
      "metadata": {
        "id": "nXhcCv0oVCgn"
      },
      "execution_count": 50,
      "outputs": []
    },
    {
      "cell_type": "code",
      "source": [
        "# init = tf.initialize_all_variables()\n",
        "# sess = tf.Session()\n",
        "# sess.run(init)"
      ],
      "metadata": {
        "id": "03cWniRFRxzF"
      },
      "execution_count": 51,
      "outputs": []
    },
    {
      "cell_type": "code",
      "source": [
        "# sess.run(embeddings)[2][2]"
      ],
      "metadata": {
        "id": "7fYAscSx_chd"
      },
      "execution_count": 52,
      "outputs": []
    },
    {
      "cell_type": "code",
      "source": [
        "# review_concat"
      ],
      "metadata": {
        "id": "4bs-lnX7_gwN"
      },
      "execution_count": 53,
      "outputs": []
    },
    {
      "cell_type": "markdown",
      "source": [
        "# Cosine Similarity"
      ],
      "metadata": {
        "id": "s_yXlGfKdWqk"
      }
    },
    {
      "cell_type": "code",
      "source": [
        "embeddings_df.head()"
      ],
      "metadata": {
        "colab": {
          "base_uri": "https://localhost:8080/",
          "height": 206
        },
        "id": "Hfl6MrFUdTX7",
        "outputId": "b7f85cde-4687-46eb-8135-ba9be7c91fdb"
      },
      "execution_count": 54,
      "outputs": [
        {
          "output_type": "execute_result",
          "data": {
            "text/plain": [
              "                                                text       token  \\\n",
              "0  kin get strawberry jelly candies nostalgic pre...         kin   \n",
              "1  kin get strawberry jelly candies nostalgic pre...         get   \n",
              "2  kin get strawberry jelly candies nostalgic pre...  strawberry   \n",
              "3  kin get strawberry jelly candies nostalgic pre...       jelly   \n",
              "4  kin get strawberry jelly candies nostalgic pre...     candies   \n",
              "\n",
              "                                 word_embedding_elmo  index  \n",
              "0  [-1.3006852865219116, 0.3651913106441498, -1.2...      0  \n",
              "1  [0.0042253658175468445, -0.4184453785419464, -...      0  \n",
              "2  [-0.2695613503456116, 0.13173973560333252, 0.5...      0  \n",
              "3  [-0.3758509159088135, -0.17479586601257324, 1....      0  \n",
              "4  [-0.7830489873886108, 0.8652899265289307, 0.01...      0  "
            ],
            "text/html": [
              "\n",
              "  <div id=\"df-6eab2e6b-7d65-4739-8b6a-5a1e0ae5c7c5\">\n",
              "    <div class=\"colab-df-container\">\n",
              "      <div>\n",
              "<style scoped>\n",
              "    .dataframe tbody tr th:only-of-type {\n",
              "        vertical-align: middle;\n",
              "    }\n",
              "\n",
              "    .dataframe tbody tr th {\n",
              "        vertical-align: top;\n",
              "    }\n",
              "\n",
              "    .dataframe thead th {\n",
              "        text-align: right;\n",
              "    }\n",
              "</style>\n",
              "<table border=\"1\" class=\"dataframe\">\n",
              "  <thead>\n",
              "    <tr style=\"text-align: right;\">\n",
              "      <th></th>\n",
              "      <th>text</th>\n",
              "      <th>token</th>\n",
              "      <th>word_embedding_elmo</th>\n",
              "      <th>index</th>\n",
              "    </tr>\n",
              "  </thead>\n",
              "  <tbody>\n",
              "    <tr>\n",
              "      <th>0</th>\n",
              "      <td>kin get strawberry jelly candies nostalgic pre...</td>\n",
              "      <td>kin</td>\n",
              "      <td>[-1.3006852865219116, 0.3651913106441498, -1.2...</td>\n",
              "      <td>0</td>\n",
              "    </tr>\n",
              "    <tr>\n",
              "      <th>1</th>\n",
              "      <td>kin get strawberry jelly candies nostalgic pre...</td>\n",
              "      <td>get</td>\n",
              "      <td>[0.0042253658175468445, -0.4184453785419464, -...</td>\n",
              "      <td>0</td>\n",
              "    </tr>\n",
              "    <tr>\n",
              "      <th>2</th>\n",
              "      <td>kin get strawberry jelly candies nostalgic pre...</td>\n",
              "      <td>strawberry</td>\n",
              "      <td>[-0.2695613503456116, 0.13173973560333252, 0.5...</td>\n",
              "      <td>0</td>\n",
              "    </tr>\n",
              "    <tr>\n",
              "      <th>3</th>\n",
              "      <td>kin get strawberry jelly candies nostalgic pre...</td>\n",
              "      <td>jelly</td>\n",
              "      <td>[-0.3758509159088135, -0.17479586601257324, 1....</td>\n",
              "      <td>0</td>\n",
              "    </tr>\n",
              "    <tr>\n",
              "      <th>4</th>\n",
              "      <td>kin get strawberry jelly candies nostalgic pre...</td>\n",
              "      <td>candies</td>\n",
              "      <td>[-0.7830489873886108, 0.8652899265289307, 0.01...</td>\n",
              "      <td>0</td>\n",
              "    </tr>\n",
              "  </tbody>\n",
              "</table>\n",
              "</div>\n",
              "      <button class=\"colab-df-convert\" onclick=\"convertToInteractive('df-6eab2e6b-7d65-4739-8b6a-5a1e0ae5c7c5')\"\n",
              "              title=\"Convert this dataframe to an interactive table.\"\n",
              "              style=\"display:none;\">\n",
              "        \n",
              "  <svg xmlns=\"http://www.w3.org/2000/svg\" height=\"24px\"viewBox=\"0 0 24 24\"\n",
              "       width=\"24px\">\n",
              "    <path d=\"M0 0h24v24H0V0z\" fill=\"none\"/>\n",
              "    <path d=\"M18.56 5.44l.94 2.06.94-2.06 2.06-.94-2.06-.94-.94-2.06-.94 2.06-2.06.94zm-11 1L8.5 8.5l.94-2.06 2.06-.94-2.06-.94L8.5 2.5l-.94 2.06-2.06.94zm10 10l.94 2.06.94-2.06 2.06-.94-2.06-.94-.94-2.06-.94 2.06-2.06.94z\"/><path d=\"M17.41 7.96l-1.37-1.37c-.4-.4-.92-.59-1.43-.59-.52 0-1.04.2-1.43.59L10.3 9.45l-7.72 7.72c-.78.78-.78 2.05 0 2.83L4 21.41c.39.39.9.59 1.41.59.51 0 1.02-.2 1.41-.59l7.78-7.78 2.81-2.81c.8-.78.8-2.07 0-2.86zM5.41 20L4 18.59l7.72-7.72 1.47 1.35L5.41 20z\"/>\n",
              "  </svg>\n",
              "      </button>\n",
              "      \n",
              "  <style>\n",
              "    .colab-df-container {\n",
              "      display:flex;\n",
              "      flex-wrap:wrap;\n",
              "      gap: 12px;\n",
              "    }\n",
              "\n",
              "    .colab-df-convert {\n",
              "      background-color: #E8F0FE;\n",
              "      border: none;\n",
              "      border-radius: 50%;\n",
              "      cursor: pointer;\n",
              "      display: none;\n",
              "      fill: #1967D2;\n",
              "      height: 32px;\n",
              "      padding: 0 0 0 0;\n",
              "      width: 32px;\n",
              "    }\n",
              "\n",
              "    .colab-df-convert:hover {\n",
              "      background-color: #E2EBFA;\n",
              "      box-shadow: 0px 1px 2px rgba(60, 64, 67, 0.3), 0px 1px 3px 1px rgba(60, 64, 67, 0.15);\n",
              "      fill: #174EA6;\n",
              "    }\n",
              "\n",
              "    [theme=dark] .colab-df-convert {\n",
              "      background-color: #3B4455;\n",
              "      fill: #D2E3FC;\n",
              "    }\n",
              "\n",
              "    [theme=dark] .colab-df-convert:hover {\n",
              "      background-color: #434B5C;\n",
              "      box-shadow: 0px 1px 3px 1px rgba(0, 0, 0, 0.15);\n",
              "      filter: drop-shadow(0px 1px 2px rgba(0, 0, 0, 0.3));\n",
              "      fill: #FFFFFF;\n",
              "    }\n",
              "  </style>\n",
              "\n",
              "      <script>\n",
              "        const buttonEl =\n",
              "          document.querySelector('#df-6eab2e6b-7d65-4739-8b6a-5a1e0ae5c7c5 button.colab-df-convert');\n",
              "        buttonEl.style.display =\n",
              "          google.colab.kernel.accessAllowed ? 'block' : 'none';\n",
              "\n",
              "        async function convertToInteractive(key) {\n",
              "          const element = document.querySelector('#df-6eab2e6b-7d65-4739-8b6a-5a1e0ae5c7c5');\n",
              "          const dataTable =\n",
              "            await google.colab.kernel.invokeFunction('convertToInteractive',\n",
              "                                                     [key], {});\n",
              "          if (!dataTable) return;\n",
              "\n",
              "          const docLinkHtml = 'Like what you see? Visit the ' +\n",
              "            '<a target=\"_blank\" href=https://colab.research.google.com/notebooks/data_table.ipynb>data table notebook</a>'\n",
              "            + ' to learn more about interactive tables.';\n",
              "          element.innerHTML = '';\n",
              "          dataTable['output_type'] = 'display_data';\n",
              "          await google.colab.output.renderOutput(dataTable, element);\n",
              "          const docLink = document.createElement('div');\n",
              "          docLink.innerHTML = docLinkHtml;\n",
              "          element.appendChild(docLink);\n",
              "        }\n",
              "      </script>\n",
              "    </div>\n",
              "  </div>\n",
              "  "
            ]
          },
          "metadata": {},
          "execution_count": 54
        }
      ]
    },
    {
      "cell_type": "code",
      "source": [
        "embeddings_df.iloc[0:20,2]"
      ],
      "metadata": {
        "colab": {
          "base_uri": "https://localhost:8080/"
        },
        "id": "tq2lmo8pKEp0",
        "outputId": "ff2bdd23-50bf-4025-db9d-9fa17c7cfa5d"
      },
      "execution_count": 55,
      "outputs": [
        {
          "output_type": "execute_result",
          "data": {
            "text/plain": [
              "0     [-1.3006852865219116, 0.3651913106441498, -1.2...\n",
              "1     [0.0042253658175468445, -0.4184453785419464, -...\n",
              "2     [-0.2695613503456116, 0.13173973560333252, 0.5...\n",
              "3     [-0.3758509159088135, -0.17479586601257324, 1....\n",
              "4     [-0.7830489873886108, 0.8652899265289307, 0.01...\n",
              "5     [-0.2632436156272888, -0.2010151445865631, 0.6...\n",
              "6     [0.3517477512359619, -0.24238204956054688, -0....\n",
              "7     [0.2295181006193161, 0.7246943712234497, -0.30...\n",
              "8     [-0.6784414649009705, 0.14705929160118103, 0.1...\n",
              "9     [-0.318284809589386, -0.5371972918510437, 0.11...\n",
              "10    [0.31957054138183594, -0.11531675606966019, -1...\n",
              "11    [-0.30305713415145874, -0.6099573373794556, 0....\n",
              "12    [0.6226428747177124, -0.24168264865875244, 0.1...\n",
              "13    [-0.4207671880722046, 0.5009943246841431, -0.2...\n",
              "14    [-0.026295840740203857, 0.3297237157821655, -0...\n",
              "15    [0.021760903298854828, 0.5738835334777832, 0.7...\n",
              "16    [-0.042727064341306686, -0.20009052753448486, ...\n",
              "17    [-0.7348150610923767, -0.09645570069551468, -0...\n",
              "18    [0.07660846412181854, -0.011484719812870026, -...\n",
              "19    [0.5444231629371643, 0.14777517318725586, 0.28...\n",
              "Name: word_embedding_elmo, dtype: object"
            ]
          },
          "metadata": {},
          "execution_count": 55
        }
      ]
    },
    {
      "cell_type": "code",
      "source": [
        "embeddings_df.iloc[2,1]"
      ],
      "metadata": {
        "colab": {
          "base_uri": "https://localhost:8080/",
          "height": 35
        },
        "id": "cK43hzVfdpbr",
        "outputId": "8d2846aa-fa82-4ebb-d53a-d45d4adb095e"
      },
      "execution_count": 56,
      "outputs": [
        {
          "output_type": "execute_result",
          "data": {
            "text/plain": [
              "'strawberry'"
            ],
            "application/vnd.google.colaboratory.intrinsic+json": {
              "type": "string"
            }
          },
          "metadata": {},
          "execution_count": 56
        }
      ]
    },
    {
      "cell_type": "code",
      "source": [
        "type(embeddings_df.iloc[2,1])"
      ],
      "metadata": {
        "colab": {
          "base_uri": "https://localhost:8080/"
        },
        "id": "4xUoyTG7eDdL",
        "outputId": "cbbbed29-2a23-41a7-e2e6-e93fa02f345e"
      },
      "execution_count": 57,
      "outputs": [
        {
          "output_type": "execute_result",
          "data": {
            "text/plain": [
              "str"
            ]
          },
          "metadata": {},
          "execution_count": 57
        }
      ]
    },
    {
      "cell_type": "markdown",
      "source": [
        "token이 str type 으로 저장되어 있으므로, keyword 리스트를 통해 각각의 임베딩을 불러올 수 있음."
      ],
      "metadata": {
        "id": "_K48gAtHeGQ9"
      }
    },
    {
      "cell_type": "markdown",
      "source": [
        "현재 존재하는 데이터 종류들 (1)raw data (2)keyword extracted (3)ELMo token embeddings (by Sentence)"
      ],
      "metadata": {
        "id": "hozXhAUMer_9"
      }
    },
    {
      "cell_type": "code",
      "source": [
        "data.head()"
      ],
      "metadata": {
        "colab": {
          "base_uri": "https://localhost:8080/",
          "height": 206
        },
        "id": "Iwf6AvgfeXFr",
        "outputId": "8ce47d6c-c676-4fe0-be16-f6b327aaf457"
      },
      "execution_count": 58,
      "outputs": [
        {
          "output_type": "execute_result",
          "data": {
            "text/plain": [
              "   Unnamed: 0                                             review  \\\n",
              "0           0  kin get strawberry jelly candies nostalgic pre...   \n",
              "1           1  irst sprayed boozy warm apple pie lasted secon...   \n",
              "2           2  ay masculine cant seem sell bottle anyone know...   \n",
              "3           3  ry smoky sweet woods feel like time ive smelle...   \n",
              "4           4  ould love smell someone else unfortunately go ...   \n",
              "\n",
              "                 name                     brand  \n",
              "0  Baccarat Rouge 540  Maison Francis Kurkdjian  \n",
              "1       Angels' Share                 By Kilian  \n",
              "2     Tobacco Vanille                  Tom Ford  \n",
              "3    By the Fireplace    Maison Martin Margiela  \n",
              "4         Lost Cherry                  Tom Ford  "
            ],
            "text/html": [
              "\n",
              "  <div id=\"df-7aac51a2-0ebb-495c-ad27-d3e639330d39\">\n",
              "    <div class=\"colab-df-container\">\n",
              "      <div>\n",
              "<style scoped>\n",
              "    .dataframe tbody tr th:only-of-type {\n",
              "        vertical-align: middle;\n",
              "    }\n",
              "\n",
              "    .dataframe tbody tr th {\n",
              "        vertical-align: top;\n",
              "    }\n",
              "\n",
              "    .dataframe thead th {\n",
              "        text-align: right;\n",
              "    }\n",
              "</style>\n",
              "<table border=\"1\" class=\"dataframe\">\n",
              "  <thead>\n",
              "    <tr style=\"text-align: right;\">\n",
              "      <th></th>\n",
              "      <th>Unnamed: 0</th>\n",
              "      <th>review</th>\n",
              "      <th>name</th>\n",
              "      <th>brand</th>\n",
              "    </tr>\n",
              "  </thead>\n",
              "  <tbody>\n",
              "    <tr>\n",
              "      <th>0</th>\n",
              "      <td>0</td>\n",
              "      <td>kin get strawberry jelly candies nostalgic pre...</td>\n",
              "      <td>Baccarat Rouge 540</td>\n",
              "      <td>Maison Francis Kurkdjian</td>\n",
              "    </tr>\n",
              "    <tr>\n",
              "      <th>1</th>\n",
              "      <td>1</td>\n",
              "      <td>irst sprayed boozy warm apple pie lasted secon...</td>\n",
              "      <td>Angels' Share</td>\n",
              "      <td>By Kilian</td>\n",
              "    </tr>\n",
              "    <tr>\n",
              "      <th>2</th>\n",
              "      <td>2</td>\n",
              "      <td>ay masculine cant seem sell bottle anyone know...</td>\n",
              "      <td>Tobacco Vanille</td>\n",
              "      <td>Tom Ford</td>\n",
              "    </tr>\n",
              "    <tr>\n",
              "      <th>3</th>\n",
              "      <td>3</td>\n",
              "      <td>ry smoky sweet woods feel like time ive smelle...</td>\n",
              "      <td>By the Fireplace</td>\n",
              "      <td>Maison Martin Margiela</td>\n",
              "    </tr>\n",
              "    <tr>\n",
              "      <th>4</th>\n",
              "      <td>4</td>\n",
              "      <td>ould love smell someone else unfortunately go ...</td>\n",
              "      <td>Lost Cherry</td>\n",
              "      <td>Tom Ford</td>\n",
              "    </tr>\n",
              "  </tbody>\n",
              "</table>\n",
              "</div>\n",
              "      <button class=\"colab-df-convert\" onclick=\"convertToInteractive('df-7aac51a2-0ebb-495c-ad27-d3e639330d39')\"\n",
              "              title=\"Convert this dataframe to an interactive table.\"\n",
              "              style=\"display:none;\">\n",
              "        \n",
              "  <svg xmlns=\"http://www.w3.org/2000/svg\" height=\"24px\"viewBox=\"0 0 24 24\"\n",
              "       width=\"24px\">\n",
              "    <path d=\"M0 0h24v24H0V0z\" fill=\"none\"/>\n",
              "    <path d=\"M18.56 5.44l.94 2.06.94-2.06 2.06-.94-2.06-.94-.94-2.06-.94 2.06-2.06.94zm-11 1L8.5 8.5l.94-2.06 2.06-.94-2.06-.94L8.5 2.5l-.94 2.06-2.06.94zm10 10l.94 2.06.94-2.06 2.06-.94-2.06-.94-.94-2.06-.94 2.06-2.06.94z\"/><path d=\"M17.41 7.96l-1.37-1.37c-.4-.4-.92-.59-1.43-.59-.52 0-1.04.2-1.43.59L10.3 9.45l-7.72 7.72c-.78.78-.78 2.05 0 2.83L4 21.41c.39.39.9.59 1.41.59.51 0 1.02-.2 1.41-.59l7.78-7.78 2.81-2.81c.8-.78.8-2.07 0-2.86zM5.41 20L4 18.59l7.72-7.72 1.47 1.35L5.41 20z\"/>\n",
              "  </svg>\n",
              "      </button>\n",
              "      \n",
              "  <style>\n",
              "    .colab-df-container {\n",
              "      display:flex;\n",
              "      flex-wrap:wrap;\n",
              "      gap: 12px;\n",
              "    }\n",
              "\n",
              "    .colab-df-convert {\n",
              "      background-color: #E8F0FE;\n",
              "      border: none;\n",
              "      border-radius: 50%;\n",
              "      cursor: pointer;\n",
              "      display: none;\n",
              "      fill: #1967D2;\n",
              "      height: 32px;\n",
              "      padding: 0 0 0 0;\n",
              "      width: 32px;\n",
              "    }\n",
              "\n",
              "    .colab-df-convert:hover {\n",
              "      background-color: #E2EBFA;\n",
              "      box-shadow: 0px 1px 2px rgba(60, 64, 67, 0.3), 0px 1px 3px 1px rgba(60, 64, 67, 0.15);\n",
              "      fill: #174EA6;\n",
              "    }\n",
              "\n",
              "    [theme=dark] .colab-df-convert {\n",
              "      background-color: #3B4455;\n",
              "      fill: #D2E3FC;\n",
              "    }\n",
              "\n",
              "    [theme=dark] .colab-df-convert:hover {\n",
              "      background-color: #434B5C;\n",
              "      box-shadow: 0px 1px 3px 1px rgba(0, 0, 0, 0.15);\n",
              "      filter: drop-shadow(0px 1px 2px rgba(0, 0, 0, 0.3));\n",
              "      fill: #FFFFFF;\n",
              "    }\n",
              "  </style>\n",
              "\n",
              "      <script>\n",
              "        const buttonEl =\n",
              "          document.querySelector('#df-7aac51a2-0ebb-495c-ad27-d3e639330d39 button.colab-df-convert');\n",
              "        buttonEl.style.display =\n",
              "          google.colab.kernel.accessAllowed ? 'block' : 'none';\n",
              "\n",
              "        async function convertToInteractive(key) {\n",
              "          const element = document.querySelector('#df-7aac51a2-0ebb-495c-ad27-d3e639330d39');\n",
              "          const dataTable =\n",
              "            await google.colab.kernel.invokeFunction('convertToInteractive',\n",
              "                                                     [key], {});\n",
              "          if (!dataTable) return;\n",
              "\n",
              "          const docLinkHtml = 'Like what you see? Visit the ' +\n",
              "            '<a target=\"_blank\" href=https://colab.research.google.com/notebooks/data_table.ipynb>data table notebook</a>'\n",
              "            + ' to learn more about interactive tables.';\n",
              "          element.innerHTML = '';\n",
              "          dataTable['output_type'] = 'display_data';\n",
              "          await google.colab.output.renderOutput(dataTable, element);\n",
              "          const docLink = document.createElement('div');\n",
              "          docLink.innerHTML = docLinkHtml;\n",
              "          element.appendChild(docLink);\n",
              "        }\n",
              "      </script>\n",
              "    </div>\n",
              "  </div>\n",
              "  "
            ]
          },
          "metadata": {},
          "execution_count": 58
        }
      ]
    },
    {
      "cell_type": "code",
      "source": [
        "keyword.head() # keyBERT + NER"
      ],
      "metadata": {
        "colab": {
          "base_uri": "https://localhost:8080/",
          "height": 206
        },
        "id": "NrrCz_15ebfb",
        "outputId": "4fc52df3-7e09-4e6c-c172-f55ebd53e3da"
      },
      "execution_count": 59,
      "outputs": [
        {
          "output_type": "execute_result",
          "data": {
            "text/plain": [
              "                 name                     brand  \\\n",
              "0  Baccarat Rouge 540  Maison Francis Kurkdjian   \n",
              "1       Angels' Share                 By Kilian   \n",
              "2     Tobacco Vanille                  Tom Ford   \n",
              "3    By the Fireplace    Maison Martin Margiela   \n",
              "4         Lost Cherry                  Tom Ford   \n",
              "\n",
              "                                             keyword  \n",
              "0  [vanilla, sweet, sugarsweet, feminine, strawbe...  \n",
              "1  [cinnamony, sweet, buttercream, cognac, vanill...  \n",
              "2  [hazelnut_kitty, tobacco, vanilla, vanilla, ho...  \n",
              "3  [vanilla, vanilla, tea, sweet, marshmellows, s...  \n",
              "4  [perfume, cherry, cinnamon, sweet, rose, cherr...  "
            ],
            "text/html": [
              "\n",
              "  <div id=\"df-2285bcad-854d-4005-a094-d19d12cf14d4\">\n",
              "    <div class=\"colab-df-container\">\n",
              "      <div>\n",
              "<style scoped>\n",
              "    .dataframe tbody tr th:only-of-type {\n",
              "        vertical-align: middle;\n",
              "    }\n",
              "\n",
              "    .dataframe tbody tr th {\n",
              "        vertical-align: top;\n",
              "    }\n",
              "\n",
              "    .dataframe thead th {\n",
              "        text-align: right;\n",
              "    }\n",
              "</style>\n",
              "<table border=\"1\" class=\"dataframe\">\n",
              "  <thead>\n",
              "    <tr style=\"text-align: right;\">\n",
              "      <th></th>\n",
              "      <th>name</th>\n",
              "      <th>brand</th>\n",
              "      <th>keyword</th>\n",
              "    </tr>\n",
              "  </thead>\n",
              "  <tbody>\n",
              "    <tr>\n",
              "      <th>0</th>\n",
              "      <td>Baccarat Rouge 540</td>\n",
              "      <td>Maison Francis Kurkdjian</td>\n",
              "      <td>[vanilla, sweet, sugarsweet, feminine, strawbe...</td>\n",
              "    </tr>\n",
              "    <tr>\n",
              "      <th>1</th>\n",
              "      <td>Angels' Share</td>\n",
              "      <td>By Kilian</td>\n",
              "      <td>[cinnamony, sweet, buttercream, cognac, vanill...</td>\n",
              "    </tr>\n",
              "    <tr>\n",
              "      <th>2</th>\n",
              "      <td>Tobacco Vanille</td>\n",
              "      <td>Tom Ford</td>\n",
              "      <td>[hazelnut_kitty, tobacco, vanilla, vanilla, ho...</td>\n",
              "    </tr>\n",
              "    <tr>\n",
              "      <th>3</th>\n",
              "      <td>By the Fireplace</td>\n",
              "      <td>Maison Martin Margiela</td>\n",
              "      <td>[vanilla, vanilla, tea, sweet, marshmellows, s...</td>\n",
              "    </tr>\n",
              "    <tr>\n",
              "      <th>4</th>\n",
              "      <td>Lost Cherry</td>\n",
              "      <td>Tom Ford</td>\n",
              "      <td>[perfume, cherry, cinnamon, sweet, rose, cherr...</td>\n",
              "    </tr>\n",
              "  </tbody>\n",
              "</table>\n",
              "</div>\n",
              "      <button class=\"colab-df-convert\" onclick=\"convertToInteractive('df-2285bcad-854d-4005-a094-d19d12cf14d4')\"\n",
              "              title=\"Convert this dataframe to an interactive table.\"\n",
              "              style=\"display:none;\">\n",
              "        \n",
              "  <svg xmlns=\"http://www.w3.org/2000/svg\" height=\"24px\"viewBox=\"0 0 24 24\"\n",
              "       width=\"24px\">\n",
              "    <path d=\"M0 0h24v24H0V0z\" fill=\"none\"/>\n",
              "    <path d=\"M18.56 5.44l.94 2.06.94-2.06 2.06-.94-2.06-.94-.94-2.06-.94 2.06-2.06.94zm-11 1L8.5 8.5l.94-2.06 2.06-.94-2.06-.94L8.5 2.5l-.94 2.06-2.06.94zm10 10l.94 2.06.94-2.06 2.06-.94-2.06-.94-.94-2.06-.94 2.06-2.06.94z\"/><path d=\"M17.41 7.96l-1.37-1.37c-.4-.4-.92-.59-1.43-.59-.52 0-1.04.2-1.43.59L10.3 9.45l-7.72 7.72c-.78.78-.78 2.05 0 2.83L4 21.41c.39.39.9.59 1.41.59.51 0 1.02-.2 1.41-.59l7.78-7.78 2.81-2.81c.8-.78.8-2.07 0-2.86zM5.41 20L4 18.59l7.72-7.72 1.47 1.35L5.41 20z\"/>\n",
              "  </svg>\n",
              "      </button>\n",
              "      \n",
              "  <style>\n",
              "    .colab-df-container {\n",
              "      display:flex;\n",
              "      flex-wrap:wrap;\n",
              "      gap: 12px;\n",
              "    }\n",
              "\n",
              "    .colab-df-convert {\n",
              "      background-color: #E8F0FE;\n",
              "      border: none;\n",
              "      border-radius: 50%;\n",
              "      cursor: pointer;\n",
              "      display: none;\n",
              "      fill: #1967D2;\n",
              "      height: 32px;\n",
              "      padding: 0 0 0 0;\n",
              "      width: 32px;\n",
              "    }\n",
              "\n",
              "    .colab-df-convert:hover {\n",
              "      background-color: #E2EBFA;\n",
              "      box-shadow: 0px 1px 2px rgba(60, 64, 67, 0.3), 0px 1px 3px 1px rgba(60, 64, 67, 0.15);\n",
              "      fill: #174EA6;\n",
              "    }\n",
              "\n",
              "    [theme=dark] .colab-df-convert {\n",
              "      background-color: #3B4455;\n",
              "      fill: #D2E3FC;\n",
              "    }\n",
              "\n",
              "    [theme=dark] .colab-df-convert:hover {\n",
              "      background-color: #434B5C;\n",
              "      box-shadow: 0px 1px 3px 1px rgba(0, 0, 0, 0.15);\n",
              "      filter: drop-shadow(0px 1px 2px rgba(0, 0, 0, 0.3));\n",
              "      fill: #FFFFFF;\n",
              "    }\n",
              "  </style>\n",
              "\n",
              "      <script>\n",
              "        const buttonEl =\n",
              "          document.querySelector('#df-2285bcad-854d-4005-a094-d19d12cf14d4 button.colab-df-convert');\n",
              "        buttonEl.style.display =\n",
              "          google.colab.kernel.accessAllowed ? 'block' : 'none';\n",
              "\n",
              "        async function convertToInteractive(key) {\n",
              "          const element = document.querySelector('#df-2285bcad-854d-4005-a094-d19d12cf14d4');\n",
              "          const dataTable =\n",
              "            await google.colab.kernel.invokeFunction('convertToInteractive',\n",
              "                                                     [key], {});\n",
              "          if (!dataTable) return;\n",
              "\n",
              "          const docLinkHtml = 'Like what you see? Visit the ' +\n",
              "            '<a target=\"_blank\" href=https://colab.research.google.com/notebooks/data_table.ipynb>data table notebook</a>'\n",
              "            + ' to learn more about interactive tables.';\n",
              "          element.innerHTML = '';\n",
              "          dataTable['output_type'] = 'display_data';\n",
              "          await google.colab.output.renderOutput(dataTable, element);\n",
              "          const docLink = document.createElement('div');\n",
              "          docLink.innerHTML = docLinkHtml;\n",
              "          element.appendChild(docLink);\n",
              "        }\n",
              "      </script>\n",
              "    </div>\n",
              "  </div>\n",
              "  "
            ]
          },
          "metadata": {},
          "execution_count": 59
        }
      ]
    },
    {
      "cell_type": "markdown",
      "source": [
        "input, ELMo embedding vector의 차원이 다름. 따라서,"
      ],
      "metadata": {
        "id": "5V7VLfCIfPaF"
      }
    },
    {
      "cell_type": "markdown",
      "source": [
        "input을 ELMo vector length (512)만큼 padding 해주고, 두 벡터의 코사인 유사도를 구한다."
      ],
      "metadata": {
        "id": "tdKk1mfpe3g8"
      }
    },
    {
      "cell_type": "code",
      "source": [
        "sample_input = \"I prefer rosy, floral based scent with smoky dry down. However, I would like to avoid any kind of powdery or sharp notes.\""
      ],
      "metadata": {
        "id": "2l3zM8n3fU1c"
      },
      "execution_count": 87,
      "outputs": []
    },
    {
      "cell_type": "code",
      "source": [
        "len(embeddings_df.iloc[2,2]) # strawberry"
      ],
      "metadata": {
        "colab": {
          "base_uri": "https://localhost:8080/"
        },
        "id": "vrmxeA1If6vc",
        "outputId": "d40f3d44-cc00-4c48-bdad-c21e5806b0c0"
      },
      "execution_count": 61,
      "outputs": [
        {
          "output_type": "execute_result",
          "data": {
            "text/plain": [
              "512"
            ]
          },
          "metadata": {},
          "execution_count": 61
        }
      ]
    },
    {
      "cell_type": "code",
      "source": [
        "embeddings_sample_input = nlu.load('elmo').predict(sample_input,output_level='token')"
      ],
      "metadata": {
        "colab": {
          "base_uri": "https://localhost:8080/"
        },
        "id": "DdbJK2H6gScN",
        "outputId": "f4e80ca5-a651-4d53-911e-e017057df2d2"
      },
      "execution_count": 62,
      "outputs": [
        {
          "output_type": "stream",
          "name": "stdout",
          "text": [
            "elmo download started this may take some time.\n",
            "Approximate size to download 334.1 MB\n",
            "[OK!]\n",
            "sentence_detector_dl download started this may take some time.\n",
            "Approximate size to download 354.6 KB\n",
            "[OK!]\n"
          ]
        }
      ]
    },
    {
      "cell_type": "code",
      "source": [
        "embeddings_sample_input.head()"
      ],
      "metadata": {
        "colab": {
          "base_uri": "https://localhost:8080/",
          "height": 206
        },
        "id": "UNJ2MNm7gaC9",
        "outputId": "bbb4681a-5b45-40e4-fdb1-df6decbb96f3"
      },
      "execution_count": 63,
      "outputs": [
        {
          "output_type": "execute_result",
          "data": {
            "text/plain": [
              "    token                                word_embedding_elmo\n",
              "0       I  [0.6922715902328491, -0.32613134384155273, 0.2...\n",
              "0  prefer  [-0.4761667251586914, 1.6042249202728271, 0.09...\n",
              "0    rosy  [-0.5100492835044861, -0.0911402478814125, -1....\n",
              "0       ,  [0.11309446394443512, 0.15746212005615234, 0.1...\n",
              "0  floral  [-1.3007525205612183, -0.43067076802253723, 1...."
            ],
            "text/html": [
              "\n",
              "  <div id=\"df-d3a2bb4e-4207-430d-9f86-3c0f3be56ad3\">\n",
              "    <div class=\"colab-df-container\">\n",
              "      <div>\n",
              "<style scoped>\n",
              "    .dataframe tbody tr th:only-of-type {\n",
              "        vertical-align: middle;\n",
              "    }\n",
              "\n",
              "    .dataframe tbody tr th {\n",
              "        vertical-align: top;\n",
              "    }\n",
              "\n",
              "    .dataframe thead th {\n",
              "        text-align: right;\n",
              "    }\n",
              "</style>\n",
              "<table border=\"1\" class=\"dataframe\">\n",
              "  <thead>\n",
              "    <tr style=\"text-align: right;\">\n",
              "      <th></th>\n",
              "      <th>token</th>\n",
              "      <th>word_embedding_elmo</th>\n",
              "    </tr>\n",
              "  </thead>\n",
              "  <tbody>\n",
              "    <tr>\n",
              "      <th>0</th>\n",
              "      <td>I</td>\n",
              "      <td>[0.6922715902328491, -0.32613134384155273, 0.2...</td>\n",
              "    </tr>\n",
              "    <tr>\n",
              "      <th>0</th>\n",
              "      <td>prefer</td>\n",
              "      <td>[-0.4761667251586914, 1.6042249202728271, 0.09...</td>\n",
              "    </tr>\n",
              "    <tr>\n",
              "      <th>0</th>\n",
              "      <td>rosy</td>\n",
              "      <td>[-0.5100492835044861, -0.0911402478814125, -1....</td>\n",
              "    </tr>\n",
              "    <tr>\n",
              "      <th>0</th>\n",
              "      <td>,</td>\n",
              "      <td>[0.11309446394443512, 0.15746212005615234, 0.1...</td>\n",
              "    </tr>\n",
              "    <tr>\n",
              "      <th>0</th>\n",
              "      <td>floral</td>\n",
              "      <td>[-1.3007525205612183, -0.43067076802253723, 1....</td>\n",
              "    </tr>\n",
              "  </tbody>\n",
              "</table>\n",
              "</div>\n",
              "      <button class=\"colab-df-convert\" onclick=\"convertToInteractive('df-d3a2bb4e-4207-430d-9f86-3c0f3be56ad3')\"\n",
              "              title=\"Convert this dataframe to an interactive table.\"\n",
              "              style=\"display:none;\">\n",
              "        \n",
              "  <svg xmlns=\"http://www.w3.org/2000/svg\" height=\"24px\"viewBox=\"0 0 24 24\"\n",
              "       width=\"24px\">\n",
              "    <path d=\"M0 0h24v24H0V0z\" fill=\"none\"/>\n",
              "    <path d=\"M18.56 5.44l.94 2.06.94-2.06 2.06-.94-2.06-.94-.94-2.06-.94 2.06-2.06.94zm-11 1L8.5 8.5l.94-2.06 2.06-.94-2.06-.94L8.5 2.5l-.94 2.06-2.06.94zm10 10l.94 2.06.94-2.06 2.06-.94-2.06-.94-.94-2.06-.94 2.06-2.06.94z\"/><path d=\"M17.41 7.96l-1.37-1.37c-.4-.4-.92-.59-1.43-.59-.52 0-1.04.2-1.43.59L10.3 9.45l-7.72 7.72c-.78.78-.78 2.05 0 2.83L4 21.41c.39.39.9.59 1.41.59.51 0 1.02-.2 1.41-.59l7.78-7.78 2.81-2.81c.8-.78.8-2.07 0-2.86zM5.41 20L4 18.59l7.72-7.72 1.47 1.35L5.41 20z\"/>\n",
              "  </svg>\n",
              "      </button>\n",
              "      \n",
              "  <style>\n",
              "    .colab-df-container {\n",
              "      display:flex;\n",
              "      flex-wrap:wrap;\n",
              "      gap: 12px;\n",
              "    }\n",
              "\n",
              "    .colab-df-convert {\n",
              "      background-color: #E8F0FE;\n",
              "      border: none;\n",
              "      border-radius: 50%;\n",
              "      cursor: pointer;\n",
              "      display: none;\n",
              "      fill: #1967D2;\n",
              "      height: 32px;\n",
              "      padding: 0 0 0 0;\n",
              "      width: 32px;\n",
              "    }\n",
              "\n",
              "    .colab-df-convert:hover {\n",
              "      background-color: #E2EBFA;\n",
              "      box-shadow: 0px 1px 2px rgba(60, 64, 67, 0.3), 0px 1px 3px 1px rgba(60, 64, 67, 0.15);\n",
              "      fill: #174EA6;\n",
              "    }\n",
              "\n",
              "    [theme=dark] .colab-df-convert {\n",
              "      background-color: #3B4455;\n",
              "      fill: #D2E3FC;\n",
              "    }\n",
              "\n",
              "    [theme=dark] .colab-df-convert:hover {\n",
              "      background-color: #434B5C;\n",
              "      box-shadow: 0px 1px 3px 1px rgba(0, 0, 0, 0.15);\n",
              "      filter: drop-shadow(0px 1px 2px rgba(0, 0, 0, 0.3));\n",
              "      fill: #FFFFFF;\n",
              "    }\n",
              "  </style>\n",
              "\n",
              "      <script>\n",
              "        const buttonEl =\n",
              "          document.querySelector('#df-d3a2bb4e-4207-430d-9f86-3c0f3be56ad3 button.colab-df-convert');\n",
              "        buttonEl.style.display =\n",
              "          google.colab.kernel.accessAllowed ? 'block' : 'none';\n",
              "\n",
              "        async function convertToInteractive(key) {\n",
              "          const element = document.querySelector('#df-d3a2bb4e-4207-430d-9f86-3c0f3be56ad3');\n",
              "          const dataTable =\n",
              "            await google.colab.kernel.invokeFunction('convertToInteractive',\n",
              "                                                     [key], {});\n",
              "          if (!dataTable) return;\n",
              "\n",
              "          const docLinkHtml = 'Like what you see? Visit the ' +\n",
              "            '<a target=\"_blank\" href=https://colab.research.google.com/notebooks/data_table.ipynb>data table notebook</a>'\n",
              "            + ' to learn more about interactive tables.';\n",
              "          element.innerHTML = '';\n",
              "          dataTable['output_type'] = 'display_data';\n",
              "          await google.colab.output.renderOutput(dataTable, element);\n",
              "          const docLink = document.createElement('div');\n",
              "          docLink.innerHTML = docLinkHtml;\n",
              "          element.appendChild(docLink);\n",
              "        }\n",
              "      </script>\n",
              "    </div>\n",
              "  </div>\n",
              "  "
            ]
          },
          "metadata": {},
          "execution_count": 63
        }
      ]
    },
    {
      "cell_type": "markdown",
      "source": [
        "Extract keyword from input by (1) keyBERT, (2) NER"
      ],
      "metadata": {
        "id": "FpnAqqfCgiuW"
      }
    },
    {
      "cell_type": "markdown",
      "source": [
        "load NER model from previous task"
      ],
      "metadata": {
        "id": "E30G1P7jy3l1"
      }
    },
    {
      "cell_type": "code",
      "source": [
        "# import pickle"
      ],
      "metadata": {
        "id": "UcHkceDsz1g1"
      },
      "execution_count": 64,
      "outputs": []
    },
    {
      "cell_type": "code",
      "source": [
        "# nlp_ner = pickle.load(open('ner_model','rb'))"
      ],
      "metadata": {
        "id": "iljjo58jzhA1"
      },
      "execution_count": 65,
      "outputs": []
    },
    {
      "cell_type": "code",
      "source": [
        "# input_ents = list(ner_model(sample_input).ents)"
      ],
      "metadata": {
        "id": "VTByAu8fzaik"
      },
      "execution_count": 66,
      "outputs": []
    },
    {
      "cell_type": "code",
      "source": [
        "# t2t = []\n",
        "# for i in range(len(input_ents)):\n",
        "#   local_word = input_ents[i].text\n",
        "#   t2t += [local_word]"
      ],
      "metadata": {
        "id": "dP0v7Mpg0ujH"
      },
      "execution_count": 67,
      "outputs": []
    },
    {
      "cell_type": "code",
      "source": [
        "# from collections import Counter\n",
        "# input_keyword = [key for key, value in Counter(t2t).most_common()]"
      ],
      "metadata": {
        "id": "3XIY9Ml-z_1G"
      },
      "execution_count": 68,
      "outputs": []
    },
    {
      "cell_type": "markdown",
      "source": [
        "### 1. Keyword dataframe -> Embedding ELMo\n",
        "\n",
        "**Acquire 10*512 ELMo Embedded Vector**"
      ],
      "metadata": {
        "id": "mriGLaj_2gho"
      }
    },
    {
      "cell_type": "code",
      "source": [
        "for i in range(0,144):\n",
        "  globals()[f\"embeddings_df_by_index_{i}\"] = embeddings_df[embeddings_df['index'] == i ]"
      ],
      "metadata": {
        "id": "_PAyf4BnN3-n"
      },
      "execution_count": 71,
      "outputs": []
    },
    {
      "cell_type": "code",
      "source": [
        "embeddings_df_by_index_0[embeddings_df_by_index_0['token'] == 'sugarsweet'] # 한 향수의 리뷰 안에서 sugarsweet는 동일한 벡터로 취급된다."
      ],
      "metadata": {
        "colab": {
          "base_uri": "https://localhost:8080/",
          "height": 81
        },
        "id": "JS-SIIBwOaRX",
        "outputId": "16c55790-55a8-4a78-cdc8-ce47ec544ad6"
      },
      "execution_count": 85,
      "outputs": [
        {
          "output_type": "execute_result",
          "data": {
            "text/plain": [
              "                                                   text       token  \\\n",
              "3890  kin get strawberry jelly candies nostalgic pre...  sugarsweet   \n",
              "\n",
              "                                    word_embedding_elmo  index  \n",
              "3890  [-0.6196644902229309, 0.9715945720672607, 0.35...      0  "
            ],
            "text/html": [
              "\n",
              "  <div id=\"df-0f5a2d2a-b144-4b65-a101-cb63d6b06ba6\">\n",
              "    <div class=\"colab-df-container\">\n",
              "      <div>\n",
              "<style scoped>\n",
              "    .dataframe tbody tr th:only-of-type {\n",
              "        vertical-align: middle;\n",
              "    }\n",
              "\n",
              "    .dataframe tbody tr th {\n",
              "        vertical-align: top;\n",
              "    }\n",
              "\n",
              "    .dataframe thead th {\n",
              "        text-align: right;\n",
              "    }\n",
              "</style>\n",
              "<table border=\"1\" class=\"dataframe\">\n",
              "  <thead>\n",
              "    <tr style=\"text-align: right;\">\n",
              "      <th></th>\n",
              "      <th>text</th>\n",
              "      <th>token</th>\n",
              "      <th>word_embedding_elmo</th>\n",
              "      <th>index</th>\n",
              "    </tr>\n",
              "  </thead>\n",
              "  <tbody>\n",
              "    <tr>\n",
              "      <th>3890</th>\n",
              "      <td>kin get strawberry jelly candies nostalgic pre...</td>\n",
              "      <td>sugarsweet</td>\n",
              "      <td>[-0.6196644902229309, 0.9715945720672607, 0.35...</td>\n",
              "      <td>0</td>\n",
              "    </tr>\n",
              "  </tbody>\n",
              "</table>\n",
              "</div>\n",
              "      <button class=\"colab-df-convert\" onclick=\"convertToInteractive('df-0f5a2d2a-b144-4b65-a101-cb63d6b06ba6')\"\n",
              "              title=\"Convert this dataframe to an interactive table.\"\n",
              "              style=\"display:none;\">\n",
              "        \n",
              "  <svg xmlns=\"http://www.w3.org/2000/svg\" height=\"24px\"viewBox=\"0 0 24 24\"\n",
              "       width=\"24px\">\n",
              "    <path d=\"M0 0h24v24H0V0z\" fill=\"none\"/>\n",
              "    <path d=\"M18.56 5.44l.94 2.06.94-2.06 2.06-.94-2.06-.94-.94-2.06-.94 2.06-2.06.94zm-11 1L8.5 8.5l.94-2.06 2.06-.94-2.06-.94L8.5 2.5l-.94 2.06-2.06.94zm10 10l.94 2.06.94-2.06 2.06-.94-2.06-.94-.94-2.06-.94 2.06-2.06.94z\"/><path d=\"M17.41 7.96l-1.37-1.37c-.4-.4-.92-.59-1.43-.59-.52 0-1.04.2-1.43.59L10.3 9.45l-7.72 7.72c-.78.78-.78 2.05 0 2.83L4 21.41c.39.39.9.59 1.41.59.51 0 1.02-.2 1.41-.59l7.78-7.78 2.81-2.81c.8-.78.8-2.07 0-2.86zM5.41 20L4 18.59l7.72-7.72 1.47 1.35L5.41 20z\"/>\n",
              "  </svg>\n",
              "      </button>\n",
              "      \n",
              "  <style>\n",
              "    .colab-df-container {\n",
              "      display:flex;\n",
              "      flex-wrap:wrap;\n",
              "      gap: 12px;\n",
              "    }\n",
              "\n",
              "    .colab-df-convert {\n",
              "      background-color: #E8F0FE;\n",
              "      border: none;\n",
              "      border-radius: 50%;\n",
              "      cursor: pointer;\n",
              "      display: none;\n",
              "      fill: #1967D2;\n",
              "      height: 32px;\n",
              "      padding: 0 0 0 0;\n",
              "      width: 32px;\n",
              "    }\n",
              "\n",
              "    .colab-df-convert:hover {\n",
              "      background-color: #E2EBFA;\n",
              "      box-shadow: 0px 1px 2px rgba(60, 64, 67, 0.3), 0px 1px 3px 1px rgba(60, 64, 67, 0.15);\n",
              "      fill: #174EA6;\n",
              "    }\n",
              "\n",
              "    [theme=dark] .colab-df-convert {\n",
              "      background-color: #3B4455;\n",
              "      fill: #D2E3FC;\n",
              "    }\n",
              "\n",
              "    [theme=dark] .colab-df-convert:hover {\n",
              "      background-color: #434B5C;\n",
              "      box-shadow: 0px 1px 3px 1px rgba(0, 0, 0, 0.15);\n",
              "      filter: drop-shadow(0px 1px 2px rgba(0, 0, 0, 0.3));\n",
              "      fill: #FFFFFF;\n",
              "    }\n",
              "  </style>\n",
              "\n",
              "      <script>\n",
              "        const buttonEl =\n",
              "          document.querySelector('#df-0f5a2d2a-b144-4b65-a101-cb63d6b06ba6 button.colab-df-convert');\n",
              "        buttonEl.style.display =\n",
              "          google.colab.kernel.accessAllowed ? 'block' : 'none';\n",
              "\n",
              "        async function convertToInteractive(key) {\n",
              "          const element = document.querySelector('#df-0f5a2d2a-b144-4b65-a101-cb63d6b06ba6');\n",
              "          const dataTable =\n",
              "            await google.colab.kernel.invokeFunction('convertToInteractive',\n",
              "                                                     [key], {});\n",
              "          if (!dataTable) return;\n",
              "\n",
              "          const docLinkHtml = 'Like what you see? Visit the ' +\n",
              "            '<a target=\"_blank\" href=https://colab.research.google.com/notebooks/data_table.ipynb>data table notebook</a>'\n",
              "            + ' to learn more about interactive tables.';\n",
              "          element.innerHTML = '';\n",
              "          dataTable['output_type'] = 'display_data';\n",
              "          await google.colab.output.renderOutput(dataTable, element);\n",
              "          const docLink = document.createElement('div');\n",
              "          docLink.innerHTML = docLinkHtml;\n",
              "          element.appendChild(docLink);\n",
              "        }\n",
              "      </script>\n",
              "    </div>\n",
              "  </div>\n",
              "  "
            ]
          },
          "metadata": {},
          "execution_count": 85
        }
      ]
    },
    {
      "cell_type": "code",
      "source": [
        "# boolean = []\n",
        "# for k in range(len(embeddings_df_by_index_0)):\n",
        "#   if embeddings_df_by_index_0['token'][k] in keyword['keyword'][0]:\n",
        "#     boolean += [True]\n",
        "#   else:\n",
        "#     boolean += [False]\n",
        "# len(boolean)"
      ],
      "metadata": {
        "colab": {
          "base_uri": "https://localhost:8080/"
        },
        "id": "CZlOHP5-UxYq",
        "outputId": "6097bb21-0073-4c92-96d1-b9a99ca96daa"
      },
      "execution_count": 123,
      "outputs": [
        {
          "output_type": "execute_result",
          "data": {
            "text/plain": [
              "10354"
            ]
          },
          "metadata": {},
          "execution_count": 123
        }
      ]
    },
    {
      "cell_type": "code",
      "source": [
        "# from itertools import compress\n",
        "# example=list(compress(list(embeddings_df_by_index_0['word_embedding_elmo']),boolean))\n",
        "# len(example)"
      ],
      "metadata": {
        "id": "_v3vzURqZETb"
      },
      "execution_count": 133,
      "outputs": []
    },
    {
      "cell_type": "code",
      "source": [
        "# for n in range(0,144):\n",
        "#   globals()[f\"boolean_{n}\"] = []"
      ],
      "metadata": {
        "id": "F_heSbztVJo6"
      },
      "execution_count": 134,
      "outputs": []
    },
    {
      "cell_type": "code",
      "source": [
        "keyword['keyword'][0]"
      ],
      "metadata": {
        "colab": {
          "base_uri": "https://localhost:8080/"
        },
        "id": "4BwJUrXxXvKa",
        "outputId": "a50b18ae-9ebe-4ef9-82cd-227bd05e7112"
      },
      "execution_count": 113,
      "outputs": [
        {
          "output_type": "execute_result",
          "data": {
            "text/plain": [
              "['vanilla',\n",
              " 'sweet',\n",
              " 'sugarsweet',\n",
              " 'feminine',\n",
              " 'strawberry',\n",
              " 'woody',\n",
              " 'creamier',\n",
              " 'unisex',\n",
              " 'strawberry',\n",
              " 'warm']"
            ]
          },
          "metadata": {},
          "execution_count": 113
        }
      ]
    },
    {
      "cell_type": "code",
      "source": [
        "embeddings_df_by_index_0['token'][4] in keyword['keyword'][0]"
      ],
      "metadata": {
        "colab": {
          "base_uri": "https://localhost:8080/"
        },
        "id": "40cfPSxMX4I7",
        "outputId": "951a2eb6-768f-41f8-daca-9dc94de35ba3"
      },
      "execution_count": 117,
      "outputs": [
        {
          "output_type": "execute_result",
          "data": {
            "text/plain": [
              "False"
            ]
          },
          "metadata": {},
          "execution_count": 117
        }
      ]
    },
    {
      "cell_type": "code",
      "source": [
        "# for i in range(0,144):\n",
        "#   for k in range(len(globals()[f\"embeddings_df_by_index_{i}\"])):\n",
        "#     if globals()[f\"embeddings_df_by_index_{i}\"]['token'][k] in keyword['keyword'][i]:\n",
        "#       globals()[f\"boolean_{i}\"] += [True]\n",
        "#     else:\n",
        "#       globals()[f\"boolean_{i}\"] += [False]"
      ],
      "metadata": {
        "id": "C2Ay6jNtW6Kr"
      },
      "execution_count": 122,
      "outputs": []
    },
    {
      "cell_type": "code",
      "source": [
        "globals()[f\"perfume_{i}th_keyword\"] = {}\n",
        "for i in range(0,144): # i 번째 향수 index\n",
        "  for j in range(len(keyword['keyword'][i])): # j 번째 keyword in keyword\n",
        "    for k in range(len(globals()[f\"embeddings_df_by_index_{i}\"])): # k 번째 token in, i 번째 향수 리뷰\n",
        "      if globals()[f\"embeddings_df_by_index_{i}\"].iloc[k,1] == keyword['keyword'][i][j]: \n",
        "        globals()[f\"perfume_{i}th_keyword\"][keyword['keyword'][i][j]] = globals()[f\"embeddings_df_by_index_{i}\"].iloc[k,2]\n",
        "      else:\n",
        "        k +=1\n"
      ],
      "metadata": {
        "id": "GHHE_lDZO7YL"
      },
      "execution_count": 137,
      "outputs": []
    },
    {
      "cell_type": "markdown",
      "source": [
        "⭐**위에 코드 조금 헷갈렸었는데 해결함. 해결방법은 `k += 1` 이었음. dynamic looping 할때 주의할 것**❗"
      ],
      "metadata": {
        "id": "mU_6c3Dcdu8a"
      }
    },
    {
      "cell_type": "code",
      "source": [
        "perfume_0th_keyword.keys()"
      ],
      "metadata": {
        "colab": {
          "base_uri": "https://localhost:8080/"
        },
        "id": "tueNbwyReXFe",
        "outputId": "5228c86e-c4ed-476f-d84d-30e028a11531"
      },
      "execution_count": 140,
      "outputs": [
        {
          "output_type": "execute_result",
          "data": {
            "text/plain": [
              "dict_keys(['warm', 'vanilla', 'sweet', 'sugarsweet', 'feminine', 'strawberry', 'woody', 'creamier', 'unisex'])"
            ]
          },
          "metadata": {},
          "execution_count": 140
        }
      ]
    },
    {
      "cell_type": "code",
      "source": [
        "perfume_0th_vector = pd.DataFrame(perfume_0th_keyword).transpose()\n",
        "perfume_0th_vector['embeddings'] = ''\n",
        "\n",
        "\n",
        "for v in range(len(perfume_0th_vector)):\n",
        "  embedding = []\n",
        "  for i in range(0,512):\n",
        "    embedding.append(perfume_0th_vector[i][v]) # column에 먼저 접근하고, row에 접근함. (리스트로 만들었기 때문)\n",
        "    perfume_0th_vector['embeddings'][v] = embedding\n",
        "perfume_0th_vector.drop(range(0,512),axis=1,inplace=True)\n",
        "perfume_0th_vector.reset_index(inplace=True)\n",
        "perfume_0th_vector.columns = ['keyword','embeddings']"
      ],
      "metadata": {
        "id": "U1O3W4Uue6Fv"
      },
      "execution_count": 159,
      "outputs": []
    },
    {
      "cell_type": "code",
      "source": [
        "perfume_0th_vector"
      ],
      "metadata": {
        "id": "c3X7eaQ_guwA"
      },
      "execution_count": null,
      "outputs": []
    },
    {
      "cell_type": "markdown",
      "source": [
        "⭐**Dynamically Create Vectors** ⭐\n",
        "\n",
        "\n"
      ],
      "metadata": {
        "id": "3_TtwxD-hc4O"
      }
    },
    {
      "cell_type": "code",
      "source": [
        "for i in range(0,144):\n",
        "  globals()[f\"perfume_{i}th_vector\"] = pd.DataFrame(globals()[f\"perfume_{i}th_keyword\"]).transpose()\n",
        "  globals()[f\"perfume_{i}th_vector\"][\"embeddings\"] = ''\n",
        "\n",
        "  for j in range(len(globals()[f\"perfume_{i}th_vector\"])): # jth row\n",
        "    embedding = []\n",
        "\n",
        "    for k in range(0,512): # kth column\n",
        "      embedding.append(globals()[f\"perfume_{i}th_vector\"][k][j])\n",
        "      globals()[f\"perfume_{i}th_vector\"]['embeddings'][j] = embedding # jth row 에 embedding 합친 리스트를 할당함\n",
        "  globals()[f\"perfume_{i}th_vector\"].drop(range(0,512),axis=1,inplace=True)\n",
        "  globals()[f\"perfume_{i}th_vector\"].reset_index(inplace=True)\n",
        "  globals()[f\"perfume_{i}th_vector\"].columns = ['keyword','embeddings']"
      ],
      "metadata": {
        "id": "OWJBoYjUhgiv"
      },
      "execution_count": 167,
      "outputs": []
    },
    {
      "cell_type": "code",
      "source": [
        "perfume_100th_vector"
      ],
      "metadata": {
        "colab": {
          "base_uri": "https://localhost:8080/",
          "height": 331
        },
        "id": "zURbeTJrjxHh",
        "outputId": "a2b2df5f-3083-460d-a1de-8053278a8bf1"
      },
      "execution_count": 168,
      "outputs": [
        {
          "output_type": "execute_result",
          "data": {
            "text/plain": [
              "        keyword                                         embeddings\n",
              "0       vanilla  [-0.31130504608154297, -0.5989245772361755, 0....\n",
              "1     soapiness  [-0.6010147929191589, -0.6420184969902039, 0.5...\n",
              "2         sweet  [-0.2673688530921936, -0.4698314964771271, 0.1...\n",
              "3      cinnamon  [-1.1165845394134521, 0.015095822513103485, 0....\n",
              "4         spicy  [-0.8897775411605835, 1.115942120552063, -0.49...\n",
              "5  aromatherapy  [-1.509810209274292, -0.5256481766700745, 1.18...\n",
              "6        herbal  [-0.6369783878326416, 0.7393611669540405, 0.40...\n",
              "7          warm  [0.07284407317638397, -1.160307765007019, 0.50...\n",
              "8  intoxicating  [-0.7853202819824219, 0.06775322556495667, 0.2..."
            ],
            "text/html": [
              "\n",
              "  <div id=\"df-e8c0267b-587d-4f35-bdb8-fae2e3899b24\">\n",
              "    <div class=\"colab-df-container\">\n",
              "      <div>\n",
              "<style scoped>\n",
              "    .dataframe tbody tr th:only-of-type {\n",
              "        vertical-align: middle;\n",
              "    }\n",
              "\n",
              "    .dataframe tbody tr th {\n",
              "        vertical-align: top;\n",
              "    }\n",
              "\n",
              "    .dataframe thead th {\n",
              "        text-align: right;\n",
              "    }\n",
              "</style>\n",
              "<table border=\"1\" class=\"dataframe\">\n",
              "  <thead>\n",
              "    <tr style=\"text-align: right;\">\n",
              "      <th></th>\n",
              "      <th>keyword</th>\n",
              "      <th>embeddings</th>\n",
              "    </tr>\n",
              "  </thead>\n",
              "  <tbody>\n",
              "    <tr>\n",
              "      <th>0</th>\n",
              "      <td>vanilla</td>\n",
              "      <td>[-0.31130504608154297, -0.5989245772361755, 0....</td>\n",
              "    </tr>\n",
              "    <tr>\n",
              "      <th>1</th>\n",
              "      <td>soapiness</td>\n",
              "      <td>[-0.6010147929191589, -0.6420184969902039, 0.5...</td>\n",
              "    </tr>\n",
              "    <tr>\n",
              "      <th>2</th>\n",
              "      <td>sweet</td>\n",
              "      <td>[-0.2673688530921936, -0.4698314964771271, 0.1...</td>\n",
              "    </tr>\n",
              "    <tr>\n",
              "      <th>3</th>\n",
              "      <td>cinnamon</td>\n",
              "      <td>[-1.1165845394134521, 0.015095822513103485, 0....</td>\n",
              "    </tr>\n",
              "    <tr>\n",
              "      <th>4</th>\n",
              "      <td>spicy</td>\n",
              "      <td>[-0.8897775411605835, 1.115942120552063, -0.49...</td>\n",
              "    </tr>\n",
              "    <tr>\n",
              "      <th>5</th>\n",
              "      <td>aromatherapy</td>\n",
              "      <td>[-1.509810209274292, -0.5256481766700745, 1.18...</td>\n",
              "    </tr>\n",
              "    <tr>\n",
              "      <th>6</th>\n",
              "      <td>herbal</td>\n",
              "      <td>[-0.6369783878326416, 0.7393611669540405, 0.40...</td>\n",
              "    </tr>\n",
              "    <tr>\n",
              "      <th>7</th>\n",
              "      <td>warm</td>\n",
              "      <td>[0.07284407317638397, -1.160307765007019, 0.50...</td>\n",
              "    </tr>\n",
              "    <tr>\n",
              "      <th>8</th>\n",
              "      <td>intoxicating</td>\n",
              "      <td>[-0.7853202819824219, 0.06775322556495667, 0.2...</td>\n",
              "    </tr>\n",
              "  </tbody>\n",
              "</table>\n",
              "</div>\n",
              "      <button class=\"colab-df-convert\" onclick=\"convertToInteractive('df-e8c0267b-587d-4f35-bdb8-fae2e3899b24')\"\n",
              "              title=\"Convert this dataframe to an interactive table.\"\n",
              "              style=\"display:none;\">\n",
              "        \n",
              "  <svg xmlns=\"http://www.w3.org/2000/svg\" height=\"24px\"viewBox=\"0 0 24 24\"\n",
              "       width=\"24px\">\n",
              "    <path d=\"M0 0h24v24H0V0z\" fill=\"none\"/>\n",
              "    <path d=\"M18.56 5.44l.94 2.06.94-2.06 2.06-.94-2.06-.94-.94-2.06-.94 2.06-2.06.94zm-11 1L8.5 8.5l.94-2.06 2.06-.94-2.06-.94L8.5 2.5l-.94 2.06-2.06.94zm10 10l.94 2.06.94-2.06 2.06-.94-2.06-.94-.94-2.06-.94 2.06-2.06.94z\"/><path d=\"M17.41 7.96l-1.37-1.37c-.4-.4-.92-.59-1.43-.59-.52 0-1.04.2-1.43.59L10.3 9.45l-7.72 7.72c-.78.78-.78 2.05 0 2.83L4 21.41c.39.39.9.59 1.41.59.51 0 1.02-.2 1.41-.59l7.78-7.78 2.81-2.81c.8-.78.8-2.07 0-2.86zM5.41 20L4 18.59l7.72-7.72 1.47 1.35L5.41 20z\"/>\n",
              "  </svg>\n",
              "      </button>\n",
              "      \n",
              "  <style>\n",
              "    .colab-df-container {\n",
              "      display:flex;\n",
              "      flex-wrap:wrap;\n",
              "      gap: 12px;\n",
              "    }\n",
              "\n",
              "    .colab-df-convert {\n",
              "      background-color: #E8F0FE;\n",
              "      border: none;\n",
              "      border-radius: 50%;\n",
              "      cursor: pointer;\n",
              "      display: none;\n",
              "      fill: #1967D2;\n",
              "      height: 32px;\n",
              "      padding: 0 0 0 0;\n",
              "      width: 32px;\n",
              "    }\n",
              "\n",
              "    .colab-df-convert:hover {\n",
              "      background-color: #E2EBFA;\n",
              "      box-shadow: 0px 1px 2px rgba(60, 64, 67, 0.3), 0px 1px 3px 1px rgba(60, 64, 67, 0.15);\n",
              "      fill: #174EA6;\n",
              "    }\n",
              "\n",
              "    [theme=dark] .colab-df-convert {\n",
              "      background-color: #3B4455;\n",
              "      fill: #D2E3FC;\n",
              "    }\n",
              "\n",
              "    [theme=dark] .colab-df-convert:hover {\n",
              "      background-color: #434B5C;\n",
              "      box-shadow: 0px 1px 3px 1px rgba(0, 0, 0, 0.15);\n",
              "      filter: drop-shadow(0px 1px 2px rgba(0, 0, 0, 0.3));\n",
              "      fill: #FFFFFF;\n",
              "    }\n",
              "  </style>\n",
              "\n",
              "      <script>\n",
              "        const buttonEl =\n",
              "          document.querySelector('#df-e8c0267b-587d-4f35-bdb8-fae2e3899b24 button.colab-df-convert');\n",
              "        buttonEl.style.display =\n",
              "          google.colab.kernel.accessAllowed ? 'block' : 'none';\n",
              "\n",
              "        async function convertToInteractive(key) {\n",
              "          const element = document.querySelector('#df-e8c0267b-587d-4f35-bdb8-fae2e3899b24');\n",
              "          const dataTable =\n",
              "            await google.colab.kernel.invokeFunction('convertToInteractive',\n",
              "                                                     [key], {});\n",
              "          if (!dataTable) return;\n",
              "\n",
              "          const docLinkHtml = 'Like what you see? Visit the ' +\n",
              "            '<a target=\"_blank\" href=https://colab.research.google.com/notebooks/data_table.ipynb>data table notebook</a>'\n",
              "            + ' to learn more about interactive tables.';\n",
              "          element.innerHTML = '';\n",
              "          dataTable['output_type'] = 'display_data';\n",
              "          await google.colab.output.renderOutput(dataTable, element);\n",
              "          const docLink = document.createElement('div');\n",
              "          docLink.innerHTML = docLinkHtml;\n",
              "          element.appendChild(docLink);\n",
              "        }\n",
              "      </script>\n",
              "    </div>\n",
              "  </div>\n",
              "  "
            ]
          },
          "metadata": {},
          "execution_count": 168
        }
      ]
    },
    {
      "cell_type": "code",
      "source": [
        "perfume_143th_vector"
      ],
      "metadata": {
        "colab": {
          "base_uri": "https://localhost:8080/",
          "height": 331
        },
        "id": "IWXSWlJ1kKDR",
        "outputId": "4ba5ee6a-b99d-47c5-c416-4e1e4e30c62a"
      },
      "execution_count": 169,
      "outputs": [
        {
          "output_type": "execute_result",
          "data": {
            "text/plain": [
              "        keyword                                         embeddings\n",
              "0       jasmine  [-0.280725359916687, -0.6509876251220703, 0.36...\n",
              "1       vanilla  [-0.31130504608154297, -0.5989245772361755, 0....\n",
              "2   butteriness  [-1.5927531719207764, -0.1343236267566681, -0....\n",
              "3         sweet  [-0.2673688530921936, -0.4698314964771271, 0.1...\n",
              "4           tea  [-0.4590742588043213, -0.7632981538772583, 0.5...\n",
              "5        summer  [0.5416969060897827, 0.6820259094238281, -0.08...\n",
              "6  coconutiness  [-0.8889951109886169, -0.13306169211864471, 0....\n",
              "7        creamy  [-0.6275959610939026, -0.04324675351381302, 0....\n",
              "8       cupcake  [-0.27284932136535645, -0.13251814246177673, 0..."
            ],
            "text/html": [
              "\n",
              "  <div id=\"df-66ca035e-9067-4c7f-a9e3-48f4cbb7ac0c\">\n",
              "    <div class=\"colab-df-container\">\n",
              "      <div>\n",
              "<style scoped>\n",
              "    .dataframe tbody tr th:only-of-type {\n",
              "        vertical-align: middle;\n",
              "    }\n",
              "\n",
              "    .dataframe tbody tr th {\n",
              "        vertical-align: top;\n",
              "    }\n",
              "\n",
              "    .dataframe thead th {\n",
              "        text-align: right;\n",
              "    }\n",
              "</style>\n",
              "<table border=\"1\" class=\"dataframe\">\n",
              "  <thead>\n",
              "    <tr style=\"text-align: right;\">\n",
              "      <th></th>\n",
              "      <th>keyword</th>\n",
              "      <th>embeddings</th>\n",
              "    </tr>\n",
              "  </thead>\n",
              "  <tbody>\n",
              "    <tr>\n",
              "      <th>0</th>\n",
              "      <td>jasmine</td>\n",
              "      <td>[-0.280725359916687, -0.6509876251220703, 0.36...</td>\n",
              "    </tr>\n",
              "    <tr>\n",
              "      <th>1</th>\n",
              "      <td>vanilla</td>\n",
              "      <td>[-0.31130504608154297, -0.5989245772361755, 0....</td>\n",
              "    </tr>\n",
              "    <tr>\n",
              "      <th>2</th>\n",
              "      <td>butteriness</td>\n",
              "      <td>[-1.5927531719207764, -0.1343236267566681, -0....</td>\n",
              "    </tr>\n",
              "    <tr>\n",
              "      <th>3</th>\n",
              "      <td>sweet</td>\n",
              "      <td>[-0.2673688530921936, -0.4698314964771271, 0.1...</td>\n",
              "    </tr>\n",
              "    <tr>\n",
              "      <th>4</th>\n",
              "      <td>tea</td>\n",
              "      <td>[-0.4590742588043213, -0.7632981538772583, 0.5...</td>\n",
              "    </tr>\n",
              "    <tr>\n",
              "      <th>5</th>\n",
              "      <td>summer</td>\n",
              "      <td>[0.5416969060897827, 0.6820259094238281, -0.08...</td>\n",
              "    </tr>\n",
              "    <tr>\n",
              "      <th>6</th>\n",
              "      <td>coconutiness</td>\n",
              "      <td>[-0.8889951109886169, -0.13306169211864471, 0....</td>\n",
              "    </tr>\n",
              "    <tr>\n",
              "      <th>7</th>\n",
              "      <td>creamy</td>\n",
              "      <td>[-0.6275959610939026, -0.04324675351381302, 0....</td>\n",
              "    </tr>\n",
              "    <tr>\n",
              "      <th>8</th>\n",
              "      <td>cupcake</td>\n",
              "      <td>[-0.27284932136535645, -0.13251814246177673, 0...</td>\n",
              "    </tr>\n",
              "  </tbody>\n",
              "</table>\n",
              "</div>\n",
              "      <button class=\"colab-df-convert\" onclick=\"convertToInteractive('df-66ca035e-9067-4c7f-a9e3-48f4cbb7ac0c')\"\n",
              "              title=\"Convert this dataframe to an interactive table.\"\n",
              "              style=\"display:none;\">\n",
              "        \n",
              "  <svg xmlns=\"http://www.w3.org/2000/svg\" height=\"24px\"viewBox=\"0 0 24 24\"\n",
              "       width=\"24px\">\n",
              "    <path d=\"M0 0h24v24H0V0z\" fill=\"none\"/>\n",
              "    <path d=\"M18.56 5.44l.94 2.06.94-2.06 2.06-.94-2.06-.94-.94-2.06-.94 2.06-2.06.94zm-11 1L8.5 8.5l.94-2.06 2.06-.94-2.06-.94L8.5 2.5l-.94 2.06-2.06.94zm10 10l.94 2.06.94-2.06 2.06-.94-2.06-.94-.94-2.06-.94 2.06-2.06.94z\"/><path d=\"M17.41 7.96l-1.37-1.37c-.4-.4-.92-.59-1.43-.59-.52 0-1.04.2-1.43.59L10.3 9.45l-7.72 7.72c-.78.78-.78 2.05 0 2.83L4 21.41c.39.39.9.59 1.41.59.51 0 1.02-.2 1.41-.59l7.78-7.78 2.81-2.81c.8-.78.8-2.07 0-2.86zM5.41 20L4 18.59l7.72-7.72 1.47 1.35L5.41 20z\"/>\n",
              "  </svg>\n",
              "      </button>\n",
              "      \n",
              "  <style>\n",
              "    .colab-df-container {\n",
              "      display:flex;\n",
              "      flex-wrap:wrap;\n",
              "      gap: 12px;\n",
              "    }\n",
              "\n",
              "    .colab-df-convert {\n",
              "      background-color: #E8F0FE;\n",
              "      border: none;\n",
              "      border-radius: 50%;\n",
              "      cursor: pointer;\n",
              "      display: none;\n",
              "      fill: #1967D2;\n",
              "      height: 32px;\n",
              "      padding: 0 0 0 0;\n",
              "      width: 32px;\n",
              "    }\n",
              "\n",
              "    .colab-df-convert:hover {\n",
              "      background-color: #E2EBFA;\n",
              "      box-shadow: 0px 1px 2px rgba(60, 64, 67, 0.3), 0px 1px 3px 1px rgba(60, 64, 67, 0.15);\n",
              "      fill: #174EA6;\n",
              "    }\n",
              "\n",
              "    [theme=dark] .colab-df-convert {\n",
              "      background-color: #3B4455;\n",
              "      fill: #D2E3FC;\n",
              "    }\n",
              "\n",
              "    [theme=dark] .colab-df-convert:hover {\n",
              "      background-color: #434B5C;\n",
              "      box-shadow: 0px 1px 3px 1px rgba(0, 0, 0, 0.15);\n",
              "      filter: drop-shadow(0px 1px 2px rgba(0, 0, 0, 0.3));\n",
              "      fill: #FFFFFF;\n",
              "    }\n",
              "  </style>\n",
              "\n",
              "      <script>\n",
              "        const buttonEl =\n",
              "          document.querySelector('#df-66ca035e-9067-4c7f-a9e3-48f4cbb7ac0c button.colab-df-convert');\n",
              "        buttonEl.style.display =\n",
              "          google.colab.kernel.accessAllowed ? 'block' : 'none';\n",
              "\n",
              "        async function convertToInteractive(key) {\n",
              "          const element = document.querySelector('#df-66ca035e-9067-4c7f-a9e3-48f4cbb7ac0c');\n",
              "          const dataTable =\n",
              "            await google.colab.kernel.invokeFunction('convertToInteractive',\n",
              "                                                     [key], {});\n",
              "          if (!dataTable) return;\n",
              "\n",
              "          const docLinkHtml = 'Like what you see? Visit the ' +\n",
              "            '<a target=\"_blank\" href=https://colab.research.google.com/notebooks/data_table.ipynb>data table notebook</a>'\n",
              "            + ' to learn more about interactive tables.';\n",
              "          element.innerHTML = '';\n",
              "          dataTable['output_type'] = 'display_data';\n",
              "          await google.colab.output.renderOutput(dataTable, element);\n",
              "          const docLink = document.createElement('div');\n",
              "          docLink.innerHTML = docLinkHtml;\n",
              "          element.appendChild(docLink);\n",
              "        }\n",
              "      </script>\n",
              "    </div>\n",
              "  </div>\n",
              "  "
            ]
          },
          "metadata": {},
          "execution_count": 169
        }
      ]
    },
    {
      "cell_type": "markdown",
      "source": [
        "⭐ **vanilla 라는 단어에 대해서, 향수 각각 마다 vanilla 의 의미가 조금씩 다를것이다. 어떤 향수는 sweet vanilla 일 것이고, 어떤 향수는 herbal vanilla 일 것이다. 이것의 의미차이를 구분할수 있게끔 ELMo contextual embedding을 진행하여 미묘한 의미차이를 임베딩을 통해 나타내었음.**"
      ],
      "metadata": {
        "id": "9U7itr5YkUSK"
      }
    },
    {
      "cell_type": "markdown",
      "source": [
        "⭐ **이렇게 했을 시, input에서 사용자가 원하는 keyword간의 관계를 더 세밀하게 고려하여, sweet vanilla와 herbal vanilla를 다르게 고려할 수 있는 향수 추천 시스템을 구현할 수 있게 된다.** \n",
        "\n",
        "**또한 ELMo를 통해 semantic embedding이 가능하게 되어, vanilla와 not vanilla의 의미를 구분하여 추천할 수 있게 된다.**"
      ],
      "metadata": {
        "id": "mFVz9Zw8ktzb"
      }
    },
    {
      "cell_type": "code",
      "source": [
        "for i in range(0,144):\n",
        "  globals()[f\"perfume_{i}th_vector\"].to_csv('/content/drive/MyDrive/23SS_NLP/perfume_embedded_elmo/perfume_{}th_vector.csv'.format(i)) # 저장"
      ],
      "metadata": {
        "id": "851Lpj6Nmk8x"
      },
      "execution_count": 180,
      "outputs": []
    },
    {
      "cell_type": "code",
      "source": [
        "# for i in range(0,.144): # i 번째 향수 index\n",
        "#   for j in range(len(keyword['keyword'][i])): # j 번째 keyword in keyword\n",
        "#     for k in range(len(review_data[i])): # k 번째 token in, i 번째 향수 리뷰\n",
        "#       if embeddings_df.iloc[k,1] == keyword['keyword'][i][j]:\n",
        "#         globals()[f\"perfume_{i}_keyword\"] = {}\n",
        "#         globals()[f\"perfume_{i}_keyword\"][keyword['keyword'][i][j]] = embeddings_df.iloc[]\n",
        "      "
      ],
      "metadata": {
        "id": "zXPOb6ytK2cl"
      },
      "execution_count": null,
      "outputs": []
    },
    {
      "cell_type": "code",
      "source": [
        "# keyword['keyword'][0][2]"
      ],
      "metadata": {
        "colab": {
          "base_uri": "https://localhost:8080/",
          "height": 35
        },
        "id": "iP4y4YHjJdHl",
        "outputId": "ca4f929f-31d1-43e6-f935-1b5bf33d610d"
      },
      "execution_count": 84,
      "outputs": [
        {
          "output_type": "execute_result",
          "data": {
            "text/plain": [
              "'sugarsweet'"
            ],
            "application/vnd.google.colaboratory.intrinsic+json": {
              "type": "string"
            }
          },
          "metadata": {},
          "execution_count": 84
        }
      ]
    },
    {
      "cell_type": "code",
      "source": [
        "# embeddings_df_by_index_0.iloc[:,1]"
      ],
      "metadata": {
        "colab": {
          "base_uri": "https://localhost:8080/"
        },
        "id": "Xyi19lEbJyfk",
        "outputId": "909f3422-d121-4099-872c-780a12f6cad8"
      },
      "execution_count": 136,
      "outputs": [
        {
          "output_type": "execute_result",
          "data": {
            "text/plain": [
              "0               kin\n",
              "1               get\n",
              "2        strawberry\n",
              "3             jelly\n",
              "4           candies\n",
              "            ...    \n",
              "10349          glad\n",
              "10350         didnt\n",
              "10351         blind\n",
              "10352           buy\n",
              "10353          this\n",
              "Name: token, Length: 10354, dtype: object"
            ]
          },
          "metadata": {},
          "execution_count": 136
        }
      ]
    },
    {
      "cell_type": "code",
      "source": [],
      "metadata": {
        "id": "xMxj_CpJmeVC"
      },
      "execution_count": null,
      "outputs": []
    },
    {
      "cell_type": "markdown",
      "source": [
        "### 2. Input dataframe -> Embedding ELMo\n",
        "\n",
        "**Acquire s*512 ELMo Embedded Vector** (where s <10) "
      ],
      "metadata": {
        "id": "si91kg_F27HK"
      }
    },
    {
      "cell_type": "code",
      "source": [
        "sample_input = \"I prefer rosy, floral based scent with smoky dry down. However, I would like to avoid any kind of powdery or sharp notes.\""
      ],
      "metadata": {
        "id": "R7NTQLvlkHTm"
      },
      "execution_count": 173,
      "outputs": []
    },
    {
      "cell_type": "code",
      "source": [
        "len(embeddings_df.iloc[2,2]) # strawberry"
      ],
      "metadata": {
        "colab": {
          "base_uri": "https://localhost:8080/"
        },
        "outputId": "14cf321d-ca8b-4585-a759-ad372291949b",
        "id": "1ErTjHG7kHTm"
      },
      "execution_count": 174,
      "outputs": [
        {
          "output_type": "execute_result",
          "data": {
            "text/plain": [
              "512"
            ]
          },
          "metadata": {},
          "execution_count": 174
        }
      ]
    },
    {
      "cell_type": "code",
      "source": [
        "embeddings_sample_input = nlu.load('elmo').predict(sample_input,output_level='token')"
      ],
      "metadata": {
        "colab": {
          "base_uri": "https://localhost:8080/"
        },
        "outputId": "3137c5af-c0b2-45c0-ca77-b7e2e9ecfdb4",
        "id": "SmibeFfkkHTm"
      },
      "execution_count": 175,
      "outputs": [
        {
          "output_type": "stream",
          "name": "stdout",
          "text": [
            "elmo download started this may take some time.\n",
            "Approximate size to download 334.1 MB\n",
            "[OK!]\n",
            "sentence_detector_dl download started this may take some time.\n",
            "Approximate size to download 354.6 KB\n",
            "[OK!]\n"
          ]
        }
      ]
    },
    {
      "cell_type": "code",
      "source": [
        "embeddings_sample_input.head()"
      ],
      "metadata": {
        "colab": {
          "base_uri": "https://localhost:8080/",
          "height": 206
        },
        "outputId": "b30bbe57-1dbb-4b29-b879-62d1e6dd341f",
        "id": "pD2QZ4e8kHTm"
      },
      "execution_count": 176,
      "outputs": [
        {
          "output_type": "execute_result",
          "data": {
            "text/plain": [
              "    token                                word_embedding_elmo\n",
              "0       I  [0.6922715902328491, -0.32613134384155273, 0.2...\n",
              "0  prefer  [-0.4761667251586914, 1.6042249202728271, 0.09...\n",
              "0    rosy  [-0.5100492835044861, -0.0911402478814125, -1....\n",
              "0       ,  [0.11309446394443512, 0.15746212005615234, 0.1...\n",
              "0  floral  [-1.3007525205612183, -0.43067076802253723, 1...."
            ],
            "text/html": [
              "\n",
              "  <div id=\"df-6b8b1695-c8df-49b6-89ab-18e014058cf1\">\n",
              "    <div class=\"colab-df-container\">\n",
              "      <div>\n",
              "<style scoped>\n",
              "    .dataframe tbody tr th:only-of-type {\n",
              "        vertical-align: middle;\n",
              "    }\n",
              "\n",
              "    .dataframe tbody tr th {\n",
              "        vertical-align: top;\n",
              "    }\n",
              "\n",
              "    .dataframe thead th {\n",
              "        text-align: right;\n",
              "    }\n",
              "</style>\n",
              "<table border=\"1\" class=\"dataframe\">\n",
              "  <thead>\n",
              "    <tr style=\"text-align: right;\">\n",
              "      <th></th>\n",
              "      <th>token</th>\n",
              "      <th>word_embedding_elmo</th>\n",
              "    </tr>\n",
              "  </thead>\n",
              "  <tbody>\n",
              "    <tr>\n",
              "      <th>0</th>\n",
              "      <td>I</td>\n",
              "      <td>[0.6922715902328491, -0.32613134384155273, 0.2...</td>\n",
              "    </tr>\n",
              "    <tr>\n",
              "      <th>0</th>\n",
              "      <td>prefer</td>\n",
              "      <td>[-0.4761667251586914, 1.6042249202728271, 0.09...</td>\n",
              "    </tr>\n",
              "    <tr>\n",
              "      <th>0</th>\n",
              "      <td>rosy</td>\n",
              "      <td>[-0.5100492835044861, -0.0911402478814125, -1....</td>\n",
              "    </tr>\n",
              "    <tr>\n",
              "      <th>0</th>\n",
              "      <td>,</td>\n",
              "      <td>[0.11309446394443512, 0.15746212005615234, 0.1...</td>\n",
              "    </tr>\n",
              "    <tr>\n",
              "      <th>0</th>\n",
              "      <td>floral</td>\n",
              "      <td>[-1.3007525205612183, -0.43067076802253723, 1....</td>\n",
              "    </tr>\n",
              "  </tbody>\n",
              "</table>\n",
              "</div>\n",
              "      <button class=\"colab-df-convert\" onclick=\"convertToInteractive('df-6b8b1695-c8df-49b6-89ab-18e014058cf1')\"\n",
              "              title=\"Convert this dataframe to an interactive table.\"\n",
              "              style=\"display:none;\">\n",
              "        \n",
              "  <svg xmlns=\"http://www.w3.org/2000/svg\" height=\"24px\"viewBox=\"0 0 24 24\"\n",
              "       width=\"24px\">\n",
              "    <path d=\"M0 0h24v24H0V0z\" fill=\"none\"/>\n",
              "    <path d=\"M18.56 5.44l.94 2.06.94-2.06 2.06-.94-2.06-.94-.94-2.06-.94 2.06-2.06.94zm-11 1L8.5 8.5l.94-2.06 2.06-.94-2.06-.94L8.5 2.5l-.94 2.06-2.06.94zm10 10l.94 2.06.94-2.06 2.06-.94-2.06-.94-.94-2.06-.94 2.06-2.06.94z\"/><path d=\"M17.41 7.96l-1.37-1.37c-.4-.4-.92-.59-1.43-.59-.52 0-1.04.2-1.43.59L10.3 9.45l-7.72 7.72c-.78.78-.78 2.05 0 2.83L4 21.41c.39.39.9.59 1.41.59.51 0 1.02-.2 1.41-.59l7.78-7.78 2.81-2.81c.8-.78.8-2.07 0-2.86zM5.41 20L4 18.59l7.72-7.72 1.47 1.35L5.41 20z\"/>\n",
              "  </svg>\n",
              "      </button>\n",
              "      \n",
              "  <style>\n",
              "    .colab-df-container {\n",
              "      display:flex;\n",
              "      flex-wrap:wrap;\n",
              "      gap: 12px;\n",
              "    }\n",
              "\n",
              "    .colab-df-convert {\n",
              "      background-color: #E8F0FE;\n",
              "      border: none;\n",
              "      border-radius: 50%;\n",
              "      cursor: pointer;\n",
              "      display: none;\n",
              "      fill: #1967D2;\n",
              "      height: 32px;\n",
              "      padding: 0 0 0 0;\n",
              "      width: 32px;\n",
              "    }\n",
              "\n",
              "    .colab-df-convert:hover {\n",
              "      background-color: #E2EBFA;\n",
              "      box-shadow: 0px 1px 2px rgba(60, 64, 67, 0.3), 0px 1px 3px 1px rgba(60, 64, 67, 0.15);\n",
              "      fill: #174EA6;\n",
              "    }\n",
              "\n",
              "    [theme=dark] .colab-df-convert {\n",
              "      background-color: #3B4455;\n",
              "      fill: #D2E3FC;\n",
              "    }\n",
              "\n",
              "    [theme=dark] .colab-df-convert:hover {\n",
              "      background-color: #434B5C;\n",
              "      box-shadow: 0px 1px 3px 1px rgba(0, 0, 0, 0.15);\n",
              "      filter: drop-shadow(0px 1px 2px rgba(0, 0, 0, 0.3));\n",
              "      fill: #FFFFFF;\n",
              "    }\n",
              "  </style>\n",
              "\n",
              "      <script>\n",
              "        const buttonEl =\n",
              "          document.querySelector('#df-6b8b1695-c8df-49b6-89ab-18e014058cf1 button.colab-df-convert');\n",
              "        buttonEl.style.display =\n",
              "          google.colab.kernel.accessAllowed ? 'block' : 'none';\n",
              "\n",
              "        async function convertToInteractive(key) {\n",
              "          const element = document.querySelector('#df-6b8b1695-c8df-49b6-89ab-18e014058cf1');\n",
              "          const dataTable =\n",
              "            await google.colab.kernel.invokeFunction('convertToInteractive',\n",
              "                                                     [key], {});\n",
              "          if (!dataTable) return;\n",
              "\n",
              "          const docLinkHtml = 'Like what you see? Visit the ' +\n",
              "            '<a target=\"_blank\" href=https://colab.research.google.com/notebooks/data_table.ipynb>data table notebook</a>'\n",
              "            + ' to learn more about interactive tables.';\n",
              "          element.innerHTML = '';\n",
              "          dataTable['output_type'] = 'display_data';\n",
              "          await google.colab.output.renderOutput(dataTable, element);\n",
              "          const docLink = document.createElement('div');\n",
              "          docLink.innerHTML = docLinkHtml;\n",
              "          element.appendChild(docLink);\n",
              "        }\n",
              "      </script>\n",
              "    </div>\n",
              "  </div>\n",
              "  "
            ]
          },
          "metadata": {},
          "execution_count": 176
        }
      ]
    },
    {
      "cell_type": "markdown",
      "source": [
        "Extract keyword from input by (1) keyBERT, (2) NER"
      ],
      "metadata": {
        "id": "JbHpMbuwkHTn"
      }
    },
    {
      "cell_type": "markdown",
      "source": [
        "load NER model from previous task"
      ],
      "metadata": {
        "id": "kfLdGZBmkHTn"
      }
    },
    {
      "cell_type": "code",
      "source": [
        "pip install keyBERT"
      ],
      "metadata": {
        "id": "TnbsIvNnmJqS"
      },
      "execution_count": null,
      "outputs": []
    },
    {
      "cell_type": "code",
      "source": [
        "!pip install keybert[flair]\n",
        "!pip install keybert[gensim]\n",
        "!pip install keybert[spacy]\n",
        "!pip install keybert[use]"
      ],
      "metadata": {
        "id": "lcO2OMnKoZQT"
      },
      "execution_count": null,
      "outputs": []
    },
    {
      "cell_type": "code",
      "source": [
        "from keybert import KeyBERT\n",
        "kw_extractor = KeyBERT('distilbert-base-nli-mean-tokens')"
      ],
      "metadata": {
        "colab": {
          "base_uri": "https://localhost:8080/",
          "height": 493
        },
        "id": "d4wPNIvQmMWC",
        "outputId": "dfdeaa10-b861-45ed-d04d-8f12277c4d99"
      },
      "execution_count": 189,
      "outputs": [
        {
          "output_type": "error",
          "ename": "ImportError",
          "evalue": "ignored",
          "traceback": [
            "\u001b[0;31m---------------------------------------------------------------------------\u001b[0m",
            "\u001b[0;31mImportError\u001b[0m                               Traceback (most recent call last)",
            "\u001b[0;32m<ipython-input-189-08ed76d30b79>\u001b[0m in \u001b[0;36m<module>\u001b[0;34m\u001b[0m\n\u001b[0;32m----> 1\u001b[0;31m \u001b[0;32mfrom\u001b[0m \u001b[0mkeybert\u001b[0m \u001b[0;32mimport\u001b[0m \u001b[0mKeyBERT\u001b[0m\u001b[0;34m\u001b[0m\u001b[0;34m\u001b[0m\u001b[0m\n\u001b[0m\u001b[1;32m      2\u001b[0m \u001b[0mkw_extractor\u001b[0m \u001b[0;34m=\u001b[0m \u001b[0mKeyBERT\u001b[0m\u001b[0;34m(\u001b[0m\u001b[0;34m'distilbert-base-nli-mean-tokens'\u001b[0m\u001b[0;34m)\u001b[0m\u001b[0;34m\u001b[0m\u001b[0;34m\u001b[0m\u001b[0m\n",
            "\u001b[0;32m/usr/local/lib/python3.8/dist-packages/keybert/__init__.py\u001b[0m in \u001b[0;36m<module>\u001b[0;34m\u001b[0m\n\u001b[0;32m----> 1\u001b[0;31m \u001b[0;32mfrom\u001b[0m \u001b[0mkeybert\u001b[0m\u001b[0;34m.\u001b[0m\u001b[0m_model\u001b[0m \u001b[0;32mimport\u001b[0m \u001b[0mKeyBERT\u001b[0m\u001b[0;34m\u001b[0m\u001b[0;34m\u001b[0m\u001b[0m\n\u001b[0m\u001b[1;32m      2\u001b[0m \u001b[0;34m\u001b[0m\u001b[0m\n\u001b[1;32m      3\u001b[0m \u001b[0m__version__\u001b[0m \u001b[0;34m=\u001b[0m \u001b[0;34m\"0.7.0\"\u001b[0m\u001b[0;34m\u001b[0m\u001b[0;34m\u001b[0m\u001b[0m\n",
            "\u001b[0;32m/usr/local/lib/python3.8/dist-packages/keybert/_model.py\u001b[0m in \u001b[0;36m<module>\u001b[0;34m\u001b[0m\n\u001b[1;32m     14\u001b[0m \u001b[0;32mfrom\u001b[0m \u001b[0mkeybert\u001b[0m\u001b[0;34m.\u001b[0m\u001b[0m_maxsum\u001b[0m \u001b[0;32mimport\u001b[0m \u001b[0mmax_sum_distance\u001b[0m\u001b[0;34m\u001b[0m\u001b[0;34m\u001b[0m\u001b[0m\n\u001b[1;32m     15\u001b[0m \u001b[0;32mfrom\u001b[0m \u001b[0mkeybert\u001b[0m\u001b[0;34m.\u001b[0m\u001b[0m_highlight\u001b[0m \u001b[0;32mimport\u001b[0m \u001b[0mhighlight_document\u001b[0m\u001b[0;34m\u001b[0m\u001b[0;34m\u001b[0m\u001b[0m\n\u001b[0;32m---> 16\u001b[0;31m \u001b[0;32mfrom\u001b[0m \u001b[0mkeybert\u001b[0m\u001b[0;34m.\u001b[0m\u001b[0mbackend\u001b[0m\u001b[0;34m.\u001b[0m\u001b[0m_utils\u001b[0m \u001b[0;32mimport\u001b[0m \u001b[0mselect_backend\u001b[0m\u001b[0;34m\u001b[0m\u001b[0;34m\u001b[0m\u001b[0m\n\u001b[0m\u001b[1;32m     17\u001b[0m \u001b[0;34m\u001b[0m\u001b[0m\n\u001b[1;32m     18\u001b[0m \u001b[0;34m\u001b[0m\u001b[0m\n",
            "\u001b[0;32m/usr/local/lib/python3.8/dist-packages/keybert/backend/_utils.py\u001b[0m in \u001b[0;36m<module>\u001b[0;34m\u001b[0m\n\u001b[1;32m      1\u001b[0m \u001b[0;32mfrom\u001b[0m \u001b[0;34m.\u001b[0m\u001b[0m_base\u001b[0m \u001b[0;32mimport\u001b[0m \u001b[0mBaseEmbedder\u001b[0m\u001b[0;34m\u001b[0m\u001b[0;34m\u001b[0m\u001b[0m\n\u001b[0;32m----> 2\u001b[0;31m \u001b[0;32mfrom\u001b[0m \u001b[0;34m.\u001b[0m\u001b[0m_sentencetransformers\u001b[0m \u001b[0;32mimport\u001b[0m \u001b[0mSentenceTransformerBackend\u001b[0m\u001b[0;34m\u001b[0m\u001b[0;34m\u001b[0m\u001b[0m\n\u001b[0m\u001b[1;32m      3\u001b[0m \u001b[0;32mfrom\u001b[0m \u001b[0;34m.\u001b[0m\u001b[0m_hftransformers\u001b[0m \u001b[0;32mimport\u001b[0m \u001b[0mHFTransformerBackend\u001b[0m\u001b[0;34m\u001b[0m\u001b[0;34m\u001b[0m\u001b[0m\n\u001b[1;32m      4\u001b[0m \u001b[0;32mfrom\u001b[0m \u001b[0mtransformers\u001b[0m\u001b[0;34m.\u001b[0m\u001b[0mpipelines\u001b[0m \u001b[0;32mimport\u001b[0m \u001b[0mPipeline\u001b[0m\u001b[0;34m\u001b[0m\u001b[0;34m\u001b[0m\u001b[0m\n\u001b[1;32m      5\u001b[0m \u001b[0;34m\u001b[0m\u001b[0m\n",
            "\u001b[0;32m/usr/local/lib/python3.8/dist-packages/keybert/backend/_sentencetransformers.py\u001b[0m in \u001b[0;36m<module>\u001b[0;34m\u001b[0m\n\u001b[1;32m      1\u001b[0m \u001b[0;32mimport\u001b[0m \u001b[0mnumpy\u001b[0m \u001b[0;32mas\u001b[0m \u001b[0mnp\u001b[0m\u001b[0;34m\u001b[0m\u001b[0;34m\u001b[0m\u001b[0m\n\u001b[1;32m      2\u001b[0m \u001b[0;32mfrom\u001b[0m \u001b[0mtyping\u001b[0m \u001b[0;32mimport\u001b[0m \u001b[0mList\u001b[0m\u001b[0;34m,\u001b[0m \u001b[0mUnion\u001b[0m\u001b[0;34m\u001b[0m\u001b[0;34m\u001b[0m\u001b[0m\n\u001b[0;32m----> 3\u001b[0;31m \u001b[0;32mfrom\u001b[0m \u001b[0msentence_transformers\u001b[0m \u001b[0;32mimport\u001b[0m \u001b[0mSentenceTransformer\u001b[0m\u001b[0;34m\u001b[0m\u001b[0;34m\u001b[0m\u001b[0m\n\u001b[0m\u001b[1;32m      4\u001b[0m \u001b[0;34m\u001b[0m\u001b[0m\n\u001b[1;32m      5\u001b[0m \u001b[0;32mfrom\u001b[0m \u001b[0mkeybert\u001b[0m\u001b[0;34m.\u001b[0m\u001b[0mbackend\u001b[0m \u001b[0;32mimport\u001b[0m \u001b[0mBaseEmbedder\u001b[0m\u001b[0;34m\u001b[0m\u001b[0;34m\u001b[0m\u001b[0m\n",
            "\u001b[0;32m/usr/local/lib/python3.8/dist-packages/sentence_transformers/__init__.py\u001b[0m in \u001b[0;36m<module>\u001b[0;34m\u001b[0m\n\u001b[1;32m      1\u001b[0m \u001b[0m__version__\u001b[0m \u001b[0;34m=\u001b[0m \u001b[0;34m\"2.2.2\"\u001b[0m\u001b[0;34m\u001b[0m\u001b[0;34m\u001b[0m\u001b[0m\n\u001b[1;32m      2\u001b[0m \u001b[0m__MODEL_HUB_ORGANIZATION__\u001b[0m \u001b[0;34m=\u001b[0m \u001b[0;34m'sentence-transformers'\u001b[0m\u001b[0;34m\u001b[0m\u001b[0;34m\u001b[0m\u001b[0m\n\u001b[0;32m----> 3\u001b[0;31m \u001b[0;32mfrom\u001b[0m \u001b[0;34m.\u001b[0m\u001b[0mdatasets\u001b[0m \u001b[0;32mimport\u001b[0m \u001b[0mSentencesDataset\u001b[0m\u001b[0;34m,\u001b[0m \u001b[0mParallelSentencesDataset\u001b[0m\u001b[0;34m\u001b[0m\u001b[0;34m\u001b[0m\u001b[0m\n\u001b[0m\u001b[1;32m      4\u001b[0m \u001b[0;32mfrom\u001b[0m \u001b[0;34m.\u001b[0m\u001b[0mLoggingHandler\u001b[0m \u001b[0;32mimport\u001b[0m \u001b[0mLoggingHandler\u001b[0m\u001b[0;34m\u001b[0m\u001b[0;34m\u001b[0m\u001b[0m\n\u001b[1;32m      5\u001b[0m \u001b[0;32mfrom\u001b[0m \u001b[0;34m.\u001b[0m\u001b[0mSentenceTransformer\u001b[0m \u001b[0;32mimport\u001b[0m \u001b[0mSentenceTransformer\u001b[0m\u001b[0;34m\u001b[0m\u001b[0;34m\u001b[0m\u001b[0m\n",
            "\u001b[0;32m/usr/local/lib/python3.8/dist-packages/sentence_transformers/datasets/__init__.py\u001b[0m in \u001b[0;36m<module>\u001b[0;34m\u001b[0m\n\u001b[1;32m      1\u001b[0m \u001b[0;32mfrom\u001b[0m \u001b[0;34m.\u001b[0m\u001b[0mDenoisingAutoEncoderDataset\u001b[0m \u001b[0;32mimport\u001b[0m \u001b[0mDenoisingAutoEncoderDataset\u001b[0m\u001b[0;34m\u001b[0m\u001b[0;34m\u001b[0m\u001b[0m\n\u001b[1;32m      2\u001b[0m \u001b[0;32mfrom\u001b[0m \u001b[0;34m.\u001b[0m\u001b[0mNoDuplicatesDataLoader\u001b[0m \u001b[0;32mimport\u001b[0m \u001b[0mNoDuplicatesDataLoader\u001b[0m\u001b[0;34m\u001b[0m\u001b[0;34m\u001b[0m\u001b[0m\n\u001b[0;32m----> 3\u001b[0;31m \u001b[0;32mfrom\u001b[0m \u001b[0;34m.\u001b[0m\u001b[0mParallelSentencesDataset\u001b[0m \u001b[0;32mimport\u001b[0m \u001b[0mParallelSentencesDataset\u001b[0m\u001b[0;34m\u001b[0m\u001b[0;34m\u001b[0m\u001b[0m\n\u001b[0m\u001b[1;32m      4\u001b[0m \u001b[0;32mfrom\u001b[0m \u001b[0;34m.\u001b[0m\u001b[0mSentencesDataset\u001b[0m \u001b[0;32mimport\u001b[0m \u001b[0mSentencesDataset\u001b[0m\u001b[0;34m\u001b[0m\u001b[0;34m\u001b[0m\u001b[0m\n\u001b[1;32m      5\u001b[0m \u001b[0;32mfrom\u001b[0m \u001b[0;34m.\u001b[0m\u001b[0mSentenceLabelDataset\u001b[0m \u001b[0;32mimport\u001b[0m \u001b[0mSentenceLabelDataset\u001b[0m\u001b[0;34m\u001b[0m\u001b[0;34m\u001b[0m\u001b[0m\n",
            "\u001b[0;32m/usr/local/lib/python3.8/dist-packages/sentence_transformers/datasets/ParallelSentencesDataset.py\u001b[0m in \u001b[0;36m<module>\u001b[0;34m\u001b[0m\n\u001b[1;32m      2\u001b[0m \u001b[0;32mimport\u001b[0m \u001b[0mlogging\u001b[0m\u001b[0;34m\u001b[0m\u001b[0;34m\u001b[0m\u001b[0m\n\u001b[1;32m      3\u001b[0m \u001b[0;32mimport\u001b[0m \u001b[0mgzip\u001b[0m\u001b[0;34m\u001b[0m\u001b[0;34m\u001b[0m\u001b[0m\n\u001b[0;32m----> 4\u001b[0;31m \u001b[0;32mfrom\u001b[0m \u001b[0;34m.\u001b[0m\u001b[0;34m.\u001b[0m \u001b[0;32mimport\u001b[0m \u001b[0mSentenceTransformer\u001b[0m\u001b[0;34m\u001b[0m\u001b[0;34m\u001b[0m\u001b[0m\n\u001b[0m\u001b[1;32m      5\u001b[0m \u001b[0;32mfrom\u001b[0m \u001b[0;34m.\u001b[0m\u001b[0;34m.\u001b[0m\u001b[0mreaders\u001b[0m \u001b[0;32mimport\u001b[0m \u001b[0mInputExample\u001b[0m\u001b[0;34m\u001b[0m\u001b[0;34m\u001b[0m\u001b[0m\n\u001b[1;32m      6\u001b[0m \u001b[0;32mfrom\u001b[0m \u001b[0mtyping\u001b[0m \u001b[0;32mimport\u001b[0m \u001b[0mList\u001b[0m\u001b[0;34m\u001b[0m\u001b[0;34m\u001b[0m\u001b[0m\n",
            "\u001b[0;32m/usr/local/lib/python3.8/dist-packages/sentence_transformers/SentenceTransformer.py\u001b[0m in \u001b[0;36m<module>\u001b[0;34m\u001b[0m\n\u001b[1;32m     25\u001b[0m \u001b[0;32mfrom\u001b[0m \u001b[0;34m.\u001b[0m\u001b[0mevaluation\u001b[0m \u001b[0;32mimport\u001b[0m \u001b[0mSentenceEvaluator\u001b[0m\u001b[0;34m\u001b[0m\u001b[0;34m\u001b[0m\u001b[0m\n\u001b[1;32m     26\u001b[0m \u001b[0;32mfrom\u001b[0m \u001b[0;34m.\u001b[0m\u001b[0mutil\u001b[0m \u001b[0;32mimport\u001b[0m \u001b[0mimport_from_string\u001b[0m\u001b[0;34m,\u001b[0m \u001b[0mbatch_to_device\u001b[0m\u001b[0;34m,\u001b[0m \u001b[0mfullname\u001b[0m\u001b[0;34m,\u001b[0m \u001b[0msnapshot_download\u001b[0m\u001b[0;34m\u001b[0m\u001b[0;34m\u001b[0m\u001b[0m\n\u001b[0;32m---> 27\u001b[0;31m \u001b[0;32mfrom\u001b[0m \u001b[0;34m.\u001b[0m\u001b[0mmodels\u001b[0m \u001b[0;32mimport\u001b[0m \u001b[0mTransformer\u001b[0m\u001b[0;34m,\u001b[0m \u001b[0mPooling\u001b[0m\u001b[0;34m,\u001b[0m \u001b[0mDense\u001b[0m\u001b[0;34m\u001b[0m\u001b[0;34m\u001b[0m\u001b[0m\n\u001b[0m\u001b[1;32m     28\u001b[0m \u001b[0;32mfrom\u001b[0m \u001b[0;34m.\u001b[0m\u001b[0mmodel_card_templates\u001b[0m \u001b[0;32mimport\u001b[0m \u001b[0mModelCardTemplate\u001b[0m\u001b[0;34m\u001b[0m\u001b[0;34m\u001b[0m\u001b[0m\n\u001b[1;32m     29\u001b[0m \u001b[0;32mfrom\u001b[0m \u001b[0;34m.\u001b[0m \u001b[0;32mimport\u001b[0m \u001b[0m__version__\u001b[0m\u001b[0;34m\u001b[0m\u001b[0;34m\u001b[0m\u001b[0m\n",
            "\u001b[0;32m/usr/local/lib/python3.8/dist-packages/sentence_transformers/models/__init__.py\u001b[0m in \u001b[0;36m<module>\u001b[0;34m\u001b[0m\n\u001b[0;32m----> 1\u001b[0;31m \u001b[0;32mfrom\u001b[0m \u001b[0;34m.\u001b[0m\u001b[0mTransformer\u001b[0m \u001b[0;32mimport\u001b[0m \u001b[0mTransformer\u001b[0m\u001b[0;34m\u001b[0m\u001b[0;34m\u001b[0m\u001b[0m\n\u001b[0m\u001b[1;32m      2\u001b[0m \u001b[0;32mfrom\u001b[0m \u001b[0;34m.\u001b[0m\u001b[0mAsym\u001b[0m \u001b[0;32mimport\u001b[0m \u001b[0mAsym\u001b[0m\u001b[0;34m\u001b[0m\u001b[0;34m\u001b[0m\u001b[0m\n\u001b[1;32m      3\u001b[0m \u001b[0;32mfrom\u001b[0m \u001b[0;34m.\u001b[0m\u001b[0mBoW\u001b[0m \u001b[0;32mimport\u001b[0m \u001b[0mBoW\u001b[0m\u001b[0;34m\u001b[0m\u001b[0;34m\u001b[0m\u001b[0m\n\u001b[1;32m      4\u001b[0m \u001b[0;32mfrom\u001b[0m \u001b[0;34m.\u001b[0m\u001b[0mCNN\u001b[0m \u001b[0;32mimport\u001b[0m \u001b[0mCNN\u001b[0m\u001b[0;34m\u001b[0m\u001b[0;34m\u001b[0m\u001b[0m\n\u001b[1;32m      5\u001b[0m \u001b[0;32mfrom\u001b[0m \u001b[0;34m.\u001b[0m\u001b[0mDense\u001b[0m \u001b[0;32mimport\u001b[0m \u001b[0mDense\u001b[0m\u001b[0;34m\u001b[0m\u001b[0;34m\u001b[0m\u001b[0m\n",
            "\u001b[0;32m/usr/local/lib/python3.8/dist-packages/sentence_transformers/models/Transformer.py\u001b[0m in \u001b[0;36m<module>\u001b[0;34m\u001b[0m\n\u001b[1;32m      1\u001b[0m \u001b[0;32mfrom\u001b[0m \u001b[0mtorch\u001b[0m \u001b[0;32mimport\u001b[0m \u001b[0mnn\u001b[0m\u001b[0;34m\u001b[0m\u001b[0;34m\u001b[0m\u001b[0m\n\u001b[0;32m----> 2\u001b[0;31m \u001b[0;32mfrom\u001b[0m \u001b[0mtransformers\u001b[0m \u001b[0;32mimport\u001b[0m \u001b[0mAutoModel\u001b[0m\u001b[0;34m,\u001b[0m \u001b[0mAutoTokenizer\u001b[0m\u001b[0;34m,\u001b[0m \u001b[0mAutoConfig\u001b[0m\u001b[0;34m,\u001b[0m \u001b[0mT5Config\u001b[0m\u001b[0;34m\u001b[0m\u001b[0;34m\u001b[0m\u001b[0m\n\u001b[0m\u001b[1;32m      3\u001b[0m \u001b[0;32mimport\u001b[0m \u001b[0mjson\u001b[0m\u001b[0;34m\u001b[0m\u001b[0;34m\u001b[0m\u001b[0m\n\u001b[1;32m      4\u001b[0m \u001b[0;32mfrom\u001b[0m \u001b[0mtyping\u001b[0m \u001b[0;32mimport\u001b[0m \u001b[0mList\u001b[0m\u001b[0;34m,\u001b[0m \u001b[0mDict\u001b[0m\u001b[0;34m,\u001b[0m \u001b[0mOptional\u001b[0m\u001b[0;34m,\u001b[0m \u001b[0mUnion\u001b[0m\u001b[0;34m,\u001b[0m \u001b[0mTuple\u001b[0m\u001b[0;34m\u001b[0m\u001b[0;34m\u001b[0m\u001b[0m\n\u001b[1;32m      5\u001b[0m \u001b[0;32mimport\u001b[0m \u001b[0mos\u001b[0m\u001b[0;34m\u001b[0m\u001b[0;34m\u001b[0m\u001b[0m\n",
            "\u001b[0;32m/usr/local/lib/python3.8/dist-packages/transformers/__init__.py\u001b[0m in \u001b[0;36m__getattr__\u001b[0;34m(self, name)\u001b[0m\n\u001b[1;32m   2096\u001b[0m     )\n\u001b[1;32m   2097\u001b[0m     _import_structure[\"models.roc_bert\"].extend(\n\u001b[0;32m-> 2098\u001b[0;31m         [\n\u001b[0m\u001b[1;32m   2099\u001b[0m             \u001b[0;34m\"ROC_BERT_PRETRAINED_MODEL_ARCHIVE_LIST\"\u001b[0m\u001b[0;34m,\u001b[0m\u001b[0;34m\u001b[0m\u001b[0;34m\u001b[0m\u001b[0m\n\u001b[1;32m   2100\u001b[0m             \u001b[0;34m\"RoCBertForCausalLM\"\u001b[0m\u001b[0;34m,\u001b[0m\u001b[0;34m\u001b[0m\u001b[0;34m\u001b[0m\u001b[0m\n",
            "\u001b[0;32m/usr/local/lib/python3.8/dist-packages/transformers/file_utils.py\u001b[0m in \u001b[0;36m__getattr__\u001b[0;34m(self, name)\u001b[0m\n",
            "\u001b[0;32m/usr/local/lib/python3.8/dist-packages/transformers/file_utils.py\u001b[0m in \u001b[0;36m__getattr__\u001b[0;34m(self, name)\u001b[0m\n",
            "\u001b[0;32m/usr/local/lib/python3.8/dist-packages/transformers/models/auto/__init__.py\u001b[0m in \u001b[0;36m_get_module\u001b[0;34m(self, module_name)\u001b[0m\n\u001b[1;32m    158\u001b[0m     \u001b[0;32mpass\u001b[0m\u001b[0;34m\u001b[0m\u001b[0;34m\u001b[0m\u001b[0m\n\u001b[1;32m    159\u001b[0m \u001b[0;32melse\u001b[0m\u001b[0;34m:\u001b[0m\u001b[0;34m\u001b[0m\u001b[0;34m\u001b[0m\u001b[0m\n\u001b[0;32m--> 160\u001b[0;31m     _import_structure[\"modeling_flax_auto\"] = [\n\u001b[0m\u001b[1;32m    161\u001b[0m         \u001b[0;34m\"FLAX_MODEL_FOR_CAUSAL_LM_MAPPING\"\u001b[0m\u001b[0;34m,\u001b[0m\u001b[0;34m\u001b[0m\u001b[0;34m\u001b[0m\u001b[0m\n\u001b[1;32m    162\u001b[0m         \u001b[0;34m\"FLAX_MODEL_FOR_IMAGE_CLASSIFICATION_MAPPING\"\u001b[0m\u001b[0;34m,\u001b[0m\u001b[0;34m\u001b[0m\u001b[0;34m\u001b[0m\u001b[0m\n",
            "\u001b[0;32m/usr/lib/python3.8/importlib/__init__.py\u001b[0m in \u001b[0;36mimport_module\u001b[0;34m(name, package)\u001b[0m\n\u001b[1;32m    125\u001b[0m                 \u001b[0;32mbreak\u001b[0m\u001b[0;34m\u001b[0m\u001b[0;34m\u001b[0m\u001b[0m\n\u001b[1;32m    126\u001b[0m             \u001b[0mlevel\u001b[0m \u001b[0;34m+=\u001b[0m \u001b[0;36m1\u001b[0m\u001b[0;34m\u001b[0m\u001b[0;34m\u001b[0m\u001b[0m\n\u001b[0;32m--> 127\u001b[0;31m     \u001b[0;32mreturn\u001b[0m \u001b[0m_bootstrap\u001b[0m\u001b[0;34m.\u001b[0m\u001b[0m_gcd_import\u001b[0m\u001b[0;34m(\u001b[0m\u001b[0mname\u001b[0m\u001b[0;34m[\u001b[0m\u001b[0mlevel\u001b[0m\u001b[0;34m:\u001b[0m\u001b[0;34m]\u001b[0m\u001b[0;34m,\u001b[0m \u001b[0mpackage\u001b[0m\u001b[0;34m,\u001b[0m \u001b[0mlevel\u001b[0m\u001b[0;34m)\u001b[0m\u001b[0;34m\u001b[0m\u001b[0;34m\u001b[0m\u001b[0m\n\u001b[0m\u001b[1;32m    128\u001b[0m \u001b[0;34m\u001b[0m\u001b[0m\n\u001b[1;32m    129\u001b[0m \u001b[0;34m\u001b[0m\u001b[0m\n",
            "\u001b[0;32m/usr/local/lib/python3.8/dist-packages/transformers/models/auto/tokenization_auto.py\u001b[0m in \u001b[0;36m<module>\u001b[0;34m\u001b[0m\n\u001b[1;32m     22\u001b[0m \u001b[0;34m\u001b[0m\u001b[0m\n\u001b[1;32m     23\u001b[0m \u001b[0;32mfrom\u001b[0m \u001b[0;34m...\u001b[0m\u001b[0mconfiguration_utils\u001b[0m \u001b[0;32mimport\u001b[0m \u001b[0mPretrainedConfig\u001b[0m\u001b[0;34m\u001b[0m\u001b[0;34m\u001b[0m\u001b[0m\n\u001b[0;32m---> 24\u001b[0;31m \u001b[0;32mfrom\u001b[0m \u001b[0;34m...\u001b[0m\u001b[0mdynamic_module_utils\u001b[0m \u001b[0;32mimport\u001b[0m \u001b[0mget_class_from_dynamic_module\u001b[0m\u001b[0;34m\u001b[0m\u001b[0;34m\u001b[0m\u001b[0m\n\u001b[0m\u001b[1;32m     25\u001b[0m \u001b[0;32mfrom\u001b[0m \u001b[0;34m...\u001b[0m\u001b[0mtokenization_utils\u001b[0m \u001b[0;32mimport\u001b[0m \u001b[0mPreTrainedTokenizer\u001b[0m\u001b[0;34m\u001b[0m\u001b[0;34m\u001b[0m\u001b[0m\n\u001b[1;32m     26\u001b[0m \u001b[0;32mfrom\u001b[0m \u001b[0;34m...\u001b[0m\u001b[0mtokenization_utils_base\u001b[0m \u001b[0;32mimport\u001b[0m \u001b[0mTOKENIZER_CONFIG_FILE\u001b[0m\u001b[0;34m\u001b[0m\u001b[0;34m\u001b[0m\u001b[0m\n",
            "\u001b[0;32m/usr/local/lib/python3.8/dist-packages/transformers/dynamic_module_utils.py\u001b[0m in \u001b[0;36m<module>\u001b[0;34m\u001b[0m\n\u001b[1;32m     25\u001b[0m \u001b[0;32mfrom\u001b[0m \u001b[0mhuggingface_hub\u001b[0m \u001b[0;32mimport\u001b[0m \u001b[0mHfFolder\u001b[0m\u001b[0;34m,\u001b[0m \u001b[0mmodel_info\u001b[0m\u001b[0;34m\u001b[0m\u001b[0;34m\u001b[0m\u001b[0m\n\u001b[1;32m     26\u001b[0m \u001b[0;34m\u001b[0m\u001b[0m\n\u001b[0;32m---> 27\u001b[0;31m \u001b[0;32mfrom\u001b[0m \u001b[0;34m.\u001b[0m\u001b[0mutils\u001b[0m \u001b[0;32mimport\u001b[0m \u001b[0mHF_MODULES_CACHE\u001b[0m\u001b[0;34m,\u001b[0m \u001b[0mTRANSFORMERS_DYNAMIC_MODULE_NAME\u001b[0m\u001b[0;34m,\u001b[0m \u001b[0mcached_file\u001b[0m\u001b[0;34m,\u001b[0m \u001b[0mis_offline_mode\u001b[0m\u001b[0;34m,\u001b[0m \u001b[0mlogging\u001b[0m\u001b[0;34m\u001b[0m\u001b[0;34m\u001b[0m\u001b[0m\n\u001b[0m\u001b[1;32m     28\u001b[0m \u001b[0;34m\u001b[0m\u001b[0m\n\u001b[1;32m     29\u001b[0m \u001b[0;34m\u001b[0m\u001b[0m\n",
            "\u001b[0;31mImportError\u001b[0m: cannot import name 'HF_MODULES_CACHE' from 'transformers.utils' (/usr/local/lib/python3.8/dist-packages/transformers/utils/__init__.py)",
            "",
            "\u001b[0;31m---------------------------------------------------------------------------\u001b[0;32m\nNOTE: If your import is failing due to a missing package, you can\nmanually install dependencies using either !pip or !apt.\n\nTo view examples of installing some common dependencies, click the\n\"Open Examples\" button below.\n\u001b[0;31m---------------------------------------------------------------------------\u001b[0m\n"
          ],
          "errorDetails": {
            "actions": [
              {
                "action": "open_url",
                "actionText": "Open Examples",
                "url": "/notebooks/snippets/importing_libraries.ipynb"
              }
            ]
          }
        }
      ]
    },
    {
      "cell_type": "code",
      "source": [
        "def make_keyword(text):\n",
        "  keywords = kw_extractor.extract_keywords(text, use_mmr = True, top_n=)\n",
        "  keyword = pd.DataFrame(keywords, columns=['keyword', 'weight'])\n",
        "  return keyword"
      ],
      "metadata": {
        "id": "8uTOVkmLmXXi"
      },
      "execution_count": null,
      "outputs": []
    },
    {
      "cell_type": "markdown",
      "source": [
        "### 3. fit the size of Keyword-ELMo to Input-ELMo, in order to calculate cosine similarity"
      ],
      "metadata": {
        "id": "t9GesOQ53RE3"
      }
    }
  ]
}
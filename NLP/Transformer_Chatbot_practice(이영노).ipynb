{
  "nbformat": 4,
  "nbformat_minor": 0,
  "metadata": {
    "colab": {
      "provenance": [],
      "collapsed_sections": [
        "bg5NoTGvA0k3",
        "QjjHGLf2yWze"
      ]
    },
    "kernelspec": {
      "name": "python3",
      "display_name": "Python 3"
    },
    "language_info": {
      "name": "python"
    }
  },
  "cells": [
    {
      "cell_type": "markdown",
      "source": [
        "# 🤖**Transformer Chatbot practice & learning**"
      ],
      "metadata": {
        "id": "tsPGiUppLozo"
      }
    },
    {
      "cell_type": "markdown",
      "source": [
        "**글쓴이 : 이영노**\n",
        "\n",
        "**날짜 : 2023/02/21**"
      ],
      "metadata": {
        "id": "a2MrYpNcLdYE"
      }
    },
    {
      "cell_type": "code",
      "execution_count": 15,
      "metadata": {
        "colab": {
          "base_uri": "https://localhost:8080/"
        },
        "id": "KkbWYz238YcM",
        "outputId": "8480c3c0-a406-4996-c07e-793843465c28"
      },
      "outputs": [
        {
          "output_type": "stream",
          "name": "stdout",
          "text": [
            "Mounted at /content/drive\n"
          ]
        }
      ],
      "source": [
        "from google.colab import drive\n",
        "drive.mount('/content/drive')"
      ]
    },
    {
      "cell_type": "code",
      "source": [
        "from collections import Counter\n",
        "import json\n",
        "import torch\n",
        "import torch.nn as nn\n",
        "from torch.utils.data import Dataset\n",
        "import torch.utils.data\n",
        "import math\n",
        "import torch.nn.functional as F"
      ],
      "metadata": {
        "id": "icPHYLrV89pO"
      },
      "execution_count": 16,
      "outputs": []
    },
    {
      "cell_type": "code",
      "source": [
        "corpus_movie_conv = '/content/drive/MyDrive/23SS_NLP/5/movie_conversations.txt'\n",
        "corpus_movie_lines = '/content/drive/MyDrive/23SS_NLP/5/movie_lines.txt'\n",
        "max_len = 25"
      ],
      "metadata": {
        "id": "Iw2lSRId9IPG"
      },
      "execution_count": 17,
      "outputs": []
    },
    {
      "cell_type": "code",
      "source": [
        "with open(corpus_movie_conv, 'r') as c:\n",
        "  conv = c.readlines()\n",
        "\n",
        "with open(corpus_movie_lines, 'r', encoding='unicode_escape')as l:\n",
        "  lines = l.readlines()"
      ],
      "metadata": {
        "id": "ZqCO7mZ09W-W"
      },
      "execution_count": 18,
      "outputs": []
    },
    {
      "cell_type": "code",
      "source": [
        "# 대사넘버 : 발화문 형태의 dictionary로 변환\n",
        "lines_dic = {}\n",
        "for line in lines:\n",
        "  objects = line.split(\" +++$+++ \")\n",
        "  lines_dic[objects[0]] = objects[-1]"
      ],
      "metadata": {
        "id": "AuiEEHXT-Rw6"
      },
      "execution_count": 19,
      "outputs": []
    },
    {
      "cell_type": "markdown",
      "source": [
        "### 전처리 자세한 과정과 반환값"
      ],
      "metadata": {
        "id": "rbt9n1dI_cZ4"
      }
    },
    {
      "cell_type": "code",
      "source": [
        "lines[-1]"
      ],
      "metadata": {
        "colab": {
          "base_uri": "https://localhost:8080/",
          "height": 35
        },
        "id": "qSpIwTdi-dgW",
        "outputId": "e7f2b018-5fa2-4476-a57f-394ca2dc9a0f"
      },
      "execution_count": 20,
      "outputs": [
        {
          "output_type": "execute_result",
          "data": {
            "text/plain": [
              "\"L666256 +++$+++ u9034 +++$+++ m616 +++$+++ VEREKER +++$+++ Colonel Durnford... William Vereker. I hear you 've been seeking Officers?\\n\""
            ],
            "application/vnd.google.colaboratory.intrinsic+json": {
              "type": "string"
            }
          },
          "metadata": {},
          "execution_count": 20
        }
      ]
    },
    {
      "cell_type": "code",
      "source": [
        "lines[-1].split(\" +++$+++ \")"
      ],
      "metadata": {
        "colab": {
          "base_uri": "https://localhost:8080/"
        },
        "id": "2a13woU7-8U2",
        "outputId": "f8cd59ee-4669-4d65-9b50-0a0499eb75f7"
      },
      "execution_count": 21,
      "outputs": [
        {
          "output_type": "execute_result",
          "data": {
            "text/plain": [
              "['L666256',\n",
              " 'u9034',\n",
              " 'm616',\n",
              " 'VEREKER',\n",
              " \"Colonel Durnford... William Vereker. I hear you 've been seeking Officers?\\n\"]"
            ]
          },
          "metadata": {},
          "execution_count": 21
        }
      ]
    },
    {
      "cell_type": "code",
      "source": [
        "dic = {}\n",
        "dic['name'] = 'value'\n",
        "print(dic)"
      ],
      "metadata": {
        "colab": {
          "base_uri": "https://localhost:8080/"
        },
        "id": "1fV1XiTl_BAn",
        "outputId": "bfe52ed5-1903-4dbb-e01d-8584cacf28f3"
      },
      "execution_count": 22,
      "outputs": [
        {
          "output_type": "stream",
          "name": "stdout",
          "text": [
            "{'name': 'value'}\n"
          ]
        }
      ]
    },
    {
      "cell_type": "code",
      "source": [
        "dic = {}\n",
        "dic[lines[-1].split(\"+++$+++\")[0]] = lines[-1].split(\"+++$+++\")[-1]\n",
        "dic"
      ],
      "metadata": {
        "colab": {
          "base_uri": "https://localhost:8080/"
        },
        "id": "t5yjBF63_KfH",
        "outputId": "0fd6e758-8df4-4649-fd01-87f479027118"
      },
      "execution_count": 23,
      "outputs": [
        {
          "output_type": "execute_result",
          "data": {
            "text/plain": [
              "{'L666256 ': \" Colonel Durnford... William Vereker. I hear you 've been seeking Officers?\\n\"}"
            ]
          },
          "metadata": {},
          "execution_count": 23
        }
      ]
    },
    {
      "cell_type": "markdown",
      "source": [
        "### 다시 돌아와서"
      ],
      "metadata": {
        "id": "U2xaSGTM_im_"
      }
    },
    {
      "cell_type": "code",
      "source": [
        "# 구두점, 특수문자 제거\n",
        "def remove_punc(string):\n",
        "  punctuations = '''!()-[]{};:'\"\\,<>./?@#$%^&*_~'''\n",
        "  no_punct = \"\"\n",
        "  for char in string:\n",
        "    if char not in punctuations:\n",
        "      no_punct = no_punct + char\n",
        "  return no_punct.lower()"
      ],
      "metadata": {
        "id": "hXiejJaC_NfI"
      },
      "execution_count": 24,
      "outputs": []
    },
    {
      "cell_type": "markdown",
      "source": [
        "⭐ 문장을 단어로 쪼개서 pair로 묶는 것에 집중"
      ],
      "metadata": {
        "id": "R5J-fpuWJZK8"
      }
    },
    {
      "cell_type": "code",
      "source": [
        "pairs = []\n",
        "for con in conv: \n",
        "  ids = eval(con.split(\" +++$+++\")[-1]) \n",
        "  for i in range(len(ids)):\n",
        "    qa_pairs = []\n",
        "\n",
        "    if i == len(ids)-1:\n",
        "      break\n",
        "    \n",
        "    first = remove_punc(lines_dic[ids[i]].strip())\n",
        "    second = remove_punc(lines_dic[ids[i+1]].strip())\n",
        "    qa_pairs.append(first.split()[:max_len]) # 단어로 만들어주고, max_len만큼 인덱싱함\n",
        "    qa_pairs.append(second.split()[:max_len])\n",
        "    pairs.append(qa_pairs) # QA를 단어로 쪼갠 뒤 pair로 만든것의 전체 pairs\n"
      ],
      "metadata": {
        "id": "8df3QypWAZYo"
      },
      "execution_count": 25,
      "outputs": []
    },
    {
      "cell_type": "markdown",
      "source": [
        "### 전처리 자세한 과정과 반환값"
      ],
      "metadata": {
        "id": "bg5NoTGvA0k3"
      }
    },
    {
      "cell_type": "code",
      "source": [
        "conv[0]"
      ],
      "metadata": {
        "colab": {
          "base_uri": "https://localhost:8080/",
          "height": 0
        },
        "id": "qOeZyPuiAx3J",
        "outputId": "59a26f62-15d5-4876-8d6b-df67f66ffa29"
      },
      "execution_count": 26,
      "outputs": [
        {
          "output_type": "execute_result",
          "data": {
            "text/plain": [
              "\"u0 +++$+++ u2 +++$+++ m0 +++$+++ ['L194', 'L195', 'L196', 'L197']\\n\""
            ],
            "application/vnd.google.colaboratory.intrinsic+json": {
              "type": "string"
            }
          },
          "metadata": {},
          "execution_count": 26
        }
      ]
    },
    {
      "cell_type": "code",
      "source": [
        "ids_ex = eval(conv[0].split(\" +++$+++ \")[-1]) # ids # eval함수 써서 \\n 제거해줌\n",
        "print(ids_ex)"
      ],
      "metadata": {
        "colab": {
          "base_uri": "https://localhost:8080/"
        },
        "id": "22tRwGLxA27X",
        "outputId": "f96b18d7-b624-43c6-c239-c3d6f2d83d6b"
      },
      "execution_count": 27,
      "outputs": [
        {
          "output_type": "stream",
          "name": "stdout",
          "text": [
            "['L194', 'L195', 'L196', 'L197']\n"
          ]
        }
      ]
    },
    {
      "cell_type": "code",
      "source": [
        "print(lines_dic[ids_ex[0]].strip())\n",
        "# 이것은 곧, 아까만든 대화넘버 : 발화문 dict의 key이므로,\n",
        "# dict에다가 key로 인덱싱 하면 input 대화넘버에 해당하는 value 값인 발화문이 나온다.\n",
        "print(remove_punc(lines_dic[ids_ex[0]].strip()).split()[:max_len])\n",
        "print(remove_punc(lines_dic[ids_ex[1]].strip()).split()[:max_len])\n",
        "a = ['i','am','sam']\n",
        "b = ['and', 'i', 'am', 'ironman']\n",
        "bin = []"
      ],
      "metadata": {
        "colab": {
          "base_uri": "https://localhost:8080/"
        },
        "id": "A1eHTvXDBUtK",
        "outputId": "fa179381-f5db-4928-c6f1-21fa7cb44d65"
      },
      "execution_count": 28,
      "outputs": [
        {
          "output_type": "stream",
          "name": "stdout",
          "text": [
            "Can we make this quick?  Roxanne Korrine and Andrew Barrett are having an incredibly horrendous public break- up on the quad.  Again.\n",
            "['can', 'we', 'make', 'this', 'quick', 'roxanne', 'korrine', 'and', 'andrew', 'barrett', 'are', 'having', 'an', 'incredibly', 'horrendous', 'public', 'break', 'up', 'on', 'the', 'quad', 'again']\n",
            "['well', 'i', 'thought', 'wed', 'start', 'with', 'pronunciation', 'if', 'thats', 'okay', 'with', 'you']\n"
          ]
        }
      ]
    },
    {
      "cell_type": "code",
      "source": [
        "bin.append(a)\n",
        "print(bin) # append 안에 들어가는 인자는, 추가하려는 list의 원소로 들어가게 된다.\n",
        "bin.append(b)\n",
        "print(bin)"
      ],
      "metadata": {
        "colab": {
          "base_uri": "https://localhost:8080/"
        },
        "id": "waJMSUIAHR7s",
        "outputId": "33feaefa-8d0f-4e1b-d5bc-d9ee4974db2e"
      },
      "execution_count": 29,
      "outputs": [
        {
          "output_type": "stream",
          "name": "stdout",
          "text": [
            "[['i', 'am', 'sam']]\n",
            "[['i', 'am', 'sam'], ['and', 'i', 'am', 'ironman']]\n"
          ]
        }
      ]
    },
    {
      "cell_type": "code",
      "source": [
        "lines_dic[ids_ex[2]].strip()"
      ],
      "metadata": {
        "colab": {
          "base_uri": "https://localhost:8080/",
          "height": 0
        },
        "id": "GzAaG18DEvu6",
        "outputId": "98064d0c-53cd-41e5-95af-445401aade6e"
      },
      "execution_count": 30,
      "outputs": [
        {
          "output_type": "execute_result",
          "data": {
            "text/plain": [
              "'Not the hacking and gagging and spitting part.  Please.'"
            ],
            "application/vnd.google.colaboratory.intrinsic+json": {
              "type": "string"
            }
          },
          "metadata": {},
          "execution_count": 30
        }
      ]
    },
    {
      "cell_type": "markdown",
      "source": [
        "### 다시 돌아와서"
      ],
      "metadata": {
        "id": "38sJAMiuHo47"
      }
    },
    {
      "cell_type": "code",
      "source": [
        "word_freq = Counter()\n",
        "for pair in pairs:\n",
        "  word_freq.update(pair[0])\n",
        "  word_freq.update(pair[1]) # Counter.update(객체)"
      ],
      "metadata": {
        "id": "oljpthO0HzXr"
      },
      "execution_count": 31,
      "outputs": []
    },
    {
      "cell_type": "markdown",
      "source": [
        "⭐ Vocab과 OOV: 다음 해당하는 구문으로 구현되어 있으므로 잘 봐두길 바람.\n"
      ],
      "metadata": {
        "id": "ui27Dr55IftD"
      }
    },
    {
      "cell_type": "code",
      "source": [
        "# Vocab and OOV\n",
        "# BOW index assignment\n",
        "\n",
        "min_word_freq = 5\n",
        "words = [w for w in word_freq.keys() if word_freq[w] > min_word_freq] # min_word_freq을 초과하는 단어들에 대해서만 Vocab으로 치겠다.\n",
        "word_map = {k: v+1 for v, k in enumerate(words)} # BOW로 인덱스를 매겨줌\n",
        "\n",
        "word_map['<unk>'] = len(word_map)+1\n",
        "word_map['<start>'] = len(word_map)+1\n",
        "word_map['<end>'] = len(word_map)+1 # 누적되게끔 설계해놓은것\n",
        "word_map['<pad>'] = 0"
      ],
      "metadata": {
        "id": "Ds8mYZo4ID56"
      },
      "execution_count": 32,
      "outputs": []
    },
    {
      "cell_type": "code",
      "source": [
        "print(\"Total words are : {}\".format(len(word_map)))"
      ],
      "metadata": {
        "colab": {
          "base_uri": "https://localhost:8080/"
        },
        "id": "dcuU-yV0JN3j",
        "outputId": "4be1a68a-2ee6-4ea5-d82b-72f7a9a432d9"
      },
      "execution_count": 33,
      "outputs": [
        {
          "output_type": "stream",
          "name": "stdout",
          "text": [
            "Total words are : 18243\n"
          ]
        }
      ]
    },
    {
      "cell_type": "code",
      "source": [
        "with open('WORDMAP_corpus.json','w')as j:\n",
        "  json.dump(word_map, j) # python 파일을 json 으로 저장\n",
        "  # json.dump 함수는 파일대신 string으로 직렬화 한다고 함."
      ],
      "metadata": {
        "id": "0kk1_se4J3c7"
      },
      "execution_count": 34,
      "outputs": []
    },
    {
      "cell_type": "code",
      "source": [
        "word_map['duel']"
      ],
      "metadata": {
        "colab": {
          "base_uri": "https://localhost:8080/"
        },
        "id": "6Q1TIyVuKR6m",
        "outputId": "e77b21cf-7ee2-4ddf-bad2-6ccecc4a9550"
      },
      "execution_count": 35,
      "outputs": [
        {
          "output_type": "execute_result",
          "data": {
            "text/plain": [
              "17211"
            ]
          },
          "metadata": {},
          "execution_count": 35
        }
      ]
    },
    {
      "cell_type": "markdown",
      "source": [
        "딕셔너리에서 get함수의 두번째 인자는 앞의 key가 없을때 반환할 value를 설정해주는 것임. \n",
        "\n",
        "원래 key가 없으면 KeyError가 나기 때문"
      ],
      "metadata": {
        "id": "waJltmviPdp4"
      }
    },
    {
      "cell_type": "markdown",
      "source": [
        "## BOW Vocab 으로 인덱스 할당한 문장으로 만들어줌"
      ],
      "metadata": {
        "id": "n5UlBndsXhPb"
      }
    },
    {
      "cell_type": "code",
      "source": [
        "def encode_question(words, word_map):\n",
        "  enc_c = [word_map.get(word, word_map['<unk>']) for word in words] + [word_map['<pad>']] * (max_len - len(words)) \n",
        "  # 리스트에 *(곱)이므로 리스트를 rep해주는 문법임\n",
        "  return enc_c"
      ],
      "metadata": {
        "id": "bTeq5GuRKUjc"
      },
      "execution_count": 36,
      "outputs": []
    },
    {
      "cell_type": "code",
      "source": [
        "def encode_reply(words, word_map):\n",
        "  enc_c = [word_map['<start>']] + [word_map.get(word, word_map['<unk>']) for word in words] + \\\n",
        "  [word_map['<end>']] + [word_map['<pad>']] * (max_len - len(words))\n",
        "  return enc_c"
      ],
      "metadata": {
        "id": "hbMRe533QuOA"
      },
      "execution_count": 37,
      "outputs": []
    },
    {
      "cell_type": "code",
      "source": [
        "pairs_encoded = []\n",
        "for pair in pairs:\n",
        "  qus = encode_question(pair[0], word_map)\n",
        "  ans = encode_reply(pair[1], word_map)\n",
        "  pairs_encoded.append([qus, ans]) # [0]: question, [1]: answer 로 만들기 위해서 이렇게 만듦"
      ],
      "metadata": {
        "id": "_ZYsYg7rXgkC"
      },
      "execution_count": 38,
      "outputs": []
    },
    {
      "cell_type": "code",
      "source": [
        "with open('pairs_encoded.json','w') as p:\n",
        "  json.dump(pairs_encoded, p) # json파일에 pairs_encoded 된 것을 저장."
      ],
      "metadata": {
        "id": "mwXr6jA7a8_V"
      },
      "execution_count": 39,
      "outputs": []
    },
    {
      "cell_type": "markdown",
      "source": [
        "`\" \".join()` : 공백. 으로 element들을 join 해준다."
      ],
      "metadata": {
        "id": "wa2dCGXgbilD"
      }
    },
    {
      "cell_type": "code",
      "source": [
        "# decode_pairs\n",
        "rev_word_map = {v:k for k, v in word_map.items()} # 이번엔 value가 key가 됨\n",
        "' '.join([rev_word_map[v] for v in pairs_encoded[1][0]]) # 1번째 예시의 answer 부분을 공백으로 join하여 decode 한 부분"
      ],
      "metadata": {
        "colab": {
          "base_uri": "https://localhost:8080/",
          "height": 35
        },
        "id": "cK-e4AkxbHuk",
        "outputId": "20f42f6c-1c2a-4287-ca73-c97eea9ada69"
      },
      "execution_count": 40,
      "outputs": [
        {
          "output_type": "execute_result",
          "data": {
            "text/plain": [
              "'well i thought wed start with <unk> if thats okay with you <pad> <pad> <pad> <pad> <pad> <pad> <pad> <pad> <pad> <pad> <pad> <pad> <pad>'"
            ],
            "application/vnd.google.colaboratory.intrinsic+json": {
              "type": "string"
            }
          },
          "metadata": {},
          "execution_count": 40
        }
      ]
    },
    {
      "cell_type": "markdown",
      "source": [
        "# build class (Dataset) to put it into DataLoader (Make Data Iterable for batch)"
      ],
      "metadata": {
        "id": "mds-rDsccE_M"
      }
    },
    {
      "cell_type": "markdown",
      "source": [
        "![image.png](data:image/png;base64,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)\n",
        "\n",
        "Reference : pyTorch 공식 홈페이지"
      ],
      "metadata": {
        "id": "Aki7JNtXdhIF"
      }
    },
    {
      "cell_type": "code",
      "source": [
        "class Dataset(Dataset):\n",
        "\n",
        "  def __init__(self):\n",
        "\n",
        "    self.pairs = json.load(open('pairs_encoded.json'))\n",
        "    self.dataset_size = len(self.pairs)\n",
        "\n",
        "  def __getitem__(self, i):\n",
        "\n",
        "    question = torch.LongTensor(self.pairs[i][0])\n",
        "    reply =  torch.LongTensor(self.pairs[i][1])\n",
        "\n",
        "    return question, reply\n",
        "  \n",
        "  def __len__(self):\n",
        "    return self.dataset_size"
      ],
      "metadata": {
        "id": "vj4LfsZ-cNQs"
      },
      "execution_count": 41,
      "outputs": []
    },
    {
      "cell_type": "code",
      "source": [
        "train_loader = torch.utils.data.DataLoader(Dataset(),\n",
        "                                           batch_size = 100,\n",
        "                                           shuffle=True,\n",
        "                                           pin_memory=True)"
      ],
      "metadata": {
        "id": "OJjpP0Pac5Bm"
      },
      "execution_count": 42,
      "outputs": []
    },
    {
      "cell_type": "code",
      "source": [
        "question, reply = next(iter(train_loader))"
      ],
      "metadata": {
        "id": "v14-2K3xf6xn"
      },
      "execution_count": 43,
      "outputs": []
    },
    {
      "cell_type": "code",
      "source": [
        "question"
      ],
      "metadata": {
        "colab": {
          "base_uri": "https://localhost:8080/"
        },
        "id": "qWaNhcIyqp-b",
        "outputId": "d9b8385a-1ab8-43cb-a824-9bfac09900be"
      },
      "execution_count": 44,
      "outputs": [
        {
          "output_type": "execute_result",
          "data": {
            "text/plain": [
              "tensor([[  20, 1587,  111,  ...,    0,    0,    0],\n",
              "        [  28,  379,   60,  ...,    0,    0,    0],\n",
              "        [2393,  341,   36,  ...,    0,    0,    0],\n",
              "        ...,\n",
              "        [  20,  143,  278,  ...,    0,    0,    0],\n",
              "        [  20,  390, 1650,  ...,    0,    0,    0],\n",
              "        [5567,    9,   28,  ...,    0,    0,    0]])"
            ]
          },
          "metadata": {},
          "execution_count": 44
        }
      ]
    },
    {
      "cell_type": "code",
      "source": [
        "reply"
      ],
      "metadata": {
        "colab": {
          "base_uri": "https://localhost:8080/"
        },
        "id": "NY5M4FMKIVvF",
        "outputId": "922f7798-46a7-42d0-b1d3-40bb6078e780"
      },
      "execution_count": 45,
      "outputs": [
        {
          "output_type": "execute_result",
          "data": {
            "text/plain": [
              "tensor([[18241,    20,  3082,  ...,     0,     0,     0],\n",
              "        [18241,    57,  1508,  ...,     0,     0,     0],\n",
              "        [18241,   246,   157,  ...,   125,  5300, 18242],\n",
              "        ...,\n",
              "        [18241,   347,   453,  ...,     0,     0,     0],\n",
              "        [18241,    36,   510,  ...,     0,     0,     0],\n",
              "        [18241,    20,   212,  ...,     0,     0,     0]])"
            ]
          },
          "metadata": {},
          "execution_count": 45
        }
      ]
    },
    {
      "cell_type": "code",
      "source": [
        "print(reply.size())"
      ],
      "metadata": {
        "colab": {
          "base_uri": "https://localhost:8080/"
        },
        "id": "1NEWAqT3IXOo",
        "outputId": "7824a951-6a9a-42bb-fd9b-83f53b03e529"
      },
      "execution_count": 46,
      "outputs": [
        {
          "output_type": "stream",
          "name": "stdout",
          "text": [
            "torch.Size([100, 27])\n"
          ]
        }
      ]
    },
    {
      "cell_type": "code",
      "source": [
        "print(reply[:,:-1].size()) # reply_input\n",
        "print(reply[:,1:].size()) # reply_target"
      ],
      "metadata": {
        "colab": {
          "base_uri": "https://localhost:8080/"
        },
        "id": "Du7UjKPkIdj4",
        "outputId": "001a944f-de35-4b1a-b0d8-a1baacf3462a"
      },
      "execution_count": 50,
      "outputs": [
        {
          "output_type": "stream",
          "name": "stdout",
          "text": [
            "torch.Size([100, 26])\n",
            "torch.Size([100, 26])\n"
          ]
        }
      ]
    },
    {
      "cell_type": "markdown",
      "source": [
        "![image.png](data:image/png;base64,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)"
      ],
      "metadata": {
        "id": "YKzk04wJgoh-"
      }
    },
    {
      "cell_type": "markdown",
      "source": [
        "# Transformer Model\n",
        "\n",
        "![image.png](data:image/png;base64,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)"
      ],
      "metadata": {
        "id": "RuiPjZ9Vg4go"
      }
    },
    {
      "cell_type": "markdown",
      "source": [
        "# I. Masking (for Masked Multi-Head Attention in Decoder)\n",
        "\n",
        "**디코더(Decoder)에서의 Self-Attention Layer 는 반드시 자기 자신 보다 앞쪽에 포지션에 해당하는 토큰들의 어텐션 스코어만 볼수있다. 아웃풋들이 주어졌을 때 뒤에 나오는 단어들은 볼 수 없다.**\n",
        "\n",
        "**Decoder 부분에서는 현재 내가 알고있는 정보까지만 self-Attention이 가능하다.**\n",
        "\n",
        "참고 : https://acdongpgm.tistory.com/221"
      ],
      "metadata": {
        "id": "wl5NhldWh55H"
      }
    },
    {
      "cell_type": "markdown",
      "source": [
        "### 전처리 자세한 과정과 반환값(질문있음)"
      ],
      "metadata": {
        "id": "QjjHGLf2yWze"
      }
    },
    {
      "cell_type": "markdown",
      "source": [
        "torch.triu : \n",
        "\n",
        "![image.png](data:image/png;base64,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)"
      ],
      "metadata": {
        "id": "8MrFflg7oGqz"
      }
    },
    {
      "cell_type": "code",
      "source": [
        "mask = torch.triu(torch.ones(4,4)).transpose(0,1).type(dtype=torch.uint8)\n",
        "print(mask)"
      ],
      "metadata": {
        "colab": {
          "base_uri": "https://localhost:8080/"
        },
        "id": "OEz4z0s4ogUb",
        "outputId": "e6ad84f5-76fc-4e38-95a1-6fa6104577d4"
      },
      "execution_count": 112,
      "outputs": [
        {
          "output_type": "stream",
          "name": "stdout",
          "text": [
            "tensor([[1, 0, 0, 0],\n",
            "        [1, 1, 0, 0],\n",
            "        [1, 1, 1, 0],\n",
            "        [1, 1, 1, 1]], dtype=torch.uint8)\n"
          ]
        }
      ]
    },
    {
      "cell_type": "code",
      "source": [
        "mask.unsqueeze(0)"
      ],
      "metadata": {
        "colab": {
          "base_uri": "https://localhost:8080/"
        },
        "id": "yv5eUN3-oUfr",
        "outputId": "e8785137-31fb-4198-fa6d-ea60be2973a4"
      },
      "execution_count": 114,
      "outputs": [
        {
          "output_type": "execute_result",
          "data": {
            "text/plain": [
              "tensor([[[1, 0, 0, 0],\n",
              "         [1, 1, 0, 0],\n",
              "         [1, 1, 1, 0],\n",
              "         [1, 1, 1, 1]]], dtype=torch.uint8)"
            ]
          },
          "metadata": {},
          "execution_count": 114
        }
      ]
    },
    {
      "cell_type": "code",
      "source": [
        "mask.size() # unsqueeze(0)하면, 첫번째 차원에 1인 차원을 추가해줌!"
      ],
      "metadata": {
        "colab": {
          "base_uri": "https://localhost:8080/"
        },
        "id": "Og9FoXTMr0w-",
        "outputId": "72276f74-60e6-4b03-e3af-6dd207b5e34a"
      },
      "execution_count": 133,
      "outputs": [
        {
          "output_type": "execute_result",
          "data": {
            "text/plain": [
              "torch.Size([4, 4])"
            ]
          },
          "metadata": {},
          "execution_count": 133
        }
      ]
    },
    {
      "cell_type": "code",
      "source": [
        "0 != 0"
      ],
      "metadata": {
        "colab": {
          "base_uri": "https://localhost:8080/"
        },
        "id": "P-oCInrzo9Rr",
        "outputId": "862f7925-e59c-42b6-822f-6bf35e512d0d"
      },
      "execution_count": 116,
      "outputs": [
        {
          "output_type": "execute_result",
          "data": {
            "text/plain": [
              "False"
            ]
          },
          "metadata": {},
          "execution_count": 116
        }
      ]
    },
    {
      "cell_type": "code",
      "source": [
        "question[0]"
      ],
      "metadata": {
        "colab": {
          "base_uri": "https://localhost:8080/"
        },
        "id": "3e3lgN8-qr_r",
        "outputId": "f31f09db-fbb6-4565-c038-13317954f83c"
      },
      "execution_count": 122,
      "outputs": [
        {
          "output_type": "execute_result",
          "data": {
            "text/plain": [
              "tensor([ 374,  200,   70,   54,  374,  539,  515,  439,   10,   54,  553,   11,\n",
              "        7179, 1265,  173,  244,  858,  125,    0,    0,    0,    0,    0,    0,\n",
              "           0])"
            ]
          },
          "metadata": {},
          "execution_count": 122
        }
      ]
    },
    {
      "cell_type": "code",
      "source": [
        "question[0] != 0"
      ],
      "metadata": {
        "colab": {
          "base_uri": "https://localhost:8080/"
        },
        "id": "mJTr1ZKSrJgt",
        "outputId": "6a34c06d-629f-4ac9-c1d7-b1585e59bc68"
      },
      "execution_count": 126,
      "outputs": [
        {
          "output_type": "execute_result",
          "data": {
            "text/plain": [
              "tensor([ True,  True,  True,  True,  True,  True,  True,  True,  True,  True,\n",
              "         True,  True,  True,  True,  True,  True,  True,  True, False, False,\n",
              "        False, False, False, False, False])"
            ]
          },
          "metadata": {},
          "execution_count": 126
        }
      ]
    },
    {
      "cell_type": "code",
      "source": [
        "ex = question[0] != 0\n",
        "ex_unsqz2 = ex.unsqueeze(1).unsqueeze(1)\n",
        "print(ex_unsqz2) # question_mask 에 해당하는 부분임\n",
        "print(ex_unsqz2.size()) "
      ],
      "metadata": {
        "colab": {
          "base_uri": "https://localhost:8080/"
        },
        "id": "6pLqJIoVrSu9",
        "outputId": "250e5a19-8725-4940-9858-87056d03438a"
      },
      "execution_count": 131,
      "outputs": [
        {
          "output_type": "stream",
          "name": "stdout",
          "text": [
            "tensor([[[ True]],\n",
            "\n",
            "        [[ True]],\n",
            "\n",
            "        [[ True]],\n",
            "\n",
            "        [[ True]],\n",
            "\n",
            "        [[ True]],\n",
            "\n",
            "        [[ True]],\n",
            "\n",
            "        [[ True]],\n",
            "\n",
            "        [[ True]],\n",
            "\n",
            "        [[ True]],\n",
            "\n",
            "        [[ True]],\n",
            "\n",
            "        [[ True]],\n",
            "\n",
            "        [[ True]],\n",
            "\n",
            "        [[ True]],\n",
            "\n",
            "        [[ True]],\n",
            "\n",
            "        [[ True]],\n",
            "\n",
            "        [[ True]],\n",
            "\n",
            "        [[ True]],\n",
            "\n",
            "        [[ True]],\n",
            "\n",
            "        [[False]],\n",
            "\n",
            "        [[False]],\n",
            "\n",
            "        [[False]],\n",
            "\n",
            "        [[False]],\n",
            "\n",
            "        [[False]],\n",
            "\n",
            "        [[False]],\n",
            "\n",
            "        [[False]]])\n",
            "torch.Size([25, 1, 1])\n"
          ]
        }
      ]
    },
    {
      "cell_type": "markdown",
      "source": [
        " 여기서 부턴 reply"
      ],
      "metadata": {
        "id": "jDPkI1D-vwYn"
      }
    },
    {
      "cell_type": "code",
      "source": [
        "ex_rpl = reply[0] != 0\n",
        "ex_rpl_unsqz = ex_rpl.unsqueeze(1)\n",
        "print(ex_rpl)\n",
        "print(ex_rpl_unsqz)\n",
        "print(ex_rpl.size())\n",
        "print(ex_rpl_unsqz.size())"
      ],
      "metadata": {
        "colab": {
          "base_uri": "https://localhost:8080/"
        },
        "id": "CwWEMJ5qs3HR",
        "outputId": "fecb8cc7-90d8-41a2-e5c6-5d8845393363"
      },
      "execution_count": 138,
      "outputs": [
        {
          "output_type": "stream",
          "name": "stdout",
          "text": [
            "tensor([ True,  True,  True,  True,  True,  True,  True, False, False, False,\n",
            "        False, False, False, False, False, False, False, False, False, False,\n",
            "        False, False, False, False, False, False, False])\n",
            "tensor([[ True],\n",
            "        [ True],\n",
            "        [ True],\n",
            "        [ True],\n",
            "        [ True],\n",
            "        [ True],\n",
            "        [ True],\n",
            "        [False],\n",
            "        [False],\n",
            "        [False],\n",
            "        [False],\n",
            "        [False],\n",
            "        [False],\n",
            "        [False],\n",
            "        [False],\n",
            "        [False],\n",
            "        [False],\n",
            "        [False],\n",
            "        [False],\n",
            "        [False],\n",
            "        [False],\n",
            "        [False],\n",
            "        [False],\n",
            "        [False],\n",
            "        [False],\n",
            "        [False],\n",
            "        [False]])\n",
            "torch.Size([27])\n",
            "torch.Size([27, 1])\n"
          ]
        }
      ]
    },
    {
      "cell_type": "markdown",
      "source": [
        "⭐ 밑에 부분이 잘 이해가 안되서 직접 돌려봄\n",
        "(27,1) (1,27,27) 1,0으로 이루어진 하삼각행렬"
      ],
      "metadata": {
        "id": "y0sky0QbwgnP"
      }
    },
    {
      "cell_type": "code",
      "source": [
        "masked_attention = ex_rpl_unsqz & torch.triu(torch.ones(27,27)).transpose(0, 1).type(dtype=torch.uint8).unsqueeze(0).type_as(ex_rpl_unsqz.data)\n",
        "print(masked_attention)\n",
        "print(masked_attention.size()) # &는 비트와이즈 연산자. 공통이면 1 겹치지 않으면 0"
      ],
      "metadata": {
        "colab": {
          "base_uri": "https://localhost:8080/"
        },
        "id": "tXE6GklPtgCt",
        "outputId": "8e41f3b7-a23c-4b49-d9d3-b22c4e59cd03"
      },
      "execution_count": 151,
      "outputs": [
        {
          "output_type": "stream",
          "name": "stdout",
          "text": [
            "tensor([[[ True, False, False, False, False, False, False, False, False, False,\n",
            "          False, False, False, False, False, False, False, False, False, False,\n",
            "          False, False, False, False, False, False, False],\n",
            "         [ True,  True, False, False, False, False, False, False, False, False,\n",
            "          False, False, False, False, False, False, False, False, False, False,\n",
            "          False, False, False, False, False, False, False],\n",
            "         [ True,  True,  True, False, False, False, False, False, False, False,\n",
            "          False, False, False, False, False, False, False, False, False, False,\n",
            "          False, False, False, False, False, False, False],\n",
            "         [ True,  True,  True,  True, False, False, False, False, False, False,\n",
            "          False, False, False, False, False, False, False, False, False, False,\n",
            "          False, False, False, False, False, False, False],\n",
            "         [ True,  True,  True,  True,  True, False, False, False, False, False,\n",
            "          False, False, False, False, False, False, False, False, False, False,\n",
            "          False, False, False, False, False, False, False],\n",
            "         [ True,  True,  True,  True,  True,  True, False, False, False, False,\n",
            "          False, False, False, False, False, False, False, False, False, False,\n",
            "          False, False, False, False, False, False, False],\n",
            "         [ True,  True,  True,  True,  True,  True,  True, False, False, False,\n",
            "          False, False, False, False, False, False, False, False, False, False,\n",
            "          False, False, False, False, False, False, False],\n",
            "         [False, False, False, False, False, False, False, False, False, False,\n",
            "          False, False, False, False, False, False, False, False, False, False,\n",
            "          False, False, False, False, False, False, False],\n",
            "         [False, False, False, False, False, False, False, False, False, False,\n",
            "          False, False, False, False, False, False, False, False, False, False,\n",
            "          False, False, False, False, False, False, False],\n",
            "         [False, False, False, False, False, False, False, False, False, False,\n",
            "          False, False, False, False, False, False, False, False, False, False,\n",
            "          False, False, False, False, False, False, False],\n",
            "         [False, False, False, False, False, False, False, False, False, False,\n",
            "          False, False, False, False, False, False, False, False, False, False,\n",
            "          False, False, False, False, False, False, False],\n",
            "         [False, False, False, False, False, False, False, False, False, False,\n",
            "          False, False, False, False, False, False, False, False, False, False,\n",
            "          False, False, False, False, False, False, False],\n",
            "         [False, False, False, False, False, False, False, False, False, False,\n",
            "          False, False, False, False, False, False, False, False, False, False,\n",
            "          False, False, False, False, False, False, False],\n",
            "         [False, False, False, False, False, False, False, False, False, False,\n",
            "          False, False, False, False, False, False, False, False, False, False,\n",
            "          False, False, False, False, False, False, False],\n",
            "         [False, False, False, False, False, False, False, False, False, False,\n",
            "          False, False, False, False, False, False, False, False, False, False,\n",
            "          False, False, False, False, False, False, False],\n",
            "         [False, False, False, False, False, False, False, False, False, False,\n",
            "          False, False, False, False, False, False, False, False, False, False,\n",
            "          False, False, False, False, False, False, False],\n",
            "         [False, False, False, False, False, False, False, False, False, False,\n",
            "          False, False, False, False, False, False, False, False, False, False,\n",
            "          False, False, False, False, False, False, False],\n",
            "         [False, False, False, False, False, False, False, False, False, False,\n",
            "          False, False, False, False, False, False, False, False, False, False,\n",
            "          False, False, False, False, False, False, False],\n",
            "         [False, False, False, False, False, False, False, False, False, False,\n",
            "          False, False, False, False, False, False, False, False, False, False,\n",
            "          False, False, False, False, False, False, False],\n",
            "         [False, False, False, False, False, False, False, False, False, False,\n",
            "          False, False, False, False, False, False, False, False, False, False,\n",
            "          False, False, False, False, False, False, False],\n",
            "         [False, False, False, False, False, False, False, False, False, False,\n",
            "          False, False, False, False, False, False, False, False, False, False,\n",
            "          False, False, False, False, False, False, False],\n",
            "         [False, False, False, False, False, False, False, False, False, False,\n",
            "          False, False, False, False, False, False, False, False, False, False,\n",
            "          False, False, False, False, False, False, False],\n",
            "         [False, False, False, False, False, False, False, False, False, False,\n",
            "          False, False, False, False, False, False, False, False, False, False,\n",
            "          False, False, False, False, False, False, False],\n",
            "         [False, False, False, False, False, False, False, False, False, False,\n",
            "          False, False, False, False, False, False, False, False, False, False,\n",
            "          False, False, False, False, False, False, False],\n",
            "         [False, False, False, False, False, False, False, False, False, False,\n",
            "          False, False, False, False, False, False, False, False, False, False,\n",
            "          False, False, False, False, False, False, False],\n",
            "         [False, False, False, False, False, False, False, False, False, False,\n",
            "          False, False, False, False, False, False, False, False, False, False,\n",
            "          False, False, False, False, False, False, False],\n",
            "         [False, False, False, False, False, False, False, False, False, False,\n",
            "          False, False, False, False, False, False, False, False, False, False,\n",
            "          False, False, False, False, False, False, False]]])\n",
            "torch.Size([1, 27, 27])\n"
          ]
        }
      ]
    },
    {
      "cell_type": "code",
      "source": [
        "masked_attention.unsqueeze(1).size()"
      ],
      "metadata": {
        "colab": {
          "base_uri": "https://localhost:8080/"
        },
        "id": "XYhTNKBFt3k_",
        "outputId": "ba91f761-5728-460f-9ea0-9d922941140d"
      },
      "execution_count": 152,
      "outputs": [
        {
          "output_type": "execute_result",
          "data": {
            "text/plain": [
              "torch.Size([1, 1, 27, 27])"
            ]
          },
          "metadata": {},
          "execution_count": 152
        }
      ]
    },
    {
      "cell_type": "markdown",
      "source": [
        "### 다시 돌아와서"
      ],
      "metadata": {
        "id": "v2jA_awNyUZH"
      }
    },
    {
      "cell_type": "code",
      "source": [
        "def create_masks(question, reply_input, reply_target):\n",
        "\n",
        "  def subsequent_mask(size):\n",
        "    mask = torch.triu(torch.ones(size,size)).transpose(0,1).type(dtype=torch.uint8)\n",
        "    return mask.unsqueeze(0)\n",
        "  \n",
        "  question_mask = question !=0  # 단어에 해당하는 부분을 1로 만들어줌.\n",
        "  question_mask = question_mask.to(device)\n",
        "  question_mask = question_mask.unsqueeze(1).unsqueeze(1) # (batch_size, 1, 1, max_words)\n",
        "\n",
        "  reply_input_mask = reply_input != 0\n",
        "  reply_input_mask = reply_input_mask.unsqueeze(1) # (batch_size, 1, max_words)\n",
        "  reply_input_mask = reply_input_mask & subsequent_mask(reply_input.size(-1)).type_as(reply_input_mask.data) # 이게 우리가 원하는 mask 행렬임\n",
        "  reply_target_mask = reply_target != 0\n",
        "\n",
        "  return question_mask, reply_input_mask, reply_target_mask"
      ],
      "metadata": {
        "id": "LsOwu_Iugr7X"
      },
      "execution_count": 64,
      "outputs": []
    },
    {
      "cell_type": "markdown",
      "source": [
        "Question, Reply, 예측해야할 Reply에 대한 Masking 행렬을 만들어줌 (1,0 으로 이루어진)"
      ],
      "metadata": {
        "id": "gTMqkF7cyib4"
      }
    },
    {
      "cell_type": "markdown",
      "source": [
        "# II. Positional Embedding\n",
        "\n",
        "\n",
        "[기존 RNN 장점]\n",
        "\n",
        "원래 RNN 처럼 time step 이 중요한 모델에서는\n",
        "\n",
        "- I am ugly. I do not have girlfriend.\n",
        "\n",
        "- I am no ugly. I have girlfriend.\n",
        "\n",
        "위 두 문장의 시간적 데이터를 고려할 수 있었으나\n",
        "\n",
        "\n",
        "\n",
        "\n",
        "\n",
        "\n",
        "-\n",
        "\n",
        "\n",
        "\n",
        "\n",
        "[Transformer 모델의 한계]\n",
        "\n",
        "\n",
        "\n",
        "\n",
        "Transformer는 sequence를 Encoder, Decoder에 넣는 input 형태를 취하다 보니,\n",
        "\n",
        "\n",
        "\n",
        "이러한 **병렬적 처리에 기인한 시간적 데이터의 손실**이 일어난다.\n",
        "\n",
        "\n",
        "\n",
        "\n",
        "-\n",
        "\n",
        "\n",
        "[해결 방법]\n",
        "\n",
        "\n",
        "\n",
        "이러한 시간적 데이터를 고려해주고자,\n",
        "\n",
        "Positional Embedding 이라는 기법을 쓴다.\n",
        "\n",
        "\n"
      ],
      "metadata": {
        "id": "RK-_lo9Wy8V2"
      }
    },
    {
      "cell_type": "markdown",
      "source": [
        "\n",
        "\n",
        "---\n",
        "\n"
      ],
      "metadata": {
        "id": "L9TnUbfMBkrc"
      }
    },
    {
      "cell_type": "markdown",
      "source": [
        "![image.png](data:image/png;base64,iVBORw0KGgoAAAANSUhEUgAAAIoAAAAhCAIAAACJPqQeAAAIKElEQVRoge1aT2gb2Rn/ubSQwh5S6OEFeugYFyJjgxW64DfQgyfoIJUUPMELUfFBTPbgnaSwTFxwlexBO+uCq81CkFNYlFC2jApZRgUXeSFBysFlfEgZLSjYCw6jBR9G4MIYHBhBAm8PM2ONbPmP/GdtE/9uGr/3zfe+3/t+3/fmuYcxhnOcVvzkpB04x244p+dU45yeU41zek413lV63jbXX5+0D/vAO0hPs/Lnnp6f/fwX0d7enp4rX1RP2p/dcIboWa/85eqlnt6b/24czs4F4RPHsXX5Vb0OJN6PHo13x4OzQ0+j8uivlQZc9+2hTb138WKzaQOAzA8c2tpx4qcn7cC+QcTZWll62y8MkcMbW68ZRQCxaOTi4Y0dI84OPcDFAUE4IlPLL2YBkJEr3BEZPCacHXE7SlSN/wDAH38bOWlP9kAner6fv5PovzTIX//oUfU1Gs9nb/2B5wd7e+nNz/+7vnXw/6vFv926Tvv7Bb73N/zNT4vL24Zgfbn46c2rlOcH+/kP7hS+a3bn4/fFO8Klnp5L/cnZ6gG74Wbj+eytD3h+sL+f3vz8XxXjWwBJfvDCwcz9eGBbYeXjRJ5z7IIIgPRx3Ei6ZDPGmDkdBai66LaGzskUION5c40xxlhdSxJgWDU2QvZcUx0GGc8vbTDGHCNDMZxb2vbWHbGqJwlVFxyrIAIQvrT2P9XHxlI+xQFUXXAYY+6iSr2Vx/Ld2/qxsY2eajZKVIMx6ysRaI/1ogoAEyWHMcaYMy9zAOJtizTuAUDiceuZ9TgBRLNVxhhjrpkdIYCore7TPbc8RaIZw2XMnIkCINNmlwu09XECQPxq0yVLGwUAkjG6NHUC2EqP9ThBpsouc0oT2LpbF9IAANVgjK2VZAIgGk4mxpiRQZhCxqx8DICQX2GMMbaiiQRcSrf36Z1Tkv25hkoAkHTF3XNSGG4l7c0rh3I+HwMAec7ZZeLh4cwpwgABIDzcRSzs0seCMEAAIbfc4c/bxc2DHw71ReuR9aUAAEQ1g72MoWz7ZvZJxZgWEGBmhwAAfVSazGmVJedNN0sMEERZ7XLDW/k4AGAyxI6tJ4FuMvjgcJ8qAEkv7DHMuAeQtNEpMjvQs5IXAEAJLSsI/UTJYabqnT3ubQmXR2qbbthFqa153VKZ9gW3PEUARGe6VDafibZEcZ8qnTbWscDIEEDS13YfZWaHgJTeMZc702M/SbYnAWNuWQEAiAWbrWoiACD5pF2lqtkoOkmQbZaL+fREwuMper/LyPivDgrY/uEVy01pZYwxZt6PdtpYxwEzOwSM7tWA1DWxrTS2oSM9bnlyaxwDeVHKG15JAAB1sd0dT/ECUt1qTuwjkQ9blWbpoXAAepw5ebPRcitpEt93x+XTkw5RESo8bjlNaK7GGLP0VCIR57ixnFkrqRNJZVKifWKu6lhFJXlDVlJC5EbObE96u5KTxwRpMi2NRMQZw2k9z0oxSflYTNwQaXvGOzVdTSWStxUpnlDmrNDqdtx5HenxC0aIUlsbA0AClfA1XXkaypK6JgIgSa3uT9HHgfbWbumhANAuk8AX1cRjizFHT7W1hXvAF7dWxQq6aiG/wtiiSoayJmNuJU2nTccTvWHVcDbXC5oxHMY8tRALm9vMNTIUQ7LurXRNl/xYueaDBCGyvsoYc0u3ASBd8edYTyQuaO5ZXRMDr4wMAdLlHUpyJ3rqvnYFdcIxpgUCTnq8tMmG+0KlABnXrDeMMebU8lIfyIhSqm9acctTBJeVUqC8Ti2fJESYNlqUrmriFo47wKdHXWTOgkqHVTMYbmTIXmcXtzxJgKjX4Dgvsok+jiMARK3ulicJvW8yxsyHieyia9wDIORq3kRLGwViuSUvait5IbRZnTmZAFJL2A3V04xqlob6tLbCs5JPACToUKxCkpvwRGW3wsM60uOLyWhWm0lGBigdiAgpVa9tteAu62pKoAMROkyFMTk3b20d8cYuP5DFYUpjgjAiCClVW2yrVe5Tpb372AH1knItwvVRIZU1WmXWysf2cUp9Y5UyEu3j6DClqWzZZm41Jw1zhHCRD/XQZCsfC3WGblkJNTh2QQw1YJ5yyKVNrfNydOwfX0+RkExZ+RgQ8w/gXsGjKTU7o8hjopTRl7xgeXm5sx50oMfIEBzkANg1zGnS1vJ2BVtPttf8Q8EL8e2S78wLlQDyvPfLKU0ERXdzZKhp8lrB6EwhO4SWTNl6slV4PJ3v0MLtXngYY9u/udWXFhoArg8c98fcuvm8ocT4g332ataMQiwp9B2NK82aUQDE9yOeM/VqpQEx6v1aN+b/DjKe4NeLtz4q+leBl7ngVqNpPNNA5Lvjl5sNYLSf8+4AXpkFgB/gql9cnf3fhQvvASCXfhl643oTwPK3OsBH+pYfJWc73tpuo6dRrTwDIPKDx3wTsr5cfaYkfnfAj5LLLyvCmHBUO2j5ZQWI8oNc4FkFQ/yVXwMAvqvOAtdHrtjfPLJplBDhegp4Wa97Q5+pd//Zr36tiiRCUwRrThPA68XPJj8DRD5SrzyJRi5f5OMyQd0Ornkb39z9/Z+K9bcNe6WBUT7yav7RryKdP56HU8l1HLvo9czpkuM4XZ8fzyhsPUXIuBZUAFMloJsNsWvmxjjhWlLMlGxPuDbMXIpGrilKShAncuXVQJ7XymqcS0wo0piizWtKnKMjCalg+VYeSDQupWfS8qikFk3v64lTSQuE0rik1VlHhOjZ8E8zmyBTBy0M5zgi9LDz/7E+xXg3b0vPDM7pOdU4p+dU45yeU40fAH2h71QiRzr2AAAAAElFTkSuQmCC)\n",
        "\n",
        "pos : position. input에서 임베딩 벡터의 위치\n",
        "\n",
        "i : 임베딩 벡터 내 차원의 인덱스\n",
        "\n",
        "d_model : Encoder, Decoder 에 들어가는 벡터의 차원 **(max_len 아님)**"
      ],
      "metadata": {
        "id": "8MpYRhlUA3Rc"
      }
    },
    {
      "cell_type": "markdown",
      "source": [
        "![image.png](data:image/png;base64,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)"
      ],
      "metadata": {
        "id": "H8iDINbZA5X8"
      }
    },
    {
      "cell_type": "markdown",
      "source": [
        "![image.png](data:image/png;base64,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)\n",
        "\n",
        "위와 같은 포지셔널 인코딩 방법을 사용하면 순서 정보가 보존됩니다.\n",
        "\n",
        "예를 들어, 각 임베딩 벡터에 포지셔널 인코딩값을 더하면 같은 단어라고 하더라도 문장 내의 위치에 따라 임베딩 벡터의 값이 달라집니다.\n",
        "\n",
        "(위 회색 그림을 자세히 보면,\n",
        "\n",
        "1번째인 I 가 1번째가 까맣게\n",
        "\n",
        "2번째인 am 이 2번째가 까맣게\n",
        "\n",
        "3,4 번째인 a studnet 가 3번째가 까맣게 칠해져있음)"
      ],
      "metadata": {
        "id": "IEnCU3ysBFLM"
      }
    },
    {
      "cell_type": "markdown",
      "source": [
        "❓ (질문) : 사인, 코사인 함수를 사용한 이유?"
      ],
      "metadata": {
        "id": "TlmAHPfADSnV"
      }
    },
    {
      "cell_type": "code",
      "source": [
        "class Embeddings(nn.Module):\n",
        "  \"\"\"\n",
        "  Implements embeddings of the words and adds their positional encodings.\n",
        "  \"\"\"\n",
        "  def __init__(self, vocab_size, d_model, max_len=50):\n",
        "    super(Embeddings, self).__init__()\n",
        "    self.d_model = d_model\n",
        "    self.dropout = nn.Dropout(0.1)\n",
        "    self.embed = nn.Embedding(vocab_size, d_model) # nn.Embedding은 random 초기값을 설정하고 weight를 통해 학습하는 과정임.\n",
        "    self.pe = self.create_positional_encoding(max_len, self.d_model)\n",
        "    self.dropout = nn.Dropout(0.1) # 질문: dropout 왜 두번씀?\n",
        "  \n",
        "  def create_positional_encoding(self, max_len, d_model):\n",
        "    pe = torch.zeros(max_len, d_model).to(device) \n",
        "    for pos in range(max_len): # for each postition of word\n",
        "      for i in range(0, d_model, 2): # for each dimension of the each position\n",
        "        pe[pos, i] = math.sin(pos/(10000**((2*i)/d_model)))\n",
        "        pe[pos, i+1] = math.cos(pos/(10000**((2*(i+1))/d_model)))\n",
        "    pe = pe.unsqueeze(0) # include the batch size: prepare job\n",
        "    return pe # (1, max_len, d_model)\n",
        "  \n",
        "  def forward(self, encoded_words):\n",
        "    embedding = self.embed(encoded_words) * math.sqrt(self.d_model)\n",
        "    embedding += self.pe[:,:embedding.size(1)] # until d_model : pe will automatically be expanded with the same batch size as encoded words\n",
        "    embedding = self.dropout(embedding)\n",
        "    return embedding\n"
      ],
      "metadata": {
        "id": "tcO0VGaXDbm9"
      },
      "execution_count": 65,
      "outputs": []
    },
    {
      "cell_type": "markdown",
      "source": [
        "❓ (질문) : `def forward`에서 왜 `math.sqrt(self.d_model)` 곱하는지?\n",
        "\n",
        "❓ (질문) : 마지막 forward문에서 차원이 잘 이해가 안됨. 어떻게 학습하는지?"
      ],
      "metadata": {
        "id": "czKXHZOBPLHW"
      }
    },
    {
      "cell_type": "markdown",
      "source": [
        "참고자료 : https://velog.io/@cha-suyeon/%ED%8A%B8%EB%9E%9C%EC%8A%A4%ED%8F%AC%EB%A8%B8%EC%9D%98-%EC%9E%85%EB%A0%A5-%EC%9D%B4%ED%95%B4"
      ],
      "metadata": {
        "id": "tRwfp3hkQb1T"
      }
    },
    {
      "cell_type": "markdown",
      "source": [
        "# III. Multi-Head / Self Attention\n",
        "\n",
        "여러 헤드가 독자적으로 셀프 어텐션을 계산한다.\n",
        "\n",
        "⭐ **random initial state가 다르다는 것에 기인하여**, 셀프 어텐션 수행시 각기 다른 연관성을 도출해 낼수 있음. 하나의 헤드가 확인하지 못한 연관성을 다른 헤드에서 확인할 수 있는 것임.\n",
        "\n",
        "⭐ **Self Attention의 Concept**\n",
        "\n",
        "> 셀프 어텐션은 쿼리(query), 키(key), 밸류(value) 3개 요소 사이의 문맥적 관계성을 추출하는 과정입니다.\n",
        "\n",
        "⭐ Decoder에서 Masking하는데 역삼각행렬 꼴로 (아래 흰색이 masked된 부분) 마스킹을 하게 되었을 시에, **문장의 뒤로 갈수록 나오는 미래의 단어(row-wise)들은 이미 Labeled된 단어들이 아니라, 서로 다른 row들이 저렇게만 주어졌을때 (I love him ____ ____.), Encoder에서 \"소스\"로 학습한 Key, Value를 가지고 Decoder의 Query가 주어졌을때, \"주어진 self attention으로부터 도출된 단어간 연관성을 가지고 어떤 sequence를 예측할 것인가?\" 가 주어진 TASK이다.**\n",
        "\n",
        "⭐ 이때 소스, 타깃 각각의 attention 연관성은 어디서 계산(학습) 되느냐?\n",
        "\n",
        "(학습. 이랑 attention score 계산하는 거랑은 개념적으로는 다른 것 아닐까?)\n",
        "\n",
        "(학습이 되면서 attention score가 바뀌는 것 같은데 )\n",
        "\n",
        "> 소스 : Encoder내 Multi-head Attention Block 에서. \n",
        "\n",
        "> 타깃 : Decoder내 Masked Multi-head Attention Block 에서.\n",
        "\n",
        "> 그렇게 한뒤, Encoder의 Key, Value와 Decoder의 Query를 가져왔을때, 앞에서 계산된 Attention Score Vector를 기반으로, 해당 block 의 Attention Score을 계산한다.\n",
        "\n",
        "지속해서  학습시 영어로 \"Cafe\"에 해당하는 한국어가 \"카페\" 인 확률이 가장 높게 올 것이다.\n",
        "\n",
        "![image.png](data:image/png;base64,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)![image.png](data:image/png;base64,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)![image.png](data:image/png;base64,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)"
      ],
      "metadata": {
        "id": "2BWpAA3VtU5y"
      }
    },
    {
      "cell_type": "markdown",
      "source": [
        "https://ratsgo.github.io/nlpbook/docs/language_model/tr_self_attention/\n",
        "\n",
        "⭐ 이 글 보고 정말 많이 배웠는데 두고두고 꼭 다시 읽어볼것"
      ],
      "metadata": {
        "id": "BCKvx9jpt1nh"
      }
    },
    {
      "cell_type": "markdown",
      "source": [
        "❓ (질문) 그렇다면 트랜스포머 모델은 labeled 된 데이터를 가지고 학습하는건가? 트랜스포머 모델은 어떻게 학습하는가? 블락별로 학습하는가? 아니면 Decoder의 Multi-head attention에서 학습하는가?"
      ],
      "metadata": {
        "id": "kjaCwf6j4yiO"
      }
    },
    {
      "cell_type": "markdown",
      "source": [
        "d_model : 임베딩 벡터의 차원"
      ],
      "metadata": {
        "id": "fu7FZgXH5VX-"
      }
    },
    {
      "cell_type": "code",
      "source": [
        "class MultiHeadAttention(nn.Module):\n",
        "  \n",
        "  def __init__(self, heads, d_model):\n",
        "    \n",
        "    super(MultiHeadAttention, self).__init__()\n",
        "    assert d_model % heads == 0 # 나머지 # assert : 주장하다. 그렇다고 하다. # error 방지하기 위해\n",
        "    self.d_k = d_model // heads # 몫\n",
        "    self.heads = heads\n",
        "    self.dropout = nn.Dropout(0.1)\n",
        "    self.query = nn.Linear(d_model, d_model)\n",
        "    self.key = nn.Linear(d_model, d_model)\n",
        "    self.value = nn.Linear(d_model, d_model)\n",
        "    self.concat = nn.Linear(d_model, d_model)\n",
        "\n",
        "  def forward(self, query, key, value, mask):\n",
        "    \"\"\"\n",
        "    (query, key, value) shape : (batch_size, max_len, 512)\n",
        "    (mask) shape : (batch_size, 1, 1, max_words)\n",
        "    \"\"\" # shape 에 대해서는 다시\n",
        "\n",
        "    # (batch_size, max_len, 512)\n",
        "    # (질문) 애초에 여기 들어오는 vector들이 이럴것이다! 라고 생각한다는 건가. 그럴것으로 기대한다는 건가.\n",
        "    query = self.query(query)\n",
        "    key = self.key(key)\n",
        "    value = self.value(value)\n",
        "\n",
        "    # (질문) : 여기 차원 관련해서 이게 어떻게 아래에 나오는 차원으로 변환되는 건지 이해가 안됨.\n",
        "    # (batch_size, max_len, 512) --> (batch_size, max_len, h, d_k) --> (batch_size, h, max_len, d_k)\n",
        "    query = query.view(query.shape[0], -1, self.heads, self.d_k).permute(0,2,1,3) # permute : 차원 순서 바꾸기\n",
        "    key = key.view(key.shape[0], -1, self.heads, self.d_k).permute(0, 2, 1, 3)  \n",
        "    value = value.view(value.shape[0], -1, self.heads, self.d_k).permute(0, 2, 1, 3) \n",
        "\n",
        "    # (batch_size, h, max_len, d_k) matmul (batch_size, h, d_k, max_len) --> (batch_size, h, max_len, max_len)\n",
        "    scores = torch.matmul(query, key.permute(0,1,3,2)) / math.sqrt(query.size(-1)) # d_k\n",
        "    scores = scores.masked_fill(mask == 0, -1e9) # masked된것에 대해, -1e9로 바꿔주어, softmax했을때 0에 수렴하게 하겠다. # (batch_size, h, max_len, max_len)\n",
        "    weights = F.softmax(scores, dim = -1) # (batch_size, h, max_len, max_len)\n",
        "    weights = self.dropout(weights)\n",
        "\n",
        "    # (batch_size, h, max_len, max_len) matmul (batch_size, h, max_len, d_k) --> (batch_size, h, max_len, d_k) \n",
        "    context = torch.matmul(weights, value)\n",
        "    # (batch_size, h, max_len, d_k) --> (batch_size, max_len, h, d_k) --> (batch_size, max_len, h * d_k)\n",
        "    context = context.permute(0,2,1,3).contiguous().view(context.shape[0], -1, self.heads * self.d_k)\n",
        "    # (batch_size, max_len, h * d_k)\n",
        "    interacted = self.concat(context) # concat and project linear layer\n",
        "    return interacted"
      ],
      "metadata": {
        "id": "wUXoJwcIL7Jk"
      },
      "execution_count": 8,
      "outputs": []
    },
    {
      "cell_type": "code",
      "source": [
        "a = torch.randn(4,3)"
      ],
      "metadata": {
        "id": "Qe3-ULPr6Use"
      },
      "execution_count": 6,
      "outputs": []
    },
    {
      "cell_type": "code",
      "source": [
        "a.size(-1)"
      ],
      "metadata": {
        "colab": {
          "base_uri": "https://localhost:8080/"
        },
        "id": "234Yhdms9WAi",
        "outputId": "b327c284-9c27-48c0-a6a0-22b8a9dfcc76"
      },
      "execution_count": 7,
      "outputs": [
        {
          "output_type": "execute_result",
          "data": {
            "text/plain": [
              "3"
            ]
          },
          "metadata": {},
          "execution_count": 7
        }
      ]
    },
    {
      "cell_type": "markdown",
      "source": [
        "# IV. Position-wise Feed-Forward Network\n",
        "\n",
        "position-wise라는 말이 붙는 이유는, 상위 sequence(문장)이 아닌 각 단어들에 대하여 FFN이 수행된다고 하여 position-wise임."
      ],
      "metadata": {
        "id": "HOtPF5v1--gJ"
      }
    },
    {
      "cell_type": "code",
      "source": [
        "class FeedForward(nn.Module):\n",
        "\n",
        "  def __init__(self, d_model, middle_dim=2048):\n",
        "    super(FeedForward, self).__init__()\n",
        "\n",
        "    self.fc1 = nn.Linear(d_model, middle_dim)\n",
        "    self.fc2 = nn.Linear(middle_dim, d_model)\n",
        "    self.dropout = nn.Dropout(0.1)\n",
        "\n",
        "  def forward(self,x):\n",
        "    out = F.relu(self.fc1(x))\n",
        "    out = self.fc2(self.dropout(out))\n",
        "    return out"
      ],
      "metadata": {
        "id": "xCAAhBI0_rDK"
      },
      "execution_count": 9,
      "outputs": []
    },
    {
      "cell_type": "markdown",
      "source": [
        "# V. Encoder/Decoder Layer\n",
        "\n",
        "- Add : 잔차연결 (기울기 소실 문제 해결)\n",
        "\n",
        "- Layer Norm : 층 정규화. sample에 대하여 정규화하여 학습을 원활하게 해줌."
      ],
      "metadata": {
        "id": "Zfrq4mvFAgtp"
      }
    },
    {
      "cell_type": "code",
      "source": [
        "class EncoderLayer(nn.Module):\n",
        "\n",
        "  def __init__(self, d_model, heads):\n",
        "    super(EncoderLayer, self).__init__()\n",
        "    self.layernorm = nn.LayerNorm(d_model)\n",
        "    self.self_multihead = MultiHeadAttention(heads, d_model)\n",
        "    self.feed_forward = FeedForward(d_model)\n",
        "    self.dropout = nn.Dropout(0.1)\n",
        "\n",
        "  def forward(self, embeddings, mask):\n",
        "    interacted = self.dropout(self.self_multihead(embeddings, embeddings, embeddings, mask)) # query, key, value, mask\n",
        "    interacted = self.layernorm(interacted + embeddings) # Add & Norm 이렇게 구현됨.\n",
        "    feed_forward_out = self.dropout(self.feed_forward(interacted))\n",
        "    encoded = self.layernorm(feed_forward_out + interacted)\n",
        "    return encoded"
      ],
      "metadata": {
        "id": "5otZvftZA2xJ"
      },
      "execution_count": 10,
      "outputs": []
    },
    {
      "cell_type": "code",
      "source": [
        "class DecoderLayer(nn.Module):\n",
        "\n",
        "  def __init__(self, d_model, heads):\n",
        "    super(DecoderLayer, self).__init__()\n",
        "    self.layernorm = nn.LayerNorm(d_model)\n",
        "    self.self_multihead = MultiHeadAttention(heads, d_model)\n",
        "    self.src_multihead = MultiHeadAttention(heads, d_model) # Source Multi Head Attention\n",
        "    self.feed_forward = FeedForward(d_model)\n",
        "    self.dropout = nn.Dropout(0.1)\n",
        "\n",
        "  def forward(self, embeddings, encoded, src_mask, target_mask):\n",
        "    query = self.dropout(self.self_multihead(embeddings, embeddings, embeddings, target_mask))\n",
        "    query = self.layernorm(query + embeddings)\n",
        "    interacted = self.dropout(self.src_multihead(query, encoded, encoded, src_mask)) # source mask가 왜 필요?\n",
        "    interacted = self.layernorm(interacted + query)\n",
        "    feed_forward_out = self.dropout(self.feed_forward(interacted))\n",
        "    decoded = self.layernorm(feed_forward_out + interacted)\n",
        "    return decoded"
      ],
      "metadata": {
        "id": "_nwqDsS0CHkF"
      },
      "execution_count": 11,
      "outputs": []
    },
    {
      "cell_type": "code",
      "source": [
        "class Transformer(nn.Module):\n",
        "\n",
        "  def __init__(self, d_model, heads, num_layers, word_map):\n",
        "    super(Transformer, self).__init__()\n",
        "\n",
        "    self.d_model = d_model\n",
        "    self.vocab_size = len(word_map)\n",
        "    self.embed = nn.Embedding(self.vocab_size, d_model)\n",
        "    self.encoder = nn.ModuleList([EncoderLayer(d_model, heads) for _ in range(num_layers)])\n",
        "    self.decoder = nn.ModuleList([DecoderLayer(d_model, heads) for _ in range(num_layers)])\n",
        "    self.logit = nn.Linear(d_model, self.vocab_size) # (질문) logit이 이렇게 단순하게 구현된다고? (대답) 아 뒤에서 log_softmax 씌워서 결과 내줬구나.\n",
        "\n",
        "  def encode(self, src_words, src_mask):\n",
        "    src_embeddings = self.embed(src_words)\n",
        "    for layer in self.encoder:\n",
        "      src_embeddings = layer(src_embeddings, src_mask) # encoder 내부의 layer들을 통과하라\n",
        "    return src_embeddings\n",
        "\n",
        "  def decode(self, target_words, target_mask, src_embeddings, src_mask):\n",
        "    tgt_embeddings = self.embed(target_words)\n",
        "    for layer in self.decoder:\n",
        "      tgt_embeddings = layer(tgt_embeddings, src_embeddings, src_mask, target_mask)\n",
        "    return tgt_embeddings\n",
        "  \n",
        "  def forward(self, src_words, src_mask, target_words, target_mask):\n",
        "    encoded = self.encode(src_words, src_mask)\n",
        "    decoded = self.decode(target_words, target_mask, encoded, src_mask)\n",
        "    out = F.log_softmax(self.logit(decoded),dim=2) # 3번째 차원에 대해서 softmax를 적용시켜 줄거임 # 3번째 차원은 vocab_size 임.(단어 인덱스) # 즉 단어를 예측한다는 말임.\n",
        "    return out"
      ],
      "metadata": {
        "id": "QS6tmD2xCnfR"
      },
      "execution_count": 56,
      "outputs": []
    },
    {
      "cell_type": "markdown",
      "source": [
        "# VI. LOSS/Optimizer for train SETUP\n",
        "\n",
        "AdamW 이란?\n",
        "\n",
        "LossWithLS 이란?\n",
        "\n",
        "confidence 와 smooth 란?\n",
        "\n",
        "쿨백-라이뷸러 다이버전스 란?"
      ],
      "metadata": {
        "id": "nMHyFdvYGsfF"
      }
    },
    {
      "cell_type": "code",
      "source": [
        "class AdamWarmup:\n",
        "    \n",
        "    def __init__(self, model_size, warmup_steps, optimizer):\n",
        "        \n",
        "        self.model_size = model_size\n",
        "        self.warmup_steps = warmup_steps\n",
        "        self.optimizer = optimizer\n",
        "        self.current_step = 0\n",
        "        self.lr = 0\n",
        "        \n",
        "    def get_lr(self):\n",
        "        return self.model_size ** (-0.5) * min(self.current_step ** (-0.5), self.current_step * self.warmup_steps ** (-1.5))\n",
        "        \n",
        "    def step(self):\n",
        "        # Increment the number of steps each time we call the step function\n",
        "        self.current_step += 1\n",
        "        lr = self.get_lr()\n",
        "        for param_group in self.optimizer.param_groups:\n",
        "            param_group['lr'] = lr\n",
        "        # update the learning rate\n",
        "        self.lr = lr\n",
        "        self.optimizer.step()       "
      ],
      "metadata": {
        "id": "E30TzGIeKYrW"
      },
      "execution_count": 58,
      "outputs": []
    },
    {
      "cell_type": "code",
      "source": [
        "class LossWithLS(nn.Module):\n",
        "\n",
        "    def __init__(self, size, smooth):\n",
        "        super(LossWithLS, self).__init__()\n",
        "        self.criterion = nn.KLDivLoss(size_average=False, reduce=False)\n",
        "        self.confidence = 1.0 - smooth\n",
        "        self.smooth = smooth\n",
        "        self.size = size\n",
        "        \n",
        "    def forward(self, prediction, target, mask):\n",
        "        \"\"\"\n",
        "        prediction of shape: (batch_size, max_words, vocab_size)\n",
        "        target and mask of shape: (batch_size, max_words)\n",
        "        \"\"\"\n",
        "        prediction = prediction.view(-1, prediction.size(-1))   # (batch_size * max_words, vocab_size)\n",
        "        target = target.contiguous().view(-1)   # (batch_size * max_words)\n",
        "        mask = mask.float()\n",
        "        mask = mask.view(-1)       # (batch_size * max_words)\n",
        "        labels = prediction.data.clone()\n",
        "        labels.fill_(self.smooth / (self.size - 1))\n",
        "        labels.scatter_(1, target.data.unsqueeze(1), self.confidence)\n",
        "        loss = self.criterion(prediction, labels)    # (batch_size * max_words, vocab_size)\n",
        "        loss = (loss.sum(1) * mask).sum() / mask.sum()\n",
        "        return loss"
      ],
      "metadata": {
        "id": "b-3F9FITKayX"
      },
      "execution_count": 59,
      "outputs": []
    },
    {
      "cell_type": "markdown",
      "source": [
        "# VII. Train"
      ],
      "metadata": {
        "id": "9GaZMPMiGy6l"
      }
    },
    {
      "cell_type": "code",
      "source": [
        "print(reply[:,:-1].size()) # reply_input\n",
        "print(reply[:,1:].size()) # reply_target"
      ],
      "metadata": {
        "colab": {
          "base_uri": "https://localhost:8080/"
        },
        "id": "wxN4BKjeI6Ae",
        "outputId": "9dfc9fb6-101b-48e9-8007-4bc1f0a89068"
      },
      "execution_count": 51,
      "outputs": [
        {
          "output_type": "stream",
          "name": "stdout",
          "text": [
            "torch.Size([100, 26])\n",
            "torch.Size([100, 26])\n"
          ]
        }
      ]
    },
    {
      "cell_type": "markdown",
      "source": [
        "위에 코드를 설명하자면,\n",
        "\n",
        "reply_input은 max_len = 27인 문장에서, 1~26 인덱스의 단어고\n",
        "\n",
        "reply_output은 2~27 인덱스의 단어다.\n",
        "\n",
        "1번째가 output으로 나올수 없고, 27번째가 input으로 들어갈 수 없는것은 자명하다."
      ],
      "metadata": {
        "id": "rAuC6lmUI6g9"
      }
    },
    {
      "cell_type": "markdown",
      "source": [
        "❓ (질문) Transformer는 어떻게 학습하는가? Label이 따로 있는건가?"
      ],
      "metadata": {
        "id": "jkhZ7U55Jwiv"
      }
    },
    {
      "cell_type": "code",
      "source": [
        "# Instantiate Model\n",
        "d_model = 512\n",
        "heads = 8\n",
        "num_layers = 3\n",
        "device = torch.device(\"cuda\" if torch.cuda.is_available() else \"cpu\")\n",
        "epochs = 2 #10\n",
        "\n",
        "with open('WORDMAP_corpus.json', 'r') as j:\n",
        "    word_map = json.load(j)\n",
        "    \n",
        "transformer = Transformer(d_model = d_model, heads = heads, num_layers = num_layers, word_map = word_map)\n",
        "transformer = transformer.to(device)\n",
        "adam_optimizer = torch.optim.Adam(transformer.parameters(), lr=0, betas=(0.9, 0.98), eps=1e-9)\n",
        "transformer_optimizer = AdamWarmup(model_size = d_model, warmup_steps = 4000, optimizer = adam_optimizer)\n",
        "criterion = LossWithLS(len(word_map), 0.1)"
      ],
      "metadata": {
        "colab": {
          "base_uri": "https://localhost:8080/"
        },
        "id": "G8xDX0TOKIDp",
        "outputId": "473da8dd-f3c4-4f30-9e9e-5c0dd2753e21"
      },
      "execution_count": 60,
      "outputs": [
        {
          "output_type": "stream",
          "name": "stderr",
          "text": [
            "/usr/local/lib/python3.8/dist-packages/torch/nn/_reduction.py:42: UserWarning: size_average and reduce args will be deprecated, please use reduction='none' instead.\n",
            "  warnings.warn(warning.format(ret))\n"
          ]
        }
      ]
    },
    {
      "cell_type": "code",
      "source": [
        "def train(train_loader, transformer, criterion, epoch):\n",
        "    \n",
        "    transformer.train()\n",
        "    sum_loss = 0\n",
        "    count = 0\n",
        "\n",
        "    for i, (question, reply) in enumerate(train_loader):\n",
        "        \n",
        "        samples = question.shape[0]\n",
        "\n",
        "        # Move to device\n",
        "        question = question.to(device)\n",
        "        reply = reply.to(device)\n",
        "\n",
        "        # Prepare Target Data\n",
        "        reply_input = reply[:, :-1]\n",
        "        reply_target = reply[:, 1:]\n",
        "\n",
        "        # Create mask and add dimensions\n",
        "        question_mask, reply_input_mask, reply_target_mask = create_masks(question, reply_input, reply_target)\n",
        "\n",
        "        # Get the transformer outputs\n",
        "        out = transformer(question, question_mask, reply_input, reply_input_mask)\n",
        "\n",
        "        # Compute the loss\n",
        "        loss = criterion(out, reply_target, reply_target_mask)\n",
        "        \n",
        "        # Backprop\n",
        "        transformer_optimizer.optimizer.zero_grad()\n",
        "        loss.backward()\n",
        "        transformer_optimizer.step()\n",
        "        \n",
        "        sum_loss += loss.item() * samples\n",
        "        count += samples\n",
        "        \n",
        "        if i % 100 == 0:\n",
        "            print(\"Epoch [{}][{}/{}]\\tLoss: {:.3f}\".format(epoch, i, len(train_loader), sum_loss/count))"
      ],
      "metadata": {
        "id": "AiQ3dU4fKu_n"
      },
      "execution_count": 61,
      "outputs": []
    },
    {
      "cell_type": "markdown",
      "source": [
        "그리디 디코딩이란?"
      ],
      "metadata": {
        "id": "KvGhLiDjK0rv"
      }
    },
    {
      "cell_type": "code",
      "source": [
        "def evaluate(transformer, question, question_mask, max_len, word_map):\n",
        "    \"\"\"\n",
        "    Performs Greedy Decoding with a batch size of 1\n",
        "    \"\"\"\n",
        "    rev_word_map = {v: k for k, v in word_map.items()}\n",
        "    transformer.eval()\n",
        "    start_token = word_map['<start>']\n",
        "    encoded = transformer.encode(question, question_mask)\n",
        "    words = torch.LongTensor([[start_token]]).to(device)\n",
        "    \n",
        "    for step in range(max_len - 1):\n",
        "        size = words.shape[1]\n",
        "        target_mask = torch.triu(torch.ones(size, size)).transpose(0, 1).type(dtype=torch.uint8)\n",
        "        target_mask = target_mask.to(device).unsqueeze(0).unsqueeze(0)\n",
        "        decoded = transformer.decode(words, target_mask, encoded, question_mask)\n",
        "        predictions = transformer.logit(decoded[:, -1])\n",
        "        _, next_word = torch.max(predictions, dim = 1)\n",
        "        next_word = next_word.item()\n",
        "        if next_word == word_map['<end>']:\n",
        "            break\n",
        "        words = torch.cat([words, torch.LongTensor([[next_word]]).to(device)], dim = 1)   # (1,step+2)\n",
        "        \n",
        "    # Construct Sentence\n",
        "    if words.dim() == 2:\n",
        "        words = words.squeeze(0)\n",
        "        words = words.tolist()\n",
        "        \n",
        "    sen_idx = [w for w in words if w not in {word_map['<start>']}]\n",
        "    sentence = ' '.join([rev_word_map[sen_idx[k]] for k in range(len(sen_idx))])\n",
        "    \n",
        "    return sentence"
      ],
      "metadata": {
        "id": "jUHZTD5XKy9X"
      },
      "execution_count": 62,
      "outputs": []
    },
    {
      "cell_type": "code",
      "source": [
        "for epoch in range(epochs):\n",
        "    \n",
        "    train(train_loader, transformer, criterion, epoch)\n",
        "    \n",
        "    state = {'epoch': epoch, 'transformer': transformer, 'transformer_optimizer': transformer_optimizer}\n",
        "    torch.save(state, 'checkpoint_' + str(epoch) + '.pth.tar')"
      ],
      "metadata": {
        "colab": {
          "base_uri": "https://localhost:8080/",
          "height": 400
        },
        "id": "sD-ejYW9K9HP",
        "outputId": "cfb98dea-1016-4224-a35e-f368dfc00cbb"
      },
      "execution_count": 66,
      "outputs": [
        {
          "output_type": "error",
          "ename": "RuntimeError",
          "evalue": "ignored",
          "traceback": [
            "\u001b[0;31m---------------------------------------------------------------------------\u001b[0m",
            "\u001b[0;31mRuntimeError\u001b[0m                              Traceback (most recent call last)",
            "\u001b[0;32m<ipython-input-66-0a3eec7f8287>\u001b[0m in \u001b[0;36m<module>\u001b[0;34m\u001b[0m\n\u001b[1;32m      1\u001b[0m \u001b[0;32mfor\u001b[0m \u001b[0mepoch\u001b[0m \u001b[0;32min\u001b[0m \u001b[0mrange\u001b[0m\u001b[0;34m(\u001b[0m\u001b[0mepochs\u001b[0m\u001b[0;34m)\u001b[0m\u001b[0;34m:\u001b[0m\u001b[0;34m\u001b[0m\u001b[0;34m\u001b[0m\u001b[0m\n\u001b[1;32m      2\u001b[0m \u001b[0;34m\u001b[0m\u001b[0m\n\u001b[0;32m----> 3\u001b[0;31m     \u001b[0mtrain\u001b[0m\u001b[0;34m(\u001b[0m\u001b[0mtrain_loader\u001b[0m\u001b[0;34m,\u001b[0m \u001b[0mtransformer\u001b[0m\u001b[0;34m,\u001b[0m \u001b[0mcriterion\u001b[0m\u001b[0;34m,\u001b[0m \u001b[0mepoch\u001b[0m\u001b[0;34m)\u001b[0m\u001b[0;34m\u001b[0m\u001b[0;34m\u001b[0m\u001b[0m\n\u001b[0m\u001b[1;32m      4\u001b[0m \u001b[0;34m\u001b[0m\u001b[0m\n\u001b[1;32m      5\u001b[0m     \u001b[0mstate\u001b[0m \u001b[0;34m=\u001b[0m \u001b[0;34m{\u001b[0m\u001b[0;34m'epoch'\u001b[0m\u001b[0;34m:\u001b[0m \u001b[0mepoch\u001b[0m\u001b[0;34m,\u001b[0m \u001b[0;34m'transformer'\u001b[0m\u001b[0;34m:\u001b[0m \u001b[0mtransformer\u001b[0m\u001b[0;34m,\u001b[0m \u001b[0;34m'transformer_optimizer'\u001b[0m\u001b[0;34m:\u001b[0m \u001b[0mtransformer_optimizer\u001b[0m\u001b[0;34m}\u001b[0m\u001b[0;34m\u001b[0m\u001b[0;34m\u001b[0m\u001b[0m\n",
            "\u001b[0;32m<ipython-input-61-5c180c765867>\u001b[0m in \u001b[0;36mtrain\u001b[0;34m(train_loader, transformer, criterion, epoch)\u001b[0m\n\u001b[1;32m     21\u001b[0m \u001b[0;34m\u001b[0m\u001b[0m\n\u001b[1;32m     22\u001b[0m         \u001b[0;31m# Get the transformer outputs\u001b[0m\u001b[0;34m\u001b[0m\u001b[0;34m\u001b[0m\u001b[0;34m\u001b[0m\u001b[0m\n\u001b[0;32m---> 23\u001b[0;31m         \u001b[0mout\u001b[0m \u001b[0;34m=\u001b[0m \u001b[0mtransformer\u001b[0m\u001b[0;34m(\u001b[0m\u001b[0mquestion\u001b[0m\u001b[0;34m,\u001b[0m \u001b[0mquestion_mask\u001b[0m\u001b[0;34m,\u001b[0m \u001b[0mreply_input\u001b[0m\u001b[0;34m,\u001b[0m \u001b[0mreply_input_mask\u001b[0m\u001b[0;34m)\u001b[0m\u001b[0;34m\u001b[0m\u001b[0;34m\u001b[0m\u001b[0m\n\u001b[0m\u001b[1;32m     24\u001b[0m \u001b[0;34m\u001b[0m\u001b[0m\n\u001b[1;32m     25\u001b[0m         \u001b[0;31m# Compute the loss\u001b[0m\u001b[0;34m\u001b[0m\u001b[0;34m\u001b[0m\u001b[0;34m\u001b[0m\u001b[0m\n",
            "\u001b[0;32m/usr/local/lib/python3.8/dist-packages/torch/nn/modules/module.py\u001b[0m in \u001b[0;36m_call_impl\u001b[0;34m(self, *input, **kwargs)\u001b[0m\n\u001b[1;32m   1192\u001b[0m         if not (self._backward_hooks or self._forward_hooks or self._forward_pre_hooks or _global_backward_hooks\n\u001b[1;32m   1193\u001b[0m                 or _global_forward_hooks or _global_forward_pre_hooks):\n\u001b[0;32m-> 1194\u001b[0;31m             \u001b[0;32mreturn\u001b[0m \u001b[0mforward_call\u001b[0m\u001b[0;34m(\u001b[0m\u001b[0;34m*\u001b[0m\u001b[0minput\u001b[0m\u001b[0;34m,\u001b[0m \u001b[0;34m**\u001b[0m\u001b[0mkwargs\u001b[0m\u001b[0;34m)\u001b[0m\u001b[0;34m\u001b[0m\u001b[0;34m\u001b[0m\u001b[0m\n\u001b[0m\u001b[1;32m   1195\u001b[0m         \u001b[0;31m# Do not call functions when jit is used\u001b[0m\u001b[0;34m\u001b[0m\u001b[0;34m\u001b[0m\u001b[0;34m\u001b[0m\u001b[0m\n\u001b[1;32m   1196\u001b[0m         \u001b[0mfull_backward_hooks\u001b[0m\u001b[0;34m,\u001b[0m \u001b[0mnon_full_backward_hooks\u001b[0m \u001b[0;34m=\u001b[0m \u001b[0;34m[\u001b[0m\u001b[0;34m]\u001b[0m\u001b[0;34m,\u001b[0m \u001b[0;34m[\u001b[0m\u001b[0;34m]\u001b[0m\u001b[0;34m\u001b[0m\u001b[0;34m\u001b[0m\u001b[0m\n",
            "\u001b[0;32m<ipython-input-56-a0efe1288bc0>\u001b[0m in \u001b[0;36mforward\u001b[0;34m(self, src_words, src_mask, target_words, target_mask)\u001b[0m\n\u001b[1;32m     25\u001b[0m   \u001b[0;32mdef\u001b[0m \u001b[0mforward\u001b[0m\u001b[0;34m(\u001b[0m\u001b[0mself\u001b[0m\u001b[0;34m,\u001b[0m \u001b[0msrc_words\u001b[0m\u001b[0;34m,\u001b[0m \u001b[0msrc_mask\u001b[0m\u001b[0;34m,\u001b[0m \u001b[0mtarget_words\u001b[0m\u001b[0;34m,\u001b[0m \u001b[0mtarget_mask\u001b[0m\u001b[0;34m)\u001b[0m\u001b[0;34m:\u001b[0m\u001b[0;34m\u001b[0m\u001b[0;34m\u001b[0m\u001b[0m\n\u001b[1;32m     26\u001b[0m     \u001b[0mencoded\u001b[0m \u001b[0;34m=\u001b[0m \u001b[0mself\u001b[0m\u001b[0;34m.\u001b[0m\u001b[0mencode\u001b[0m\u001b[0;34m(\u001b[0m\u001b[0msrc_words\u001b[0m\u001b[0;34m,\u001b[0m \u001b[0msrc_mask\u001b[0m\u001b[0;34m)\u001b[0m\u001b[0;34m\u001b[0m\u001b[0;34m\u001b[0m\u001b[0m\n\u001b[0;32m---> 27\u001b[0;31m     \u001b[0mdecoded\u001b[0m \u001b[0;34m=\u001b[0m \u001b[0mself\u001b[0m\u001b[0;34m.\u001b[0m\u001b[0mdecode\u001b[0m\u001b[0;34m(\u001b[0m\u001b[0mtarget_words\u001b[0m\u001b[0;34m,\u001b[0m \u001b[0mtarget_mask\u001b[0m\u001b[0;34m,\u001b[0m \u001b[0mencoded\u001b[0m\u001b[0;34m,\u001b[0m \u001b[0msrc_mask\u001b[0m\u001b[0;34m)\u001b[0m\u001b[0;34m\u001b[0m\u001b[0;34m\u001b[0m\u001b[0m\n\u001b[0m\u001b[1;32m     28\u001b[0m     \u001b[0mout\u001b[0m \u001b[0;34m=\u001b[0m \u001b[0mF\u001b[0m\u001b[0;34m.\u001b[0m\u001b[0mlog_softmax\u001b[0m\u001b[0;34m(\u001b[0m\u001b[0mself\u001b[0m\u001b[0;34m.\u001b[0m\u001b[0mlogit\u001b[0m\u001b[0;34m(\u001b[0m\u001b[0mdecoded\u001b[0m\u001b[0;34m)\u001b[0m\u001b[0;34m,\u001b[0m\u001b[0mdim\u001b[0m\u001b[0;34m=\u001b[0m\u001b[0;36m2\u001b[0m\u001b[0;34m)\u001b[0m \u001b[0;31m# 3번째 차원에 대해서 softmax를 적용시켜 줄거임 # 3번째 차원은 vocab_size 임.(단어 인덱스) # 즉 단어를 예측한다는 말임.\u001b[0m\u001b[0;34m\u001b[0m\u001b[0;34m\u001b[0m\u001b[0m\n\u001b[1;32m     29\u001b[0m     \u001b[0;32mreturn\u001b[0m \u001b[0mout\u001b[0m\u001b[0;34m\u001b[0m\u001b[0;34m\u001b[0m\u001b[0m\n",
            "\u001b[0;32m<ipython-input-56-a0efe1288bc0>\u001b[0m in \u001b[0;36mdecode\u001b[0;34m(self, target_words, target_mask, src_embeddings, src_mask)\u001b[0m\n\u001b[1;32m     20\u001b[0m     \u001b[0mtgt_embeddings\u001b[0m \u001b[0;34m=\u001b[0m \u001b[0mself\u001b[0m\u001b[0;34m.\u001b[0m\u001b[0membed\u001b[0m\u001b[0;34m(\u001b[0m\u001b[0mtarget_words\u001b[0m\u001b[0;34m)\u001b[0m\u001b[0;34m\u001b[0m\u001b[0;34m\u001b[0m\u001b[0m\n\u001b[1;32m     21\u001b[0m     \u001b[0;32mfor\u001b[0m \u001b[0mlayer\u001b[0m \u001b[0;32min\u001b[0m \u001b[0mself\u001b[0m\u001b[0;34m.\u001b[0m\u001b[0mdecoder\u001b[0m\u001b[0;34m:\u001b[0m\u001b[0;34m\u001b[0m\u001b[0;34m\u001b[0m\u001b[0m\n\u001b[0;32m---> 22\u001b[0;31m       \u001b[0mtgt_embeddings\u001b[0m \u001b[0;34m=\u001b[0m \u001b[0mlayer\u001b[0m\u001b[0;34m(\u001b[0m\u001b[0mtgt_embeddings\u001b[0m\u001b[0;34m,\u001b[0m \u001b[0msrc_embeddings\u001b[0m\u001b[0;34m,\u001b[0m \u001b[0msrc_mask\u001b[0m\u001b[0;34m,\u001b[0m \u001b[0mtarget_mask\u001b[0m\u001b[0;34m)\u001b[0m\u001b[0;34m\u001b[0m\u001b[0;34m\u001b[0m\u001b[0m\n\u001b[0m\u001b[1;32m     23\u001b[0m     \u001b[0;32mreturn\u001b[0m \u001b[0mtgt_embeddings\u001b[0m\u001b[0;34m\u001b[0m\u001b[0;34m\u001b[0m\u001b[0m\n\u001b[1;32m     24\u001b[0m \u001b[0;34m\u001b[0m\u001b[0m\n",
            "\u001b[0;32m/usr/local/lib/python3.8/dist-packages/torch/nn/modules/module.py\u001b[0m in \u001b[0;36m_call_impl\u001b[0;34m(self, *input, **kwargs)\u001b[0m\n\u001b[1;32m   1192\u001b[0m         if not (self._backward_hooks or self._forward_hooks or self._forward_pre_hooks or _global_backward_hooks\n\u001b[1;32m   1193\u001b[0m                 or _global_forward_hooks or _global_forward_pre_hooks):\n\u001b[0;32m-> 1194\u001b[0;31m             \u001b[0;32mreturn\u001b[0m \u001b[0mforward_call\u001b[0m\u001b[0;34m(\u001b[0m\u001b[0;34m*\u001b[0m\u001b[0minput\u001b[0m\u001b[0;34m,\u001b[0m \u001b[0;34m**\u001b[0m\u001b[0mkwargs\u001b[0m\u001b[0;34m)\u001b[0m\u001b[0;34m\u001b[0m\u001b[0;34m\u001b[0m\u001b[0m\n\u001b[0m\u001b[1;32m   1195\u001b[0m         \u001b[0;31m# Do not call functions when jit is used\u001b[0m\u001b[0;34m\u001b[0m\u001b[0;34m\u001b[0m\u001b[0;34m\u001b[0m\u001b[0m\n\u001b[1;32m   1196\u001b[0m         \u001b[0mfull_backward_hooks\u001b[0m\u001b[0;34m,\u001b[0m \u001b[0mnon_full_backward_hooks\u001b[0m \u001b[0;34m=\u001b[0m \u001b[0;34m[\u001b[0m\u001b[0;34m]\u001b[0m\u001b[0;34m,\u001b[0m \u001b[0;34m[\u001b[0m\u001b[0;34m]\u001b[0m\u001b[0;34m\u001b[0m\u001b[0;34m\u001b[0m\u001b[0m\n",
            "\u001b[0;32m<ipython-input-11-392edd5ba36f>\u001b[0m in \u001b[0;36mforward\u001b[0;34m(self, embeddings, encoded, src_mask, target_mask)\u001b[0m\n\u001b[1;32m     10\u001b[0m \u001b[0;34m\u001b[0m\u001b[0m\n\u001b[1;32m     11\u001b[0m   \u001b[0;32mdef\u001b[0m \u001b[0mforward\u001b[0m\u001b[0;34m(\u001b[0m\u001b[0mself\u001b[0m\u001b[0;34m,\u001b[0m \u001b[0membeddings\u001b[0m\u001b[0;34m,\u001b[0m \u001b[0mencoded\u001b[0m\u001b[0;34m,\u001b[0m \u001b[0msrc_mask\u001b[0m\u001b[0;34m,\u001b[0m \u001b[0mtarget_mask\u001b[0m\u001b[0;34m)\u001b[0m\u001b[0;34m:\u001b[0m\u001b[0;34m\u001b[0m\u001b[0;34m\u001b[0m\u001b[0m\n\u001b[0;32m---> 12\u001b[0;31m     \u001b[0mquery\u001b[0m \u001b[0;34m=\u001b[0m \u001b[0mself\u001b[0m\u001b[0;34m.\u001b[0m\u001b[0mdropout\u001b[0m\u001b[0;34m(\u001b[0m\u001b[0mself\u001b[0m\u001b[0;34m.\u001b[0m\u001b[0mself_multihead\u001b[0m\u001b[0;34m(\u001b[0m\u001b[0membeddings\u001b[0m\u001b[0;34m,\u001b[0m \u001b[0membeddings\u001b[0m\u001b[0;34m,\u001b[0m \u001b[0membeddings\u001b[0m\u001b[0;34m,\u001b[0m \u001b[0mtarget_mask\u001b[0m\u001b[0;34m)\u001b[0m\u001b[0;34m)\u001b[0m\u001b[0;34m\u001b[0m\u001b[0;34m\u001b[0m\u001b[0m\n\u001b[0m\u001b[1;32m     13\u001b[0m     \u001b[0mquery\u001b[0m \u001b[0;34m=\u001b[0m \u001b[0mself\u001b[0m\u001b[0;34m.\u001b[0m\u001b[0mlayernorm\u001b[0m\u001b[0;34m(\u001b[0m\u001b[0mquery\u001b[0m \u001b[0;34m+\u001b[0m \u001b[0membeddings\u001b[0m\u001b[0;34m)\u001b[0m\u001b[0;34m\u001b[0m\u001b[0;34m\u001b[0m\u001b[0m\n\u001b[1;32m     14\u001b[0m     \u001b[0minteracted\u001b[0m \u001b[0;34m=\u001b[0m \u001b[0mself\u001b[0m\u001b[0;34m.\u001b[0m\u001b[0mdropout\u001b[0m\u001b[0;34m(\u001b[0m\u001b[0mself\u001b[0m\u001b[0;34m.\u001b[0m\u001b[0msrc_multihead\u001b[0m\u001b[0;34m(\u001b[0m\u001b[0mquery\u001b[0m\u001b[0;34m,\u001b[0m \u001b[0mencoded\u001b[0m\u001b[0;34m,\u001b[0m \u001b[0mencoded\u001b[0m\u001b[0;34m,\u001b[0m \u001b[0msrc_mask\u001b[0m\u001b[0;34m)\u001b[0m\u001b[0;34m)\u001b[0m \u001b[0;31m# source mask가 왜 필요?\u001b[0m\u001b[0;34m\u001b[0m\u001b[0;34m\u001b[0m\u001b[0m\n",
            "\u001b[0;32m/usr/local/lib/python3.8/dist-packages/torch/nn/modules/module.py\u001b[0m in \u001b[0;36m_call_impl\u001b[0;34m(self, *input, **kwargs)\u001b[0m\n\u001b[1;32m   1192\u001b[0m         if not (self._backward_hooks or self._forward_hooks or self._forward_pre_hooks or _global_backward_hooks\n\u001b[1;32m   1193\u001b[0m                 or _global_forward_hooks or _global_forward_pre_hooks):\n\u001b[0;32m-> 1194\u001b[0;31m             \u001b[0;32mreturn\u001b[0m \u001b[0mforward_call\u001b[0m\u001b[0;34m(\u001b[0m\u001b[0;34m*\u001b[0m\u001b[0minput\u001b[0m\u001b[0;34m,\u001b[0m \u001b[0;34m**\u001b[0m\u001b[0mkwargs\u001b[0m\u001b[0;34m)\u001b[0m\u001b[0;34m\u001b[0m\u001b[0;34m\u001b[0m\u001b[0m\n\u001b[0m\u001b[1;32m   1195\u001b[0m         \u001b[0;31m# Do not call functions when jit is used\u001b[0m\u001b[0;34m\u001b[0m\u001b[0;34m\u001b[0m\u001b[0;34m\u001b[0m\u001b[0m\n\u001b[1;32m   1196\u001b[0m         \u001b[0mfull_backward_hooks\u001b[0m\u001b[0;34m,\u001b[0m \u001b[0mnon_full_backward_hooks\u001b[0m \u001b[0;34m=\u001b[0m \u001b[0;34m[\u001b[0m\u001b[0;34m]\u001b[0m\u001b[0;34m,\u001b[0m \u001b[0;34m[\u001b[0m\u001b[0;34m]\u001b[0m\u001b[0;34m\u001b[0m\u001b[0;34m\u001b[0m\u001b[0m\n",
            "\u001b[0;32m<ipython-input-8-bb2307ff6cdb>\u001b[0m in \u001b[0;36mforward\u001b[0;34m(self, query, key, value, mask)\u001b[0m\n\u001b[1;32m     33\u001b[0m     \u001b[0;31m# (batch_size, h, max_len, d_k) matmul (batch_size, h, d_k, max_len) --> (batch_size, h, max_len, max_len)\u001b[0m\u001b[0;34m\u001b[0m\u001b[0;34m\u001b[0m\u001b[0;34m\u001b[0m\u001b[0m\n\u001b[1;32m     34\u001b[0m     \u001b[0mscores\u001b[0m \u001b[0;34m=\u001b[0m \u001b[0mtorch\u001b[0m\u001b[0;34m.\u001b[0m\u001b[0mmatmul\u001b[0m\u001b[0;34m(\u001b[0m\u001b[0mquery\u001b[0m\u001b[0;34m,\u001b[0m \u001b[0mkey\u001b[0m\u001b[0;34m.\u001b[0m\u001b[0mpermute\u001b[0m\u001b[0;34m(\u001b[0m\u001b[0;36m0\u001b[0m\u001b[0;34m,\u001b[0m\u001b[0;36m1\u001b[0m\u001b[0;34m,\u001b[0m\u001b[0;36m3\u001b[0m\u001b[0;34m,\u001b[0m\u001b[0;36m2\u001b[0m\u001b[0;34m)\u001b[0m\u001b[0;34m)\u001b[0m \u001b[0;34m/\u001b[0m \u001b[0mmath\u001b[0m\u001b[0;34m.\u001b[0m\u001b[0msqrt\u001b[0m\u001b[0;34m(\u001b[0m\u001b[0mquery\u001b[0m\u001b[0;34m.\u001b[0m\u001b[0msize\u001b[0m\u001b[0;34m(\u001b[0m\u001b[0;34m-\u001b[0m\u001b[0;36m1\u001b[0m\u001b[0;34m)\u001b[0m\u001b[0;34m)\u001b[0m \u001b[0;31m# d_k\u001b[0m\u001b[0;34m\u001b[0m\u001b[0;34m\u001b[0m\u001b[0m\n\u001b[0;32m---> 35\u001b[0;31m     \u001b[0mscores\u001b[0m \u001b[0;34m=\u001b[0m \u001b[0mscores\u001b[0m\u001b[0;34m.\u001b[0m\u001b[0mmasked_fill\u001b[0m\u001b[0;34m(\u001b[0m\u001b[0mmask\u001b[0m \u001b[0;34m==\u001b[0m \u001b[0;36m0\u001b[0m\u001b[0;34m,\u001b[0m \u001b[0;34m-\u001b[0m\u001b[0;36m1e9\u001b[0m\u001b[0;34m)\u001b[0m \u001b[0;31m# masked된것에 대해, -1e9로 바꿔주어, softmax했을때 0에 수렴하게 하겠다. # (batch_size, h, max_len, max_len)\u001b[0m\u001b[0;34m\u001b[0m\u001b[0;34m\u001b[0m\u001b[0m\n\u001b[0m\u001b[1;32m     36\u001b[0m     \u001b[0mweights\u001b[0m \u001b[0;34m=\u001b[0m \u001b[0mF\u001b[0m\u001b[0;34m.\u001b[0m\u001b[0msoftmax\u001b[0m\u001b[0;34m(\u001b[0m\u001b[0mscores\u001b[0m\u001b[0;34m,\u001b[0m \u001b[0mdim\u001b[0m \u001b[0;34m=\u001b[0m \u001b[0;34m-\u001b[0m\u001b[0;36m1\u001b[0m\u001b[0;34m)\u001b[0m \u001b[0;31m# (batch_size, h, max_len, max_len)\u001b[0m\u001b[0;34m\u001b[0m\u001b[0;34m\u001b[0m\u001b[0m\n\u001b[1;32m     37\u001b[0m     \u001b[0mweights\u001b[0m \u001b[0;34m=\u001b[0m \u001b[0mself\u001b[0m\u001b[0;34m.\u001b[0m\u001b[0mdropout\u001b[0m\u001b[0;34m(\u001b[0m\u001b[0mweights\u001b[0m\u001b[0;34m)\u001b[0m\u001b[0;34m\u001b[0m\u001b[0;34m\u001b[0m\u001b[0m\n",
            "\u001b[0;31mRuntimeError\u001b[0m: The size of tensor a (100) must match the size of tensor b (8) at non-singleton dimension 1"
          ]
        }
      ]
    },
    {
      "cell_type": "code",
      "source": [
        "checkpoint = torch.load('/content/checkpoint_1.pth.tar')\n",
        "transformer = checkpoint['transformer']"
      ],
      "metadata": {
        "id": "vW1hSvX4LWU4"
      },
      "execution_count": null,
      "outputs": []
    },
    {
      "cell_type": "code",
      "source": [
        "while(1):\n",
        "    question = input(\"Question: \") \n",
        "    if question == 'quit':\n",
        "        break\n",
        "    max_len = input(\"Maximum Reply Length: \")\n",
        "    enc_qus = [word_map.get(word, word_map['<unk>']) for word in question.split()]\n",
        "    question = torch.LongTensor(enc_qus).to(device).unsqueeze(0)\n",
        "    question_mask = (question!=0).to(device).unsqueeze(1).unsqueeze(1)  \n",
        "    sentence = evaluate(transformer, question, question_mask, int(max_len), word_map)\n",
        "    print(sentence)"
      ],
      "metadata": {
        "id": "Zue7vF8QLXYq"
      },
      "execution_count": null,
      "outputs": []
    }
  ]
}
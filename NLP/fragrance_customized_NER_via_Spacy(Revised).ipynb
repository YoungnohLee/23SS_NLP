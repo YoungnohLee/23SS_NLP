{
  "nbformat": 4,
  "nbformat_minor": 0,
  "metadata": {
    "colab": {
      "provenance": []
    },
    "kernelspec": {
      "name": "python3",
      "display_name": "Python 3"
    },
    "language_info": {
      "name": "python"
    }
  },
  "cells": [
    {
      "cell_type": "code",
      "execution_count": 1,
      "metadata": {
        "colab": {
          "base_uri": "https://localhost:8080/"
        },
        "id": "-8QkK8gPBz-W",
        "outputId": "69d95e4a-ac18-429f-d07c-6d0f2c651360"
      },
      "outputs": [
        {
          "output_type": "stream",
          "name": "stdout",
          "text": [
            "\u001b[?25l     \u001b[90m━━━━━━━━━━━━━━━━━━━━━━━━━━━━━━━━━━━━━━━━\u001b[0m \u001b[32m0.0/6.7 MB\u001b[0m \u001b[31m?\u001b[0m eta \u001b[36m-:--:--\u001b[0m\r\u001b[2K     \u001b[91m━━\u001b[0m\u001b[91m╸\u001b[0m\u001b[90m━━━━━━━━━━━━━━━━━━━━━━━━━━━━━━━━━━━━━\u001b[0m \u001b[32m0.5/6.7 MB\u001b[0m \u001b[31m14.5 MB/s\u001b[0m eta \u001b[36m0:00:01\u001b[0m\r\u001b[2K     \u001b[91m━━━━━━━━━━━━━━━\u001b[0m\u001b[90m╺\u001b[0m\u001b[90m━━━━━━━━━━━━━━━━━━━━━━━━\u001b[0m \u001b[32m2.5/6.7 MB\u001b[0m \u001b[31m36.4 MB/s\u001b[0m eta \u001b[36m0:00:01\u001b[0m\r\u001b[2K     \u001b[91m━━━━━━━━━━━━━━━━━━━━━━━━━━━━━━━━━\u001b[0m\u001b[90m╺\u001b[0m\u001b[90m━━━━━━\u001b[0m \u001b[32m5.6/6.7 MB\u001b[0m \u001b[31m50.0 MB/s\u001b[0m eta \u001b[36m0:00:01\u001b[0m\r\u001b[2K     \u001b[91m━━━━━━━━━━━━━━━━━━━━━━━━━━━━━━━━━━━━━━━\u001b[0m\u001b[91m╸\u001b[0m \u001b[32m6.7/6.7 MB\u001b[0m \u001b[31m50.3 MB/s\u001b[0m eta \u001b[36m0:00:01\u001b[0m\r\u001b[2K     \u001b[91m━━━━━━━━━━━━━━━━━━━━━━━━━━━━━━━━━━━━━━━\u001b[0m\u001b[91m╸\u001b[0m \u001b[32m6.7/6.7 MB\u001b[0m \u001b[31m50.3 MB/s\u001b[0m eta \u001b[36m0:00:01\u001b[0m\r\u001b[2K     \u001b[90m━━━━━━━━━━━━━━━━━━━━━━━━━━━━━━━━━━━━━━━━\u001b[0m \u001b[32m6.7/6.7 MB\u001b[0m \u001b[31m30.0 MB/s\u001b[0m eta \u001b[36m0:00:00\u001b[0m\n",
            "\u001b[?25h\u001b[31mERROR: pip's dependency resolver does not currently take into account all the packages that are installed. This behaviour is the source of the following dependency conflicts.\n",
            "en-core-web-sm 3.4.1 requires spacy<3.5.0,>=3.4.0, but you have spacy 3.5.0 which is incompatible.\u001b[0m\u001b[31m\n",
            "\u001b[0m"
          ]
        }
      ],
      "source": [
        "!pip install -U spacy -q"
      ]
    },
    {
      "cell_type": "code",
      "source": [
        "!python -m spacy info"
      ],
      "metadata": {
        "colab": {
          "base_uri": "https://localhost:8080/"
        },
        "id": "9XOko5FnNONp",
        "outputId": "1ad3d244-50b5-4f4c-fdf7-4d989f409dcd"
      },
      "execution_count": 2,
      "outputs": [
        {
          "output_type": "stream",
          "name": "stdout",
          "text": [
            "/usr/local/lib/python3.8/dist-packages/torch/cuda/__init__.py:497: UserWarning: Can't initialize NVML\n",
            "  warnings.warn(\"Can't initialize NVML\")\n",
            "2023-02-26 10:51:37.622239: I tensorflow/core/platform/cpu_feature_guard.cc:193] This TensorFlow binary is optimized with oneAPI Deep Neural Network Library (oneDNN) to use the following CPU instructions in performance-critical operations:  AVX2 FMA\n",
            "To enable them in other operations, rebuild TensorFlow with the appropriate compiler flags.\n",
            "2023-02-26 10:51:39.308760: W tensorflow/compiler/xla/stream_executor/platform/default/dso_loader.cc:64] Could not load dynamic library 'libnvinfer.so.7'; dlerror: libnvinfer.so.7: cannot open shared object file: No such file or directory; LD_LIBRARY_PATH: /usr/local/nvidia/lib:/usr/local/nvidia/lib64\n",
            "2023-02-26 10:51:39.308901: W tensorflow/compiler/xla/stream_executor/platform/default/dso_loader.cc:64] Could not load dynamic library 'libnvinfer_plugin.so.7'; dlerror: libnvinfer_plugin.so.7: cannot open shared object file: No such file or directory; LD_LIBRARY_PATH: /usr/local/nvidia/lib:/usr/local/nvidia/lib64\n",
            "2023-02-26 10:51:39.308928: W tensorflow/compiler/tf2tensorrt/utils/py_utils.cc:38] TF-TRT Warning: Cannot dlopen some TensorRT libraries. If you would like to use Nvidia GPU with TensorRT, please make sure the missing libraries mentioned above are installed properly.\n",
            "2023-02-26 10:51:43.513616: E tensorflow/compiler/xla/stream_executor/cuda/cuda_driver.cc:267] failed call to cuInit: CUDA_ERROR_NO_DEVICE: no CUDA-capable device is detected\n",
            "/usr/local/lib/python3.8/dist-packages/spacy/util.py:877: UserWarning: [W095] Model 'en_core_web_sm' (3.4.1) was trained with spaCy v3.4 and may not be 100% compatible with the current version (3.5.0). If you see errors or degraded performance, download a newer compatible model or retrain your custom model with the current spaCy version. For more details and available updates, run: python -m spacy validate\n",
            "  warnings.warn(warn_msg)\n",
            "\u001b[1m\n",
            "============================== Info about spaCy ==============================\u001b[0m\n",
            "\n",
            "spaCy version    3.5.0                         \n",
            "Location         /usr/local/lib/python3.8/dist-packages/spacy\n",
            "Platform         Linux-5.10.147+-x86_64-with-glibc2.29\n",
            "Python version   3.8.10                        \n",
            "Pipelines        en_core_web_sm (3.4.1)        \n",
            "\n"
          ]
        }
      ]
    },
    {
      "cell_type": "code",
      "source": [
        "import json\n",
        "\n",
        "from google.colab import drive\n",
        "drive.mount('/content/drive')\n",
        "\n",
        "import pandas as pd\n",
        "import numpy as np"
      ],
      "metadata": {
        "colab": {
          "base_uri": "https://localhost:8080/"
        },
        "id": "jNEadDchNQvI",
        "outputId": "1b76ea58-fb17-4dd6-8a4c-50d7d418afb4"
      },
      "execution_count": 3,
      "outputs": [
        {
          "output_type": "stream",
          "name": "stdout",
          "text": [
            "Mounted at /content/drive\n"
          ]
        }
      ]
    },
    {
      "cell_type": "code",
      "source": [
        "csv_path = '/content/drive/MyDrive/23SS_NLP/perfume_info.csv'\n",
        "file_path = '/content/drive/MyDrive/23SS_NLP/annot_try2.json'\n",
        "file_path_val = '/content/drive/MyDrive/23SS_NLP/annot_val.json'\n",
        "txt_path = '/content/drive/MyDrive/23SS_NLP/text_for_labeling_fragrance.txt'\n",
        "\n",
        "data = pd.read_csv(csv_path).iloc[:,1:4]\n",
        "\n",
        "f = open(file_path, encoding='UTF-8')\n",
        "annotation_data_train = json.loads(f.read())\n",
        "\n",
        "d = open(file_path_val, encoding='UTF-8')\n",
        "annotation_data_val = json.loads(d.read())"
      ],
      "metadata": {
        "id": "HIimdleqNUpp"
      },
      "execution_count": 4,
      "outputs": []
    },
    {
      "cell_type": "code",
      "source": [
        "data.head()"
      ],
      "metadata": {
        "colab": {
          "base_uri": "https://localhost:8080/",
          "height": 206
        },
        "id": "Hv6VLi9xPI5o",
        "outputId": "33aa9326-ddc5-4335-945e-fcdbcb4333f8"
      },
      "execution_count": 5,
      "outputs": [
        {
          "output_type": "execute_result",
          "data": {
            "text/plain": [
              "                                              review                name  \\\n",
              "0  skin get strawberry jelly candies. nostalgic p...  Baccarat Rouge 540   \n",
              "1  first sprayed boozy warm apple pie lasted seco...       Angels' Share   \n",
              "2  way masculine cant seem sell bottle... anyone ...     Tobacco Vanille   \n",
              "3  dry smoky sweet woods. feel like time ive smel...    By the Fireplace   \n",
              "4  would love smell someone else unfortunately go...         Lost Cherry   \n",
              "\n",
              "                      brand  \n",
              "0  Maison Francis Kurkdjian  \n",
              "1                 By Kilian  \n",
              "2                  Tom Ford  \n",
              "3    Maison Martin Margiela  \n",
              "4                  Tom Ford  "
            ],
            "text/html": [
              "\n",
              "  <div id=\"df-05df8f85-2385-40a4-a09c-21fe70399878\">\n",
              "    <div class=\"colab-df-container\">\n",
              "      <div>\n",
              "<style scoped>\n",
              "    .dataframe tbody tr th:only-of-type {\n",
              "        vertical-align: middle;\n",
              "    }\n",
              "\n",
              "    .dataframe tbody tr th {\n",
              "        vertical-align: top;\n",
              "    }\n",
              "\n",
              "    .dataframe thead th {\n",
              "        text-align: right;\n",
              "    }\n",
              "</style>\n",
              "<table border=\"1\" class=\"dataframe\">\n",
              "  <thead>\n",
              "    <tr style=\"text-align: right;\">\n",
              "      <th></th>\n",
              "      <th>review</th>\n",
              "      <th>name</th>\n",
              "      <th>brand</th>\n",
              "    </tr>\n",
              "  </thead>\n",
              "  <tbody>\n",
              "    <tr>\n",
              "      <th>0</th>\n",
              "      <td>skin get strawberry jelly candies. nostalgic p...</td>\n",
              "      <td>Baccarat Rouge 540</td>\n",
              "      <td>Maison Francis Kurkdjian</td>\n",
              "    </tr>\n",
              "    <tr>\n",
              "      <th>1</th>\n",
              "      <td>first sprayed boozy warm apple pie lasted seco...</td>\n",
              "      <td>Angels' Share</td>\n",
              "      <td>By Kilian</td>\n",
              "    </tr>\n",
              "    <tr>\n",
              "      <th>2</th>\n",
              "      <td>way masculine cant seem sell bottle... anyone ...</td>\n",
              "      <td>Tobacco Vanille</td>\n",
              "      <td>Tom Ford</td>\n",
              "    </tr>\n",
              "    <tr>\n",
              "      <th>3</th>\n",
              "      <td>dry smoky sweet woods. feel like time ive smel...</td>\n",
              "      <td>By the Fireplace</td>\n",
              "      <td>Maison Martin Margiela</td>\n",
              "    </tr>\n",
              "    <tr>\n",
              "      <th>4</th>\n",
              "      <td>would love smell someone else unfortunately go...</td>\n",
              "      <td>Lost Cherry</td>\n",
              "      <td>Tom Ford</td>\n",
              "    </tr>\n",
              "  </tbody>\n",
              "</table>\n",
              "</div>\n",
              "      <button class=\"colab-df-convert\" onclick=\"convertToInteractive('df-05df8f85-2385-40a4-a09c-21fe70399878')\"\n",
              "              title=\"Convert this dataframe to an interactive table.\"\n",
              "              style=\"display:none;\">\n",
              "        \n",
              "  <svg xmlns=\"http://www.w3.org/2000/svg\" height=\"24px\"viewBox=\"0 0 24 24\"\n",
              "       width=\"24px\">\n",
              "    <path d=\"M0 0h24v24H0V0z\" fill=\"none\"/>\n",
              "    <path d=\"M18.56 5.44l.94 2.06.94-2.06 2.06-.94-2.06-.94-.94-2.06-.94 2.06-2.06.94zm-11 1L8.5 8.5l.94-2.06 2.06-.94-2.06-.94L8.5 2.5l-.94 2.06-2.06.94zm10 10l.94 2.06.94-2.06 2.06-.94-2.06-.94-.94-2.06-.94 2.06-2.06.94z\"/><path d=\"M17.41 7.96l-1.37-1.37c-.4-.4-.92-.59-1.43-.59-.52 0-1.04.2-1.43.59L10.3 9.45l-7.72 7.72c-.78.78-.78 2.05 0 2.83L4 21.41c.39.39.9.59 1.41.59.51 0 1.02-.2 1.41-.59l7.78-7.78 2.81-2.81c.8-.78.8-2.07 0-2.86zM5.41 20L4 18.59l7.72-7.72 1.47 1.35L5.41 20z\"/>\n",
              "  </svg>\n",
              "      </button>\n",
              "      \n",
              "  <style>\n",
              "    .colab-df-container {\n",
              "      display:flex;\n",
              "      flex-wrap:wrap;\n",
              "      gap: 12px;\n",
              "    }\n",
              "\n",
              "    .colab-df-convert {\n",
              "      background-color: #E8F0FE;\n",
              "      border: none;\n",
              "      border-radius: 50%;\n",
              "      cursor: pointer;\n",
              "      display: none;\n",
              "      fill: #1967D2;\n",
              "      height: 32px;\n",
              "      padding: 0 0 0 0;\n",
              "      width: 32px;\n",
              "    }\n",
              "\n",
              "    .colab-df-convert:hover {\n",
              "      background-color: #E2EBFA;\n",
              "      box-shadow: 0px 1px 2px rgba(60, 64, 67, 0.3), 0px 1px 3px 1px rgba(60, 64, 67, 0.15);\n",
              "      fill: #174EA6;\n",
              "    }\n",
              "\n",
              "    [theme=dark] .colab-df-convert {\n",
              "      background-color: #3B4455;\n",
              "      fill: #D2E3FC;\n",
              "    }\n",
              "\n",
              "    [theme=dark] .colab-df-convert:hover {\n",
              "      background-color: #434B5C;\n",
              "      box-shadow: 0px 1px 3px 1px rgba(0, 0, 0, 0.15);\n",
              "      filter: drop-shadow(0px 1px 2px rgba(0, 0, 0, 0.3));\n",
              "      fill: #FFFFFF;\n",
              "    }\n",
              "  </style>\n",
              "\n",
              "      <script>\n",
              "        const buttonEl =\n",
              "          document.querySelector('#df-05df8f85-2385-40a4-a09c-21fe70399878 button.colab-df-convert');\n",
              "        buttonEl.style.display =\n",
              "          google.colab.kernel.accessAllowed ? 'block' : 'none';\n",
              "\n",
              "        async function convertToInteractive(key) {\n",
              "          const element = document.querySelector('#df-05df8f85-2385-40a4-a09c-21fe70399878');\n",
              "          const dataTable =\n",
              "            await google.colab.kernel.invokeFunction('convertToInteractive',\n",
              "                                                     [key], {});\n",
              "          if (!dataTable) return;\n",
              "\n",
              "          const docLinkHtml = 'Like what you see? Visit the ' +\n",
              "            '<a target=\"_blank\" href=https://colab.research.google.com/notebooks/data_table.ipynb>data table notebook</a>'\n",
              "            + ' to learn more about interactive tables.';\n",
              "          element.innerHTML = '';\n",
              "          dataTable['output_type'] = 'display_data';\n",
              "          await google.colab.output.renderOutput(dataTable, element);\n",
              "          const docLink = document.createElement('div');\n",
              "          docLink.innerHTML = docLinkHtml;\n",
              "          element.appendChild(docLink);\n",
              "        }\n",
              "      </script>\n",
              "    </div>\n",
              "  </div>\n",
              "  "
            ]
          },
          "metadata": {},
          "execution_count": 5
        }
      ]
    },
    {
      "cell_type": "code",
      "source": [
        "data.info()"
      ],
      "metadata": {
        "colab": {
          "base_uri": "https://localhost:8080/"
        },
        "id": "ff3gZ1-mPuy5",
        "outputId": "30dc293c-b3d7-40cb-c695-38d04c4bdc4f"
      },
      "execution_count": 6,
      "outputs": [
        {
          "output_type": "stream",
          "name": "stdout",
          "text": [
            "<class 'pandas.core.frame.DataFrame'>\n",
            "RangeIndex: 144 entries, 0 to 143\n",
            "Data columns (total 3 columns):\n",
            " #   Column  Non-Null Count  Dtype \n",
            "---  ------  --------------  ----- \n",
            " 0   review  144 non-null    object\n",
            " 1   name    144 non-null    object\n",
            " 2   brand   144 non-null    object\n",
            "dtypes: object(3)\n",
            "memory usage: 3.5+ KB\n"
          ]
        }
      ]
    },
    {
      "cell_type": "code",
      "source": [
        "data.review[0]"
      ],
      "metadata": {
        "id": "3DgJquXwjW7L"
      },
      "execution_count": null,
      "outputs": []
    },
    {
      "cell_type": "code",
      "source": [
        "import spacy\n",
        "from spacy.tokens import DocBin\n",
        "from tqdm import tqdm\n",
        "\n",
        "nlp = spacy.blank(\"en\")\n",
        "db = DocBin()"
      ],
      "metadata": {
        "colab": {
          "base_uri": "https://localhost:8080/"
        },
        "id": "XwoayMENZP5t",
        "outputId": "9dc4ca42-0adc-4860-cf6a-8a5c1dbce27a"
      },
      "execution_count": 8,
      "outputs": [
        {
          "output_type": "stream",
          "name": "stderr",
          "text": [
            "/usr/local/lib/python3.8/dist-packages/torch/cuda/__init__.py:497: UserWarning: Can't initialize NVML\n",
            "  warnings.warn(\"Can't initialize NVML\")\n"
          ]
        }
      ]
    },
    {
      "cell_type": "code",
      "source": [
        "for text, annot in tqdm(annotation_data_train['annotations']):\n",
        "  doc = nlp.make_doc(text)\n",
        "  ents = []\n",
        "  for start, end, label in annot[\"entities\"]:\n",
        "    span = doc.char_span(start, end, label = label, alignment_mode = \"contract\")\n",
        "    if span is None:\n",
        "      print(\"skipping entity\")\n",
        "    else:\n",
        "      ents.append(span)\n",
        "  doc.ents = ents\n",
        "  db.add(doc)\n",
        "\n",
        "  db.to_disk(\"./annotation_data_train.spacy\")"
      ],
      "metadata": {
        "colab": {
          "base_uri": "https://localhost:8080/"
        },
        "id": "3bfCNdIoZ0ov",
        "outputId": "60de151a-d7f2-4352-f548-2a923e774ccb"
      },
      "execution_count": 9,
      "outputs": [
        {
          "output_type": "stream",
          "name": "stderr",
          "text": [
            "100%|██████████| 74/74 [00:00<00:00, 182.28it/s]\n"
          ]
        }
      ]
    },
    {
      "cell_type": "code",
      "source": [
        "for text, annot in tqdm(annotation_data_val['annotations']):\n",
        "  doc = nlp.make_doc(text)\n",
        "  ents = []\n",
        "  for start, end, label in annot[\"entities\"]:\n",
        "    span = doc.char_span(start, end, label = label, alignment_mode = \"contract\")\n",
        "    if span is None:\n",
        "      print(\"skipping entity\")\n",
        "    else:\n",
        "      ents.append(span)\n",
        "  doc.ents = ents\n",
        "  db.add(doc)\n",
        "\n",
        "  db.to_disk(\"./annotation_data_val.spacy\")"
      ],
      "metadata": {
        "colab": {
          "base_uri": "https://localhost:8080/"
        },
        "id": "yIF6zDEHjbmy",
        "outputId": "4c1e6c45-7914-4131-daf0-96f1bc27eaf3"
      },
      "execution_count": 10,
      "outputs": [
        {
          "output_type": "stream",
          "name": "stderr",
          "text": [
            "100%|██████████| 29/29 [00:00<00:00, 83.93it/s]\n"
          ]
        }
      ]
    },
    {
      "cell_type": "code",
      "source": [
        "! python -m spacy init config config.cfg --lang en --pipeline ner --optimize efficiency\n"
      ],
      "metadata": {
        "colab": {
          "base_uri": "https://localhost:8080/"
        },
        "id": "JDg0qQGZkYN0",
        "outputId": "7902844b-09d5-476f-fb85-0620f61341d1"
      },
      "execution_count": 11,
      "outputs": [
        {
          "output_type": "stream",
          "name": "stdout",
          "text": [
            "/usr/local/lib/python3.8/dist-packages/torch/cuda/__init__.py:497: UserWarning: Can't initialize NVML\n",
            "  warnings.warn(\"Can't initialize NVML\")\n",
            "2023-02-26 10:52:22.571409: W tensorflow/compiler/xla/stream_executor/platform/default/dso_loader.cc:64] Could not load dynamic library 'libnvinfer.so.7'; dlerror: libnvinfer.so.7: cannot open shared object file: No such file or directory; LD_LIBRARY_PATH: /usr/local/nvidia/lib:/usr/local/nvidia/lib64\n",
            "2023-02-26 10:52:22.571577: W tensorflow/compiler/xla/stream_executor/platform/default/dso_loader.cc:64] Could not load dynamic library 'libnvinfer_plugin.so.7'; dlerror: libnvinfer_plugin.so.7: cannot open shared object file: No such file or directory; LD_LIBRARY_PATH: /usr/local/nvidia/lib:/usr/local/nvidia/lib64\n",
            "2023-02-26 10:52:22.571601: W tensorflow/compiler/tf2tensorrt/utils/py_utils.cc:38] TF-TRT Warning: Cannot dlopen some TensorRT libraries. If you would like to use Nvidia GPU with TensorRT, please make sure the missing libraries mentioned above are installed properly.\n",
            "2023-02-26 10:52:24.342143: E tensorflow/compiler/xla/stream_executor/cuda/cuda_driver.cc:267] failed call to cuInit: CUDA_ERROR_NO_DEVICE: no CUDA-capable device is detected\n",
            "\u001b[38;5;3m⚠ To generate a more effective transformer-based config (GPU-only),\n",
            "install the spacy-transformers package and re-run this command. The config\n",
            "generated now does not use transformers.\u001b[0m\n",
            "\u001b[38;5;4mℹ Generated config template specific for your use case\u001b[0m\n",
            "- Language: en\n",
            "- Pipeline: ner\n",
            "- Optimize for: efficiency\n",
            "- Hardware: CPU\n",
            "- Transformer: None\n",
            "\u001b[38;5;2m✔ Auto-filled config with all values\u001b[0m\n",
            "\u001b[38;5;2m✔ Saved config\u001b[0m\n",
            "config.cfg\n",
            "You can now add your data and train your pipeline:\n",
            "python -m spacy train config.cfg --paths.train ./train.spacy --paths.dev ./dev.spacy\n"
          ]
        }
      ]
    },
    {
      "cell_type": "code",
      "source": [
        "! python -m spacy train config.cfg --output ./ --paths.train ./annotation_data_train.spacy --paths.dev ./annotation_data_val.spacy\n"
      ],
      "metadata": {
        "colab": {
          "base_uri": "https://localhost:8080/"
        },
        "id": "NWIihr0Xka1i",
        "outputId": "7388f51d-1bc2-4356-acde-38e81c4a40cb"
      },
      "execution_count": 12,
      "outputs": [
        {
          "output_type": "stream",
          "name": "stdout",
          "text": [
            "/usr/local/lib/python3.8/dist-packages/torch/cuda/__init__.py:497: UserWarning: Can't initialize NVML\n",
            "  warnings.warn(\"Can't initialize NVML\")\n",
            "2023-02-26 10:52:29.865883: W tensorflow/compiler/xla/stream_executor/platform/default/dso_loader.cc:64] Could not load dynamic library 'libnvinfer.so.7'; dlerror: libnvinfer.so.7: cannot open shared object file: No such file or directory; LD_LIBRARY_PATH: /usr/local/nvidia/lib:/usr/local/nvidia/lib64\n",
            "2023-02-26 10:52:29.866031: W tensorflow/compiler/xla/stream_executor/platform/default/dso_loader.cc:64] Could not load dynamic library 'libnvinfer_plugin.so.7'; dlerror: libnvinfer_plugin.so.7: cannot open shared object file: No such file or directory; LD_LIBRARY_PATH: /usr/local/nvidia/lib:/usr/local/nvidia/lib64\n",
            "2023-02-26 10:52:29.866059: W tensorflow/compiler/tf2tensorrt/utils/py_utils.cc:38] TF-TRT Warning: Cannot dlopen some TensorRT libraries. If you would like to use Nvidia GPU with TensorRT, please make sure the missing libraries mentioned above are installed properly.\n",
            "2023-02-26 10:52:32.371020: E tensorflow/compiler/xla/stream_executor/cuda/cuda_driver.cc:267] failed call to cuInit: CUDA_ERROR_NO_DEVICE: no CUDA-capable device is detected\n",
            "\u001b[38;5;4mℹ Saving to output directory: .\u001b[0m\n",
            "\u001b[38;5;4mℹ Using CPU\u001b[0m\n",
            "\u001b[1m\n",
            "=========================== Initializing pipeline ===========================\u001b[0m\n",
            "[2023-02-26 10:52:33,621] [INFO] Set up nlp object from config\n",
            "INFO:spacy:Set up nlp object from config\n",
            "[2023-02-26 10:52:33,634] [INFO] Pipeline: ['tok2vec', 'ner']\n",
            "INFO:spacy:Pipeline: ['tok2vec', 'ner']\n",
            "[2023-02-26 10:52:33,639] [INFO] Created vocabulary\n",
            "INFO:spacy:Created vocabulary\n",
            "[2023-02-26 10:52:33,640] [INFO] Finished initializing nlp object\n",
            "INFO:spacy:Finished initializing nlp object\n",
            "[2023-02-26 10:52:33,970] [INFO] Initialized pipeline components: ['tok2vec', 'ner']\n",
            "INFO:spacy:Initialized pipeline components: ['tok2vec', 'ner']\n",
            "\u001b[38;5;2m✔ Initialized pipeline\u001b[0m\n",
            "\u001b[1m\n",
            "============================= Training pipeline =============================\u001b[0m\n",
            "\u001b[38;5;4mℹ Pipeline: ['tok2vec', 'ner']\u001b[0m\n",
            "\u001b[38;5;4mℹ Initial learn rate: 0.001\u001b[0m\n",
            "E    #       LOSS TOK2VEC  LOSS NER  ENTS_F  ENTS_P  ENTS_R  SCORE \n",
            "---  ------  ------------  --------  ------  ------  ------  ------\n",
            "  0       0          0.00     92.33    1.36    0.96    2.36    0.01\n",
            "  4     200        489.81   2006.79   79.91   80.17   79.66    0.80\n",
            "  9     400        133.27    271.22   87.96   90.87   85.22    0.88\n",
            " 15     600        163.55    108.81   88.59   91.74   85.65    0.89\n",
            " 21     800        171.56     82.42   88.55   91.16   86.08    0.89\n",
            " 30    1000        181.98     51.93   87.68   91.01   84.58    0.88\n",
            " 40    1200        329.45     80.22   88.21   89.98   86.51    0.88\n",
            " 53    1400        160.29     52.58   89.72   91.72   87.79    0.90\n",
            " 69    1600        148.05     30.92   89.16   91.26   87.15    0.89\n",
            " 89    1800        164.66     32.49   89.01   91.42   86.72    0.89\n",
            "113    2000         57.04     11.45   88.89   91.40   86.51    0.89\n",
            "144    2200        186.20     34.75   89.13   91.44   86.94    0.89\n",
            "181    2400        247.44     26.90   88.74   89.72   87.79    0.89\n",
            "221    2600        168.28     24.76   87.53   89.49   85.65    0.88\n",
            "261    2800         97.60     11.94   88.79   90.27   87.37    0.89\n",
            "301    3000        135.71     18.32   88.09   89.96   86.30    0.88\n",
            "\u001b[38;5;2m✔ Saved pipeline to output directory\u001b[0m\n",
            "model-last\n"
          ]
        }
      ]
    },
    {
      "cell_type": "code",
      "source": [
        "nlp_ner = spacy.load('/content/model-best')\n"
      ],
      "metadata": {
        "id": "GGN1KxDCktci"
      },
      "execution_count": 13,
      "outputs": []
    },
    {
      "cell_type": "code",
      "source": [
        "for i in range(0,144):\n",
        "  globals()[f\"doc_{i}\"] = nlp_ner(data.review[i]) # dynamic loading"
      ],
      "metadata": {
        "id": "Rioeewaskwpy"
      },
      "execution_count": 14,
      "outputs": []
    },
    {
      "cell_type": "code",
      "source": [
        "for i in range(0,144):\n",
        "  globals()[f\"doc_{i}_ents\"] = list(globals()[f\"doc_{i}\"].ents) # dynamic loading"
      ],
      "metadata": {
        "id": "2TZnc5xNm35k"
      },
      "execution_count": 15,
      "outputs": []
    },
    {
      "cell_type": "code",
      "source": [
        "doc_1_ents[:5]"
      ],
      "metadata": {
        "colab": {
          "base_uri": "https://localhost:8080/"
        },
        "id": "puIK1xF3ns0O",
        "outputId": "25dad03c-d806-4d0f-9bf1-74a187d2cce3"
      },
      "execution_count": 16,
      "outputs": [
        {
          "output_type": "execute_result",
          "data": {
            "text/plain": [
              "[warm, cognac, complex, hint, spicy]"
            ]
          },
          "metadata": {},
          "execution_count": 16
        }
      ]
    },
    {
      "cell_type": "code",
      "source": [
        "type(doc_0_ents)"
      ],
      "metadata": {
        "colab": {
          "base_uri": "https://localhost:8080/"
        },
        "id": "AJYpNnLLqXPH",
        "outputId": "f4633c99-a015-4d86-850a-31f9ee6ea431"
      },
      "execution_count": 17,
      "outputs": [
        {
          "output_type": "execute_result",
          "data": {
            "text/plain": [
              "list"
            ]
          },
          "metadata": {},
          "execution_count": 17
        }
      ]
    },
    {
      "cell_type": "code",
      "source": [
        "doc_dict = {}\n",
        "for i in range(0,144):\n",
        "  doc_dict[f\"doc_{i}\"] = globals()[f\"doc_{i}_ents\"]"
      ],
      "metadata": {
        "id": "YyxVKVKroFku"
      },
      "execution_count": 18,
      "outputs": []
    },
    {
      "cell_type": "code",
      "source": [
        "# doc마다 향 키워드의 빈도수가 달라서, 빈도수 기준으로 상위 10개 자르고 데이터프레임으로 변환하기\n",
        "# dictionary로 만들기 이전에 list로 되어있으니까 그때 sorting 하고 dictionary로 만들자\n",
        "# lemmatize 해야되는데 일단 안하고 돌림.\n",
        "\n",
        "from collections import Counter\n",
        "for i in range(0,144):\n",
        "  globals()[f\"counter_{i}\"] = Counter(globals()[f\"doc_{i}_ents\"])\n",
        "  # globals()[f\"doc_{i}_ents_sorted\"] = globals()[f\"counter_{i}\"].most_common(10)\n"
      ],
      "metadata": {
        "id": "NGVHJoS6o_oV"
      },
      "execution_count": 19,
      "outputs": []
    },
    {
      "cell_type": "markdown",
      "source": [
        "이렇게 하면 제대로 뽑이질 않는거 같은데 다시 뽑아보자. Counter에 문제가 있는것으로 일단 유추했음."
      ],
      "metadata": {
        "id": "2x8pcMy6uOda"
      }
    },
    {
      "cell_type": "markdown",
      "source": [
        "### 원인이 뭘까?"
      ],
      "metadata": {
        "id": "ZP8WF8Wau0j5"
      }
    },
    {
      "cell_type": "code",
      "source": [
        "len(doc_0_ents)"
      ],
      "metadata": {
        "colab": {
          "base_uri": "https://localhost:8080/"
        },
        "id": "3yrL1Pp0uFhA",
        "outputId": "7a698a6e-a458-4217-a131-be82ed12b99e"
      },
      "execution_count": 20,
      "outputs": [
        {
          "output_type": "execute_result",
          "data": {
            "text/plain": [
              "588"
            ]
          },
          "metadata": {},
          "execution_count": 20
        }
      ]
    },
    {
      "cell_type": "code",
      "source": [
        "doc_0_ents[4]"
      ],
      "metadata": {
        "colab": {
          "base_uri": "https://localhost:8080/"
        },
        "id": "0TlGp9TwuWiI",
        "outputId": "f6833303-b4d6-4676-c943-f9e54ee7b541"
      },
      "execution_count": 21,
      "outputs": [
        {
          "output_type": "execute_result",
          "data": {
            "text/plain": [
              "sweet"
            ]
          },
          "metadata": {},
          "execution_count": 21
        }
      ]
    },
    {
      "cell_type": "code",
      "source": [
        "doc_0_ents[10]"
      ],
      "metadata": {
        "colab": {
          "base_uri": "https://localhost:8080/"
        },
        "id": "54KKhJMTuriX",
        "outputId": "36097cca-0904-4e38-ef27-26f04c9c3478"
      },
      "execution_count": 22,
      "outputs": [
        {
          "output_type": "execute_result",
          "data": {
            "text/plain": [
              "sweet"
            ]
          },
          "metadata": {},
          "execution_count": 22
        }
      ]
    },
    {
      "cell_type": "code",
      "source": [
        "doc_0_ents[4] == doc_0_ents[10]"
      ],
      "metadata": {
        "colab": {
          "base_uri": "https://localhost:8080/"
        },
        "id": "_H1DuyvguvaH",
        "outputId": "e95ea406-0c10-4d04-881c-c310dbf96856"
      },
      "execution_count": 23,
      "outputs": [
        {
          "output_type": "execute_result",
          "data": {
            "text/plain": [
              "False"
            ]
          },
          "metadata": {},
          "execution_count": 23
        }
      ]
    },
    {
      "cell_type": "code",
      "source": [
        "type(doc_0_ents[0])"
      ],
      "metadata": {
        "colab": {
          "base_uri": "https://localhost:8080/"
        },
        "id": "6iMFh_RZu8Jn",
        "outputId": "0678d614-f718-456e-dc33-c7eed59eea77"
      },
      "execution_count": 24,
      "outputs": [
        {
          "output_type": "execute_result",
          "data": {
            "text/plain": [
              "spacy.tokens.span.Span"
            ]
          },
          "metadata": {},
          "execution_count": 24
        }
      ]
    },
    {
      "cell_type": "markdown",
      "source": [
        "type을 확인해 본 결과 string이 아니라, 자체적인 패키지에서 사용한 spacy.tokens.span.Span 으로 되어있는 것을 확인할 수 있었다.\n",
        "\n",
        "Spacy 홈페이지에 따르면, 단어간 구조와 의미를 고려하여 DL로 임베딩 output을 도출해내는 형식이기 때문에, 이 token은 학습된 토큰이다. 이런 이유에서 인코딩 디코딩이 사용자 임의대로 원활하지 않은 것으로 보았다.\n",
        "\n",
        "지금 우리가 하려는 목적은 \"학습된\" 단어벡터를 얻는것이 아닌, 향 키워드를 추출하기 위함이다. \n",
        "\n",
        "따라서 강제적으로 spacy token type을 string으로 바꿔준다.\n",
        "\n",
        "이후에, 향 키워드가 추출된 이후에 문맥 고려 임베딩을 통해 전체 context를 고려한 임베딩을 실시해준다. \n",
        "\n",
        "(ELMo, Word2Vec, Glove, FastText, BERT, 등등...)\n",
        "\n"
      ],
      "metadata": {
        "id": "JxYbUHMHu_Kn"
      }
    },
    {
      "cell_type": "markdown",
      "source": [
        "### 다시 돌아와서"
      ],
      "metadata": {
        "id": "Ilg4moZYwL-R"
      }
    },
    {
      "cell_type": "code",
      "source": [
        "type(str(1))"
      ],
      "metadata": {
        "colab": {
          "base_uri": "https://localhost:8080/"
        },
        "id": "xrdp3GPexBsY",
        "outputId": "a6ebbb7e-3fdd-4d2e-b698-77f79ff8895a"
      },
      "execution_count": 25,
      "outputs": [
        {
          "output_type": "execute_result",
          "data": {
            "text/plain": [
              "str"
            ]
          },
          "metadata": {},
          "execution_count": 25
        }
      ]
    },
    {
      "cell_type": "code",
      "source": [
        "for i in range(0,144):\n",
        "  for word in globals()[f\"doc_{i}_ents\"]:\n",
        "    globals()[f\"doc_{i}_ents_string\"] = []\n",
        "    # string으로 만들어주기\n",
        "    # append\n",
        "    globals()[f\"doc_{i}_ents_string\"].append(str(word))"
      ],
      "metadata": {
        "id": "o4UH64Thpo70"
      },
      "execution_count": 26,
      "outputs": []
    },
    {
      "cell_type": "code",
      "source": [
        "w = doc_0_ents[0].text\n",
        "print(type(w))"
      ],
      "metadata": {
        "colab": {
          "base_uri": "https://localhost:8080/"
        },
        "id": "rnNM1DCYxPIo",
        "outputId": "ddf91f4d-3bbb-454c-851d-e8c4dea8c826"
      },
      "execution_count": 27,
      "outputs": [
        {
          "output_type": "stream",
          "name": "stdout",
          "text": [
            "<class 'str'>\n"
          ]
        }
      ]
    },
    {
      "cell_type": "markdown",
      "source": [
        "보니까 이렇게는 안되더라. spacy.tokens class를 확인해보려고 들어갔는데\n",
        "\n",
        "module에 text라는 attribute가 있다더라. \n",
        "\n",
        "비슷한 역할을 수행해준다더라."
      ],
      "metadata": {
        "id": "3nTItLyIxf1R"
      }
    },
    {
      "cell_type": "code",
      "source": [
        "type(doc_0_ents[0].text)"
      ],
      "metadata": {
        "colab": {
          "base_uri": "https://localhost:8080/"
        },
        "id": "8m5tmuI_zEM5",
        "outputId": "9d07494a-a275-46f8-dfd0-67950186e381"
      },
      "execution_count": 28,
      "outputs": [
        {
          "output_type": "execute_result",
          "data": {
            "text/plain": [
              "str"
            ]
          },
          "metadata": {},
          "execution_count": 28
        }
      ]
    },
    {
      "cell_type": "code",
      "source": [
        "for i in range(0,144):\n",
        "  for j in range(len(globals()[f\"doc_{i}_ents\"])):\n",
        "    globals()[f\"text_{i}\"] = []\n",
        "    word = globals()[f\"doc_{i}_ents\"][j].text\n",
        "    globals()[f\"text_{i}\"] = globals()[f\"text_{i}\"].append(word)"
      ],
      "metadata": {
        "id": "D5YYG94yQUZX"
      },
      "execution_count": 29,
      "outputs": []
    },
    {
      "cell_type": "code",
      "source": [
        "range(len(doc_0_ents))"
      ],
      "metadata": {
        "colab": {
          "base_uri": "https://localhost:8080/"
        },
        "id": "i00XeyxVSz_Y",
        "outputId": "9474eb70-7a3b-43c6-ddb1-659d2c992786"
      },
      "execution_count": 30,
      "outputs": [
        {
          "output_type": "execute_result",
          "data": {
            "text/plain": [
              "range(0, 588)"
            ]
          },
          "metadata": {},
          "execution_count": 30
        }
      ]
    },
    {
      "cell_type": "code",
      "source": [
        "word = doc_0_ents[0].text\n",
        "word"
      ],
      "metadata": {
        "colab": {
          "base_uri": "https://localhost:8080/",
          "height": 35
        },
        "id": "H06Pn_WIS7wI",
        "outputId": "98630be2-92c4-415e-be28-19a46ac11b19"
      },
      "execution_count": 31,
      "outputs": [
        {
          "output_type": "execute_result",
          "data": {
            "text/plain": [
              "'strawberry'"
            ],
            "application/vnd.google.colaboratory.intrinsic+json": {
              "type": "string"
            }
          },
          "metadata": {},
          "execution_count": 31
        }
      ]
    },
    {
      "cell_type": "code",
      "source": [
        "type(word)"
      ],
      "metadata": {
        "colab": {
          "base_uri": "https://localhost:8080/"
        },
        "id": "zJqw9emOT-H6",
        "outputId": "b4cfef4a-8f59-4be6-c79c-bfdf1a569040"
      },
      "execution_count": 32,
      "outputs": [
        {
          "output_type": "execute_result",
          "data": {
            "text/plain": [
              "str"
            ]
          },
          "metadata": {},
          "execution_count": 32
        }
      ]
    },
    {
      "cell_type": "code",
      "source": [
        "a= [].extend('abs')\n",
        "a"
      ],
      "metadata": {
        "id": "DvMplNQXTPLI"
      },
      "execution_count": 33,
      "outputs": []
    },
    {
      "cell_type": "code",
      "source": [
        "for j in range(len(doc_0_ents)):\n",
        "  text_0 = []\n",
        "  word = doc_0_ents[j].text\n",
        "  text_0 += word\n",
        "  j += 1"
      ],
      "metadata": {
        "id": "K0GkXEhxTB85"
      },
      "execution_count": 34,
      "outputs": []
    },
    {
      "cell_type": "code",
      "source": [
        "text_0"
      ],
      "metadata": {
        "colab": {
          "base_uri": "https://localhost:8080/"
        },
        "id": "4rAK_oRAUTLL",
        "outputId": "0d14764e-6fe6-4677-fe81-42c85c354468"
      },
      "execution_count": 35,
      "outputs": [
        {
          "output_type": "execute_result",
          "data": {
            "text/plain": [
              "['d', 'r', 'y']"
            ]
          },
          "metadata": {},
          "execution_count": 35
        }
      ]
    },
    {
      "cell_type": "code",
      "source": [
        "text_0"
      ],
      "metadata": {
        "colab": {
          "base_uri": "https://localhost:8080/"
        },
        "id": "b67mlab2TLQ4",
        "outputId": "023f91b1-34d8-4499-efcd-c4e79ab4b746"
      },
      "execution_count": 36,
      "outputs": [
        {
          "output_type": "execute_result",
          "data": {
            "text/plain": [
              "['d', 'r', 'y']"
            ]
          },
          "metadata": {},
          "execution_count": 36
        }
      ]
    },
    {
      "cell_type": "code",
      "source": [
        "type(text_0)"
      ],
      "metadata": {
        "colab": {
          "base_uri": "https://localhost:8080/"
        },
        "id": "fX9R7oHtRmGp",
        "outputId": "9d72cddc-d780-443c-c963-450a69c034f6"
      },
      "execution_count": 37,
      "outputs": [
        {
          "output_type": "execute_result",
          "data": {
            "text/plain": [
              "list"
            ]
          },
          "metadata": {},
          "execution_count": 37
        }
      ]
    },
    {
      "cell_type": "markdown",
      "source": [
        "### **해결한 코드** ⭐"
      ],
      "metadata": {
        "id": "94_6kvsQXiT5"
      }
    },
    {
      "cell_type": "code",
      "source": [
        "tok2text_0 = []\n",
        "for i in range(len(doc_0_ents)):\n",
        "  local_word = doc_0_ents[i].text\n",
        "  tok2text_0 += [local_word]\n"
      ],
      "metadata": {
        "id": "0CTh7UMdVHlX"
      },
      "execution_count": 38,
      "outputs": []
    },
    {
      "cell_type": "code",
      "source": [
        "# 위에 코드를 dynamic 하게 시행할거임.\n",
        "for i in range(0,144):\n",
        "  globals()[f\"tok2text_{i}\"] = []\n",
        "  for j in range(len(globals()[f\"doc_{i}_ents\"])):\n",
        "    local_word = globals()[f\"doc_{i}_ents\"][j].text\n",
        "    globals()[f\"tok2text_{i}\"] += [local_word]\n"
      ],
      "metadata": {
        "id": "2V7hGPeIWDLf"
      },
      "execution_count": 39,
      "outputs": []
    },
    {
      "cell_type": "code",
      "source": [
        "type(tok2text_100[0])"
      ],
      "metadata": {
        "colab": {
          "base_uri": "https://localhost:8080/"
        },
        "id": "P-KJriCeXWth",
        "outputId": "240bab32-2ffd-4e4b-ebb0-b30e156a317f"
      },
      "execution_count": 40,
      "outputs": [
        {
          "output_type": "execute_result",
          "data": {
            "text/plain": [
              "str"
            ]
          },
          "metadata": {},
          "execution_count": 40
        }
      ]
    },
    {
      "cell_type": "markdown",
      "source": [
        "해결함!"
      ],
      "metadata": {
        "id": "N4lq3eWUXbsv"
      }
    },
    {
      "cell_type": "markdown",
      "source": [
        "## 질문: string type을 list에 element로 추가하려고 하는데 append는 왜 잘안되고, 직접 추가하는거는 왜 잘 될까?\n",
        "\n",
        "이부분 꼭 다시 알아볼것 ⭐⭐⭐"
      ],
      "metadata": {
        "id": "9szdllNUX7ex"
      }
    },
    {
      "cell_type": "code",
      "source": [
        "from collections import Counter\n",
        "\n",
        "for i in range(0,144):\n",
        "  globals()[f\"keyword_{i}\"] = [key for key, value in Counter(globals()[f\"tok2text_{i}\"]).most_common(10)]"
      ],
      "metadata": {
        "id": "QxTBo9A5YvGw"
      },
      "execution_count": 41,
      "outputs": []
    },
    {
      "cell_type": "code",
      "source": [
        "keyword_1"
      ],
      "metadata": {
        "colab": {
          "base_uri": "https://localhost:8080/"
        },
        "id": "v5RX-963ZOkQ",
        "outputId": "84e0d22b-b6f0-4e77-eb1f-e20c879b83f7"
      },
      "execution_count": 42,
      "outputs": [
        {
          "output_type": "execute_result",
          "data": {
            "text/plain": [
              "['sweet',\n",
              " 'cognac',\n",
              " 'warm',\n",
              " 'vanilla',\n",
              " 'spicy',\n",
              " 'unisex',\n",
              " 'woody',\n",
              " 'praline',\n",
              " 'masculine',\n",
              " 'sweetness']"
            ]
          },
          "metadata": {},
          "execution_count": 42
        }
      ]
    },
    {
      "cell_type": "code",
      "source": [
        "# make a dataframe consisted of keywords sorted by frequencies of top 10 keywords of fragrances\n",
        "\n",
        "pd.DataFrame()"
      ],
      "metadata": {
        "id": "EicHmPcAZjLi",
        "colab": {
          "base_uri": "https://localhost:8080/",
          "height": 49
        },
        "outputId": "b90d70ae-a2d0-4678-89be-6f4d52439e86"
      },
      "execution_count": 43,
      "outputs": [
        {
          "output_type": "execute_result",
          "data": {
            "text/plain": [
              "Empty DataFrame\n",
              "Columns: []\n",
              "Index: []"
            ],
            "text/html": [
              "\n",
              "  <div id=\"df-79350f03-6745-4e3b-a05d-91000ba39b83\">\n",
              "    <div class=\"colab-df-container\">\n",
              "      <div>\n",
              "<style scoped>\n",
              "    .dataframe tbody tr th:only-of-type {\n",
              "        vertical-align: middle;\n",
              "    }\n",
              "\n",
              "    .dataframe tbody tr th {\n",
              "        vertical-align: top;\n",
              "    }\n",
              "\n",
              "    .dataframe thead th {\n",
              "        text-align: right;\n",
              "    }\n",
              "</style>\n",
              "<table border=\"1\" class=\"dataframe\">\n",
              "  <thead>\n",
              "    <tr style=\"text-align: right;\">\n",
              "      <th></th>\n",
              "    </tr>\n",
              "  </thead>\n",
              "  <tbody>\n",
              "  </tbody>\n",
              "</table>\n",
              "</div>\n",
              "      <button class=\"colab-df-convert\" onclick=\"convertToInteractive('df-79350f03-6745-4e3b-a05d-91000ba39b83')\"\n",
              "              title=\"Convert this dataframe to an interactive table.\"\n",
              "              style=\"display:none;\">\n",
              "        \n",
              "  <svg xmlns=\"http://www.w3.org/2000/svg\" height=\"24px\"viewBox=\"0 0 24 24\"\n",
              "       width=\"24px\">\n",
              "    <path d=\"M0 0h24v24H0V0z\" fill=\"none\"/>\n",
              "    <path d=\"M18.56 5.44l.94 2.06.94-2.06 2.06-.94-2.06-.94-.94-2.06-.94 2.06-2.06.94zm-11 1L8.5 8.5l.94-2.06 2.06-.94-2.06-.94L8.5 2.5l-.94 2.06-2.06.94zm10 10l.94 2.06.94-2.06 2.06-.94-2.06-.94-.94-2.06-.94 2.06-2.06.94z\"/><path d=\"M17.41 7.96l-1.37-1.37c-.4-.4-.92-.59-1.43-.59-.52 0-1.04.2-1.43.59L10.3 9.45l-7.72 7.72c-.78.78-.78 2.05 0 2.83L4 21.41c.39.39.9.59 1.41.59.51 0 1.02-.2 1.41-.59l7.78-7.78 2.81-2.81c.8-.78.8-2.07 0-2.86zM5.41 20L4 18.59l7.72-7.72 1.47 1.35L5.41 20z\"/>\n",
              "  </svg>\n",
              "      </button>\n",
              "      \n",
              "  <style>\n",
              "    .colab-df-container {\n",
              "      display:flex;\n",
              "      flex-wrap:wrap;\n",
              "      gap: 12px;\n",
              "    }\n",
              "\n",
              "    .colab-df-convert {\n",
              "      background-color: #E8F0FE;\n",
              "      border: none;\n",
              "      border-radius: 50%;\n",
              "      cursor: pointer;\n",
              "      display: none;\n",
              "      fill: #1967D2;\n",
              "      height: 32px;\n",
              "      padding: 0 0 0 0;\n",
              "      width: 32px;\n",
              "    }\n",
              "\n",
              "    .colab-df-convert:hover {\n",
              "      background-color: #E2EBFA;\n",
              "      box-shadow: 0px 1px 2px rgba(60, 64, 67, 0.3), 0px 1px 3px 1px rgba(60, 64, 67, 0.15);\n",
              "      fill: #174EA6;\n",
              "    }\n",
              "\n",
              "    [theme=dark] .colab-df-convert {\n",
              "      background-color: #3B4455;\n",
              "      fill: #D2E3FC;\n",
              "    }\n",
              "\n",
              "    [theme=dark] .colab-df-convert:hover {\n",
              "      background-color: #434B5C;\n",
              "      box-shadow: 0px 1px 3px 1px rgba(0, 0, 0, 0.15);\n",
              "      filter: drop-shadow(0px 1px 2px rgba(0, 0, 0, 0.3));\n",
              "      fill: #FFFFFF;\n",
              "    }\n",
              "  </style>\n",
              "\n",
              "      <script>\n",
              "        const buttonEl =\n",
              "          document.querySelector('#df-79350f03-6745-4e3b-a05d-91000ba39b83 button.colab-df-convert');\n",
              "        buttonEl.style.display =\n",
              "          google.colab.kernel.accessAllowed ? 'block' : 'none';\n",
              "\n",
              "        async function convertToInteractive(key) {\n",
              "          const element = document.querySelector('#df-79350f03-6745-4e3b-a05d-91000ba39b83');\n",
              "          const dataTable =\n",
              "            await google.colab.kernel.invokeFunction('convertToInteractive',\n",
              "                                                     [key], {});\n",
              "          if (!dataTable) return;\n",
              "\n",
              "          const docLinkHtml = 'Like what you see? Visit the ' +\n",
              "            '<a target=\"_blank\" href=https://colab.research.google.com/notebooks/data_table.ipynb>data table notebook</a>'\n",
              "            + ' to learn more about interactive tables.';\n",
              "          element.innerHTML = '';\n",
              "          dataTable['output_type'] = 'display_data';\n",
              "          await google.colab.output.renderOutput(dataTable, element);\n",
              "          const docLink = document.createElement('div');\n",
              "          docLink.innerHTML = docLinkHtml;\n",
              "          element.appendChild(docLink);\n",
              "        }\n",
              "      </script>\n",
              "    </div>\n",
              "  </div>\n",
              "  "
            ]
          },
          "metadata": {},
          "execution_count": 43
        }
      ]
    },
    {
      "cell_type": "code",
      "source": [
        "nameandbrand = data.iloc[:,1:3]\n",
        "nameandbrand"
      ],
      "metadata": {
        "colab": {
          "base_uri": "https://localhost:8080/",
          "height": 423
        },
        "id": "TSa58Hh0Zyvx",
        "outputId": "46d2fa4a-7def-477d-966b-0ed9b728719b"
      },
      "execution_count": 44,
      "outputs": [
        {
          "output_type": "execute_result",
          "data": {
            "text/plain": [
              "                       name                     brand\n",
              "0        Baccarat Rouge 540  Maison Francis Kurkdjian\n",
              "1             Angels' Share                 By Kilian\n",
              "2           Tobacco Vanille                  Tom Ford\n",
              "3          By the Fireplace    Maison Martin Margiela\n",
              "4               Lost Cherry                  Tom Ford\n",
              "..                      ...                       ...\n",
              "139    Interlude Black Iris                   Amouage\n",
              "140        Feminité du Bois              Serge Lutens\n",
              "141                 Halfeti              Penhaligon's\n",
              "142         Fève Délicieuse                      Dior\n",
              "143  Utopia Vanilla Coco 21         Kayali Fragrances\n",
              "\n",
              "[144 rows x 2 columns]"
            ],
            "text/html": [
              "\n",
              "  <div id=\"df-cfb92d5b-15cd-4030-8f5a-8e3a986e1422\">\n",
              "    <div class=\"colab-df-container\">\n",
              "      <div>\n",
              "<style scoped>\n",
              "    .dataframe tbody tr th:only-of-type {\n",
              "        vertical-align: middle;\n",
              "    }\n",
              "\n",
              "    .dataframe tbody tr th {\n",
              "        vertical-align: top;\n",
              "    }\n",
              "\n",
              "    .dataframe thead th {\n",
              "        text-align: right;\n",
              "    }\n",
              "</style>\n",
              "<table border=\"1\" class=\"dataframe\">\n",
              "  <thead>\n",
              "    <tr style=\"text-align: right;\">\n",
              "      <th></th>\n",
              "      <th>name</th>\n",
              "      <th>brand</th>\n",
              "    </tr>\n",
              "  </thead>\n",
              "  <tbody>\n",
              "    <tr>\n",
              "      <th>0</th>\n",
              "      <td>Baccarat Rouge 540</td>\n",
              "      <td>Maison Francis Kurkdjian</td>\n",
              "    </tr>\n",
              "    <tr>\n",
              "      <th>1</th>\n",
              "      <td>Angels' Share</td>\n",
              "      <td>By Kilian</td>\n",
              "    </tr>\n",
              "    <tr>\n",
              "      <th>2</th>\n",
              "      <td>Tobacco Vanille</td>\n",
              "      <td>Tom Ford</td>\n",
              "    </tr>\n",
              "    <tr>\n",
              "      <th>3</th>\n",
              "      <td>By the Fireplace</td>\n",
              "      <td>Maison Martin Margiela</td>\n",
              "    </tr>\n",
              "    <tr>\n",
              "      <th>4</th>\n",
              "      <td>Lost Cherry</td>\n",
              "      <td>Tom Ford</td>\n",
              "    </tr>\n",
              "    <tr>\n",
              "      <th>...</th>\n",
              "      <td>...</td>\n",
              "      <td>...</td>\n",
              "    </tr>\n",
              "    <tr>\n",
              "      <th>139</th>\n",
              "      <td>Interlude Black Iris</td>\n",
              "      <td>Amouage</td>\n",
              "    </tr>\n",
              "    <tr>\n",
              "      <th>140</th>\n",
              "      <td>Feminité du Bois</td>\n",
              "      <td>Serge Lutens</td>\n",
              "    </tr>\n",
              "    <tr>\n",
              "      <th>141</th>\n",
              "      <td>Halfeti</td>\n",
              "      <td>Penhaligon's</td>\n",
              "    </tr>\n",
              "    <tr>\n",
              "      <th>142</th>\n",
              "      <td>Fève Délicieuse</td>\n",
              "      <td>Dior</td>\n",
              "    </tr>\n",
              "    <tr>\n",
              "      <th>143</th>\n",
              "      <td>Utopia Vanilla Coco 21</td>\n",
              "      <td>Kayali Fragrances</td>\n",
              "    </tr>\n",
              "  </tbody>\n",
              "</table>\n",
              "<p>144 rows × 2 columns</p>\n",
              "</div>\n",
              "      <button class=\"colab-df-convert\" onclick=\"convertToInteractive('df-cfb92d5b-15cd-4030-8f5a-8e3a986e1422')\"\n",
              "              title=\"Convert this dataframe to an interactive table.\"\n",
              "              style=\"display:none;\">\n",
              "        \n",
              "  <svg xmlns=\"http://www.w3.org/2000/svg\" height=\"24px\"viewBox=\"0 0 24 24\"\n",
              "       width=\"24px\">\n",
              "    <path d=\"M0 0h24v24H0V0z\" fill=\"none\"/>\n",
              "    <path d=\"M18.56 5.44l.94 2.06.94-2.06 2.06-.94-2.06-.94-.94-2.06-.94 2.06-2.06.94zm-11 1L8.5 8.5l.94-2.06 2.06-.94-2.06-.94L8.5 2.5l-.94 2.06-2.06.94zm10 10l.94 2.06.94-2.06 2.06-.94-2.06-.94-.94-2.06-.94 2.06-2.06.94z\"/><path d=\"M17.41 7.96l-1.37-1.37c-.4-.4-.92-.59-1.43-.59-.52 0-1.04.2-1.43.59L10.3 9.45l-7.72 7.72c-.78.78-.78 2.05 0 2.83L4 21.41c.39.39.9.59 1.41.59.51 0 1.02-.2 1.41-.59l7.78-7.78 2.81-2.81c.8-.78.8-2.07 0-2.86zM5.41 20L4 18.59l7.72-7.72 1.47 1.35L5.41 20z\"/>\n",
              "  </svg>\n",
              "      </button>\n",
              "      \n",
              "  <style>\n",
              "    .colab-df-container {\n",
              "      display:flex;\n",
              "      flex-wrap:wrap;\n",
              "      gap: 12px;\n",
              "    }\n",
              "\n",
              "    .colab-df-convert {\n",
              "      background-color: #E8F0FE;\n",
              "      border: none;\n",
              "      border-radius: 50%;\n",
              "      cursor: pointer;\n",
              "      display: none;\n",
              "      fill: #1967D2;\n",
              "      height: 32px;\n",
              "      padding: 0 0 0 0;\n",
              "      width: 32px;\n",
              "    }\n",
              "\n",
              "    .colab-df-convert:hover {\n",
              "      background-color: #E2EBFA;\n",
              "      box-shadow: 0px 1px 2px rgba(60, 64, 67, 0.3), 0px 1px 3px 1px rgba(60, 64, 67, 0.15);\n",
              "      fill: #174EA6;\n",
              "    }\n",
              "\n",
              "    [theme=dark] .colab-df-convert {\n",
              "      background-color: #3B4455;\n",
              "      fill: #D2E3FC;\n",
              "    }\n",
              "\n",
              "    [theme=dark] .colab-df-convert:hover {\n",
              "      background-color: #434B5C;\n",
              "      box-shadow: 0px 1px 3px 1px rgba(0, 0, 0, 0.15);\n",
              "      filter: drop-shadow(0px 1px 2px rgba(0, 0, 0, 0.3));\n",
              "      fill: #FFFFFF;\n",
              "    }\n",
              "  </style>\n",
              "\n",
              "      <script>\n",
              "        const buttonEl =\n",
              "          document.querySelector('#df-cfb92d5b-15cd-4030-8f5a-8e3a986e1422 button.colab-df-convert');\n",
              "        buttonEl.style.display =\n",
              "          google.colab.kernel.accessAllowed ? 'block' : 'none';\n",
              "\n",
              "        async function convertToInteractive(key) {\n",
              "          const element = document.querySelector('#df-cfb92d5b-15cd-4030-8f5a-8e3a986e1422');\n",
              "          const dataTable =\n",
              "            await google.colab.kernel.invokeFunction('convertToInteractive',\n",
              "                                                     [key], {});\n",
              "          if (!dataTable) return;\n",
              "\n",
              "          const docLinkHtml = 'Like what you see? Visit the ' +\n",
              "            '<a target=\"_blank\" href=https://colab.research.google.com/notebooks/data_table.ipynb>data table notebook</a>'\n",
              "            + ' to learn more about interactive tables.';\n",
              "          element.innerHTML = '';\n",
              "          dataTable['output_type'] = 'display_data';\n",
              "          await google.colab.output.renderOutput(dataTable, element);\n",
              "          const docLink = document.createElement('div');\n",
              "          docLink.innerHTML = docLinkHtml;\n",
              "          element.appendChild(docLink);\n",
              "        }\n",
              "      </script>\n",
              "    </div>\n",
              "  </div>\n",
              "  "
            ]
          },
          "metadata": {},
          "execution_count": 44
        }
      ]
    },
    {
      "cell_type": "code",
      "source": [
        "df = pd.DataFrame.transpose(nameandbrand)\n",
        "df"
      ],
      "metadata": {
        "colab": {
          "base_uri": "https://localhost:8080/",
          "height": 220
        },
        "id": "00P61IMhadWx",
        "outputId": "c56a97f6-5d0d-49f4-84c1-594b77549581"
      },
      "execution_count": 45,
      "outputs": [
        {
          "output_type": "execute_result",
          "data": {
            "text/plain": [
              "                            0              1                2    \\\n",
              "name         Baccarat Rouge 540  Angels' Share  Tobacco Vanille   \n",
              "brand  Maison Francis Kurkdjian      By Kilian         Tom Ford   \n",
              "\n",
              "                          3            4                 5    \\\n",
              "name         By the Fireplace  Lost Cherry            Layton   \n",
              "brand  Maison Martin Margiela     Tom Ford  Parfums de Marly   \n",
              "\n",
              "                        6         7              8             9    ...  \\\n",
              "name   Ombré Leather (2018)  Oud Wood  XJ 1861 Naxos  Cedrat Boise  ...   \n",
              "brand              Tom Ford  Tom Ford        Xerjoff       Mancera  ...   \n",
              "\n",
              "                  134               135                        136  \\\n",
              "name   Vanille Fatale   Layton Exclusif  Un Jardin En Mediterranee   \n",
              "brand        Tom Ford  Parfums de Marly                     Hermès   \n",
              "\n",
              "               137         138                   139               140  \\\n",
              "name   La Capitale       Marfa  Interlude Black Iris  Feminité du Bois   \n",
              "brand      Xerjoff  Memo Paris               Amouage      Serge Lutens   \n",
              "\n",
              "                141              142                     143  \n",
              "name        Halfeti  Fève Délicieuse  Utopia Vanilla Coco 21  \n",
              "brand  Penhaligon's             Dior       Kayali Fragrances  \n",
              "\n",
              "[2 rows x 144 columns]"
            ],
            "text/html": [
              "\n",
              "  <div id=\"df-ebcff9af-917a-41e2-9ac8-b58cb6cb3c43\">\n",
              "    <div class=\"colab-df-container\">\n",
              "      <div>\n",
              "<style scoped>\n",
              "    .dataframe tbody tr th:only-of-type {\n",
              "        vertical-align: middle;\n",
              "    }\n",
              "\n",
              "    .dataframe tbody tr th {\n",
              "        vertical-align: top;\n",
              "    }\n",
              "\n",
              "    .dataframe thead th {\n",
              "        text-align: right;\n",
              "    }\n",
              "</style>\n",
              "<table border=\"1\" class=\"dataframe\">\n",
              "  <thead>\n",
              "    <tr style=\"text-align: right;\">\n",
              "      <th></th>\n",
              "      <th>0</th>\n",
              "      <th>1</th>\n",
              "      <th>2</th>\n",
              "      <th>3</th>\n",
              "      <th>4</th>\n",
              "      <th>5</th>\n",
              "      <th>6</th>\n",
              "      <th>7</th>\n",
              "      <th>8</th>\n",
              "      <th>9</th>\n",
              "      <th>...</th>\n",
              "      <th>134</th>\n",
              "      <th>135</th>\n",
              "      <th>136</th>\n",
              "      <th>137</th>\n",
              "      <th>138</th>\n",
              "      <th>139</th>\n",
              "      <th>140</th>\n",
              "      <th>141</th>\n",
              "      <th>142</th>\n",
              "      <th>143</th>\n",
              "    </tr>\n",
              "  </thead>\n",
              "  <tbody>\n",
              "    <tr>\n",
              "      <th>name</th>\n",
              "      <td>Baccarat Rouge 540</td>\n",
              "      <td>Angels' Share</td>\n",
              "      <td>Tobacco Vanille</td>\n",
              "      <td>By the Fireplace</td>\n",
              "      <td>Lost Cherry</td>\n",
              "      <td>Layton</td>\n",
              "      <td>Ombré Leather (2018)</td>\n",
              "      <td>Oud Wood</td>\n",
              "      <td>XJ 1861 Naxos</td>\n",
              "      <td>Cedrat Boise</td>\n",
              "      <td>...</td>\n",
              "      <td>Vanille Fatale</td>\n",
              "      <td>Layton Exclusif</td>\n",
              "      <td>Un Jardin En Mediterranee</td>\n",
              "      <td>La Capitale</td>\n",
              "      <td>Marfa</td>\n",
              "      <td>Interlude Black Iris</td>\n",
              "      <td>Feminité du Bois</td>\n",
              "      <td>Halfeti</td>\n",
              "      <td>Fève Délicieuse</td>\n",
              "      <td>Utopia Vanilla Coco 21</td>\n",
              "    </tr>\n",
              "    <tr>\n",
              "      <th>brand</th>\n",
              "      <td>Maison Francis Kurkdjian</td>\n",
              "      <td>By Kilian</td>\n",
              "      <td>Tom Ford</td>\n",
              "      <td>Maison Martin Margiela</td>\n",
              "      <td>Tom Ford</td>\n",
              "      <td>Parfums de Marly</td>\n",
              "      <td>Tom Ford</td>\n",
              "      <td>Tom Ford</td>\n",
              "      <td>Xerjoff</td>\n",
              "      <td>Mancera</td>\n",
              "      <td>...</td>\n",
              "      <td>Tom Ford</td>\n",
              "      <td>Parfums de Marly</td>\n",
              "      <td>Hermès</td>\n",
              "      <td>Xerjoff</td>\n",
              "      <td>Memo Paris</td>\n",
              "      <td>Amouage</td>\n",
              "      <td>Serge Lutens</td>\n",
              "      <td>Penhaligon's</td>\n",
              "      <td>Dior</td>\n",
              "      <td>Kayali Fragrances</td>\n",
              "    </tr>\n",
              "  </tbody>\n",
              "</table>\n",
              "<p>2 rows × 144 columns</p>\n",
              "</div>\n",
              "      <button class=\"colab-df-convert\" onclick=\"convertToInteractive('df-ebcff9af-917a-41e2-9ac8-b58cb6cb3c43')\"\n",
              "              title=\"Convert this dataframe to an interactive table.\"\n",
              "              style=\"display:none;\">\n",
              "        \n",
              "  <svg xmlns=\"http://www.w3.org/2000/svg\" height=\"24px\"viewBox=\"0 0 24 24\"\n",
              "       width=\"24px\">\n",
              "    <path d=\"M0 0h24v24H0V0z\" fill=\"none\"/>\n",
              "    <path d=\"M18.56 5.44l.94 2.06.94-2.06 2.06-.94-2.06-.94-.94-2.06-.94 2.06-2.06.94zm-11 1L8.5 8.5l.94-2.06 2.06-.94-2.06-.94L8.5 2.5l-.94 2.06-2.06.94zm10 10l.94 2.06.94-2.06 2.06-.94-2.06-.94-.94-2.06-.94 2.06-2.06.94z\"/><path d=\"M17.41 7.96l-1.37-1.37c-.4-.4-.92-.59-1.43-.59-.52 0-1.04.2-1.43.59L10.3 9.45l-7.72 7.72c-.78.78-.78 2.05 0 2.83L4 21.41c.39.39.9.59 1.41.59.51 0 1.02-.2 1.41-.59l7.78-7.78 2.81-2.81c.8-.78.8-2.07 0-2.86zM5.41 20L4 18.59l7.72-7.72 1.47 1.35L5.41 20z\"/>\n",
              "  </svg>\n",
              "      </button>\n",
              "      \n",
              "  <style>\n",
              "    .colab-df-container {\n",
              "      display:flex;\n",
              "      flex-wrap:wrap;\n",
              "      gap: 12px;\n",
              "    }\n",
              "\n",
              "    .colab-df-convert {\n",
              "      background-color: #E8F0FE;\n",
              "      border: none;\n",
              "      border-radius: 50%;\n",
              "      cursor: pointer;\n",
              "      display: none;\n",
              "      fill: #1967D2;\n",
              "      height: 32px;\n",
              "      padding: 0 0 0 0;\n",
              "      width: 32px;\n",
              "    }\n",
              "\n",
              "    .colab-df-convert:hover {\n",
              "      background-color: #E2EBFA;\n",
              "      box-shadow: 0px 1px 2px rgba(60, 64, 67, 0.3), 0px 1px 3px 1px rgba(60, 64, 67, 0.15);\n",
              "      fill: #174EA6;\n",
              "    }\n",
              "\n",
              "    [theme=dark] .colab-df-convert {\n",
              "      background-color: #3B4455;\n",
              "      fill: #D2E3FC;\n",
              "    }\n",
              "\n",
              "    [theme=dark] .colab-df-convert:hover {\n",
              "      background-color: #434B5C;\n",
              "      box-shadow: 0px 1px 3px 1px rgba(0, 0, 0, 0.15);\n",
              "      filter: drop-shadow(0px 1px 2px rgba(0, 0, 0, 0.3));\n",
              "      fill: #FFFFFF;\n",
              "    }\n",
              "  </style>\n",
              "\n",
              "      <script>\n",
              "        const buttonEl =\n",
              "          document.querySelector('#df-ebcff9af-917a-41e2-9ac8-b58cb6cb3c43 button.colab-df-convert');\n",
              "        buttonEl.style.display =\n",
              "          google.colab.kernel.accessAllowed ? 'block' : 'none';\n",
              "\n",
              "        async function convertToInteractive(key) {\n",
              "          const element = document.querySelector('#df-ebcff9af-917a-41e2-9ac8-b58cb6cb3c43');\n",
              "          const dataTable =\n",
              "            await google.colab.kernel.invokeFunction('convertToInteractive',\n",
              "                                                     [key], {});\n",
              "          if (!dataTable) return;\n",
              "\n",
              "          const docLinkHtml = 'Like what you see? Visit the ' +\n",
              "            '<a target=\"_blank\" href=https://colab.research.google.com/notebooks/data_table.ipynb>data table notebook</a>'\n",
              "            + ' to learn more about interactive tables.';\n",
              "          element.innerHTML = '';\n",
              "          dataTable['output_type'] = 'display_data';\n",
              "          await google.colab.output.renderOutput(dataTable, element);\n",
              "          const docLink = document.createElement('div');\n",
              "          docLink.innerHTML = docLinkHtml;\n",
              "          element.appendChild(docLink);\n",
              "        }\n",
              "      </script>\n",
              "    </div>\n",
              "  </div>\n",
              "  "
            ]
          },
          "metadata": {},
          "execution_count": 45
        }
      ]
    },
    {
      "cell_type": "code",
      "source": [
        "df_dict = {}\n",
        "for i in range(0,144):\n",
        "  df_dict[f\"{i}\"] = globals()[f\"keyword_{i}\"]"
      ],
      "metadata": {
        "id": "G_WU3VrHaw8C"
      },
      "execution_count": 46,
      "outputs": []
    },
    {
      "cell_type": "code",
      "source": [
        "df_dict['0']"
      ],
      "metadata": {
        "colab": {
          "base_uri": "https://localhost:8080/"
        },
        "id": "3K_L_i10bg8T",
        "outputId": "f0f217df-8e9d-477e-bd13-b198aeb1f680"
      },
      "execution_count": 47,
      "outputs": [
        {
          "output_type": "execute_result",
          "data": {
            "text/plain": [
              "['sweet',\n",
              " 'feminine',\n",
              " 'woody',\n",
              " 'unisex',\n",
              " 'warm',\n",
              " 'sweetness',\n",
              " 'cloud',\n",
              " 'floral',\n",
              " 'masculine',\n",
              " 'light']"
            ]
          },
          "metadata": {},
          "execution_count": 47
        }
      ]
    },
    {
      "cell_type": "code",
      "source": [
        "type(df.columns[0])"
      ],
      "metadata": {
        "colab": {
          "base_uri": "https://localhost:8080/"
        },
        "id": "78_O0jyDcKkD",
        "outputId": "242bc0e1-92d7-4952-bb05-71dc4ceeb09d"
      },
      "execution_count": 48,
      "outputs": [
        {
          "output_type": "execute_result",
          "data": {
            "text/plain": [
              "int"
            ]
          },
          "metadata": {},
          "execution_count": 48
        }
      ]
    },
    {
      "cell_type": "code",
      "source": [
        "df"
      ],
      "metadata": {
        "colab": {
          "base_uri": "https://localhost:8080/",
          "height": 220
        },
        "id": "nE62FVqgcM_D",
        "outputId": "3e1c69ae-1e3e-4866-d4a8-a74cb4b7ca29"
      },
      "execution_count": 49,
      "outputs": [
        {
          "output_type": "execute_result",
          "data": {
            "text/plain": [
              "                            0              1                2    \\\n",
              "name         Baccarat Rouge 540  Angels' Share  Tobacco Vanille   \n",
              "brand  Maison Francis Kurkdjian      By Kilian         Tom Ford   \n",
              "\n",
              "                          3            4                 5    \\\n",
              "name         By the Fireplace  Lost Cherry            Layton   \n",
              "brand  Maison Martin Margiela     Tom Ford  Parfums de Marly   \n",
              "\n",
              "                        6         7              8             9    ...  \\\n",
              "name   Ombré Leather (2018)  Oud Wood  XJ 1861 Naxos  Cedrat Boise  ...   \n",
              "brand              Tom Ford  Tom Ford        Xerjoff       Mancera  ...   \n",
              "\n",
              "                  134               135                        136  \\\n",
              "name   Vanille Fatale   Layton Exclusif  Un Jardin En Mediterranee   \n",
              "brand        Tom Ford  Parfums de Marly                     Hermès   \n",
              "\n",
              "               137         138                   139               140  \\\n",
              "name   La Capitale       Marfa  Interlude Black Iris  Feminité du Bois   \n",
              "brand      Xerjoff  Memo Paris               Amouage      Serge Lutens   \n",
              "\n",
              "                141              142                     143  \n",
              "name        Halfeti  Fève Délicieuse  Utopia Vanilla Coco 21  \n",
              "brand  Penhaligon's             Dior       Kayali Fragrances  \n",
              "\n",
              "[2 rows x 144 columns]"
            ],
            "text/html": [
              "\n",
              "  <div id=\"df-e9b6429d-854a-4fde-89ef-a9741531efcc\">\n",
              "    <div class=\"colab-df-container\">\n",
              "      <div>\n",
              "<style scoped>\n",
              "    .dataframe tbody tr th:only-of-type {\n",
              "        vertical-align: middle;\n",
              "    }\n",
              "\n",
              "    .dataframe tbody tr th {\n",
              "        vertical-align: top;\n",
              "    }\n",
              "\n",
              "    .dataframe thead th {\n",
              "        text-align: right;\n",
              "    }\n",
              "</style>\n",
              "<table border=\"1\" class=\"dataframe\">\n",
              "  <thead>\n",
              "    <tr style=\"text-align: right;\">\n",
              "      <th></th>\n",
              "      <th>0</th>\n",
              "      <th>1</th>\n",
              "      <th>2</th>\n",
              "      <th>3</th>\n",
              "      <th>4</th>\n",
              "      <th>5</th>\n",
              "      <th>6</th>\n",
              "      <th>7</th>\n",
              "      <th>8</th>\n",
              "      <th>9</th>\n",
              "      <th>...</th>\n",
              "      <th>134</th>\n",
              "      <th>135</th>\n",
              "      <th>136</th>\n",
              "      <th>137</th>\n",
              "      <th>138</th>\n",
              "      <th>139</th>\n",
              "      <th>140</th>\n",
              "      <th>141</th>\n",
              "      <th>142</th>\n",
              "      <th>143</th>\n",
              "    </tr>\n",
              "  </thead>\n",
              "  <tbody>\n",
              "    <tr>\n",
              "      <th>name</th>\n",
              "      <td>Baccarat Rouge 540</td>\n",
              "      <td>Angels' Share</td>\n",
              "      <td>Tobacco Vanille</td>\n",
              "      <td>By the Fireplace</td>\n",
              "      <td>Lost Cherry</td>\n",
              "      <td>Layton</td>\n",
              "      <td>Ombré Leather (2018)</td>\n",
              "      <td>Oud Wood</td>\n",
              "      <td>XJ 1861 Naxos</td>\n",
              "      <td>Cedrat Boise</td>\n",
              "      <td>...</td>\n",
              "      <td>Vanille Fatale</td>\n",
              "      <td>Layton Exclusif</td>\n",
              "      <td>Un Jardin En Mediterranee</td>\n",
              "      <td>La Capitale</td>\n",
              "      <td>Marfa</td>\n",
              "      <td>Interlude Black Iris</td>\n",
              "      <td>Feminité du Bois</td>\n",
              "      <td>Halfeti</td>\n",
              "      <td>Fève Délicieuse</td>\n",
              "      <td>Utopia Vanilla Coco 21</td>\n",
              "    </tr>\n",
              "    <tr>\n",
              "      <th>brand</th>\n",
              "      <td>Maison Francis Kurkdjian</td>\n",
              "      <td>By Kilian</td>\n",
              "      <td>Tom Ford</td>\n",
              "      <td>Maison Martin Margiela</td>\n",
              "      <td>Tom Ford</td>\n",
              "      <td>Parfums de Marly</td>\n",
              "      <td>Tom Ford</td>\n",
              "      <td>Tom Ford</td>\n",
              "      <td>Xerjoff</td>\n",
              "      <td>Mancera</td>\n",
              "      <td>...</td>\n",
              "      <td>Tom Ford</td>\n",
              "      <td>Parfums de Marly</td>\n",
              "      <td>Hermès</td>\n",
              "      <td>Xerjoff</td>\n",
              "      <td>Memo Paris</td>\n",
              "      <td>Amouage</td>\n",
              "      <td>Serge Lutens</td>\n",
              "      <td>Penhaligon's</td>\n",
              "      <td>Dior</td>\n",
              "      <td>Kayali Fragrances</td>\n",
              "    </tr>\n",
              "  </tbody>\n",
              "</table>\n",
              "<p>2 rows × 144 columns</p>\n",
              "</div>\n",
              "      <button class=\"colab-df-convert\" onclick=\"convertToInteractive('df-e9b6429d-854a-4fde-89ef-a9741531efcc')\"\n",
              "              title=\"Convert this dataframe to an interactive table.\"\n",
              "              style=\"display:none;\">\n",
              "        \n",
              "  <svg xmlns=\"http://www.w3.org/2000/svg\" height=\"24px\"viewBox=\"0 0 24 24\"\n",
              "       width=\"24px\">\n",
              "    <path d=\"M0 0h24v24H0V0z\" fill=\"none\"/>\n",
              "    <path d=\"M18.56 5.44l.94 2.06.94-2.06 2.06-.94-2.06-.94-.94-2.06-.94 2.06-2.06.94zm-11 1L8.5 8.5l.94-2.06 2.06-.94-2.06-.94L8.5 2.5l-.94 2.06-2.06.94zm10 10l.94 2.06.94-2.06 2.06-.94-2.06-.94-.94-2.06-.94 2.06-2.06.94z\"/><path d=\"M17.41 7.96l-1.37-1.37c-.4-.4-.92-.59-1.43-.59-.52 0-1.04.2-1.43.59L10.3 9.45l-7.72 7.72c-.78.78-.78 2.05 0 2.83L4 21.41c.39.39.9.59 1.41.59.51 0 1.02-.2 1.41-.59l7.78-7.78 2.81-2.81c.8-.78.8-2.07 0-2.86zM5.41 20L4 18.59l7.72-7.72 1.47 1.35L5.41 20z\"/>\n",
              "  </svg>\n",
              "      </button>\n",
              "      \n",
              "  <style>\n",
              "    .colab-df-container {\n",
              "      display:flex;\n",
              "      flex-wrap:wrap;\n",
              "      gap: 12px;\n",
              "    }\n",
              "\n",
              "    .colab-df-convert {\n",
              "      background-color: #E8F0FE;\n",
              "      border: none;\n",
              "      border-radius: 50%;\n",
              "      cursor: pointer;\n",
              "      display: none;\n",
              "      fill: #1967D2;\n",
              "      height: 32px;\n",
              "      padding: 0 0 0 0;\n",
              "      width: 32px;\n",
              "    }\n",
              "\n",
              "    .colab-df-convert:hover {\n",
              "      background-color: #E2EBFA;\n",
              "      box-shadow: 0px 1px 2px rgba(60, 64, 67, 0.3), 0px 1px 3px 1px rgba(60, 64, 67, 0.15);\n",
              "      fill: #174EA6;\n",
              "    }\n",
              "\n",
              "    [theme=dark] .colab-df-convert {\n",
              "      background-color: #3B4455;\n",
              "      fill: #D2E3FC;\n",
              "    }\n",
              "\n",
              "    [theme=dark] .colab-df-convert:hover {\n",
              "      background-color: #434B5C;\n",
              "      box-shadow: 0px 1px 3px 1px rgba(0, 0, 0, 0.15);\n",
              "      filter: drop-shadow(0px 1px 2px rgba(0, 0, 0, 0.3));\n",
              "      fill: #FFFFFF;\n",
              "    }\n",
              "  </style>\n",
              "\n",
              "      <script>\n",
              "        const buttonEl =\n",
              "          document.querySelector('#df-e9b6429d-854a-4fde-89ef-a9741531efcc button.colab-df-convert');\n",
              "        buttonEl.style.display =\n",
              "          google.colab.kernel.accessAllowed ? 'block' : 'none';\n",
              "\n",
              "        async function convertToInteractive(key) {\n",
              "          const element = document.querySelector('#df-e9b6429d-854a-4fde-89ef-a9741531efcc');\n",
              "          const dataTable =\n",
              "            await google.colab.kernel.invokeFunction('convertToInteractive',\n",
              "                                                     [key], {});\n",
              "          if (!dataTable) return;\n",
              "\n",
              "          const docLinkHtml = 'Like what you see? Visit the ' +\n",
              "            '<a target=\"_blank\" href=https://colab.research.google.com/notebooks/data_table.ipynb>data table notebook</a>'\n",
              "            + ' to learn more about interactive tables.';\n",
              "          element.innerHTML = '';\n",
              "          dataTable['output_type'] = 'display_data';\n",
              "          await google.colab.output.renderOutput(dataTable, element);\n",
              "          const docLink = document.createElement('div');\n",
              "          docLink.innerHTML = docLinkHtml;\n",
              "          element.appendChild(docLink);\n",
              "        }\n",
              "      </script>\n",
              "    </div>\n",
              "  </div>\n",
              "  "
            ]
          },
          "metadata": {},
          "execution_count": 49
        }
      ]
    },
    {
      "cell_type": "code",
      "source": [
        "df_keyword = pd.DataFrame(df_dict)"
      ],
      "metadata": {
        "id": "2XQ-9j_peDHc"
      },
      "execution_count": 50,
      "outputs": []
    },
    {
      "cell_type": "code",
      "source": [
        "df_keyword"
      ],
      "metadata": {
        "colab": {
          "base_uri": "https://localhost:8080/",
          "height": 392
        },
        "id": "CY5TF6nueSzy",
        "outputId": "2b33877f-3b48-4847-c082-cb544a141820"
      },
      "execution_count": 51,
      "outputs": [
        {
          "output_type": "execute_result",
          "data": {
            "text/plain": [
              "           0          1          2          3          4         5          6  \\\n",
              "0      sweet      sweet    tobacco    vanilla     cherry   vanilla      sweet   \n",
              "1   feminine     cognac    vanilla      sweet      sweet     sweet     floral   \n",
              "2      woody       warm      sweet      smoky    cherry.     spicy    jasmine   \n",
              "3     unisex    vanilla      spicy      woody     bitter      warm  masculine   \n",
              "4       warm      spicy       warm       warm    vanilla     woody       dark   \n",
              "5  sweetness     unisex   tobacco.       wood       warm    floral  patchouli   \n",
              "6      cloud      woody   vanilla.  sweetness  sweetness     fresh     unisex   \n",
              "7     floral    praline  sweetness       cozy   feminine  lavender       warm   \n",
              "8  masculine  masculine     unisex   vanilla.       dark  vanilla.   leathery   \n",
              "9      light  sweetness    vanille  masculine  patchouli      wood   feminine   \n",
              "\n",
              "           7         8          9  ...      134      135         136  \\\n",
              "0       wood   tobacco      woody  ...      fig   summer  strawberry   \n",
              "1      sweet     honey     citrus  ...    green   marine       sweet   \n",
              "2      woody     sweet      fresh  ...    fresh    woody     vanilla   \n",
              "3  masculine  lavender       wood  ...   citrus    fresh    feminine   \n",
              "4      fresh   vanilla      creed  ...   summer  aquatic   synthetic   \n",
              "5      spicy     fresh      sweet  ...    sweet    sweet     incense   \n",
              "6      money    citrus    vanilla  ...  juniper  powdery       super   \n",
              "7    vanilla     tonka  synthetic  ...   floral     wood        warm   \n",
              "8       soft    unisex   magnetic  ...    woody    green      sweet.   \n",
              "9    tobacco      warm    intense  ...    cedar    cedar     elegant   \n",
              "\n",
              "         137       138         139       140        141         142  \\\n",
              "0    vanilla  tuberose     incense     cedar      woody       sweet   \n",
              "1      sweet     marfa        dark     woody      spicy     vanilla   \n",
              "2       dark     sweet       sweet     sweet     unisex       tonka   \n",
              "3      woody     green   sweetness     spicy  masculine      cherry   \n",
              "4       wood   vanilla     vanilla  feminine    vanilla     powdery   \n",
              "5      spicy    creamy       smoky      wood      sweet        warm   \n",
              "6     mature    floral   masculine      warm    halfeti      powder   \n",
              "7  masculine     white        wood   powdery    complex       spicy   \n",
              "8  patchouli     fresh     complex      soft       wood  tonka bean   \n",
              "9     coffee    summer  mysterious    unisex      fresh    lavender   \n",
              "\n",
              "            143  \n",
              "0       vanilla  \n",
              "1         sweet  \n",
              "2        summer  \n",
              "3        creamy  \n",
              "4       jasmine  \n",
              "5  white floral  \n",
              "6        floral  \n",
              "7      tuberose  \n",
              "8         white  \n",
              "9          warm  \n",
              "\n",
              "[10 rows x 144 columns]"
            ],
            "text/html": [
              "\n",
              "  <div id=\"df-6b9dd79b-f87b-42f6-94ae-46d1f8fdd30f\">\n",
              "    <div class=\"colab-df-container\">\n",
              "      <div>\n",
              "<style scoped>\n",
              "    .dataframe tbody tr th:only-of-type {\n",
              "        vertical-align: middle;\n",
              "    }\n",
              "\n",
              "    .dataframe tbody tr th {\n",
              "        vertical-align: top;\n",
              "    }\n",
              "\n",
              "    .dataframe thead th {\n",
              "        text-align: right;\n",
              "    }\n",
              "</style>\n",
              "<table border=\"1\" class=\"dataframe\">\n",
              "  <thead>\n",
              "    <tr style=\"text-align: right;\">\n",
              "      <th></th>\n",
              "      <th>0</th>\n",
              "      <th>1</th>\n",
              "      <th>2</th>\n",
              "      <th>3</th>\n",
              "      <th>4</th>\n",
              "      <th>5</th>\n",
              "      <th>6</th>\n",
              "      <th>7</th>\n",
              "      <th>8</th>\n",
              "      <th>9</th>\n",
              "      <th>...</th>\n",
              "      <th>134</th>\n",
              "      <th>135</th>\n",
              "      <th>136</th>\n",
              "      <th>137</th>\n",
              "      <th>138</th>\n",
              "      <th>139</th>\n",
              "      <th>140</th>\n",
              "      <th>141</th>\n",
              "      <th>142</th>\n",
              "      <th>143</th>\n",
              "    </tr>\n",
              "  </thead>\n",
              "  <tbody>\n",
              "    <tr>\n",
              "      <th>0</th>\n",
              "      <td>sweet</td>\n",
              "      <td>sweet</td>\n",
              "      <td>tobacco</td>\n",
              "      <td>vanilla</td>\n",
              "      <td>cherry</td>\n",
              "      <td>vanilla</td>\n",
              "      <td>sweet</td>\n",
              "      <td>wood</td>\n",
              "      <td>tobacco</td>\n",
              "      <td>woody</td>\n",
              "      <td>...</td>\n",
              "      <td>fig</td>\n",
              "      <td>summer</td>\n",
              "      <td>strawberry</td>\n",
              "      <td>vanilla</td>\n",
              "      <td>tuberose</td>\n",
              "      <td>incense</td>\n",
              "      <td>cedar</td>\n",
              "      <td>woody</td>\n",
              "      <td>sweet</td>\n",
              "      <td>vanilla</td>\n",
              "    </tr>\n",
              "    <tr>\n",
              "      <th>1</th>\n",
              "      <td>feminine</td>\n",
              "      <td>cognac</td>\n",
              "      <td>vanilla</td>\n",
              "      <td>sweet</td>\n",
              "      <td>sweet</td>\n",
              "      <td>sweet</td>\n",
              "      <td>floral</td>\n",
              "      <td>sweet</td>\n",
              "      <td>honey</td>\n",
              "      <td>citrus</td>\n",
              "      <td>...</td>\n",
              "      <td>green</td>\n",
              "      <td>marine</td>\n",
              "      <td>sweet</td>\n",
              "      <td>sweet</td>\n",
              "      <td>marfa</td>\n",
              "      <td>dark</td>\n",
              "      <td>woody</td>\n",
              "      <td>spicy</td>\n",
              "      <td>vanilla</td>\n",
              "      <td>sweet</td>\n",
              "    </tr>\n",
              "    <tr>\n",
              "      <th>2</th>\n",
              "      <td>woody</td>\n",
              "      <td>warm</td>\n",
              "      <td>sweet</td>\n",
              "      <td>smoky</td>\n",
              "      <td>cherry.</td>\n",
              "      <td>spicy</td>\n",
              "      <td>jasmine</td>\n",
              "      <td>woody</td>\n",
              "      <td>sweet</td>\n",
              "      <td>fresh</td>\n",
              "      <td>...</td>\n",
              "      <td>fresh</td>\n",
              "      <td>woody</td>\n",
              "      <td>vanilla</td>\n",
              "      <td>dark</td>\n",
              "      <td>sweet</td>\n",
              "      <td>sweet</td>\n",
              "      <td>sweet</td>\n",
              "      <td>unisex</td>\n",
              "      <td>tonka</td>\n",
              "      <td>summer</td>\n",
              "    </tr>\n",
              "    <tr>\n",
              "      <th>3</th>\n",
              "      <td>unisex</td>\n",
              "      <td>vanilla</td>\n",
              "      <td>spicy</td>\n",
              "      <td>woody</td>\n",
              "      <td>bitter</td>\n",
              "      <td>warm</td>\n",
              "      <td>masculine</td>\n",
              "      <td>masculine</td>\n",
              "      <td>lavender</td>\n",
              "      <td>wood</td>\n",
              "      <td>...</td>\n",
              "      <td>citrus</td>\n",
              "      <td>fresh</td>\n",
              "      <td>feminine</td>\n",
              "      <td>woody</td>\n",
              "      <td>green</td>\n",
              "      <td>sweetness</td>\n",
              "      <td>spicy</td>\n",
              "      <td>masculine</td>\n",
              "      <td>cherry</td>\n",
              "      <td>creamy</td>\n",
              "    </tr>\n",
              "    <tr>\n",
              "      <th>4</th>\n",
              "      <td>warm</td>\n",
              "      <td>spicy</td>\n",
              "      <td>warm</td>\n",
              "      <td>warm</td>\n",
              "      <td>vanilla</td>\n",
              "      <td>woody</td>\n",
              "      <td>dark</td>\n",
              "      <td>fresh</td>\n",
              "      <td>vanilla</td>\n",
              "      <td>creed</td>\n",
              "      <td>...</td>\n",
              "      <td>summer</td>\n",
              "      <td>aquatic</td>\n",
              "      <td>synthetic</td>\n",
              "      <td>wood</td>\n",
              "      <td>vanilla</td>\n",
              "      <td>vanilla</td>\n",
              "      <td>feminine</td>\n",
              "      <td>vanilla</td>\n",
              "      <td>powdery</td>\n",
              "      <td>jasmine</td>\n",
              "    </tr>\n",
              "    <tr>\n",
              "      <th>5</th>\n",
              "      <td>sweetness</td>\n",
              "      <td>unisex</td>\n",
              "      <td>tobacco.</td>\n",
              "      <td>wood</td>\n",
              "      <td>warm</td>\n",
              "      <td>floral</td>\n",
              "      <td>patchouli</td>\n",
              "      <td>spicy</td>\n",
              "      <td>fresh</td>\n",
              "      <td>sweet</td>\n",
              "      <td>...</td>\n",
              "      <td>sweet</td>\n",
              "      <td>sweet</td>\n",
              "      <td>incense</td>\n",
              "      <td>spicy</td>\n",
              "      <td>creamy</td>\n",
              "      <td>smoky</td>\n",
              "      <td>wood</td>\n",
              "      <td>sweet</td>\n",
              "      <td>warm</td>\n",
              "      <td>white floral</td>\n",
              "    </tr>\n",
              "    <tr>\n",
              "      <th>6</th>\n",
              "      <td>cloud</td>\n",
              "      <td>woody</td>\n",
              "      <td>vanilla.</td>\n",
              "      <td>sweetness</td>\n",
              "      <td>sweetness</td>\n",
              "      <td>fresh</td>\n",
              "      <td>unisex</td>\n",
              "      <td>money</td>\n",
              "      <td>citrus</td>\n",
              "      <td>vanilla</td>\n",
              "      <td>...</td>\n",
              "      <td>juniper</td>\n",
              "      <td>powdery</td>\n",
              "      <td>super</td>\n",
              "      <td>mature</td>\n",
              "      <td>floral</td>\n",
              "      <td>masculine</td>\n",
              "      <td>warm</td>\n",
              "      <td>halfeti</td>\n",
              "      <td>powder</td>\n",
              "      <td>floral</td>\n",
              "    </tr>\n",
              "    <tr>\n",
              "      <th>7</th>\n",
              "      <td>floral</td>\n",
              "      <td>praline</td>\n",
              "      <td>sweetness</td>\n",
              "      <td>cozy</td>\n",
              "      <td>feminine</td>\n",
              "      <td>lavender</td>\n",
              "      <td>warm</td>\n",
              "      <td>vanilla</td>\n",
              "      <td>tonka</td>\n",
              "      <td>synthetic</td>\n",
              "      <td>...</td>\n",
              "      <td>floral</td>\n",
              "      <td>wood</td>\n",
              "      <td>warm</td>\n",
              "      <td>masculine</td>\n",
              "      <td>white</td>\n",
              "      <td>wood</td>\n",
              "      <td>powdery</td>\n",
              "      <td>complex</td>\n",
              "      <td>spicy</td>\n",
              "      <td>tuberose</td>\n",
              "    </tr>\n",
              "    <tr>\n",
              "      <th>8</th>\n",
              "      <td>masculine</td>\n",
              "      <td>masculine</td>\n",
              "      <td>unisex</td>\n",
              "      <td>vanilla.</td>\n",
              "      <td>dark</td>\n",
              "      <td>vanilla.</td>\n",
              "      <td>leathery</td>\n",
              "      <td>soft</td>\n",
              "      <td>unisex</td>\n",
              "      <td>magnetic</td>\n",
              "      <td>...</td>\n",
              "      <td>woody</td>\n",
              "      <td>green</td>\n",
              "      <td>sweet.</td>\n",
              "      <td>patchouli</td>\n",
              "      <td>fresh</td>\n",
              "      <td>complex</td>\n",
              "      <td>soft</td>\n",
              "      <td>wood</td>\n",
              "      <td>tonka bean</td>\n",
              "      <td>white</td>\n",
              "    </tr>\n",
              "    <tr>\n",
              "      <th>9</th>\n",
              "      <td>light</td>\n",
              "      <td>sweetness</td>\n",
              "      <td>vanille</td>\n",
              "      <td>masculine</td>\n",
              "      <td>patchouli</td>\n",
              "      <td>wood</td>\n",
              "      <td>feminine</td>\n",
              "      <td>tobacco</td>\n",
              "      <td>warm</td>\n",
              "      <td>intense</td>\n",
              "      <td>...</td>\n",
              "      <td>cedar</td>\n",
              "      <td>cedar</td>\n",
              "      <td>elegant</td>\n",
              "      <td>coffee</td>\n",
              "      <td>summer</td>\n",
              "      <td>mysterious</td>\n",
              "      <td>unisex</td>\n",
              "      <td>fresh</td>\n",
              "      <td>lavender</td>\n",
              "      <td>warm</td>\n",
              "    </tr>\n",
              "  </tbody>\n",
              "</table>\n",
              "<p>10 rows × 144 columns</p>\n",
              "</div>\n",
              "      <button class=\"colab-df-convert\" onclick=\"convertToInteractive('df-6b9dd79b-f87b-42f6-94ae-46d1f8fdd30f')\"\n",
              "              title=\"Convert this dataframe to an interactive table.\"\n",
              "              style=\"display:none;\">\n",
              "        \n",
              "  <svg xmlns=\"http://www.w3.org/2000/svg\" height=\"24px\"viewBox=\"0 0 24 24\"\n",
              "       width=\"24px\">\n",
              "    <path d=\"M0 0h24v24H0V0z\" fill=\"none\"/>\n",
              "    <path d=\"M18.56 5.44l.94 2.06.94-2.06 2.06-.94-2.06-.94-.94-2.06-.94 2.06-2.06.94zm-11 1L8.5 8.5l.94-2.06 2.06-.94-2.06-.94L8.5 2.5l-.94 2.06-2.06.94zm10 10l.94 2.06.94-2.06 2.06-.94-2.06-.94-.94-2.06-.94 2.06-2.06.94z\"/><path d=\"M17.41 7.96l-1.37-1.37c-.4-.4-.92-.59-1.43-.59-.52 0-1.04.2-1.43.59L10.3 9.45l-7.72 7.72c-.78.78-.78 2.05 0 2.83L4 21.41c.39.39.9.59 1.41.59.51 0 1.02-.2 1.41-.59l7.78-7.78 2.81-2.81c.8-.78.8-2.07 0-2.86zM5.41 20L4 18.59l7.72-7.72 1.47 1.35L5.41 20z\"/>\n",
              "  </svg>\n",
              "      </button>\n",
              "      \n",
              "  <style>\n",
              "    .colab-df-container {\n",
              "      display:flex;\n",
              "      flex-wrap:wrap;\n",
              "      gap: 12px;\n",
              "    }\n",
              "\n",
              "    .colab-df-convert {\n",
              "      background-color: #E8F0FE;\n",
              "      border: none;\n",
              "      border-radius: 50%;\n",
              "      cursor: pointer;\n",
              "      display: none;\n",
              "      fill: #1967D2;\n",
              "      height: 32px;\n",
              "      padding: 0 0 0 0;\n",
              "      width: 32px;\n",
              "    }\n",
              "\n",
              "    .colab-df-convert:hover {\n",
              "      background-color: #E2EBFA;\n",
              "      box-shadow: 0px 1px 2px rgba(60, 64, 67, 0.3), 0px 1px 3px 1px rgba(60, 64, 67, 0.15);\n",
              "      fill: #174EA6;\n",
              "    }\n",
              "\n",
              "    [theme=dark] .colab-df-convert {\n",
              "      background-color: #3B4455;\n",
              "      fill: #D2E3FC;\n",
              "    }\n",
              "\n",
              "    [theme=dark] .colab-df-convert:hover {\n",
              "      background-color: #434B5C;\n",
              "      box-shadow: 0px 1px 3px 1px rgba(0, 0, 0, 0.15);\n",
              "      filter: drop-shadow(0px 1px 2px rgba(0, 0, 0, 0.3));\n",
              "      fill: #FFFFFF;\n",
              "    }\n",
              "  </style>\n",
              "\n",
              "      <script>\n",
              "        const buttonEl =\n",
              "          document.querySelector('#df-6b9dd79b-f87b-42f6-94ae-46d1f8fdd30f button.colab-df-convert');\n",
              "        buttonEl.style.display =\n",
              "          google.colab.kernel.accessAllowed ? 'block' : 'none';\n",
              "\n",
              "        async function convertToInteractive(key) {\n",
              "          const element = document.querySelector('#df-6b9dd79b-f87b-42f6-94ae-46d1f8fdd30f');\n",
              "          const dataTable =\n",
              "            await google.colab.kernel.invokeFunction('convertToInteractive',\n",
              "                                                     [key], {});\n",
              "          if (!dataTable) return;\n",
              "\n",
              "          const docLinkHtml = 'Like what you see? Visit the ' +\n",
              "            '<a target=\"_blank\" href=https://colab.research.google.com/notebooks/data_table.ipynb>data table notebook</a>'\n",
              "            + ' to learn more about interactive tables.';\n",
              "          element.innerHTML = '';\n",
              "          dataTable['output_type'] = 'display_data';\n",
              "          await google.colab.output.renderOutput(dataTable, element);\n",
              "          const docLink = document.createElement('div');\n",
              "          docLink.innerHTML = docLinkHtml;\n",
              "          element.appendChild(docLink);\n",
              "        }\n",
              "      </script>\n",
              "    </div>\n",
              "  </div>\n",
              "  "
            ]
          },
          "metadata": {},
          "execution_count": 51
        }
      ]
    },
    {
      "cell_type": "code",
      "source": [
        "df.shape"
      ],
      "metadata": {
        "colab": {
          "base_uri": "https://localhost:8080/"
        },
        "id": "DbVlDAkye1dY",
        "outputId": "3ca054ea-5f7b-4318-e98f-92cd8def4a4d"
      },
      "execution_count": 52,
      "outputs": [
        {
          "output_type": "execute_result",
          "data": {
            "text/plain": [
              "(2, 144)"
            ]
          },
          "metadata": {},
          "execution_count": 52
        }
      ]
    },
    {
      "cell_type": "code",
      "source": [
        "df_keyword.shape"
      ],
      "metadata": {
        "colab": {
          "base_uri": "https://localhost:8080/"
        },
        "id": "E7sGaYLWe7Sk",
        "outputId": "c5dfcd3b-096c-4cd2-dbb2-38c06ff885d5"
      },
      "execution_count": 53,
      "outputs": [
        {
          "output_type": "execute_result",
          "data": {
            "text/plain": [
              "(10, 144)"
            ]
          },
          "metadata": {},
          "execution_count": 53
        }
      ]
    },
    {
      "cell_type": "code",
      "source": [
        "column_name = list(range(0,144))"
      ],
      "metadata": {
        "id": "gIIQXOZ1fVaE"
      },
      "execution_count": 54,
      "outputs": []
    },
    {
      "cell_type": "code",
      "source": [
        "df.columns = column_name\n",
        "df_keyword.columns = column_name"
      ],
      "metadata": {
        "id": "suvbgQl2fkNT"
      },
      "execution_count": 55,
      "outputs": []
    },
    {
      "cell_type": "code",
      "source": [
        "keyword_extracted = pd.concat([df,df_keyword])\n",
        "keyword_extracted"
      ],
      "metadata": {
        "colab": {
          "base_uri": "https://localhost:8080/",
          "height": 533
        },
        "id": "M0dxJT_7f2TT",
        "outputId": "d65e71ac-5c2b-41eb-d9b3-df2ff7a59532"
      },
      "execution_count": 56,
      "outputs": [
        {
          "output_type": "execute_result",
          "data": {
            "text/plain": [
              "                            0              1                2    \\\n",
              "name         Baccarat Rouge 540  Angels' Share  Tobacco Vanille   \n",
              "brand  Maison Francis Kurkdjian      By Kilian         Tom Ford   \n",
              "0                         sweet          sweet          tobacco   \n",
              "1                      feminine         cognac          vanilla   \n",
              "2                         woody           warm            sweet   \n",
              "3                        unisex        vanilla            spicy   \n",
              "4                          warm          spicy             warm   \n",
              "5                     sweetness         unisex         tobacco.   \n",
              "6                         cloud          woody         vanilla.   \n",
              "7                        floral        praline        sweetness   \n",
              "8                     masculine      masculine           unisex   \n",
              "9                         light      sweetness          vanille   \n",
              "\n",
              "                          3            4                 5    \\\n",
              "name         By the Fireplace  Lost Cherry            Layton   \n",
              "brand  Maison Martin Margiela     Tom Ford  Parfums de Marly   \n",
              "0                     vanilla       cherry           vanilla   \n",
              "1                       sweet        sweet             sweet   \n",
              "2                       smoky      cherry.             spicy   \n",
              "3                       woody       bitter              warm   \n",
              "4                        warm      vanilla             woody   \n",
              "5                        wood         warm            floral   \n",
              "6                   sweetness    sweetness             fresh   \n",
              "7                        cozy     feminine          lavender   \n",
              "8                    vanilla.         dark          vanilla.   \n",
              "9                   masculine    patchouli              wood   \n",
              "\n",
              "                        6          7              8             9    ...  \\\n",
              "name   Ombré Leather (2018)   Oud Wood  XJ 1861 Naxos  Cedrat Boise  ...   \n",
              "brand              Tom Ford   Tom Ford        Xerjoff       Mancera  ...   \n",
              "0                     sweet       wood        tobacco         woody  ...   \n",
              "1                    floral      sweet          honey        citrus  ...   \n",
              "2                   jasmine      woody          sweet         fresh  ...   \n",
              "3                 masculine  masculine       lavender          wood  ...   \n",
              "4                      dark      fresh        vanilla         creed  ...   \n",
              "5                 patchouli      spicy          fresh         sweet  ...   \n",
              "6                    unisex      money         citrus       vanilla  ...   \n",
              "7                      warm    vanilla          tonka     synthetic  ...   \n",
              "8                  leathery       soft         unisex      magnetic  ...   \n",
              "9                  feminine    tobacco           warm       intense  ...   \n",
              "\n",
              "                  134               135                        136  \\\n",
              "name   Vanille Fatale   Layton Exclusif  Un Jardin En Mediterranee   \n",
              "brand        Tom Ford  Parfums de Marly                     Hermès   \n",
              "0                 fig            summer                 strawberry   \n",
              "1               green            marine                      sweet   \n",
              "2               fresh             woody                    vanilla   \n",
              "3              citrus             fresh                   feminine   \n",
              "4              summer           aquatic                  synthetic   \n",
              "5               sweet             sweet                    incense   \n",
              "6             juniper           powdery                      super   \n",
              "7              floral              wood                       warm   \n",
              "8               woody             green                     sweet.   \n",
              "9               cedar             cedar                    elegant   \n",
              "\n",
              "               137         138                   139               140  \\\n",
              "name   La Capitale       Marfa  Interlude Black Iris  Feminité du Bois   \n",
              "brand      Xerjoff  Memo Paris               Amouage      Serge Lutens   \n",
              "0          vanilla    tuberose               incense             cedar   \n",
              "1            sweet       marfa                  dark             woody   \n",
              "2             dark       sweet                 sweet             sweet   \n",
              "3            woody       green             sweetness             spicy   \n",
              "4             wood     vanilla               vanilla          feminine   \n",
              "5            spicy      creamy                 smoky              wood   \n",
              "6           mature      floral             masculine              warm   \n",
              "7        masculine       white                  wood           powdery   \n",
              "8        patchouli       fresh               complex              soft   \n",
              "9           coffee      summer            mysterious            unisex   \n",
              "\n",
              "                141              142                     143  \n",
              "name        Halfeti  Fève Délicieuse  Utopia Vanilla Coco 21  \n",
              "brand  Penhaligon's             Dior       Kayali Fragrances  \n",
              "0             woody            sweet                 vanilla  \n",
              "1             spicy          vanilla                   sweet  \n",
              "2            unisex            tonka                  summer  \n",
              "3         masculine           cherry                  creamy  \n",
              "4           vanilla          powdery                 jasmine  \n",
              "5             sweet             warm            white floral  \n",
              "6           halfeti           powder                  floral  \n",
              "7           complex            spicy                tuberose  \n",
              "8              wood       tonka bean                   white  \n",
              "9             fresh         lavender                    warm  \n",
              "\n",
              "[12 rows x 144 columns]"
            ],
            "text/html": [
              "\n",
              "  <div id=\"df-3946264d-7627-4561-b795-9ee45f3059c8\">\n",
              "    <div class=\"colab-df-container\">\n",
              "      <div>\n",
              "<style scoped>\n",
              "    .dataframe tbody tr th:only-of-type {\n",
              "        vertical-align: middle;\n",
              "    }\n",
              "\n",
              "    .dataframe tbody tr th {\n",
              "        vertical-align: top;\n",
              "    }\n",
              "\n",
              "    .dataframe thead th {\n",
              "        text-align: right;\n",
              "    }\n",
              "</style>\n",
              "<table border=\"1\" class=\"dataframe\">\n",
              "  <thead>\n",
              "    <tr style=\"text-align: right;\">\n",
              "      <th></th>\n",
              "      <th>0</th>\n",
              "      <th>1</th>\n",
              "      <th>2</th>\n",
              "      <th>3</th>\n",
              "      <th>4</th>\n",
              "      <th>5</th>\n",
              "      <th>6</th>\n",
              "      <th>7</th>\n",
              "      <th>8</th>\n",
              "      <th>9</th>\n",
              "      <th>...</th>\n",
              "      <th>134</th>\n",
              "      <th>135</th>\n",
              "      <th>136</th>\n",
              "      <th>137</th>\n",
              "      <th>138</th>\n",
              "      <th>139</th>\n",
              "      <th>140</th>\n",
              "      <th>141</th>\n",
              "      <th>142</th>\n",
              "      <th>143</th>\n",
              "    </tr>\n",
              "  </thead>\n",
              "  <tbody>\n",
              "    <tr>\n",
              "      <th>name</th>\n",
              "      <td>Baccarat Rouge 540</td>\n",
              "      <td>Angels' Share</td>\n",
              "      <td>Tobacco Vanille</td>\n",
              "      <td>By the Fireplace</td>\n",
              "      <td>Lost Cherry</td>\n",
              "      <td>Layton</td>\n",
              "      <td>Ombré Leather (2018)</td>\n",
              "      <td>Oud Wood</td>\n",
              "      <td>XJ 1861 Naxos</td>\n",
              "      <td>Cedrat Boise</td>\n",
              "      <td>...</td>\n",
              "      <td>Vanille Fatale</td>\n",
              "      <td>Layton Exclusif</td>\n",
              "      <td>Un Jardin En Mediterranee</td>\n",
              "      <td>La Capitale</td>\n",
              "      <td>Marfa</td>\n",
              "      <td>Interlude Black Iris</td>\n",
              "      <td>Feminité du Bois</td>\n",
              "      <td>Halfeti</td>\n",
              "      <td>Fève Délicieuse</td>\n",
              "      <td>Utopia Vanilla Coco 21</td>\n",
              "    </tr>\n",
              "    <tr>\n",
              "      <th>brand</th>\n",
              "      <td>Maison Francis Kurkdjian</td>\n",
              "      <td>By Kilian</td>\n",
              "      <td>Tom Ford</td>\n",
              "      <td>Maison Martin Margiela</td>\n",
              "      <td>Tom Ford</td>\n",
              "      <td>Parfums de Marly</td>\n",
              "      <td>Tom Ford</td>\n",
              "      <td>Tom Ford</td>\n",
              "      <td>Xerjoff</td>\n",
              "      <td>Mancera</td>\n",
              "      <td>...</td>\n",
              "      <td>Tom Ford</td>\n",
              "      <td>Parfums de Marly</td>\n",
              "      <td>Hermès</td>\n",
              "      <td>Xerjoff</td>\n",
              "      <td>Memo Paris</td>\n",
              "      <td>Amouage</td>\n",
              "      <td>Serge Lutens</td>\n",
              "      <td>Penhaligon's</td>\n",
              "      <td>Dior</td>\n",
              "      <td>Kayali Fragrances</td>\n",
              "    </tr>\n",
              "    <tr>\n",
              "      <th>0</th>\n",
              "      <td>sweet</td>\n",
              "      <td>sweet</td>\n",
              "      <td>tobacco</td>\n",
              "      <td>vanilla</td>\n",
              "      <td>cherry</td>\n",
              "      <td>vanilla</td>\n",
              "      <td>sweet</td>\n",
              "      <td>wood</td>\n",
              "      <td>tobacco</td>\n",
              "      <td>woody</td>\n",
              "      <td>...</td>\n",
              "      <td>fig</td>\n",
              "      <td>summer</td>\n",
              "      <td>strawberry</td>\n",
              "      <td>vanilla</td>\n",
              "      <td>tuberose</td>\n",
              "      <td>incense</td>\n",
              "      <td>cedar</td>\n",
              "      <td>woody</td>\n",
              "      <td>sweet</td>\n",
              "      <td>vanilla</td>\n",
              "    </tr>\n",
              "    <tr>\n",
              "      <th>1</th>\n",
              "      <td>feminine</td>\n",
              "      <td>cognac</td>\n",
              "      <td>vanilla</td>\n",
              "      <td>sweet</td>\n",
              "      <td>sweet</td>\n",
              "      <td>sweet</td>\n",
              "      <td>floral</td>\n",
              "      <td>sweet</td>\n",
              "      <td>honey</td>\n",
              "      <td>citrus</td>\n",
              "      <td>...</td>\n",
              "      <td>green</td>\n",
              "      <td>marine</td>\n",
              "      <td>sweet</td>\n",
              "      <td>sweet</td>\n",
              "      <td>marfa</td>\n",
              "      <td>dark</td>\n",
              "      <td>woody</td>\n",
              "      <td>spicy</td>\n",
              "      <td>vanilla</td>\n",
              "      <td>sweet</td>\n",
              "    </tr>\n",
              "    <tr>\n",
              "      <th>2</th>\n",
              "      <td>woody</td>\n",
              "      <td>warm</td>\n",
              "      <td>sweet</td>\n",
              "      <td>smoky</td>\n",
              "      <td>cherry.</td>\n",
              "      <td>spicy</td>\n",
              "      <td>jasmine</td>\n",
              "      <td>woody</td>\n",
              "      <td>sweet</td>\n",
              "      <td>fresh</td>\n",
              "      <td>...</td>\n",
              "      <td>fresh</td>\n",
              "      <td>woody</td>\n",
              "      <td>vanilla</td>\n",
              "      <td>dark</td>\n",
              "      <td>sweet</td>\n",
              "      <td>sweet</td>\n",
              "      <td>sweet</td>\n",
              "      <td>unisex</td>\n",
              "      <td>tonka</td>\n",
              "      <td>summer</td>\n",
              "    </tr>\n",
              "    <tr>\n",
              "      <th>3</th>\n",
              "      <td>unisex</td>\n",
              "      <td>vanilla</td>\n",
              "      <td>spicy</td>\n",
              "      <td>woody</td>\n",
              "      <td>bitter</td>\n",
              "      <td>warm</td>\n",
              "      <td>masculine</td>\n",
              "      <td>masculine</td>\n",
              "      <td>lavender</td>\n",
              "      <td>wood</td>\n",
              "      <td>...</td>\n",
              "      <td>citrus</td>\n",
              "      <td>fresh</td>\n",
              "      <td>feminine</td>\n",
              "      <td>woody</td>\n",
              "      <td>green</td>\n",
              "      <td>sweetness</td>\n",
              "      <td>spicy</td>\n",
              "      <td>masculine</td>\n",
              "      <td>cherry</td>\n",
              "      <td>creamy</td>\n",
              "    </tr>\n",
              "    <tr>\n",
              "      <th>4</th>\n",
              "      <td>warm</td>\n",
              "      <td>spicy</td>\n",
              "      <td>warm</td>\n",
              "      <td>warm</td>\n",
              "      <td>vanilla</td>\n",
              "      <td>woody</td>\n",
              "      <td>dark</td>\n",
              "      <td>fresh</td>\n",
              "      <td>vanilla</td>\n",
              "      <td>creed</td>\n",
              "      <td>...</td>\n",
              "      <td>summer</td>\n",
              "      <td>aquatic</td>\n",
              "      <td>synthetic</td>\n",
              "      <td>wood</td>\n",
              "      <td>vanilla</td>\n",
              "      <td>vanilla</td>\n",
              "      <td>feminine</td>\n",
              "      <td>vanilla</td>\n",
              "      <td>powdery</td>\n",
              "      <td>jasmine</td>\n",
              "    </tr>\n",
              "    <tr>\n",
              "      <th>5</th>\n",
              "      <td>sweetness</td>\n",
              "      <td>unisex</td>\n",
              "      <td>tobacco.</td>\n",
              "      <td>wood</td>\n",
              "      <td>warm</td>\n",
              "      <td>floral</td>\n",
              "      <td>patchouli</td>\n",
              "      <td>spicy</td>\n",
              "      <td>fresh</td>\n",
              "      <td>sweet</td>\n",
              "      <td>...</td>\n",
              "      <td>sweet</td>\n",
              "      <td>sweet</td>\n",
              "      <td>incense</td>\n",
              "      <td>spicy</td>\n",
              "      <td>creamy</td>\n",
              "      <td>smoky</td>\n",
              "      <td>wood</td>\n",
              "      <td>sweet</td>\n",
              "      <td>warm</td>\n",
              "      <td>white floral</td>\n",
              "    </tr>\n",
              "    <tr>\n",
              "      <th>6</th>\n",
              "      <td>cloud</td>\n",
              "      <td>woody</td>\n",
              "      <td>vanilla.</td>\n",
              "      <td>sweetness</td>\n",
              "      <td>sweetness</td>\n",
              "      <td>fresh</td>\n",
              "      <td>unisex</td>\n",
              "      <td>money</td>\n",
              "      <td>citrus</td>\n",
              "      <td>vanilla</td>\n",
              "      <td>...</td>\n",
              "      <td>juniper</td>\n",
              "      <td>powdery</td>\n",
              "      <td>super</td>\n",
              "      <td>mature</td>\n",
              "      <td>floral</td>\n",
              "      <td>masculine</td>\n",
              "      <td>warm</td>\n",
              "      <td>halfeti</td>\n",
              "      <td>powder</td>\n",
              "      <td>floral</td>\n",
              "    </tr>\n",
              "    <tr>\n",
              "      <th>7</th>\n",
              "      <td>floral</td>\n",
              "      <td>praline</td>\n",
              "      <td>sweetness</td>\n",
              "      <td>cozy</td>\n",
              "      <td>feminine</td>\n",
              "      <td>lavender</td>\n",
              "      <td>warm</td>\n",
              "      <td>vanilla</td>\n",
              "      <td>tonka</td>\n",
              "      <td>synthetic</td>\n",
              "      <td>...</td>\n",
              "      <td>floral</td>\n",
              "      <td>wood</td>\n",
              "      <td>warm</td>\n",
              "      <td>masculine</td>\n",
              "      <td>white</td>\n",
              "      <td>wood</td>\n",
              "      <td>powdery</td>\n",
              "      <td>complex</td>\n",
              "      <td>spicy</td>\n",
              "      <td>tuberose</td>\n",
              "    </tr>\n",
              "    <tr>\n",
              "      <th>8</th>\n",
              "      <td>masculine</td>\n",
              "      <td>masculine</td>\n",
              "      <td>unisex</td>\n",
              "      <td>vanilla.</td>\n",
              "      <td>dark</td>\n",
              "      <td>vanilla.</td>\n",
              "      <td>leathery</td>\n",
              "      <td>soft</td>\n",
              "      <td>unisex</td>\n",
              "      <td>magnetic</td>\n",
              "      <td>...</td>\n",
              "      <td>woody</td>\n",
              "      <td>green</td>\n",
              "      <td>sweet.</td>\n",
              "      <td>patchouli</td>\n",
              "      <td>fresh</td>\n",
              "      <td>complex</td>\n",
              "      <td>soft</td>\n",
              "      <td>wood</td>\n",
              "      <td>tonka bean</td>\n",
              "      <td>white</td>\n",
              "    </tr>\n",
              "    <tr>\n",
              "      <th>9</th>\n",
              "      <td>light</td>\n",
              "      <td>sweetness</td>\n",
              "      <td>vanille</td>\n",
              "      <td>masculine</td>\n",
              "      <td>patchouli</td>\n",
              "      <td>wood</td>\n",
              "      <td>feminine</td>\n",
              "      <td>tobacco</td>\n",
              "      <td>warm</td>\n",
              "      <td>intense</td>\n",
              "      <td>...</td>\n",
              "      <td>cedar</td>\n",
              "      <td>cedar</td>\n",
              "      <td>elegant</td>\n",
              "      <td>coffee</td>\n",
              "      <td>summer</td>\n",
              "      <td>mysterious</td>\n",
              "      <td>unisex</td>\n",
              "      <td>fresh</td>\n",
              "      <td>lavender</td>\n",
              "      <td>warm</td>\n",
              "    </tr>\n",
              "  </tbody>\n",
              "</table>\n",
              "<p>12 rows × 144 columns</p>\n",
              "</div>\n",
              "      <button class=\"colab-df-convert\" onclick=\"convertToInteractive('df-3946264d-7627-4561-b795-9ee45f3059c8')\"\n",
              "              title=\"Convert this dataframe to an interactive table.\"\n",
              "              style=\"display:none;\">\n",
              "        \n",
              "  <svg xmlns=\"http://www.w3.org/2000/svg\" height=\"24px\"viewBox=\"0 0 24 24\"\n",
              "       width=\"24px\">\n",
              "    <path d=\"M0 0h24v24H0V0z\" fill=\"none\"/>\n",
              "    <path d=\"M18.56 5.44l.94 2.06.94-2.06 2.06-.94-2.06-.94-.94-2.06-.94 2.06-2.06.94zm-11 1L8.5 8.5l.94-2.06 2.06-.94-2.06-.94L8.5 2.5l-.94 2.06-2.06.94zm10 10l.94 2.06.94-2.06 2.06-.94-2.06-.94-.94-2.06-.94 2.06-2.06.94z\"/><path d=\"M17.41 7.96l-1.37-1.37c-.4-.4-.92-.59-1.43-.59-.52 0-1.04.2-1.43.59L10.3 9.45l-7.72 7.72c-.78.78-.78 2.05 0 2.83L4 21.41c.39.39.9.59 1.41.59.51 0 1.02-.2 1.41-.59l7.78-7.78 2.81-2.81c.8-.78.8-2.07 0-2.86zM5.41 20L4 18.59l7.72-7.72 1.47 1.35L5.41 20z\"/>\n",
              "  </svg>\n",
              "      </button>\n",
              "      \n",
              "  <style>\n",
              "    .colab-df-container {\n",
              "      display:flex;\n",
              "      flex-wrap:wrap;\n",
              "      gap: 12px;\n",
              "    }\n",
              "\n",
              "    .colab-df-convert {\n",
              "      background-color: #E8F0FE;\n",
              "      border: none;\n",
              "      border-radius: 50%;\n",
              "      cursor: pointer;\n",
              "      display: none;\n",
              "      fill: #1967D2;\n",
              "      height: 32px;\n",
              "      padding: 0 0 0 0;\n",
              "      width: 32px;\n",
              "    }\n",
              "\n",
              "    .colab-df-convert:hover {\n",
              "      background-color: #E2EBFA;\n",
              "      box-shadow: 0px 1px 2px rgba(60, 64, 67, 0.3), 0px 1px 3px 1px rgba(60, 64, 67, 0.15);\n",
              "      fill: #174EA6;\n",
              "    }\n",
              "\n",
              "    [theme=dark] .colab-df-convert {\n",
              "      background-color: #3B4455;\n",
              "      fill: #D2E3FC;\n",
              "    }\n",
              "\n",
              "    [theme=dark] .colab-df-convert:hover {\n",
              "      background-color: #434B5C;\n",
              "      box-shadow: 0px 1px 3px 1px rgba(0, 0, 0, 0.15);\n",
              "      filter: drop-shadow(0px 1px 2px rgba(0, 0, 0, 0.3));\n",
              "      fill: #FFFFFF;\n",
              "    }\n",
              "  </style>\n",
              "\n",
              "      <script>\n",
              "        const buttonEl =\n",
              "          document.querySelector('#df-3946264d-7627-4561-b795-9ee45f3059c8 button.colab-df-convert');\n",
              "        buttonEl.style.display =\n",
              "          google.colab.kernel.accessAllowed ? 'block' : 'none';\n",
              "\n",
              "        async function convertToInteractive(key) {\n",
              "          const element = document.querySelector('#df-3946264d-7627-4561-b795-9ee45f3059c8');\n",
              "          const dataTable =\n",
              "            await google.colab.kernel.invokeFunction('convertToInteractive',\n",
              "                                                     [key], {});\n",
              "          if (!dataTable) return;\n",
              "\n",
              "          const docLinkHtml = 'Like what you see? Visit the ' +\n",
              "            '<a target=\"_blank\" href=https://colab.research.google.com/notebooks/data_table.ipynb>data table notebook</a>'\n",
              "            + ' to learn more about interactive tables.';\n",
              "          element.innerHTML = '';\n",
              "          dataTable['output_type'] = 'display_data';\n",
              "          await google.colab.output.renderOutput(dataTable, element);\n",
              "          const docLink = document.createElement('div');\n",
              "          docLink.innerHTML = docLinkHtml;\n",
              "          element.appendChild(docLink);\n",
              "        }\n",
              "      </script>\n",
              "    </div>\n",
              "  </div>\n",
              "  "
            ]
          },
          "metadata": {},
          "execution_count": 56
        }
      ]
    },
    {
      "cell_type": "code",
      "source": [
        "keyword_extracted.to_csv(\"keyword_by_NER.csv\")"
      ],
      "metadata": {
        "id": "P3lXAfCmgCXj"
      },
      "execution_count": 57,
      "outputs": []
    }
  ]
}
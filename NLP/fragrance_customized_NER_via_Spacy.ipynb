{
  "nbformat": 4,
  "nbformat_minor": 0,
  "metadata": {
    "colab": {
      "provenance": []
    },
    "kernelspec": {
      "name": "python3",
      "display_name": "Python 3"
    },
    "language_info": {
      "name": "python"
    }
  },
  "cells": [
    {
      "cell_type": "code",
      "execution_count": 40,
      "metadata": {
        "id": "sGroMhGfQw-d"
      },
      "outputs": [],
      "source": [
        "!pip install -U spacy -q"
      ]
    },
    {
      "cell_type": "code",
      "source": [
        "!python -m spacy info"
      ],
      "metadata": {
        "colab": {
          "base_uri": "https://localhost:8080/"
        },
        "id": "qlXmdEGCQ5gH",
        "outputId": "9892504c-d681-4f72-c92c-5c4b6dbf6ab0"
      },
      "execution_count": 41,
      "outputs": [
        {
          "output_type": "stream",
          "name": "stdout",
          "text": [
            "/usr/local/lib/python3.8/dist-packages/torch/cuda/__init__.py:497: UserWarning: Can't initialize NVML\n",
            "  warnings.warn(\"Can't initialize NVML\")\n",
            "2023-02-22 07:32:14.551335: W tensorflow/compiler/xla/stream_executor/platform/default/dso_loader.cc:64] Could not load dynamic library 'libnvinfer.so.7'; dlerror: libnvinfer.so.7: cannot open shared object file: No such file or directory; LD_LIBRARY_PATH: /usr/local/nvidia/lib:/usr/local/nvidia/lib64\n",
            "2023-02-22 07:32:14.551526: W tensorflow/compiler/xla/stream_executor/platform/default/dso_loader.cc:64] Could not load dynamic library 'libnvinfer_plugin.so.7'; dlerror: libnvinfer_plugin.so.7: cannot open shared object file: No such file or directory; LD_LIBRARY_PATH: /usr/local/nvidia/lib:/usr/local/nvidia/lib64\n",
            "2023-02-22 07:32:14.551558: W tensorflow/compiler/tf2tensorrt/utils/py_utils.cc:38] TF-TRT Warning: Cannot dlopen some TensorRT libraries. If you would like to use Nvidia GPU with TensorRT, please make sure the missing libraries mentioned above are installed properly.\n",
            "2023-02-22 07:32:16.760267: E tensorflow/compiler/xla/stream_executor/cuda/cuda_driver.cc:267] failed call to cuInit: CUDA_ERROR_NO_DEVICE: no CUDA-capable device is detected\n",
            "/usr/local/lib/python3.8/dist-packages/spacy/util.py:877: UserWarning: [W095] Model 'en_core_web_sm' (3.4.1) was trained with spaCy v3.4 and may not be 100% compatible with the current version (3.5.0). If you see errors or degraded performance, download a newer compatible model or retrain your custom model with the current spaCy version. For more details and available updates, run: python -m spacy validate\n",
            "  warnings.warn(warn_msg)\n",
            "\u001b[1m\n",
            "============================== Info about spaCy ==============================\u001b[0m\n",
            "\n",
            "spaCy version    3.5.0                         \n",
            "Location         /usr/local/lib/python3.8/dist-packages/spacy\n",
            "Platform         Linux-5.10.147+-x86_64-with-glibc2.29\n",
            "Python version   3.8.10                        \n",
            "Pipelines        en_core_web_sm (3.4.1)        \n",
            "\n"
          ]
        }
      ]
    },
    {
      "cell_type": "code",
      "source": [
        "import json\n",
        "\n",
        "from google.colab import drive\n",
        "drive.mount('/content/drive')\n",
        "\n",
        "import pandas as pd\n",
        "import numpy as np"
      ],
      "metadata": {
        "colab": {
          "base_uri": "https://localhost:8080/"
        },
        "id": "bUhySozKRObX",
        "outputId": "ad548c73-c525-469b-9e1d-4e5aa76f0111"
      },
      "execution_count": 42,
      "outputs": [
        {
          "output_type": "stream",
          "name": "stdout",
          "text": [
            "Drive already mounted at /content/drive; to attempt to forcibly remount, call drive.mount(\"/content/drive\", force_remount=True).\n"
          ]
        }
      ]
    },
    {
      "cell_type": "code",
      "source": [
        "file_path = '/content/drive/MyDrive/23SS_NLP/perfume/annotations_5.json'\n",
        "\n",
        "# with open(file_path, 'r')as f:\n",
        "#   data = json.load(f)\n",
        "\n",
        "f = open(file_path, encoding='UTF-8')\n",
        "data = json.loads(f.read())"
      ],
      "metadata": {
        "id": "IePo-Hv_RwHp"
      },
      "execution_count": 43,
      "outputs": []
    },
    {
      "cell_type": "code",
      "source": [
        "import spacy\n",
        "from spacy.tokens import DocBin\n",
        "from tqdm import tqdm\n",
        "\n",
        "nlp = spacy.blank(\"en\")\n",
        "db = DocBin()"
      ],
      "metadata": {
        "id": "UZl4htmTqs30"
      },
      "execution_count": 44,
      "outputs": []
    },
    {
      "cell_type": "code",
      "source": [
        "data"
      ],
      "metadata": {
        "colab": {
          "base_uri": "https://localhost:8080/"
        },
        "id": "sS_7EI5OrNsS",
        "outputId": "ee6425ce-68b7-4182-f5c6-5cf0646445a6"
      },
      "execution_count": 45,
      "outputs": [
        {
          "output_type": "execute_result",
          "data": {
            "text/plain": [
              "{'classes': ['FRAGRANCE'],\n",
              " 'annotations': [['Has anyone figured out what that citrus aromatic chord at the top is  I think maybe bergamot and coriander  ',\n",
              "   {'entities': [[33, 39, 'FRAGRANCE'],\n",
              "     [40, 48, 'FRAGRANCE'],\n",
              "     [84, 92, 'FRAGRANCE'],\n",
              "     [97, 106, 'FRAGRANCE']]}],\n",
              "  ['Has anyone figured out what that citrus aromatic chord at the top is  I think maybe bergamot and coriander  ',\n",
              "   {'entities': [[33, 39, 'FRAGRANCE'],\n",
              "     [40, 48, 'FRAGRANCE'],\n",
              "     [84, 92, 'FRAGRANCE'],\n",
              "     [97, 106, 'FRAGRANCE']]}],\n",
              "  [' ', {'entities': []}],\n",
              "  ['Has anyone figured out what that citrus aromatic chord at the top is  I think maybe bergamot and coriander  ',\n",
              "   {'entities': [[33, 39, 'FRAGRANCE'],\n",
              "     [40, 48, 'FRAGRANCE'],\n",
              "     [84, 92, 'FRAGRANCE'],\n",
              "     [97, 106, 'FRAGRANCE']]}],\n",
              "  [' I LOVE this  this scent brings me so much comfort and happiness whenever I wear it  I really like the  plum preserve  smell its so addicting  I cant keep sniffing myself ',\n",
              "   {'entities': [[104, 108, 'FRAGRANCE']]}],\n",
              "  [' On first spray  there s an astringent chemical odor   a citrus gone wrong  Unfortunately  this fragrance is similar as Jo Malone s other fragrances   there s a note out of harmony  ',\n",
              "   {'entities': [[57, 63, 'FRAGRANCE']]}],\n",
              "  [' Ebony Wood is my fragrance of choice when I want to channel Kiana Daniele s Cleves from Six The Musical  ',\n",
              "   {'entities': []}],\n",
              "  [' blind bought for the hype  boy  what a disappointment  100  old man cologne  boring  scrubber  this stinks  ',\n",
              "   {'entities': []}],\n",
              "  [' Warmth and spices  One of Zara s recent masterpieces  You can definitely feel the cloves and the ebony wood  A great winter autumn perfume  Quite a statement one  Could be worn both by men and women  ',\n",
              "   {'entities': [[1, 7, 'FRAGRANCE'],\n",
              "     [12, 18, 'FRAGRANCE'],\n",
              "     [83, 89, 'FRAGRANCE']]}],\n",
              "  [' No matter like this or not  This is exactly the scent of Japanese funeral ceremony at very old temple  ',\n",
              "   {'entities': [[96, 102, 'FRAGRANCE']]}],\n",
              "  ['I was so Surprised that Jo knows Japanese funeral  ', {'entities': []}],\n",
              "  ['I don t know when to ware this fragrance   ', {'entities': []}],\n",
              "  [' Yes old man   I said it  Smells grandpa  ish  My husband said smells like an old man and don t wear this again    it s not sexy  If your man tells you it stinks    then listen Linda  No  ',\n",
              "   {'entities': [[33, 40, 'FRAGRANCE'], [78, 85, 'FRAGRANCE']]}],\n",
              "  [' One thing   ', {'entities': []}],\n",
              "  ['Angostura bitters  This smells EXACTLY like angostura bitters   ',\n",
              "   {'entities': [[44, 61, 'FRAGRANCE']]}],\n",
              "  ['I sprayed it today expecting an oriental woody scent and I got so confused when my wrist started smelling like a zombie cocktail   ',\n",
              "   {'entities': [[32, 40, 'FRAGRANCE'],\n",
              "     [41, 46, 'FRAGRANCE'],\n",
              "     [113, 128, 'FRAGRANCE']]}],\n",
              "  ['Not a bad scent but I m not sure I would want to smell that way  ',\n",
              "   {'entities': []}],\n",
              "  [' This scent reminds me of christmas  Its a soft sweet  spicy and slightly boozy treat  I dont get much of the wood note on my skin but thats ok  I do get it but its not prominent  Its a compliment getter and I do understand the hype around this one  But what I dont understand is the old man scent that some say   if old men smell like this   sign me up for an retirement home so I can sit between them all day because this scent is a big love for me  ',\n",
              "   {'entities': [[43, 47, 'FRAGRANCE'],\n",
              "     [48, 53, 'FRAGRANCE'],\n",
              "     [55, 60, 'FRAGRANCE'],\n",
              "     [74, 79, 'FRAGRANCE'],\n",
              "     [110, 114, 'FRAGRANCE'],\n",
              "     [284, 291, 'FRAGRANCE']]}],\n",
              "  [' it s a sweet  spicy and a bit woody scent  On me  this one lasts for hours  above moderate  with a moderate projection  The price is super affordable and it doesn t smell cheap at all  Try it  ',\n",
              "   {'entities': [[8, 13, 'FRAGRANCE'],\n",
              "     [15, 20, 'FRAGRANCE'],\n",
              "     [31, 36, 'FRAGRANCE']]}],\n",
              "  [' One of my most complimented scents  On me it lasts for hours with a more than decent sillage  ',\n",
              "   {'entities': []}],\n",
              "  [' This is indeed spicy  woody  and a bit sweet  It s a pleasant scent and a great base layer for other fragrances  If you re sensitive to strong perfumes you might need to give this one a few minutes to settle down but after they dry down it sits pretty close to the skin  Basic but nice and you can t beat the price  I m not mad at it  ',\n",
              "   {'entities': [[16, 21, 'FRAGRANCE'],\n",
              "     [23, 28, 'FRAGRANCE'],\n",
              "     [40, 45, 'FRAGRANCE']]}],\n",
              "  [' There was nothing special about this to me  I have over 50 fragrances in my collection and this one is not a standout by any means  It s average at best  It s a basic woody scent and doesn t last long either   maybe 2 3 hours on my skin  Perhaps it last longer and projects better when sprayed on clothing  I didn t like it enough to keep it so I m returning exchanging it  ',\n",
              "   {'entities': [[168, 173, 'FRAGRANCE']]}],\n",
              "  [' So far  this is okay to me  There was so much hype surrounding it  I had to try it  Upon first spraying it comes off very masculine  It takes awhile for it to dry down and get a bit sweeter  spicy and unisex  I don t hate it but not sure its a love  I might like this better on a man  ',\n",
              "   {'entities': [[123, 132, 'FRAGRANCE'],\n",
              "     [183, 190, 'FRAGRANCE'],\n",
              "     [192, 197, 'FRAGRANCE']]}],\n",
              "  [' I really can t understand the hype around this  For me this is  to avoid  kinda fragrance  Longevity sucks no sillage at all  And after a while it becomes very screechy  Never to go near it  All i can smell is a sour herhal tea  ',\n",
              "   {'entities': [[213, 228, 'FRAGRANCE']]}],\n",
              "  [' Lovely fragrance ', {'entities': [[1, 7, 'FRAGRANCE']]}],\n",
              "  ['It s woody and sweet and spicy  In this order ',\n",
              "   {'entities': [[5, 10, 'FRAGRANCE'],\n",
              "     [15, 20, 'FRAGRANCE'],\n",
              "     [25, 30, 'FRAGRANCE']]}],\n",
              "  ['A daily scent ', {'entities': [[2, 7, 'FRAGRANCE']]}],\n",
              "  ['Very elegant and decent  Nothing edgy or flamboyant which often becomes unpleasant ',\n",
              "   {'entities': [[5, 12, 'FRAGRANCE'],\n",
              "     [17, 23, 'FRAGRANCE'],\n",
              "     [33, 37, 'FRAGRANCE'],\n",
              "     [41, 51, 'FRAGRANCE']]}],\n",
              "  ['Glad Zara offers such wonderful affordable fragrances for young men  ',\n",
              "   {'entities': [[22, 31, 'FRAGRANCE']]}],\n",
              "  [' I find this very disappointing  Mostly cloves  but sour  bitter cloves  not the warm kind  Nothing woody about it  Pointless  ',\n",
              "   {'entities': [[40, 46, 'FRAGRANCE'],\n",
              "     [52, 56, 'FRAGRANCE'],\n",
              "     [58, 64, 'FRAGRANCE'],\n",
              "     [65, 71, 'FRAGRANCE'],\n",
              "     [81, 85, 'FRAGRANCE'],\n",
              "     [100, 105, 'FRAGRANCE']]}],\n",
              "  [' Ebony wood smells really amazing  Dark and clovey  but also sweet  Not at all cloying  However  I layer this a lot  I don t detect any spiceness from the pink pepper  However  I have been layering Ebony Wood with Lattafa  Raghba Wood Intense  and let me tell you it smells intoxicating layer together  ',\n",
              "   {'entities': [[26, 33, 'FRAGRANCE'],\n",
              "     [35, 39, 'FRAGRANCE'],\n",
              "     [44, 50, 'FRAGRANCE'],\n",
              "     [61, 66, 'FRAGRANCE'],\n",
              "     [79, 86, 'FRAGRANCE'],\n",
              "     [136, 145, 'FRAGRANCE'],\n",
              "     [274, 286, 'FRAGRANCE']]}],\n",
              "  ['I ve got over 20 compliments in one week alone wearing Ebony wood with Raghba Wood Intense  ',\n",
              "   {'entities': []}],\n",
              "  [' This smells like the more unisex version of Spicebomb  The opening has the same spicy vibe  It takes on a more creamy sweetness during the drydown  A good alternative for those who like Costume National Homme and Spicebomb style perfumes  ',\n",
              "   {'entities': [[81, 86, 'FRAGRANCE'],\n",
              "     [112, 118, 'FRAGRANCE'],\n",
              "     [119, 128, 'FRAGRANCE']]}],\n",
              "  [' I m not a Zara or Jo Malone fan  but I like this  Very woody for sure like a dark forest  But there s something sweet too  I wear this a lot but under other fragrances like Vanilla 28 and fruity florals I m trying to use up that I can t stand on their own  Like Versace bright crystal and Jean Paul la belle  ',\n",
              "   {'entities': [[56, 61, 'FRAGRANCE'],\n",
              "     [78, 89, 'FRAGRANCE'],\n",
              "     [113, 118, 'FRAGRANCE'],\n",
              "     [189, 195, 'FRAGRANCE'],\n",
              "     [196, 203, 'FRAGRANCE']]}],\n",
              "  [' For the price point  I don t think it gets much better than this  My favorite zara scent  It s sweet woody spicy and so fresh  Elegant but not aging  Soft but edgy  ',\n",
              "   {'entities': [[96, 101, 'FRAGRANCE'],\n",
              "     [102, 107, 'FRAGRANCE'],\n",
              "     [108, 113, 'FRAGRANCE'],\n",
              "     [151, 155, 'FRAGRANCE'],\n",
              "     [160, 164, 'FRAGRANCE']]}],\n",
              "  [' This smells almost identical to jo malone lime and basil which i detest and gives me a migraine tjis feels like a more complex version   this is literally lime and basil with added wood and spice which makes it tolerable   however there is something sharp in this fragrance which i cant vibe with ',\n",
              "   {'entities': [[43, 47, 'FRAGRANCE'],\n",
              "     [52, 57, 'FRAGRANCE'],\n",
              "     [58, 63, 'FRAGRANCE'],\n",
              "     [156, 160, 'FRAGRANCE'],\n",
              "     [165, 170, 'FRAGRANCE'],\n",
              "     [182, 186, 'FRAGRANCE'],\n",
              "     [191, 196, 'FRAGRANCE'],\n",
              "     [251, 256, 'FRAGRANCE']]}],\n",
              "  [' I love this so much  It s elegant  magical  and sexy  It smells like Damon vampire diaries  lol ',\n",
              "   {'entities': [[70, 91, 'FRAGRANCE']]}],\n",
              "  [' To me this is candle scent not a perfume  l like the scent but don t want it on my skin  ',\n",
              "   {'entities': [[15, 21, 'FRAGRANCE']]}],\n",
              "  ['Woddy  peppery  but not in a way l would like perfume to be  Tried it multiple times  as l see good reviews but it s just not for me      don t blind buy it  ',\n",
              "   {'entities': [[0, 5, 'FRAGRANCE'], [7, 14, 'FRAGRANCE']]}],\n",
              "  [' I love it but I will prefer my husband to wear this  longevity is great too am not a fun of these scents on me ',\n",
              "   {'entities': []}],\n",
              "  [' First spray smells extremely masculine and maybe too much like after shave  After it settles I love the smell of cloves  Super cozy and giving cozy holiday  ',\n",
              "   {'entities': [[30, 39, 'FRAGRANCE'],\n",
              "     [64, 75, 'FRAGRANCE'],\n",
              "     [114, 120, 'FRAGRANCE'],\n",
              "     [128, 132, 'FRAGRANCE']]}],\n",
              "  ['Purchased for cozy nights at home  In store there were so many smells going on I thought this was a softer scent  Def prefer the rich warm addictive scent  ',\n",
              "   {'entities': [[100, 106, 'FRAGRANCE'],\n",
              "     [129, 133, 'FRAGRANCE'],\n",
              "     [134, 138, 'FRAGRANCE'],\n",
              "     [139, 148, 'FRAGRANCE']]}],\n",
              "  [' Boring woody spicy fragrance  Opens up spicy  dries down to an ebony forward fragrance  almost like the smell of freshly chopped logs of wood with spices in the background  Uninspiring to say the least  ',\n",
              "   {'entities': [[8, 13, 'FRAGRANCE'],\n",
              "     [14, 19, 'FRAGRANCE'],\n",
              "     [40, 45, 'FRAGRANCE'],\n",
              "     [64, 69, 'FRAGRANCE'],\n",
              "     [114, 142, 'FRAGRANCE'],\n",
              "     [148, 154, 'FRAGRANCE']]}],\n",
              "  [' Absolutely love it  I m obsessed  Can t wait to layer it with Tom ford tobacco vanille  ',\n",
              "   {'entities': []}],\n",
              "  [' This one grew in me  It has a gross black licorice opening  but once it dries down it is a nice sweet spicy perfume  Leans masculine but I as a woman can still wear it  ',\n",
              "   {'entities': [[43, 51, 'FRAGRANCE'],\n",
              "     [97, 102, 'FRAGRANCE'],\n",
              "     [103, 108, 'FRAGRANCE'],\n",
              "     [124, 133, 'FRAGRANCE']]}],\n",
              "  [' Im in love I ve had this for a while and been savorying it because I don t shop at Zara very often but I m going to have to pick this up again  This lasts and lasts surprisingly well for a joe Malone fragrance  I put this on for work around 10pm and at 8am I can still smell it  Mind you I spray very heavy and I layered it with ',\n",
              "   {'entities': []}],\n",
              "  ['Elle Saab Le parfum  omg heaven  ', {'entities': []}],\n",
              "  [' Nice  Warm  sweet  WAXY  musky  sexy  Unisex  Dense  Projects but only OK longevity  Doesn t work for me in LA but would wear it in a more humid  cooler climate ',\n",
              "   {'entities': [[7, 11, 'FRAGRANCE'],\n",
              "     [13, 18, 'FRAGRANCE'],\n",
              "     [20, 24, 'FRAGRANCE'],\n",
              "     [26, 31, 'FRAGRANCE']]}],\n",
              "  [' This smells like a candle or a home goods store which I guess is accurate because of the clove and ebony  I feel like there s some kind of citrus note in here  maybe bergamot  This one actually has high sillage which would be a plus for me if I liked the smell a little more  I m not super into spicy scents and the clove overpowers all the other notes  ',\n",
              "   {'entities': [[20, 26, 'FRAGRANCE'],\n",
              "     [32, 48, 'FRAGRANCE'],\n",
              "     [90, 95, 'FRAGRANCE'],\n",
              "     [100, 105, 'FRAGRANCE'],\n",
              "     [140, 146, 'FRAGRANCE'],\n",
              "     [167, 175, 'FRAGRANCE'],\n",
              "     [296, 301, 'FRAGRANCE'],\n",
              "     [317, 322, 'FRAGRANCE']]}],\n",
              "  [' This scent smells like pickle juice to me  I blind bought  but sold immediately  Not for me  ',\n",
              "   {'entities': [[24, 36, 'FRAGRANCE']]}],\n",
              "  [' I do not understand how this is so popular  On me at least  this is men s aftershave  It opens up very citric and sharp and this remains for most of the life of the fragrance  I get absolutely no sweetness or woody elements  maybe very slight and at the very end   I tried to give this to my husband but he also found it too sharp and barbershop like for his taste  ',\n",
              "   {'entities': [[69, 85, 'FRAGRANCE'],\n",
              "     [104, 110, 'FRAGRANCE'],\n",
              "     [115, 120, 'FRAGRANCE'],\n",
              "     [197, 206, 'FRAGRANCE'],\n",
              "     [210, 215, 'FRAGRANCE'],\n",
              "     [326, 331, 'FRAGRANCE'],\n",
              "     [336, 351, 'FRAGRANCE']]}],\n",
              "  [' My mum gave me a bottle of this she bought but doesn t like   I can t get enough of it   Even though its mid summer I m wearing it  Its just heavenly  I can t really describe it apart from spicy and resinous ',\n",
              "   {'entities': [[190, 195, 'FRAGRANCE'], [200, 208, 'FRAGRANCE']]}],\n",
              "  [' Very unisex spicy fragrance ', {'entities': [[13, 18, 'FRAGRANCE']]}],\n",
              "  ['Smells almost like potpurri but with some extra woody note ',\n",
              "   {'entities': [[19, 27, 'FRAGRANCE'], [48, 53, 'FRAGRANCE']]}],\n",
              "  ['Fall fragrance for sure  ', {'entities': [[0, 4, 'FRAGRANCE']]}],\n",
              "  [' Disappointing  Straight up men s cologne  Could be Boss or something  Smell anise  I mean  could be great for a man  but not my preference  not unique  and not really unisex  Energetically New York is more what I was expecting  but that s light and straight up Santal 33  Was hoping for something more woody  cozy  and deep with this  ',\n",
              "   {'entities': [[77, 82, 'FRAGRANCE'],\n",
              "     [303, 308, 'FRAGRANCE'],\n",
              "     [310, 314, 'FRAGRANCE']]}],\n",
              "  [' At first when I tried it in Zara I didn t like it  because it was too much and too masculine for me  but something clicked and went back to buy it  No regrets  this is one of my favourites currently  and I ve got a ton of compliments   ',\n",
              "   {'entities': [[84, 93, 'FRAGRANCE']]}],\n",
              "  ['It is very woody and spicy at the beginning  but after hours  in my opinion it changes a lot  and it smells sweet  like vanilla  ',\n",
              "   {'entities': [[11, 16, 'FRAGRANCE'],\n",
              "     [21, 26, 'FRAGRANCE'],\n",
              "     [108, 113, 'FRAGRANCE'],\n",
              "     [120, 127, 'FRAGRANCE']]}],\n",
              "  [' I love all the scents in the JM Zara collection set but unfortunately not on me so I use them all as roof fresheners  ',\n",
              "   {'entities': []}],\n",
              "  ['I also like to spray my pillowcase with Ebony wood very comforting smell',\n",
              "   {'entities': []}],\n",
              "  ['  one spray is enough   ', {'entities': []}],\n",
              "  [' I absolutely love this perfume on it s own as well as layered with Vanilla Absolu by Montale  very woody and sexy  I had a roll on  used it yesterday night and could smell it till today afternoon  lasts very long on me  Totally performs more than it costs imo  bought a full bottle today  If i smelt this on someone i d stop them on the street to ask what it is  ',\n",
              "   {'entities': [[100, 105, 'FRAGRANCE']]}],\n",
              "  [' It s a no  It has this weird sweetness  Do not blind buy this ',\n",
              "   {'entities': [[30, 39, 'FRAGRANCE']]}],\n",
              "  [' Sweet  spicy  smoky goodness  Very long lasting  but also a bit powdery in the dry down  Reminds me of a sweeter version of Jo Malone s oud   bergamot   ',\n",
              "   {'entities': [[1, 6, 'FRAGRANCE'],\n",
              "     [8, 13, 'FRAGRANCE'],\n",
              "     [15, 20, 'FRAGRANCE'],\n",
              "     [106, 113, 'FRAGRANCE']]}],\n",
              "  ['Great stuff  definitely niche quality  ', {'entities': []}],\n",
              "  [' This is absolutely gorgeous  but if you re seeking a woody fragrance  look elsewhere   ',\n",
              "   {'entities': [[54, 59, 'FRAGRANCE']]}],\n",
              "  ['It s spicy and resinous  There is no wood in this  ',\n",
              "   {'entities': [[5, 10, 'FRAGRANCE'], [15, 23, 'FRAGRANCE']]}],\n",
              "  ['The fuzzy warm note is coumarin   Ebony wood  is a fantasy accord of aromachemicals   ',\n",
              "   {'entities': [[4, 9, 'FRAGRANCE'], [10, 14, 'FRAGRANCE']]}],\n",
              "  ['This is likely to be more popular with those who like sweet  not sickly sweet  and spicy perfumes  ',\n",
              "   {'entities': [[54, 59, 'FRAGRANCE'],\n",
              "     [72, 77, 'FRAGRANCE'],\n",
              "     [83, 88, 'FRAGRANCE']]}],\n",
              "  ['Great longevity and projection  on me  ', {'entities': []}],\n",
              "  [' This smells like a wooden cigar humidor mixed with sweet fruit candy  Not feeling it  ',\n",
              "   {'entities': [[20, 26, 'FRAGRANCE'],\n",
              "     [27, 32, 'FRAGRANCE'],\n",
              "     [33, 40, 'FRAGRANCE'],\n",
              "     [52, 57, 'FRAGRANCE'],\n",
              "     [58, 63, 'FRAGRANCE'],\n",
              "     [64, 69, 'FRAGRANCE']]}],\n",
              "  [' I really thought I d love this one based on the notes but I m not a fan  I can understand why it is so popular though  Just too sweet for me  was hoping for something a bit more woody based on the name ',\n",
              "   {'entities': [[179, 184, 'FRAGRANCE']]}],\n",
              "  [' Great wintery scent  almost edible because of the cloves  Longevity is good  pricepoint is amazing  Reminds me of gingerbread and wooden sheds  Not for spring summer  ',\n",
              "   {'entities': [[7, 14, 'FRAGRANCE'],\n",
              "     [51, 57, 'FRAGRANCE'],\n",
              "     [115, 126, 'FRAGRANCE']]}],\n",
              "  [' This is incredible  I m honestly tempted to buy 20 more bottles so that I never run out in case it s discontinued  It smells unlike any other perfume I ve ever had and instantly makes me happy  It somehow brings back memories of camping with family and friends in the woods  which are some of my best memories  Overall  this scent is incredible  I have nothing bad to say about it at all  ',\n",
              "   {'entities': []}],\n",
              "  [' LOVE       ', {'entities': []}],\n",
              "  [' Gorgeous scent  cherry wood and tartly sweet pink pepper  Perfect for autumn and spring  just the right amount of heat for this beauty to shine  ',\n",
              "   {'entities': [[17, 23, 'FRAGRANCE'],\n",
              "     [24, 28, 'FRAGRANCE'],\n",
              "     [40, 45, 'FRAGRANCE'],\n",
              "     [51, 57, 'FRAGRANCE']]}],\n",
              "  ['Great sillage and lasts around 5 6 hours  Jo Malone did an excellent job with this one  ',\n",
              "   {'entities': []}],\n",
              "  [' Not a dupe for wood sage and sea salt   Sweet and creamy ',\n",
              "   {'entities': [[16, 25, 'FRAGRANCE'],\n",
              "     [30, 38, 'FRAGRANCE'],\n",
              "     [41, 46, 'FRAGRANCE'],\n",
              "     [51, 57, 'FRAGRANCE']]}],\n",
              "  [' my cheapest  yet most complimented fragrance  smells like autumn in the best way possible  warm and spicy  definitely unisex which is a big plus for me personally  ',\n",
              "   {'entities': [[59, 65, 'FRAGRANCE'],\n",
              "     [92, 96, 'FRAGRANCE'],\n",
              "     [101, 106, 'FRAGRANCE']]}],\n",
              "  [' Honestly  this is one of the best perfumes out there  Last for days on my skin  ',\n",
              "   {'entities': []}],\n",
              "  [' To me  the best of the collection  A fruity scent blended with anise and woody notes  Interesting  long lasting  a bargain for the price  Must try  ',\n",
              "   {'entities': [[38, 44, 'FRAGRANCE'],\n",
              "     [64, 69, 'FRAGRANCE'],\n",
              "     [74, 79, 'FRAGRANCE']]}],\n",
              "  [' I love this scent  It s pretty classic and can be a little too  on your face  but it s long lasting and seems to have quality ingredients  By the way  my bottle is black though I see the official one is white  ',\n",
              "   {'entities': []}],\n",
              "  [' Gonna go ahead and say this is   not   a dupe for wood sage and sea salt  if that s what you re after  It s not bad  but not the same  Nice enough scent  just not really for me  Probably will destash soon  ',\n",
              "   {'entities': [[51, 60, 'FRAGRANCE'], [65, 73, 'FRAGRANCE']]}],\n",
              "  [' This reminds me of a scent I would smell on a grandma  Not for me  Although I normally like woody scents  this perfume has a headache inducing element to it for me  It was one of the only perfumes I ve ever had to wash off because I couldn t stand the smell on me  I will give it plus points for the sillage and lasting power  which is great for the price  ',\n",
              "   {'entities': [[47, 54, 'FRAGRANCE'], [93, 98, 'FRAGRANCE']]}],\n",
              "  [' Starts of woody then sweet  The dry I can t stand      ',\n",
              "   {'entities': [[11, 16, 'FRAGRANCE'], [22, 27, 'FRAGRANCE']]}],\n",
              "  ['Lasts forever on my skin  ', {'entities': []}],\n",
              "  ['2 10 ', {'entities': []}],\n",
              "  [' This is a great scent in general  but not one that I personally want to smell like  Works much better for a candle or incense in my opinion  Perhaps it just doesn t gel well with my skin  I agree with the other comments about its predictability and cloying performance in heat  The clove notes are enjoyable  but so overpowering I would ve liked more of the  Wood  of its namesake to come through  ',\n",
              "   {'entities': [[109, 115, 'FRAGRANCE'],\n",
              "     [119, 126, 'FRAGRANCE'],\n",
              "     [250, 257, 'FRAGRANCE'],\n",
              "     [283, 288, 'FRAGRANCE']]}],\n",
              "  [' Starts with strong pink pepper  then moves into spicy wood territory  Quite soft and sweet on me ',\n",
              "   {'entities': [[20, 31, 'FRAGRANCE'],\n",
              "     [49, 54, 'FRAGRANCE'],\n",
              "     [55, 59, 'FRAGRANCE'],\n",
              "     [77, 81, 'FRAGRANCE'],\n",
              "     [86, 91, 'FRAGRANCE']]}],\n",
              "  ['Very reminiscent of Si Lolita by Lolita Lempicka  without the sweet pea note that makes SL more feminine ',\n",
              "   {'entities': [[62, 67, 'FRAGRANCE'], [96, 104, 'FRAGRANCE']]}],\n",
              "  ['A lovely unisex scent  woody without giving  girl who wears mens perfumes  vibes  ',\n",
              "   {'entities': [[23, 28, 'FRAGRANCE']]}],\n",
              "  ['I wear this frequently in fall winter  it s lovely for the price  although it falls a little short in terms of depth and refinement  ',\n",
              "   {'entities': []}],\n",
              "  [' For best results and a long lasting complex smell try layering it with fleur de patchouli ',\n",
              "   {'entities': []}],\n",
              "  [' Bitter citrusy but not sourish opening which lasted about a minute  Then it was a very weak woody spicy scent  Got it at last after trying off and on with months in between  On its own its rather mild  Will layer it with other perfumes  ',\n",
              "   {'entities': [[8, 15, 'FRAGRANCE'],\n",
              "     [24, 31, 'FRAGRANCE'],\n",
              "     [93, 98, 'FRAGRANCE'],\n",
              "     [99, 104, 'FRAGRANCE']]}],\n",
              "  [' A very strong opening  The opening smells remind me of my herbal oil  But it smells different after three hours on my skin  Soft  clean  woody and a bit soapy  I like it  ',\n",
              "   {'entities': [[59, 65, 'FRAGRANCE'],\n",
              "     [125, 129, 'FRAGRANCE'],\n",
              "     [131, 136, 'FRAGRANCE'],\n",
              "     [138, 143, 'FRAGRANCE'],\n",
              "     [154, 159, 'FRAGRANCE']]}],\n",
              "  [' Chocolate biscuit with orange  that s it  Of all those in this line  this one is by far the best  But none of them has a pronounced projection  If only it had it  what an amazing perfume this would have been  I would bathe myself in it every day ',\n",
              "   {'entities': [[1, 18, 'FRAGRANCE'], [24, 30, 'FRAGRANCE']]}],\n",
              "  [' I get anise cherry aftershave  it s so unique  As someone here has already mentioned it s spicy but light  so not too tricky to wear  although not a safe blind buy  The performance is not the best  but it does last quite a long time when oversprayed  ',\n",
              "   {'entities': [[7, 12, 'FRAGRANCE'],\n",
              "     [13, 19, 'FRAGRANCE'],\n",
              "     [20, 30, 'FRAGRANCE'],\n",
              "     [91, 96, 'FRAGRANCE']]}],\n",
              "  [' Hair mist version of this    Love it ', {'entities': []}],\n",
              "  [' Close to skin scent on me  Surprisingly I get tons of attention with this perfume  it s definitely a compliment getter  Good for a buck  Not a blind buy  try it on skin  Smells like a cheap cologne if sniffing on blotter or straight from the bottle  On skin it opens beautifully  ',\n",
              "   {'entities': []}],\n",
              "  [' It is beautiful but also strong and can give me a headache  It is a scent for confident woman or man  who wants to be noticed  ',\n",
              "   {'entities': [[79, 94, 'FRAGRANCE'], [98, 126, 'FRAGRANCE']]}],\n",
              "  [' I fell for the hype again     I was expecting a woodsy  boozy sweet fragrance  but all i got from this i a burst of grapefruit in the opening and cloves  just cloves throughout and a slight woodsy ness akin to furniture wood polish  If it matters to you  i think it leans more masculine  i think i would like this on a man  If you like sweeter gourmands and warm vanillas like me i d say to test before blind buying  ',\n",
              "   {'entities': [[49, 55, 'FRAGRANCE'],\n",
              "     [57, 62, 'FRAGRANCE'],\n",
              "     [63, 68, 'FRAGRANCE'],\n",
              "     [117, 127, 'FRAGRANCE'],\n",
              "     [147, 153, 'FRAGRANCE'],\n",
              "     [160, 166, 'FRAGRANCE'],\n",
              "     [191, 197, 'FRAGRANCE'],\n",
              "     [278, 287, 'FRAGRANCE'],\n",
              "     [337, 344, 'FRAGRANCE'],\n",
              "     [359, 363, 'FRAGRANCE'],\n",
              "     [364, 372, 'FRAGRANCE']]}],\n",
              "  [' It was a blind buy  but I was blown away from the first try  It is warm  intense  dark  luxurious  smoky and comforting  It can cost at least 5 times more  In my opinion this perfume is one of those  love it or hate it   can hardly be something in between  ',\n",
              "   {'entities': [[68, 72, 'FRAGRANCE'],\n",
              "     [83, 87, 'FRAGRANCE'],\n",
              "     [89, 98, 'FRAGRANCE'],\n",
              "     [100, 105, 'FRAGRANCE'],\n",
              "     [110, 120, 'FRAGRANCE']]}],\n",
              "  [' A big love  I smell mostly cloves and wood in the background  It s sweet  slightly spicy  and woody  Such a comforting scent for me  But the main issue of Zara perfume  it performs so weakly  I hope this can stay longer on my skin  ',\n",
              "   {'entities': [[28, 34, 'FRAGRANCE'],\n",
              "     [39, 43, 'FRAGRANCE'],\n",
              "     [68, 73, 'FRAGRANCE'],\n",
              "     [84, 89, 'FRAGRANCE'],\n",
              "     [95, 100, 'FRAGRANCE'],\n",
              "     [109, 119, 'FRAGRANCE']]}],\n",
              "  [' The same story with every Zara perfume  interesting combinations of different notes  perfectly blended components that do not act as sharp and synthetic at all and an aroma that impresses both from the atomizer and on the test strip  The only thing missing is the projection  or rather there is none of it at all  No matter how many times you spray and apply it after half an hour perfume lies dead on the skin with no signs of life whatsoever ',\n",
              "   {'entities': []}],\n",
              "  [' this goes through a pungent almost celery like middle stage that you have to suffer through before getting to the delicious  dry  almost bready sweetness of the cloves and wood  if it werent for that middle stage id wear this every day  this smells like a spicy muffin placed on a shiny  freshly varnished dark wooden dining table  100  unisex  wonderful  ',\n",
              "   {'entities': [[21, 28, 'FRAGRANCE'],\n",
              "     [36, 47, 'FRAGRANCE'],\n",
              "     [145, 154, 'FRAGRANCE'],\n",
              "     [162, 168, 'FRAGRANCE'],\n",
              "     [173, 177, 'FRAGRANCE'],\n",
              "     [257, 269, 'FRAGRANCE']]}],\n",
              "  [' This is a love for me  It opens up really woody and then 5 mins later you get a spicy sweetness mixed with the cloves  It s a really mature smell with class  The longevity is 6 8 hrs which am fine with  It s not mass appealing imo because it s a unique smell  you ll have to like a unique complicated smell for you to enjoy it  ',\n",
              "   {'entities': [[43, 48, 'FRAGRANCE'],\n",
              "     [134, 140, 'FRAGRANCE'],\n",
              "     [247, 253, 'FRAGRANCE'],\n",
              "     [283, 289, 'FRAGRANCE'],\n",
              "     [290, 301, 'FRAGRANCE']]}],\n",
              "  [' My favourite  I wore it as my signature smell this winter and everybody loves it  It is a sweet  yet bold scent  It develops so beautiful  the layers are unique for a Zara scent  Truly unisex and some will say it is more for men  But I think it is really good for a woman  ',\n",
              "   {'entities': []}],\n",
              "  [' This is a hidden gem  The best of the whole Emotions Collection  Very woody   spicy  very spicebomb like  but more feminine ',\n",
              "   {'entities': [[71, 76, 'FRAGRANCE'],\n",
              "     [79, 84, 'FRAGRANCE'],\n",
              "     [91, 100, 'FRAGRANCE'],\n",
              "     [116, 124, 'FRAGRANCE']]}],\n",
              "  ['Quality is way over the price Tag   Zara range  Very longlasting   strong  It literrary gave me lots Food for thoughts and won t stop until i buy it ',\n",
              "   {'entities': []}],\n",
              "  [' This is a really great fragrance  very warm and dark  I was skeptical of the Lost Cherry comparisons but its definitely in here as the fragrance develops  Very affordable but smells luxury  a little sweet and tart  Perfectly unisex  Just ordered a larger bottle from the mens department in Zara as the bottle comes in black  I tend to bounce around my fragrance collection depending on my mood  but I think I m going to be wearing this a lot  ',\n",
              "   {'entities': [[40, 44, 'FRAGRANCE'],\n",
              "     [49, 53, 'FRAGRANCE'],\n",
              "     [183, 189, 'FRAGRANCE'],\n",
              "     [200, 205, 'FRAGRANCE']]}],\n",
              "  [' Sweet  sweet  warm wood with a dash of spice  Longlasting  embracing and exceptionally wonderful unisex scent of excellent quality  I may have to get myself a back up bottle of this gem  ',\n",
              "   {'entities': [[1, 6, 'FRAGRANCE'],\n",
              "     [8, 13, 'FRAGRANCE'],\n",
              "     [15, 19, 'FRAGRANCE'],\n",
              "     [20, 24, 'FRAGRANCE'],\n",
              "     [40, 45, 'FRAGRANCE']]}],\n",
              "  [' This is spicy sweet but light perfume  I get cinnamon cookie vibe from it  a bit buttery and there is nothing woody to me about it  Nice and cosy and it does have this slight cherry vibe at the beginning  Stays close to the skin  lasting power is average  ',\n",
              "   {'entities': [[9, 14, 'FRAGRANCE'],\n",
              "     [15, 20, 'FRAGRANCE'],\n",
              "     [46, 61, 'FRAGRANCE'],\n",
              "     [82, 89, 'FRAGRANCE'],\n",
              "     [111, 116, 'FRAGRANCE'],\n",
              "     [176, 182, 'FRAGRANCE']]}],\n",
              "  [' Sweeter than i expected  Surprisingly good   not long lasting but thats ok for the price tag   once again   well done Zara  ',\n",
              "   {'entities': [[1, 8, 'FRAGRANCE']]}],\n",
              "  [' A few people have mentioned a cherry note  and I fully agree  I also have Tom Ford Lost Cherry and feel like these two are pretty similar  EW is a beautiful fall cold weather scent and is easily unisex  I love this one and for the price it s amazing  ',\n",
              "   {'entities': [[31, 37, 'FRAGRANCE']]}],\n",
              "  [' I don t like this  This is something I wouldn t gravitate to  I knew that when I read the notes  especially when I saw cloves  that s all I smell in this  But I gave it a chance   blindly purchased it because the majority of Zara fragrances are really good  The vibes I get when I smell this are fall  cold weather  Halloween   the movie Hocus Pocus lol  But even though I love all that  I still wouldn t ever wear this  Pass for me  ',\n",
              "   {'entities': []}],\n",
              "  [' Very nice forest smell  It gets sweeter with time  ',\n",
              "   {'entities': [[11, 17, 'FRAGRANCE'], [33, 40, 'FRAGRANCE']]}],\n",
              "  [' Smells like those Royal Dansk s butter cookies from the 90 s  Perfect for rainy days  ',\n",
              "   {'entities': [[19, 47, 'FRAGRANCE']]}],\n",
              "  [' To my nose  its a clone of Mugler pure havane  It gives you the same cherry vibe like pure havane and in the air its very similar   Almost every Zara frag is a clone or inspired by a famous designer fragrance   Ebony Wood is a bang for the bucks  ',\n",
              "   {'entities': [[70, 76, 'FRAGRANCE']]}],\n",
              "  [' This fragrance definitely gives off a warm and cozy vibe  It s unisex best suited for colder months  At first spray I get hints of tobacco and a sweetness similar to vanilla which brings Tom Ford Tobacco Vanille but once it dries down the sweetness turns to a tart fruity smell and then I m reminded of MFK Gentle Fluidity Gold  Not to say these are dupes but this dark woodsy fragrance definitely has nuances of both fragrances in my opinion  ',\n",
              "   {'entities': [[39, 43, 'FRAGRANCE'],\n",
              "     [48, 52, 'FRAGRANCE'],\n",
              "     [132, 139, 'FRAGRANCE'],\n",
              "     [146, 155, 'FRAGRANCE'],\n",
              "     [167, 174, 'FRAGRANCE'],\n",
              "     [240, 249, 'FRAGRANCE'],\n",
              "     [266, 272, 'FRAGRANCE'],\n",
              "     [366, 370, 'FRAGRANCE'],\n",
              "     [371, 377, 'FRAGRANCE']]}],\n",
              "  [' This is actually what I wanted Rich Warm Addictive to smell like ',\n",
              "   {'entities': [[37, 41, 'FRAGRANCE'], [42, 51, 'FRAGRANCE']]}],\n",
              "  [' Sweet  Cherry  honey  alcohol and dried fruits  Like savanna  why do I think savanna smells like this  hm     and candies  A bit aquatic  but stifling  ',\n",
              "   {'entities': [[1, 6, 'FRAGRANCE'],\n",
              "     [8, 14, 'FRAGRANCE'],\n",
              "     [16, 21, 'FRAGRANCE'],\n",
              "     [23, 30, 'FRAGRANCE'],\n",
              "     [35, 47, 'FRAGRANCE'],\n",
              "     [78, 85, 'FRAGRANCE'],\n",
              "     [130, 137, 'FRAGRANCE'],\n",
              "     [143, 151, 'FRAGRANCE']]}],\n",
              "  [' When I smelled this I instantly travelled back in time to my grandmother s house ',\n",
              "   {'entities': [[62, 81, 'FRAGRANCE']]}],\n",
              "  ['Potpourri and cigarette smoke  ',\n",
              "   {'entities': [[0, 9, 'FRAGRANCE'],\n",
              "     [14, 23, 'FRAGRANCE'],\n",
              "     [24, 29, 'FRAGRANCE']]}],\n",
              "  [' What a beautiful woody fragrance  It s warm and spicy almost smoky  surprised tobacco is not listed    it leans more masculine  but I do not mind that  I am a woman and I would be more than happy wearing this  especially doing winter or autumn  ',\n",
              "   {'entities': [[18, 23, 'FRAGRANCE'],\n",
              "     [40, 44, 'FRAGRANCE'],\n",
              "     [49, 54, 'FRAGRANCE'],\n",
              "     [62, 67, 'FRAGRANCE'],\n",
              "     [79, 86, 'FRAGRANCE'],\n",
              "     [118, 127, 'FRAGRANCE']]}],\n",
              "  ['It lasts around 7 hours on my skin  more than any other Zara fragrance has ever had  It s very sophisticated and worth the price ',\n",
              "   {'entities': []}],\n",
              "  [' To me  this smells expensive and niche  I get sour cherry at the opening  which I love  along with the woody notes  and then it dries down to powdery sweetish wood  The best out of the entire line both in terms of composition and performance  ',\n",
              "   {'entities': [[20, 29, 'FRAGRANCE'],\n",
              "     [34, 39, 'FRAGRANCE'],\n",
              "     [47, 51, 'FRAGRANCE'],\n",
              "     [52, 58, 'FRAGRANCE'],\n",
              "     [104, 109, 'FRAGRANCE'],\n",
              "     [151, 159, 'FRAGRANCE'],\n",
              "     [160, 164, 'FRAGRANCE']]}],\n",
              "  [' Do yourself a favor and mix this with water lily tea dress  You re welcome  ',\n",
              "   {'entities': []}],\n",
              "  [' I didn t love this one by itself  that s not to say it isn t a beautiful fragrance  It does lean more masculine than is my preference  ',\n",
              "   {'entities': [[103, 112, 'FRAGRANCE']]}],\n",
              "  ['I think it s a nice base to layer around with some of the other scents in the collection  Played around with layering it with Neroli  Fleur D Oranger  from the same line and that was nice  ',\n",
              "   {'entities': []}],\n",
              "  ['Kinda soapy musky   with just enough wood spice   to create a good balance ',\n",
              "   {'entities': [[6, 11, 'FRAGRANCE'],\n",
              "     [12, 17, 'FRAGRANCE'],\n",
              "     [37, 41, 'FRAGRANCE'],\n",
              "     [42, 47, 'FRAGRANCE']]}],\n",
              "  ['Don t judge solely on the  opening     let it  mix  with your skin chemistry first ',\n",
              "   {'entities': []}],\n",
              "  ['Low to medium performance on my skin ', {'entities': []}],\n",
              "  ['A good everyday type scent  An easy like ',\n",
              "   {'entities': [[7, 20, 'FRAGRANCE']]}],\n",
              "  ['Unisex  IMO  ', {'entities': []}],\n",
              "  [' Gorgeous scent  ', {'entities': []}],\n",
              "  ['Lasts  10hours on me ', {'entities': []}],\n",
              "  ['Nice sillage', {'entities': []}],\n",
              "  ['Overall 9 10  ', {'entities': []}],\n",
              "  ['I would pay more than 200USD ', {'entities': []}],\n",
              "  [' This is just mind blowing and heavenly  Superb value for money  I m going to get another 2 boxes before they run out  For AUD 59 99  this quality is worth more than those that are hundreds of dollars  More on the masculine side but women can easily wear this and bam  Girl Power  in a very good way  A truly must have in your collection  Get a couple at least while they are still available  ',\n",
              "   {'entities': [[214, 223, 'FRAGRANCE']]}],\n",
              "  [' This smells like heavy wood furniture to me  in a good way  A bit sweet  a bit dusty  with warm  peppery woodiness  As the day goes on  the clove becomes more prominent  My husband and I both wear it  If he puts it on at  7 30 am  I can smell it on him at  10 00 pm and is quite sparing in application  rollerball   ',\n",
              "   {'entities': [[18, 38, 'FRAGRANCE'],\n",
              "     [80, 85, 'FRAGRANCE'],\n",
              "     [92, 96, 'FRAGRANCE'],\n",
              "     [98, 105, 'FRAGRANCE'],\n",
              "     [106, 115, 'FRAGRANCE'],\n",
              "     [141, 146, 'FRAGRANCE']]}],\n",
              "  [' Does anyone else smell licorice upon first spray  I am finding it hard to get past this initial scent to the lovely layers everyone else has described below ',\n",
              "   {'entities': [[24, 32, 'FRAGRANCE']]}],\n",
              "  ['So I guess for me this is not a blind buy  But I do want to know if anyone else smells licorice  at least at first    ',\n",
              "   {'entities': [[87, 95, 'FRAGRANCE']]}],\n",
              "  ['I may layer this with other fragrances  ', {'entities': []}],\n",
              "  [' On my skin  it smells like soft vanilla cookie from the Christmas season that you find in Germany  Very warm  but no distinct spice nor wood  Weird  Long lasting  medium sillage  ',\n",
              "   {'entities': [[28, 47, 'FRAGRANCE'],\n",
              "     [127, 132, 'FRAGRANCE'],\n",
              "     [137, 141, 'FRAGRANCE']]}],\n",
              "  [' this reminds me of jo Malone s pomegranate noir  Really it has a similar vibe  but more synthetic    ',\n",
              "   {'entities': []}],\n",
              "  [' I haven t smelled the scents yet but contemplating buying  blind buy   I ve read some comments and quite a few mentioned that the scents can be layered  and they re actually nicer that way so was wondering if anyone has tried layering this  Ebony Wood  with Fleur d Oranger  ',\n",
              "   {'entities': []}],\n",
              "  [' Beautiful sweet wood and clove  The pink pepper makes it way as the scent progresses overtime  somewhere in the middle  Dries down woody sweet  I d imagine wearing this in the winter or definitely colder days  Lasting power and sillage is fantastic  Definitely unisex  the most mature smelling and the show stealer from the Zara Emotions Line  ',\n",
              "   {'entities': [[11, 16, 'FRAGRANCE'],\n",
              "     [17, 21, 'FRAGRANCE'],\n",
              "     [26, 31, 'FRAGRANCE'],\n",
              "     [132, 137, 'FRAGRANCE'],\n",
              "     [138, 143, 'FRAGRANCE']]}],\n",
              "  ['Sillage B   3 6ft ', {'entities': []}],\n",
              "  [' I get soft  almost powdery wood with musky notes  The spice and almond feel others report is missing for me  I just get a simpler  super soft wood without a lot of facets  and while it s very nice and I love the price  it s not interesting enough for me to wear except maybe as a comfort scent for bedtime  My sister  however  loves it  She gets more of a woody bite and incense feel than I do  I d say try before buy  but it s so darn inexpensive that you might as well just buy the travel size if you think you might like it  Worth the price for sure  ',\n",
              "   {'entities': [[20, 27, 'FRAGRANCE'],\n",
              "     [28, 32, 'FRAGRANCE'],\n",
              "     [38, 43, 'FRAGRANCE'],\n",
              "     [138, 142, 'FRAGRANCE'],\n",
              "     [143, 147, 'FRAGRANCE'],\n",
              "     [281, 288, 'FRAGRANCE'],\n",
              "     [299, 306, 'FRAGRANCE'],\n",
              "     [357, 362, 'FRAGRANCE']]}],\n",
              "  ['In the beggining it has a coolness to it  It s spicy  woody and has a sweet presence that starts to lean more vanillic at the drydown  I also sometimes get wiffs of a red fruit ',\n",
              "   {'entities': [[26, 34, 'FRAGRANCE'],\n",
              "     [47, 52, 'FRAGRANCE'],\n",
              "     [54, 59, 'FRAGRANCE'],\n",
              "     [70, 75, 'FRAGRANCE'],\n",
              "     [110, 118, 'FRAGRANCE'],\n",
              "     [167, 176, 'FRAGRANCE']]}],\n",
              "  ['It s a fragance that the more I wear  the more I fall in love  I think it s ideal for those who want a cozy winter fragrance without it leaning too masculine  too feminine  too sweet or too dry ',\n",
              "   {'entities': [[103, 107, 'FRAGRANCE'],\n",
              "     [108, 114, 'FRAGRANCE'],\n",
              "     [148, 157, 'FRAGRANCE'],\n",
              "     [163, 171, 'FRAGRANCE'],\n",
              "     [177, 182, 'FRAGRANCE'],\n",
              "     [190, 193, 'FRAGRANCE']]}],\n",
              "  ['Bravo Zara  you were able to make designer fragrances embarassed by their lack of creativity  This is truly different  ',\n",
              "   {'entities': []}],\n",
              "  [' 16   90ml  on sale ', {'entities': []}],\n",
              "  ['Batch   00700  03 2020  ', {'entities': []}],\n",
              "  [' I can definitely see this fragrance being a unisex fragrance and on me it leans more masculine  It has a very sharp  peppery opening  which I am not fond of  ',\n",
              "   {'entities': [[86, 95, 'FRAGRANCE'],\n",
              "     [111, 116, 'FRAGRANCE'],\n",
              "     [118, 125, 'FRAGRANCE']]}],\n",
              "  ['The dry down is still spicy  warm and woody  I m going to gift this to a man who will get more wear out of it than I would  ',\n",
              "   {'entities': [[22, 27, 'FRAGRANCE'],\n",
              "     [29, 33, 'FRAGRANCE'],\n",
              "     [38, 43, 'FRAGRANCE']]}],\n",
              "  [' The clove note in this fragrance makes it smell like sweet pickles   lol it s not bad for  19  In the mid  the pickle smell turns kind of piney  like pinecones on a Xmas wreath  Then  in the drydown  it turns fresh like a soapy woody smell  I m going to layer it with some other scents before I declutter it  and give it a chance  People on YT frag comm are ranting and raving about how sexy this jo malone zara collab scent is and it honestly smells like sweet pickels LOL    I ve heard the same about santal 33  is that true  Does santal 33 smell like sweet pickels  ',\n",
              "   {'entities': [[5, 10, 'FRAGRANCE'],\n",
              "     [54, 67, 'FRAGRANCE'],\n",
              "     [112, 124, 'FRAGRANCE'],\n",
              "     [139, 144, 'FRAGRANCE'],\n",
              "     [151, 160, 'FRAGRANCE'],\n",
              "     [210, 215, 'FRAGRANCE'],\n",
              "     [223, 228, 'FRAGRANCE'],\n",
              "     [229, 234, 'FRAGRANCE'],\n",
              "     [457, 470, 'FRAGRANCE'],\n",
              "     [555, 568, 'FRAGRANCE']]}],\n",
              "  [' Woody  warm  spicy  and sweet  ',\n",
              "   {'entities': [[1, 6, 'FRAGRANCE'],\n",
              "     [8, 12, 'FRAGRANCE'],\n",
              "     [14, 19, 'FRAGRANCE'],\n",
              "     [25, 30, 'FRAGRANCE']]}],\n",
              "  [' True gem when it comes to Zara fragrances   ', {'entities': []}],\n",
              "  ['Perfectly Unisex in my opinion  ', {'entities': []}],\n",
              "  ['At first it reminded me of Obsessed by CK for women ', {'entities': []}],\n",
              "  ['After 3 4 minutes this effect dissapeared  and true beauty of Ebony Wood came out  This is sweet  woody  reach and creamy  I do not get much of peppery note apart from 1st minute  but I find some black tea vibes in the backgroud  although not listed note  Nice combination all together   ',\n",
              "   {'entities': [[91, 96, 'FRAGRANCE'],\n",
              "     [98, 103, 'FRAGRANCE'],\n",
              "     [115, 121, 'FRAGRANCE'],\n",
              "     [144, 151, 'FRAGRANCE'],\n",
              "     [196, 205, 'FRAGRANCE']]}],\n",
              "  ['I have also tried the recommeded duo with Patchouli frag form this line for layering  however with no  wow  effect  I definitely prefer the Ebony Wood alone  Such a beutiful  winter scent   ',\n",
              "   {'entities': [[175, 181, 'FRAGRANCE']]}],\n",
              "  ['Very good quality for the price  Good projection and silage ',\n",
              "   {'entities': []}],\n",
              "  ['If you like this type of fragrances   go for it  ', {'entities': []}],\n",
              "  [' I bought this last year and instanly fell in love  I wore it more than any other perfume through Winter and now that it s Autumn I m breaking it out again  ',\n",
              "   {'entities': []}],\n",
              "  ['A rich  sticky  sweet and spicy gourmand  Equally as sweet as Zara s Rich Warm Addictive but not as cloying  The clove pulls it back from being just a woody vanilla syrup  Definitely one of those that feels like being wrapped up in a super soft  cosy blanket   maybe with a mug of mulled wine or Christmas biscuits  Decent performance especially for something so affordable  ',\n",
              "   {'entities': [[8, 14, 'FRAGRANCE'],\n",
              "     [16, 21, 'FRAGRANCE'],\n",
              "     [26, 31, 'FRAGRANCE'],\n",
              "     [53, 58, 'FRAGRANCE'],\n",
              "     [100, 107, 'FRAGRANCE'],\n",
              "     [113, 118, 'FRAGRANCE'],\n",
              "     [151, 170, 'FRAGRANCE'],\n",
              "     [240, 258, 'FRAGRANCE']]}],\n",
              "  [' Extremely sweet fragrance  being ebony and clove the most prominent notes by far  So rich itself that you are surprised it comes from Zara  It is one of those fragrances that smells even better when you smell it on another person  ',\n",
              "   {'entities': [[11, 16, 'FRAGRANCE'],\n",
              "     [34, 39, 'FRAGRANCE'],\n",
              "     [44, 49, 'FRAGRANCE'],\n",
              "     [86, 90, 'FRAGRANCE']]}],\n",
              "  ['It is a very unusual smell for a man  but extremely pleasant  I gave my mate a 10 ml sample so he could try it  and gave him a goodbye hug and it was so nice  better than what I thought the fragrance was  ',\n",
              "   {'entities': []}],\n",
              "  ['8 5 10  ', {'entities': []}],\n",
              "  ['Quite surprised as from the notes I expected a drier more masculine scent  This is definitely on the creamy gourmand side   ',\n",
              "   {'entities': [[47, 52, 'FRAGRANCE'],\n",
              "     [58, 67, 'FRAGRANCE'],\n",
              "     [101, 107, 'FRAGRANCE']]}],\n",
              "  ['Update  ', {'entities': []}],\n",
              "  ['I am not a fan of vanilla fragrances  This perfume almost definitely has some vanilla or  amber  in it  but it s not making me nauseous so I guess it s a win ',\n",
              "   {'entities': [[18, 25, 'FRAGRANCE'],\n",
              "     [78, 85, 'FRAGRANCE'],\n",
              "     [90, 95, 'FRAGRANCE']]}],\n",
              "  ['Final update  ', {'entities': []}],\n",
              "  [' Dancing on the Verge of Gourmand  Jo Malone  2019  ', {'entities': []}],\n",
              "  ['Rating  6 5 10 ', {'entities': []}],\n",
              "  ['Has anyone figured out what that citrus aromatic chord at the top is  I think maybe bergamot and coriander  ',\n",
              "   {'entities': [[33, 39, 'FRAGRANCE'],\n",
              "     [40, 48, 'FRAGRANCE'],\n",
              "     [84, 92, 'FRAGRANCE'],\n",
              "     [97, 106, 'FRAGRANCE']]}],\n",
              "  [' I LOVE this  this scent brings me so much comfort and happiness whenever I wear it  I really like the  plum preserve  smell its so addicting  I cant keep sniffing myself ',\n",
              "   {'entities': [[104, 108, 'FRAGRANCE']]}],\n",
              "  [' On first spray  there s an astringent chemical odor   a citrus gone wrong  Unfortunately  this fragrance is similar as Jo Malone s other fragrances   there s a note out of harmony  ',\n",
              "   {'entities': [[57, 63, 'FRAGRANCE']]}],\n",
              "  [' Ebony Wood is my fragrance of choice when I want to channel Kiana Daniele s Cleves from Six The Musical  ',\n",
              "   {'entities': []}],\n",
              "  [' Warmth and spices  One of Zara s recent masterpieces  You can definitely feel the cloves and the ebony wood  A great winter autumn perfume  Quite a statement one  Could be worn both by men and women  ',\n",
              "   {'entities': [[83, 89, 'FRAGRANCE'], [98, 108, 'FRAGRANCE']]}]]}"
            ]
          },
          "metadata": {},
          "execution_count": 45
        }
      ]
    },
    {
      "cell_type": "code",
      "source": [
        "for text, annot in tqdm(data['annotations']):\n",
        "  doc = nlp.make_doc(text)\n",
        "  ents = []\n",
        "  for start, end, label in annot[\"entities\"]:\n",
        "    span = doc.char_span(start, end, label = label, alignment_mode = \"contract\")\n",
        "    if span is None:\n",
        "      print(\"skipping entity\")\n",
        "    else:\n",
        "      ents.append(span)\n",
        "  doc.ents = ents\n",
        "  db.add(doc)\n",
        "\n",
        "  db.to_disk(\"./data.spacy\")"
      ],
      "metadata": {
        "colab": {
          "base_uri": "https://localhost:8080/"
        },
        "id": "11kwLiPiq11x",
        "outputId": "a5022a5a-7eec-4713-b133-557c96f09d13"
      },
      "execution_count": 46,
      "outputs": [
        {
          "output_type": "stream",
          "name": "stderr",
          "text": [
            "100%|██████████| 182/182 [00:01<00:00, 142.48it/s]\n"
          ]
        }
      ]
    },
    {
      "cell_type": "code",
      "source": [
        "file_pathv = '/content/drive/MyDrive/23SS_NLP/perfume/annotations_val.json'\n",
        "\n",
        "# with open(file_path, 'r')as f:\n",
        "#   data = json.load(f)\n",
        "\n",
        "d = open(file_pathv, encoding='UTF-8')\n",
        "data_val = json.loads(d.read())"
      ],
      "metadata": {
        "id": "w6foJVt2tj40"
      },
      "execution_count": 47,
      "outputs": []
    },
    {
      "cell_type": "code",
      "source": [
        "for text, annot in tqdm(data_val['annotations']):\n",
        "  doc = nlp.make_doc(text)\n",
        "  ents = []\n",
        "  for start, end, label in annot[\"entities\"]:\n",
        "    span = doc.char_span(start, end, label = label, alignment_mode = \"contract\")\n",
        "    if span is None:\n",
        "      print(\"skipping entity\")\n",
        "    else:\n",
        "      ents.append(span)\n",
        "  doc.ents = ents\n",
        "  db.add(doc)\n",
        "\n",
        "  db.to_disk(\"./data_val.spacy\")"
      ],
      "metadata": {
        "colab": {
          "base_uri": "https://localhost:8080/"
        },
        "id": "S2zA-B3ZtaA1",
        "outputId": "7e3647c9-14e1-4ca8-e4bf-da2ea3424d7e"
      },
      "execution_count": 48,
      "outputs": [
        {
          "output_type": "stream",
          "name": "stderr",
          "text": [
            "100%|██████████| 189/189 [00:04<00:00, 39.06it/s]\n"
          ]
        }
      ]
    },
    {
      "cell_type": "code",
      "source": [
        "! python -m spacy init config config.cfg --lang en --pipeline ner --optimize efficiency"
      ],
      "metadata": {
        "colab": {
          "base_uri": "https://localhost:8080/"
        },
        "id": "9BWwYXJMr-a8",
        "outputId": "c23d6bf7-77d6-4ba8-a25c-31b560af7cdc"
      },
      "execution_count": 49,
      "outputs": [
        {
          "output_type": "stream",
          "name": "stdout",
          "text": [
            "/usr/local/lib/python3.8/dist-packages/torch/cuda/__init__.py:497: UserWarning: Can't initialize NVML\n",
            "  warnings.warn(\"Can't initialize NVML\")\n",
            "2023-02-22 07:32:35.105965: W tensorflow/compiler/xla/stream_executor/platform/default/dso_loader.cc:64] Could not load dynamic library 'libnvinfer.so.7'; dlerror: libnvinfer.so.7: cannot open shared object file: No such file or directory; LD_LIBRARY_PATH: /usr/local/nvidia/lib:/usr/local/nvidia/lib64\n",
            "2023-02-22 07:32:35.106148: W tensorflow/compiler/xla/stream_executor/platform/default/dso_loader.cc:64] Could not load dynamic library 'libnvinfer_plugin.so.7'; dlerror: libnvinfer_plugin.so.7: cannot open shared object file: No such file or directory; LD_LIBRARY_PATH: /usr/local/nvidia/lib:/usr/local/nvidia/lib64\n",
            "2023-02-22 07:32:35.106177: W tensorflow/compiler/tf2tensorrt/utils/py_utils.cc:38] TF-TRT Warning: Cannot dlopen some TensorRT libraries. If you would like to use Nvidia GPU with TensorRT, please make sure the missing libraries mentioned above are installed properly.\n",
            "2023-02-22 07:32:37.090104: E tensorflow/compiler/xla/stream_executor/cuda/cuda_driver.cc:267] failed call to cuInit: CUDA_ERROR_NO_DEVICE: no CUDA-capable device is detected\n",
            "\n",
            "\u001b[38;5;1m✘ The provided output file already exists. To force overwriting the\n",
            "config file, set the --force or -F flag.\u001b[0m\n",
            "\n"
          ]
        }
      ]
    },
    {
      "cell_type": "code",
      "source": [
        "! python -m spacy train config.cfg --output ./ --paths.train ./data.spacy --paths.dev ./data_val.spacy"
      ],
      "metadata": {
        "colab": {
          "base_uri": "https://localhost:8080/"
        },
        "id": "79hfKHIwsVUD",
        "outputId": "a1390faf-6652-42b8-bcbb-a06e0f533f05"
      },
      "execution_count": 50,
      "outputs": [
        {
          "output_type": "stream",
          "name": "stdout",
          "text": [
            "/usr/local/lib/python3.8/dist-packages/torch/cuda/__init__.py:497: UserWarning: Can't initialize NVML\n",
            "  warnings.warn(\"Can't initialize NVML\")\n",
            "2023-02-22 07:32:43.729555: W tensorflow/compiler/xla/stream_executor/platform/default/dso_loader.cc:64] Could not load dynamic library 'libnvinfer.so.7'; dlerror: libnvinfer.so.7: cannot open shared object file: No such file or directory; LD_LIBRARY_PATH: /usr/local/nvidia/lib:/usr/local/nvidia/lib64\n",
            "2023-02-22 07:32:43.729708: W tensorflow/compiler/xla/stream_executor/platform/default/dso_loader.cc:64] Could not load dynamic library 'libnvinfer_plugin.so.7'; dlerror: libnvinfer_plugin.so.7: cannot open shared object file: No such file or directory; LD_LIBRARY_PATH: /usr/local/nvidia/lib:/usr/local/nvidia/lib64\n",
            "2023-02-22 07:32:43.729734: W tensorflow/compiler/tf2tensorrt/utils/py_utils.cc:38] TF-TRT Warning: Cannot dlopen some TensorRT libraries. If you would like to use Nvidia GPU with TensorRT, please make sure the missing libraries mentioned above are installed properly.\n",
            "2023-02-22 07:32:46.857164: E tensorflow/compiler/xla/stream_executor/cuda/cuda_driver.cc:267] failed call to cuInit: CUDA_ERROR_NO_DEVICE: no CUDA-capable device is detected\n",
            "\u001b[38;5;4mℹ Saving to output directory: .\u001b[0m\n",
            "\u001b[38;5;4mℹ Using CPU\u001b[0m\n",
            "\u001b[1m\n",
            "=========================== Initializing pipeline ===========================\u001b[0m\n",
            "[2023-02-22 07:32:48,165] [INFO] Set up nlp object from config\n",
            "INFO:spacy:Set up nlp object from config\n",
            "[2023-02-22 07:32:48,178] [INFO] Pipeline: ['tok2vec', 'ner']\n",
            "INFO:spacy:Pipeline: ['tok2vec', 'ner']\n",
            "[2023-02-22 07:32:48,182] [INFO] Created vocabulary\n",
            "INFO:spacy:Created vocabulary\n",
            "[2023-02-22 07:32:48,183] [INFO] Finished initializing nlp object\n",
            "INFO:spacy:Finished initializing nlp object\n",
            "[2023-02-22 07:32:48,724] [INFO] Initialized pipeline components: ['tok2vec', 'ner']\n",
            "INFO:spacy:Initialized pipeline components: ['tok2vec', 'ner']\n",
            "\u001b[38;5;2m✔ Initialized pipeline\u001b[0m\n",
            "\u001b[1m\n",
            "============================= Training pipeline =============================\u001b[0m\n",
            "\u001b[38;5;4mℹ Pipeline: ['tok2vec', 'ner']\u001b[0m\n",
            "\u001b[38;5;4mℹ Initial learn rate: 0.001\u001b[0m\n",
            "E    #       LOSS TOK2VEC  LOSS NER  ENTS_F  ENTS_P  ENTS_R  SCORE \n",
            "---  ------  ------------  --------  ------  ------  ------  ------\n",
            "  0       0          0.00     49.17    0.00    0.00    0.00    0.00\n",
            "  2     200         49.85   1341.30   92.27   92.33   92.21    0.92\n",
            "  6     400         94.36    291.21   95.53   94.95   96.11    0.96\n",
            " 10     600        139.48    210.62   98.79   98.55   99.03    0.99\n",
            " 16     800        188.31    114.41   99.39   99.75   99.03    0.99\n",
            " 23    1000        194.91     92.64   99.63   99.76   99.51    1.00\n",
            " 31    1200        136.14     79.96   99.64   99.28  100.00    1.00\n",
            " 42    1400        145.56     88.82   99.64   99.51   99.76    1.00\n",
            " 55    1600        152.74    103.10   99.63   99.76   99.51    1.00\n",
            " 71    1800         85.32    116.58   99.63   99.76   99.51    1.00\n",
            " 92    2000        121.24    125.53   99.64   99.51   99.76    1.00\n",
            "116    2200        112.59    131.90   99.64   99.51   99.76    1.00\n",
            "144    2400        113.41    147.57   99.63   99.76   99.51    1.00\n",
            "173    2600        206.81    152.12   99.39   99.27   99.51    0.99\n",
            "202    2800        304.60    160.84   99.64   99.51   99.76    1.00\n",
            "\u001b[38;5;2m✔ Saved pipeline to output directory\u001b[0m\n",
            "model-last\n"
          ]
        }
      ]
    },
    {
      "cell_type": "code",
      "source": [
        "nlp_ner = spacy.load('/content/model-best')"
      ],
      "metadata": {
        "id": "HjY58x9GvLQV"
      },
      "execution_count": 51,
      "outputs": []
    },
    {
      "cell_type": "markdown",
      "source": [
        "### 2번째 향수데이터 : text2"
      ],
      "metadata": {
        "id": "MeYQZBLs0m0h"
      }
    },
    {
      "cell_type": "code",
      "source": [
        "text2 = '''This keeps growing on me more and more   It has also increased my love for blue fragrances   It s fresh  bright  ambery  and warm   I always feel really good when I where this one   I love the sharp  zesty citrus in the opening and how the florals blend with the cinnamon  Ambroxan  and Amberwood   It adds a warm  coziness   This lasts forever on my skin   I can smell it after a work day   On occasion I layer this with MFK baccarat rouge 540 and it is amazing   This was my signature fragrance for a long time   It works anytime  anyplace  and anywhere   However when I where this to work one to two sprays max or it was to strong   With that being said this has great performance   There are others like this but this is well rounded and refined   This is a high quality blue fragrance with a lot going on   My girlfriend loves this more than me and she has a great nose   It s funny how that works   With all that going on it makes this easier to reach for without a second thought   \n",
        "9 5 10 This is a case of being lured by the top  then left wanting in the mid and drydown  The biggest difference between the real thing and all the dupes is that beginning  an awesome fruity melange that doesn t smell of the citrus listed  but citrus melded with the hedione  violet and cinnamon to create a berry like  delectable vibe  Blink and you re in the looong floral mid  with lavender balsam fir ambrox spiking out at you  It s not far from a Beau de Jour   Eau Sauvage landscape  and its quality is not in doubt  But it s too familiar here and holds fast to this lavender spike  That s when you ll long for that first berry impression  Several hours in  you re left with a nice amber  minimal woods   with close projection  Nice  really  but not  150  nice  I m fairly new to this   been wearing fragrances for a long time but typically only had a couple in my collection  As I ve dove down this rabbit hole and started to expand my collection  I ve found that I typically don t like  blue  fragrances  They just don t excite me or match my personality  Having said that  I decided I wanted to own a couple blues to round out my collection  I sampled a lot of them  To my nose  Percival is one blue that deserves to be in my collection  Is it super different than many other blues  No  To me  it just smells like the best  most nuanced  rounded  smooth  mature  amazing blue  You can get 85  of this at half the cost or less for sure  but for me I was happy to spend the money to have what I consider a  grail  blue scent  In case you re curious  Bleu de Chanel EDP is the other one I ended up with  I also own Nautica Voyage which I really like  Tried today as part of a discovery set  Lavender is there for sure but not overpowering  Initially it smells quite blue to me with a bit of unidentifiable acidic citrus  kind of like a blue bubble bath   nice and fresh but nothing too special or unique  To me  the dry down smells slightly similar to Terre D Hermes because of a slightly dirty orange which I m not overly keen on  It s okay but not for me  I really wanted to love PDM fragrances as I had never smelled them before and heard a lot of rave reviews  but so far I m quite underwhelmed  Percival does not seem to work well with my skin chemistry  unfortunately  I have tried it in different climates  it does smell better in warmer weather but doesn t seem to perform well  A skin scent after an hour  When I first tried it in cool temperatures  it turned into a smell I can only describe as a muddled mess  Maybe the lotion I was using at the time tampered with the scent too  But now in warmer temps where I m not regularly applying lotion  yes it s better  but still only smells like an Old Spice shower gel at best  and doesn t project  It seems like one of the notes  don t know which  but perhaps musk  is mixing with my skin s natural scent and wafting something that just doesn t agree with me   \n",
        "I may revisit Percival another time  but it s a no for me   Disclaimer  I have Covid so I will more than likely have to revisit this review and edit it when I m healthy  \n",
        "My first impression was moderate surprise  I had never smelt a safer fragrance  It was utterly timid and neutered  After the first 5 minutes absolutely delightful notes start venturing out  it s still a very soft and gentle scent  The real stars in this one  for my nose in its current condition  are orange  violet  jasmine  and geranium  The base notes are subtle and appear more and more thought the dry down  It has a sort of clean soapy aire about it although I wouldn t classify it as soapy  This offering could be my favorite from de Marly so far  but I have a few more to get my nose on  The ones I have left to try are the fresh and brighter selections which is my love  7 4 10 Really like this one  For me it s one of those  chuck on and forget  scents  much like BDC and explorer for example  It smells good  has great mass appeal  nice projection and longevity  And yes  it s true this smells like fierce and legend  However  this is miles better  Smells much less synthetic  which sometimes isn t a bad thing  and more natural than either  better quality for sure  The lavender is a star player from the get go  but as it dries down you re left with this rather linear scent but smells great  \n",
        "It s one of PDM s stronger releases for me  PDM can be a bit strange with my skin chemistry sometimes  the performance is lacking on me  whereas it s amazing on others  Layton and Carlisle are good examples of this for me  Albeit be it great scents   \n",
        "Just sample this one and buy it  This is  as most have stated  a niche  more refined  smoother  better performing version of A F Fierce Montblanc Legend  It smells really nice and invokes lots of memories  Performance is above average  but definitely not super strong  Projection   Sillage is good for about an hour  then it calms down and you get sniffs throughout the day for about 5 6 hours  \n",
        "While i love this  I m not sure I can justify the pricing  even at discounters  since i have Legend Parfum  and it doesn t do very much above and beyond Legend in the air and dry down  In the air  it s pretty similar  Up close you can tell a difference  but I think most people would be hard pressed to tell the difference passing by others  Absolute ladykiller scent  I have never received so many compliments off a fragrance until I tried this masterpiece  It shares similar vibes to AF fierce and MB legend but blows them out of the water with pure class  better ingredients  and a much longer life  lasts close or over 24hr on my skin depending on activity level   it beautifully transforms with each layer from subtle zesty orange goodness to a blue scent with just the right amount of lavender and other florals  gives off major CEO vibes and will be liked by all  you can t go wrong with this scent which I believe to be the best creation from PDM so far  This scent is insane  My fiance had a sample of of Percival  and let me say HOTdamn   \n",
        "Top  Fizzy citruses and bitter green fir\n",
        "Mid  CLASS ACT geranium  lavender and some fresh spicy showergel  barbershop magic \n",
        "Bottom of  hot sand  salty warm ambroxan and chewy golden amberwood \n",
        "The cinnamon and amberwood   mandarin makes it slight cola esque  but in the most modern  refreshing mouthwatering way  The top and bottom notes melt instantly to me  \n",
        "Graceful and seductive with his sunkissed skin and ironed linen shirt  Even my stepmom who hates every perfume besides Molecule 01 said woah     Probably the best  freshie  I have ever smelled  Absolutely amazing execution by PDM  Encompasses a rare depth to this style of scent  which is often fairly one dimensional   Transitions into an extremely pleasant  almost powdery dry down while maintaining freshness  Best fragrance in the PDM line in my opinion  Nice to have a PDM that doesn t resort to the ubiquitous  vanilla  note that they spam into every fragrance  AF Fierce comparisons are definitely apparent  If you enjoy Fierce or Montblanc Legend at all  this is the luxury upgrade  Dumb reach  great performance as well  lasts forever  If you can find a 4oz bottle below retail it is a must buy  in my opinion  Percival is among the  safest  choices within the house of Parfums de Marly  a bright  oceanic scent reminiscent of fresh colognes from designers or common retailers  It is bright and inviting  A consistent  compliment getter  from youthful people  It doesn t scream sophistication  but more so simplicity  The opening pours citrus onto delicate lavender  like an expensive shower gel  and quickly mellows into light florals with the smallest hint of spice  On the dry down  close to the skin  remains the freshness but with a whisper of green woods from the Pacific Northwest  You re not likely to have company think you are wearing something expensive  but you are likely to have people comment and get a bit closer  It s the perfect excuse for a sweetheart to place their nose near the nape of one s neck and linger for just a second too long  A crowd pleaser  but perhaps a bit too dear  \n",
        "Who wears Percival  I picture a young man  late 20s  who is successful and rich but mostly as a result of nepotism  He has a date tonight  He stands in his shower  marble from floor to ceiling  steamy water shooting from inlaid jets in the walls and falling from the ceiling like a rainforest cloud  He s devastatingly handsome and knows it  Too confident for his own good  but perhaps less so when it comes to fashion  He steps out of the shower  wrapping a towel around his chiseled waist  He wipes away the condensation to admire his perfect teeth and rolls on the same deodorant he has used since high school  But before leaving the misty bathroom  he grabs his bottle of Percival  It s new  but reminds him of an old friend  The perfect evolution from when he wore Abercrombie   Fitch s Fierce  in prep school  or Montblanc s Legend  at Columbia   A few sprays on his freshly waxed chest and he knows he will impress his date  The final ingredient to complement such an alluring beau  The opening is strong if you do more than 4 applications  you get the citrus and ambroxan it lasts for around 20 minutes  You get fresh citrus notes and that fir it starts settling into a floral spicy but not feminine  you get some faint woods and musk and almost no ambroxan at the end  It does remind me of Montblanc legend but this is way better  Higher quality better scent and very masculine  You can wear it all year round but not in really cold weather  It has good performance 8 9 hrs and arms length projection for 2 hours at least  For this type of fragrance it performs great  The price is high because it s from a niche house but profile is very familiar  If you get it for a good price get it  full retail I would not pay for it even if it s great  This is a citrusy  woody  musky scent   \n",
        "It smells like a really nice citrus shower gel  or those gel crystals we used to all burn in the 90 s   \n",
        "It s a great scent  and a mass appealing compliment getter  Is it worth the asking price  Probably not  but it depends on your budget and who you ask   \n",
        "You can t go wrong with it  it s really nice but for the price point you d expect better longevity   \n",
        "There are better fragrances at this price point  After having different batches of Percival over the past year   selling   buying   selling again   I ve come to realize it actually smells like a chemical mess  exactly like the cleaning product used at my job    Very reminiscent of the newer Creed Himalaya in terms of the punchy  sharp   musky overload thing going on \n",
        "If I could rank the scent profile DNA \n",
        "1  At The Barbers  muah    \n",
        "2  Platinum Ego ste  classic  but too sharp \n",
        "3  Creed Himalaya  not enough  flavor  \n",
        "4  Possibly  MFK Masculine Plural \n",
        "The citrus needs to be amped up \n",
        "The lavender is of low quality   smells sharp metallic  on top of that is the ambroxon amplifying it  and the must just creates a cloudy haze kinda smothering the notes together  \n",
        "Bottom line  I ll just stick with Sedley forever   I read a lot of reviews with people saying this or that fragrance is nice but it doesn t blow them away  \n",
        "It s weird to me because I am a huge fan of fragrances and by virtue of being a huge fan am constantly blown away by them  That being said  most fragrances do not blow me away but a good few do  \n",
        "Percival is just such a fragrance that has blown me away  truly  And the reactions to it have blown me away  People really like the stuff and it smells great  \n",
        "It indeed has a similar vibe as Abercrombie and Fitch Fierce  but is smoothed out and matured  \n",
        "Very pleasant and very easy to wear for any occasion  \n",
        "PDM in general makes some killer fragrances and Percival is no exception  \n",
        "I love it and would recommend it as a blind buy  I just want to premise I picked up a decant from a subscription service as I m running out of interesting scents to try I figured I d try this  So this is not my type of scent  take that into consideration  That said  how many times has this scent been done     I haven t smelled aqua di gio in a long time I didn t like that either but this instantly brought back memories of that one and many others  Just a sharp piercing Freshie  Amber is listed in notes  Cinnamon  There s no warmth here no juxtaposition of notes   More proof also how much I dislike ambroxan  I m not a  blue scent  guy but Bleu de Chanel Versace Eros and some others are pleasant enough  This doesn t remind me of those  I couldn t bear this scent all day  Terrible As I am finding with more and more hyped niche  this fails to impress me \n",
        "I get it   I have been wearing fragrances since the mid 80 s   the original Jazz  Kouros  Romance  Eternity  Envy etc etc  I was lucky to discover Green Irish Tweed in the late 90 s which has been my signature spoil ever since \n",
        "PDM hasn t wowed me at all   as soon as I put this on  I had memories of Eternity  Michael Kors and my  20 bottle of Mont Blanc legend spirit \n",
        "Sure  Percival has quality ingredients but there s just no originality in it  \n",
        "No way known I would pay the asking prices for this \n",
        "I encourage blind buyers excited by niche fandom to sample these first   Glad I sampled first before buying into the hype  Percival is really nothing outstanding  it s your standard blue fragrance which is slightly more well blended  but not by too much  This fragrance smells shockingly close to Ambercrombie and Fitch First Instinct Blue for me  which I picked up for 20 bucks at a discounter  Perhaps the performance is a bit better on Percival  but I don t think that justifies its pricetag   \n",
        "All in all  it s a fine scent  just way too overpriced for what it is  You re better off buying a cheaper blue designer imo \n",
        "EDIT  just bought Montblanc Legend and it s literally almost the same as Percival  If you want a cheaper alternative try out that one  Got a 50 mil for under 30 bucks Yea you can say it s boring blue fragrance  yea it s a similar fragrance to others in the market or simple composition but this is perfect in every aspect  People around you will notice the quality difference  even so they will find the smell familiar which is already impressive \n",
        "There is no doubt how much hard work has been put into this to perfect it  it s simply didn t noticed because of the scent profile it is \n",
        "Overall I don t like blue fragrance so use them rarely mostly in gym days but when I have Percival on I love the experience it brings \n",
        "One of the best blue centric fragrance on the market  it has it all  even if you don t like this profile give it a chance I love this stuff  very fresh   easy to wear and so versatile i never have to consider the time of year  occasion  or location when i spray this on  Its is one of my wifes favorite scents on me  second only to Elysium  i have a 200ml of MB Legend EDT  and while i get similarities  Percival smells much higher quality  lasts way longer and overall is a much better fragrance  i dont see owning both as redundant   \n",
        "Buy it  dont buy  like it  dont like it  I dont really care  i love it and will continue to buy it for that reason and no other  I tend to waffle back and forth on this one  From  I love this  to  it s just ok   No other fragrance in my collection does this to me  I think I may go nose blind to this one quite easily  as my perception of longevity varies between a few hours and as much as 10  \n",
        "It s fresh and aromatic with a refreshing quality off the top  Slightly sweet and ambery  but not too far in either direction  It s playful leaning while still being suitable for a middle aged male   \n",
        "One thing is for sure  don t pay retail  Find it from a reputable discounter  I bought this after initially not liking it  I thought the same thing most people have said  smells like Fierce  etc   But there s something special about Percival  Maybe it s the high quality ingredients  All I know is  I don t get tired of smelling it  and it gives me kind of a  boost  when I put it on   \n",
        "And also maybe because of the high quality ingredients  I can smell deeper into it and still find it pleasing  I can t do that with the other ones that smell similar to Percival  Also  my wife absolutes LOVES the smell of this  It would probably be hard to find anyone who doesn t like this smell   \n",
        "I bought the 125ml because I plan to use it often  and as much as I want  The other two PDM s that I own  Layton and Herod  smell more INTERESTING to me  But  they just don t have the strength that Percival does  Also  I m a self admitted over sprayer  I love for people around me to enjoy my fragrance  And this one is enjoyed by EVERYONE   \n",
        "I love checking the reviews on Percival from time to time  I love that it is controversial  it makes it very interesting to read the comments lol  \n",
        "Oh  one last thing  I bought mine at a discount  If I had to pay full price  I would not have gotten it  I think the retail prices of PDM are comically ridiculous  It smells a lot like joop nightflight  but less sharp \n",
        "Very smooth  and gives the vibe  not smell  just vibe  that you get from fragrances like creed aventus \n",
        "Fresh  sweet and somewhat smokey \n",
        "It also has a barbershop base layer  but it enda up smelling clean while rest of the fragrance makes it modern  \n",
        "I really like this  \n",
        "BUT  Omg  This stuff is nauseating  1 spray and I was good all day  and it easily got cloying \n",
        "I had to spray my back to keep it from overpowering me \n",
        "The way i see it  a perfect fragrance is airy enough for your skin chemestry to work with it  and for it to be a part of you \n",
        "On the other end of the spectrum  are the fragrances that feel like a thick layer over your skin that suffocates your natural scent  \n",
        "And this fragrance feels like that thick layer  which is a shame  All PdM fragrances feel like that  and I think thats why people compare it to designers   \n",
        "In moderation  and by spraying it where it stays a bot more hidden  it might feel a bit airy and more natural  And this just performs extremely well  \n",
        "Im very close to picking up a full bottle  \n",
        "Edit  i bought a full bottle \n",
        "Its better than most fragrances out there  so why not  right  This catches a lot of hate  you ll have that  \n",
        "Is this similar  clone  inspired by A F Fierce and MB Legend  Oh yeah  100   \n",
        "Does this do it better  OH YEAH  100   \n",
        "Doesn t smell at all natural but does smell of higher quality and blend than the aforementioned  Great performance  people pleasing  anytime fragrance  What this fragrance does is well known and documented  so if you re not sure it s for you  sample sample sample  \n",
        "PDM seems to catch a lot of hate for being a niche house with wearability in mind  and I can t say that I understand  For the people who don t enjoy wearable scents  there is an extremely easy solution right in front of you  \n",
        "DON T BUY IT  \n",
        "There s no reason for all the hate and Fragrantica is stricken with it anymore  You can t scroll through any new release that s mildly appealing without a host of condescending  experts  telling people how horrible it is just because people like it and someone told them they smelled nice  Just be quiet and sniff your poopy oud  \n",
        "God bless  This was an important fragrance for me  I did a lot of reading  trying to find a freshie I liked  This came up on a short list of ones to try  So I did  \n",
        "This is everything that I personally dislike in fragrances  It reminds me of trendy mall clothing stores  guitars as props  and M83 and Phoenix remixes on repeat  It smells artificial  cloying  and pungent  It s like smelling the results of someone trying to replicate natural scents from a written description only  \n",
        "Look  it s potent  it s long lasting  it s probably very high quality  If you like it  then this is probably the shit  I hated it though  and it s helped me understand why I don t like some other fragrances  Worth checking out  Damn people love this shit   especially in the air  I like it too  but I m surprised that Legend Fierce Percival is enjoyed by younger people  It s very barbershop to me and I m surprised by that  Anyways  this is VERY well done and probably my favorite PDM with the possible exception of Layton Exclusif   haven t tried Carlisle though I hear good things    \n",
        "Edit  wtf got another 2 compliments today  Wearing it today I also realize it s a MUCH MUCH better performing and smelling version of Tom Ford Fougere D Argent  One of those scents that just work in any situation  Projects really well for me and stays on my skins for hours  Very mass appealing  people around me think it smells great  Its really an addictive none polarising fragrance  Only downside  I think the scent may not be as unique some may feel it needs to be for the price but i personally don t care about all that  Generic or not i buy what ever i feel is worth my money and this is totally worth it to me\n",
        "   I have been wearing this a lot and comparing with A F Fierce because they are so very close  Percival is a rock star fragrance  can be very loud if oversprayed  But the scent is mass pleasing  Everyone I have ever come across things this smells great   truly  hey there is a reason why A F Fierce was one of the best selling fragrances on earth for many many years   This DNA works  To those that think this is weak   very interesting in that I read only 48  of people can smell ISO super which I bet this has since Fierce did  I have run into this myself where Percival is loud and I over sprayed and I cannot smell but others pick up the cologne easily that I am wearing and yet some others cannot \n",
        "Overall this is a super versatile fragrance but expensive  Performance does last longer than Fierce but Fierce is not bad  obviously new version is softer than the original beast mode fierce  and if money is tight  Fierce is a great way to go  I tested Galloway before this and didn t like it that much  I ll try it again   maybe I was having a bad nose day   So I was a bit wary trying this one  thinking that I may not like it   \n",
        "The opening is fresh citrus  I mostly get bergamot mandarin coming through on my skin  As it settles  the lavender comes through  It s a pretty safe scent  and certainly won t offend anyone in the office  if that s what you re looking for   There s a sweetness in the dry down  but not feminine in any way  \n",
        "I didn t get great projection or longevity  but also didn t over spray it  It s only a 5ml sample  so will give it another go with a few extra blasts to get a better idea  \n",
        "Re  cost  it s a bit overpriced for my liking  but can t deny that it s a decent smelling frag \n",
        "Will I buy a full bottle  No  Grabbed a couple 1 5 ml carded samples and I can definitely see the resemblance to Mont Blanc Legend but higher quality ingredients  I get a hint of Axe body spray from Mont Blanc fragrances but I don t notice it with Percival   Unfortunately the performance seems abysmal so it is hard to notice much of the scent at all  No real projection  barely a skin scent by 30 minutes and not detectable at all by hour 4  The opening and mid smell is quite nice the dry down smells like just ambroxan  It smells like a body wash shower gel  Lots of soapy vibes  I have to stick my nose to my skin to pick up the scent   It is masculine and if it performed better it d be a win  I got a sample of this from a trusted seller and I cannot understand what is going on  I swear I can t smell anything I must be completely anosmic to this or the performance is extremely weak  For a moment I thought I lost my sense of smell because there was nothing on my skin but after I sniffed so hard my neighbour probably thought I was racking lines I finally picked up on something that resembles abercrombie   fitch fierce and mont blanc legend   \n",
        "The smell is a fresh citrus  with a soapy   floral smell  there s some supporting wood  possibly cedar  and a light musk base  The scent smells sporty  soapy and fresh \n",
        "However if the performance really is this bad  go with Abercrombie   fitch fierce  After comparing these 2 side by side Fierce has way stronger performance and at least i m not anosmic to it \n",
        " I could be completely wrong  I almost feel like it s not even fair to judge it because I smell like literally nothing  Experience  Wearing a slim fit blue poplin button down tucked firmly into slim fit chinos  because  today  is the day Sheila in accounting is finally going to notice you  \n",
        "The fragrance itself is bright  fresh  mildly  blue   and extremely crisp  The harsh chemical top notes present in many blues are dialed back and the effect is akin to Green Irish Tweed  but not quite as smooth and more forgettable   \n",
        "Definitely fresh and bright  Also  moderately sweet  and a touch woody and floral  I would wear this if my primary reason for wearing fragrance was to smell nice for others in professional settings  But this doesn t do much for me personally  \n",
        "I sampled this weeks ago and then completely forgot about it  Today I tried it again and found I d taken notes last time  It s really not particularly memorable  But it is very safe  smooth  and clean  I understand the comparisons with Mont Blanc Legend  but Percival is way more musky  and the citruses are beautifully vibrant and carry the lavender and other flowery notes with depth and richness  It s not just a plain lavender scent like Legend  \n",
        "Do these details justify its steep price tag  I ll let each and everyone interested in this scent decide how they feel about that  but another element that has to be taken into consideration is performance  This lasts and remains potent for several hours  8    and it projects quite a lot  Nothing to do with the performance of Legend  \n",
        "Versatility is also really good  this can be worn on any occasion  during any season  and in pretty much any weather  although I d definitely say it s a fantastic summer scent   \n",
        "Does this fit the  freshie  category of scents  Yes and no  It s a bit rich  musky and round rather than light  it s more elegant than juvenile  more flowery than citrusy  but it s definitely a crowd pleaser and a safe scent that smells very clean and quite fresh  Sedley from Parfums de Marly is a true freshie  Percival is their jack of all trades  but master of none  Not a revolutionary composition by any stretch of the imagination  but certainly one that s executed with fantastic expertise and attention to detail   \n",
        "I have a 125ml bottle  and use three sprays on each wearing  It will last me a lifetime   \n",
        "7 5 10 This is a great one but honestly  as someone who owns both Mont Blanc Legend   This   but a small ver    I can t justify telling someone to buy this instead of Legend  \n",
        "They are way too similar and the price difference is massive \n",
        "The other difference I will point out is  Legend tends to be brighter than this one  Others mentioned the  quality  and  longevity  which is fair but  Legend lasts for a good couple of hours as is  which is excellent and quality   \n",
        "I mean can you really tell if you didn t know  As I have it on both hands  you re not smelling it and noticing it  unless you have some bionic nose that no one knows about  \n",
        "If you don t care for the price  then by all means  go for it because it is a good one  \n",
        "This is by no means a knock at Percival  this is just speaking from someone who owns Pegasus  Layton and had some others before  and those were damn unique and great  I want that when spending the   for it    not something that smells like something else before it  I just can t understand why PdM reformulates all of their scents to the hell and back in a couple years after the release  The performance is just abysmal in the newer bottles  making the current formulation of Percival probably the most ridiculously overpriced niche scent out there   \n",
        "Having said that  I must concede that Percival  especially the original formulation that I managed to acquire  is one of the best  if not  thee  best scent in the blue fresh designer ish category  Although it s nothing new or groundbreaking  it s perfect at what it tries to be  I can t imagine a single person on the planet   apart from some frag snobs   that would dislike the scent  I thought I was going to like this one considering it s a  blue freshie  but when I sampled it I found the lavender to be too floral and turned the scent unisex  PDM truly do make their scents unisex which is great but for me this is too floral  Even when I had my girlfriend smell it she thought it was feminine  which lead me to giving her my decant with rought 3 5th remaining  I didn t think the longevity was too crash hot either but their is an overload of amber woods in the base so it s possible my nose went blind  Considering how Layton has performed for me I trust the brand has made a high quality scent with good lasting power  \n",
        "This one isn t for me even though it is a high quality product  But I think this is the fragrance that cemented in my mind that niche priced fragrances really aren t worth it  Anything that costs more than  250  300 AUD is a stretch for me  I reckon a fragrance like YSL Y EDP shits all over this and that s not even my favourite designer blue fragrance  If you like this and can justify the price then please don t let me stop you  I could get two top tier designer frags in 100ml bottles for the cost of one 125ml bottle of Percival  Discounter only fragrance  It is the best fresh fragrance from this house  as it has the most projection and good longevity  This one is easy to get noseblind  Forget about sedley and greenley  The only other good fresh fragrance is galloway  which is perfect for the office but also another only discounter purchase fragrance  This is extremely versatile and super super mass appealing  one of the few fragrances a woman will tell you that you smell really great   \n",
        "Also the notes in fragrantica are not 100  accurate  this is the actual notes from the actual website from PDM  \n",
        "Top Notes\n",
        "Bergamot  Mandarin  Pink Pepper \n",
        "Heart Notes\n",
        "Lavender  Geranium  Cardamom \n",
        "Base Notes\n",
        "Balsam fir  Woody spices  Tonka Bean \n",
        "Amongst the top notes  scents of bergamot and mandarin sublimate through a touch of aromatic water to offer a unique combination  The heart notes give Percival its character and depth through a blend of natural jasmine  violet and geranium  overlapping with lavender  coriander and cinnamon  On the skin  musk mixes with pepper  absolute balsam fir and  to give emphasis  woody spices are revealed at the base  Lovely smell but it seems very generic  Even someone I know commented that they smelt the same fragrance at the cinema which seems highly unlikely  The fact that it is very generic smelling is a bit of a minus for me \n",
        "Tried a different batch tester and the performance was mid good tier  6 hours and projecting for the first 2 3  I bought a fresh batch bottle and it literally is a skin scent after 45 minutes  projecting maybe for 20 minutes  Projection is none and the fragrance seems to be neutered  After a couple of hours I can still smell the fragrance but only if I smell VERY closely   \n",
        "Would not buy for retail because of how generic it is and its performance issues  Might be a problem on my skin  other people do not seem to have the same issue  \n",
        "EDIT  bottle is 82  so not only a problem for me  This might be the first and last PdM bottle I will buy \n",
        "EDIT 2  I spoke to a rep at PdM about reformulation dilution and this is what they answered   Percival formula has not changed and has never been reformulated since its creation  and the change   vol  does not affect the holding or the olfactory of the reference \n",
        "Regulations change and calculations evolve as there are instances in which adjustments must be done to be in compliance with the legislation governing the Cosmetic Industry  Therefore the   vol  has changed  \n",
        "So alc vol   has changed but they say it doesnt affect performance  that is a lie  okay so i purchased this  and don t get me wrong it smells great  but as I realize this lavender opening is center stage  I m talking Jo Malone Lavender   PRada Luna Rossa Carbon  even John Varvatos Nick Jonas  Even Montblanc Legend intense with it s grapefruit is a similar comparison  For the price of 225 i paid at saks you  and I  could get a far better range of colognes  js \n",
        "also some1 said platinum egoiste and id have to strongly agree I bought this as a blind buy because I trust the Parfums de Marly  PDM  brand  I don t usually blind buy fragrances  especially not at this price point  but I m glad I did  I ve worn it about 5 times so far and each time the experience has improved  and it was outstanding from the outset    \n",
        "I m surprised no one compares this to Chanel Homme Allure Sport eau Extreme  CHASE   To me  Percival is like a more refined  elegant  longer lasting alternative to CHASE  It has a similar refreshing top and the creamy base  minus the thing that used to bother me  personally  with CHASE  I can t explain it  just that something made me faintly nauseous with CHASE  even though the scent was excellent   My wife loves CHASE  but since Percival has replaced and I ve since sold my CHASE  she is happy still   LOL  \n",
        "I would definitely recommend this scent  I m a healthy  active 53 year old man and it suits me for just about any occasion  but I could see a much younger man wearing this well  My signature scent is Creed Bois du Portugal  old school  and my go to date night scent is PDM Herod  Percival is what I prefer to wear when I m not wearing one of those  I have Legend EDT and EDP and Fierce \n",
        "To me PDM Percival is worth the extra money  It lasts all work day   on my skin 8 9 hours   It projects well  It gets compliments  It is slightly more mature and more refined version of fierce Legend etc  That difference in quality and performance is detectable  I still find space for Legend  both EDT EDP  in my collection and wear them from time to time  To me Percival can replace Legend  but Legend can t replace Percival    if I know I will take shower in 2 hours   like Gym   i would not wear Percival as it would be waste  \n",
        "It does not remind me of Platinum Egoiste at all  I have and wear it  \n",
        "I have 4 2 Oz bottle  and will very likely replace when needed   \n",
        "Strong recommend  but not a blind buy \n",
        "9 10 scent\n",
        "8 10 projection\n",
        "9 10 performance  Percival PDM  \n",
        "I have been trying different PDM perfumes in the past few months  and both Sedley and Percival seem to remind me of my childhood  Not in a nostalgic way  but I remember smelling something similar on someone dear to me  \n",
        "The first time I put this on  I didn t enjoy it much and found it extremely basic BUT sexy  A while ago I wanted to give it another shot  and now I like it much more  It is mass appealing same as most PDMs  and effortless to wear daily  I used to wear sedley a lot to the gym and to go out on casual summer days a lot but a while ago I started to wear percival much more often  \n",
        "My favorite part about it is how lavender packed it is  You feel like walking in a lavender field  Exceptionally well blended and ambroxan heavy  I find it much sexier than Sedley  \n",
        "It reminds me of cedrat boise by Mancera  not in the way it smells  But the occasions I would use it for  Fresh  citrusy  sexy  and woody  but this one has an aromatic dry down  It might smell basic in the begining but there s a reason designer brands make basic perfumes  it s mass appealing  Percival is a mass appealing scent but it s unique  You re not going to smell like anyone s ex boyfriend  \n",
        "The longevity was not the best on me  I had to reapply it a few hours after the first application  It does smell very masculine  and I d find it the most enjoyable to smell during the daytime in the summer and spring  \n",
        "Smell  7 10\n",
        "Longevity  6 10\n",
        "Masculinity  9 10\n",
        "mass appeal  9 10 This is a very copied DNA  I have done multiple side by side comparison to Platinum Egoiste  At first  I had a tough time distinguishing them apart  Percival is a bit fresher and ever so slightly sweeter  I would say  for most people  it would be redundant to own both  Based on price alone  PE would be a better choice  The biggest difference that I notice is in projection and longevity  Here  Percival reigns supreme  However  if I am to judge Percival as a standalone fragrance  I would put it in the love category  Lasted on me 10 hours  Projected for 7  Wife loved it What more do I need from perfume    \n",
        "Because of Ambroxan you can go nose blind to it  This one will get replaced in collection when it is done \n",
        "There is some similarity to Legend  both EDT and EDP   but quality and performance  on my skin  is completely in different league  tested myself as I own all 3  \n",
        "This was my 5th PDM  and so far happy with all of them  \n",
        "Strong recommend  but not a blind buy   not at that price   I was not obsessed at the beginning with it but yesterday i sprayed it before i went to work and i forgot that i even sprayed it  After work was done after 5hr i changed my t shirt to the one that i sprayed percival with and it made me crazy  I forgot which fragrance it was and i was sniffing all the time my tshirt and i was so confused and sure that i don t own this fragrance  But when i got home i looked again at my fragrance collection and i remembered which one was  And now i appreciate it more because i know what people think when they smell it  \n",
        "Update \n",
        "This is sooo easy to wear and so likeable  I really enjoy it wearing it in a hot summer day or after a shower  It s a refreshing a little bit cold fragrance \n",
        "Definitely high quality  \n",
        "Im sure I ll buy this again  \n",
        "Tbh honest when i bought it  i regretted it  but now is my favourite dumb reach compliments getters  \n",
        "Day  night  hot  cold  casual  formal  Fits with everything 2021 batch review  \n",
        "mannnnnn     I love this one  it s my favorite freshie out there  followed closely by Kalan  I absolutely love this bright  shiny  sexy man smell  \n",
        "like Fierce but better  juicier  higher quality  and longer lasting   \n",
        "yes it s mass appealing  but that s never been an automatic negative for me   \n",
        "of my collection  this garners the most compliments from those around me  and every time I wear it  \n",
        "with 3 4 sprays I get moderate protection  great longevity  8 10 hours   and the scent trail on this is what makes Percival special to me  sometimes my coworkers say  we can smell when you ve been here   \n",
        "I d say 9 5 10     maybe 10 10 So hopefully for those that read this that you find it insightful and helpful  I ve owned this fragrance for 2 years now  I bought it for my 19th birthday in the summer of 2020  Yes it is an expensive bottle  I bought the 4 2 Oz bottle because I knew it was going to be a signature scent I d wear year round  so it was the cost per wear that weighed out the high price  If you know you re gonna wear or use something often or all the time  then the price in the end will be worth it because it ll last longer in the long run  Though  I will say I wear it less in the winter months as I have other fragrances to use  Even then  I use it when I want to smell fresh  charming  clean  and alluring or in winter for a change up from sweeter scents  I smelled this fragrance back in the fall of 2019 at a Macy s in Chicago and I had been doing research about the PDM house  I thought for sure I was going to love Layton  but didn t as I thought it was similar to eros which I already own  As soon as the sales woman sprayed this scent  I was immediately in love  For some reason it was a scent that I hadn t smelled before despite it being somewhat similar to legend and fierce  It has notes in it and a quality to it that far surpass those fragrances  I will agree that it s the opening where you get those similarities  In the mid and dry down it differs from those other scents it s often compared to  This scent  as I still have my 2019 bottle with a little less than half left or about half  lasts on me easily 12  hours  On clothing  I can smell it for days after even in my laundry when I m about to wash my clothes  Even after washing  I can still smell a very faint trail of it before it completely fades  It s my longest lasting scent in my collection of fragrances  The next fragrance that comes even close to that longevity is my 2016 or 2017 bottle of Dior Sauvage EDT  Even then  this fragrance projects still very well after that 12 hour mark  I had someone from about 5ft in front of me tell me how good I smelled  This fragrance is a compliment magnet FOR SURE  At my mom s wedding in July last summer  I brought a decant with me and had forgotten it at the reception  My mom s friends the next week who were at our house for my step dad s 40th birthday had found the decant bottle  One of them was saying when they had found it  they sprayed it and were absolutely in love with the scent  The one woman described it as fresh  woody  musky  and had some nice subtle spice to it  Then she said how it was that type of scent you went  wow  over and were intoxicated by  Then she sprayed the decant for the other friend next to her when she also was like  omg yeah this is amazing stuff   I told them how it was some of my fragrance I had put in the decant vial  They were very impressed by it  Overall  easily one of my favorite fragrances I own  In my top 3  if not my number 1 and I own about 12 fragrances and have selective preferences in what fragrances I buy  I ve smelled a lot of niche and designer fragrances as well rather in store or through samples  Some niche snobs argue that this one isn t good because of it being too  generic  but I enjoy this one isn t trying to be some heavy unique scent with oud or whatever else  Those are for niche enthusiasts to enjoy  but for me who s well into the fragrance community but doesn t care too much for niche this is perfect  Does this smell  like  Legend Fierce  Yeah  sure does especially in the opening  Is this in the same league as Legend or Fierce  HELL NO  Much like Sedley is with Boss Bottled Infinite   this is modern designer taken to a whole new level  It s the daily driver   with quality and nuance  \n",
        "This is a mass pleasing scent at the end of the day  and for that reason some will automatically write it off  But this is what you want to buy when you finish your bottle of fierce or legend  The blending is better   still a bit  synthetic   but how could it not be when aroma chemicals make up half the base  Everything goes together nicely and you ll be hard pressed to find someone who tells you at the very least you don t smell  nice   If you re looking for a high quality  long lasting  decent projecting every day scent   this is one to sample at the very least  Don t believe the anti hype  not every niche fragrance needs oud Definitely smells like my  30 bottle of legend  however it lasts much longer and is much much more elegant and not nearly as synthetic as monte blanc  Very Much a all around fragrance  anytime anywhere and you just smell good  this might be a weird observation  but a couple days after buying it in the Manhattan PdM boutique  I thought this is what a Puerto Rican man would smell like  IDK but this popped in my head  very awesome  probably overpriced  but id absolutely buy it again  George  The Fragrance Apprentice   in one of his videos  said that he remembered smelling Creed Aventus when it first came out and thinking to himself   this is pretty much how a modern man should smell  or something along those lines  Don t quote me on that   \n",
        "That is pretty much the exact reaction I had when I sampled PdM Percival for the first time  As others have said below  fresh  elegant  masculine  sexy  To me  it s a good mood fragrance  I can t help but think of summer when I smell it  That being said  for me  it s the ideal  all occasions  dumb reach fragrance  It checks all the boxes   \n",
        "Is it something new or innovative  Far from it  this is certainly a familiar smell  but it s so  soooo good  Plus  people are more likely to enjoy things they already know  This is absolutely signature worthy  as long as you re not the type that needs something super unique and out of the box  this is amazing   \n",
        "This definitely has a throwback vibe but doesn t smell one bit dated  it s still as modern as ever  It s sophisticated  yet casual  Sporty  but also elegant  I don t know what more I need to say  You can wear this at any age  and it ll do great for you   \n",
        "Now  there s one problem I have with this fragrance  It s the price  But even though I find it pretty overpriced for what it is  it s done to perfection and I don t regret getting it  Similarities to A F Fierce and Montblanc Legend  but neither of them holds a candle to Percival  in my opinion  I m not really familiar with the current batches of Fierce  but I can speak on Legend EdP  because I bought it  hoping to get a Percival for cheap  After giving that one full wear  I was bitterly disappointed  Legend EdP  which is supposed to be smoother and less harsh than the EdT  mind you  has a really harsh  sharp opening that stings my nose and gives me a headache  It gets better as time passes  but that harshness never completely fades  Despite that  it lacks the certain beauty that Percival has   \n",
        "I find it surprising how these two frags have such similar smell  and yet one is so utterly outclassed by the other  My advice  if you re contemplating buying Legend  don t bother  There are other fresh cheapies out there that are way better and more pleasant than Legend  If you love this kind of DNA  just get Percival  It is ultimately overpriced  whether you want to spend the money is your decision in the end  You pay a premium price for premium quality  Don t blind buy this fragrance as I did  For me  and all my family and friends  its smells like very old school and annoying fragrance  I tried so hard to like it but it still not for me or anyone around me    \n",
        "I don t like to say negative feelings about any fragrances as its a matter of taste  However  I have to say this because many YouTubers are trying so hard to make you feel its the one for summer and it s something new   No one said anything about it s an old school type of fragrance and it s a lavender bomb  \n",
        "Don t do my mistake try before you buy  Anyone that says they hate this are just being negative for some reason  This scent is amazing  yes it serves the same purposes as some other popular ones out there but it does not smell the same  You might spray this on a tester and pass it by but that would be a mistake  wear it a few times and you ll start to realize its not like any of the others  Its smooth and complex  opening up fresh and juicy and evolving into a smooth wood with a touch of a fantastic musk note  PDM doesn t disappoint with this one at all  I get compliments on this one quite often and one of my co workers bought themselves a bottle after smelling it on me when I went to the office a couple months back  1st wearing   Did i just bought a 300  mont blanc legend   Lol \n",
        "2nd wearing   This actually smells more complex  smooth and grown up Amazing mix of blue and classic fougere elements  \n",
        "3rd wearing   This is pretty nice   extremley sophisticated  masculine and classy  performs for a whole day  \n",
        "4rth wearing   The compliments are adding up   i can use it in absolutely in any situation and weather  \n",
        "5th wearing   This is a f  king masterpiece  Fresh but elegant  with an old school flare  but not in a way that smells dated   It s a bit airier and brighter than many of Parfums de Marly s other most popular fragrances  Many PdM fragrances smell challenging and overly stuffy dusty to me  Percival on the other hand  is a mature and classy fragrance that still has a scent profile that wouldn t be as likely to be offputting to the average person on the street  It s not the most unique fragrance ever  but it smells high quality and expensive without smelling alienating or like an acquired taste  Very much leans stereotypically masculine  \n",
        "Overall  I would echo what another reviewer said  everyday elegant  Sexy Fresh  Everyday Elegant  High Performance  \n",
        "Now that I ve worn this for a month as a daytime signature for a mid 40s dad  and have sampled 50  top fragrances the last few months  I had to come back and say I find Percival VERY underrated  \n",
        "If you want to simply smell fresh clean manly sexy luxurious delicious all day long  with no weird notes no performance issues no olfactory roller coasters  Percival is absolutely perfect  It s great from the first spray and keeps getting better all through the 10 12 hour dry down  \n",
        "This is lower rated in PdMs lineup and so I say underrated  because niche connoisseurs think it s too straightforward  Well I don t always want to sit back and go on an olfactory journey  Or spend time arguing whether this is blue or Fougere  I want to make my wife swoon and smell on point all day long  and I m not finding many reliable daily drivers that beat Percival  \n",
        "Talk about reliable and versatile  this is a rare 24 7 365 fragrance  It works day or night  hot or cold  weekend or weekday  office or beach  indoor outdoor  running errands  fancy restaurant  gym  date night  That to me makes it a kind of masterpiece  \n",
        "I highly recommend this  and recommend shopping around and finding the current deals  Mine was 125ml 4 2oz for  160 on eBay  new in box  That comes in at  128 per 100ml  so equivalent to  or cheaper  than some of the top designer stuff  \n",
        " And I definitely don t want to get into pedantic arguments with niche experts  but I ll say it might be formally classified as a Fougere but it opens with a strong aquatic vibe and thus Blue in practice  PdM even marketed it as their first  marine scent   We are not calling it blue because it comes in a blue bottle   This review is in response to some of the latest comments  \n",
        "Sure  this shares SOME similarities with Platinum Egoiste  but has a much different overall vibe  PE has a much cleaner  more professional profile that would fit a CEO for example  but I can t see a CEO wearing Percival into the office  Percival has a bit more sexiness to it  ala A F Fierce  that would make it a bit awkward at the meeting table or close encounters with the opposite sex in a private office setting  Probably not a good idea  Percival does not replace PE  \n",
        "That said  I think it might be ok with your colleagues if you re not in a position of high power  but I still think you might want to think about your specific office environment and culture and whether a somewhat sexy and alluring fragrance would be suitable or not  \n",
        "I d argue that Percival shares more similarities with BdC EDT  minus the ginger  grapefruit  and pepper notes on the top and with added lavender that you can t miss  Despite those top note differences  I think the vibe is stronger with BdC EDT than PE and they re similar enough that I don t see needing both as they serve the same purpose  Get both only if you re a collector  \n",
        "As whether this is a  blue  or a fougere  I d say it happily straddles the line between the two probably leaning more blue  IMO IME  And I think it could be office safe for modern casual offices  but I d steer clear in more classic formal offices or if you re in position of high rank  \n",
        "In summary  Percival can replace BdC EDT  but cannot replace PE  \n",
        "BTW  I m A B Cing all 3 of these right now  Not basing off of memory  Yes  This one smells close to Abercrombie Fierce and Chanel Egoiste  It doesn t have the most unique scent profile or it is not the most challenging oudy animalistic fragrance from the house  But  a great fragrance does not have to be these things  \n",
        "First of all  Percival formulation includes 17 different natural ingredients \n",
        "youtu be gJguPpYUxDc t 243  is the source of this information  \n",
        "This fragrance is filled with naturals  It smells exactly like the highest quality fragrance would smell like  So before judging the pricing  understand that these natural ingredients are costly  and PDM is known for their generous usage of naturals  \n",
        "The scent itself is very mass appealing  I have never seen a person that dislikes the scent \n",
        "Citrusy  lavender opening \n",
        "Flowery Hedione  mid  and\n",
        "Woody ambery base  \n",
        "Scent  10 10 \n",
        "Incredibly fresh  great for the heat  Hedione molecule is also associated with some parts of the brain  so it is designed to get compliments  Very versatile  Super wearable \n",
        "Versatility  10 10 \n",
        "Performance wise  it is very good  It lasts for 8 hours on your skin with great projection  It doesn t fill the rooms  but it creates an amazing scent bubble around you  \n",
        "For a freshie  it lasts and projects incredibly good  9 10 \n",
        "Gender  I find this  75 masculine  But of course  it can be unisex if you are feeling like it  \n",
        "TLDR  Fresh  clean  and long lasting fragrance filled with natural ingredients  Compliment king  even more than Layton  Criminally underrated \n",
        "If you are into high quality  compliment getting  long lasting  fresh  versatile fragrances  choose Percival for summer and spring  And maybe Layton for the autumn and winter  \n",
        "Overall  9 75 10 \n",
        "If you are a niche collector who doesn t care about what people think of your scent  or you wear animalistic leather fragrances  or maybe strong rose oud combos  this one is not your cup of tea  Wow  this is what Bleu de Chanel wishes it was  Smooth blue precisely balanced with a luxurious woody amber  It s not harsh blue up front and wait for a rich dry down  It s smooth blue swirling with rich amber and woods from the start  with PdM s signature creaminess underlying it all   \n",
        "This is like the youthful blue fragrances done a million times but somehow made elegant  luxurious  refined for a discerning 30 50 gentleman  I love that it is understated  inoffensive  totally versatile  everyday workhorse that lasts from 8am to 6pm  and yet has that little something that smells expensive and luxury level quality  \n",
        "PdM struck great balances here  between the cool blue and the warm notes  between soapy fresh and aristocratic elegance  and between an everyday mainstream fragrance and luxury niche perfumery  \n",
        "I m itching to grab 75ml for 115 bucks through a discount channel  but still have a few more highly rated samples in my Discovery Set to check out  This would pair well with my Herod though  Percival all day  Herod all night  \n",
        "Update  grabbed the big 125ml bottle for  160  It s  330 if you walk into Nordstrom but pandemic stock is being unloaded through discount channels I guess  \n",
        "Update  received my bottle  it s January 2021 batch  So yes  the 50  off bottles that are being unloaded through discount channels may be excess pandemic stock that weren t purchased because everyone was home and not needing to smell fantastic  It s over a year old but of course still smells glorious and I plan to use it up in a year or two so very very happy with the discount  Luxury perfume masquerading as high quality masculine cologne  \n",
        "When I got into perfumery a year ago I remember smelling Versace s Dylan Blue and it  almost  hit that overly masculine  gym bro  perfume I ve wanted to get  but fell short  This is the perfume I ve been looking for  The best way I can describe this is as male oriented body soap  eg  tacky brands like Old Spice Axe  but with the prestige and quality you d come to expect from a  200  luxury perfume  plus ambroxan and some sweetness   It s clean  fresh  aquatic  sort of showboaty and a little sporty  What amazes me is how the main profile here is something that s been done to death before but something about the composition and balance here elevates this up to be so unique and pleasant  \n",
        "Great stuff  Mass appealing Niche blue fragrance  The only thing against this fragrance is the price   215  Very expensive and other designer blue fragrances can do the job for under  100 pounds  I would pick Bleu De Chanel over this  both feel they re going for the same things  Luxurious but versatile blue fragrance  I d only pick it up if I see it for a good price at discounters  \n",
        "It s not completely synthetic  but you can pick up on it a bit  to what Percival is compared to  but it does feel this fragrance is a niche with designer sensibilities   \n",
        "What Percival has over Bleu De Chanel are longevity and projection  I get over 8  hours and it s quite the silent performer  Can get nose blind to this fragrance   \n",
        "In terms of scent  the opening is fresh  clean  and citrus based and works incredibly in the spring summertime  especially in the heat  Has slight green qualities in the background  The lavender is top notch and really brings the fragrance alive  I love the scent but it s really overpriced   \n",
        "RATING\n",
        "Smell  8 10\n",
        "Versatility  9 10\n",
        "Longevity  8 10  8 Hours \n",
        "Projection  8 10\n",
        "Sillage  8 10\n",
        "Sex  Male \n",
        "Price  4 10  overpriced \n",
        "RATING  7 10 Wild summer parties scent  The night is wild we are in summer vacation Percival fits this mood so well  This is so sexy and I can t imagine my collection without Percival  Last summer I was in Ibiza and I used Percival almost every day after getting a sun kiss and shower  it was blooming like a magic and there is a girl in a restaurant told me  you look good and smell good  I can smell you from that table  the table was like 7 meters far from me  this is rare as a fresh scent  Wow what a great quality    My first time wearing any PDM fragrance  I ordered four 10ml decants to sample  percival  sedly  herod  layton   Was a 60 degree day in Feb in New Hampshire yesterday  so I decided to celebrate the weirdly warm weather by wearing a PDM frag for the first time  Was super stoked to try percival  because ill admit I do enjoy basic blue fragrances while in the office   \n",
        "I get out of the shower  throw this on  start getting ready for work     smells amazing  I head into the office  first person that walks by my desk says  you spend the night at the Abercrombie and fitch store    And that s the last time I m wearing that in the office   now i cant get that out of my head because he was right  if you were to get a quick wiff of this  it does smell like you re in the mall when you walk by the A F store  Keep in mind this guy didn t even come within 10 feet of me when he said that  and I only used three sprays  So points for projection I guess  but not great to know that s what people are thinking when they smell it   \n",
        "I still really enjoy the smell  and any frag enthusiast can tell it s better than fierce and certainly higher quality longer lasting better smelling  but If everyone around you thinks you re wearing a cheapo teenager mall fragrance than what s the point  I ll be enjoying the rest of the decant at home   \n",
        "I should note  this lasts a long time and the drydown gets much better less mall smelling   \n",
        "P S   wearing Layton the next day as I write this review and this is soooo much better  Cant see how this could possibly offend anyone at the office  I got it last night and wore it to work today   As I thought it would be it is well rounded and refined   It s one of the stronger fresh fragrances  I love how they blend the florals with the cinnamon and ambroxin  giving it that ambery   warmth   If you where fragrances for compliments this one   however I where fragrances for aroma therapy   It can be used for any occasion   I didn t find it to be unique when I first applied it but it has depth and layers   It transforms throughout the day getting better on my skin   Also I wouldn t second guess this if I was in a rush being that is very Wearable  I would travel with this fragrance   If I like it after a day   I will love it I will love it in a month  \n",
        "9 10 Ya know  people call these types of scents blue scents  but if I were to attribute a color to a smell it would lean hard into the purple category  Oh well  whatever  \n",
        "Very nice every day scent at a high price  Nice if you can afford that  I can t  so PDM scents are occasional scents for me  and I prefer Layton Exclusif and Carlisle for such purposes  Still  like it very much and prefer it over BdC and other popular designer  blues  by a small margin as it smells more natural  Up to you if it s worth more than twice the price though  discounted   I like fragrance a lot while my wife absolutely loves it on me  and she is always the first one to let me know when she doesn t  of course     \n",
        "As others have said  the fragrance itself is a bit reminiscent of Fierce by A F in the open  but after the initial spray Percival launches itself into the next level with how good this smells in the air   \n",
        "Like many PDM s this excels at producing compliments  and it will keep you smelling fresh for hours  well into the magic dry down   \n",
        "Not an incredibly unique fragrance  but it excels at what it was designed to do  9 10 for me  Original  No  \n",
        "Amazing  Yes \n",
        "It s got it s ups and down but some people downplay it by saying it s really bad and not unique  Tbf most people s signature scent is never unique ones  It s either popular ones or something easy  Percival fits that perfectly  I had a decant of it  at first sniff sure I thought  meh  but let it set in and in time  it gives off whiffs here and there and it is absolutely sensual  It s a blue fragrance that we ve smelled a thousand times  But not quite to the extend of Percival s amazing blend  This is a fragrance that can t go wrong and for all the good reasons  Some say they smell strong chemical in this  I d say nah you tripping  Either you got fake one or bad batch  Because it is soo smooth  you won t really want other blue fragrance after this  And trust me I know my fair share of how chemical heavy fragrance smells  After having 30  designer and niche  I d say you have pretty much developed your nose to some extent  And also I am super picky when it comes to my fragrance  It I do understand not everyone s same  Each to their own opinions but do \n",
        "Try a decant of it a few times  you will keep on thinking about it and ask if you really want to spend 200 quid for a none unique but amazing blended blue fragrance  Well the price point is a bit excessive I ll say that but once I got it  I didn t really regret it  And I guess that s actually a win in the end If you re a person who wears fragrances for compliments I have to say this one is exceptional at getting them  even from people who don t usually compliment fragrances  This outdid years of wearing Creed Aventus in a week  \n",
        "For me the compliments are nice not a necessity  I do like some of the more unusual scents as this is basically a blue designer fragrance with niche quality  So to a fraghead this might be a bit generic and boring but this is an everybody pleaser when you don t wanna be that  oud guy  This is fresh  clean  somewhat shower gel like  I love it for what it is  \n",
        "Would I buy  I own a 125ml bottle\n",
        "Recommended  If compliments are what you re looking for this is a king  if you re looking for something different look elsewhere  ALL of Parfums de Marly fragrances are overpriced  Very few of them  based on reviews I ve found on fragrance websites and videos  are truly original scents  They seem to take original and popular scents and create derivations  not clones  of super high quality  Percival is no exception  but that doesn t mean it doesn t smell amazing  last a long time  and get positive feedback from those around you  All of that being said  if you don t mind paying the extra cash for superior quality then you could argue they are a good value  If you prefer lemon merengue pie at a high end restaurant over a lemon bar from your favorite local bakery  Percival could be a great choice for you  This scent has been done before  just not this well  Percival is one of few colognes I own a bottle of  at the same time It s not one I would immediately think of as one of my favorites  The bottle perfectly represents the juice inside it  pure blue  \n",
        "Percival is a safe bet  It s a mass appealing  familiar  performant blue fragrance and it s the definition of  dumb reach   With Percival you know you ll smell good the whole day  That s why it s one of three full sized 125ml bottles I ve got in my collection  \n",
        "However  the reason I won t immediately think of it as one of my absolute favorites is that it s simply too boring in regards to my other colognes  It s not unique  it s not interesting  but Percival is made to be a mass appealing beast  and damn straight it is  \n",
        "Therefore I think Percival is worth every penny and should be in your collection  One of the best fresh powerhouse perfumes available  Forget those comments about similarities to A F or CK  Percival plays in its own league  Strong  woody citrus with mandarin  jasmine and geranium  Every note plays well  \n",
        "This is a true panty dropper  I worn a sample couple of times and everytime my GF says  Wtf are you wearing  It smells so god damn good  People even take a deeper breath when they walk into this Percival trail  \n",
        "Scent  10 10\n",
        "Sillage  8 10\n",
        "Longevity  8 10\n",
        "Crowd pleaser  10 10 Quite possibly PDM s most versatile offering  Smells like expensive shaving foam  and fragrance enthusiasts will criticize it for that very reason  This is not unique or particularly interesting  Yet  for most people  this will smell great  For a fresh fragrance  it is also incredibly long lasting  I would recommend this to people who primarily like fresh fragrances like Bleu de Chanel and Dior Sauvage and want something slightly more upscale in their collection  You know what  Forget all the comparisons to Montblanc Legend  Abercrombie Fierce  and Chanel Platinum Egoiste  I m a big fan of the aforementioned  especially PE  but regardless of similarities  this is totally unique to my nose  It has managed to wedge way into my rotation at least two to three times a week  I find nothing shower gelish about it  It s rich  aromatic  slightly sweet  and woody  I don t detect the ambroxan at all which makes me think the perfumers that put this together used it to its proper effect  It s admittedly quite a splurge  and who am I to say whether it s worth the price tag or not  but I for one absolutely love this stuff  Is it worthy of a blind buy  I would say no  given the fact that the SAs at either Nordstrom or Nieman Marcus are happy to decant a sample atomizer for you  This smells like a cheap shower gel or deodorant  Not a cheap shower gel I d ever choose to buy  but one that causes flashbacks to deodorant bombed locker rooms from 10 years ago  Calvin Klein Eternity for Men gave me the same flashback  but 100 times worse  That was like the embodiment of cheap old deodorant  This is cheap old deodorant remixed  The whole DNA  probably also including Fierce and Legend  is cursed to me  \n",
        "I like the added spiciness in the base  and don t hate the smell  It s totally fine and I wouldn t bat an eye at someone smelling like this  I d think they were wearing 2  deodorant  Not a 200  niche fragrance  Smelling my skin  I do notice some complexity with fir resin  cinnamon and coriander  Making this very suitable for winter IMO  and possibly even cloying in super high heat  But none of that is enough to offset the connotation with cheap old school hygiene products  \n",
        "Just like Layton and Herod  this has recently been reformulated to boost the synthetics  dilute the naturals and lower the concentration  My sample is only 18  non alcohol  Vol  82    Which makes this an EDT  when you consider that 18  also includes fixatives  preservatives and water  PdM should be truthful about selling EDTs and lower their prices  But they ve stayed hush and continued to sell synthetic sledgehammers for more than what the old natural formulations cost at launch  Not cool  This scent opens up with a clear lavender note  with some supporting bergamot and a little bit of orange \n",
        "What struck me immediately was how fresh and clean this scent smelled  and by clean I mean shower clean  not laundry clean \n",
        "The fir and woodsy notes soon show itself  giving it a more complex scent profile pretty quickly \n",
        "Very safe and nice smelling scent  very inoffensive  not like e g  Sauvage   Office safe too I would say \n",
        "I imagine this working very well during warmer days  and perfect for high heat \n",
        "Smells very masculine  but in a smooth and fresh way  not in an obnoxious or offensive way  \n",
        "Can be used both dressed down  or dressed up during warmer days  Age probably 25   due to the scent feeling quite refined  not very youthful  \n",
        "In the dry down it mostly becomes a woodsy scent  a bit remeniscent of Greenley actually   but without the cashmeran  I like the opening more than the dry down of this one  the first 4 5 hours are definitely the best ones  \n",
        "About the price  I would say you pay for the quality of this one  rather than the originality of the scent  You can smell the quality  but the scent itself isn t revolutionary  \n",
        "Edit  2 months later   I have to update my review  I found out I just keep craving this scent  There really is something about it  I think I underestimated it earlier  This has turned into one of my favourite blue type of scents  a perfect blend of shower freshness  citrus  and fir  I plan to get myself a large bottle of this for the summer  I just love it  It is a very basic fragrance  with very little nuance or originality  But holy shit this just works  A super high quality  zingy  and fresh blue fragrance  A bit boring  a bit pastiche but unbelievable performance  The genius of this fragrance unfolds when smelt in the air  The smell of this wafting through the air is hundreds of times better than any blue fragrance  Classy  not original  but truly just a nice scent  great for high heat and casual situations I think the comparisons to Montblanc Legend and Chanel Platinum Egoiste  both of which are favorites of mine  are exaggerated  The similarities are there  but only on the surface  There s a subtle warmth here  and a sweetness that neither Legend nor PE have  And in terms of potency  there s no comparison at all  This is indeed a beast  If you re trying for the first time  don t get your nose too close to your skin  Give it time to diffuse as it s almost pungent upon application  Yes  it s pricey  but there aren t many fresh fragrances this potent  Truly fantastic stuff  This fragrance is a beast  which is rare for a fresh fragrance  The pleasing top notes stay with the fragrance throughout which is nice  The woody base notes of fir is also very nice  There are so many better summer fragrances than this such  such as D G light blue intense  But if you love the scent  buy it because it lasts a long time  I sprayed it on in the morning before work  and I can get whiffs of it as I am driving home when the heat reactivates the fragrance  The orange  and bergamot lingers for a long time  There is something about this fragrance that is very unique  After reading some of the reviews I decided to compare it to Platinum Egoiste  Bleu EDP  Legend    Yeah they have some similarities  But Percival does EVERYTHING better  And if you can find batches that are more spicy  those are true masterpieces   \n",
        "It has a character  it screams quality and confidence   \n",
        "I was avoiding this perfume for a while because of ambroxan  but I can t smell it in here  So I guess it could suit someone who doesn t like ambroxan   \n",
        "To sum everything up  \n",
        "Must try for hot weather  The best blue fragrance I own  hands down  This is my first Parfums de Marly fragrance and I was stunned with how fresh but long lasting this was  When I first tried this  I was struggling to choose between this one  Greenley  and Sedley  All three were incredible and the sales woman and I were killing time talking notes and talking about the brand itself   \n",
        "The first spray was just relaxing  and you could pick up the lavender and orange  which for freshies are expected  Then after I d say thirty minutes  it begins to settle and throughout the times I put this on  I feel this aroma therapy that s just relaxing and the smell is aromatic and floral  Once the mid notes take over  I could smell the violet especially  and I was still getting some strong whiffs of it 5 hours later  By the 9th hour  it does sit closer to the skin but by then  your day is ending I would imagine   \n",
        "So overall  it is my favorite freshie if we could call it  and you could smell the true artistry and attention to detail  This also did open my eyes to the world of niche fragrances and when someone could take a concept done before and make it into the masterpiece that others have failed to make  The famed chef  Marco Pierre White  once said something along the lines that theory is one thing and execution is another  and it s evident here when comparing the two previous inspirations  Fierce and Legend   \n",
        "Yes  you will get complements with this  My coworkers were just enjoying the smell  but like I was warned  be easy with the sprays  This fragrance will fill a room with more than two sprays  and you can choke people out with it the more you apply  \n",
        "Full disclosure  prior to me buying this  I had only heard of A F Fierce but never got my hands on this one or Montblanc Legend  Now that I own this fragrance  I tested Legend and when I did  it gave me a serious headache with how synthetic it smelled  When I went to an A F store for the first time recently and when it wreaked of Fierce  I couldn t stand the smell with how cheap it was  I was only at the A F store for a good 15 seconds until I walked out  not being able to stand such a synthetic smell  Found a 2 year old sample of this and It still smells like you took the marine notes from Hawas  threw it them into a bottle of fierce and then some amberwood  So in conclusion   the watery notes   the salty rock kind ambroxan from Hawas into Fierce   amberwood  It still smells 70  like fierce but there s a unmistakable salty presence  especially in the opening and then the amberwood supports it  Damn this just got nostalgic  Infact i ordered this sample two years ago THIS FREAKING WEEK   \n",
        "Amberwood is so distinct once you smell it  It has like this sappy green pine resin thing going on  it can go glue like sometimes too but not here  It goes glue like the first few minutes in Armani Code Colonia  Who cares if it smells like montblanc legend or fierce \n",
        "I remembered smelling Abercrombie fierce in the olden days when horny teen girls used to go to Abercrombie to take a photo with those half naked male six pack shop models  The smell of the store sticks to my memory as I see the enormous price tag on those stupid washed out shirts and shorts they sell  However when I smell Percival it brings me back to those memories but its better than I remembered it \n",
        "I remembered fierce as being that overly cloying scent that makes you smell like any other California teen \n",
        "On the other hand  Percival is a slightly mature and grown up Fierce that grew up from that teenager phase and gone to USC to better himself \n",
        "Think of it as Fierce but with extra refinement and beast performance  Have to say that PdM Percival was a strange exprience for me personally  I spray and am almost instantly reminded of how barbershop shaving foam smells  which isn t a bad thing by anymeans but not something i d go for again  It s firmly in the fresh clean catergory which means it s pretty versatile and isn t going to offend anyone but there are probably better ones out there that do this  and at a cheaper price  \n",
        "Performance wise it was ok but not great as it becomes a skin scent pretty quickly  I kind off like The dna that the blue frags have  like Versace Dyllan  Sauvage  Chanel bleu etc  and this sure share the same dna and at the same time is still has a own existens  it leans more to The dior side edt  It has a brighter spark off metal  iff dior is Iron this is silver  Its a rich Nice take on the blue fragrance  \n",
        "Dior and Chanel makes fantastic parfumes that is well worth the price and so is this beuty   it is well blended long lasting and compliments are waiting to happen  i would recomend this over sauvage and Bleu  Versaces dyllan is to diffrent and only dipps Its toe in the blue frag game   It is really boring one  and don t get me wrong  I have Dior sauvage and i really like it much more than this  I didn t find that high quality all people tell  Sure it has some quality comparing with some designers  but here it s on the same step of Dior and Channel blue fragrances   \n",
        "The opening is the worse part for sure  and all Mid and dry dawn is decent \n",
        "longevity  8 5  \n",
        "projection  7  for only first hour and half  \n",
        "Smell  7  smells much more batter on the air    \n",
        "It s not worth the money you pay Parfums de Marly Percival   10 10 \n",
        "Perfume quality vs definition of niche vs price \n",
        "Percival takes the designer DNA of blue shower gel to its absolute pinnacle in terms of smell and performance  yet it gets shot down by the very fact that it s niche branded and thus niche priced  Sometimes niche means unique  sometimes it means obscure and experimental perfume as art  but just as people have come to misuse  it begs the question   or more egregiously  literally   perhaps this confusion literally begs the question of what the term niche actually encompasses  Just as most speakers of the English language are not linguists  scholars  or particularly gung ho about purist definitions  I think we can safely say most wearers of perfume are just casual consumers who view niche as a step up from designer  It s not a stretch to think that people now associate  niche  with  out of my budget but I d really like to try it because I hear it s good   after all  By and large  the success of well known niche houses has convinced people that they do command that price tag for their quality  Thus in a very roundabout way that s my reasoning for why  quality  has infiltrated the bastardized definition of niche that casuals such as myself use   \n",
        "We can tie all this together with the simple idea that even its toughest critic will have to concede that Percival is some quality juice that s better than Fierce Legend  And while it s only marginally better than the cheaper alternatives often suggested  Percival is an absolute banger and I m willing to submit a thesis to defend this gem of an ambroxan baby  Outstanding fragrance  Reminds me of a Niche version of Fierce in a way  Percival has the effervescence from Platinum Egoiste  the aromatics of Fierce  and the   well blue from Bleu de Chanel  Hate it or love it  this is the winning combination that makes Percival the Green Irish Tweed of this generation  10ml Sample\n",
        "Nice easy wearing summer spring scent  \n",
        "Like the other comments mentioned smells like a shower gel or some other designer scent I can t put my finger on however smoother and weaker  \n",
        "Would I get a full bottle  nice enough however probably not  I finally found it  A good Joop Nightflight alternative  Since Nightflight was discontinued  I have been on the search for something that smelled similar  I also can see the resemblance to A F Fierce  I loved it so much I had to buy a backup bottle  It s nice and fresh  Pretty much a shower gel scent  and not much more  but the best one I ve smelled to far  Can I justify the price for smelling like you just got out of the shower  No  not really  But again  it s nice though  Beautiful fresh spring summer scent  This fragrance in my opinion is a great blindbuy if you like fresh citrus fragrances and want to pay a little more money  It last 7 h on my skin and i have a batch from 2022  New batches are very weak  Not worth the hefty pricetag  Im not a fresh scent person  i like spices and dence rich blends  and when ppl said this smelld like a simple blue frag  i was amazed how good it was  the opening is radiant and sparkly mandarin goodness and the scent is strong and spicy  yet retains freshness  this is masterly done  bravo to the creator   Its long lasting and has a great sillage I was utterly blown away by this wonderful fragrance when I smelled it at the boutique  Definitely  a must buy which elucidates the esteem of the Parfums de Marly house  The dry down is fantastic and takes you back to the beach  Wonderfull parfum indeed  Love it  Mass appealing and always a safe bet  Lasts for about 7 hours on me but I ve heard people who get 8 10 hours  Sometimes it can be mistaken for AF fierce but doesn t bother me because I know I m wearing a PDM fragrance  This totally has that addictive  bright  modern thing that Sauvage and Elysium have  I guess it s the ambroxan  but this is so nice and one of my favorite blue fragrances This is a 10 10 for a lot of ladies  Guys are the only ones complaining about it  There s definitely quality to it as all PDM s do but it is boring and overpriced for what it is  \n",
        "Edit  more I wear it the better it gets  it s indeed a nice easy scent very similar to Mancera Black Gold but more tame  I really like the fresh lavender  cinnamon combo on a summer afternoon and this fits the bill and performs well  But still  it shouldn t cost the same as other PDM s that are far better and more unique  It starts with the smell of oranges  Overall  a popular perfume  It has a good smell and is mostly based on orange and lavender    \n",
        "                                                                                                               Chanel platinum egoiste 100  same dna  \n",
        "but more up to date and smells more of a young demographic than Platinum  Platinum is in my opinion 35 and up and percival is any age demographic do to modern touches and being refined  Absolute incredible banger  Perfection  It is ridiculously beautiful  Smells masculine  classy  and mature  It smells like you reached the highest level in the fragrance world  You made it  I absolutely love it  Nope nope nope nope  it s beautiful on a paper strip  100  car air freshener on my skin  very disappointed    Three unsolicited compliments within a space of 1hour today  edit  it s not just another blue boy  it s my  1 favorite blue boy  \n",
        "spray it alllll over yo sexy ass for all damn day freshness     Ambroxan heavy drydown  a little harsh for a niche fragrance  not for me  But if you like the fierce DNA this is very good  fresh  masculine  mass pleasing and long lasting  This is one of my most favorite perfumes  smells really good and fresh  has awsome longevity and makes me feel good every time i wear it  It almost gives you a kick of energy unlike any of my other perfumes  Comparing this to MB Legend or Fierce is like comparing lemons and oranges  To some they seem similar because of backbone ancient ancestry  but have since departed so fundamentally they no longer share important common ground  Percival is the endpoint of the DNAs evolution while Legend still struggles with a stick as a neanderthal  I think I am anosmic to some important bits of this perfume  I get very faint Vodka On the Rocks by Kilian kinda vibe   but i have to dig my nose into my skin to smell it   I don t smell anything making a scent bubble  And I have tried a bunch of different bottles of it   This smells like MB Legend on steroids  Performance is great  and dry down is to die for  It definitely has that clean  shower gel vibe  but in the best way imaginable  Extremely versatile  don t regret blind buying at all Smells like MB Legend  Yes  But I d pick this over Legend anytime because of the better quality  Better version of MB Legend  Initial impression is sadly the same   so 2  deodorant  \n",
        "After a while it get s better  The drydown smells of better quality and gives a cozy feeling \n",
        "Nevertheless i am struggling with giving it a Like since it has a lot of copy paste from MB Legend     Gorgeous  Stays on your skin for ages  But i feel like this perfume has gotten pretty repetitive and rich kids in their Ferrari s are starting to buy from this brand even more  so its slightly ruining it for me Generic  but in a good way  This is my perfect signature scent   \n",
        "If I had to pick only one fragrance to live with for the rest of my life it would be Percival  My incompetence to find the perfect scent for myself ended when I smelled this  I can finally put my fragrance addiction to rest  Smells like a high quality teenage fragrance Classic and elegant \n",
        "Longevity is moderate to me  3 4hours of performance in total  which in the first two it projects like crazy \n",
        "Imo it s definitely worth it  does a great job for a freshie  and is a great compliment getter  I have 2   2018 bottles  safe to say it will take me a while to use them  I just like it and goes well all year round  plus good performance  People say this is generic blah blah blah    I mean sauvage   bdc  and a lot others is generic also        this is a great office and casual fragrance  the performance is super long lasting and projection is great also  This is super masculine and a true defenition of compliment getter   defenitly underrated forsurely 10 10 for me Smells good  performs well  is versatile   but I have trouble getting past the fact that this smells like you re walking past the Abercrombie store inside a shopping mall  Very Synthetic and reminiscent of an American Eagle Abercrombie and Fitch style of frag which I find suprising for a Niche House  Im a younger guy and I like how this smells but when you think about it is this a fragrance that Parfums De Marly really should have in their lineup  I just think this fragrance is out of place coming from a niche house  Your likley better off buying Fierce for the 30 bucks if you want this DNA  Smells similar to Marc Antoine Barrois Encelade B683  Encelade has a stronger smell  A shower gel scent at a niche scent price point  Not bad for a generic freshie  if that is what you are in to  and if money is no object  I love this    It smells like Jean Paul le Beau 2013 version    It s just so expensive tho  I bought a new Percival in store  Really liked the smell but after a couple of hours he barely is a skin sent  And it looks like it is pretty linear  Are the new batches reformulated or what  What is going on  I m kinda dissatisfied    Good but not great   it starts with a nice bright citrus opening   although aquatic note is not mentioned in the composition  this perfume definitely carries a clean aquatic marine scent   the lavender touches here is very nice and not over  so this will avoid the perfume from going to a fougere   which is nice \n",
        "The scent is common summer scent  but the quality is very good I get the most compliments from this  Most importantly  Percival works excellent with my body chemistry  I have Allure Homme Sport Eau Extreme and I suddenly see similarities after reading the comment below this by gapFox  There is a slight similarity  but Percival is much better overall  I have a decant  will buy the bottle soon  Pretty enjoyable scent  i can see why this is compared to a f fierce and montblanc legend  Similar scent with higher quality ingredients  I wouldn t make the purchase for that very reason  It isn t like aventus where many clone companies try and fail to replicate it  Those 3 are genuinely similar to warrant spending the extra     \n",
        "7 5 10 wouldn t go full bottle tho I don t know how but this has climbed my ranks above Layton  Absolutely love wearing it  Guess it s the  dumb reach  appeal  Smells good  Performs good  \n",
        " UPDATE  been wearing Layton a lot more lately since the weather is more permissive and I think I need to retract my statement about this being above it LMAO This is a serious compliment puller  reminds me of Fierce but more mature  I could easily say this one is probably my wife s favorite on me  I love the smell of this scent  but my gf literally couldn t smell it right after application and after 3 4 hours had almost completely disappeared  Smells like a matured  more refined Fierce  Suitable for all seasons  although I would only wear it at night in the summer  I wouldn t wear this to work  but this is signature worthy  date night worthy  suitable for casual wear  Layton receives a lot of attention  but Percival is my favorite from the house of PdM  9 10 Very nice   very likable scent  Fresh and clean aromatic sweet blue  \n",
        "But I think they should ve added some twist to this scent profile  something extra to make it worthy of purchasing   just like what they ve done with some of their previous perfumes  My bottle s batch code also starts with 1  probably a 2021 batch  \n",
        "Performance is average  Very good for the first hour  sits close to the skin for the second  almost gone after 4 hours  \n",
        "Smells really good though  Lol  theyve never carried Parfums De Marly at Macys  Nordstroms perhaps  but you cant get this at Macys  I got a sample of this and it s a bit lack luster for me  It s pleasant but it doesn t do anything different  I m glad I didn t blind buy the full bottle like I usually do  I did the same thing with tiziana terenzi foconero  Bought it blind and it s basically the same fragrance so I barely wear it  This is a perfect summer or spring day time fragrance  Very easy to like  this draws a ton of compliments  The opening of this is good  but the mid and deep dry down are absolutely beautiful  I love this stuff   Eduuram Great Analogy  I couldn t agree with u more There are white T shirts for  8 and white T shirts for  150  They look  similar   \n",
        "That applies 100  for perfumes  \n",
        "Choose what you want to wear     Female s opinion  Fresh  water y  herbal  likeable  Smells like walking by Abercrombie at the mall in the 90s  My husband wasn t into it for that reason   he said it was too much like a cologne he had when he was younger and he just couldn t go back  I didn t have that association though and overall really liked it  Parfums de Marly has a GREAT selection of men s fragrance  The back of the tester bottles mentions a few others  one being Ice Flower which I believe is the hedione  I don t remember the others that were on the bottle because its been a few months since I saw it at Nordstroms  but that one stuck out because I remember thinking WTF is ice flower  Exactly    Thats what i mean    \n",
        "The only credible description of notes is the one from the oficial website  \n",
        "All the other ones are personal perceptions of  smell like   and this is subjective and varies from person to person  \n",
        "There is none of the middle notes listed here in Fragantica  Cinamon  Jasmine  Hedione and Coriander  And no Ambroxan  PdM lists the following on their website  \n",
        "Olfactive notes \n",
        "Top Notes\n",
        "Bergamot  Mandarin  Pink Pepper \n",
        "Heart Notes\n",
        "Lavender  Geranium  Cardamom \n",
        "Base Notes\n",
        "Balsam fir  Woody spices  Tonka Bean \n",
        "Best time to wear  A fresh scent to wear during a warm day of spring or summer Ive just bought a bottle of Percival  pDM  and ive noticed that the info of notes on their website differs complety on what is described here in Fragantica  Its missing many of the components that you ve included  Ambroxan  Jasmin and Hedione for example  \n",
        "Ive asked their customer service and they said that there isnt any of these in the composition and their description is accurate  \n",
        "Can someone clarify  A nice clone of Eau de Passion Fresh  musky  long lasting  I know people call it basic  but it s quality juice compared to Mont Blanc  I guess it s a toss up depending on what you want  I prefer to pay extra for quality juice that lasts 8 10 hours  I have a tester with the note breakdown  The notes on this site differ  My bottle lists  \n",
        "Top  Mandarin  Bergamot\n",
        "Heart  Peony  Ice Flower  Lavender\n",
        "Base  Amber  Nutmeg  Coriander  Cardamom  Tonka If YSL Y EDP and Mont Blanc Legend were combined into one fragrance  this is what that would smell like  if you re looking for your first Parfums De Marley purchase  it should be Percival  It s very versatile and fresh and the performance is crazy good  Highly recommended  This is a must have  strong  long lasting and easy to wear  Worth the price  Not the retail  but it s definitely something that could be used daily  Always gets compliments  Really nice fougere fragrance with a modern twist from the amberwood  Woody  fresh   spicy  This isn t a  blue fragrance  like the color of the bottle suggests  As some reviews suggest  to me  this doesn t smell at all like Platinum Egoist  All year round smell and also nice as signature smell  Smells similar to Platinum Egosite by Chanel  This isn t a  blue  fragrance  this is  Fougere   Calling this blue would be like calling Platinum Chanel blue lol   \n",
        "Dont get fooled by the blue bottle  please  Sampled this and it smells exactly like a body wash my dad uses  Maybe Irish spring  Don t remember but this smells like they took the fragrance from that body wash and just made it stronger and expensive  Not a fan of smelling like shower gel  I d rather just buy the shower gel itself  No denying this is a great blue fragrance  but considering the price you could get 2 bottles Chanel Bleu parfum which is a superior fragrance in my opinion  These are the things you should know about this perfume  \n",
        "Percival is not a clone of A F but similar   \n",
        "Extrmely versatile \n",
        "Percival has great performance unlike A F Fierce \n",
        "Will get you women s compliments as it smells really good  Thats the niche and refined quality of hot summer fresh fragrance \n",
        "What is the most important aspect of that fragrance is the projection and performance  I can certainly see why some people knock on this one for its similarity to other cheaper frags  but I do really enjoy it  Great for warm weather  fairly versatile in terms of occasions  Performance is excellent for this type of fragrance and would be the main reason it s worth it in my opinion  Not my favorite PDM but still one I go back to time and time again in the warm weather  ive owned some of PDM such as   Herod  Layton  Layton Exclusif  Pegasus  But this one smells way too synthetic for me  feels like cheap 30 or 50 dollars Designer Perfumes for me  This one is a big no  Smells like a Niche blue fragrance  Don t overthink this one  It s a step above Bleu de Chanel imo  Don t pay full price  My old co worker said this gave her   douchey ex boyfriend vibes   I feel inclined to agree  This is a fuckboy supreme scent  and it ll do its job well  Just as  Elite Gentleman says  Percival is not very unique or something new  but it just works  You smell very fresh for a very long time  It is impressively good for being what it is  which is a long lasting versatile freshie  But most people will ignore this gem because it is not a typical heavy PDM fragrance  Anyway  I highly recommend Percival     Percival   PDM s take on a synthetic  blue fragrance  I Love it    It s so basic Lavender   Ambroxan it s amazing  Age doesn t matter with this one mature or young your gonna smell good  I get the A F Fierce vibe and the cheap shower gel feel but it separates itself from sauvage and the other blue ambroxan fragrances just enough to be unique  IMO this is the best casual blue fragrance there is  10 10 It s an ok PDM  Nothing less  nothing more  \n",
        "Every time I smell it  It reminds me of when I was 15 and bought Hugo Boss Hugo Man  canteen bottle with the green cap   This smells so much like Hugo Boss Hugo Man it s almost scary  It s just a higher quality version  When I wear this out I feel like an alpha chad superstar athlete  Basic girls go crazy for this one  Better than the current formulation of Fierce  and better than MBL overall  This is a nice woody  spicy  fresh fragrance  However  it is a total mainstream bro fragrance  But for whatever reason  I enjoy this take the best   \n",
        "And it has beastly performance  Imagine montblanc legend EDP or fierce  but of a superb quality with added spices  That is what I get  this is a spring summer staple in my collection  It is priced a little high  but the quality certainly speaks for itself when you compare it to legend or fierce side by side  Overall a solid choice if you love that fierce dna  Wow   no  smells like  votes for Tom Ford Fougere Argent  huh  That s what I smell  a bit less natural but better longevity with the PDM and overall better scent IMO as well  This isn t really my genre   these types of barbershop fougeres are almost always too   reassuring and old world stable I guess is the way I d put it   not very heart racing enough for me   but If you do like that then this is a very good one because the performance is good  A nice one fresh opening  Dryout into direction of Le Male or Blue de Channel  Easy one  Smells and dries different on skin and clothes  more spicy and  drilling  on clothes   Like all PDM beast performance  Overpriced as there is plenty of similar perfumes on the market  Not sure if worth to buy  Worth to smell once or twice Just released a review of this on my Youtube  Rotten Rebel   \n",
        "This is simply put an amazing fresh and sweet fragrance \n",
        "It s a sweet  spicy  woody and fresh dry down on musk and it s so good  \n",
        "The sweetness is attractive  the balsam fir gives it this spicy kind of freshness and the woody side of it together with the musk completes the blend in a beautiful way  \n",
        "Love it  And oh my   The compliments   Very youthful and definitely a crowd pleaser  This is a more zingy  less green Chanel Ego ste Platinum  so a modern take on the barber shop style  But like other reviewers have pointed out  the price point is niche whereas this smells designer  I recommend Perfume Parlour s clone Pierce 1984  which is just as good in terms of scent and performance  yet at a fraction of PDM s price  I liked it at first  but as it settled  it started to smell very familiar  It took me a while  but I finally realized that it reminded me of the A F store at the mall   \n",
        "I still think it smells good  but I can t imagine paying  300 to smell like a store at the mall  It s ok but smells synthetic  It reminds me of a deodorant that smells similar to this but I forgot the name  In my opinion  there is no room for a comparison with Bleu de Chanel  Chanel is way more better and less expensive  Smells like a lot of cheaper designer fragrances but a little more potent juice  It s a lot of synthetic aroma chemicals with a dash of synthetic lavender and fir  nothing unique or mind blowing here  nor worth saying much about   \n",
        "Similar to a lot of blue fragrances  Bleu de Chanel is richer and does it better for half the price  or Dylan Blue for 1 4 or less the cost  Percival is a hard pass for the price  It just dawned on me that this is marketed to women as well as men  Don t think half people realise that this is not trying to be a niche take on a males blue designer fragrance but rather a niche take on something like CK one  I love this very fresh and dose lean more on the masculine side  I remember the Nivea for men face creams and washes having some resemblance back in the early 00s  Its a good fragrance in my opinion Amazing fragrance  A much deeper fragrance than a  designer fragrance   The quality is fantastic right from the start and it only gets better during the drydown  Just smell the drydown on the atomiser  fantastic  \n",
        "Underrated fragrance  \n",
        "10 10 Compliments to the core   Currently have 3 bottles of this stuff as back up   This is a scent that is easily digestible for the mass crowd   Designer smelling   yet niche quality   All I can say is this feels like Montblanc individuel slapped with Parfums de marly DNA  Overrated on youtube  Don t blind buy  Try it first  It s OK  not too special \n",
        "Nothing like Bleau de Chanel I very much find it similar to Bleu de Chanel parfum personally  It does have stronger projection though  I do like this smell  Yes it s been done  a lot  Yes it is a niche perfumer making a designer style fragrance and it is a little boring  However  it s biggest sin is that it is virtually indistinguishable from Mont Blanc Legend at more than four times the price  If I thought for a second it was worth the money I would say so  It s not  Save your money and buy Legend instead  Nobody will ever know the difference  It smells great  Reminiscent of Egoiste Platinum from Chanel  But it also is more appropriate for women  Not a true UNISEX fragrance  I give it a perfect score nevertheless because it just do what it s supposed to  10 10 Smells like Montblanc Legend Intense  which smells like some kind of Right Guard deodorant    Basically  this smells like deodorant  Amazing fragrance 5 10 Without asking or Overspaying  this Fragrance has given me the most compliments ever   not even a contest   \n",
        "Yes  it has strong Chanel Platinum Egoiste or Mont Blanc Legend Vibes \n",
        "Chanel Platinum Egoiste or Mont Blanc Legend are like Ferrari or Red Bull   you can win a race  \n",
        "But Percival is like Mercedes AMG Petronas  you ll most likely win the championship  C P 71 maybe  But PDM official website doesn t mention that  as well as store tester stickers  I can t usually stand ambroxan on me  so even if there is some  my nose doesn t catch it haha   Al Green   there is most definitely ambroxan in this       This is very generic and boring freshie  Pass This is a fresh blue scent  but there is something in this one  also in Platinum Egoiste  that is very off putting to me  Could just be my body chemistry  but I honestly get a bit of a headache from it  This is the only let down I ve had with PdM so far  \n",
        "Scent  1 5\n",
        "Longevity    scrubber for me\n",
        "Sillage    scrubber for me Nothing special about this  It has a nice citrus opening and then just smells like a designer fragrance with a cliched  boring cedar dry down  There s some weird note in this as well that I don t like  I find this Percival a good fragrance for what it is but I dont think its whort it  To my nose it smells way to similar to Legend  If you want Percival just buy Legend  it costs a fraction and in the air they are practically identical  Def smells very similar to Chanel Platinum Egoiste but if you can get it for a nice deal then go for it  If you re willing to pay retail for it then I d say get a different PDM that is a bit more unique Sure  It smells similar to many other popular fragrances but show me one that smells this high quality with natural ingredients  This is undeniably the king of this particular DNA  which definitely justifes the price  especially when it s discounted  It smells absolutely wonderful and extremely versatile for all seasons and occasions  A high quality fresh  shower gel type scent  Probably the best of its class but it s somewhat boring to me  As with all PdM scents it s well blended and smells of high quality ingredients  I m left wishing it had a bit more spice in the opening and a bit more musk in the drydown  but that s not what it was designed to be  I ll finish my 10ml and probably won t revisit this one  The scent is nice  but the performance is just not there even as an oversprayer  Would caution to just buy for yourself and at a good value price   IIDXRisilm stole words right out of my mouth regarding this fragrance  12  hours  Salty elite blue  Great easy to wear fresh citrus  lavender  woody scent  Far better than Sedley  which just smells like basic drug store bug spray  Blended beautifully  High end blue fragrance with a very nice amber and citrus blend  Thanks to the owner of perfume center  Bangladesh  he pushed me to purchase it  D and I m happy with his recommendation  Amazing with my skin  From the first spray  starts its joyful play  Citrus  Lavender  Coriander  Geranium  Jasmin touch my nose when sniffing     amazing composition with super blending\n",
        "Projection 7 5\n",
        "Longevity 7 5\n",
        "Silage 7 All about the sillage with this one  Just another blue up close  but the way this fills a room sets it well apart from the rest'''"
      ],
      "metadata": {
        "id": "9v5qDekK0b6J"
      },
      "execution_count": 52,
      "outputs": []
    },
    {
      "cell_type": "markdown",
      "source": [
        "### 다시 돌아와서"
      ],
      "metadata": {
        "id": "hRX5dg850uV5"
      }
    },
    {
      "cell_type": "code",
      "source": [
        "doc = nlp_ner(text)"
      ],
      "metadata": {
        "id": "MNZP9LSHvSNE"
      },
      "execution_count": 53,
      "outputs": []
    },
    {
      "cell_type": "code",
      "source": [
        "spacy.displacy.render(doc, style=\"ent\", jupyter=True)"
      ],
      "metadata": {
        "colab": {
          "base_uri": "https://localhost:8080/",
          "height": 87
        },
        "id": "XUSXCM8kwD8G",
        "outputId": "1338676d-931f-4708-99e4-bc0247a47fa7"
      },
      "execution_count": 54,
      "outputs": [
        {
          "output_type": "display_data",
          "data": {
            "text/plain": [
              "<IPython.core.display.HTML object>"
            ],
            "text/html": [
              "<span class=\"tex2jax_ignore\"><div class=\"entities\" style=\"line-height: 2.5; direction: ltr\"> There was nothing special about this to me  I have over 50 fragrances in my collection and this one is not a standout by any means  It s average at best  It s a basic \n",
              "<mark class=\"entity\" style=\"background: #ddd; padding: 0.45em 0.6em; margin: 0 0.25em; line-height: 1; border-radius: 0.35em;\">\n",
              "    woody\n",
              "    <span style=\"font-size: 0.8em; font-weight: bold; line-height: 1; border-radius: 0.35em; vertical-align: middle; margin-left: 0.5rem\">FRAGRANCE</span>\n",
              "</mark>\n",
              " scent and doesn t last long either   maybe 2 3 hours on my skin  Perhaps it last longer and projects better when sprayed on clothing  I didn t like it enough to keep it so I m returning exchanging it  </div></span>"
            ]
          },
          "metadata": {}
        }
      ]
    },
    {
      "cell_type": "markdown",
      "source": [
        "https://github.com/explosion/spaCy/blob/master/spacy/ml/models/parser.py 소스코드임"
      ],
      "metadata": {
        "id": "uUdGWoDszJyn"
      }
    },
    {
      "cell_type": "code",
      "source": [
        "doc.ents # 1번째 향수 리뷰데이터 10개(5 train, 5 validation)를 토대로, 2번째 향수 데이터 전체에 대해 NER한 반환값"
      ],
      "metadata": {
        "colab": {
          "base_uri": "https://localhost:8080/"
        },
        "id": "PwVBORI0xhnm",
        "outputId": "b4366bd9-cfe8-4b2b-f089-0fccc1984553"
      },
      "execution_count": 55,
      "outputs": [
        {
          "output_type": "execute_result",
          "data": {
            "text/plain": [
              "(woody,)"
            ]
          },
          "metadata": {},
          "execution_count": 55
        }
      ]
    },
    {
      "cell_type": "code",
      "source": [
        "frag_entity = doc.ents"
      ],
      "metadata": {
        "id": "h-98D2C3xczW"
      },
      "execution_count": 56,
      "outputs": []
    },
    {
      "cell_type": "markdown",
      "source": [
        "# 향기(fragrance) entity에 해당하는 단어들은, 단순히 \"추출\" 된 상태임. \n",
        "\n",
        "# 이게 무슨말이냐면, Contextual Embedding이 안되어있다는 얘기임."
      ],
      "metadata": {
        "id": "w9zkHWM44IgR"
      }
    },
    {
      "cell_type": "markdown",
      "source": [
        "# 생각해본 방향성?\n",
        "\n",
        "🤖 BERT,ELMO 로 Contextual Embedding 을 한 다음에, NER로 추출된 단어들의 임베딩으로 인덱싱해서 불러오면, \n",
        "\n",
        "(1) 전체 문맥을 고려한 (2) fragrance(향기)관련 단어들만 뽑아쓸수 있지 않을까\n"
      ],
      "metadata": {
        "id": "dHjaxnSg01hA"
      }
    },
    {
      "cell_type": "markdown",
      "source": [
        "# Model : DL using Transition Dependency Parsing"
      ],
      "metadata": {
        "id": "mP6ybc7P1b-q"
      }
    },
    {
      "cell_type": "markdown",
      "source": [
        "⭐ **쉽게 말하면, 문장의 구조 보다 \"단어간 관계\"에 집중하여 위계화한 결과**"
      ],
      "metadata": {
        "id": "ooE0HKq835xR"
      }
    },
    {
      "cell_type": "markdown",
      "source": [
        "https://velog.io/@tobigs-text1415/Lecture-5-Linguistic-Structure-Dependency-Parsing"
      ],
      "metadata": {
        "id": "RUPJF9ME23NI"
      }
    },
    {
      "cell_type": "markdown",
      "source": [
        "Transition-based dependency parsing은 두 단어의 의존 여부를 차례대로 결정해나가면서 점진적으로 dependency structure를 구성해나가는 방법입니다. 이와 달리 Graph-based는 가능한 의존 관계를 모두 고려한 뒤 가장 확률이 높은 구문 분석 트리를 선택하는 방법입니다."
      ],
      "metadata": {
        "id": "eXi-H-js2MY4"
      }
    },
    {
      "cell_type": "markdown",
      "source": [
        "![image.png](data:image/png;base64,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)"
      ],
      "metadata": {
        "id": "3q8r_TNW2OfI"
      }
    },
    {
      "cell_type": "markdown",
      "source": [
        "해당 spacy 모듈에서 사용하고 있는 parsing은 NN방식 dependency parsing 임. dependency parsing 에서 가장 뛰어난 성능을 보여준 모델"
      ],
      "metadata": {
        "id": "6JXyvXr33jRJ"
      }
    },
    {
      "cell_type": "markdown",
      "source": [
        "요약:\n",
        "\n",
        "Parsing에는 크게 두 가지 방식이 있는데 하나는 문장의 구성을 바탕으로 파악하는 Constituency parsing과 단어들의 의존성에 기반하여 분석하는 Dependency parsing이 있다. 최근에는 Dependency parsing이 관심을 받고 주목받고 있다.\n",
        "\n",
        "Dependency parsing은 크게 Transition-based와 Graph-based 2가지 방식으로 진행할 수 있다. Transition based의 경우, 분석 속도는 빠르지만 정확도는 떨어지지만 반대로 Graph based의 경우, 분석속도는 느리지만 정확도가 좋다고 한다.\n",
        "\n",
        "최근에는 Neural Dependency parsing 방법이 만들어지면서 다시 한 번 발전하게 됐다. 위의 두 가지 방식의 장점들을 모두 가진 모델로 기본적인 Neural Network의 구조를 가지고 있다. 또한 word, POS tag, arc-label간 상호작용을 반영할 수 있는 cube function을 사용지만 이는 엄밀히 수학적 증명이 이루어지진 않았다.\n",
        "\n"
      ],
      "metadata": {
        "id": "3RA9CJFe3t3h"
      }
    },
    {
      "cell_type": "markdown",
      "source": [
        "## 짧은 문장 NER 예시\n"
      ],
      "metadata": {
        "id": "LJFsLVdeCdFG"
      }
    },
    {
      "cell_type": "code",
      "source": [
        "small_sample = '''I want floral based soapy fragrance. And I want bad longevity. I want to use in summer. I hope it doesn't smell long and volatized quickly.'''"
      ],
      "metadata": {
        "id": "TPxeT1anCg_f"
      },
      "execution_count": 61,
      "outputs": []
    },
    {
      "cell_type": "code",
      "source": [
        "doc_example = nlp_ner(small_sample)"
      ],
      "metadata": {
        "id": "z4UPDQeBDENw"
      },
      "execution_count": 62,
      "outputs": []
    },
    {
      "cell_type": "code",
      "source": [
        "spacy.displacy.render(doc_example, style=\"ent\", jupyter=True)"
      ],
      "metadata": {
        "colab": {
          "base_uri": "https://localhost:8080/",
          "height": 52
        },
        "id": "cLPMpsDrDjbP",
        "outputId": "23755dc5-fbc7-490f-cad8-668a76131630"
      },
      "execution_count": 63,
      "outputs": [
        {
          "output_type": "display_data",
          "data": {
            "text/plain": [
              "<IPython.core.display.HTML object>"
            ],
            "text/html": [
              "<span class=\"tex2jax_ignore\"><div class=\"entities\" style=\"line-height: 2.5; direction: ltr\">I want floral based \n",
              "<mark class=\"entity\" style=\"background: #ddd; padding: 0.45em 0.6em; margin: 0 0.25em; line-height: 1; border-radius: 0.35em;\">\n",
              "    soapy\n",
              "    <span style=\"font-size: 0.8em; font-weight: bold; line-height: 1; border-radius: 0.35em; vertical-align: middle; margin-left: 0.5rem\">FRAGRANCE</span>\n",
              "</mark>\n",
              " fragrance. And I want bad longevity. I want to use in summer. I hope it doesn't smell long and volatized quickly.</div></span>"
            ]
          },
          "metadata": {}
        }
      ]
    },
    {
      "cell_type": "code",
      "source": [
        "doc_example.ents"
      ],
      "metadata": {
        "colab": {
          "base_uri": "https://localhost:8080/"
        },
        "id": "2jdRozpLDnhQ",
        "outputId": "dd4f9c69-f440-4d49-e6bc-5daec6f1b818"
      },
      "execution_count": 64,
      "outputs": [
        {
          "output_type": "execute_result",
          "data": {
            "text/plain": [
              "(soapy,)"
            ]
          },
          "metadata": {},
          "execution_count": 64
        }
      ]
    }
  ]
}